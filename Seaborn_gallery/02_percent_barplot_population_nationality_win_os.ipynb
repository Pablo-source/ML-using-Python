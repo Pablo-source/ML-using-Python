{
 "cells": [
  {
   "cell_type": "markdown",
   "metadata": {},
   "source": [
    "# Demography "
   ]
  },
  {
   "cell_type": "markdown",
   "metadata": {},
   "source": [
    "This first chart will explore evolution of the Spanish population by nationality. Describing total population and non spanish nationals figures. We will compute the percentage of foreign nationals from the total population by year. "
   ]
  }
 ],
 "metadata": {
  "language_info": {
   "name": "python"
  }
 },
 "nbformat": 4,
 "nbformat_minor": 2
}
