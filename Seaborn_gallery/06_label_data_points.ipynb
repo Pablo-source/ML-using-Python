{
 "cells": [
  {
   "cell_type": "markdown",
   "id": "69b1f4ba",
   "metadata": {},
   "source": [
    "## Adding labels to Seaborn plots"
   ]
  },
  {
   "cell_type": "markdown",
   "id": "ed81a68d",
   "metadata": {},
   "source": [
    "**AIM**: This workbook describes how to include labels to Seaborn line charts"
   ]
  },
  {
   "cell_type": "markdown",
   "id": "e08b7283",
   "metadata": {},
   "source": [
    "### 1. Load required libraries"
   ]
  },
  {
   "cell_type": "code",
   "execution_count": 1,
   "id": "9472c6dd",
   "metadata": {},
   "outputs": [],
   "source": [
    "# Pandas and os for data ingestion and file manipulation\n",
    "import pandas as pd\n",
    "import os"
   ]
  },
  {
   "cell_type": "markdown",
   "id": "88258fc5",
   "metadata": {},
   "source": [
    "Loading also specific Seaborn libraries"
   ]
  },
  {
   "cell_type": "code",
   "execution_count": 2,
   "id": "a923fbe8",
   "metadata": {},
   "outputs": [],
   "source": [
    "import seaborn as sns\n",
    "import matplotlib.pyplot as plt \n",
    "sns.set_theme(style=\"darkgrid\")"
   ]
  },
  {
   "cell_type": "markdown",
   "id": "bef924a9",
   "metadata": {},
   "source": [
    "### 2. Build path to project folder "
   ]
  },
  {
   "cell_type": "markdown",
   "id": "36360993",
   "metadata": {},
   "source": [
    "In this section, I build the path to the \\data project folder where I can load any .xlsx or .csv file into Python."
   ]
  },
  {
   "cell_type": "code",
   "execution_count": 5,
   "id": "df8e9bba",
   "metadata": {},
   "outputs": [
    {
     "name": "stdout",
     "output_type": "stream",
     "text": [
      "My working directory is: /home/pablo/Documents/Pablo_zorin/VS_Python_GitHub_Pablo_source/ML-using-Python/Seaborn_gallery\n"
     ]
    }
   ],
   "source": [
    "my_wd = os.getcwd()\n",
    "print(\"My working directory is:\",my_wd)"
   ]
  },
  {
   "cell_type": "markdown",
   "id": "b83600aa",
   "metadata": {},
   "source": [
    "- I need to change default WD to ML-using-Python folder to access \\data sub-folder to ingest Excel file called \"INE total and foreign population figures Spain.xlsx\""
   ]
  },
  {
   "cell_type": "code",
   "execution_count": 7,
   "id": "905ea4d6",
   "metadata": {},
   "outputs": [
    {
     "name": "stdout",
     "output_type": "stream",
     "text": [
      "My Python project folder is: /home/pablo/Documents/Pablo_zorin/VS_Python_GitHub_Pablo_source/ML-using-Python\n"
     ]
    }
   ],
   "source": [
    "ML_using_Python_folder = os.path.join('/home','pablo','Documents','Pablo_zorin','VS_Python_GitHub_Pablo_source','ML-using-Python')\n",
    "print('My Python project folder is:',ML_using_Python_folder)"
   ]
  },
  {
   "cell_type": "markdown",
   "id": "19a446ee",
   "metadata": {},
   "source": [
    "- Then change default folder to this /ML-using-Python folder"
   ]
  },
  {
   "cell_type": "code",
   "execution_count": 10,
   "id": "9dfb0928",
   "metadata": {},
   "outputs": [],
   "source": [
    "os.chdir(ML_using_Python_folder)\n"
   ]
  },
  {
   "cell_type": "code",
   "execution_count": 11,
   "id": "ee15b675",
   "metadata": {},
   "outputs": [
    {
     "name": "stdout",
     "output_type": "stream",
     "text": [
      "Changed default working directory to: /home/pablo/Documents/Pablo_zorin/VS_Python_GitHub_Pablo_source/ML-using-Python\n"
     ]
    }
   ],
   "source": [
    "new_wd = os.getcwd()\n",
    "print(\"Changed default working directory to:\",new_wd)"
   ]
  }
 ],
 "metadata": {
  "kernelspec": {
   "display_name": "Python 3",
   "language": "python",
   "name": "python3"
  },
  "language_info": {
   "codemirror_mode": {
    "name": "ipython",
    "version": 3
   },
   "file_extension": ".py",
   "mimetype": "text/x-python",
   "name": "python",
   "nbconvert_exporter": "python",
   "pygments_lexer": "ipython3",
   "version": "3.12.9"
  }
 },
 "nbformat": 4,
 "nbformat_minor": 5
}
