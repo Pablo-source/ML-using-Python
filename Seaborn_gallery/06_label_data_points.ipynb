{
 "cells": [
  {
   "cell_type": "markdown",
   "id": "69b1f4ba",
   "metadata": {},
   "source": [
    "## Adding labels to Seaborn plots"
   ]
  },
  {
   "cell_type": "markdown",
   "id": "ed81a68d",
   "metadata": {},
   "source": [
    "**AIM**: This workbook describes how to include labels to Seaborn line charts"
   ]
  },
  {
   "cell_type": "markdown",
   "id": "e08b7283",
   "metadata": {},
   "source": [
    "### 1. Load required libraries"
   ]
  },
  {
   "cell_type": "code",
   "execution_count": 1,
   "id": "9472c6dd",
   "metadata": {},
   "outputs": [],
   "source": [
    "# Pandas and os for data ingestion and file manipulation\n",
    "import pandas as pd\n",
    "import os"
   ]
  },
  {
   "cell_type": "markdown",
   "id": "88258fc5",
   "metadata": {},
   "source": [
    "Loading also specific Seaborn libraries"
   ]
  },
  {
   "cell_type": "code",
   "execution_count": 2,
   "id": "a923fbe8",
   "metadata": {},
   "outputs": [],
   "source": [
    "import seaborn as sns\n",
    "import matplotlib.pyplot as plt \n",
    "sns.set_theme(style=\"darkgrid\")"
   ]
  },
  {
   "cell_type": "markdown",
   "id": "bef924a9",
   "metadata": {},
   "source": [
    "### 2. Build path to project folder "
   ]
  },
  {
   "cell_type": "markdown",
   "id": "36360993",
   "metadata": {},
   "source": [
    "In this section, I build the path to the \\data project folder where I can load any .xlsx or .csv file into Python."
   ]
  },
  {
   "cell_type": "code",
   "execution_count": 3,
   "id": "df8e9bba",
   "metadata": {},
   "outputs": [
    {
     "name": "stdout",
     "output_type": "stream",
     "text": [
      "My working directory is: /home/pablo/Documents/Pablo_zorin/VS_Python_GitHub_Pablo_source/ML-using-Python/Seaborn_gallery\n"
     ]
    }
   ],
   "source": [
    "my_wd = os.getcwd()\n",
    "print(\"My working directory is:\",my_wd)"
   ]
  },
  {
   "cell_type": "markdown",
   "id": "b83600aa",
   "metadata": {},
   "source": [
    "- I need to change default WD to ML-using-Python folder to access \\data sub-folder to ingest Excel file called \"INE total and foreign population figures Spain.xlsx\""
   ]
  },
  {
   "cell_type": "code",
   "execution_count": 4,
   "id": "905ea4d6",
   "metadata": {},
   "outputs": [
    {
     "name": "stdout",
     "output_type": "stream",
     "text": [
      "My Python project folder is: /home/pablo/Documents/Pablo_zorin/VS_Python_GitHub_Pablo_source/ML-using-Python\n"
     ]
    }
   ],
   "source": [
    "ML_using_Python_folder = os.path.join('/home','pablo','Documents','Pablo_zorin','VS_Python_GitHub_Pablo_source','ML-using-Python')\n",
    "print('My Python project folder is:',ML_using_Python_folder)"
   ]
  },
  {
   "cell_type": "markdown",
   "id": "19a446ee",
   "metadata": {},
   "source": [
    "- Then change default folder to this /ML-using-Python folder"
   ]
  },
  {
   "cell_type": "code",
   "execution_count": 5,
   "id": "9dfb0928",
   "metadata": {},
   "outputs": [],
   "source": [
    "os.chdir(ML_using_Python_folder)\n"
   ]
  },
  {
   "cell_type": "code",
   "execution_count": 6,
   "id": "ee15b675",
   "metadata": {},
   "outputs": [
    {
     "name": "stdout",
     "output_type": "stream",
     "text": [
      "Changed default working directory to: /home/pablo/Documents/Pablo_zorin/VS_Python_GitHub_Pablo_source/ML-using-Python\n"
     ]
    }
   ],
   "source": [
    "new_wd = os.getcwd()\n",
    "print(\"Changed default working directory to:\",new_wd)"
   ]
  },
  {
   "cell_type": "markdown",
   "id": "f0e6c596",
   "metadata": {},
   "source": [
    "### 3. Check data folder file contents"
   ]
  },
  {
   "cell_type": "markdown",
   "id": "966f25f6",
   "metadata": {},
   "source": [
    "- Check file contents from \\data folder and build path to Excel file to be imported into python "
   ]
  },
  {
   "cell_type": "code",
   "execution_count": 7,
   "id": "1a0e785a",
   "metadata": {},
   "outputs": [
    {
     "name": "stdout",
     "output_type": "stream",
     "text": [
      "data folder contents: ['wine_quality.zip', 'winequality.names', 'Monthly-AE-Time-Series-January-2024.xls', 'INE Resident population country of birth Spain.xlsx', 'AE_Time_Series_Data_website.txt', 'winequality-red.csv', 'OCDE_countries_population_figures_1970_2022.csv', 'all_wine_reset.csv', '03_INE_Spain_natural_growh_births_deaths.xlsx', '02 INE Spain CV population stocks and flows 2002 2025.xlsx', 'AE_Attendances_TypeI_2010_2025.csv', 'AE_Attendances_Aug2010_Mar_2025.csv', 'Monthly-AE-Time-Series-March-2025.xls', 'AE_Attendances_2010_2024.csv', 'Type_I_ATT_TEST.csv', 'Type_I_ATT_TRAIN.csv', 'ONS_Figure_2__Population_increase_in_mid-2023_was_driven_mostly_by_net_international_migration.xls', 'winequality-white.csv', 'INE total and foreign population figures Spain.xlsx', 'monthly-milk-production-pounds.csv', 'ONS_Figure_01_Long_term_emigration_immigration_net_migration.xlsx', 'ONS_long_term_immigration_end2024.xlsx', '01 INE resident population by nationality Spain and CV 2002 2024.xlsx']\n"
     ]
    }
   ],
   "source": [
    "data_folder = os.path.join('/home','pablo','Documents','Pablo_zorin','VS_Python_GitHub_Pablo_source','ML-using-Python','data')\n",
    "data_folder_contents = os.listdir(data_folder)\n",
    "print('data folder contents:',data_folder_contents)"
   ]
  },
  {
   "cell_type": "markdown",
   "id": "a03124fe",
   "metadata": {},
   "source": [
    "#### 3.1 I want to import a .csv file for this script"
   ]
  },
  {
   "cell_type": "markdown",
   "id": "96ced621",
   "metadata": {},
   "source": [
    "- Scan data_folder contents to list all .xlsx files. I want import \"AE_Attendances_Aug2010_Mar_2025.csv\" file that includes Attendances and Admissions for the 2010-2025 time period."
   ]
  },
  {
   "cell_type": "code",
   "execution_count": 8,
   "id": "90d4d20e",
   "metadata": {},
   "outputs": [
    {
     "name": "stdout",
     "output_type": "stream",
     "text": [
      "winequality-red.csv\n",
      "OCDE_countries_population_figures_1970_2022.csv\n",
      "all_wine_reset.csv\n",
      "AE_Attendances_TypeI_2010_2025.csv\n",
      "AE_Attendances_Aug2010_Mar_2025.csv\n",
      "AE_Attendances_2010_2024.csv\n",
      "Type_I_ATT_TEST.csv\n",
      "Type_I_ATT_TRAIN.csv\n",
      "winequality-white.csv\n",
      "monthly-milk-production-pounds.csv\n"
     ]
    }
   ],
   "source": [
    "for files in os.listdir(data_folder):\n",
    "    if files.endswith('.csv'):\n",
    "        print(files)\n",
    "    else:\n",
    "        continue"
   ]
  },
  {
   "cell_type": "markdown",
   "id": "b5b2646a",
   "metadata": {},
   "source": [
    "### 4. Import Aug2010_Mar_2025 csv file into Python"
   ]
  },
  {
   "cell_type": "markdown",
   "id": "d493b630",
   "metadata": {},
   "source": [
    "- From the above set of files, I want to import \"AE_Attendances_Aug2010_mar_2025.csv\" into Python and split it into Type I Attendances, Type II Attendances and Type III Attendances, as three independent .csv files."
   ]
  },
  {
   "cell_type": "code",
   "execution_count": 15,
   "id": "313548ca",
   "metadata": {},
   "outputs": [],
   "source": [
    "Attendances_file = os.path.join('data','AE_Attendances_Aug2010_Mar_2025.csv')"
   ]
  },
  {
   "cell_type": "markdown",
   "id": "53963ad8",
   "metadata": {},
   "source": [
    "- Import above .csv file into pyhon. Using the \"parse_dates\" argument from pd.read_csv() function for the specific **date** columns in our .csv file called **Period**. As this pd.read_csv(Attendances_file, parse_dates = ['Period'])"
   ]
  },
  {
   "cell_type": "code",
   "execution_count": 16,
   "id": "716d1052",
   "metadata": {},
   "outputs": [
    {
     "data": {
      "application/vnd.microsoft.datawrangler.viewer.v0+json": {
       "columns": [
        {
         "name": "index",
         "rawType": "int64",
         "type": "integer"
        },
        {
         "name": "Period",
         "rawType": "datetime64[ns]",
         "type": "datetime"
        },
        {
         "name": "Type1_ATT",
         "rawType": "int64",
         "type": "integer"
        },
        {
         "name": "Type2_ATT",
         "rawType": "int64",
         "type": "integer"
        },
        {
         "name": "Type3_ATT",
         "rawType": "int64",
         "type": "integer"
        }
       ],
       "conversionMethod": "pd.DataFrame",
       "ref": "18d10e64-73f2-4fa2-9d21-326fec88129a",
       "rows": [
        [
         "0",
         "2010-01-08 00:00:00",
         "1138652",
         "54371",
         "559358"
        ],
        [
         "1",
         "2010-01-09 00:00:00",
         "1150728",
         "55181",
         "550359"
        ],
        [
         "2",
         "2010-01-10 00:00:00",
         "1163143",
         "54961",
         "583244"
        ],
        [
         "3",
         "2010-01-11 00:00:00",
         "1111295",
         "53727",
         "486005"
        ],
        [
         "4",
         "2010-01-12 00:00:00",
         "1159204",
         "45536",
         "533001"
        ]
       ],
       "shape": {
        "columns": 4,
        "rows": 5
       }
      },
      "text/html": [
       "<div>\n",
       "<style scoped>\n",
       "    .dataframe tbody tr th:only-of-type {\n",
       "        vertical-align: middle;\n",
       "    }\n",
       "\n",
       "    .dataframe tbody tr th {\n",
       "        vertical-align: top;\n",
       "    }\n",
       "\n",
       "    .dataframe thead th {\n",
       "        text-align: right;\n",
       "    }\n",
       "</style>\n",
       "<table border=\"1\" class=\"dataframe\">\n",
       "  <thead>\n",
       "    <tr style=\"text-align: right;\">\n",
       "      <th></th>\n",
       "      <th>Period</th>\n",
       "      <th>Type1_ATT</th>\n",
       "      <th>Type2_ATT</th>\n",
       "      <th>Type3_ATT</th>\n",
       "    </tr>\n",
       "  </thead>\n",
       "  <tbody>\n",
       "    <tr>\n",
       "      <th>0</th>\n",
       "      <td>2010-01-08</td>\n",
       "      <td>1138652</td>\n",
       "      <td>54371</td>\n",
       "      <td>559358</td>\n",
       "    </tr>\n",
       "    <tr>\n",
       "      <th>1</th>\n",
       "      <td>2010-01-09</td>\n",
       "      <td>1150728</td>\n",
       "      <td>55181</td>\n",
       "      <td>550359</td>\n",
       "    </tr>\n",
       "    <tr>\n",
       "      <th>2</th>\n",
       "      <td>2010-01-10</td>\n",
       "      <td>1163143</td>\n",
       "      <td>54961</td>\n",
       "      <td>583244</td>\n",
       "    </tr>\n",
       "    <tr>\n",
       "      <th>3</th>\n",
       "      <td>2010-01-11</td>\n",
       "      <td>1111295</td>\n",
       "      <td>53727</td>\n",
       "      <td>486005</td>\n",
       "    </tr>\n",
       "    <tr>\n",
       "      <th>4</th>\n",
       "      <td>2010-01-12</td>\n",
       "      <td>1159204</td>\n",
       "      <td>45536</td>\n",
       "      <td>533001</td>\n",
       "    </tr>\n",
       "  </tbody>\n",
       "</table>\n",
       "</div>"
      ],
      "text/plain": [
       "      Period  Type1_ATT  Type2_ATT  Type3_ATT\n",
       "0 2010-01-08    1138652      54371     559358\n",
       "1 2010-01-09    1150728      55181     550359\n",
       "2 2010-01-10    1163143      54961     583244\n",
       "3 2010-01-11    1111295      53727     486005\n",
       "4 2010-01-12    1159204      45536     533001"
      ]
     },
     "execution_count": 16,
     "metadata": {},
     "output_type": "execute_result"
    }
   ],
   "source": [
    "AE_data = pd.read_csv(Attendances_file, \n",
    "                      parse_dates=['Period'])\n",
    "AE_data.head()"
   ]
  },
  {
   "cell_type": "code",
   "execution_count": 12,
   "id": "8a36dcdf",
   "metadata": {},
   "outputs": [
    {
     "name": "stdout",
     "output_type": "stream",
     "text": [
      "<class 'pandas.core.frame.DataFrame'>\n",
      "RangeIndex: 176 entries, 0 to 175\n",
      "Data columns (total 4 columns):\n",
      " #   Column     Non-Null Count  Dtype         \n",
      "---  ------     --------------  -----         \n",
      " 0   Period     176 non-null    datetime64[ns]\n",
      " 1   Type1_ATT  176 non-null    int64         \n",
      " 2   Type2_ATT  176 non-null    int64         \n",
      " 3   Type3_ATT  176 non-null    int64         \n",
      "dtypes: datetime64[ns](1), int64(3)\n",
      "memory usage: 5.6 KB\n"
     ]
    }
   ],
   "source": [
    "AE_data.info()"
   ]
  },
  {
   "cell_type": "code",
   "execution_count": 13,
   "id": "cc62523c",
   "metadata": {},
   "outputs": [
    {
     "data": {
      "text/plain": [
       "Index(['Period', 'Type1_ATT', 'Type2_ATT', 'Type3_ATT'], dtype='object')"
      ]
     },
     "execution_count": 13,
     "metadata": {},
     "output_type": "execute_result"
    }
   ],
   "source": [
    "AE_data.columns"
   ]
  },
  {
   "cell_type": "code",
   "execution_count": 14,
   "id": "aaa78418",
   "metadata": {},
   "outputs": [
    {
     "data": {
      "application/vnd.microsoft.datawrangler.viewer.v0+json": {
       "columns": [
        {
         "name": "index",
         "rawType": "int64",
         "type": "integer"
        },
        {
         "name": "Period",
         "rawType": "datetime64[ns]",
         "type": "datetime"
        },
        {
         "name": "Type1_ATT",
         "rawType": "int64",
         "type": "integer"
        },
        {
         "name": "Type2_ATT",
         "rawType": "int64",
         "type": "integer"
        },
        {
         "name": "Type3_ATT",
         "rawType": "int64",
         "type": "integer"
        }
       ],
       "conversionMethod": "pd.DataFrame",
       "ref": "759efbd1-4543-447d-9420-ccc8a0738dd8",
       "rows": [
        [
         "0",
         "2010-01-08 00:00:00",
         "1138652",
         "54371",
         "559358"
        ],
        [
         "1",
         "2010-01-09 00:00:00",
         "1150728",
         "55181",
         "550359"
        ],
        [
         "2",
         "2010-01-10 00:00:00",
         "1163143",
         "54961",
         "583244"
        ],
        [
         "3",
         "2010-01-11 00:00:00",
         "1111295",
         "53727",
         "486005"
        ],
        [
         "4",
         "2010-01-12 00:00:00",
         "1159204",
         "45536",
         "533001"
        ]
       ],
       "shape": {
        "columns": 4,
        "rows": 5
       }
      },
      "text/html": [
       "<div>\n",
       "<style scoped>\n",
       "    .dataframe tbody tr th:only-of-type {\n",
       "        vertical-align: middle;\n",
       "    }\n",
       "\n",
       "    .dataframe tbody tr th {\n",
       "        vertical-align: top;\n",
       "    }\n",
       "\n",
       "    .dataframe thead th {\n",
       "        text-align: right;\n",
       "    }\n",
       "</style>\n",
       "<table border=\"1\" class=\"dataframe\">\n",
       "  <thead>\n",
       "    <tr style=\"text-align: right;\">\n",
       "      <th></th>\n",
       "      <th>Period</th>\n",
       "      <th>Type1_ATT</th>\n",
       "      <th>Type2_ATT</th>\n",
       "      <th>Type3_ATT</th>\n",
       "    </tr>\n",
       "  </thead>\n",
       "  <tbody>\n",
       "    <tr>\n",
       "      <th>0</th>\n",
       "      <td>2010-01-08</td>\n",
       "      <td>1138652</td>\n",
       "      <td>54371</td>\n",
       "      <td>559358</td>\n",
       "    </tr>\n",
       "    <tr>\n",
       "      <th>1</th>\n",
       "      <td>2010-01-09</td>\n",
       "      <td>1150728</td>\n",
       "      <td>55181</td>\n",
       "      <td>550359</td>\n",
       "    </tr>\n",
       "    <tr>\n",
       "      <th>2</th>\n",
       "      <td>2010-01-10</td>\n",
       "      <td>1163143</td>\n",
       "      <td>54961</td>\n",
       "      <td>583244</td>\n",
       "    </tr>\n",
       "    <tr>\n",
       "      <th>3</th>\n",
       "      <td>2010-01-11</td>\n",
       "      <td>1111295</td>\n",
       "      <td>53727</td>\n",
       "      <td>486005</td>\n",
       "    </tr>\n",
       "    <tr>\n",
       "      <th>4</th>\n",
       "      <td>2010-01-12</td>\n",
       "      <td>1159204</td>\n",
       "      <td>45536</td>\n",
       "      <td>533001</td>\n",
       "    </tr>\n",
       "  </tbody>\n",
       "</table>\n",
       "</div>"
      ],
      "text/plain": [
       "      Period  Type1_ATT  Type2_ATT  Type3_ATT\n",
       "0 2010-01-08    1138652      54371     559358\n",
       "1 2010-01-09    1150728      55181     550359\n",
       "2 2010-01-10    1163143      54961     583244\n",
       "3 2010-01-11    1111295      53727     486005\n",
       "4 2010-01-12    1159204      45536     533001"
      ]
     },
     "execution_count": 14,
     "metadata": {},
     "output_type": "execute_result"
    }
   ],
   "source": [
    "AE_data.head()"
   ]
  },
  {
   "cell_type": "markdown",
   "id": "f46a60bd",
   "metadata": {},
   "source": [
    "### 6. Create new Column Total_ATT"
   ]
  },
  {
   "cell_type": "markdown",
   "id": "cb87361d",
   "metadata": {},
   "source": [
    "- Create new column called Total_ATT as a combination of Type1_ATT, Type2_ATT and Type3_ATT"
   ]
  },
  {
   "cell_type": "code",
   "execution_count": 17,
   "id": "ce1833b5",
   "metadata": {},
   "outputs": [
    {
     "data": {
      "application/vnd.microsoft.datawrangler.viewer.v0+json": {
       "columns": [
        {
         "name": "index",
         "rawType": "int64",
         "type": "integer"
        },
        {
         "name": "Period",
         "rawType": "datetime64[ns]",
         "type": "datetime"
        },
        {
         "name": "Type1_ATT",
         "rawType": "int64",
         "type": "integer"
        },
        {
         "name": "Type2_ATT",
         "rawType": "int64",
         "type": "integer"
        },
        {
         "name": "Type3_ATT",
         "rawType": "int64",
         "type": "integer"
        },
        {
         "name": "Total_ATT",
         "rawType": "int64",
         "type": "integer"
        }
       ],
       "conversionMethod": "pd.DataFrame",
       "ref": "63c8f6d5-b4db-4c17-9f81-f67f96aca4ee",
       "rows": [
        [
         "0",
         "2010-01-08 00:00:00",
         "1138652",
         "54371",
         "559358",
         "1752381"
        ],
        [
         "1",
         "2010-01-09 00:00:00",
         "1150728",
         "55181",
         "550359",
         "1756268"
        ],
        [
         "2",
         "2010-01-10 00:00:00",
         "1163143",
         "54961",
         "583244",
         "1801348"
        ],
        [
         "3",
         "2010-01-11 00:00:00",
         "1111295",
         "53727",
         "486005",
         "1651027"
        ],
        [
         "4",
         "2010-01-12 00:00:00",
         "1159204",
         "45536",
         "533001",
         "1737741"
        ]
       ],
       "shape": {
        "columns": 5,
        "rows": 5
       }
      },
      "text/html": [
       "<div>\n",
       "<style scoped>\n",
       "    .dataframe tbody tr th:only-of-type {\n",
       "        vertical-align: middle;\n",
       "    }\n",
       "\n",
       "    .dataframe tbody tr th {\n",
       "        vertical-align: top;\n",
       "    }\n",
       "\n",
       "    .dataframe thead th {\n",
       "        text-align: right;\n",
       "    }\n",
       "</style>\n",
       "<table border=\"1\" class=\"dataframe\">\n",
       "  <thead>\n",
       "    <tr style=\"text-align: right;\">\n",
       "      <th></th>\n",
       "      <th>Period</th>\n",
       "      <th>Type1_ATT</th>\n",
       "      <th>Type2_ATT</th>\n",
       "      <th>Type3_ATT</th>\n",
       "      <th>Total_ATT</th>\n",
       "    </tr>\n",
       "  </thead>\n",
       "  <tbody>\n",
       "    <tr>\n",
       "      <th>0</th>\n",
       "      <td>2010-01-08</td>\n",
       "      <td>1138652</td>\n",
       "      <td>54371</td>\n",
       "      <td>559358</td>\n",
       "      <td>1752381</td>\n",
       "    </tr>\n",
       "    <tr>\n",
       "      <th>1</th>\n",
       "      <td>2010-01-09</td>\n",
       "      <td>1150728</td>\n",
       "      <td>55181</td>\n",
       "      <td>550359</td>\n",
       "      <td>1756268</td>\n",
       "    </tr>\n",
       "    <tr>\n",
       "      <th>2</th>\n",
       "      <td>2010-01-10</td>\n",
       "      <td>1163143</td>\n",
       "      <td>54961</td>\n",
       "      <td>583244</td>\n",
       "      <td>1801348</td>\n",
       "    </tr>\n",
       "    <tr>\n",
       "      <th>3</th>\n",
       "      <td>2010-01-11</td>\n",
       "      <td>1111295</td>\n",
       "      <td>53727</td>\n",
       "      <td>486005</td>\n",
       "      <td>1651027</td>\n",
       "    </tr>\n",
       "    <tr>\n",
       "      <th>4</th>\n",
       "      <td>2010-01-12</td>\n",
       "      <td>1159204</td>\n",
       "      <td>45536</td>\n",
       "      <td>533001</td>\n",
       "      <td>1737741</td>\n",
       "    </tr>\n",
       "  </tbody>\n",
       "</table>\n",
       "</div>"
      ],
      "text/plain": [
       "      Period  Type1_ATT  Type2_ATT  Type3_ATT  Total_ATT\n",
       "0 2010-01-08    1138652      54371     559358    1752381\n",
       "1 2010-01-09    1150728      55181     550359    1756268\n",
       "2 2010-01-10    1163143      54961     583244    1801348\n",
       "3 2010-01-11    1111295      53727     486005    1651027\n",
       "4 2010-01-12    1159204      45536     533001    1737741"
      ]
     },
     "execution_count": 17,
     "metadata": {},
     "output_type": "execute_result"
    }
   ],
   "source": [
    "AE_data['Total_ATT'] = AE_data['Type1_ATT'] + AE_data['Type2_ATT'] + AE_data['Type3_ATT']\n",
    "AE_data.head() "
   ]
  },
  {
   "cell_type": "markdown",
   "id": "ab418352",
   "metadata": {},
   "source": [
    "### 5. Subset 2011 data "
   ]
  },
  {
   "cell_type": "code",
   "execution_count": null,
   "id": "556d3a51",
   "metadata": {},
   "outputs": [],
   "source": []
  },
  {
   "cell_type": "code",
   "execution_count": 95,
   "id": "7feec80b",
   "metadata": {},
   "outputs": [
    {
     "name": "stdout",
     "output_type": "stream",
     "text": [
      "        Period  Type1_ATT  Type2_ATT  Type3_ATT\n",
      "0   2010-08-01    1138652      54371     559358\n",
      "1   2010-09-01    1150728      55181     550359\n",
      "2   2010-10-01    1163143      54961     583244\n",
      "3   2010-11-01    1111295      53727     486005\n",
      "4   2010-12-01    1159204      45536     533001\n",
      "..         ...        ...        ...        ...\n",
      "171 2024-11-01    1428050      47263     835916\n",
      "172 2024-12-01    1440311      44041     861582\n",
      "173 2025-01-01    1359026      49486     809618\n",
      "174 2025-02-01    1271336      45682     764860\n",
      "175 2025-03-01    1450686      51237     887141\n",
      "\n",
      "[176 rows x 4 columns]\n"
     ]
    }
   ],
   "source": [
    "# To slice data using Period column I need first to setup Period as index\n",
    "df_2011 = df.copy()\n",
    "print(df_2011)\n",
    "# Slice data using Period colum\n",
    "# df_2011 = df.loc['2011-01-01':'2011-12-01']\n",
    "# df_2011"
   ]
  },
  {
   "cell_type": "code",
   "execution_count": 97,
   "id": "e387d656",
   "metadata": {},
   "outputs": [
    {
     "data": {
      "application/vnd.microsoft.datawrangler.viewer.v0+json": {
       "columns": [
        {
         "name": "index",
         "rawType": "int64",
         "type": "integer"
        },
        {
         "name": "Period",
         "rawType": "datetime64[ns]",
         "type": "datetime"
        },
        {
         "name": "Type1_ATT",
         "rawType": "int64",
         "type": "integer"
        },
        {
         "name": "Type2_ATT",
         "rawType": "int64",
         "type": "integer"
        },
        {
         "name": "Type3_ATT",
         "rawType": "int64",
         "type": "integer"
        }
       ],
       "conversionMethod": "pd.DataFrame",
       "ref": "d6609546-0bb8-4a94-8e6b-ab0abd3993a3",
       "rows": [
        [
         "0",
         "2010-08-01 00:00:00",
         "1138652",
         "54371",
         "559358"
        ],
        [
         "1",
         "2010-09-01 00:00:00",
         "1150728",
         "55181",
         "550359"
        ],
        [
         "2",
         "2010-10-01 00:00:00",
         "1163143",
         "54961",
         "583244"
        ],
        [
         "3",
         "2010-11-01 00:00:00",
         "1111295",
         "53727",
         "486005"
        ],
        [
         "4",
         "2010-12-01 00:00:00",
         "1159204",
         "45536",
         "533001"
        ]
       ],
       "shape": {
        "columns": 4,
        "rows": 5
       }
      },
      "text/html": [
       "<div>\n",
       "<style scoped>\n",
       "    .dataframe tbody tr th:only-of-type {\n",
       "        vertical-align: middle;\n",
       "    }\n",
       "\n",
       "    .dataframe tbody tr th {\n",
       "        vertical-align: top;\n",
       "    }\n",
       "\n",
       "    .dataframe thead th {\n",
       "        text-align: right;\n",
       "    }\n",
       "</style>\n",
       "<table border=\"1\" class=\"dataframe\">\n",
       "  <thead>\n",
       "    <tr style=\"text-align: right;\">\n",
       "      <th></th>\n",
       "      <th>Period</th>\n",
       "      <th>Type1_ATT</th>\n",
       "      <th>Type2_ATT</th>\n",
       "      <th>Type3_ATT</th>\n",
       "    </tr>\n",
       "  </thead>\n",
       "  <tbody>\n",
       "    <tr>\n",
       "      <th>0</th>\n",
       "      <td>2010-08-01</td>\n",
       "      <td>1138652</td>\n",
       "      <td>54371</td>\n",
       "      <td>559358</td>\n",
       "    </tr>\n",
       "    <tr>\n",
       "      <th>1</th>\n",
       "      <td>2010-09-01</td>\n",
       "      <td>1150728</td>\n",
       "      <td>55181</td>\n",
       "      <td>550359</td>\n",
       "    </tr>\n",
       "    <tr>\n",
       "      <th>2</th>\n",
       "      <td>2010-10-01</td>\n",
       "      <td>1163143</td>\n",
       "      <td>54961</td>\n",
       "      <td>583244</td>\n",
       "    </tr>\n",
       "    <tr>\n",
       "      <th>3</th>\n",
       "      <td>2010-11-01</td>\n",
       "      <td>1111295</td>\n",
       "      <td>53727</td>\n",
       "      <td>486005</td>\n",
       "    </tr>\n",
       "    <tr>\n",
       "      <th>4</th>\n",
       "      <td>2010-12-01</td>\n",
       "      <td>1159204</td>\n",
       "      <td>45536</td>\n",
       "      <td>533001</td>\n",
       "    </tr>\n",
       "  </tbody>\n",
       "</table>\n",
       "</div>"
      ],
      "text/plain": [
       "      Period  Type1_ATT  Type2_ATT  Type3_ATT\n",
       "0 2010-08-01    1138652      54371     559358\n",
       "1 2010-09-01    1150728      55181     550359\n",
       "2 2010-10-01    1163143      54961     583244\n",
       "3 2010-11-01    1111295      53727     486005\n",
       "4 2010-12-01    1159204      45536     533001"
      ]
     },
     "execution_count": 97,
     "metadata": {},
     "output_type": "execute_result"
    }
   ],
   "source": [
    "df_2011.head()"
   ]
  },
  {
   "cell_type": "code",
   "execution_count": 98,
   "id": "cab54f7a",
   "metadata": {},
   "outputs": [
    {
     "name": "stdout",
     "output_type": "stream",
     "text": [
      "<class 'pandas.core.frame.DataFrame'>\n",
      "RangeIndex: 176 entries, 0 to 175\n",
      "Data columns (total 4 columns):\n",
      " #   Column     Non-Null Count  Dtype         \n",
      "---  ------     --------------  -----         \n",
      " 0   Period     176 non-null    datetime64[ns]\n",
      " 1   Type1_ATT  176 non-null    int64         \n",
      " 2   Type2_ATT  176 non-null    int64         \n",
      " 3   Type3_ATT  176 non-null    int64         \n",
      "dtypes: datetime64[ns](1), int64(3)\n",
      "memory usage: 5.6 KB\n"
     ]
    }
   ],
   "source": [
    "df_2011.info()"
   ]
  },
  {
   "cell_type": "code",
   "execution_count": 99,
   "id": "08088e79",
   "metadata": {},
   "outputs": [
    {
     "data": {
      "application/vnd.microsoft.datawrangler.viewer.v0+json": {
       "columns": [
        {
         "name": "Period",
         "rawType": "datetime64[ns]",
         "type": "datetime"
        },
        {
         "name": "Type1_ATT",
         "rawType": "int64",
         "type": "integer"
        },
        {
         "name": "Type2_ATT",
         "rawType": "int64",
         "type": "integer"
        },
        {
         "name": "Type3_ATT",
         "rawType": "int64",
         "type": "integer"
        }
       ],
       "conversionMethod": "pd.DataFrame",
       "ref": "34dc433f-3635-42fd-8606-efa203260303",
       "rows": [
        [
         "2010-08-01 00:00:00",
         "1138652",
         "54371",
         "559358"
        ],
        [
         "2010-09-01 00:00:00",
         "1150728",
         "55181",
         "550359"
        ],
        [
         "2010-10-01 00:00:00",
         "1163143",
         "54961",
         "583244"
        ],
        [
         "2010-11-01 00:00:00",
         "1111295",
         "53727",
         "486005"
        ],
        [
         "2010-12-01 00:00:00",
         "1159204",
         "45536",
         "533001"
        ],
        [
         "2011-01-01 00:00:00",
         "1133881",
         "51585",
         "542331"
        ],
        [
         "2011-02-01 00:00:00",
         "1053707",
         "51249",
         "494408"
        ],
        [
         "2011-03-01 00:00:00",
         "1225222",
         "57900",
         "580319"
        ],
        [
         "2011-04-01 00:00:00",
         "1197213",
         "54042",
         "593120"
        ],
        [
         "2011-05-01 00:00:00",
         "1221687",
         "57067",
         "594941"
        ],
        [
         "2011-06-01 00:00:00",
         "1168468",
         "54739",
         "562210"
        ],
        [
         "2011-07-01 00:00:00",
         "1211066",
         "56204",
         "597690"
        ],
        [
         "2011-08-01 00:00:00",
         "1135801",
         "51890",
         "570417"
        ],
        [
         "2011-09-01 00:00:00",
         "1162143",
         "52329",
         "566738"
        ],
        [
         "2011-10-01 00:00:00",
         "1200708",
         "54447",
         "593757"
        ],
        [
         "2011-11-01 00:00:00",
         "1134959",
         "51772",
         "554709"
        ],
        [
         "2011-12-01 00:00:00",
         "1141606",
         "47961",
         "542479"
        ],
        [
         "2012-01-01 00:00:00",
         "1137916",
         "51607",
         "547995"
        ],
        [
         "2012-02-01 00:00:00",
         "1120423",
         "51156",
         "532653"
        ],
        [
         "2012-03-01 00:00:00",
         "1263082",
         "58574",
         "611496"
        ],
        [
         "2012-04-01 00:00:00",
         "1149634",
         "51689",
         "568200"
        ],
        [
         "2012-05-01 00:00:00",
         "1251414",
         "56417",
         "621739"
        ],
        [
         "2012-06-01 00:00:00",
         "1222084",
         "53957",
         "611800"
        ],
        [
         "2012-07-01 00:00:00",
         "1248953",
         "55392",
         "620178"
        ],
        [
         "2012-08-01 00:00:00",
         "1197384",
         "52905",
         "594854"
        ],
        [
         "2012-09-01 00:00:00",
         "1178361",
         "51526",
         "558604"
        ],
        [
         "2012-10-01 00:00:00",
         "1214433",
         "53423",
         "564448"
        ],
        [
         "2012-11-01 00:00:00",
         "1167908",
         "51805",
         "535892"
        ],
        [
         "2012-12-01 00:00:00",
         "1202080",
         "47553",
         "572792"
        ],
        [
         "2013-01-01 00:00:00",
         "1149837",
         "49518",
         "533763"
        ],
        [
         "2013-02-01 00:00:00",
         "1085333",
         "48970",
         "514445"
        ],
        [
         "2013-03-01 00:00:00",
         "1226196",
         "54219",
         "584669"
        ],
        [
         "2013-04-01 00:00:00",
         "1199089",
         "54306",
         "578025"
        ],
        [
         "2013-05-01 00:00:00",
         "1229747",
         "54729",
         "607194"
        ],
        [
         "2013-06-01 00:00:00",
         "1191352",
         "54589",
         "585094"
        ],
        [
         "2013-07-01 00:00:00",
         "1281700",
         "55536",
         "639053"
        ],
        [
         "2013-08-01 00:00:00",
         "1189671",
         "53239",
         "597681"
        ],
        [
         "2013-09-01 00:00:00",
         "1156569",
         "52312",
         "559868"
        ],
        [
         "2013-10-01 00:00:00",
         "1199259",
         "52705",
         "577465"
        ],
        [
         "2013-11-01 00:00:00",
         "1139112",
         "50631",
         "543294"
        ],
        [
         "2013-12-01 00:00:00",
         "1172011",
         "47809",
         "562209"
        ],
        [
         "2014-01-01 00:00:00",
         "1142284",
         "51060",
         "546196"
        ],
        [
         "2014-02-01 00:00:00",
         "1084744",
         "47705",
         "529366"
        ],
        [
         "2014-03-01 00:00:00",
         "1269436",
         "55798",
         "632107"
        ],
        [
         "2014-04-01 00:00:00",
         "1213066",
         "52034",
         "612576"
        ],
        [
         "2014-05-01 00:00:00",
         "1287333",
         "54446",
         "636250"
        ],
        [
         "2014-06-01 00:00:00",
         "1265211",
         "54997",
         "622060"
        ],
        [
         "2014-07-01 00:00:00",
         "1302588",
         "55793",
         "635250"
        ],
        [
         "2014-08-01 00:00:00",
         "1188147",
         "53051",
         "576112"
        ],
        [
         "2014-09-01 00:00:00",
         "1221782",
         "52195",
         "579309"
        ]
       ],
       "shape": {
        "columns": 3,
        "rows": 176
       }
      },
      "text/html": [
       "<div>\n",
       "<style scoped>\n",
       "    .dataframe tbody tr th:only-of-type {\n",
       "        vertical-align: middle;\n",
       "    }\n",
       "\n",
       "    .dataframe tbody tr th {\n",
       "        vertical-align: top;\n",
       "    }\n",
       "\n",
       "    .dataframe thead th {\n",
       "        text-align: right;\n",
       "    }\n",
       "</style>\n",
       "<table border=\"1\" class=\"dataframe\">\n",
       "  <thead>\n",
       "    <tr style=\"text-align: right;\">\n",
       "      <th></th>\n",
       "      <th>Type1_ATT</th>\n",
       "      <th>Type2_ATT</th>\n",
       "      <th>Type3_ATT</th>\n",
       "    </tr>\n",
       "    <tr>\n",
       "      <th>Period</th>\n",
       "      <th></th>\n",
       "      <th></th>\n",
       "      <th></th>\n",
       "    </tr>\n",
       "  </thead>\n",
       "  <tbody>\n",
       "    <tr>\n",
       "      <th>2010-08-01</th>\n",
       "      <td>1138652</td>\n",
       "      <td>54371</td>\n",
       "      <td>559358</td>\n",
       "    </tr>\n",
       "    <tr>\n",
       "      <th>2010-09-01</th>\n",
       "      <td>1150728</td>\n",
       "      <td>55181</td>\n",
       "      <td>550359</td>\n",
       "    </tr>\n",
       "    <tr>\n",
       "      <th>2010-10-01</th>\n",
       "      <td>1163143</td>\n",
       "      <td>54961</td>\n",
       "      <td>583244</td>\n",
       "    </tr>\n",
       "    <tr>\n",
       "      <th>2010-11-01</th>\n",
       "      <td>1111295</td>\n",
       "      <td>53727</td>\n",
       "      <td>486005</td>\n",
       "    </tr>\n",
       "    <tr>\n",
       "      <th>2010-12-01</th>\n",
       "      <td>1159204</td>\n",
       "      <td>45536</td>\n",
       "      <td>533001</td>\n",
       "    </tr>\n",
       "    <tr>\n",
       "      <th>...</th>\n",
       "      <td>...</td>\n",
       "      <td>...</td>\n",
       "      <td>...</td>\n",
       "    </tr>\n",
       "    <tr>\n",
       "      <th>2024-11-01</th>\n",
       "      <td>1428050</td>\n",
       "      <td>47263</td>\n",
       "      <td>835916</td>\n",
       "    </tr>\n",
       "    <tr>\n",
       "      <th>2024-12-01</th>\n",
       "      <td>1440311</td>\n",
       "      <td>44041</td>\n",
       "      <td>861582</td>\n",
       "    </tr>\n",
       "    <tr>\n",
       "      <th>2025-01-01</th>\n",
       "      <td>1359026</td>\n",
       "      <td>49486</td>\n",
       "      <td>809618</td>\n",
       "    </tr>\n",
       "    <tr>\n",
       "      <th>2025-02-01</th>\n",
       "      <td>1271336</td>\n",
       "      <td>45682</td>\n",
       "      <td>764860</td>\n",
       "    </tr>\n",
       "    <tr>\n",
       "      <th>2025-03-01</th>\n",
       "      <td>1450686</td>\n",
       "      <td>51237</td>\n",
       "      <td>887141</td>\n",
       "    </tr>\n",
       "  </tbody>\n",
       "</table>\n",
       "<p>176 rows × 3 columns</p>\n",
       "</div>"
      ],
      "text/plain": [
       "            Type1_ATT  Type2_ATT  Type3_ATT\n",
       "Period                                     \n",
       "2010-08-01    1138652      54371     559358\n",
       "2010-09-01    1150728      55181     550359\n",
       "2010-10-01    1163143      54961     583244\n",
       "2010-11-01    1111295      53727     486005\n",
       "2010-12-01    1159204      45536     533001\n",
       "...               ...        ...        ...\n",
       "2024-11-01    1428050      47263     835916\n",
       "2024-12-01    1440311      44041     861582\n",
       "2025-01-01    1359026      49486     809618\n",
       "2025-02-01    1271336      45682     764860\n",
       "2025-03-01    1450686      51237     887141\n",
       "\n",
       "[176 rows x 3 columns]"
      ]
     },
     "execution_count": 99,
     "metadata": {},
     "output_type": "execute_result"
    }
   ],
   "source": [
    "df_2011.set_index(\"Period\")"
   ]
  },
  {
   "cell_type": "code",
   "execution_count": 100,
   "id": "fd030646",
   "metadata": {},
   "outputs": [
    {
     "name": "stdout",
     "output_type": "stream",
     "text": [
      "<class 'pandas.core.frame.DataFrame'>\n",
      "RangeIndex: 176 entries, 0 to 175\n",
      "Data columns (total 4 columns):\n",
      " #   Column     Non-Null Count  Dtype         \n",
      "---  ------     --------------  -----         \n",
      " 0   Period     176 non-null    datetime64[ns]\n",
      " 1   Type1_ATT  176 non-null    int64         \n",
      " 2   Type2_ATT  176 non-null    int64         \n",
      " 3   Type3_ATT  176 non-null    int64         \n",
      "dtypes: datetime64[ns](1), int64(3)\n",
      "memory usage: 5.6 KB\n"
     ]
    }
   ],
   "source": [
    "df_2011.info()\n"
   ]
  },
  {
   "cell_type": "code",
   "execution_count": null,
   "id": "6d533fc4",
   "metadata": {},
   "outputs": [],
   "source": [
    "# This .loc method does not seems to work with datetime64 columns\n",
    "df_2011_subset = df_2011.loc['2011-01-01':'2011-12-01']\n"
   ]
  },
  {
   "cell_type": "code",
   "execution_count": 105,
   "id": "66ae63ca",
   "metadata": {},
   "outputs": [
    {
     "name": "stdout",
     "output_type": "stream",
     "text": [
      "<class 'pandas.core.frame.DataFrame'>\n",
      "RangeIndex: 0 entries\n",
      "Data columns (total 4 columns):\n",
      " #   Column     Non-Null Count  Dtype         \n",
      "---  ------     --------------  -----         \n",
      " 0   Period     0 non-null      datetime64[ns]\n",
      " 1   Type1_ATT  0 non-null      int64         \n",
      " 2   Type2_ATT  0 non-null      int64         \n",
      " 3   Type3_ATT  0 non-null      int64         \n",
      "dtypes: datetime64[ns](1), int64(3)\n",
      "memory usage: 132.0 bytes\n"
     ]
    }
   ],
   "source": [
    "df_2011_subset.info()"
   ]
  },
  {
   "cell_type": "code",
   "execution_count": 104,
   "id": "a52709be",
   "metadata": {},
   "outputs": [
    {
     "name": "stdout",
     "output_type": "stream",
     "text": [
      "Empty DataFrame\n",
      "Columns: [Period, Type1_ATT, Type2_ATT, Type3_ATT]\n",
      "Index: []\n"
     ]
    }
   ],
   "source": [
    "print(df_2011_subset)"
   ]
  },
  {
   "cell_type": "markdown",
   "id": "2da4fc46",
   "metadata": {},
   "source": [
    "- Check setting Period as Index to slide data just for 2011 period"
   ]
  },
  {
   "cell_type": "code",
   "execution_count": 56,
   "id": "755d8b16",
   "metadata": {},
   "outputs": [
    {
     "data": {
      "text/plain": [
       "Index(['Period', 'Type1_ATT', 'Type2_ATT', 'Type3_ATT'], dtype='object')"
      ]
     },
     "execution_count": 56,
     "metadata": {},
     "output_type": "execute_result"
    }
   ],
   "source": [
    "AE_data_test.columns"
   ]
  },
  {
   "cell_type": "code",
   "execution_count": 67,
   "id": "e2c77390",
   "metadata": {},
   "outputs": [
    {
     "data": {
      "application/vnd.microsoft.datawrangler.viewer.v0+json": {
       "columns": [
        {
         "name": "Period",
         "rawType": "object",
         "type": "string"
        },
        {
         "name": "Type1_ATT",
         "rawType": "int64",
         "type": "integer"
        },
        {
         "name": "Type2_ATT",
         "rawType": "int64",
         "type": "integer"
        },
        {
         "name": "Type3_ATT",
         "rawType": "int64",
         "type": "integer"
        }
       ],
       "conversionMethod": "pd.DataFrame",
       "ref": "2862fe43-b853-4e10-8890-02c2244f716f",
       "rows": [
        [
         "01/08/2010",
         "1138652",
         "54371",
         "559358"
        ],
        [
         "01/09/2010",
         "1150728",
         "55181",
         "550359"
        ],
        [
         "01/10/2010",
         "1163143",
         "54961",
         "583244"
        ],
        [
         "01/11/2010",
         "1111295",
         "53727",
         "486005"
        ],
        [
         "01/12/2010",
         "1159204",
         "45536",
         "533001"
        ],
        [
         "01/01/2011",
         "1133881",
         "51585",
         "542331"
        ],
        [
         "01/02/2011",
         "1053707",
         "51249",
         "494408"
        ],
        [
         "01/03/2011",
         "1225222",
         "57900",
         "580319"
        ],
        [
         "01/04/2011",
         "1197213",
         "54042",
         "593120"
        ],
        [
         "01/05/2011",
         "1221687",
         "57067",
         "594941"
        ],
        [
         "01/06/2011",
         "1168468",
         "54739",
         "562210"
        ],
        [
         "01/07/2011",
         "1211066",
         "56204",
         "597690"
        ],
        [
         "01/08/2011",
         "1135801",
         "51890",
         "570417"
        ],
        [
         "01/09/2011",
         "1162143",
         "52329",
         "566738"
        ],
        [
         "01/10/2011",
         "1200708",
         "54447",
         "593757"
        ],
        [
         "01/11/2011",
         "1134959",
         "51772",
         "554709"
        ],
        [
         "01/12/2011",
         "1141606",
         "47961",
         "542479"
        ],
        [
         "01/01/2012",
         "1137916",
         "51607",
         "547995"
        ],
        [
         "01/02/2012",
         "1120423",
         "51156",
         "532653"
        ],
        [
         "01/03/2012",
         "1263082",
         "58574",
         "611496"
        ],
        [
         "01/04/2012",
         "1149634",
         "51689",
         "568200"
        ],
        [
         "01/05/2012",
         "1251414",
         "56417",
         "621739"
        ],
        [
         "01/06/2012",
         "1222084",
         "53957",
         "611800"
        ],
        [
         "01/07/2012",
         "1248953",
         "55392",
         "620178"
        ],
        [
         "01/08/2012",
         "1197384",
         "52905",
         "594854"
        ],
        [
         "01/09/2012",
         "1178361",
         "51526",
         "558604"
        ],
        [
         "01/10/2012",
         "1214433",
         "53423",
         "564448"
        ],
        [
         "01/11/2012",
         "1167908",
         "51805",
         "535892"
        ],
        [
         "01/12/2012",
         "1202080",
         "47553",
         "572792"
        ],
        [
         "01/01/2013",
         "1149837",
         "49518",
         "533763"
        ],
        [
         "01/02/2013",
         "1085333",
         "48970",
         "514445"
        ],
        [
         "01/03/2013",
         "1226196",
         "54219",
         "584669"
        ],
        [
         "01/04/2013",
         "1199089",
         "54306",
         "578025"
        ],
        [
         "01/05/2013",
         "1229747",
         "54729",
         "607194"
        ],
        [
         "01/06/2013",
         "1191352",
         "54589",
         "585094"
        ],
        [
         "01/07/2013",
         "1281700",
         "55536",
         "639053"
        ],
        [
         "01/08/2013",
         "1189671",
         "53239",
         "597681"
        ],
        [
         "01/09/2013",
         "1156569",
         "52312",
         "559868"
        ],
        [
         "01/10/2013",
         "1199259",
         "52705",
         "577465"
        ],
        [
         "01/11/2013",
         "1139112",
         "50631",
         "543294"
        ],
        [
         "01/12/2013",
         "1172011",
         "47809",
         "562209"
        ],
        [
         "01/01/2014",
         "1142284",
         "51060",
         "546196"
        ],
        [
         "01/02/2014",
         "1084744",
         "47705",
         "529366"
        ],
        [
         "01/03/2014",
         "1269436",
         "55798",
         "632107"
        ],
        [
         "01/04/2014",
         "1213066",
         "52034",
         "612576"
        ],
        [
         "01/05/2014",
         "1287333",
         "54446",
         "636250"
        ],
        [
         "01/06/2014",
         "1265211",
         "54997",
         "622060"
        ],
        [
         "01/07/2014",
         "1302588",
         "55793",
         "635250"
        ],
        [
         "01/08/2014",
         "1188147",
         "53051",
         "576112"
        ],
        [
         "01/09/2014",
         "1221782",
         "52195",
         "579309"
        ]
       ],
       "shape": {
        "columns": 3,
        "rows": 176
       }
      },
      "text/html": [
       "<div>\n",
       "<style scoped>\n",
       "    .dataframe tbody tr th:only-of-type {\n",
       "        vertical-align: middle;\n",
       "    }\n",
       "\n",
       "    .dataframe tbody tr th {\n",
       "        vertical-align: top;\n",
       "    }\n",
       "\n",
       "    .dataframe thead th {\n",
       "        text-align: right;\n",
       "    }\n",
       "</style>\n",
       "<table border=\"1\" class=\"dataframe\">\n",
       "  <thead>\n",
       "    <tr style=\"text-align: right;\">\n",
       "      <th></th>\n",
       "      <th>Type1_ATT</th>\n",
       "      <th>Type2_ATT</th>\n",
       "      <th>Type3_ATT</th>\n",
       "    </tr>\n",
       "    <tr>\n",
       "      <th>Period</th>\n",
       "      <th></th>\n",
       "      <th></th>\n",
       "      <th></th>\n",
       "    </tr>\n",
       "  </thead>\n",
       "  <tbody>\n",
       "    <tr>\n",
       "      <th>01/08/2010</th>\n",
       "      <td>1138652</td>\n",
       "      <td>54371</td>\n",
       "      <td>559358</td>\n",
       "    </tr>\n",
       "    <tr>\n",
       "      <th>01/09/2010</th>\n",
       "      <td>1150728</td>\n",
       "      <td>55181</td>\n",
       "      <td>550359</td>\n",
       "    </tr>\n",
       "    <tr>\n",
       "      <th>01/10/2010</th>\n",
       "      <td>1163143</td>\n",
       "      <td>54961</td>\n",
       "      <td>583244</td>\n",
       "    </tr>\n",
       "    <tr>\n",
       "      <th>01/11/2010</th>\n",
       "      <td>1111295</td>\n",
       "      <td>53727</td>\n",
       "      <td>486005</td>\n",
       "    </tr>\n",
       "    <tr>\n",
       "      <th>01/12/2010</th>\n",
       "      <td>1159204</td>\n",
       "      <td>45536</td>\n",
       "      <td>533001</td>\n",
       "    </tr>\n",
       "    <tr>\n",
       "      <th>...</th>\n",
       "      <td>...</td>\n",
       "      <td>...</td>\n",
       "      <td>...</td>\n",
       "    </tr>\n",
       "    <tr>\n",
       "      <th>01/11/2024</th>\n",
       "      <td>1428050</td>\n",
       "      <td>47263</td>\n",
       "      <td>835916</td>\n",
       "    </tr>\n",
       "    <tr>\n",
       "      <th>01/12/2024</th>\n",
       "      <td>1440311</td>\n",
       "      <td>44041</td>\n",
       "      <td>861582</td>\n",
       "    </tr>\n",
       "    <tr>\n",
       "      <th>01/01/2025</th>\n",
       "      <td>1359026</td>\n",
       "      <td>49486</td>\n",
       "      <td>809618</td>\n",
       "    </tr>\n",
       "    <tr>\n",
       "      <th>01/02/2025</th>\n",
       "      <td>1271336</td>\n",
       "      <td>45682</td>\n",
       "      <td>764860</td>\n",
       "    </tr>\n",
       "    <tr>\n",
       "      <th>01/03/2025</th>\n",
       "      <td>1450686</td>\n",
       "      <td>51237</td>\n",
       "      <td>887141</td>\n",
       "    </tr>\n",
       "  </tbody>\n",
       "</table>\n",
       "<p>176 rows × 3 columns</p>\n",
       "</div>"
      ],
      "text/plain": [
       "            Type1_ATT  Type2_ATT  Type3_ATT\n",
       "Period                                     \n",
       "01/08/2010    1138652      54371     559358\n",
       "01/09/2010    1150728      55181     550359\n",
       "01/10/2010    1163143      54961     583244\n",
       "01/11/2010    1111295      53727     486005\n",
       "01/12/2010    1159204      45536     533001\n",
       "...               ...        ...        ...\n",
       "01/11/2024    1428050      47263     835916\n",
       "01/12/2024    1440311      44041     861582\n",
       "01/01/2025    1359026      49486     809618\n",
       "01/02/2025    1271336      45682     764860\n",
       "01/03/2025    1450686      51237     887141\n",
       "\n",
       "[176 rows x 3 columns]"
      ]
     },
     "execution_count": 67,
     "metadata": {},
     "output_type": "execute_result"
    }
   ],
   "source": [
    "AE_data_test = AE_data_test.set_index(\"Period\")\n",
    "AE_data_test"
   ]
  },
  {
   "cell_type": "code",
   "execution_count": 68,
   "id": "6a90e962",
   "metadata": {},
   "outputs": [
    {
     "name": "stdout",
     "output_type": "stream",
     "text": [
      "<class 'pandas.core.frame.DataFrame'>\n",
      "Index: 176 entries, 01/08/2010 to 01/03/2025\n",
      "Data columns (total 3 columns):\n",
      " #   Column     Non-Null Count  Dtype\n",
      "---  ------     --------------  -----\n",
      " 0   Type1_ATT  176 non-null    int64\n",
      " 1   Type2_ATT  176 non-null    int64\n",
      " 2   Type3_ATT  176 non-null    int64\n",
      "dtypes: int64(3)\n",
      "memory usage: 5.5+ KB\n"
     ]
    }
   ],
   "source": [
    "AE_data_test.info()"
   ]
  },
  {
   "cell_type": "markdown",
   "id": "600c70ba",
   "metadata": {},
   "source": [
    "- Then I need to transform the other columns into numeric ones. Using pandas.to_numeric() method\n",
    "- AE_data[\"Type1_ATT\"] = pd.to_numeric(AE_data[\"Type1_ATT\"])"
   ]
  },
  {
   "cell_type": "code",
   "execution_count": 73,
   "id": "cfc76113",
   "metadata": {},
   "outputs": [
    {
     "data": {
      "application/vnd.microsoft.datawrangler.viewer.v0+json": {
       "columns": [
        {
         "name": "Period",
         "rawType": "object",
         "type": "string"
        },
        {
         "name": "Type1_ATT",
         "rawType": "int64",
         "type": "integer"
        },
        {
         "name": "Type2_ATT",
         "rawType": "int64",
         "type": "integer"
        },
        {
         "name": "Type3_ATT",
         "rawType": "int64",
         "type": "integer"
        }
       ],
       "conversionMethod": "pd.DataFrame",
       "ref": "90a334d0-4e9b-4d96-8e74-d4ff6f0e9ba7",
       "rows": [
        [
         "01/08/2010",
         "1138652",
         "54371",
         "559358"
        ],
        [
         "01/09/2010",
         "1150728",
         "55181",
         "550359"
        ],
        [
         "01/10/2010",
         "1163143",
         "54961",
         "583244"
        ],
        [
         "01/11/2010",
         "1111295",
         "53727",
         "486005"
        ],
        [
         "01/12/2010",
         "1159204",
         "45536",
         "533001"
        ]
       ],
       "shape": {
        "columns": 3,
        "rows": 5
       }
      },
      "text/html": [
       "<div>\n",
       "<style scoped>\n",
       "    .dataframe tbody tr th:only-of-type {\n",
       "        vertical-align: middle;\n",
       "    }\n",
       "\n",
       "    .dataframe tbody tr th {\n",
       "        vertical-align: top;\n",
       "    }\n",
       "\n",
       "    .dataframe thead th {\n",
       "        text-align: right;\n",
       "    }\n",
       "</style>\n",
       "<table border=\"1\" class=\"dataframe\">\n",
       "  <thead>\n",
       "    <tr style=\"text-align: right;\">\n",
       "      <th></th>\n",
       "      <th>Type1_ATT</th>\n",
       "      <th>Type2_ATT</th>\n",
       "      <th>Type3_ATT</th>\n",
       "    </tr>\n",
       "    <tr>\n",
       "      <th>Period</th>\n",
       "      <th></th>\n",
       "      <th></th>\n",
       "      <th></th>\n",
       "    </tr>\n",
       "  </thead>\n",
       "  <tbody>\n",
       "    <tr>\n",
       "      <th>01/08/2010</th>\n",
       "      <td>1138652</td>\n",
       "      <td>54371</td>\n",
       "      <td>559358</td>\n",
       "    </tr>\n",
       "    <tr>\n",
       "      <th>01/09/2010</th>\n",
       "      <td>1150728</td>\n",
       "      <td>55181</td>\n",
       "      <td>550359</td>\n",
       "    </tr>\n",
       "    <tr>\n",
       "      <th>01/10/2010</th>\n",
       "      <td>1163143</td>\n",
       "      <td>54961</td>\n",
       "      <td>583244</td>\n",
       "    </tr>\n",
       "    <tr>\n",
       "      <th>01/11/2010</th>\n",
       "      <td>1111295</td>\n",
       "      <td>53727</td>\n",
       "      <td>486005</td>\n",
       "    </tr>\n",
       "    <tr>\n",
       "      <th>01/12/2010</th>\n",
       "      <td>1159204</td>\n",
       "      <td>45536</td>\n",
       "      <td>533001</td>\n",
       "    </tr>\n",
       "  </tbody>\n",
       "</table>\n",
       "</div>"
      ],
      "text/plain": [
       "            Type1_ATT  Type2_ATT  Type3_ATT\n",
       "Period                                     \n",
       "01/08/2010    1138652      54371     559358\n",
       "01/09/2010    1150728      55181     550359\n",
       "01/10/2010    1163143      54961     583244\n",
       "01/11/2010    1111295      53727     486005\n",
       "01/12/2010    1159204      45536     533001"
      ]
     },
     "execution_count": 73,
     "metadata": {},
     "output_type": "execute_result"
    }
   ],
   "source": [
    "AE_data_test.head()"
   ]
  },
  {
   "cell_type": "code",
   "execution_count": null,
   "id": "2f0d6a80",
   "metadata": {},
   "outputs": [],
   "source": []
  },
  {
   "cell_type": "markdown",
   "id": "a98789eb",
   "metadata": {},
   "source": [
    "- Then as Period is set as index, I can subset 2011 data"
   ]
  },
  {
   "cell_type": "code",
   "execution_count": 74,
   "id": "c8499cd0",
   "metadata": {},
   "outputs": [
    {
     "data": {
      "application/vnd.microsoft.datawrangler.viewer.v0+json": {
       "columns": [
        {
         "name": "Period",
         "rawType": "object",
         "type": "string"
        },
        {
         "name": "Type1_ATT",
         "rawType": "int64",
         "type": "integer"
        },
        {
         "name": "Type2_ATT",
         "rawType": "int64",
         "type": "integer"
        },
        {
         "name": "Type3_ATT",
         "rawType": "int64",
         "type": "integer"
        }
       ],
       "conversionMethod": "pd.DataFrame",
       "ref": "f2dcc274-75c4-4839-9508-a5ec122b4dee",
       "rows": [
        [
         "01/08/2010",
         "1138652",
         "54371",
         "559358"
        ],
        [
         "01/09/2010",
         "1150728",
         "55181",
         "550359"
        ]
       ],
       "shape": {
        "columns": 3,
        "rows": 2
       }
      },
      "text/html": [
       "<div>\n",
       "<style scoped>\n",
       "    .dataframe tbody tr th:only-of-type {\n",
       "        vertical-align: middle;\n",
       "    }\n",
       "\n",
       "    .dataframe tbody tr th {\n",
       "        vertical-align: top;\n",
       "    }\n",
       "\n",
       "    .dataframe thead th {\n",
       "        text-align: right;\n",
       "    }\n",
       "</style>\n",
       "<table border=\"1\" class=\"dataframe\">\n",
       "  <thead>\n",
       "    <tr style=\"text-align: right;\">\n",
       "      <th></th>\n",
       "      <th>Type1_ATT</th>\n",
       "      <th>Type2_ATT</th>\n",
       "      <th>Type3_ATT</th>\n",
       "    </tr>\n",
       "    <tr>\n",
       "      <th>Period</th>\n",
       "      <th></th>\n",
       "      <th></th>\n",
       "      <th></th>\n",
       "    </tr>\n",
       "  </thead>\n",
       "  <tbody>\n",
       "    <tr>\n",
       "      <th>01/08/2010</th>\n",
       "      <td>1138652</td>\n",
       "      <td>54371</td>\n",
       "      <td>559358</td>\n",
       "    </tr>\n",
       "    <tr>\n",
       "      <th>01/09/2010</th>\n",
       "      <td>1150728</td>\n",
       "      <td>55181</td>\n",
       "      <td>550359</td>\n",
       "    </tr>\n",
       "  </tbody>\n",
       "</table>\n",
       "</div>"
      ],
      "text/plain": [
       "            Type1_ATT  Type2_ATT  Type3_ATT\n",
       "Period                                     \n",
       "01/08/2010    1138652      54371     559358\n",
       "01/09/2010    1150728      55181     550359"
      ]
     },
     "execution_count": 74,
     "metadata": {},
     "output_type": "execute_result"
    }
   ],
   "source": [
    "AE_data_test_2011 = AE_data_test.loc['01/08/2010':'01/09/2010']\n",
    "AE_data_test_2011.head()"
   ]
  },
  {
   "cell_type": "markdown",
   "id": "5e240cf9",
   "metadata": {},
   "source": [
    "### 5. Plot a Seaborn chart to add labels to it"
   ]
  },
  {
   "cell_type": "markdown",
   "id": "46cea399",
   "metadata": {},
   "source": [
    "- Start by selecting just Period and Type3_ATT columns from previous dataset"
   ]
  },
  {
   "cell_type": "code",
   "execution_count": 24,
   "id": "0671ca73",
   "metadata": {},
   "outputs": [],
   "source": [
    "AE_data_plot = AE_data.copy()"
   ]
  },
  {
   "cell_type": "code",
   "execution_count": 25,
   "id": "95f69317",
   "metadata": {},
   "outputs": [
    {
     "data": {
      "application/vnd.microsoft.datawrangler.viewer.v0+json": {
       "columns": [
        {
         "name": "index",
         "rawType": "int64",
         "type": "integer"
        },
        {
         "name": "Period",
         "rawType": "object",
         "type": "unknown"
        },
        {
         "name": "Type3_ATT",
         "rawType": "int64",
         "type": "integer"
        }
       ],
       "conversionMethod": "pd.DataFrame",
       "ref": "9aeb8017-6f31-47ad-9e60-a14b55069892",
       "rows": [
        [
         "0",
         "2010-01-08",
         "559358"
        ],
        [
         "1",
         "2010-01-09",
         "550359"
        ],
        [
         "2",
         "2010-01-10",
         "583244"
        ],
        [
         "3",
         "2010-01-11",
         "486005"
        ],
        [
         "4",
         "2010-01-12",
         "533001"
        ]
       ],
       "shape": {
        "columns": 2,
        "rows": 5
       }
      },
      "text/html": [
       "<div>\n",
       "<style scoped>\n",
       "    .dataframe tbody tr th:only-of-type {\n",
       "        vertical-align: middle;\n",
       "    }\n",
       "\n",
       "    .dataframe tbody tr th {\n",
       "        vertical-align: top;\n",
       "    }\n",
       "\n",
       "    .dataframe thead th {\n",
       "        text-align: right;\n",
       "    }\n",
       "</style>\n",
       "<table border=\"1\" class=\"dataframe\">\n",
       "  <thead>\n",
       "    <tr style=\"text-align: right;\">\n",
       "      <th></th>\n",
       "      <th>Period</th>\n",
       "      <th>Type3_ATT</th>\n",
       "    </tr>\n",
       "  </thead>\n",
       "  <tbody>\n",
       "    <tr>\n",
       "      <th>0</th>\n",
       "      <td>2010-01-08</td>\n",
       "      <td>559358</td>\n",
       "    </tr>\n",
       "    <tr>\n",
       "      <th>1</th>\n",
       "      <td>2010-01-09</td>\n",
       "      <td>550359</td>\n",
       "    </tr>\n",
       "    <tr>\n",
       "      <th>2</th>\n",
       "      <td>2010-01-10</td>\n",
       "      <td>583244</td>\n",
       "    </tr>\n",
       "    <tr>\n",
       "      <th>3</th>\n",
       "      <td>2010-01-11</td>\n",
       "      <td>486005</td>\n",
       "    </tr>\n",
       "    <tr>\n",
       "      <th>4</th>\n",
       "      <td>2010-01-12</td>\n",
       "      <td>533001</td>\n",
       "    </tr>\n",
       "  </tbody>\n",
       "</table>\n",
       "</div>"
      ],
      "text/plain": [
       "       Period  Type3_ATT\n",
       "0  2010-01-08     559358\n",
       "1  2010-01-09     550359\n",
       "2  2010-01-10     583244\n",
       "3  2010-01-11     486005\n",
       "4  2010-01-12     533001"
      ]
     },
     "execution_count": 25,
     "metadata": {},
     "output_type": "execute_result"
    }
   ],
   "source": [
    "AE_data_plot = AE_data_plot[['Period','Type3_ATT']]\n",
    "AE_data_plot.head()"
   ]
  },
  {
   "cell_type": "code",
   "execution_count": 30,
   "id": "60b338df",
   "metadata": {},
   "outputs": [
    {
     "data": {
      "text/plain": [
       "NoneType"
      ]
     },
     "execution_count": 30,
     "metadata": {},
     "output_type": "execute_result"
    }
   ],
   "source": [
    "type(AE_data_plot)"
   ]
  },
  {
   "cell_type": "markdown",
   "id": "2e9c914f",
   "metadata": {},
   "source": [
    "- Then we need to setup Period as our index to use .loc() to subset just 2011 data"
   ]
  },
  {
   "cell_type": "code",
   "execution_count": 28,
   "id": "47876a30",
   "metadata": {},
   "outputs": [
    {
     "ename": "AttributeError",
     "evalue": "'NoneType' object has no attribute 'set_index'",
     "output_type": "error",
     "traceback": [
      "\u001b[0;31m---------------------------------------------------------------------------\u001b[0m",
      "\u001b[0;31mAttributeError\u001b[0m                            Traceback (most recent call last)",
      "Cell \u001b[0;32mIn[28], line 1\u001b[0m\n\u001b[0;32m----> 1\u001b[0m AE_data_plot \u001b[38;5;241m=\u001b[39m \u001b[43mAE_data_plot\u001b[49m\u001b[38;5;241;43m.\u001b[39;49m\u001b[43mset_index\u001b[49m(\u001b[38;5;124m\"\u001b[39m\u001b[38;5;124mPeriod\u001b[39m\u001b[38;5;124m\"\u001b[39m,inplace\u001b[38;5;241m=\u001b[39m\u001b[38;5;28;01mTrue\u001b[39;00m)\n\u001b[1;32m      2\u001b[0m AE_data_plot\n",
      "\u001b[0;31mAttributeError\u001b[0m: 'NoneType' object has no attribute 'set_index'"
     ]
    }
   ],
   "source": [
    "AE_data_plot = AE_data_plot.set_index(\"Period\",inplace=True)\n",
    "AE_data_plot"
   ]
  },
  {
   "cell_type": "markdown",
   "id": "9c610047",
   "metadata": {},
   "source": [
    "- Then test initial plot for one year of data (2010)"
   ]
  },
  {
   "cell_type": "code",
   "execution_count": 23,
   "id": "fe91b2b8",
   "metadata": {},
   "outputs": [
    {
     "data": {
      "application/vnd.microsoft.datawrangler.viewer.v0+json": {
       "columns": [
        {
         "name": "index",
         "rawType": "int64",
         "type": "integer"
        },
        {
         "name": "Period",
         "rawType": "object",
         "type": "string"
        },
        {
         "name": "Type3_ATT",
         "rawType": "int64",
         "type": "integer"
        }
       ],
       "conversionMethod": "pd.DataFrame",
       "ref": "1fd394dd-3cef-4cc4-8246-61cab516262e",
       "rows": [],
       "shape": {
        "columns": 2,
        "rows": 0
       }
      },
      "text/html": [
       "<div>\n",
       "<style scoped>\n",
       "    .dataframe tbody tr th:only-of-type {\n",
       "        vertical-align: middle;\n",
       "    }\n",
       "\n",
       "    .dataframe tbody tr th {\n",
       "        vertical-align: top;\n",
       "    }\n",
       "\n",
       "    .dataframe thead th {\n",
       "        text-align: right;\n",
       "    }\n",
       "</style>\n",
       "<table border=\"1\" class=\"dataframe\">\n",
       "  <thead>\n",
       "    <tr style=\"text-align: right;\">\n",
       "      <th></th>\n",
       "      <th>Period</th>\n",
       "      <th>Type3_ATT</th>\n",
       "    </tr>\n",
       "  </thead>\n",
       "  <tbody>\n",
       "  </tbody>\n",
       "</table>\n",
       "</div>"
      ],
      "text/plain": [
       "Empty DataFrame\n",
       "Columns: [Period, Type3_ATT]\n",
       "Index: []"
      ]
     },
     "execution_count": 23,
     "metadata": {},
     "output_type": "execute_result"
    }
   ],
   "source": [
    "AE_data_plot_2010 = AE_data_plot.loc['2010-01-08':'2011-12-01']\n",
    "AE_data_plot_2010.head()"
   ]
  },
  {
   "cell_type": "markdown",
   "id": "a3ba7f29",
   "metadata": {},
   "source": [
    "From the previous  AE_data Dataframe we will subset Type3_ATT to plot a Seaborn chart and to add labels to it"
   ]
  },
  {
   "cell_type": "code",
   "execution_count": 20,
   "id": "d5472ebd",
   "metadata": {},
   "outputs": [
    {
     "data": {
      "image/png": "[encoded data removed]",
      "text/plain": [
       "<Figure size 1000x500 with 1 Axes>"
      ]
     },
     "metadata": {},
     "output_type": "display_data"
    }
   ],
   "source": [
    "sns.set(rc={'figure.figsize':(10,5)})\n",
    "ax = sns.lineplot(x='Period',y='Type3_ATT',data = AE_data, marker = '*', color = '#965786')"
   ]
  }
 ],
 "metadata": {
  "kernelspec": {
   "display_name": "Python 3",
   "language": "python",
   "name": "python3"
  },
  "language_info": {
   "codemirror_mode": {
    "name": "ipython",
    "version": 3
   },
   "file_extension": ".py",
   "mimetype": "text/x-python",
   "name": "python",
   "nbconvert_exporter": "python",
   "pygments_lexer": "ipython3",
   "version": "3.12.10"
  }
 },
 "nbformat": 4,
 "nbformat_minor": 5
}
