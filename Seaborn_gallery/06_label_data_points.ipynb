{
 "cells": [
  {
   "cell_type": "markdown",
   "id": "69b1f4ba",
   "metadata": {},
   "source": [
    "## Adding labels to Seaborn plots"
   ]
  },
  {
   "cell_type": "markdown",
   "id": "ed81a68d",
   "metadata": {},
   "source": [
    "**AIM**: This workbook describes how to include labels to Seaborn line charts"
   ]
  },
  {
   "cell_type": "markdown",
   "id": "e08b7283",
   "metadata": {},
   "source": [
    "### 1. Load required libraries"
   ]
  },
  {
   "cell_type": "code",
   "execution_count": 1,
   "id": "9472c6dd",
   "metadata": {},
   "outputs": [],
   "source": [
    "# Pandas and os for data ingestion and file manipulation\n",
    "import pandas as pd\n",
    "import os"
   ]
  },
  {
   "cell_type": "markdown",
   "id": "88258fc5",
   "metadata": {},
   "source": [
    "Loading also specific Seaborn libraries"
   ]
  },
  {
   "cell_type": "code",
   "execution_count": 2,
   "id": "a923fbe8",
   "metadata": {},
   "outputs": [],
   "source": [
    "import seaborn as sns\n",
    "import matplotlib.pyplot as plt \n",
    "sns.set_theme(style=\"darkgrid\")"
   ]
  },
  {
   "cell_type": "markdown",
   "id": "bef924a9",
   "metadata": {},
   "source": [
    "### 2. Build path to project folder "
   ]
  },
  {
   "cell_type": "markdown",
   "id": "36360993",
   "metadata": {},
   "source": [
    "In this section, I build the path to the \\data project folder where I can load any .xlsx or .csv file into Python."
   ]
  },
  {
   "cell_type": "code",
   "execution_count": 3,
   "id": "df8e9bba",
   "metadata": {},
   "outputs": [
    {
     "name": "stdout",
     "output_type": "stream",
     "text": [
      "My working directory is: /home/pablo/Documents/Pablo_zorin/VS_Python_GitHub_Pablo_source/ML-using-Python/Seaborn_gallery\n"
     ]
    }
   ],
   "source": [
    "my_wd = os.getcwd()\n",
    "print(\"My working directory is:\",my_wd)"
   ]
  },
  {
   "cell_type": "markdown",
   "id": "b83600aa",
   "metadata": {},
   "source": [
    "- I need to change default WD to ML-using-Python folder to access \\data sub-folder to ingest Excel file called \"INE total and foreign population figures Spain.xlsx\""
   ]
  },
  {
   "cell_type": "code",
   "execution_count": 4,
   "id": "905ea4d6",
   "metadata": {},
   "outputs": [
    {
     "name": "stdout",
     "output_type": "stream",
     "text": [
      "My Python project folder is: /home/pablo/Documents/Pablo_zorin/VS_Python_GitHub_Pablo_source/ML-using-Python\n"
     ]
    }
   ],
   "source": [
    "ML_using_Python_folder = os.path.join('/home','pablo','Documents','Pablo_zorin','VS_Python_GitHub_Pablo_source','ML-using-Python')\n",
    "print('My Python project folder is:',ML_using_Python_folder)"
   ]
  },
  {
   "cell_type": "markdown",
   "id": "19a446ee",
   "metadata": {},
   "source": [
    "- Then change default folder to this /ML-using-Python folder"
   ]
  },
  {
   "cell_type": "code",
   "execution_count": 5,
   "id": "9dfb0928",
   "metadata": {},
   "outputs": [],
   "source": [
    "os.chdir(ML_using_Python_folder)\n"
   ]
  },
  {
   "cell_type": "code",
   "execution_count": 6,
   "id": "ee15b675",
   "metadata": {},
   "outputs": [
    {
     "name": "stdout",
     "output_type": "stream",
     "text": [
      "Changed default working directory to: /home/pablo/Documents/Pablo_zorin/VS_Python_GitHub_Pablo_source/ML-using-Python\n"
     ]
    }
   ],
   "source": [
    "new_wd = os.getcwd()\n",
    "print(\"Changed default working directory to:\",new_wd)"
   ]
  },
  {
   "cell_type": "markdown",
   "id": "f0e6c596",
   "metadata": {},
   "source": [
    "### 3. Check data folder file contents"
   ]
  },
  {
   "cell_type": "markdown",
   "id": "966f25f6",
   "metadata": {},
   "source": [
    "- Check file contents from \\data folder and build path to Excel file to be imported into python "
   ]
  },
  {
   "cell_type": "code",
   "execution_count": 7,
   "id": "1a0e785a",
   "metadata": {},
   "outputs": [
    {
     "name": "stdout",
     "output_type": "stream",
     "text": [
      "data folder contents: ['wine_quality.zip', 'winequality.names', 'Monthly-AE-Time-Series-January-2024.xls', 'INE Resident population country of birth Spain.xlsx', 'AE_Time_Series_Data_website.txt', 'winequality-red.csv', 'OCDE_countries_population_figures_1970_2022.csv', 'all_wine_reset.csv', '03_INE_Spain_natural_growh_births_deaths.xlsx', '02 INE Spain CV population stocks and flows 2002 2025.xlsx', 'AE_Attendances_TypeI_2010_2025.csv', 'AE_Attendances_Aug2010_Mar_2025.csv', 'Monthly-AE-Time-Series-March-2025.xls', 'AE_Attendances_2010_2024.csv', 'Type_I_ATT_TEST.csv', 'Type_I_ATT_TRAIN.csv', 'ONS_Figure_2__Population_increase_in_mid-2023_was_driven_mostly_by_net_international_migration.xls', 'winequality-white.csv', 'INE total and foreign population figures Spain.xlsx', 'monthly-milk-production-pounds.csv', 'ONS_Figure_01_Long_term_emigration_immigration_net_migration.xlsx', 'ONS_long_term_immigration_end2024.xlsx', '01 INE resident population by nationality Spain and CV 2002 2024.xlsx']\n"
     ]
    }
   ],
   "source": [
    "data_folder = os.path.join('/home','pablo','Documents','Pablo_zorin','VS_Python_GitHub_Pablo_source','ML-using-Python','data')\n",
    "data_folder_contents = os.listdir(data_folder)\n",
    "print('data folder contents:',data_folder_contents)"
   ]
  },
  {
   "cell_type": "markdown",
   "id": "a03124fe",
   "metadata": {},
   "source": [
    "#### 3.1 I want to import a .csv file for this script"
   ]
  },
  {
   "cell_type": "markdown",
   "id": "96ced621",
   "metadata": {},
   "source": [
    "- Scan data_folder contents to list all .xlsx files. I want import \"AE_Attendances_Aug2010_Mar_2025.csv\" file that includes Attendances and Admissions for the 2010-2025 time period."
   ]
  },
  {
   "cell_type": "code",
   "execution_count": 8,
   "id": "90d4d20e",
   "metadata": {},
   "outputs": [
    {
     "name": "stdout",
     "output_type": "stream",
     "text": [
      "winequality-red.csv\n",
      "OCDE_countries_population_figures_1970_2022.csv\n",
      "all_wine_reset.csv\n",
      "AE_Attendances_TypeI_2010_2025.csv\n",
      "AE_Attendances_Aug2010_Mar_2025.csv\n",
      "AE_Attendances_2010_2024.csv\n",
      "Type_I_ATT_TEST.csv\n",
      "Type_I_ATT_TRAIN.csv\n",
      "winequality-white.csv\n",
      "monthly-milk-production-pounds.csv\n"
     ]
    }
   ],
   "source": [
    "for files in os.listdir(data_folder):\n",
    "    if files.endswith('.csv'):\n",
    "        print(files)\n",
    "    else:\n",
    "        continue"
   ]
  },
  {
   "cell_type": "markdown",
   "id": "b5b2646a",
   "metadata": {},
   "source": [
    "### 4. Import Aug2010_Mar_2025 csv file into Python"
   ]
  },
  {
   "cell_type": "markdown",
   "id": "d493b630",
   "metadata": {},
   "source": [
    "- From the above set of files, I want to import \"AE_Attendances_Aug2010_mar_2025.csv\" into Python and split it into Type I Attendances, Type II Attendances and Type III Attendances, as three independent .csv files."
   ]
  },
  {
   "cell_type": "code",
   "execution_count": 15,
   "id": "313548ca",
   "metadata": {},
   "outputs": [],
   "source": [
    "Attendances_file = os.path.join('data','AE_Attendances_Aug2010_Mar_2025.csv')"
   ]
  },
  {
   "cell_type": "markdown",
   "id": "53963ad8",
   "metadata": {},
   "source": [
    "- Import above .csv file into pyhon. Using the \"parse_dates\" argument from pd.read_csv() function for the specific **date** columns in our .csv file called **Period**. As this pd.read_csv(Attendances_file, parse_dates = ['Period'])"
   ]
  },
  {
   "cell_type": "code",
   "execution_count": 16,
   "id": "716d1052",
   "metadata": {},
   "outputs": [
    {
     "data": {
      "application/vnd.microsoft.datawrangler.viewer.v0+json": {
       "columns": [
        {
         "name": "index",
         "rawType": "int64",
         "type": "integer"
        },
        {
         "name": "Period",
         "rawType": "datetime64[ns]",
         "type": "datetime"
        },
        {
         "name": "Type1_ATT",
         "rawType": "int64",
         "type": "integer"
        },
        {
         "name": "Type2_ATT",
         "rawType": "int64",
         "type": "integer"
        },
        {
         "name": "Type3_ATT",
         "rawType": "int64",
         "type": "integer"
        }
       ],
       "conversionMethod": "pd.DataFrame",
       "ref": "18d10e64-73f2-4fa2-9d21-326fec88129a",
       "rows": [
        [
         "0",
         "2010-01-08 00:00:00",
         "1138652",
         "54371",
         "559358"
        ],
        [
         "1",
         "2010-01-09 00:00:00",
         "1150728",
         "55181",
         "550359"
        ],
        [
         "2",
         "2010-01-10 00:00:00",
         "1163143",
         "54961",
         "583244"
        ],
        [
         "3",
         "2010-01-11 00:00:00",
         "1111295",
         "53727",
         "486005"
        ],
        [
         "4",
         "2010-01-12 00:00:00",
         "1159204",
         "45536",
         "533001"
        ]
       ],
       "shape": {
        "columns": 4,
        "rows": 5
       }
      },
      "text/html": [
       "<div>\n",
       "<style scoped>\n",
       "    .dataframe tbody tr th:only-of-type {\n",
       "        vertical-align: middle;\n",
       "    }\n",
       "\n",
       "    .dataframe tbody tr th {\n",
       "        vertical-align: top;\n",
       "    }\n",
       "\n",
       "    .dataframe thead th {\n",
       "        text-align: right;\n",
       "    }\n",
       "</style>\n",
       "<table border=\"1\" class=\"dataframe\">\n",
       "  <thead>\n",
       "    <tr style=\"text-align: right;\">\n",
       "      <th></th>\n",
       "      <th>Period</th>\n",
       "      <th>Type1_ATT</th>\n",
       "      <th>Type2_ATT</th>\n",
       "      <th>Type3_ATT</th>\n",
       "    </tr>\n",
       "  </thead>\n",
       "  <tbody>\n",
       "    <tr>\n",
       "      <th>0</th>\n",
       "      <td>2010-01-08</td>\n",
       "      <td>1138652</td>\n",
       "      <td>54371</td>\n",
       "      <td>559358</td>\n",
       "    </tr>\n",
       "    <tr>\n",
       "      <th>1</th>\n",
       "      <td>2010-01-09</td>\n",
       "      <td>1150728</td>\n",
       "      <td>55181</td>\n",
       "      <td>550359</td>\n",
       "    </tr>\n",
       "    <tr>\n",
       "      <th>2</th>\n",
       "      <td>2010-01-10</td>\n",
       "      <td>1163143</td>\n",
       "      <td>54961</td>\n",
       "      <td>583244</td>\n",
       "    </tr>\n",
       "    <tr>\n",
       "      <th>3</th>\n",
       "      <td>2010-01-11</td>\n",
       "      <td>1111295</td>\n",
       "      <td>53727</td>\n",
       "      <td>486005</td>\n",
       "    </tr>\n",
       "    <tr>\n",
       "      <th>4</th>\n",
       "      <td>2010-01-12</td>\n",
       "      <td>1159204</td>\n",
       "      <td>45536</td>\n",
       "      <td>533001</td>\n",
       "    </tr>\n",
       "  </tbody>\n",
       "</table>\n",
       "</div>"
      ],
      "text/plain": [
       "      Period  Type1_ATT  Type2_ATT  Type3_ATT\n",
       "0 2010-01-08    1138652      54371     559358\n",
       "1 2010-01-09    1150728      55181     550359\n",
       "2 2010-01-10    1163143      54961     583244\n",
       "3 2010-01-11    1111295      53727     486005\n",
       "4 2010-01-12    1159204      45536     533001"
      ]
     },
     "execution_count": 16,
     "metadata": {},
     "output_type": "execute_result"
    }
   ],
   "source": [
    "AE_data = pd.read_csv(Attendances_file, \n",
    "                      parse_dates=['Period'])\n",
    "AE_data.head()"
   ]
  },
  {
   "cell_type": "code",
   "execution_count": 12,
   "id": "8a36dcdf",
   "metadata": {},
   "outputs": [
    {
     "name": "stdout",
     "output_type": "stream",
     "text": [
      "<class 'pandas.core.frame.DataFrame'>\n",
      "RangeIndex: 176 entries, 0 to 175\n",
      "Data columns (total 4 columns):\n",
      " #   Column     Non-Null Count  Dtype         \n",
      "---  ------     --------------  -----         \n",
      " 0   Period     176 non-null    datetime64[ns]\n",
      " 1   Type1_ATT  176 non-null    int64         \n",
      " 2   Type2_ATT  176 non-null    int64         \n",
      " 3   Type3_ATT  176 non-null    int64         \n",
      "dtypes: datetime64[ns](1), int64(3)\n",
      "memory usage: 5.6 KB\n"
     ]
    }
   ],
   "source": [
    "AE_data.info()"
   ]
  },
  {
   "cell_type": "code",
   "execution_count": 13,
   "id": "cc62523c",
   "metadata": {},
   "outputs": [
    {
     "data": {
      "text/plain": [
       "Index(['Period', 'Type1_ATT', 'Type2_ATT', 'Type3_ATT'], dtype='object')"
      ]
     },
     "execution_count": 13,
     "metadata": {},
     "output_type": "execute_result"
    }
   ],
   "source": [
    "AE_data.columns"
   ]
  },
  {
   "cell_type": "code",
   "execution_count": 14,
   "id": "aaa78418",
   "metadata": {},
   "outputs": [
    {
     "data": {
      "application/vnd.microsoft.datawrangler.viewer.v0+json": {
       "columns": [
        {
         "name": "index",
         "rawType": "int64",
         "type": "integer"
        },
        {
         "name": "Period",
         "rawType": "datetime64[ns]",
         "type": "datetime"
        },
        {
         "name": "Type1_ATT",
         "rawType": "int64",
         "type": "integer"
        },
        {
         "name": "Type2_ATT",
         "rawType": "int64",
         "type": "integer"
        },
        {
         "name": "Type3_ATT",
         "rawType": "int64",
         "type": "integer"
        }
       ],
       "conversionMethod": "pd.DataFrame",
       "ref": "759efbd1-4543-447d-9420-ccc8a0738dd8",
       "rows": [
        [
         "0",
         "2010-01-08 00:00:00",
         "1138652",
         "54371",
         "559358"
        ],
        [
         "1",
         "2010-01-09 00:00:00",
         "1150728",
         "55181",
         "550359"
        ],
        [
         "2",
         "2010-01-10 00:00:00",
         "1163143",
         "54961",
         "583244"
        ],
        [
         "3",
         "2010-01-11 00:00:00",
         "1111295",
         "53727",
         "486005"
        ],
        [
         "4",
         "2010-01-12 00:00:00",
         "1159204",
         "45536",
         "533001"
        ]
       ],
       "shape": {
        "columns": 4,
        "rows": 5
       }
      },
      "text/html": [
       "<div>\n",
       "<style scoped>\n",
       "    .dataframe tbody tr th:only-of-type {\n",
       "        vertical-align: middle;\n",
       "    }\n",
       "\n",
       "    .dataframe tbody tr th {\n",
       "        vertical-align: top;\n",
       "    }\n",
       "\n",
       "    .dataframe thead th {\n",
       "        text-align: right;\n",
       "    }\n",
       "</style>\n",
       "<table border=\"1\" class=\"dataframe\">\n",
       "  <thead>\n",
       "    <tr style=\"text-align: right;\">\n",
       "      <th></th>\n",
       "      <th>Period</th>\n",
       "      <th>Type1_ATT</th>\n",
       "      <th>Type2_ATT</th>\n",
       "      <th>Type3_ATT</th>\n",
       "    </tr>\n",
       "  </thead>\n",
       "  <tbody>\n",
       "    <tr>\n",
       "      <th>0</th>\n",
       "      <td>2010-01-08</td>\n",
       "      <td>1138652</td>\n",
       "      <td>54371</td>\n",
       "      <td>559358</td>\n",
       "    </tr>\n",
       "    <tr>\n",
       "      <th>1</th>\n",
       "      <td>2010-01-09</td>\n",
       "      <td>1150728</td>\n",
       "      <td>55181</td>\n",
       "      <td>550359</td>\n",
       "    </tr>\n",
       "    <tr>\n",
       "      <th>2</th>\n",
       "      <td>2010-01-10</td>\n",
       "      <td>1163143</td>\n",
       "      <td>54961</td>\n",
       "      <td>583244</td>\n",
       "    </tr>\n",
       "    <tr>\n",
       "      <th>3</th>\n",
       "      <td>2010-01-11</td>\n",
       "      <td>1111295</td>\n",
       "      <td>53727</td>\n",
       "      <td>486005</td>\n",
       "    </tr>\n",
       "    <tr>\n",
       "      <th>4</th>\n",
       "      <td>2010-01-12</td>\n",
       "      <td>1159204</td>\n",
       "      <td>45536</td>\n",
       "      <td>533001</td>\n",
       "    </tr>\n",
       "  </tbody>\n",
       "</table>\n",
       "</div>"
      ],
      "text/plain": [
       "      Period  Type1_ATT  Type2_ATT  Type3_ATT\n",
       "0 2010-01-08    1138652      54371     559358\n",
       "1 2010-01-09    1150728      55181     550359\n",
       "2 2010-01-10    1163143      54961     583244\n",
       "3 2010-01-11    1111295      53727     486005\n",
       "4 2010-01-12    1159204      45536     533001"
      ]
     },
     "execution_count": 14,
     "metadata": {},
     "output_type": "execute_result"
    }
   ],
   "source": [
    "AE_data.head()"
   ]
  },
  {
   "cell_type": "markdown",
   "id": "f46a60bd",
   "metadata": {},
   "source": [
    "### 6. Create new Column Total_ATT"
   ]
  },
  {
   "cell_type": "markdown",
   "id": "cb87361d",
   "metadata": {},
   "source": [
    "- Create new column called Total_ATT as a combination of Type1_ATT, Type2_ATT and Type3_ATT"
   ]
  },
  {
   "cell_type": "code",
   "execution_count": 17,
   "id": "ce1833b5",
   "metadata": {},
   "outputs": [
    {
     "data": {
      "application/vnd.microsoft.datawrangler.viewer.v0+json": {
       "columns": [
        {
         "name": "index",
         "rawType": "int64",
         "type": "integer"
        },
        {
         "name": "Period",
         "rawType": "datetime64[ns]",
         "type": "datetime"
        },
        {
         "name": "Type1_ATT",
         "rawType": "int64",
         "type": "integer"
        },
        {
         "name": "Type2_ATT",
         "rawType": "int64",
         "type": "integer"
        },
        {
         "name": "Type3_ATT",
         "rawType": "int64",
         "type": "integer"
        },
        {
         "name": "Total_ATT",
         "rawType": "int64",
         "type": "integer"
        }
       ],
       "conversionMethod": "pd.DataFrame",
       "ref": "63c8f6d5-b4db-4c17-9f81-f67f96aca4ee",
       "rows": [
        [
         "0",
         "2010-01-08 00:00:00",
         "1138652",
         "54371",
         "559358",
         "1752381"
        ],
        [
         "1",
         "2010-01-09 00:00:00",
         "1150728",
         "55181",
         "550359",
         "1756268"
        ],
        [
         "2",
         "2010-01-10 00:00:00",
         "1163143",
         "54961",
         "583244",
         "1801348"
        ],
        [
         "3",
         "2010-01-11 00:00:00",
         "1111295",
         "53727",
         "486005",
         "1651027"
        ],
        [
         "4",
         "2010-01-12 00:00:00",
         "1159204",
         "45536",
         "533001",
         "1737741"
        ]
       ],
       "shape": {
        "columns": 5,
        "rows": 5
       }
      },
      "text/html": [
       "<div>\n",
       "<style scoped>\n",
       "    .dataframe tbody tr th:only-of-type {\n",
       "        vertical-align: middle;\n",
       "    }\n",
       "\n",
       "    .dataframe tbody tr th {\n",
       "        vertical-align: top;\n",
       "    }\n",
       "\n",
       "    .dataframe thead th {\n",
       "        text-align: right;\n",
       "    }\n",
       "</style>\n",
       "<table border=\"1\" class=\"dataframe\">\n",
       "  <thead>\n",
       "    <tr style=\"text-align: right;\">\n",
       "      <th></th>\n",
       "      <th>Period</th>\n",
       "      <th>Type1_ATT</th>\n",
       "      <th>Type2_ATT</th>\n",
       "      <th>Type3_ATT</th>\n",
       "      <th>Total_ATT</th>\n",
       "    </tr>\n",
       "  </thead>\n",
       "  <tbody>\n",
       "    <tr>\n",
       "      <th>0</th>\n",
       "      <td>2010-01-08</td>\n",
       "      <td>1138652</td>\n",
       "      <td>54371</td>\n",
       "      <td>559358</td>\n",
       "      <td>1752381</td>\n",
       "    </tr>\n",
       "    <tr>\n",
       "      <th>1</th>\n",
       "      <td>2010-01-09</td>\n",
       "      <td>1150728</td>\n",
       "      <td>55181</td>\n",
       "      <td>550359</td>\n",
       "      <td>1756268</td>\n",
       "    </tr>\n",
       "    <tr>\n",
       "      <th>2</th>\n",
       "      <td>2010-01-10</td>\n",
       "      <td>1163143</td>\n",
       "      <td>54961</td>\n",
       "      <td>583244</td>\n",
       "      <td>1801348</td>\n",
       "    </tr>\n",
       "    <tr>\n",
       "      <th>3</th>\n",
       "      <td>2010-01-11</td>\n",
       "      <td>1111295</td>\n",
       "      <td>53727</td>\n",
       "      <td>486005</td>\n",
       "      <td>1651027</td>\n",
       "    </tr>\n",
       "    <tr>\n",
       "      <th>4</th>\n",
       "      <td>2010-01-12</td>\n",
       "      <td>1159204</td>\n",
       "      <td>45536</td>\n",
       "      <td>533001</td>\n",
       "      <td>1737741</td>\n",
       "    </tr>\n",
       "  </tbody>\n",
       "</table>\n",
       "</div>"
      ],
      "text/plain": [
       "      Period  Type1_ATT  Type2_ATT  Type3_ATT  Total_ATT\n",
       "0 2010-01-08    1138652      54371     559358    1752381\n",
       "1 2010-01-09    1150728      55181     550359    1756268\n",
       "2 2010-01-10    1163143      54961     583244    1801348\n",
       "3 2010-01-11    1111295      53727     486005    1651027\n",
       "4 2010-01-12    1159204      45536     533001    1737741"
      ]
     },
     "execution_count": 17,
     "metadata": {},
     "output_type": "execute_result"
    }
   ],
   "source": [
    "AE_data['Total_ATT'] = AE_data['Type1_ATT'] + AE_data['Type2_ATT'] + AE_data['Type3_ATT']\n",
    "AE_data.head() "
   ]
  },
  {
   "cell_type": "code",
   "execution_count": 19,
   "id": "238e491f",
   "metadata": {},
   "outputs": [
    {
     "data": {
      "text/plain": [
       "Index(['Period', 'Type1_ATT', 'Type2_ATT', 'Type3_ATT', 'Total_ATT'], dtype='object')"
      ]
     },
     "execution_count": 19,
     "metadata": {},
     "output_type": "execute_result"
    }
   ],
   "source": [
    "AE_data.columns"
   ]
  },
  {
   "cell_type": "markdown",
   "id": "c878d553",
   "metadata": {},
   "source": [
    "Newly created Total_ATT column has been added to the AE_data dataframe."
   ]
  },
  {
   "cell_type": "markdown",
   "id": "ab418352",
   "metadata": {},
   "source": [
    "### 5. Subset 2011 data "
   ]
  },
  {
   "cell_type": "markdown",
   "id": "48c38494",
   "metadata": {},
   "source": [
    "- Let's use .loc command to filter previous AE_data for 2011 only data."
   ]
  },
  {
   "cell_type": "code",
   "execution_count": 21,
   "id": "80f346ee",
   "metadata": {},
   "outputs": [
    {
     "data": {
      "application/vnd.microsoft.datawrangler.viewer.v0+json": {
       "columns": [
        {
         "name": "index",
         "rawType": "int64",
         "type": "integer"
        },
        {
         "name": "Period",
         "rawType": "datetime64[ns]",
         "type": "datetime"
        },
        {
         "name": "Type1_ATT",
         "rawType": "int64",
         "type": "integer"
        },
        {
         "name": "Type2_ATT",
         "rawType": "int64",
         "type": "integer"
        },
        {
         "name": "Type3_ATT",
         "rawType": "int64",
         "type": "integer"
        },
        {
         "name": "Total_ATT",
         "rawType": "int64",
         "type": "integer"
        }
       ],
       "conversionMethod": "pd.DataFrame",
       "ref": "9aa29d7e-2047-49da-bf07-4cfbbb5286dd",
       "rows": [
        [
         "0",
         "2010-01-08 00:00:00",
         "1138652",
         "54371",
         "559358",
         "1752381"
        ],
        [
         "1",
         "2010-01-09 00:00:00",
         "1150728",
         "55181",
         "550359",
         "1756268"
        ],
        [
         "2",
         "2010-01-10 00:00:00",
         "1163143",
         "54961",
         "583244",
         "1801348"
        ],
        [
         "3",
         "2010-01-11 00:00:00",
         "1111295",
         "53727",
         "486005",
         "1651027"
        ],
        [
         "4",
         "2010-01-12 00:00:00",
         "1159204",
         "45536",
         "533001",
         "1737741"
        ]
       ],
       "shape": {
        "columns": 5,
        "rows": 5
       }
      },
      "text/html": [
       "<div>\n",
       "<style scoped>\n",
       "    .dataframe tbody tr th:only-of-type {\n",
       "        vertical-align: middle;\n",
       "    }\n",
       "\n",
       "    .dataframe tbody tr th {\n",
       "        vertical-align: top;\n",
       "    }\n",
       "\n",
       "    .dataframe thead th {\n",
       "        text-align: right;\n",
       "    }\n",
       "</style>\n",
       "<table border=\"1\" class=\"dataframe\">\n",
       "  <thead>\n",
       "    <tr style=\"text-align: right;\">\n",
       "      <th></th>\n",
       "      <th>Period</th>\n",
       "      <th>Type1_ATT</th>\n",
       "      <th>Type2_ATT</th>\n",
       "      <th>Type3_ATT</th>\n",
       "      <th>Total_ATT</th>\n",
       "    </tr>\n",
       "  </thead>\n",
       "  <tbody>\n",
       "    <tr>\n",
       "      <th>0</th>\n",
       "      <td>2010-01-08</td>\n",
       "      <td>1138652</td>\n",
       "      <td>54371</td>\n",
       "      <td>559358</td>\n",
       "      <td>1752381</td>\n",
       "    </tr>\n",
       "    <tr>\n",
       "      <th>1</th>\n",
       "      <td>2010-01-09</td>\n",
       "      <td>1150728</td>\n",
       "      <td>55181</td>\n",
       "      <td>550359</td>\n",
       "      <td>1756268</td>\n",
       "    </tr>\n",
       "    <tr>\n",
       "      <th>2</th>\n",
       "      <td>2010-01-10</td>\n",
       "      <td>1163143</td>\n",
       "      <td>54961</td>\n",
       "      <td>583244</td>\n",
       "      <td>1801348</td>\n",
       "    </tr>\n",
       "    <tr>\n",
       "      <th>3</th>\n",
       "      <td>2010-01-11</td>\n",
       "      <td>1111295</td>\n",
       "      <td>53727</td>\n",
       "      <td>486005</td>\n",
       "      <td>1651027</td>\n",
       "    </tr>\n",
       "    <tr>\n",
       "      <th>4</th>\n",
       "      <td>2010-01-12</td>\n",
       "      <td>1159204</td>\n",
       "      <td>45536</td>\n",
       "      <td>533001</td>\n",
       "      <td>1737741</td>\n",
       "    </tr>\n",
       "  </tbody>\n",
       "</table>\n",
       "</div>"
      ],
      "text/plain": [
       "      Period  Type1_ATT  Type2_ATT  Type3_ATT  Total_ATT\n",
       "0 2010-01-08    1138652      54371     559358    1752381\n",
       "1 2010-01-09    1150728      55181     550359    1756268\n",
       "2 2010-01-10    1163143      54961     583244    1801348\n",
       "3 2010-01-11    1111295      53727     486005    1651027\n",
       "4 2010-01-12    1159204      45536     533001    1737741"
      ]
     },
     "execution_count": 21,
     "metadata": {},
     "output_type": "execute_result"
    }
   ],
   "source": [
    "\n",
    "# This will filter just 2011 data \n",
    "AE_data_imported_2011 = AE_data.loc[(AE_data['Period'] >= '2011-01-01')\n",
    "                                             & (AE_data['Period'] <= '2011-01-12')]\n",
    "AE_data.head()"
   ]
  },
  {
   "cell_type": "code",
   "execution_count": 22,
   "id": "6d533fc4",
   "metadata": {},
   "outputs": [
    {
     "data": {
      "application/vnd.microsoft.datawrangler.viewer.v0+json": {
       "columns": [
        {
         "name": "index",
         "rawType": "int64",
         "type": "integer"
        },
        {
         "name": "Period",
         "rawType": "datetime64[ns]",
         "type": "datetime"
        },
        {
         "name": "Type3_ATT",
         "rawType": "int64",
         "type": "integer"
        }
       ],
       "conversionMethod": "pd.DataFrame",
       "ref": "7f8ff5a4-7def-4aca-96fa-a3f6bc3d4bc9",
       "rows": [
        [
         "5",
         "2011-01-01 00:00:00",
         "542331"
        ],
        [
         "6",
         "2011-01-02 00:00:00",
         "494408"
        ],
        [
         "7",
         "2011-01-03 00:00:00",
         "580319"
        ],
        [
         "8",
         "2011-01-04 00:00:00",
         "593120"
        ],
        [
         "9",
         "2011-01-05 00:00:00",
         "594941"
        ]
       ],
       "shape": {
        "columns": 2,
        "rows": 5
       }
      },
      "text/html": [
       "<div>\n",
       "<style scoped>\n",
       "    .dataframe tbody tr th:only-of-type {\n",
       "        vertical-align: middle;\n",
       "    }\n",
       "\n",
       "    .dataframe tbody tr th {\n",
       "        vertical-align: top;\n",
       "    }\n",
       "\n",
       "    .dataframe thead th {\n",
       "        text-align: right;\n",
       "    }\n",
       "</style>\n",
       "<table border=\"1\" class=\"dataframe\">\n",
       "  <thead>\n",
       "    <tr style=\"text-align: right;\">\n",
       "      <th></th>\n",
       "      <th>Period</th>\n",
       "      <th>Type3_ATT</th>\n",
       "    </tr>\n",
       "  </thead>\n",
       "  <tbody>\n",
       "    <tr>\n",
       "      <th>5</th>\n",
       "      <td>2011-01-01</td>\n",
       "      <td>542331</td>\n",
       "    </tr>\n",
       "    <tr>\n",
       "      <th>6</th>\n",
       "      <td>2011-01-02</td>\n",
       "      <td>494408</td>\n",
       "    </tr>\n",
       "    <tr>\n",
       "      <th>7</th>\n",
       "      <td>2011-01-03</td>\n",
       "      <td>580319</td>\n",
       "    </tr>\n",
       "    <tr>\n",
       "      <th>8</th>\n",
       "      <td>2011-01-04</td>\n",
       "      <td>593120</td>\n",
       "    </tr>\n",
       "    <tr>\n",
       "      <th>9</th>\n",
       "      <td>2011-01-05</td>\n",
       "      <td>594941</td>\n",
       "    </tr>\n",
       "  </tbody>\n",
       "</table>\n",
       "</div>"
      ],
      "text/plain": [
       "      Period  Type3_ATT\n",
       "5 2011-01-01     542331\n",
       "6 2011-01-02     494408\n",
       "7 2011-01-03     580319\n",
       "8 2011-01-04     593120\n",
       "9 2011-01-05     594941"
      ]
     },
     "execution_count": 22,
     "metadata": {},
     "output_type": "execute_result"
    }
   ],
   "source": [
    "# Ensure we only keep one column 'Type3_ATT' to display data labels on Seaborn chart\n",
    "AE_data_plot_2011 = AE_data_imported_2011.copy()\n",
    "\n",
    "AE_data_plot_2011 = AE_data_plot_2011[['Period','Type3_ATT']]\n",
    "AE_data_plot_2011.head()\n"
   ]
  },
  {
   "cell_type": "code",
   "execution_count": 23,
   "id": "66ae63ca",
   "metadata": {},
   "outputs": [
    {
     "name": "stdout",
     "output_type": "stream",
     "text": [
      "<class 'pandas.core.frame.DataFrame'>\n",
      "Index: 12 entries, 5 to 16\n",
      "Data columns (total 2 columns):\n",
      " #   Column     Non-Null Count  Dtype         \n",
      "---  ------     --------------  -----         \n",
      " 0   Period     12 non-null     datetime64[ns]\n",
      " 1   Type3_ATT  12 non-null     int64         \n",
      "dtypes: datetime64[ns](1), int64(1)\n",
      "memory usage: 288.0 bytes\n"
     ]
    }
   ],
   "source": [
    "AE_data_plot_2011.info()"
   ]
  },
  {
   "cell_type": "code",
   "execution_count": 24,
   "id": "755d8b16",
   "metadata": {},
   "outputs": [
    {
     "data": {
      "text/plain": [
       "Index(['Period', 'Type3_ATT'], dtype='object')"
      ]
     },
     "execution_count": 24,
     "metadata": {},
     "output_type": "execute_result"
    }
   ],
   "source": [
    "AE_data_plot_2011.columns"
   ]
  },
  {
   "cell_type": "markdown",
   "id": "5e240cf9",
   "metadata": {},
   "source": [
    "### 5. Plot a Seaborn chart to add labels to it"
   ]
  },
  {
   "cell_type": "markdown",
   "id": "46cea399",
   "metadata": {},
   "source": [
    "- Start by selecting just Period and Type3_ATT columns from previous dataset"
   ]
  },
  {
   "cell_type": "markdown",
   "id": "9c610047",
   "metadata": {},
   "source": [
    "- This is a standard Seaborn line chart."
   ]
  },
  {
   "cell_type": "markdown",
   "id": "a3ba7f29",
   "metadata": {},
   "source": [
    "From the previous  AE_data Dataframe we will subset Type3_ATT to plot a Seaborn chart and to add labels to it"
   ]
  },
  {
   "cell_type": "code",
   "execution_count": 33,
   "id": "d5472ebd",
   "metadata": {},
   "outputs": [
    {
     "data": {
      "image/png": "[encoded data removed]",
      "text/plain": [
       "<Figure size 1000x500 with 1 Axes>"
      ]
     },
     "metadata": {},
     "output_type": "display_data"
    }
   ],
   "source": [
    "sns.set(rc={'figure.figsize':(10,5)})\n",
    "ax = sns.lineplot(x='Period',y='Type3_ATT',data = AE_data_plot_2011, marker = '*', color = '#965786').set_title(\"UK TypeIII Attendances. January-December 2011\") \n",
    "plt.savefig('Seaborn_gallery/Seaborn_plots/UK TypeIII Attendances UK year 2011.png', bbox_inches='tight') ## This saves the output plot successfully in the project folder\n",
    "plt.show()"
   ]
  },
  {
   "cell_type": "markdown",
   "id": "043f3d68",
   "metadata": {},
   "source": [
    "### 6. Adding data labels to previous Seaboarn chart "
   ]
  },
  {
   "cell_type": "markdown",
   "id": "1f538abe",
   "metadata": {},
   "source": [
    "- I can now include labels to each of the above data points displayins Type III Attendances in England for the Jan 2011 to Dec 2011 period."
   ]
  },
  {
   "cell_type": "code",
   "execution_count": 34,
   "id": "144bff85",
   "metadata": {},
   "outputs": [
    {
     "data": {
      "image/png": "[encoded data removed]",
      "text/plain": [
       "<Figure size 1000x500 with 1 Axes>"
      ]
     },
     "metadata": {},
     "output_type": "display_data"
    }
   ],
   "source": [
    "sns.set(rc={'figure.figsize':(10,5)})\n",
    "ax = sns.lineplot(x='Period',y='Type3_ATT',data = AE_data_plot_2011, marker = '*', color = '#965786') \n",
    "ax.set(title = 'UK TypeIII Attendances. January-December 2011')\n",
    "# Now we add labels to each data points from previous seaborn plot\n",
    "for x,y in zip(AE_data_plot_2011['Period'],AE_data_plot_2011['Type3_ATT']):\n",
    "    plt.text(x = x, # x coords position data label\n",
    "             y = y-150, # y coords position data label, adjusted 150 below data point\n",
    "             s ='{:.0f}'.format(y, # Format to ignore decimals\n",
    "                                color = 'blue')) # Set line colour as blue\n",
    "plt.savefig('Seaborn_gallery/Seaborn_plots/UK TypeIII Attendances UK year 2011 data labels.png', bbox_inches='tight') ## This saves the output plot successfully in the project folder\n",
    "plt.show()\n"
   ]
  }
 ],
 "metadata": {
  "kernelspec": {
   "display_name": "Python 3",
   "language": "python",
   "name": "python3"
  },
  "language_info": {
   "codemirror_mode": {
    "name": "ipython",
    "version": 3
   },
   "file_extension": ".py",
   "mimetype": "text/x-python",
   "name": "python",
   "nbconvert_exporter": "python",
   "pygments_lexer": "ipython3",
   "version": "3.12.10"
  }
 },
 "nbformat": 4,
 "nbformat_minor": 5
}
