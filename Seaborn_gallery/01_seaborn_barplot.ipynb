{
 "cells": [
  {
   "cell_type": "markdown",
   "metadata": {},
   "source": [
    "## Set of Barplots created using seaborn"
   ]
  },
  {
   "cell_type": "markdown",
   "metadata": {},
   "source": [
    "Examples on how to create a barplot using seaborn"
   ]
  },
  {
   "cell_type": "markdown",
   "metadata": {},
   "source": [
    "## 1.Load required libraries"
   ]
  },
  {
   "cell_type": "markdown",
   "metadata": {},
   "source": [
    "- Basic libraries for files manipulation **os**  and data wrangling **pandas** "
   ]
  },
  {
   "cell_type": "code",
   "execution_count": 1,
   "metadata": {},
   "outputs": [],
   "source": [
    "# 1. Load basic libraries\n",
    "import pandas as pd\n",
    "import os"
   ]
  },
  {
   "cell_type": "markdown",
   "metadata": {},
   "source": [
    "- Specific libraries for Seaborn charts"
   ]
  },
  {
   "cell_type": "code",
   "execution_count": 2,
   "metadata": {},
   "outputs": [],
   "source": [
    "import seaborn as sns\n",
    "import matplotlib.pyplot as plt\n",
    "sns.set_theme(style=\"whitegrid\")"
   ]
  },
  {
   "cell_type": "code",
   "execution_count": 3,
   "metadata": {},
   "outputs": [
    {
     "name": "stdout",
     "output_type": "stream",
     "text": [
      "My working directory is: /home/pablo/Documents/Pablo_zorin/VS_Python_GitHub_Pablo_source/ML-using-Python/Seaborn_gallery\n"
     ]
    }
   ],
   "source": [
    "# 2.Import Excel file into Python \n",
    "\n",
    "my_wd = os.getcwd()\n",
    "print(\"My working directory is:\",my_wd)\n",
    "\n",
    "# 2.1 List files in \\data folder to identify Excel file to be imported into Python \n",
    "new_wd_ML_using_python = os.path.join(\"/home\",\"pablo\",\"Documents\",\"Pablo_zorin\",\"VS_Python_GitHub_Pablo_source\",\"ML-using-Python\")\n"
   ]
  },
  {
   "cell_type": "code",
   "execution_count": 4,
   "metadata": {},
   "outputs": [
    {
     "name": "stdout",
     "output_type": "stream",
     "text": [
      "Changed working directory to: /home/pablo/Documents/Pablo_zorin/VS_Python_GitHub_Pablo_source/ML-using-Python\n"
     ]
    }
   ],
   "source": [
    "# And we change existing working directory to ML-using-Python folder to access the \\data folder\n",
    "os.chdir(new_wd_ML_using_python)\n",
    "\n",
    "new_wd = os.getcwd()\n",
    "print(\"Changed working directory to:\",new_wd)"
   ]
  },
  {
   "cell_type": "code",
   "execution_count": 5,
   "metadata": {},
   "outputs": [
    {
     "name": "stdout",
     "output_type": "stream",
     "text": [
      "data folder contents: ['wine_quality.zip', 'winequality.names', 'Monthly-AE-Time-Series-January-2024.xls', 'INE Resident population country of birth Spain.xlsx', 'AE_Time_Series_Data_website.txt', 'winequality-red.csv', 'OCDE_countries_population_figures_1970_2022.csv', 'all_wine_reset.csv', 'AE_Attendances_2010_2024.csv', 'ONS_Figure_2__Population_increase_in_mid-2023_was_driven_mostly_by_net_international_migration.xls', 'winequality-white.csv', 'INE total and foreign population figures Spain.xlsx', 'monthly-milk-production-pounds.csv', 'ONS_Figure_01_Long_term_emigration_immigration_net_migration.xlsx', 'ONS_long_term_immigration_end2024.xlsx']\n",
      "ÍNE_population_nationality: data/INE total and foreign population figures Spain.xlsx\n"
     ]
    }
   ],
   "source": [
    "\n",
    "data_folder = os.path.join(\"/home\",\"pablo\",\"Documents\",\"Pablo_zorin\",\"VS_Python_GitHub_Pablo_source\",\"ML-using-Python\",\n",
    "                           'data')\n",
    "data_folder_contents = os.listdir(data_folder)\n",
    "print('data folder contents:',data_folder_contents)\n",
    "\n",
    "# 2.2 Build  path to Excel file location\n",
    "ine_population_nationality = os.path.join('data','INE total and foreign population figures Spain.xlsx')\n",
    "print('ÍNE_population_nationality:',ine_population_nationality)"
   ]
  },
  {
   "cell_type": "markdown",
   "metadata": {},
   "source": [
    "## 2. Import Excel file into Python "
   ]
  },
  {
   "cell_type": "code",
   "execution_count": 6,
   "metadata": {},
   "outputs": [
    {
     "name": "stdout",
     "output_type": "stream",
     "text": [
      "ÍNE_population_nationality: data/INE total and foreign population figures Spain.xlsx\n"
     ]
    }
   ],
   "source": [
    "ine_population_nationality = os.path.join('data','INE total and foreign population figures Spain.xlsx')\n",
    "print('ÍNE_population_nationality:',ine_population_nationality)"
   ]
  },
  {
   "cell_type": "markdown",
   "metadata": {},
   "source": [
    "- Get tab names from imported Excel file to load third tab from incoming Excel file"
   ]
  },
  {
   "cell_type": "code",
   "execution_count": 7,
   "metadata": {},
   "outputs": [],
   "source": [
    "import openpyxl"
   ]
  },
  {
   "cell_type": "code",
   "execution_count": 8,
   "metadata": {},
   "outputs": [
    {
     "data": {
      "text/plain": [
       "['INE_Foreign_population',\n",
       " 'INE_Total_population',\n",
       " 'INE_Total_foreign_population']"
      ]
     },
     "execution_count": 8,
     "metadata": {},
     "output_type": "execute_result"
    }
   ],
   "source": [
    "xl = pd.ExcelFile(ine_population_nationality)\n",
    "\n",
    "xl.sheet_names  # see all sheet names\n",
    "\n",
    "#xl.parse(sheet_name)  # read a specific sheet to DataFrame"
   ]
  },
  {
   "cell_type": "code",
   "execution_count": 9,
   "metadata": {},
   "outputs": [
    {
     "data": {
      "application/vnd.microsoft.datawrangler.viewer.v0+json": {
       "columns": [
        {
         "name": "index",
         "rawType": "int64",
         "type": "integer"
        },
        {
         "name": "Todas las edades",
         "rawType": "object",
         "type": "string"
        },
        {
         "name": "Total",
         "rawType": "object",
         "type": "unknown"
        },
        {
         "name": "Foreign population",
         "rawType": "float64",
         "type": "float"
        },
        {
         "name": "% Foreign Nationals/Total population",
         "rawType": "float64",
         "type": "float"
        },
        {
         "name": "Total YoY(N)",
         "rawType": "float64",
         "type": "float"
        },
        {
         "name": "Total YoY)(%)",
         "rawType": "float64",
         "type": "float"
        },
        {
         "name": "Foreign Nationals YoY(N)",
         "rawType": "float64",
         "type": "float"
        },
        {
         "name": "Foreign Total YoY)(%)",
         "rawType": "float64",
         "type": "float"
        }
       ],
       "conversionMethod": "pd.DataFrame",
       "ref": "8458de8b-e90e-4692-9c82-0f4474e9d460",
       "rows": [
        [
         "0",
         "1 de enero de 2025",
         "49077984",
         "6852348.0",
         "0.139621627489833",
         null,
         null,
         null,
         null
        ],
        [
         "1",
         "1 de enero de 2024",
         "48619695",
         "6502282.0",
         "0.133737613944308",
         "458289.0",
         "0.00942599495945008",
         "350066.0",
         "0.0538374066212447"
        ],
        [
         "2",
         "1 de enero de 2023",
         "48085361",
         "6089620.0",
         "0.1266418692375",
         "534334.0",
         "0.0111121969116547",
         "412662.0",
         "0.0677648194797048"
        ],
        [
         "3",
         "1 de enero de 2022",
         "47486727",
         "5509046.0",
         "0.116012333298945",
         "598634.0",
         "0.0126063436631461",
         "580574.0",
         "0.105385578555706"
        ],
        [
         "4",
         "1 de enero de 2021",
         "47400798",
         "5402702.0",
         "0.11397913596307",
         "85929.0",
         "0.00181281758167869",
         "106344.0",
         "0.0196834843010035"
        ]
       ],
       "shape": {
        "columns": 8,
        "rows": 5
       }
      },
      "text/html": [
       "<div>\n",
       "<style scoped>\n",
       "    .dataframe tbody tr th:only-of-type {\n",
       "        vertical-align: middle;\n",
       "    }\n",
       "\n",
       "    .dataframe tbody tr th {\n",
       "        vertical-align: top;\n",
       "    }\n",
       "\n",
       "    .dataframe thead th {\n",
       "        text-align: right;\n",
       "    }\n",
       "</style>\n",
       "<table border=\"1\" class=\"dataframe\">\n",
       "  <thead>\n",
       "    <tr style=\"text-align: right;\">\n",
       "      <th></th>\n",
       "      <th>Todas las edades</th>\n",
       "      <th>Total</th>\n",
       "      <th>Foreign population</th>\n",
       "      <th>% Foreign Nationals/Total population</th>\n",
       "      <th>Total YoY(N)</th>\n",
       "      <th>Total YoY)(%)</th>\n",
       "      <th>Foreign Nationals YoY(N)</th>\n",
       "      <th>Foreign Total YoY)(%)</th>\n",
       "    </tr>\n",
       "  </thead>\n",
       "  <tbody>\n",
       "    <tr>\n",
       "      <th>0</th>\n",
       "      <td>1 de enero de 2025</td>\n",
       "      <td>49077984</td>\n",
       "      <td>6852348.0</td>\n",
       "      <td>0.139622</td>\n",
       "      <td>NaN</td>\n",
       "      <td>NaN</td>\n",
       "      <td>NaN</td>\n",
       "      <td>NaN</td>\n",
       "    </tr>\n",
       "    <tr>\n",
       "      <th>1</th>\n",
       "      <td>1 de enero de 2024</td>\n",
       "      <td>48619695</td>\n",
       "      <td>6502282.0</td>\n",
       "      <td>0.133738</td>\n",
       "      <td>458289.0</td>\n",
       "      <td>0.009426</td>\n",
       "      <td>350066.0</td>\n",
       "      <td>0.053837</td>\n",
       "    </tr>\n",
       "    <tr>\n",
       "      <th>2</th>\n",
       "      <td>1 de enero de 2023</td>\n",
       "      <td>48085361</td>\n",
       "      <td>6089620.0</td>\n",
       "      <td>0.126642</td>\n",
       "      <td>534334.0</td>\n",
       "      <td>0.011112</td>\n",
       "      <td>412662.0</td>\n",
       "      <td>0.067765</td>\n",
       "    </tr>\n",
       "    <tr>\n",
       "      <th>3</th>\n",
       "      <td>1 de enero de 2022</td>\n",
       "      <td>47486727</td>\n",
       "      <td>5509046.0</td>\n",
       "      <td>0.116012</td>\n",
       "      <td>598634.0</td>\n",
       "      <td>0.012606</td>\n",
       "      <td>580574.0</td>\n",
       "      <td>0.105386</td>\n",
       "    </tr>\n",
       "    <tr>\n",
       "      <th>4</th>\n",
       "      <td>1 de enero de 2021</td>\n",
       "      <td>47400798</td>\n",
       "      <td>5402702.0</td>\n",
       "      <td>0.113979</td>\n",
       "      <td>85929.0</td>\n",
       "      <td>0.001813</td>\n",
       "      <td>106344.0</td>\n",
       "      <td>0.019683</td>\n",
       "    </tr>\n",
       "  </tbody>\n",
       "</table>\n",
       "</div>"
      ],
      "text/plain": [
       "     Todas las edades     Total  Foreign population  \\\n",
       "0  1 de enero de 2025  49077984           6852348.0   \n",
       "1  1 de enero de 2024  48619695           6502282.0   \n",
       "2  1 de enero de 2023  48085361           6089620.0   \n",
       "3  1 de enero de 2022  47486727           5509046.0   \n",
       "4  1 de enero de 2021  47400798           5402702.0   \n",
       "\n",
       "   % Foreign Nationals/Total population  Total YoY(N)  Total YoY)(%)  \\\n",
       "0                              0.139622           NaN            NaN   \n",
       "1                              0.133738      458289.0       0.009426   \n",
       "2                              0.126642      534334.0       0.011112   \n",
       "3                              0.116012      598634.0       0.012606   \n",
       "4                              0.113979       85929.0       0.001813   \n",
       "\n",
       "   Foreign Nationals YoY(N)  Foreign Total YoY)(%)  \n",
       "0                       NaN                    NaN  \n",
       "1                  350066.0               0.053837  \n",
       "2                  412662.0               0.067765  \n",
       "3                  580574.0               0.105386  \n",
       "4                  106344.0               0.019683  "
      ]
     },
     "execution_count": 9,
     "metadata": {},
     "output_type": "execute_result"
    }
   ],
   "source": [
    "INEdata = pd.read_excel(ine_population_nationality,\n",
    "                                  sheet_name = 'INE_Total_foreign_population',\n",
    "                                  skiprows= 2\n",
    "                                )\n",
    "INEdata.head()\n",
    "\n"
   ]
  },
  {
   "cell_type": "code",
   "execution_count": 10,
   "metadata": {},
   "outputs": [
    {
     "data": {
      "text/plain": [
       "Index(['Todas las edades', 'Total', 'Foreign population',\n",
       "       '% Foreign Nationals/Total population', 'Total YoY(N)', 'Total YoY)(%)',\n",
       "       'Foreign Nationals YoY(N)', 'Foreign Total YoY)(%)'],\n",
       "      dtype='object')"
      ]
     },
     "execution_count": 10,
     "metadata": {},
     "output_type": "execute_result"
    }
   ],
   "source": [
    "INEdata.columns"
   ]
  },
  {
   "cell_type": "markdown",
   "metadata": {},
   "source": [
    "- Rename columnns from imported data"
   ]
  },
  {
   "cell_type": "code",
   "execution_count": 11,
   "metadata": {},
   "outputs": [],
   "source": [
    "# Rename columns\n",
    "INEdata.columns = ['Date','Total_population','Foreign_population','Percent_foreign_population',\n",
    "'Total population YoY(N)','Total population  YoY(%)','Foreign population YoY(N)','Foreign population  YoY(%)']"
   ]
  },
  {
   "cell_type": "markdown",
   "metadata": {},
   "source": [
    "- Start by subsetting previous data set keeping initial variables (Date,Total_population,Foreign_population), used to derive the rest of columns in INE_data dataframe"
   ]
  },
  {
   "cell_type": "code",
   "execution_count": 12,
   "metadata": {},
   "outputs": [
    {
     "data": {
      "application/vnd.microsoft.datawrangler.viewer.v0+json": {
       "columns": [
        {
         "name": "index",
         "rawType": "int64",
         "type": "integer"
        },
        {
         "name": "Date",
         "rawType": "object",
         "type": "string"
        },
        {
         "name": "Total_population",
         "rawType": "object",
         "type": "unknown"
        },
        {
         "name": "Foreign_population",
         "rawType": "float64",
         "type": "float"
        }
       ],
       "conversionMethod": "pd.DataFrame",
       "ref": "77f523c2-1fc7-499f-82cc-c66d1fdfc896",
       "rows": [
        [
         "0",
         "1 de enero de 2025",
         "49077984",
         "6852348.0"
        ],
        [
         "1",
         "1 de enero de 2024",
         "48619695",
         "6502282.0"
        ],
        [
         "2",
         "1 de enero de 2023",
         "48085361",
         "6089620.0"
        ],
        [
         "3",
         "1 de enero de 2022",
         "47486727",
         "5509046.0"
        ],
        [
         "4",
         "1 de enero de 2021",
         "47400798",
         "5402702.0"
        ]
       ],
       "shape": {
        "columns": 3,
        "rows": 5
       }
      },
      "text/html": [
       "<div>\n",
       "<style scoped>\n",
       "    .dataframe tbody tr th:only-of-type {\n",
       "        vertical-align: middle;\n",
       "    }\n",
       "\n",
       "    .dataframe tbody tr th {\n",
       "        vertical-align: top;\n",
       "    }\n",
       "\n",
       "    .dataframe thead th {\n",
       "        text-align: right;\n",
       "    }\n",
       "</style>\n",
       "<table border=\"1\" class=\"dataframe\">\n",
       "  <thead>\n",
       "    <tr style=\"text-align: right;\">\n",
       "      <th></th>\n",
       "      <th>Date</th>\n",
       "      <th>Total_population</th>\n",
       "      <th>Foreign_population</th>\n",
       "    </tr>\n",
       "  </thead>\n",
       "  <tbody>\n",
       "    <tr>\n",
       "      <th>0</th>\n",
       "      <td>1 de enero de 2025</td>\n",
       "      <td>49077984</td>\n",
       "      <td>6852348.0</td>\n",
       "    </tr>\n",
       "    <tr>\n",
       "      <th>1</th>\n",
       "      <td>1 de enero de 2024</td>\n",
       "      <td>48619695</td>\n",
       "      <td>6502282.0</td>\n",
       "    </tr>\n",
       "    <tr>\n",
       "      <th>2</th>\n",
       "      <td>1 de enero de 2023</td>\n",
       "      <td>48085361</td>\n",
       "      <td>6089620.0</td>\n",
       "    </tr>\n",
       "    <tr>\n",
       "      <th>3</th>\n",
       "      <td>1 de enero de 2022</td>\n",
       "      <td>47486727</td>\n",
       "      <td>5509046.0</td>\n",
       "    </tr>\n",
       "    <tr>\n",
       "      <th>4</th>\n",
       "      <td>1 de enero de 2021</td>\n",
       "      <td>47400798</td>\n",
       "      <td>5402702.0</td>\n",
       "    </tr>\n",
       "  </tbody>\n",
       "</table>\n",
       "</div>"
      ],
      "text/plain": [
       "                 Date Total_population  Foreign_population\n",
       "0  1 de enero de 2025         49077984           6852348.0\n",
       "1  1 de enero de 2024         48619695           6502282.0\n",
       "2  1 de enero de 2023         48085361           6089620.0\n",
       "3  1 de enero de 2022         47486727           5509046.0\n",
       "4  1 de enero de 2021         47400798           5402702.0"
      ]
     },
     "execution_count": 12,
     "metadata": {},
     "output_type": "execute_result"
    }
   ],
   "source": [
    "INE_total_foreign_population = INEdata[['Date','Total_population','Foreign_population']]\n",
    "INE_total_foreign_population.head()"
   ]
  },
  {
   "cell_type": "markdown",
   "metadata": {},
   "source": [
    "- Get Datafranme columns data types info, we want to extract year from Date column"
   ]
  },
  {
   "cell_type": "code",
   "execution_count": 13,
   "metadata": {},
   "outputs": [
    {
     "data": {
      "application/vnd.microsoft.datawrangler.viewer.v0+json": {
       "columns": [
        {
         "name": "index",
         "rawType": "int64",
         "type": "integer"
        },
        {
         "name": "Date",
         "rawType": "object",
         "type": "string"
        },
        {
         "name": "Total_population",
         "rawType": "object",
         "type": "unknown"
        },
        {
         "name": "Foreign_population",
         "rawType": "float64",
         "type": "float"
        }
       ],
       "conversionMethod": "pd.DataFrame",
       "ref": "fcbd2415-79e6-4b96-ae15-161912f066ac",
       "rows": [
        [
         "0",
         "1 de enero de 2025",
         "49077984",
         "6852348.0"
        ],
        [
         "1",
         "1 de enero de 2024",
         "48619695",
         "6502282.0"
        ],
        [
         "2",
         "1 de enero de 2023",
         "48085361",
         "6089620.0"
        ],
        [
         "3",
         "1 de enero de 2022",
         "47486727",
         "5509046.0"
        ],
        [
         "4",
         "1 de enero de 2021",
         "47400798",
         "5402702.0"
        ]
       ],
       "shape": {
        "columns": 3,
        "rows": 5
       }
      },
      "text/html": [
       "<div>\n",
       "<style scoped>\n",
       "    .dataframe tbody tr th:only-of-type {\n",
       "        vertical-align: middle;\n",
       "    }\n",
       "\n",
       "    .dataframe tbody tr th {\n",
       "        vertical-align: top;\n",
       "    }\n",
       "\n",
       "    .dataframe thead th {\n",
       "        text-align: right;\n",
       "    }\n",
       "</style>\n",
       "<table border=\"1\" class=\"dataframe\">\n",
       "  <thead>\n",
       "    <tr style=\"text-align: right;\">\n",
       "      <th></th>\n",
       "      <th>Date</th>\n",
       "      <th>Total_population</th>\n",
       "      <th>Foreign_population</th>\n",
       "    </tr>\n",
       "  </thead>\n",
       "  <tbody>\n",
       "    <tr>\n",
       "      <th>0</th>\n",
       "      <td>1 de enero de 2025</td>\n",
       "      <td>49077984</td>\n",
       "      <td>6852348.0</td>\n",
       "    </tr>\n",
       "    <tr>\n",
       "      <th>1</th>\n",
       "      <td>1 de enero de 2024</td>\n",
       "      <td>48619695</td>\n",
       "      <td>6502282.0</td>\n",
       "    </tr>\n",
       "    <tr>\n",
       "      <th>2</th>\n",
       "      <td>1 de enero de 2023</td>\n",
       "      <td>48085361</td>\n",
       "      <td>6089620.0</td>\n",
       "    </tr>\n",
       "    <tr>\n",
       "      <th>3</th>\n",
       "      <td>1 de enero de 2022</td>\n",
       "      <td>47486727</td>\n",
       "      <td>5509046.0</td>\n",
       "    </tr>\n",
       "    <tr>\n",
       "      <th>4</th>\n",
       "      <td>1 de enero de 2021</td>\n",
       "      <td>47400798</td>\n",
       "      <td>5402702.0</td>\n",
       "    </tr>\n",
       "  </tbody>\n",
       "</table>\n",
       "</div>"
      ],
      "text/plain": [
       "                 Date Total_population  Foreign_population\n",
       "0  1 de enero de 2025         49077984           6852348.0\n",
       "1  1 de enero de 2024         48619695           6502282.0\n",
       "2  1 de enero de 2023         48085361           6089620.0\n",
       "3  1 de enero de 2022         47486727           5509046.0\n",
       "4  1 de enero de 2021         47400798           5402702.0"
      ]
     },
     "execution_count": 13,
     "metadata": {},
     "output_type": "execute_result"
    }
   ],
   "source": [
    "INE_total_foreign_population.head()"
   ]
  },
  {
   "cell_type": "code",
   "execution_count": 14,
   "metadata": {},
   "outputs": [
    {
     "name": "stdout",
     "output_type": "stream",
     "text": [
      "<class 'pandas.core.frame.DataFrame'>\n",
      "RangeIndex: 31 entries, 0 to 30\n",
      "Data columns (total 3 columns):\n",
      " #   Column              Non-Null Count  Dtype  \n",
      "---  ------              --------------  -----  \n",
      " 0   Date                25 non-null     object \n",
      " 1   Total_population    26 non-null     object \n",
      " 2   Foreign_population  21 non-null     float64\n",
      "dtypes: float64(1), object(2)\n",
      "memory usage: 876.0+ bytes\n"
     ]
    }
   ],
   "source": [
    "INE_total_foreign_population.info()"
   ]
  },
  {
   "cell_type": "markdown",
   "metadata": {},
   "source": [
    "## 3. Extract year from character Date column Pandas DataFrame  "
   ]
  },
  {
   "cell_type": "markdown",
   "metadata": {},
   "source": [
    "Using String slicing we will start creating new date variables from initial Srting Date column"
   ]
  },
  {
   "cell_type": "code",
   "execution_count": 15,
   "metadata": {},
   "outputs": [
    {
     "name": "stdout",
     "output_type": "stream",
     "text": [
      "27    Foreign population (non spanish nationals)\n",
      "28                                           NaN\n",
      "29                                        Source\n",
      "30                                           NaN\n",
      "Name: Date, dtype: object\n"
     ]
    }
   ],
   "source": [
    "n = 4\n",
    "last_chars = INE_total_foreign_population['Date'][-n:]\n",
    "print(last_chars)"
   ]
  },
  {
   "cell_type": "code",
   "execution_count": 16,
   "metadata": {},
   "outputs": [],
   "source": [
    "n = 4"
   ]
  },
  {
   "cell_type": "code",
   "execution_count": 17,
   "metadata": {},
   "outputs": [
    {
     "name": "stderr",
     "output_type": "stream",
     "text": [
      "/tmp/ipykernel_718/2415643088.py:1: SettingWithCopyWarning: \n",
      "A value is trying to be set on a copy of a slice from a DataFrame.\n",
      "Try using .loc[row_indexer,col_indexer] = value instead\n",
      "\n",
      "See the caveats in the documentation: https://pandas.pydata.org/pandas-docs/stable/user_guide/indexing.html#returning-a-view-versus-a-copy\n",
      "  INE_total_foreign_population['Year'] = INE_total_foreign_population['Date'][-n:]\n"
     ]
    },
    {
     "data": {
      "application/vnd.microsoft.datawrangler.viewer.v0+json": {
       "columns": [
        {
         "name": "index",
         "rawType": "int64",
         "type": "integer"
        },
        {
         "name": "Date",
         "rawType": "object",
         "type": "string"
        },
        {
         "name": "Total_population",
         "rawType": "object",
         "type": "unknown"
        },
        {
         "name": "Foreign_population",
         "rawType": "float64",
         "type": "float"
        },
        {
         "name": "Year",
         "rawType": "object",
         "type": "unknown"
        }
       ],
       "conversionMethod": "pd.DataFrame",
       "ref": "f8ae55c0-4ccb-4373-a599-8c81ed10eac0",
       "rows": [
        [
         "0",
         "1 de enero de 2025",
         "49077984",
         "6852348.0",
         null
        ],
        [
         "1",
         "1 de enero de 2024",
         "48619695",
         "6502282.0",
         null
        ],
        [
         "2",
         "1 de enero de 2023",
         "48085361",
         "6089620.0",
         null
        ],
        [
         "3",
         "1 de enero de 2022",
         "47486727",
         "5509046.0",
         null
        ],
        [
         "4",
         "1 de enero de 2021",
         "47400798",
         "5402702.0",
         null
        ]
       ],
       "shape": {
        "columns": 4,
        "rows": 5
       }
      },
      "text/html": [
       "<div>\n",
       "<style scoped>\n",
       "    .dataframe tbody tr th:only-of-type {\n",
       "        vertical-align: middle;\n",
       "    }\n",
       "\n",
       "    .dataframe tbody tr th {\n",
       "        vertical-align: top;\n",
       "    }\n",
       "\n",
       "    .dataframe thead th {\n",
       "        text-align: right;\n",
       "    }\n",
       "</style>\n",
       "<table border=\"1\" class=\"dataframe\">\n",
       "  <thead>\n",
       "    <tr style=\"text-align: right;\">\n",
       "      <th></th>\n",
       "      <th>Date</th>\n",
       "      <th>Total_population</th>\n",
       "      <th>Foreign_population</th>\n",
       "      <th>Year</th>\n",
       "    </tr>\n",
       "  </thead>\n",
       "  <tbody>\n",
       "    <tr>\n",
       "      <th>0</th>\n",
       "      <td>1 de enero de 2025</td>\n",
       "      <td>49077984</td>\n",
       "      <td>6852348.0</td>\n",
       "      <td>NaN</td>\n",
       "    </tr>\n",
       "    <tr>\n",
       "      <th>1</th>\n",
       "      <td>1 de enero de 2024</td>\n",
       "      <td>48619695</td>\n",
       "      <td>6502282.0</td>\n",
       "      <td>NaN</td>\n",
       "    </tr>\n",
       "    <tr>\n",
       "      <th>2</th>\n",
       "      <td>1 de enero de 2023</td>\n",
       "      <td>48085361</td>\n",
       "      <td>6089620.0</td>\n",
       "      <td>NaN</td>\n",
       "    </tr>\n",
       "    <tr>\n",
       "      <th>3</th>\n",
       "      <td>1 de enero de 2022</td>\n",
       "      <td>47486727</td>\n",
       "      <td>5509046.0</td>\n",
       "      <td>NaN</td>\n",
       "    </tr>\n",
       "    <tr>\n",
       "      <th>4</th>\n",
       "      <td>1 de enero de 2021</td>\n",
       "      <td>47400798</td>\n",
       "      <td>5402702.0</td>\n",
       "      <td>NaN</td>\n",
       "    </tr>\n",
       "  </tbody>\n",
       "</table>\n",
       "</div>"
      ],
      "text/plain": [
       "                 Date Total_population  Foreign_population Year\n",
       "0  1 de enero de 2025         49077984           6852348.0  NaN\n",
       "1  1 de enero de 2024         48619695           6502282.0  NaN\n",
       "2  1 de enero de 2023         48085361           6089620.0  NaN\n",
       "3  1 de enero de 2022         47486727           5509046.0  NaN\n",
       "4  1 de enero de 2021         47400798           5402702.0  NaN"
      ]
     },
     "execution_count": 17,
     "metadata": {},
     "output_type": "execute_result"
    }
   ],
   "source": [
    "INE_total_foreign_population['Year'] = INE_total_foreign_population['Date'][-n:]\n",
    "INE_total_foreign_population.head()"
   ]
  },
  {
   "cell_type": "markdown",
   "metadata": {},
   "source": [
    "- Using str_strip() function with str[-4] value to extract the fourth digit from the end of the character variable:"
   ]
  },
  {
   "cell_type": "code",
   "execution_count": 18,
   "metadata": {},
   "outputs": [
    {
     "name": "stderr",
     "output_type": "stream",
     "text": [
      "/tmp/ipykernel_718/1432953046.py:1: SettingWithCopyWarning: \n",
      "A value is trying to be set on a copy of a slice from a DataFrame.\n",
      "Try using .loc[row_indexer,col_indexer] = value instead\n",
      "\n",
      "See the caveats in the documentation: https://pandas.pydata.org/pandas-docs/stable/user_guide/indexing.html#returning-a-view-versus-a-copy\n",
      "  INE_total_foreign_population['Year']  = INE_total_foreign_population['Date'].str.strip().str[-4]\n"
     ]
    },
    {
     "data": {
      "application/vnd.microsoft.datawrangler.viewer.v0+json": {
       "columns": [
        {
         "name": "index",
         "rawType": "int64",
         "type": "integer"
        },
        {
         "name": "Date",
         "rawType": "object",
         "type": "string"
        },
        {
         "name": "Total_population",
         "rawType": "object",
         "type": "unknown"
        },
        {
         "name": "Foreign_population",
         "rawType": "float64",
         "type": "float"
        },
        {
         "name": "Year",
         "rawType": "object",
         "type": "string"
        }
       ],
       "conversionMethod": "pd.DataFrame",
       "ref": "6ff2f57f-2976-4e42-88cf-3da87fbab149",
       "rows": [
        [
         "0",
         "1 de enero de 2025",
         "49077984",
         "6852348.0",
         "2"
        ],
        [
         "1",
         "1 de enero de 2024",
         "48619695",
         "6502282.0",
         "2"
        ],
        [
         "2",
         "1 de enero de 2023",
         "48085361",
         "6089620.0",
         "2"
        ],
        [
         "3",
         "1 de enero de 2022",
         "47486727",
         "5509046.0",
         "2"
        ],
        [
         "4",
         "1 de enero de 2021",
         "47400798",
         "5402702.0",
         "2"
        ]
       ],
       "shape": {
        "columns": 4,
        "rows": 5
       }
      },
      "text/html": [
       "<div>\n",
       "<style scoped>\n",
       "    .dataframe tbody tr th:only-of-type {\n",
       "        vertical-align: middle;\n",
       "    }\n",
       "\n",
       "    .dataframe tbody tr th {\n",
       "        vertical-align: top;\n",
       "    }\n",
       "\n",
       "    .dataframe thead th {\n",
       "        text-align: right;\n",
       "    }\n",
       "</style>\n",
       "<table border=\"1\" class=\"dataframe\">\n",
       "  <thead>\n",
       "    <tr style=\"text-align: right;\">\n",
       "      <th></th>\n",
       "      <th>Date</th>\n",
       "      <th>Total_population</th>\n",
       "      <th>Foreign_population</th>\n",
       "      <th>Year</th>\n",
       "    </tr>\n",
       "  </thead>\n",
       "  <tbody>\n",
       "    <tr>\n",
       "      <th>0</th>\n",
       "      <td>1 de enero de 2025</td>\n",
       "      <td>49077984</td>\n",
       "      <td>6852348.0</td>\n",
       "      <td>2</td>\n",
       "    </tr>\n",
       "    <tr>\n",
       "      <th>1</th>\n",
       "      <td>1 de enero de 2024</td>\n",
       "      <td>48619695</td>\n",
       "      <td>6502282.0</td>\n",
       "      <td>2</td>\n",
       "    </tr>\n",
       "    <tr>\n",
       "      <th>2</th>\n",
       "      <td>1 de enero de 2023</td>\n",
       "      <td>48085361</td>\n",
       "      <td>6089620.0</td>\n",
       "      <td>2</td>\n",
       "    </tr>\n",
       "    <tr>\n",
       "      <th>3</th>\n",
       "      <td>1 de enero de 2022</td>\n",
       "      <td>47486727</td>\n",
       "      <td>5509046.0</td>\n",
       "      <td>2</td>\n",
       "    </tr>\n",
       "    <tr>\n",
       "      <th>4</th>\n",
       "      <td>1 de enero de 2021</td>\n",
       "      <td>47400798</td>\n",
       "      <td>5402702.0</td>\n",
       "      <td>2</td>\n",
       "    </tr>\n",
       "  </tbody>\n",
       "</table>\n",
       "</div>"
      ],
      "text/plain": [
       "                 Date Total_population  Foreign_population Year\n",
       "0  1 de enero de 2025         49077984           6852348.0    2\n",
       "1  1 de enero de 2024         48619695           6502282.0    2\n",
       "2  1 de enero de 2023         48085361           6089620.0    2\n",
       "3  1 de enero de 2022         47486727           5509046.0    2\n",
       "4  1 de enero de 2021         47400798           5402702.0    2"
      ]
     },
     "execution_count": 18,
     "metadata": {},
     "output_type": "execute_result"
    }
   ],
   "source": [
    "INE_total_foreign_population['Year']  = INE_total_foreign_population['Date'].str.strip().str[-4]\n",
    "INE_total_foreign_population.head()"
   ]
  },
  {
   "cell_type": "markdown",
   "metadata": {},
   "source": [
    "- I can then modify this str[-4] parameter from str.strip() to slice four latest characters from Date column to obtain full year in YYYY format"
   ]
  },
  {
   "cell_type": "code",
   "execution_count": 35,
   "metadata": {},
   "outputs": [
    {
     "name": "stderr",
     "output_type": "stream",
     "text": [
      "/tmp/ipykernel_718/902801207.py:2: SettingWithCopyWarning: \n",
      "A value is trying to be set on a copy of a slice from a DataFrame.\n",
      "Try using .loc[row_indexer,col_indexer] = value instead\n",
      "\n",
      "See the caveats in the documentation: https://pandas.pydata.org/pandas-docs/stable/user_guide/indexing.html#returning-a-view-versus-a-copy\n",
      "  INE_total_foreign_population['Year']  = INE_total_foreign_population['Date'].str.strip().str[13:]\n"
     ]
    },
    {
     "data": {
      "application/vnd.microsoft.datawrangler.viewer.v0+json": {
       "columns": [
        {
         "name": "index",
         "rawType": "int64",
         "type": "integer"
        },
        {
         "name": "Date",
         "rawType": "object",
         "type": "string"
        },
        {
         "name": "Total_population",
         "rawType": "object",
         "type": "unknown"
        },
        {
         "name": "Foreign_population",
         "rawType": "float64",
         "type": "float"
        },
        {
         "name": "Year",
         "rawType": "object",
         "type": "string"
        }
       ],
       "conversionMethod": "pd.DataFrame",
       "ref": "53cc7f5f-b423-48bf-a929-cd0f09ad44d2",
       "rows": [
        [
         "0",
         "1 de enero de 2025",
         "49077984",
         "6852348.0",
         " 2025"
        ],
        [
         "1",
         "1 de enero de 2024",
         "48619695",
         "6502282.0",
         " 2024"
        ],
        [
         "2",
         "1 de enero de 2023",
         "48085361",
         "6089620.0",
         " 2023"
        ],
        [
         "3",
         "1 de enero de 2022",
         "47486727",
         "5509046.0",
         " 2022"
        ],
        [
         "4",
         "1 de enero de 2021",
         "47400798",
         "5402702.0",
         " 2021"
        ]
       ],
       "shape": {
        "columns": 4,
        "rows": 5
       }
      },
      "text/html": [
       "<div>\n",
       "<style scoped>\n",
       "    .dataframe tbody tr th:only-of-type {\n",
       "        vertical-align: middle;\n",
       "    }\n",
       "\n",
       "    .dataframe tbody tr th {\n",
       "        vertical-align: top;\n",
       "    }\n",
       "\n",
       "    .dataframe thead th {\n",
       "        text-align: right;\n",
       "    }\n",
       "</style>\n",
       "<table border=\"1\" class=\"dataframe\">\n",
       "  <thead>\n",
       "    <tr style=\"text-align: right;\">\n",
       "      <th></th>\n",
       "      <th>Date</th>\n",
       "      <th>Total_population</th>\n",
       "      <th>Foreign_population</th>\n",
       "      <th>Year</th>\n",
       "    </tr>\n",
       "  </thead>\n",
       "  <tbody>\n",
       "    <tr>\n",
       "      <th>0</th>\n",
       "      <td>1 de enero de 2025</td>\n",
       "      <td>49077984</td>\n",
       "      <td>6852348.0</td>\n",
       "      <td>2025</td>\n",
       "    </tr>\n",
       "    <tr>\n",
       "      <th>1</th>\n",
       "      <td>1 de enero de 2024</td>\n",
       "      <td>48619695</td>\n",
       "      <td>6502282.0</td>\n",
       "      <td>2024</td>\n",
       "    </tr>\n",
       "    <tr>\n",
       "      <th>2</th>\n",
       "      <td>1 de enero de 2023</td>\n",
       "      <td>48085361</td>\n",
       "      <td>6089620.0</td>\n",
       "      <td>2023</td>\n",
       "    </tr>\n",
       "    <tr>\n",
       "      <th>3</th>\n",
       "      <td>1 de enero de 2022</td>\n",
       "      <td>47486727</td>\n",
       "      <td>5509046.0</td>\n",
       "      <td>2022</td>\n",
       "    </tr>\n",
       "    <tr>\n",
       "      <th>4</th>\n",
       "      <td>1 de enero de 2021</td>\n",
       "      <td>47400798</td>\n",
       "      <td>5402702.0</td>\n",
       "      <td>2021</td>\n",
       "    </tr>\n",
       "  </tbody>\n",
       "</table>\n",
       "</div>"
      ],
      "text/plain": [
       "                 Date Total_population  Foreign_population   Year\n",
       "0  1 de enero de 2025         49077984           6852348.0   2025\n",
       "1  1 de enero de 2024         48619695           6502282.0   2024\n",
       "2  1 de enero de 2023         48085361           6089620.0   2023\n",
       "3  1 de enero de 2022         47486727           5509046.0   2022\n",
       "4  1 de enero de 2021         47400798           5402702.0   2021"
      ]
     },
     "execution_count": 35,
     "metadata": {},
     "output_type": "execute_result"
    }
   ],
   "source": [
    "# Retrieve character 13 to the end (to inlcude just Year part of the date)\n",
    "INE_total_foreign_population['Year']  = INE_total_foreign_population['Date'].str.strip().str[13:]\n",
    "INE_total_foreign_population.head()"
   ]
  },
  {
   "cell_type": "code",
   "execution_count": 36,
   "metadata": {},
   "outputs": [
    {
     "data": {
      "application/vnd.microsoft.datawrangler.viewer.v0+json": {
       "columns": [
        {
         "name": "index",
         "rawType": "int64",
         "type": "integer"
        },
        {
         "name": "Date",
         "rawType": "object",
         "type": "string"
        },
        {
         "name": "Total_population",
         "rawType": "object",
         "type": "unknown"
        },
        {
         "name": "Foreign_population",
         "rawType": "float64",
         "type": "float"
        },
        {
         "name": "Year",
         "rawType": "object",
         "type": "string"
        }
       ],
       "conversionMethod": "pd.DataFrame",
       "ref": "e0a01b90-8740-4546-8b43-73c9deea7d1f",
       "rows": [
        [
         "0",
         "1 de enero de 2025",
         "49077984",
         "6852348.0",
         " 2025"
        ],
        [
         "1",
         "1 de enero de 2024",
         "48619695",
         "6502282.0",
         " 2024"
        ],
        [
         "2",
         "1 de enero de 2023",
         "48085361",
         "6089620.0",
         " 2023"
        ],
        [
         "3",
         "1 de enero de 2022",
         "47486727",
         "5509046.0",
         " 2022"
        ],
        [
         "4",
         "1 de enero de 2021",
         "47400798",
         "5402702.0",
         " 2021"
        ]
       ],
       "shape": {
        "columns": 4,
        "rows": 5
       }
      },
      "text/html": [
       "<div>\n",
       "<style scoped>\n",
       "    .dataframe tbody tr th:only-of-type {\n",
       "        vertical-align: middle;\n",
       "    }\n",
       "\n",
       "    .dataframe tbody tr th {\n",
       "        vertical-align: top;\n",
       "    }\n",
       "\n",
       "    .dataframe thead th {\n",
       "        text-align: right;\n",
       "    }\n",
       "</style>\n",
       "<table border=\"1\" class=\"dataframe\">\n",
       "  <thead>\n",
       "    <tr style=\"text-align: right;\">\n",
       "      <th></th>\n",
       "      <th>Date</th>\n",
       "      <th>Total_population</th>\n",
       "      <th>Foreign_population</th>\n",
       "      <th>Year</th>\n",
       "    </tr>\n",
       "  </thead>\n",
       "  <tbody>\n",
       "    <tr>\n",
       "      <th>0</th>\n",
       "      <td>1 de enero de 2025</td>\n",
       "      <td>49077984</td>\n",
       "      <td>6852348.0</td>\n",
       "      <td>2025</td>\n",
       "    </tr>\n",
       "    <tr>\n",
       "      <th>1</th>\n",
       "      <td>1 de enero de 2024</td>\n",
       "      <td>48619695</td>\n",
       "      <td>6502282.0</td>\n",
       "      <td>2024</td>\n",
       "    </tr>\n",
       "    <tr>\n",
       "      <th>2</th>\n",
       "      <td>1 de enero de 2023</td>\n",
       "      <td>48085361</td>\n",
       "      <td>6089620.0</td>\n",
       "      <td>2023</td>\n",
       "    </tr>\n",
       "    <tr>\n",
       "      <th>3</th>\n",
       "      <td>1 de enero de 2022</td>\n",
       "      <td>47486727</td>\n",
       "      <td>5509046.0</td>\n",
       "      <td>2022</td>\n",
       "    </tr>\n",
       "    <tr>\n",
       "      <th>4</th>\n",
       "      <td>1 de enero de 2021</td>\n",
       "      <td>47400798</td>\n",
       "      <td>5402702.0</td>\n",
       "      <td>2021</td>\n",
       "    </tr>\n",
       "  </tbody>\n",
       "</table>\n",
       "</div>"
      ],
      "text/plain": [
       "                 Date Total_population  Foreign_population   Year\n",
       "0  1 de enero de 2025         49077984           6852348.0   2025\n",
       "1  1 de enero de 2024         48619695           6502282.0   2024\n",
       "2  1 de enero de 2023         48085361           6089620.0   2023\n",
       "3  1 de enero de 2022         47486727           5509046.0   2022\n",
       "4  1 de enero de 2021         47400798           5402702.0   2021"
      ]
     },
     "execution_count": 36,
     "metadata": {},
     "output_type": "execute_result"
    }
   ],
   "source": [
    "INE_total_foreign_population.head()"
   ]
  },
  {
   "cell_type": "markdown",
   "metadata": {},
   "source": [
    "## 4. Subset variables and create Seaborn barplot  "
   ]
  },
  {
   "cell_type": "markdown",
   "metadata": {},
   "source": [
    "Firs I want to subset just three columns from previous Data Frame: two main metrics \"Total_Population\", \"Foreign_population\" and newly created \"Year\" column. Also when subsetting those columns I want to place Year as the first column on the left."
   ]
  },
  {
   "cell_type": "code",
   "execution_count": 41,
   "metadata": {},
   "outputs": [
    {
     "data": {
      "application/vnd.microsoft.datawrangler.viewer.v0+json": {
       "columns": [
        {
         "name": "index",
         "rawType": "int64",
         "type": "integer"
        },
        {
         "name": "Year",
         "rawType": "object",
         "type": "string"
        },
        {
         "name": "Total_population",
         "rawType": "object",
         "type": "unknown"
        },
        {
         "name": "Foreign_population",
         "rawType": "float64",
         "type": "float"
        }
       ],
       "conversionMethod": "pd.DataFrame",
       "ref": "4ce8730f-8947-4935-be9c-3baf43ce62c8",
       "rows": [
        [
         "0",
         " 2025",
         "49077984",
         "6852348.0"
        ],
        [
         "1",
         " 2024",
         "48619695",
         "6502282.0"
        ],
        [
         "2",
         " 2023",
         "48085361",
         "6089620.0"
        ],
        [
         "3",
         " 2022",
         "47486727",
         "5509046.0"
        ],
        [
         "4",
         " 2021",
         "47400798",
         "5402702.0"
        ]
       ],
       "shape": {
        "columns": 3,
        "rows": 5
       }
      },
      "text/html": [
       "<div>\n",
       "<style scoped>\n",
       "    .dataframe tbody tr th:only-of-type {\n",
       "        vertical-align: middle;\n",
       "    }\n",
       "\n",
       "    .dataframe tbody tr th {\n",
       "        vertical-align: top;\n",
       "    }\n",
       "\n",
       "    .dataframe thead th {\n",
       "        text-align: right;\n",
       "    }\n",
       "</style>\n",
       "<table border=\"1\" class=\"dataframe\">\n",
       "  <thead>\n",
       "    <tr style=\"text-align: right;\">\n",
       "      <th></th>\n",
       "      <th>Year</th>\n",
       "      <th>Total_population</th>\n",
       "      <th>Foreign_population</th>\n",
       "    </tr>\n",
       "  </thead>\n",
       "  <tbody>\n",
       "    <tr>\n",
       "      <th>0</th>\n",
       "      <td>2025</td>\n",
       "      <td>49077984</td>\n",
       "      <td>6852348.0</td>\n",
       "    </tr>\n",
       "    <tr>\n",
       "      <th>1</th>\n",
       "      <td>2024</td>\n",
       "      <td>48619695</td>\n",
       "      <td>6502282.0</td>\n",
       "    </tr>\n",
       "    <tr>\n",
       "      <th>2</th>\n",
       "      <td>2023</td>\n",
       "      <td>48085361</td>\n",
       "      <td>6089620.0</td>\n",
       "    </tr>\n",
       "    <tr>\n",
       "      <th>3</th>\n",
       "      <td>2022</td>\n",
       "      <td>47486727</td>\n",
       "      <td>5509046.0</td>\n",
       "    </tr>\n",
       "    <tr>\n",
       "      <th>4</th>\n",
       "      <td>2021</td>\n",
       "      <td>47400798</td>\n",
       "      <td>5402702.0</td>\n",
       "    </tr>\n",
       "  </tbody>\n",
       "</table>\n",
       "</div>"
      ],
      "text/plain": [
       "    Year Total_population  Foreign_population\n",
       "0   2025         49077984           6852348.0\n",
       "1   2024         48619695           6502282.0\n",
       "2   2023         48085361           6089620.0\n",
       "3   2022         47486727           5509046.0\n",
       "4   2021         47400798           5402702.0"
      ]
     },
     "execution_count": 41,
     "metadata": {},
     "output_type": "execute_result"
    }
   ],
   "source": [
    "INE_foreign_pop_plot = INE_total_foreign_population[['Year','Total_population','Foreign_population']]\n",
    "INE_foreign_pop_plot.head()"
   ]
  },
  {
   "cell_type": "markdown",
   "metadata": {},
   "source": [
    "### 4.1 Create first Seaborn barplot "
   ]
  },
  {
   "cell_type": "markdown",
   "metadata": {},
   "source": [
    "This first Seaborn plot will display Total Population by Year as a Bar Plot, including confidence intervals in the plot"
   ]
  },
  {
   "cell_type": "markdown",
   "metadata": {},
   "source": [
    "- I want to obtain just cleansed data from Excel imported file in Pandas, hence I will keep only the first 21 rows"
   ]
  },
  {
   "cell_type": "code",
   "execution_count": 44,
   "metadata": {},
   "outputs": [
    {
     "data": {
      "application/vnd.microsoft.datawrangler.viewer.v0+json": {
       "columns": [
        {
         "name": "index",
         "rawType": "int64",
         "type": "integer"
        },
        {
         "name": "Year",
         "rawType": "object",
         "type": "string"
        },
        {
         "name": "Total_population",
         "rawType": "object",
         "type": "unknown"
        },
        {
         "name": "Foreign_population",
         "rawType": "float64",
         "type": "float"
        }
       ],
       "conversionMethod": "pd.DataFrame",
       "ref": "e4328b87-537f-417b-8f44-c26f413b09f8",
       "rows": [
        [
         "0",
         " 2025",
         "49077984",
         "6852348.0"
        ],
        [
         "1",
         " 2024",
         "48619695",
         "6502282.0"
        ],
        [
         "2",
         " 2023",
         "48085361",
         "6089620.0"
        ],
        [
         "3",
         " 2022",
         "47486727",
         "5509046.0"
        ],
        [
         "4",
         " 2021",
         "47400798",
         "5402702.0"
        ],
        [
         "5",
         " 2020",
         "47318050",
         "5241278.0"
        ],
        [
         "6",
         " 2019",
         "46918951",
         "4850762.0"
        ],
        [
         "7",
         " 2018",
         "46645070",
         "4577322.0"
        ],
        [
         "8",
         " 2017",
         "46497393",
         "4417653.0"
        ],
        [
         "9",
         " 2016",
         "46418884",
         "4419334.0"
        ],
        [
         "10",
         " 2015",
         "46425722",
         "4453985.0"
        ],
        [
         "11",
         " 2014",
         "46495744",
         "4676352.0"
        ],
        [
         "12",
         " 2013",
         "46712650",
         "5064584.0"
        ],
        [
         "13",
         " 2012",
         "46818216",
         "5236030.0"
        ],
        [
         "14",
         " 2011",
         "46667175",
         "5312440.0"
        ],
        [
         "15",
         " 2010",
         "46486621",
         "5402579.0"
        ],
        [
         "16",
         " 2009",
         "46239271",
         "5386659.0"
        ],
        [
         "17",
         " 2008",
         "45668938",
         "5086295.0"
        ],
        [
         "18",
         " 2007",
         "44784659",
         "4449434.0"
        ],
        [
         "19",
         " 2006",
         "44009969",
         "3930916.0"
        ],
        [
         "20",
         " 2005",
         "43296335",
         "3430204.0"
        ]
       ],
       "shape": {
        "columns": 3,
        "rows": 21
       }
      },
      "text/html": [
       "<div>\n",
       "<style scoped>\n",
       "    .dataframe tbody tr th:only-of-type {\n",
       "        vertical-align: middle;\n",
       "    }\n",
       "\n",
       "    .dataframe tbody tr th {\n",
       "        vertical-align: top;\n",
       "    }\n",
       "\n",
       "    .dataframe thead th {\n",
       "        text-align: right;\n",
       "    }\n",
       "</style>\n",
       "<table border=\"1\" class=\"dataframe\">\n",
       "  <thead>\n",
       "    <tr style=\"text-align: right;\">\n",
       "      <th></th>\n",
       "      <th>Year</th>\n",
       "      <th>Total_population</th>\n",
       "      <th>Foreign_population</th>\n",
       "    </tr>\n",
       "  </thead>\n",
       "  <tbody>\n",
       "    <tr>\n",
       "      <th>0</th>\n",
       "      <td>2025</td>\n",
       "      <td>49077984</td>\n",
       "      <td>6852348.0</td>\n",
       "    </tr>\n",
       "    <tr>\n",
       "      <th>1</th>\n",
       "      <td>2024</td>\n",
       "      <td>48619695</td>\n",
       "      <td>6502282.0</td>\n",
       "    </tr>\n",
       "    <tr>\n",
       "      <th>2</th>\n",
       "      <td>2023</td>\n",
       "      <td>48085361</td>\n",
       "      <td>6089620.0</td>\n",
       "    </tr>\n",
       "    <tr>\n",
       "      <th>3</th>\n",
       "      <td>2022</td>\n",
       "      <td>47486727</td>\n",
       "      <td>5509046.0</td>\n",
       "    </tr>\n",
       "    <tr>\n",
       "      <th>4</th>\n",
       "      <td>2021</td>\n",
       "      <td>47400798</td>\n",
       "      <td>5402702.0</td>\n",
       "    </tr>\n",
       "    <tr>\n",
       "      <th>5</th>\n",
       "      <td>2020</td>\n",
       "      <td>47318050</td>\n",
       "      <td>5241278.0</td>\n",
       "    </tr>\n",
       "    <tr>\n",
       "      <th>6</th>\n",
       "      <td>2019</td>\n",
       "      <td>46918951</td>\n",
       "      <td>4850762.0</td>\n",
       "    </tr>\n",
       "    <tr>\n",
       "      <th>7</th>\n",
       "      <td>2018</td>\n",
       "      <td>46645070</td>\n",
       "      <td>4577322.0</td>\n",
       "    </tr>\n",
       "    <tr>\n",
       "      <th>8</th>\n",
       "      <td>2017</td>\n",
       "      <td>46497393</td>\n",
       "      <td>4417653.0</td>\n",
       "    </tr>\n",
       "    <tr>\n",
       "      <th>9</th>\n",
       "      <td>2016</td>\n",
       "      <td>46418884</td>\n",
       "      <td>4419334.0</td>\n",
       "    </tr>\n",
       "    <tr>\n",
       "      <th>10</th>\n",
       "      <td>2015</td>\n",
       "      <td>46425722</td>\n",
       "      <td>4453985.0</td>\n",
       "    </tr>\n",
       "    <tr>\n",
       "      <th>11</th>\n",
       "      <td>2014</td>\n",
       "      <td>46495744</td>\n",
       "      <td>4676352.0</td>\n",
       "    </tr>\n",
       "    <tr>\n",
       "      <th>12</th>\n",
       "      <td>2013</td>\n",
       "      <td>46712650</td>\n",
       "      <td>5064584.0</td>\n",
       "    </tr>\n",
       "    <tr>\n",
       "      <th>13</th>\n",
       "      <td>2012</td>\n",
       "      <td>46818216</td>\n",
       "      <td>5236030.0</td>\n",
       "    </tr>\n",
       "    <tr>\n",
       "      <th>14</th>\n",
       "      <td>2011</td>\n",
       "      <td>46667175</td>\n",
       "      <td>5312440.0</td>\n",
       "    </tr>\n",
       "    <tr>\n",
       "      <th>15</th>\n",
       "      <td>2010</td>\n",
       "      <td>46486621</td>\n",
       "      <td>5402579.0</td>\n",
       "    </tr>\n",
       "    <tr>\n",
       "      <th>16</th>\n",
       "      <td>2009</td>\n",
       "      <td>46239271</td>\n",
       "      <td>5386659.0</td>\n",
       "    </tr>\n",
       "    <tr>\n",
       "      <th>17</th>\n",
       "      <td>2008</td>\n",
       "      <td>45668938</td>\n",
       "      <td>5086295.0</td>\n",
       "    </tr>\n",
       "    <tr>\n",
       "      <th>18</th>\n",
       "      <td>2007</td>\n",
       "      <td>44784659</td>\n",
       "      <td>4449434.0</td>\n",
       "    </tr>\n",
       "    <tr>\n",
       "      <th>19</th>\n",
       "      <td>2006</td>\n",
       "      <td>44009969</td>\n",
       "      <td>3930916.0</td>\n",
       "    </tr>\n",
       "    <tr>\n",
       "      <th>20</th>\n",
       "      <td>2005</td>\n",
       "      <td>43296335</td>\n",
       "      <td>3430204.0</td>\n",
       "    </tr>\n",
       "  </tbody>\n",
       "</table>\n",
       "</div>"
      ],
      "text/plain": [
       "     Year Total_population  Foreign_population\n",
       "0    2025         49077984           6852348.0\n",
       "1    2024         48619695           6502282.0\n",
       "2    2023         48085361           6089620.0\n",
       "3    2022         47486727           5509046.0\n",
       "4    2021         47400798           5402702.0\n",
       "5    2020         47318050           5241278.0\n",
       "6    2019         46918951           4850762.0\n",
       "7    2018         46645070           4577322.0\n",
       "8    2017         46497393           4417653.0\n",
       "9    2016         46418884           4419334.0\n",
       "10   2015         46425722           4453985.0\n",
       "11   2014         46495744           4676352.0\n",
       "12   2013         46712650           5064584.0\n",
       "13   2012         46818216           5236030.0\n",
       "14   2011         46667175           5312440.0\n",
       "15   2010         46486621           5402579.0\n",
       "16   2009         46239271           5386659.0\n",
       "17   2008         45668938           5086295.0\n",
       "18   2007         44784659           4449434.0\n",
       "19   2006         44009969           3930916.0\n",
       "20   2005         43296335           3430204.0"
      ]
     },
     "execution_count": 44,
     "metadata": {},
     "output_type": "execute_result"
    }
   ],
   "source": [
    "INE_first_plot = INE_foreign_pop_plot.head(21)\n",
    "INE_first_plot"
   ]
  },
  {
   "cell_type": "code",
   "execution_count": 58,
   "metadata": {},
   "outputs": [],
   "source": [
    "import seaborn as sns\n",
    "import matplotlib.pyplot as plt"
   ]
  },
  {
   "cell_type": "code",
   "execution_count": 59,
   "metadata": {},
   "outputs": [],
   "source": [
    "# Apply the default theme\n",
    "sns.set_theme()"
   ]
  },
  {
   "cell_type": "code",
   "execution_count": 60,
   "metadata": {},
   "outputs": [
    {
     "data": {
      "image/png": "[encoded data removed]",
      "text/plain": [
       "<Figure size 1200x600 with 1 Axes>"
      ]
     },
     "metadata": {},
     "output_type": "display_data"
    }
   ],
   "source": [
    "# setting the dimensions of the plot\n",
    "fig, ax = plt.subplots(figsize=(12, 6))"
   ]
  },
  {
   "cell_type": "code",
   "execution_count": 64,
   "metadata": {},
   "outputs": [
    {
     "data": {
      "image/png": "[encoded data removed]",
      "text/plain": [
       "<Figure size 640x480 with 1 Axes>"
      ]
     },
     "metadata": {},
     "output_type": "display_data"
    }
   ],
   "source": [
    "# Create first barplot\n",
    "sns.barplot(data = INE_first_plot,\n",
    "            x = \"Year\", y = \"Total_population\")\n",
    "plt.show()"
   ]
  }
 ],
 "metadata": {
  "kernelspec": {
   "display_name": "Python 3",
   "language": "python",
   "name": "python3"
  },
  "language_info": {
   "codemirror_mode": {
    "name": "ipython",
    "version": 3
   },
   "file_extension": ".py",
   "mimetype": "text/x-python",
   "name": "python",
   "nbconvert_exporter": "python",
   "pygments_lexer": "ipython3",
   "version": "3.12.8"
  }
 },
 "nbformat": 4,
 "nbformat_minor": 2
}
