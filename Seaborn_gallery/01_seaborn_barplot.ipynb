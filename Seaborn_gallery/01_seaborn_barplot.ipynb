{
 "cells": [
  {
   "cell_type": "markdown",
   "metadata": {},
   "source": [
    "## Set of Barplots created using seaborn"
   ]
  },
  {
   "cell_type": "markdown",
   "metadata": {},
   "source": [
    "Examples on how to create a barplot using seaborn"
   ]
  },
  {
   "cell_type": "markdown",
   "metadata": {},
   "source": [
    "## 1.Load required libraries"
   ]
  },
  {
   "cell_type": "markdown",
   "metadata": {},
   "source": [
    "- Basic libraries for files manipulation **os**  and data wrangling **pandas** "
   ]
  },
  {
   "cell_type": "code",
   "execution_count": null,
   "metadata": {},
   "outputs": [],
   "source": [
    "# 1. Load basic libraries\n",
    "import pandas as pd\n",
    "import os"
   ]
  },
  {
   "cell_type": "markdown",
   "metadata": {},
   "source": [
    "- Specific libraries for Seaborn charts"
   ]
  },
  {
   "cell_type": "code",
   "execution_count": 6,
   "metadata": {},
   "outputs": [],
   "source": [
    "import seaborn as sns\n",
    "import matplotlib.pyplot as plt\n",
    "sns.set_theme(style=\"whitegrid\")"
   ]
  },
  {
   "cell_type": "code",
   "execution_count": null,
   "metadata": {},
   "outputs": [
    {
     "name": "stdout",
     "output_type": "stream",
     "text": [
      "My working directory is: /home/pablo/Documents/Pablo_zorin/VS_Python_GitHub_Pablo_source/ML-using-Python/Seaborn_gallery\n"
     ]
    }
   ],
   "source": [
    "# 2.Import Excel file into Python \n",
    "\n",
    "my_wd = os.getcwd()\n",
    "print(\"My working directory is:\",my_wd)\n",
    "\n",
    "# 2.1 List files in \\data folder to identify Excel file to be imported into Python \n",
    "new_wd_ML_using_python = os.path.join(\"/home\",\"pablo\",\"Documents\",\"Pablo_zorin\",\"VS_Python_GitHub_Pablo_source\",\"ML-using-Python\")\n"
   ]
  },
  {
   "cell_type": "code",
   "execution_count": 2,
   "metadata": {},
   "outputs": [
    {
     "name": "stdout",
     "output_type": "stream",
     "text": [
      "Changed working directory to: /home/pablo/Documents/Pablo_zorin/VS_Python_GitHub_Pablo_source/ML-using-Python\n"
     ]
    }
   ],
   "source": [
    "# And we change existing working directory to ML-using-Python folder to access the \\data folder\n",
    "os.chdir(new_wd_ML_using_python)\n",
    "\n",
    "new_wd = os.getcwd()\n",
    "print(\"Changed working directory to:\",new_wd)"
   ]
  },
  {
   "cell_type": "code",
   "execution_count": 3,
   "metadata": {},
   "outputs": [
    {
     "name": "stdout",
     "output_type": "stream",
     "text": [
      "data folder contents: ['wine_quality.zip', 'winequality.names', 'Monthly-AE-Time-Series-January-2024.xls', 'INE Resident population country of birth Spain.xlsx', 'AE_Time_Series_Data_website.txt', 'winequality-red.csv', 'OCDE_countries_population_figures_1970_2022.csv', 'all_wine_reset.csv', 'AE_Attendances_2010_2024.csv', 'ONS_Figure_2__Population_increase_in_mid-2023_was_driven_mostly_by_net_international_migration.xls', 'winequality-white.csv', 'INE total and foreign population figures Spain.xlsx', 'monthly-milk-production-pounds.csv', 'ONS_Figure_01_Long_term_emigration_immigration_net_migration.xlsx', 'ONS_long_term_immigration_end2024.xlsx']\n",
      "ÍNE_population_nationality: data/INE total and foreign population figures Spain.xlsx\n"
     ]
    }
   ],
   "source": [
    "\n",
    "data_folder = os.path.join(\"/home\",\"pablo\",\"Documents\",\"Pablo_zorin\",\"VS_Python_GitHub_Pablo_source\",\"ML-using-Python\",\n",
    "                           'data')\n",
    "data_folder_contents = os.listdir(data_folder)\n",
    "print('data folder contents:',data_folder_contents)\n",
    "\n",
    "# 2.2 Build  path to Excel file location\n",
    "ine_population_nationality = os.path.join('data','INE total and foreign population figures Spain.xlsx')\n",
    "print('ÍNE_population_nationality:',ine_population_nationality)"
   ]
  },
  {
   "cell_type": "markdown",
   "metadata": {},
   "source": [
    "## 2. Import Excel file into Python "
   ]
  },
  {
   "cell_type": "code",
   "execution_count": 7,
   "metadata": {},
   "outputs": [
    {
     "name": "stdout",
     "output_type": "stream",
     "text": [
      "ÍNE_population_nationality: data/INE total and foreign population figures Spain.xlsx\n"
     ]
    }
   ],
   "source": [
    "ine_population_nationality = os.path.join('data','INE total and foreign population figures Spain.xlsx')\n",
    "print('ÍNE_population_nationality:',ine_population_nationality)"
   ]
  },
  {
   "cell_type": "markdown",
   "metadata": {},
   "source": [
    "- Get tab names from imported Excel file to load third tab from incoming Excel file"
   ]
  },
  {
   "cell_type": "code",
   "execution_count": 8,
   "metadata": {},
   "outputs": [],
   "source": [
    "import openpyxl"
   ]
  },
  {
   "cell_type": "code",
   "execution_count": 12,
   "metadata": {},
   "outputs": [
    {
     "data": {
      "text/plain": [
       "['INE_Foreign_population',\n",
       " 'INE_Total_population',\n",
       " 'INE_Total_foreign_population']"
      ]
     },
     "execution_count": 12,
     "metadata": {},
     "output_type": "execute_result"
    }
   ],
   "source": [
    "xl = pd.ExcelFile(ine_population_nationality)\n",
    "\n",
    "xl.sheet_names  # see all sheet names\n",
    "\n",
    "#xl.parse(sheet_name)  # read a specific sheet to DataFrame"
   ]
  },
  {
   "cell_type": "code",
   "execution_count": 16,
   "metadata": {},
   "outputs": [
    {
     "data": {
      "application/vnd.microsoft.datawrangler.viewer.v0+json": {
       "columns": [
        {
         "name": "index",
         "rawType": "int64",
         "type": "integer"
        },
        {
         "name": "Todas las edades",
         "rawType": "object",
         "type": "string"
        },
        {
         "name": "Total",
         "rawType": "object",
         "type": "unknown"
        },
        {
         "name": "Foreign population",
         "rawType": "float64",
         "type": "float"
        },
        {
         "name": "% Foreign Nationals/Total population",
         "rawType": "float64",
         "type": "float"
        },
        {
         "name": "Total YoY(N)",
         "rawType": "float64",
         "type": "float"
        },
        {
         "name": "Total YoY)(%)",
         "rawType": "float64",
         "type": "float"
        },
        {
         "name": "Foreign Nationals YoY(N)",
         "rawType": "float64",
         "type": "float"
        },
        {
         "name": "Foreign Total YoY)(%)",
         "rawType": "float64",
         "type": "float"
        }
       ],
       "conversionMethod": "pd.DataFrame",
       "ref": "962fcfbb-19d6-40af-ab03-0c78f50c6c1d",
       "rows": [
        [
         "0",
         "1 de enero de 2025",
         "49077984",
         "6852348.0",
         "0.139621627489833",
         null,
         null,
         null,
         null
        ],
        [
         "1",
         "1 de enero de 2024",
         "48619695",
         "6502282.0",
         "0.133737613944308",
         "458289.0",
         "0.00942599495945008",
         "350066.0",
         "0.0538374066212447"
        ],
        [
         "2",
         "1 de enero de 2023",
         "48085361",
         "6089620.0",
         "0.1266418692375",
         "534334.0",
         "0.0111121969116547",
         "412662.0",
         "0.0677648194797048"
        ],
        [
         "3",
         "1 de enero de 2022",
         "47486727",
         "5509046.0",
         "0.116012333298945",
         "598634.0",
         "0.0126063436631461",
         "580574.0",
         "0.105385578555706"
        ],
        [
         "4",
         "1 de enero de 2021",
         "47400798",
         "5402702.0",
         "0.11397913596307",
         "85929.0",
         "0.00181281758167869",
         "106344.0",
         "0.0196834843010035"
        ]
       ],
       "shape": {
        "columns": 8,
        "rows": 5
       }
      },
      "text/html": [
       "<div>\n",
       "<style scoped>\n",
       "    .dataframe tbody tr th:only-of-type {\n",
       "        vertical-align: middle;\n",
       "    }\n",
       "\n",
       "    .dataframe tbody tr th {\n",
       "        vertical-align: top;\n",
       "    }\n",
       "\n",
       "    .dataframe thead th {\n",
       "        text-align: right;\n",
       "    }\n",
       "</style>\n",
       "<table border=\"1\" class=\"dataframe\">\n",
       "  <thead>\n",
       "    <tr style=\"text-align: right;\">\n",
       "      <th></th>\n",
       "      <th>Todas las edades</th>\n",
       "      <th>Total</th>\n",
       "      <th>Foreign population</th>\n",
       "      <th>% Foreign Nationals/Total population</th>\n",
       "      <th>Total YoY(N)</th>\n",
       "      <th>Total YoY)(%)</th>\n",
       "      <th>Foreign Nationals YoY(N)</th>\n",
       "      <th>Foreign Total YoY)(%)</th>\n",
       "    </tr>\n",
       "  </thead>\n",
       "  <tbody>\n",
       "    <tr>\n",
       "      <th>0</th>\n",
       "      <td>1 de enero de 2025</td>\n",
       "      <td>49077984</td>\n",
       "      <td>6852348.0</td>\n",
       "      <td>0.139622</td>\n",
       "      <td>NaN</td>\n",
       "      <td>NaN</td>\n",
       "      <td>NaN</td>\n",
       "      <td>NaN</td>\n",
       "    </tr>\n",
       "    <tr>\n",
       "      <th>1</th>\n",
       "      <td>1 de enero de 2024</td>\n",
       "      <td>48619695</td>\n",
       "      <td>6502282.0</td>\n",
       "      <td>0.133738</td>\n",
       "      <td>458289.0</td>\n",
       "      <td>0.009426</td>\n",
       "      <td>350066.0</td>\n",
       "      <td>0.053837</td>\n",
       "    </tr>\n",
       "    <tr>\n",
       "      <th>2</th>\n",
       "      <td>1 de enero de 2023</td>\n",
       "      <td>48085361</td>\n",
       "      <td>6089620.0</td>\n",
       "      <td>0.126642</td>\n",
       "      <td>534334.0</td>\n",
       "      <td>0.011112</td>\n",
       "      <td>412662.0</td>\n",
       "      <td>0.067765</td>\n",
       "    </tr>\n",
       "    <tr>\n",
       "      <th>3</th>\n",
       "      <td>1 de enero de 2022</td>\n",
       "      <td>47486727</td>\n",
       "      <td>5509046.0</td>\n",
       "      <td>0.116012</td>\n",
       "      <td>598634.0</td>\n",
       "      <td>0.012606</td>\n",
       "      <td>580574.0</td>\n",
       "      <td>0.105386</td>\n",
       "    </tr>\n",
       "    <tr>\n",
       "      <th>4</th>\n",
       "      <td>1 de enero de 2021</td>\n",
       "      <td>47400798</td>\n",
       "      <td>5402702.0</td>\n",
       "      <td>0.113979</td>\n",
       "      <td>85929.0</td>\n",
       "      <td>0.001813</td>\n",
       "      <td>106344.0</td>\n",
       "      <td>0.019683</td>\n",
       "    </tr>\n",
       "  </tbody>\n",
       "</table>\n",
       "</div>"
      ],
      "text/plain": [
       "     Todas las edades     Total  Foreign population  \\\n",
       "0  1 de enero de 2025  49077984           6852348.0   \n",
       "1  1 de enero de 2024  48619695           6502282.0   \n",
       "2  1 de enero de 2023  48085361           6089620.0   \n",
       "3  1 de enero de 2022  47486727           5509046.0   \n",
       "4  1 de enero de 2021  47400798           5402702.0   \n",
       "\n",
       "   % Foreign Nationals/Total population  Total YoY(N)  Total YoY)(%)  \\\n",
       "0                              0.139622           NaN            NaN   \n",
       "1                              0.133738      458289.0       0.009426   \n",
       "2                              0.126642      534334.0       0.011112   \n",
       "3                              0.116012      598634.0       0.012606   \n",
       "4                              0.113979       85929.0       0.001813   \n",
       "\n",
       "   Foreign Nationals YoY(N)  Foreign Total YoY)(%)  \n",
       "0                       NaN                    NaN  \n",
       "1                  350066.0               0.053837  \n",
       "2                  412662.0               0.067765  \n",
       "3                  580574.0               0.105386  \n",
       "4                  106344.0               0.019683  "
      ]
     },
     "execution_count": 16,
     "metadata": {},
     "output_type": "execute_result"
    }
   ],
   "source": [
    "INEdata = pd.read_excel(ine_population_nationality,\n",
    "                                  sheet_name = 'INE_Total_foreign_population',\n",
    "                                  skiprows= 2\n",
    "                                )\n",
    "INEdata.head()\n",
    "\n"
   ]
  },
  {
   "cell_type": "code",
   "execution_count": null,
   "metadata": {},
   "outputs": [
    {
     "data": {
      "text/plain": [
       "Index(['Todas las edades', 'Total', 'Foreign population',\n",
       "       '% Foreign Nationals/Total population', 'Total YoY(N)', 'Total YoY)(%)',\n",
       "       'Foreign Nationals YoY(N)', 'Foreign Total YoY)(%)'],\n",
       "      dtype='object')"
      ]
     },
     "execution_count": 17,
     "metadata": {},
     "output_type": "execute_result"
    }
   ],
   "source": [
    "INEdata.columns"
   ]
  },
  {
   "cell_type": "markdown",
   "metadata": {},
   "source": [
    "- Rename columnns from imported data"
   ]
  },
  {
   "cell_type": "code",
   "execution_count": 19,
   "metadata": {},
   "outputs": [],
   "source": [
    "# Rename columns\n",
    "INEdata.columns = ['Date','Total_population','Foreign_population','Percent_foreign_population',\n",
    "'Total population YoY(N)','Total population  YoY(%)','Foreign population YoY(N)','Foreign population  YoY(%)']"
   ]
  },
  {
   "cell_type": "markdown",
   "metadata": {},
   "source": [
    "- Start by subsetting previous data set keeping initial variables (Date,Total_population,Foreign_population), used to derive the rest of columns in INE_data dataframe"
   ]
  },
  {
   "cell_type": "code",
   "execution_count": 21,
   "metadata": {},
   "outputs": [
    {
     "data": {
      "application/vnd.microsoft.datawrangler.viewer.v0+json": {
       "columns": [
        {
         "name": "index",
         "rawType": "int64",
         "type": "integer"
        },
        {
         "name": "Date",
         "rawType": "object",
         "type": "string"
        },
        {
         "name": "Total_population",
         "rawType": "object",
         "type": "unknown"
        },
        {
         "name": "Foreign_population",
         "rawType": "float64",
         "type": "float"
        }
       ],
       "conversionMethod": "pd.DataFrame",
       "ref": "fe43f6ab-895e-4708-a1ab-9afed3fd552c",
       "rows": [
        [
         "0",
         "1 de enero de 2025",
         "49077984",
         "6852348.0"
        ],
        [
         "1",
         "1 de enero de 2024",
         "48619695",
         "6502282.0"
        ],
        [
         "2",
         "1 de enero de 2023",
         "48085361",
         "6089620.0"
        ],
        [
         "3",
         "1 de enero de 2022",
         "47486727",
         "5509046.0"
        ],
        [
         "4",
         "1 de enero de 2021",
         "47400798",
         "5402702.0"
        ]
       ],
       "shape": {
        "columns": 3,
        "rows": 5
       }
      },
      "text/html": [
       "<div>\n",
       "<style scoped>\n",
       "    .dataframe tbody tr th:only-of-type {\n",
       "        vertical-align: middle;\n",
       "    }\n",
       "\n",
       "    .dataframe tbody tr th {\n",
       "        vertical-align: top;\n",
       "    }\n",
       "\n",
       "    .dataframe thead th {\n",
       "        text-align: right;\n",
       "    }\n",
       "</style>\n",
       "<table border=\"1\" class=\"dataframe\">\n",
       "  <thead>\n",
       "    <tr style=\"text-align: right;\">\n",
       "      <th></th>\n",
       "      <th>Date</th>\n",
       "      <th>Total_population</th>\n",
       "      <th>Foreign_population</th>\n",
       "    </tr>\n",
       "  </thead>\n",
       "  <tbody>\n",
       "    <tr>\n",
       "      <th>0</th>\n",
       "      <td>1 de enero de 2025</td>\n",
       "      <td>49077984</td>\n",
       "      <td>6852348.0</td>\n",
       "    </tr>\n",
       "    <tr>\n",
       "      <th>1</th>\n",
       "      <td>1 de enero de 2024</td>\n",
       "      <td>48619695</td>\n",
       "      <td>6502282.0</td>\n",
       "    </tr>\n",
       "    <tr>\n",
       "      <th>2</th>\n",
       "      <td>1 de enero de 2023</td>\n",
       "      <td>48085361</td>\n",
       "      <td>6089620.0</td>\n",
       "    </tr>\n",
       "    <tr>\n",
       "      <th>3</th>\n",
       "      <td>1 de enero de 2022</td>\n",
       "      <td>47486727</td>\n",
       "      <td>5509046.0</td>\n",
       "    </tr>\n",
       "    <tr>\n",
       "      <th>4</th>\n",
       "      <td>1 de enero de 2021</td>\n",
       "      <td>47400798</td>\n",
       "      <td>5402702.0</td>\n",
       "    </tr>\n",
       "  </tbody>\n",
       "</table>\n",
       "</div>"
      ],
      "text/plain": [
       "                 Date Total_population  Foreign_population\n",
       "0  1 de enero de 2025         49077984           6852348.0\n",
       "1  1 de enero de 2024         48619695           6502282.0\n",
       "2  1 de enero de 2023         48085361           6089620.0\n",
       "3  1 de enero de 2022         47486727           5509046.0\n",
       "4  1 de enero de 2021         47400798           5402702.0"
      ]
     },
     "execution_count": 21,
     "metadata": {},
     "output_type": "execute_result"
    }
   ],
   "source": [
    "INE_total_foreign_population = INEdata[['Date','Total_population','Foreign_population']]\n",
    "INE_total_foreign_population.head()"
   ]
  }
 ],
 "metadata": {
  "kernelspec": {
   "display_name": "Python 3",
   "language": "python",
   "name": "python3"
  },
  "language_info": {
   "codemirror_mode": {
    "name": "ipython",
    "version": 3
   },
   "file_extension": ".py",
   "mimetype": "text/x-python",
   "name": "python",
   "nbconvert_exporter": "python",
   "pygments_lexer": "ipython3",
   "version": "3.12.8"
  }
 },
 "nbformat": 4,
 "nbformat_minor": 2
}
