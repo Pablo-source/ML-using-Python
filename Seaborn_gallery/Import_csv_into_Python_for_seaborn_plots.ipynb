{
 "cells": [
  {
   "cell_type": "markdown",
   "id": "69b1f4ba",
   "metadata": {},
   "source": [
    "## Import CSV files into Python for Seaborn plots"
   ]
  },
  {
   "cell_type": "markdown",
   "id": "ed81a68d",
   "metadata": {},
   "source": [
    "**AIM**: This workbook describes the best methods to import data into Python from .csv files parsing date columns."
   ]
  },
  {
   "cell_type": "markdown",
   "id": "e08b7283",
   "metadata": {},
   "source": [
    "### 1. Load required libraries"
   ]
  },
  {
   "cell_type": "code",
   "execution_count": 1,
   "id": "9472c6dd",
   "metadata": {},
   "outputs": [],
   "source": [
    "# Pandas and os for data ingestion and file manipulation\n",
    "import pandas as pd\n",
    "import os"
   ]
  },
  {
   "cell_type": "markdown",
   "id": "88258fc5",
   "metadata": {},
   "source": [
    "Loading also specific Seaborn libraries"
   ]
  },
  {
   "cell_type": "code",
   "execution_count": 2,
   "id": "a923fbe8",
   "metadata": {},
   "outputs": [],
   "source": [
    "import seaborn as sns\n",
    "import matplotlib.pyplot as plt \n",
    "sns.set_theme(style=\"darkgrid\")"
   ]
  },
  {
   "cell_type": "markdown",
   "id": "bef924a9",
   "metadata": {},
   "source": [
    "### 2. Build path to project folder "
   ]
  },
  {
   "cell_type": "markdown",
   "id": "36360993",
   "metadata": {},
   "source": [
    "In this section, I build the path to the \\data project folder where I can load any .xlsx or .csv file into Python."
   ]
  },
  {
   "cell_type": "code",
   "execution_count": 3,
   "id": "df8e9bba",
   "metadata": {},
   "outputs": [
    {
     "name": "stdout",
     "output_type": "stream",
     "text": [
      "My working directory is: /home/pablo/Documents/Pablo_zorin/VS_Python_GitHub_Pablo_source/ML-using-Python/Seaborn_gallery\n"
     ]
    }
   ],
   "source": [
    "my_wd = os.getcwd()\n",
    "print(\"My working directory is:\",my_wd)"
   ]
  },
  {
   "cell_type": "code",
   "execution_count": 5,
   "id": "905ea4d6",
   "metadata": {},
   "outputs": [
    {
     "name": "stdout",
     "output_type": "stream",
     "text": [
      "My Python project folder is: /home/pablo/Documents/Pablo_zorin/VS_Python_GitHub_Pablo_source/ML-using-Python\n"
     ]
    }
   ],
   "source": [
    "#- I need to change default WD to ML-using-Python folder to access \\data sub-folder to ingest Excel file called \"INE total and foreign population figures Spain.xlsx\"\n",
    "ML_using_Python_folder = os.path.join('/home','pablo','Documents','Pablo_zorin','VS_Python_GitHub_Pablo_source','ML-using-Python')\n",
    "print('My Python project folder is:',ML_using_Python_folder)"
   ]
  },
  {
   "cell_type": "code",
   "execution_count": 6,
   "id": "9dfb0928",
   "metadata": {},
   "outputs": [],
   "source": [
    "# change default folder to this /ML-using-Python folder\n",
    "os.chdir(ML_using_Python_folder)\n"
   ]
  },
  {
   "cell_type": "code",
   "execution_count": 7,
   "id": "ee15b675",
   "metadata": {},
   "outputs": [
    {
     "name": "stdout",
     "output_type": "stream",
     "text": [
      "Changed default working directory to: /home/pablo/Documents/Pablo_zorin/VS_Python_GitHub_Pablo_source/ML-using-Python\n"
     ]
    }
   ],
   "source": [
    "new_wd = os.getcwd()\n",
    "print(\"Changed default working directory to:\",new_wd)"
   ]
  },
  {
   "cell_type": "markdown",
   "id": "f0e6c596",
   "metadata": {},
   "source": [
    "### 3. Check data folder file contents"
   ]
  },
  {
   "cell_type": "markdown",
   "id": "966f25f6",
   "metadata": {},
   "source": [
    "- Check file contents from \\data folder and build path to Excel file to be imported into python "
   ]
  },
  {
   "cell_type": "code",
   "execution_count": 8,
   "id": "1a0e785a",
   "metadata": {},
   "outputs": [
    {
     "name": "stdout",
     "output_type": "stream",
     "text": [
      "data folder contents: ['wine_quality.zip', 'winequality.names', 'Monthly-AE-Time-Series-January-2024.xls', 'INE Resident population country of birth Spain.xlsx', 'AE_Time_Series_Data_website.txt', 'winequality-red.csv', 'OCDE_countries_population_figures_1970_2022.csv', 'all_wine_reset.csv', '03_INE_Spain_natural_growh_births_deaths.xlsx', '02 INE Spain CV population stocks and flows 2002 2025.xlsx', 'AE_Attendances_TypeI_2010_2025.csv', 'AE_Attendances_Aug2010_Mar_2025.csv', 'Monthly-AE-Time-Series-March-2025.xls', 'AE_Attendances_2010_2024.csv', 'Type_I_ATT_TEST.csv', 'Type_I_ATT_TRAIN.csv', 'ONS_Figure_2__Population_increase_in_mid-2023_was_driven_mostly_by_net_international_migration.xls', 'winequality-white.csv', 'INE total and foreign population figures Spain.xlsx', 'monthly-milk-production-pounds.csv', 'ONS_Figure_01_Long_term_emigration_immigration_net_migration.xlsx', 'ONS_long_term_immigration_end2024.xlsx', '01 INE resident population by nationality Spain and CV 2002 2024.xlsx']\n"
     ]
    }
   ],
   "source": [
    "data_folder = os.path.join('/home','pablo','Documents','Pablo_zorin','VS_Python_GitHub_Pablo_source','ML-using-Python','data')\n",
    "data_folder_contents = os.listdir(data_folder)\n",
    "print('data folder contents:',data_folder_contents)"
   ]
  },
  {
   "cell_type": "markdown",
   "id": "a03124fe",
   "metadata": {},
   "source": [
    "#### 3.1 I want to import a .csv file for this script"
   ]
  },
  {
   "cell_type": "markdown",
   "id": "96ced621",
   "metadata": {},
   "source": [
    "- Scan data_folder contents to list all .xlsx files. I want import \"AE_Attendances_Aug2010_Mar_2025.csv\" file that includes Attendances and Admissions for the 2010-2025 time period."
   ]
  },
  {
   "cell_type": "code",
   "execution_count": 9,
   "id": "90d4d20e",
   "metadata": {},
   "outputs": [
    {
     "name": "stdout",
     "output_type": "stream",
     "text": [
      "winequality-red.csv\n",
      "OCDE_countries_population_figures_1970_2022.csv\n",
      "all_wine_reset.csv\n",
      "AE_Attendances_TypeI_2010_2025.csv\n",
      "AE_Attendances_Aug2010_Mar_2025.csv\n",
      "AE_Attendances_2010_2024.csv\n",
      "Type_I_ATT_TEST.csv\n",
      "Type_I_ATT_TRAIN.csv\n",
      "winequality-white.csv\n",
      "monthly-milk-production-pounds.csv\n"
     ]
    }
   ],
   "source": [
    "for files in os.listdir(data_folder):\n",
    "    if files.endswith('.csv'):\n",
    "        print(files)\n",
    "    else:\n",
    "        continue"
   ]
  },
  {
   "cell_type": "markdown",
   "id": "b5b2646a",
   "metadata": {},
   "source": [
    "### 4. Import Aug2010_Mar_2025 csv file into Python"
   ]
  },
  {
   "cell_type": "markdown",
   "id": "d493b630",
   "metadata": {},
   "source": [
    "- From the above set of files, I want to import \"AE_Attendances_Aug2010_mar_2025.csv\" into Python and split it into Type I Attendances, Type II Attendances and Type III Attendances, as three independent .csv files, also I will create new variable \"Total Attendances\" As the sum of the three existing columns.  "
   ]
  },
  {
   "cell_type": "code",
   "execution_count": 10,
   "id": "313548ca",
   "metadata": {},
   "outputs": [],
   "source": [
    "Attendances_file = os.path.join('data','AE_Attendances_Aug2010_Mar_2025.csv')"
   ]
  },
  {
   "cell_type": "markdown",
   "id": "53963ad8",
   "metadata": {},
   "source": [
    "- Import above .csv file into pyhon"
   ]
  },
  {
   "cell_type": "code",
   "execution_count": null,
   "id": "716d1052",
   "metadata": {},
   "outputs": [
    {
     "data": {
      "application/vnd.microsoft.datawrangler.viewer.v0+json": {
       "columns": [
        {
         "name": "index",
         "rawType": "int64",
         "type": "integer"
        },
        {
         "name": "Period",
         "rawType": "object",
         "type": "string"
        },
        {
         "name": "Type1_ATT",
         "rawType": "int64",
         "type": "integer"
        },
        {
         "name": "Type2_ATT",
         "rawType": "int64",
         "type": "integer"
        },
        {
         "name": "Type3_ATT",
         "rawType": "int64",
         "type": "integer"
        }
       ],
       "conversionMethod": "pd.DataFrame",
       "ref": "a33861c9-4401-4c1d-8526-34ea62605e3e",
       "rows": [
        [
         "0",
         "01/08/2010",
         "1138652",
         "54371",
         "559358"
        ],
        [
         "1",
         "01/09/2010",
         "1150728",
         "55181",
         "550359"
        ],
        [
         "2",
         "01/10/2010",
         "1163143",
         "54961",
         "583244"
        ],
        [
         "3",
         "01/11/2010",
         "1111295",
         "53727",
         "486005"
        ],
        [
         "4",
         "01/12/2010",
         "1159204",
         "45536",
         "533001"
        ]
       ],
       "shape": {
        "columns": 4,
        "rows": 5
       }
      },
      "text/html": [
       "<div>\n",
       "<style scoped>\n",
       "    .dataframe tbody tr th:only-of-type {\n",
       "        vertical-align: middle;\n",
       "    }\n",
       "\n",
       "    .dataframe tbody tr th {\n",
       "        vertical-align: top;\n",
       "    }\n",
       "\n",
       "    .dataframe thead th {\n",
       "        text-align: right;\n",
       "    }\n",
       "</style>\n",
       "<table border=\"1\" class=\"dataframe\">\n",
       "  <thead>\n",
       "    <tr style=\"text-align: right;\">\n",
       "      <th></th>\n",
       "      <th>Period</th>\n",
       "      <th>Type1_ATT</th>\n",
       "      <th>Type2_ATT</th>\n",
       "      <th>Type3_ATT</th>\n",
       "    </tr>\n",
       "  </thead>\n",
       "  <tbody>\n",
       "    <tr>\n",
       "      <th>0</th>\n",
       "      <td>01/08/2010</td>\n",
       "      <td>1138652</td>\n",
       "      <td>54371</td>\n",
       "      <td>559358</td>\n",
       "    </tr>\n",
       "    <tr>\n",
       "      <th>1</th>\n",
       "      <td>01/09/2010</td>\n",
       "      <td>1150728</td>\n",
       "      <td>55181</td>\n",
       "      <td>550359</td>\n",
       "    </tr>\n",
       "    <tr>\n",
       "      <th>2</th>\n",
       "      <td>01/10/2010</td>\n",
       "      <td>1163143</td>\n",
       "      <td>54961</td>\n",
       "      <td>583244</td>\n",
       "    </tr>\n",
       "    <tr>\n",
       "      <th>3</th>\n",
       "      <td>01/11/2010</td>\n",
       "      <td>1111295</td>\n",
       "      <td>53727</td>\n",
       "      <td>486005</td>\n",
       "    </tr>\n",
       "    <tr>\n",
       "      <th>4</th>\n",
       "      <td>01/12/2010</td>\n",
       "      <td>1159204</td>\n",
       "      <td>45536</td>\n",
       "      <td>533001</td>\n",
       "    </tr>\n",
       "  </tbody>\n",
       "</table>\n",
       "</div>"
      ],
      "text/plain": [
       "       Period  Type1_ATT  Type2_ATT  Type3_ATT\n",
       "0  01/08/2010    1138652      54371     559358\n",
       "1  01/09/2010    1150728      55181     550359\n",
       "2  01/10/2010    1163143      54961     583244\n",
       "3  01/11/2010    1111295      53727     486005\n",
       "4  01/12/2010    1159204      45536     533001"
      ]
     },
     "execution_count": 61,
     "metadata": {},
     "output_type": "execute_result"
    }
   ],
   "source": [
    "# Using parse_dates option\n",
    "AE_data = pd.read_csv(Attendances_file, parse_dates=True)\n",
    "AE_data.head()"
   ]
  },
  {
   "cell_type": "code",
   "execution_count": 63,
   "id": "8a36dcdf",
   "metadata": {},
   "outputs": [
    {
     "name": "stdout",
     "output_type": "stream",
     "text": [
      "<class 'pandas.core.frame.DataFrame'>\n",
      "RangeIndex: 176 entries, 0 to 175\n",
      "Data columns (total 4 columns):\n",
      " #   Column     Non-Null Count  Dtype \n",
      "---  ------     --------------  ----- \n",
      " 0   Period     176 non-null    object\n",
      " 1   Type1_ATT  176 non-null    int64 \n",
      " 2   Type2_ATT  176 non-null    int64 \n",
      " 3   Type3_ATT  176 non-null    int64 \n",
      "dtypes: int64(3), object(1)\n",
      "memory usage: 5.6+ KB\n"
     ]
    }
   ],
   "source": [
    "AE_data.info()"
   ]
  },
  {
   "cell_type": "markdown",
   "id": "c43207fd",
   "metadata": {},
   "source": [
    "- Pandas package has not parsed Period as a Datime column. As it is defined as \"object\". Pandas interprets the Period column as strings."
   ]
  },
  {
   "cell_type": "markdown",
   "id": "900aabce",
   "metadata": {},
   "source": [
    "#### 4.1 Now I am using parse_dates to identify the specific column I want to parse as date from the CSV file "
   ]
  },
  {
   "cell_type": "code",
   "execution_count": 13,
   "id": "db102f88",
   "metadata": {},
   "outputs": [],
   "source": [
    "# using parse_dates =['Period] option\n",
    "AE_data_imported = pd.read_csv(Attendances_file,\n",
    "                               parse_dates=['Period'])"
   ]
  },
  {
   "cell_type": "code",
   "execution_count": 14,
   "id": "6fe989da",
   "metadata": {},
   "outputs": [
    {
     "data": {
      "text/plain": [
       "Period       datetime64[ns]\n",
       "Type1_ATT             int64\n",
       "Type2_ATT             int64\n",
       "Type3_ATT             int64\n",
       "dtype: object"
      ]
     },
     "execution_count": 14,
     "metadata": {},
     "output_type": "execute_result"
    }
   ],
   "source": [
    "AE_data_imported.dtypes"
   ]
  },
  {
   "cell_type": "markdown",
   "id": "f39fda27",
   "metadata": {},
   "source": [
    "- Now \"Period\" column has successfully being imported into Python as a Date column"
   ]
  },
  {
   "cell_type": "markdown",
   "id": "9a19e2cb",
   "metadata": {},
   "source": [
    "- I can use a lambda function with a date parser to import the .csv file with the correct date format for Period column."
   ]
  },
  {
   "cell_type": "markdown",
   "id": "ce081d4a",
   "metadata": {},
   "source": [
    "- And define the following date parser"
   ]
  },
  {
   "cell_type": "code",
   "execution_count": 15,
   "id": "aaa78418",
   "metadata": {},
   "outputs": [
    {
     "data": {
      "application/vnd.microsoft.datawrangler.viewer.v0+json": {
       "columns": [
        {
         "name": "index",
         "rawType": "int64",
         "type": "integer"
        },
        {
         "name": "Period",
         "rawType": "datetime64[ns]",
         "type": "datetime"
        },
        {
         "name": "Type1_ATT",
         "rawType": "int64",
         "type": "integer"
        },
        {
         "name": "Type2_ATT",
         "rawType": "int64",
         "type": "integer"
        },
        {
         "name": "Type3_ATT",
         "rawType": "int64",
         "type": "integer"
        }
       ],
       "conversionMethod": "pd.DataFrame",
       "ref": "8da87eaa-f3e1-43ed-93bb-1bcf1c9e6ea5",
       "rows": [
        [
         "0",
         "2010-01-08 00:00:00",
         "1138652",
         "54371",
         "559358"
        ],
        [
         "1",
         "2010-01-09 00:00:00",
         "1150728",
         "55181",
         "550359"
        ],
        [
         "2",
         "2010-01-10 00:00:00",
         "1163143",
         "54961",
         "583244"
        ],
        [
         "3",
         "2010-01-11 00:00:00",
         "1111295",
         "53727",
         "486005"
        ],
        [
         "4",
         "2010-01-12 00:00:00",
         "1159204",
         "45536",
         "533001"
        ]
       ],
       "shape": {
        "columns": 4,
        "rows": 5
       }
      },
      "text/html": [
       "<div>\n",
       "<style scoped>\n",
       "    .dataframe tbody tr th:only-of-type {\n",
       "        vertical-align: middle;\n",
       "    }\n",
       "\n",
       "    .dataframe tbody tr th {\n",
       "        vertical-align: top;\n",
       "    }\n",
       "\n",
       "    .dataframe thead th {\n",
       "        text-align: right;\n",
       "    }\n",
       "</style>\n",
       "<table border=\"1\" class=\"dataframe\">\n",
       "  <thead>\n",
       "    <tr style=\"text-align: right;\">\n",
       "      <th></th>\n",
       "      <th>Period</th>\n",
       "      <th>Type1_ATT</th>\n",
       "      <th>Type2_ATT</th>\n",
       "      <th>Type3_ATT</th>\n",
       "    </tr>\n",
       "  </thead>\n",
       "  <tbody>\n",
       "    <tr>\n",
       "      <th>0</th>\n",
       "      <td>2010-01-08</td>\n",
       "      <td>1138652</td>\n",
       "      <td>54371</td>\n",
       "      <td>559358</td>\n",
       "    </tr>\n",
       "    <tr>\n",
       "      <th>1</th>\n",
       "      <td>2010-01-09</td>\n",
       "      <td>1150728</td>\n",
       "      <td>55181</td>\n",
       "      <td>550359</td>\n",
       "    </tr>\n",
       "    <tr>\n",
       "      <th>2</th>\n",
       "      <td>2010-01-10</td>\n",
       "      <td>1163143</td>\n",
       "      <td>54961</td>\n",
       "      <td>583244</td>\n",
       "    </tr>\n",
       "    <tr>\n",
       "      <th>3</th>\n",
       "      <td>2010-01-11</td>\n",
       "      <td>1111295</td>\n",
       "      <td>53727</td>\n",
       "      <td>486005</td>\n",
       "    </tr>\n",
       "    <tr>\n",
       "      <th>4</th>\n",
       "      <td>2010-01-12</td>\n",
       "      <td>1159204</td>\n",
       "      <td>45536</td>\n",
       "      <td>533001</td>\n",
       "    </tr>\n",
       "  </tbody>\n",
       "</table>\n",
       "</div>"
      ],
      "text/plain": [
       "      Period  Type1_ATT  Type2_ATT  Type3_ATT\n",
       "0 2010-01-08    1138652      54371     559358\n",
       "1 2010-01-09    1150728      55181     550359\n",
       "2 2010-01-10    1163143      54961     583244\n",
       "3 2010-01-11    1111295      53727     486005\n",
       "4 2010-01-12    1159204      45536     533001"
      ]
     },
     "execution_count": 15,
     "metadata": {},
     "output_type": "execute_result"
    }
   ],
   "source": [
    "AE_data_imported.head()"
   ]
  },
  {
   "cell_type": "code",
   "execution_count": 17,
   "id": "cab54f7a",
   "metadata": {},
   "outputs": [
    {
     "name": "stdout",
     "output_type": "stream",
     "text": [
      "<class 'pandas.core.frame.DataFrame'>\n",
      "RangeIndex: 176 entries, 0 to 175\n",
      "Data columns (total 4 columns):\n",
      " #   Column     Non-Null Count  Dtype         \n",
      "---  ------     --------------  -----         \n",
      " 0   Period     176 non-null    datetime64[ns]\n",
      " 1   Type1_ATT  176 non-null    int64         \n",
      " 2   Type2_ATT  176 non-null    int64         \n",
      " 3   Type3_ATT  176 non-null    int64         \n",
      "dtypes: datetime64[ns](1), int64(3)\n",
      "memory usage: 5.6 KB\n"
     ]
    }
   ],
   "source": [
    "AE_data_imported.info()"
   ]
  },
  {
   "cell_type": "code",
   "execution_count": 18,
   "id": "08088e79",
   "metadata": {},
   "outputs": [
    {
     "data": {
      "application/vnd.microsoft.datawrangler.viewer.v0+json": {
       "columns": [
        {
         "name": "Period",
         "rawType": "datetime64[ns]",
         "type": "datetime"
        },
        {
         "name": "Type1_ATT",
         "rawType": "int64",
         "type": "integer"
        },
        {
         "name": "Type2_ATT",
         "rawType": "int64",
         "type": "integer"
        },
        {
         "name": "Type3_ATT",
         "rawType": "int64",
         "type": "integer"
        }
       ],
       "conversionMethod": "pd.DataFrame",
       "ref": "f60627e3-9b77-410e-a70a-c5dfbf2738d6",
       "rows": [
        [
         "2010-01-08 00:00:00",
         "1138652",
         "54371",
         "559358"
        ],
        [
         "2010-01-09 00:00:00",
         "1150728",
         "55181",
         "550359"
        ],
        [
         "2010-01-10 00:00:00",
         "1163143",
         "54961",
         "583244"
        ],
        [
         "2010-01-11 00:00:00",
         "1111295",
         "53727",
         "486005"
        ],
        [
         "2010-01-12 00:00:00",
         "1159204",
         "45536",
         "533001"
        ],
        [
         "2011-01-01 00:00:00",
         "1133881",
         "51585",
         "542331"
        ],
        [
         "2011-01-02 00:00:00",
         "1053707",
         "51249",
         "494408"
        ],
        [
         "2011-01-03 00:00:00",
         "1225222",
         "57900",
         "580319"
        ],
        [
         "2011-01-04 00:00:00",
         "1197213",
         "54042",
         "593120"
        ],
        [
         "2011-01-05 00:00:00",
         "1221687",
         "57067",
         "594941"
        ],
        [
         "2011-01-06 00:00:00",
         "1168468",
         "54739",
         "562210"
        ],
        [
         "2011-01-07 00:00:00",
         "1211066",
         "56204",
         "597690"
        ],
        [
         "2011-01-08 00:00:00",
         "1135801",
         "51890",
         "570417"
        ],
        [
         "2011-01-09 00:00:00",
         "1162143",
         "52329",
         "566738"
        ],
        [
         "2011-01-10 00:00:00",
         "1200708",
         "54447",
         "593757"
        ],
        [
         "2011-01-11 00:00:00",
         "1134959",
         "51772",
         "554709"
        ],
        [
         "2011-01-12 00:00:00",
         "1141606",
         "47961",
         "542479"
        ],
        [
         "2012-01-01 00:00:00",
         "1137916",
         "51607",
         "547995"
        ],
        [
         "2012-01-02 00:00:00",
         "1120423",
         "51156",
         "532653"
        ],
        [
         "2012-01-03 00:00:00",
         "1263082",
         "58574",
         "611496"
        ],
        [
         "2012-01-04 00:00:00",
         "1149634",
         "51689",
         "568200"
        ],
        [
         "2012-01-05 00:00:00",
         "1251414",
         "56417",
         "621739"
        ],
        [
         "2012-01-06 00:00:00",
         "1222084",
         "53957",
         "611800"
        ],
        [
         "2012-01-07 00:00:00",
         "1248953",
         "55392",
         "620178"
        ],
        [
         "2012-01-08 00:00:00",
         "1197384",
         "52905",
         "594854"
        ],
        [
         "2012-01-09 00:00:00",
         "1178361",
         "51526",
         "558604"
        ],
        [
         "2012-01-10 00:00:00",
         "1214433",
         "53423",
         "564448"
        ],
        [
         "2012-01-11 00:00:00",
         "1167908",
         "51805",
         "535892"
        ],
        [
         "2012-01-12 00:00:00",
         "1202080",
         "47553",
         "572792"
        ],
        [
         "2013-01-01 00:00:00",
         "1149837",
         "49518",
         "533763"
        ],
        [
         "2013-01-02 00:00:00",
         "1085333",
         "48970",
         "514445"
        ],
        [
         "2013-01-03 00:00:00",
         "1226196",
         "54219",
         "584669"
        ],
        [
         "2013-01-04 00:00:00",
         "1199089",
         "54306",
         "578025"
        ],
        [
         "2013-01-05 00:00:00",
         "1229747",
         "54729",
         "607194"
        ],
        [
         "2013-01-06 00:00:00",
         "1191352",
         "54589",
         "585094"
        ],
        [
         "2013-01-07 00:00:00",
         "1281700",
         "55536",
         "639053"
        ],
        [
         "2013-01-08 00:00:00",
         "1189671",
         "53239",
         "597681"
        ],
        [
         "2013-01-09 00:00:00",
         "1156569",
         "52312",
         "559868"
        ],
        [
         "2013-01-10 00:00:00",
         "1199259",
         "52705",
         "577465"
        ],
        [
         "2013-01-11 00:00:00",
         "1139112",
         "50631",
         "543294"
        ],
        [
         "2013-01-12 00:00:00",
         "1172011",
         "47809",
         "562209"
        ],
        [
         "2014-01-01 00:00:00",
         "1142284",
         "51060",
         "546196"
        ],
        [
         "2014-01-02 00:00:00",
         "1084744",
         "47705",
         "529366"
        ],
        [
         "2014-01-03 00:00:00",
         "1269436",
         "55798",
         "632107"
        ],
        [
         "2014-01-04 00:00:00",
         "1213066",
         "52034",
         "612576"
        ],
        [
         "2014-01-05 00:00:00",
         "1287333",
         "54446",
         "636250"
        ],
        [
         "2014-01-06 00:00:00",
         "1265211",
         "54997",
         "622060"
        ],
        [
         "2014-01-07 00:00:00",
         "1302588",
         "55793",
         "635250"
        ],
        [
         "2014-01-08 00:00:00",
         "1188147",
         "53051",
         "576112"
        ],
        [
         "2014-01-09 00:00:00",
         "1221782",
         "52195",
         "579309"
        ]
       ],
       "shape": {
        "columns": 3,
        "rows": 176
       }
      },
      "text/html": [
       "<div>\n",
       "<style scoped>\n",
       "    .dataframe tbody tr th:only-of-type {\n",
       "        vertical-align: middle;\n",
       "    }\n",
       "\n",
       "    .dataframe tbody tr th {\n",
       "        vertical-align: top;\n",
       "    }\n",
       "\n",
       "    .dataframe thead th {\n",
       "        text-align: right;\n",
       "    }\n",
       "</style>\n",
       "<table border=\"1\" class=\"dataframe\">\n",
       "  <thead>\n",
       "    <tr style=\"text-align: right;\">\n",
       "      <th></th>\n",
       "      <th>Type1_ATT</th>\n",
       "      <th>Type2_ATT</th>\n",
       "      <th>Type3_ATT</th>\n",
       "    </tr>\n",
       "    <tr>\n",
       "      <th>Period</th>\n",
       "      <th></th>\n",
       "      <th></th>\n",
       "      <th></th>\n",
       "    </tr>\n",
       "  </thead>\n",
       "  <tbody>\n",
       "    <tr>\n",
       "      <th>2010-01-08</th>\n",
       "      <td>1138652</td>\n",
       "      <td>54371</td>\n",
       "      <td>559358</td>\n",
       "    </tr>\n",
       "    <tr>\n",
       "      <th>2010-01-09</th>\n",
       "      <td>1150728</td>\n",
       "      <td>55181</td>\n",
       "      <td>550359</td>\n",
       "    </tr>\n",
       "    <tr>\n",
       "      <th>2010-01-10</th>\n",
       "      <td>1163143</td>\n",
       "      <td>54961</td>\n",
       "      <td>583244</td>\n",
       "    </tr>\n",
       "    <tr>\n",
       "      <th>2010-01-11</th>\n",
       "      <td>1111295</td>\n",
       "      <td>53727</td>\n",
       "      <td>486005</td>\n",
       "    </tr>\n",
       "    <tr>\n",
       "      <th>2010-01-12</th>\n",
       "      <td>1159204</td>\n",
       "      <td>45536</td>\n",
       "      <td>533001</td>\n",
       "    </tr>\n",
       "    <tr>\n",
       "      <th>...</th>\n",
       "      <td>...</td>\n",
       "      <td>...</td>\n",
       "      <td>...</td>\n",
       "    </tr>\n",
       "    <tr>\n",
       "      <th>2024-01-11</th>\n",
       "      <td>1428050</td>\n",
       "      <td>47263</td>\n",
       "      <td>835916</td>\n",
       "    </tr>\n",
       "    <tr>\n",
       "      <th>2024-01-12</th>\n",
       "      <td>1440311</td>\n",
       "      <td>44041</td>\n",
       "      <td>861582</td>\n",
       "    </tr>\n",
       "    <tr>\n",
       "      <th>2025-01-01</th>\n",
       "      <td>1359026</td>\n",
       "      <td>49486</td>\n",
       "      <td>809618</td>\n",
       "    </tr>\n",
       "    <tr>\n",
       "      <th>2025-01-02</th>\n",
       "      <td>1271336</td>\n",
       "      <td>45682</td>\n",
       "      <td>764860</td>\n",
       "    </tr>\n",
       "    <tr>\n",
       "      <th>2025-01-03</th>\n",
       "      <td>1450686</td>\n",
       "      <td>51237</td>\n",
       "      <td>887141</td>\n",
       "    </tr>\n",
       "  </tbody>\n",
       "</table>\n",
       "<p>176 rows × 3 columns</p>\n",
       "</div>"
      ],
      "text/plain": [
       "            Type1_ATT  Type2_ATT  Type3_ATT\n",
       "Period                                     \n",
       "2010-01-08    1138652      54371     559358\n",
       "2010-01-09    1150728      55181     550359\n",
       "2010-01-10    1163143      54961     583244\n",
       "2010-01-11    1111295      53727     486005\n",
       "2010-01-12    1159204      45536     533001\n",
       "...               ...        ...        ...\n",
       "2024-01-11    1428050      47263     835916\n",
       "2024-01-12    1440311      44041     861582\n",
       "2025-01-01    1359026      49486     809618\n",
       "2025-01-02    1271336      45682     764860\n",
       "2025-01-03    1450686      51237     887141\n",
       "\n",
       "[176 rows x 3 columns]"
      ]
     },
     "execution_count": 18,
     "metadata": {},
     "output_type": "execute_result"
    }
   ],
   "source": [
    "AE_data_imported.set_index(\"Period\")"
   ]
  },
  {
   "cell_type": "code",
   "execution_count": 20,
   "id": "fd030646",
   "metadata": {},
   "outputs": [
    {
     "name": "stdout",
     "output_type": "stream",
     "text": [
      "<class 'pandas.core.frame.DataFrame'>\n",
      "RangeIndex: 176 entries, 0 to 175\n",
      "Data columns (total 4 columns):\n",
      " #   Column     Non-Null Count  Dtype         \n",
      "---  ------     --------------  -----         \n",
      " 0   Period     176 non-null    datetime64[ns]\n",
      " 1   Type1_ATT  176 non-null    int64         \n",
      " 2   Type2_ATT  176 non-null    int64         \n",
      " 3   Type3_ATT  176 non-null    int64         \n",
      "dtypes: datetime64[ns](1), int64(3)\n",
      "memory usage: 5.6 KB\n"
     ]
    }
   ],
   "source": [
    "AE_data_imported.info()\n"
   ]
  },
  {
   "cell_type": "markdown",
   "id": "8e4f233e",
   "metadata": {},
   "source": [
    "### 5. Filter data from AE_data_imported based on a range of dates"
   ]
  },
  {
   "cell_type": "markdown",
   "id": "a3688169",
   "metadata": {},
   "source": [
    "Source:https://www.geeksforgeeks.org/how-to-filter-dataframe-rows-based-on-the-date-in-pandas/"
   ]
  },
  {
   "cell_type": "markdown",
   "id": "a5b435f1",
   "metadata": {},
   "source": [
    "Filter data based on dates using DataFrame.loc[] function, the loc[] function is used to access a group of rows and columns of a DataFrame through labels or a boolean array. In this example, the conditional statement in loc[] returns a boolean array with True value if row satisfies condition (date is in between 1st and 15th September) and False value otherwise. Then the loc[] function returns only those rows having True values. "
   ]
  },
  {
   "cell_type": "markdown",
   "id": "6a58ee84",
   "metadata": {},
   "source": [
    "# Filter data between two dates\n",
    "filtered_df = df.loc[(df['date'] >= '2020-09-01')\n",
    "                     & (df['date'] < '2020-09-15')]"
   ]
  },
  {
   "cell_type": "code",
   "execution_count": 21,
   "id": "6d9a8a41",
   "metadata": {},
   "outputs": [
    {
     "data": {
      "application/vnd.microsoft.datawrangler.viewer.v0+json": {
       "columns": [
        {
         "name": "index",
         "rawType": "int64",
         "type": "integer"
        },
        {
         "name": "Period",
         "rawType": "datetime64[ns]",
         "type": "datetime"
        },
        {
         "name": "Type1_ATT",
         "rawType": "int64",
         "type": "integer"
        },
        {
         "name": "Type2_ATT",
         "rawType": "int64",
         "type": "integer"
        },
        {
         "name": "Type3_ATT",
         "rawType": "int64",
         "type": "integer"
        }
       ],
       "conversionMethod": "pd.DataFrame",
       "ref": "d193d98d-60dc-4363-bf2f-be9bafb08905",
       "rows": [
        [
         "0",
         "2010-01-08 00:00:00",
         "1138652",
         "54371",
         "559358"
        ],
        [
         "1",
         "2010-01-09 00:00:00",
         "1150728",
         "55181",
         "550359"
        ],
        [
         "2",
         "2010-01-10 00:00:00",
         "1163143",
         "54961",
         "583244"
        ],
        [
         "3",
         "2010-01-11 00:00:00",
         "1111295",
         "53727",
         "486005"
        ],
        [
         "4",
         "2010-01-12 00:00:00",
         "1159204",
         "45536",
         "533001"
        ]
       ],
       "shape": {
        "columns": 4,
        "rows": 5
       }
      },
      "text/html": [
       "<div>\n",
       "<style scoped>\n",
       "    .dataframe tbody tr th:only-of-type {\n",
       "        vertical-align: middle;\n",
       "    }\n",
       "\n",
       "    .dataframe tbody tr th {\n",
       "        vertical-align: top;\n",
       "    }\n",
       "\n",
       "    .dataframe thead th {\n",
       "        text-align: right;\n",
       "    }\n",
       "</style>\n",
       "<table border=\"1\" class=\"dataframe\">\n",
       "  <thead>\n",
       "    <tr style=\"text-align: right;\">\n",
       "      <th></th>\n",
       "      <th>Period</th>\n",
       "      <th>Type1_ATT</th>\n",
       "      <th>Type2_ATT</th>\n",
       "      <th>Type3_ATT</th>\n",
       "    </tr>\n",
       "  </thead>\n",
       "  <tbody>\n",
       "    <tr>\n",
       "      <th>0</th>\n",
       "      <td>2010-01-08</td>\n",
       "      <td>1138652</td>\n",
       "      <td>54371</td>\n",
       "      <td>559358</td>\n",
       "    </tr>\n",
       "    <tr>\n",
       "      <th>1</th>\n",
       "      <td>2010-01-09</td>\n",
       "      <td>1150728</td>\n",
       "      <td>55181</td>\n",
       "      <td>550359</td>\n",
       "    </tr>\n",
       "    <tr>\n",
       "      <th>2</th>\n",
       "      <td>2010-01-10</td>\n",
       "      <td>1163143</td>\n",
       "      <td>54961</td>\n",
       "      <td>583244</td>\n",
       "    </tr>\n",
       "    <tr>\n",
       "      <th>3</th>\n",
       "      <td>2010-01-11</td>\n",
       "      <td>1111295</td>\n",
       "      <td>53727</td>\n",
       "      <td>486005</td>\n",
       "    </tr>\n",
       "    <tr>\n",
       "      <th>4</th>\n",
       "      <td>2010-01-12</td>\n",
       "      <td>1159204</td>\n",
       "      <td>45536</td>\n",
       "      <td>533001</td>\n",
       "    </tr>\n",
       "  </tbody>\n",
       "</table>\n",
       "</div>"
      ],
      "text/plain": [
       "      Period  Type1_ATT  Type2_ATT  Type3_ATT\n",
       "0 2010-01-08    1138652      54371     559358\n",
       "1 2010-01-09    1150728      55181     550359\n",
       "2 2010-01-10    1163143      54961     583244\n",
       "3 2010-01-11    1111295      53727     486005\n",
       "4 2010-01-12    1159204      45536     533001"
      ]
     },
     "execution_count": 21,
     "metadata": {},
     "output_type": "execute_result"
    }
   ],
   "source": [
    "AE_data_imported.head()"
   ]
  },
  {
   "cell_type": "markdown",
   "id": "241bce31",
   "metadata": {},
   "source": [
    "- Following above example, this is how I would fiter initial dataset to keep just 2011 data:"
   ]
  },
  {
   "cell_type": "code",
   "execution_count": 22,
   "id": "73f1e705",
   "metadata": {},
   "outputs": [],
   "source": [
    "# This will filter just 2011 data \n",
    "AE_data_imported_2011 = AE_data_imported.loc[(AE_data_imported['Period'] >= '2011-01-01')\n",
    "                                             & (AE_data_imported['Period'] < '2011-01-12')]"
   ]
  },
  {
   "cell_type": "code",
   "execution_count": 23,
   "id": "ca456f86",
   "metadata": {},
   "outputs": [
    {
     "data": {
      "application/vnd.microsoft.datawrangler.viewer.v0+json": {
       "columns": [
        {
         "name": "index",
         "rawType": "int64",
         "type": "integer"
        },
        {
         "name": "Period",
         "rawType": "datetime64[ns]",
         "type": "datetime"
        },
        {
         "name": "Type1_ATT",
         "rawType": "int64",
         "type": "integer"
        },
        {
         "name": "Type2_ATT",
         "rawType": "int64",
         "type": "integer"
        },
        {
         "name": "Type3_ATT",
         "rawType": "int64",
         "type": "integer"
        }
       ],
       "conversionMethod": "pd.DataFrame",
       "ref": "9495110f-3cca-41be-82c3-296eefe6f51a",
       "rows": [
        [
         "5",
         "2011-01-01 00:00:00",
         "1133881",
         "51585",
         "542331"
        ],
        [
         "6",
         "2011-01-02 00:00:00",
         "1053707",
         "51249",
         "494408"
        ],
        [
         "7",
         "2011-01-03 00:00:00",
         "1225222",
         "57900",
         "580319"
        ],
        [
         "8",
         "2011-01-04 00:00:00",
         "1197213",
         "54042",
         "593120"
        ],
        [
         "9",
         "2011-01-05 00:00:00",
         "1221687",
         "57067",
         "594941"
        ]
       ],
       "shape": {
        "columns": 4,
        "rows": 5
       }
      },
      "text/html": [
       "<div>\n",
       "<style scoped>\n",
       "    .dataframe tbody tr th:only-of-type {\n",
       "        vertical-align: middle;\n",
       "    }\n",
       "\n",
       "    .dataframe tbody tr th {\n",
       "        vertical-align: top;\n",
       "    }\n",
       "\n",
       "    .dataframe thead th {\n",
       "        text-align: right;\n",
       "    }\n",
       "</style>\n",
       "<table border=\"1\" class=\"dataframe\">\n",
       "  <thead>\n",
       "    <tr style=\"text-align: right;\">\n",
       "      <th></th>\n",
       "      <th>Period</th>\n",
       "      <th>Type1_ATT</th>\n",
       "      <th>Type2_ATT</th>\n",
       "      <th>Type3_ATT</th>\n",
       "    </tr>\n",
       "  </thead>\n",
       "  <tbody>\n",
       "    <tr>\n",
       "      <th>5</th>\n",
       "      <td>2011-01-01</td>\n",
       "      <td>1133881</td>\n",
       "      <td>51585</td>\n",
       "      <td>542331</td>\n",
       "    </tr>\n",
       "    <tr>\n",
       "      <th>6</th>\n",
       "      <td>2011-01-02</td>\n",
       "      <td>1053707</td>\n",
       "      <td>51249</td>\n",
       "      <td>494408</td>\n",
       "    </tr>\n",
       "    <tr>\n",
       "      <th>7</th>\n",
       "      <td>2011-01-03</td>\n",
       "      <td>1225222</td>\n",
       "      <td>57900</td>\n",
       "      <td>580319</td>\n",
       "    </tr>\n",
       "    <tr>\n",
       "      <th>8</th>\n",
       "      <td>2011-01-04</td>\n",
       "      <td>1197213</td>\n",
       "      <td>54042</td>\n",
       "      <td>593120</td>\n",
       "    </tr>\n",
       "    <tr>\n",
       "      <th>9</th>\n",
       "      <td>2011-01-05</td>\n",
       "      <td>1221687</td>\n",
       "      <td>57067</td>\n",
       "      <td>594941</td>\n",
       "    </tr>\n",
       "  </tbody>\n",
       "</table>\n",
       "</div>"
      ],
      "text/plain": [
       "      Period  Type1_ATT  Type2_ATT  Type3_ATT\n",
       "5 2011-01-01    1133881      51585     542331\n",
       "6 2011-01-02    1053707      51249     494408\n",
       "7 2011-01-03    1225222      57900     580319\n",
       "8 2011-01-04    1197213      54042     593120\n",
       "9 2011-01-05    1221687      57067     594941"
      ]
     },
     "execution_count": 23,
     "metadata": {},
     "output_type": "execute_result"
    }
   ],
   "source": [
    "AE_data_imported_2011.head()"
   ]
  },
  {
   "cell_type": "markdown",
   "id": "5e240cf9",
   "metadata": {},
   "source": [
    "### 5. Plot a Seaborn chart to add labels to it"
   ]
  },
  {
   "cell_type": "markdown",
   "id": "46cea399",
   "metadata": {},
   "source": [
    "- Start by selecting just Period and Type3_ATT columns from previous dataset"
   ]
  },
  {
   "cell_type": "code",
   "execution_count": 24,
   "id": "0671ca73",
   "metadata": {},
   "outputs": [],
   "source": [
    "AE_data_plot_2011 = AE_data_imported_2011.copy()"
   ]
  },
  {
   "cell_type": "code",
   "execution_count": 25,
   "id": "95f69317",
   "metadata": {},
   "outputs": [
    {
     "data": {
      "application/vnd.microsoft.datawrangler.viewer.v0+json": {
       "columns": [
        {
         "name": "index",
         "rawType": "int64",
         "type": "integer"
        },
        {
         "name": "Period",
         "rawType": "datetime64[ns]",
         "type": "datetime"
        },
        {
         "name": "Type3_ATT",
         "rawType": "int64",
         "type": "integer"
        }
       ],
       "conversionMethod": "pd.DataFrame",
       "ref": "b3298107-3b4c-465d-ac42-5aaee4f0a1ad",
       "rows": [
        [
         "5",
         "2011-01-01 00:00:00",
         "542331"
        ],
        [
         "6",
         "2011-01-02 00:00:00",
         "494408"
        ],
        [
         "7",
         "2011-01-03 00:00:00",
         "580319"
        ],
        [
         "8",
         "2011-01-04 00:00:00",
         "593120"
        ],
        [
         "9",
         "2011-01-05 00:00:00",
         "594941"
        ]
       ],
       "shape": {
        "columns": 2,
        "rows": 5
       }
      },
      "text/html": [
       "<div>\n",
       "<style scoped>\n",
       "    .dataframe tbody tr th:only-of-type {\n",
       "        vertical-align: middle;\n",
       "    }\n",
       "\n",
       "    .dataframe tbody tr th {\n",
       "        vertical-align: top;\n",
       "    }\n",
       "\n",
       "    .dataframe thead th {\n",
       "        text-align: right;\n",
       "    }\n",
       "</style>\n",
       "<table border=\"1\" class=\"dataframe\">\n",
       "  <thead>\n",
       "    <tr style=\"text-align: right;\">\n",
       "      <th></th>\n",
       "      <th>Period</th>\n",
       "      <th>Type3_ATT</th>\n",
       "    </tr>\n",
       "  </thead>\n",
       "  <tbody>\n",
       "    <tr>\n",
       "      <th>5</th>\n",
       "      <td>2011-01-01</td>\n",
       "      <td>542331</td>\n",
       "    </tr>\n",
       "    <tr>\n",
       "      <th>6</th>\n",
       "      <td>2011-01-02</td>\n",
       "      <td>494408</td>\n",
       "    </tr>\n",
       "    <tr>\n",
       "      <th>7</th>\n",
       "      <td>2011-01-03</td>\n",
       "      <td>580319</td>\n",
       "    </tr>\n",
       "    <tr>\n",
       "      <th>8</th>\n",
       "      <td>2011-01-04</td>\n",
       "      <td>593120</td>\n",
       "    </tr>\n",
       "    <tr>\n",
       "      <th>9</th>\n",
       "      <td>2011-01-05</td>\n",
       "      <td>594941</td>\n",
       "    </tr>\n",
       "  </tbody>\n",
       "</table>\n",
       "</div>"
      ],
      "text/plain": [
       "      Period  Type3_ATT\n",
       "5 2011-01-01     542331\n",
       "6 2011-01-02     494408\n",
       "7 2011-01-03     580319\n",
       "8 2011-01-04     593120\n",
       "9 2011-01-05     594941"
      ]
     },
     "execution_count": 25,
     "metadata": {},
     "output_type": "execute_result"
    }
   ],
   "source": [
    "AE_data_plot_2011 = AE_data_plot_2011[['Period','Type3_ATT']]\n",
    "AE_data_plot_2011.head()"
   ]
  },
  {
   "cell_type": "markdown",
   "id": "b810b375",
   "metadata": {},
   "source": [
    "### Plot Type3_ATT for 2011 subset period"
   ]
  },
  {
   "cell_type": "markdown",
   "id": "a3ba7f29",
   "metadata": {},
   "source": [
    "From the previous  AE_data Dataframe we will subset Type3_ATT to plot a Seaborn chart and to add labels to it"
   ]
  },
  {
   "cell_type": "code",
   "execution_count": 26,
   "id": "d5472ebd",
   "metadata": {},
   "outputs": [
    {
     "data": {
      "image/png": "[encoded data removed]",
      "text/plain": [
       "<Figure size 1000x500 with 1 Axes>"
      ]
     },
     "metadata": {},
     "output_type": "display_data"
    }
   ],
   "source": [
    "sns.set(rc={'figure.figsize':(10,5)})\n",
    "ax = sns.lineplot(x='Period',y='Type3_ATT',data = AE_data_plot_2011, marker = '*', color = '#965786')"
   ]
  },
  {
   "cell_type": "markdown",
   "id": "0252689a",
   "metadata": {},
   "source": [
    "- This is the best way of importing .csv data into Python ensuring Date columns are imported as Datetime64 columns."
   ]
  }
 ],
 "metadata": {
  "kernelspec": {
   "display_name": "Python 3",
   "language": "python",
   "name": "python3"
  },
  "language_info": {
   "codemirror_mode": {
    "name": "ipython",
    "version": 3
   },
   "file_extension": ".py",
   "mimetype": "text/x-python",
   "name": "python",
   "nbconvert_exporter": "python",
   "pygments_lexer": "ipython3",
   "version": "3.12.10"
  }
 },
 "nbformat": 4,
 "nbformat_minor": 5
}
