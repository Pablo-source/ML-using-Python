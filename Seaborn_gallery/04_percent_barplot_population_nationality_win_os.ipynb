{
 "cells": [
  {
   "cell_type": "markdown",
   "metadata": {},
   "source": [
    "# Demography "
   ]
  },
  {
   "cell_type": "markdown",
   "metadata": {},
   "source": [
    "This first chart shows Spanish population by nationality for the 2005-2025 period. Describing total population and non spanish nationals figures. We will compute the percentage of Spanish ntaionals and foreign nationals from Spain total population by year. "
   ]
  },
  {
   "cell_type": "markdown",
   "metadata": {},
   "source": [
    "## 1.Load required libraries"
   ]
  },
  {
   "cell_type": "code",
   "execution_count": 4,
   "metadata": {},
   "outputs": [],
   "source": [
    "import pandas as pd\n",
    "import os"
   ]
  },
  {
   "cell_type": "code",
   "execution_count": 5,
   "metadata": {},
   "outputs": [],
   "source": [
    "# Specific libraries fro Seaborn charts\n",
    "import seaborn as sns\n",
    "import matplotlib.pyplot as plt\n",
    "sns.set_theme(style=\"whitegrid\")"
   ]
  },
  {
   "cell_type": "markdown",
   "metadata": {},
   "source": [
    "- Get my current WD on this machine"
   ]
  },
  {
   "cell_type": "code",
   "execution_count": 6,
   "metadata": {},
   "outputs": [
    {
     "name": "stdout",
     "output_type": "stream",
     "text": [
      "My working directory is: c:\\Users\\pituf\\OneDrive\\Documentos\\Pablo\\DELL_PYTHON_projects\\ML-using-Python\\Seaborn_gallery\n"
     ]
    }
   ],
   "source": [
    "my_wd = os.getcwd()\n",
    "print(\"My working directory is:\",my_wd)"
   ]
  },
  {
   "cell_type": "markdown",
   "metadata": {},
   "source": [
    "I need to change working directory to ML-using-Python to access data sub-folder"
   ]
  },
  {
   "cell_type": "code",
   "execution_count": 7,
   "metadata": {},
   "outputs": [],
   "source": [
    "new_wd = os.path.join('C:/', 'Users','pituf','OneDrive','Documentos','Pablo', 'DELL_PYTHON_projects','ML-using-Python')\n",
    "os.chdir(new_wd)"
   ]
  },
  {
   "cell_type": "code",
   "execution_count": 8,
   "metadata": {},
   "outputs": [
    {
     "name": "stdout",
     "output_type": "stream",
     "text": [
      "My working directory is: C:\\Users\\pituf\\OneDrive\\Documentos\\Pablo\\DELL_PYTHON_projects\\ML-using-Python\n"
     ]
    }
   ],
   "source": [
    "new_wd_defined = os.getcwd()\n",
    "print(\"My working directory is:\",new_wd_defined)"
   ]
  },
  {
   "cell_type": "markdown",
   "metadata": {},
   "source": [
    "## 2. Check data folder contents"
   ]
  },
  {
   "cell_type": "markdown",
   "metadata": {},
   "source": [
    "We need first to list files in our \\data folder to locate the Excel file we want to import for this chart, and also to obtain the specific tab name we will import data from."
   ]
  },
  {
   "cell_type": "code",
   "execution_count": 9,
   "metadata": {},
   "outputs": [
    {
     "name": "stdout",
     "output_type": "stream",
     "text": [
      "data folder contents: ['01 INE resident population by nationality Spain and CV 2002 2024.xlsx', '02 INE Spain CV population stocks and flows 2002 2025.xlsx', '03_INE_Spain_natural_growh_births_deaths.xlsx', 'AE_Attendances_2010_2024.csv', 'AE_Time_Series_Data_website.txt', 'all_wine_reset.csv', 'INE Resident population country of birth Spain.xlsx', 'INE total and foreign population figures Spain.xlsx', 'Monthly-AE-Time-Series-January-2024.xls', 'monthly-milk-production-pounds.csv', 'OCDE_countries_population_figures_1970_2022.csv', 'ONS_Figure_01_Long_term_emigration_immigration_net_migration.xlsx', 'ONS_Figure_2__Population_increase_in_mid-2023_was_driven_mostly_by_net_international_migration.xls', 'ONS_long_term_immigration_end2024.xlsx', 'winequality-red.csv', 'winequality-white.csv', 'winequality.names', 'wine_quality.zip']\n"
     ]
    }
   ],
   "source": [
    "# List folder contents using os.listdir() method in a Windows machine\n",
    "data_folder = os.path.join('C:/', 'Users','pituf','OneDrive','Documentos','Pablo', 'DELL_PYTHON_projects','ML-using-Python',\n",
    "                           'data')\n",
    "data_folder_contents = os.listdir(data_folder)\n",
    "print('data folder contents:',data_folder_contents)"
   ]
  },
  {
   "cell_type": "markdown",
   "metadata": {},
   "source": [
    "We have Listed data folder content using os.listdir() method, defining path to Excel filre using os.path.join() method"
   ]
  },
  {
   "cell_type": "markdown",
   "metadata": {},
   "source": [
    "### 2.1 Build path to the Excel file in data folder to be imported"
   ]
  },
  {
   "cell_type": "markdown",
   "metadata": {},
   "source": [
    "I build now the path to Excel file \"INE total and foreign population figures Spain.xlsx\" I want to import into python. As it is in a higher level as the working directory default path, I will use os.changedir() function to point to the \\data folder instead of to the Seaborn_gallery, so I can load it into Python"
   ]
  },
  {
   "cell_type": "code",
   "execution_count": 10,
   "metadata": {},
   "outputs": [
    {
     "name": "stdout",
     "output_type": "stream",
     "text": [
      "INE_population_nationality: data\\INE total and foreign population figures Spain.xlsx\n"
     ]
    }
   ],
   "source": [
    "ine_population_nationality = os.path.join('data','INE total and foreign population figures Spain.xlsx')\n",
    "print('INE_population_nationality:',ine_population_nationality)"
   ]
  },
  {
   "cell_type": "markdown",
   "metadata": {},
   "source": [
    "## 3. Load data into Python"
   ]
  },
  {
   "cell_type": "markdown",
   "metadata": {},
   "source": [
    "First we want to display tab names from imported Excel file"
   ]
  },
  {
   "cell_type": "code",
   "execution_count": 11,
   "metadata": {},
   "outputs": [
    {
     "name": "stdout",
     "output_type": "stream",
     "text": [
      "INE_population_nationality: data\\INE total and foreign population figures Spain.xlsx\n"
     ]
    }
   ],
   "source": [
    "# Ine population by nationality\n",
    "ine_population_nationality = os.path.join('data','INE total and foreign population figures Spain.xlsx')\n",
    "print('INE_population_nationality:',ine_population_nationality)\n"
   ]
  },
  {
   "cell_type": "markdown",
   "metadata": {},
   "source": [
    "Then we use .sheet_names() function to display Excel tab names"
   ]
  },
  {
   "cell_type": "code",
   "execution_count": 12,
   "metadata": {},
   "outputs": [],
   "source": [
    "my_excel_file = pd.ExcelFile(ine_population_nationality)"
   ]
  },
  {
   "cell_type": "code",
   "execution_count": 13,
   "metadata": {},
   "outputs": [
    {
     "data": {
      "text/plain": [
       "['INE_Foreign_population',\n",
       " 'INE_Total_population',\n",
       " 'INE_Total_foreign_population']"
      ]
     },
     "execution_count": 13,
     "metadata": {},
     "output_type": "execute_result"
    }
   ],
   "source": [
    "my_excel_file.sheet_names"
   ]
  },
  {
   "cell_type": "markdown",
   "metadata": {},
   "source": [
    "This code below, using ead_excel() function loads file \"INE total and foreign population figures Spain.xlsx\" into Python. \n",
    "- By detault data is imported from first Excel tab and first row. Instead, we want to import data from third tab \"INE_Total_foreign_population\".\n",
    "- Also, we want to import data starting from 2 row onwards."
   ]
  },
  {
   "cell_type": "code",
   "execution_count": 14,
   "metadata": {},
   "outputs": [
    {
     "name": "stdout",
     "output_type": "stream",
     "text": [
      "INE_population_nationality: data\\INE total and foreign population figures Spain.xlsx\n"
     ]
    }
   ],
   "source": [
    "ine_population_nationality = os.path.join('data',\n",
    "                                          'INE total and foreign population figures Spain.xlsx')\n",
    "print('INE_population_nationality:',ine_population_nationality)"
   ]
  },
  {
   "cell_type": "code",
   "execution_count": 15,
   "metadata": {},
   "outputs": [
    {
     "data": {
      "text/html": [
       "<div>\n",
       "<style scoped>\n",
       "    .dataframe tbody tr th:only-of-type {\n",
       "        vertical-align: middle;\n",
       "    }\n",
       "\n",
       "    .dataframe tbody tr th {\n",
       "        vertical-align: top;\n",
       "    }\n",
       "\n",
       "    .dataframe thead th {\n",
       "        text-align: right;\n",
       "    }\n",
       "</style>\n",
       "<table border=\"1\" class=\"dataframe\">\n",
       "  <thead>\n",
       "    <tr style=\"text-align: right;\">\n",
       "      <th></th>\n",
       "      <th>Todas las edades</th>\n",
       "      <th>Total</th>\n",
       "      <th>Foreign population</th>\n",
       "      <th>% Foreign Nationals/Total population</th>\n",
       "      <th>Total YoY(N)</th>\n",
       "      <th>Total YoY)(%)</th>\n",
       "      <th>Foreign Nationals YoY(N)</th>\n",
       "      <th>Foreign Total YoY)(%)</th>\n",
       "    </tr>\n",
       "  </thead>\n",
       "  <tbody>\n",
       "    <tr>\n",
       "      <th>0</th>\n",
       "      <td>1 de enero de 2025</td>\n",
       "      <td>49077984</td>\n",
       "      <td>6852348.0</td>\n",
       "      <td>0.139622</td>\n",
       "      <td>NaN</td>\n",
       "      <td>NaN</td>\n",
       "      <td>NaN</td>\n",
       "      <td>NaN</td>\n",
       "    </tr>\n",
       "    <tr>\n",
       "      <th>1</th>\n",
       "      <td>1 de enero de 2024</td>\n",
       "      <td>48619695</td>\n",
       "      <td>6502282.0</td>\n",
       "      <td>0.133738</td>\n",
       "      <td>458289.0</td>\n",
       "      <td>0.009426</td>\n",
       "      <td>350066.0</td>\n",
       "      <td>0.053837</td>\n",
       "    </tr>\n",
       "    <tr>\n",
       "      <th>2</th>\n",
       "      <td>1 de enero de 2023</td>\n",
       "      <td>48085361</td>\n",
       "      <td>6089620.0</td>\n",
       "      <td>0.126642</td>\n",
       "      <td>534334.0</td>\n",
       "      <td>0.011112</td>\n",
       "      <td>412662.0</td>\n",
       "      <td>0.067765</td>\n",
       "    </tr>\n",
       "    <tr>\n",
       "      <th>3</th>\n",
       "      <td>1 de enero de 2022</td>\n",
       "      <td>47486727</td>\n",
       "      <td>5509046.0</td>\n",
       "      <td>0.116012</td>\n",
       "      <td>598634.0</td>\n",
       "      <td>0.012606</td>\n",
       "      <td>580574.0</td>\n",
       "      <td>0.105386</td>\n",
       "    </tr>\n",
       "    <tr>\n",
       "      <th>4</th>\n",
       "      <td>1 de enero de 2021</td>\n",
       "      <td>47400798</td>\n",
       "      <td>5402702.0</td>\n",
       "      <td>0.113979</td>\n",
       "      <td>85929.0</td>\n",
       "      <td>0.001813</td>\n",
       "      <td>106344.0</td>\n",
       "      <td>0.019683</td>\n",
       "    </tr>\n",
       "  </tbody>\n",
       "</table>\n",
       "</div>"
      ],
      "text/plain": [
       "     Todas las edades     Total  Foreign population  \\\n",
       "0  1 de enero de 2025  49077984           6852348.0   \n",
       "1  1 de enero de 2024  48619695           6502282.0   \n",
       "2  1 de enero de 2023  48085361           6089620.0   \n",
       "3  1 de enero de 2022  47486727           5509046.0   \n",
       "4  1 de enero de 2021  47400798           5402702.0   \n",
       "\n",
       "   % Foreign Nationals/Total population  Total YoY(N)  Total YoY)(%)  \\\n",
       "0                              0.139622           NaN            NaN   \n",
       "1                              0.133738      458289.0       0.009426   \n",
       "2                              0.126642      534334.0       0.011112   \n",
       "3                              0.116012      598634.0       0.012606   \n",
       "4                              0.113979       85929.0       0.001813   \n",
       "\n",
       "   Foreign Nationals YoY(N)  Foreign Total YoY)(%)  \n",
       "0                       NaN                    NaN  \n",
       "1                  350066.0               0.053837  \n",
       "2                  412662.0               0.067765  \n",
       "3                  580574.0               0.105386  \n",
       "4                  106344.0               0.019683  "
      ]
     },
     "execution_count": 15,
     "metadata": {},
     "output_type": "execute_result"
    }
   ],
   "source": [
    "INEdata = pd.read_excel(ine_population_nationality,\n",
    "                        sheet_name='INE_Total_foreign_population',\n",
    "                        skiprows=2)\n",
    "INEdata.head()"
   ]
  },
  {
   "cell_type": "markdown",
   "metadata": {},
   "source": [
    "- Subset previously imported data to keep just 20 first rows to skip footnotes."
   ]
  },
  {
   "cell_type": "code",
   "execution_count": 16,
   "metadata": {},
   "outputs": [
    {
     "data": {
      "text/html": [
       "<div>\n",
       "<style scoped>\n",
       "    .dataframe tbody tr th:only-of-type {\n",
       "        vertical-align: middle;\n",
       "    }\n",
       "\n",
       "    .dataframe tbody tr th {\n",
       "        vertical-align: top;\n",
       "    }\n",
       "\n",
       "    .dataframe thead th {\n",
       "        text-align: right;\n",
       "    }\n",
       "</style>\n",
       "<table border=\"1\" class=\"dataframe\">\n",
       "  <thead>\n",
       "    <tr style=\"text-align: right;\">\n",
       "      <th></th>\n",
       "      <th>Todas las edades</th>\n",
       "      <th>Total</th>\n",
       "      <th>Foreign population</th>\n",
       "      <th>% Foreign Nationals/Total population</th>\n",
       "      <th>Total YoY(N)</th>\n",
       "      <th>Total YoY)(%)</th>\n",
       "      <th>Foreign Nationals YoY(N)</th>\n",
       "      <th>Foreign Total YoY)(%)</th>\n",
       "    </tr>\n",
       "  </thead>\n",
       "  <tbody>\n",
       "    <tr>\n",
       "      <th>0</th>\n",
       "      <td>1 de enero de 2025</td>\n",
       "      <td>49077984</td>\n",
       "      <td>6852348.0</td>\n",
       "      <td>0.139622</td>\n",
       "      <td>NaN</td>\n",
       "      <td>NaN</td>\n",
       "      <td>NaN</td>\n",
       "      <td>NaN</td>\n",
       "    </tr>\n",
       "    <tr>\n",
       "      <th>1</th>\n",
       "      <td>1 de enero de 2024</td>\n",
       "      <td>48619695</td>\n",
       "      <td>6502282.0</td>\n",
       "      <td>0.133738</td>\n",
       "      <td>458289.0</td>\n",
       "      <td>0.009426</td>\n",
       "      <td>350066.0</td>\n",
       "      <td>0.053837</td>\n",
       "    </tr>\n",
       "    <tr>\n",
       "      <th>2</th>\n",
       "      <td>1 de enero de 2023</td>\n",
       "      <td>48085361</td>\n",
       "      <td>6089620.0</td>\n",
       "      <td>0.126642</td>\n",
       "      <td>534334.0</td>\n",
       "      <td>0.011112</td>\n",
       "      <td>412662.0</td>\n",
       "      <td>0.067765</td>\n",
       "    </tr>\n",
       "    <tr>\n",
       "      <th>3</th>\n",
       "      <td>1 de enero de 2022</td>\n",
       "      <td>47486727</td>\n",
       "      <td>5509046.0</td>\n",
       "      <td>0.116012</td>\n",
       "      <td>598634.0</td>\n",
       "      <td>0.012606</td>\n",
       "      <td>580574.0</td>\n",
       "      <td>0.105386</td>\n",
       "    </tr>\n",
       "    <tr>\n",
       "      <th>4</th>\n",
       "      <td>1 de enero de 2021</td>\n",
       "      <td>47400798</td>\n",
       "      <td>5402702.0</td>\n",
       "      <td>0.113979</td>\n",
       "      <td>85929.0</td>\n",
       "      <td>0.001813</td>\n",
       "      <td>106344.0</td>\n",
       "      <td>0.019683</td>\n",
       "    </tr>\n",
       "  </tbody>\n",
       "</table>\n",
       "</div>"
      ],
      "text/plain": [
       "     Todas las edades     Total  Foreign population  \\\n",
       "0  1 de enero de 2025  49077984           6852348.0   \n",
       "1  1 de enero de 2024  48619695           6502282.0   \n",
       "2  1 de enero de 2023  48085361           6089620.0   \n",
       "3  1 de enero de 2022  47486727           5509046.0   \n",
       "4  1 de enero de 2021  47400798           5402702.0   \n",
       "\n",
       "   % Foreign Nationals/Total population  Total YoY(N)  Total YoY)(%)  \\\n",
       "0                              0.139622           NaN            NaN   \n",
       "1                              0.133738      458289.0       0.009426   \n",
       "2                              0.126642      534334.0       0.011112   \n",
       "3                              0.116012      598634.0       0.012606   \n",
       "4                              0.113979       85929.0       0.001813   \n",
       "\n",
       "   Foreign Nationals YoY(N)  Foreign Total YoY)(%)  \n",
       "0                       NaN                    NaN  \n",
       "1                  350066.0               0.053837  \n",
       "2                  412662.0               0.067765  \n",
       "3                  580574.0               0.105386  \n",
       "4                  106344.0               0.019683  "
      ]
     },
     "execution_count": 16,
     "metadata": {},
     "output_type": "execute_result"
    }
   ],
   "source": [
    "INE_data_clean = INEdata.head(20)\n",
    "INE_data_clean.head()"
   ]
  },
  {
   "cell_type": "code",
   "execution_count": 17,
   "metadata": {},
   "outputs": [
    {
     "data": {
      "text/plain": [
       "Index(['Todas las edades', 'Total', 'Foreign population',\n",
       "       '% Foreign Nationals/Total population', 'Total YoY(N)', 'Total YoY)(%)',\n",
       "       'Foreign Nationals YoY(N)', 'Foreign Total YoY)(%)'],\n",
       "      dtype='object')"
      ]
     },
     "execution_count": 17,
     "metadata": {},
     "output_type": "execute_result"
    }
   ],
   "source": [
    "INE_data_clean.columns"
   ]
  },
  {
   "cell_type": "markdown",
   "metadata": {},
   "source": [
    "## 4. Rename and subset columns"
   ]
  },
  {
   "cell_type": "markdown",
   "metadata": {},
   "source": [
    "Rename columns prior to creating stacked bar chart"
   ]
  },
  {
   "cell_type": "code",
   "execution_count": 18,
   "metadata": {},
   "outputs": [],
   "source": [
    "INE_data_clean.columns = ['Date','Total_population','Foreign_population','Percent_foreign_population',\n",
    "                          'Total_population YoY(N)','Total_population YoY(%)','Foreign population YoY(N)',\n",
    "                          'Foreign population YoY(%)']"
   ]
  },
  {
   "cell_type": "markdown",
   "metadata": {},
   "source": [
    "Subset columns from initially imported Excel file"
   ]
  },
  {
   "cell_type": "code",
   "execution_count": 19,
   "metadata": {},
   "outputs": [],
   "source": [
    "INE_total_foreign_population = INE_data_clean[['Date','Total_population','Foreign_population']]"
   ]
  },
  {
   "cell_type": "code",
   "execution_count": 20,
   "metadata": {},
   "outputs": [
    {
     "data": {
      "text/html": [
       "<div>\n",
       "<style scoped>\n",
       "    .dataframe tbody tr th:only-of-type {\n",
       "        vertical-align: middle;\n",
       "    }\n",
       "\n",
       "    .dataframe tbody tr th {\n",
       "        vertical-align: top;\n",
       "    }\n",
       "\n",
       "    .dataframe thead th {\n",
       "        text-align: right;\n",
       "    }\n",
       "</style>\n",
       "<table border=\"1\" class=\"dataframe\">\n",
       "  <thead>\n",
       "    <tr style=\"text-align: right;\">\n",
       "      <th></th>\n",
       "      <th>Date</th>\n",
       "      <th>Total_population</th>\n",
       "      <th>Foreign_population</th>\n",
       "    </tr>\n",
       "  </thead>\n",
       "  <tbody>\n",
       "    <tr>\n",
       "      <th>0</th>\n",
       "      <td>1 de enero de 2025</td>\n",
       "      <td>49077984</td>\n",
       "      <td>6852348.0</td>\n",
       "    </tr>\n",
       "    <tr>\n",
       "      <th>1</th>\n",
       "      <td>1 de enero de 2024</td>\n",
       "      <td>48619695</td>\n",
       "      <td>6502282.0</td>\n",
       "    </tr>\n",
       "    <tr>\n",
       "      <th>2</th>\n",
       "      <td>1 de enero de 2023</td>\n",
       "      <td>48085361</td>\n",
       "      <td>6089620.0</td>\n",
       "    </tr>\n",
       "    <tr>\n",
       "      <th>3</th>\n",
       "      <td>1 de enero de 2022</td>\n",
       "      <td>47486727</td>\n",
       "      <td>5509046.0</td>\n",
       "    </tr>\n",
       "    <tr>\n",
       "      <th>4</th>\n",
       "      <td>1 de enero de 2021</td>\n",
       "      <td>47400798</td>\n",
       "      <td>5402702.0</td>\n",
       "    </tr>\n",
       "  </tbody>\n",
       "</table>\n",
       "</div>"
      ],
      "text/plain": [
       "                 Date Total_population  Foreign_population\n",
       "0  1 de enero de 2025         49077984           6852348.0\n",
       "1  1 de enero de 2024         48619695           6502282.0\n",
       "2  1 de enero de 2023         48085361           6089620.0\n",
       "3  1 de enero de 2022         47486727           5509046.0\n",
       "4  1 de enero de 2021         47400798           5402702.0"
      ]
     },
     "execution_count": 20,
     "metadata": {},
     "output_type": "execute_result"
    }
   ],
   "source": [
    "INE_total_foreign_population.head()"
   ]
  },
  {
   "cell_type": "markdown",
   "metadata": {},
   "source": [
    "## 5. Create new calculated fields"
   ]
  },
  {
   "cell_type": "markdown",
   "metadata": {},
   "source": [
    "From previously subsetted dataframe, we will recreate original calculations "
   ]
  },
  {
   "cell_type": "markdown",
   "metadata": {},
   "source": [
    "### 5.1 New column for Year variable "
   ]
  },
  {
   "cell_type": "markdown",
   "metadata": {},
   "source": [
    "We ned to extract year from Date fariable in INE_total_foreign_population dataframe. We use str.strip() function applied on \"Date\" column to create new **Year** variable."
   ]
  },
  {
   "cell_type": "code",
   "execution_count": 21,
   "metadata": {},
   "outputs": [
    {
     "name": "stderr",
     "output_type": "stream",
     "text": [
      "C:\\Users\\pituf\\AppData\\Local\\Temp\\ipykernel_20164\\2507062884.py:1: SettingWithCopyWarning: \n",
      "A value is trying to be set on a copy of a slice from a DataFrame.\n",
      "Try using .loc[row_indexer,col_indexer] = value instead\n",
      "\n",
      "See the caveats in the documentation: https://pandas.pydata.org/pandas-docs/stable/user_guide/indexing.html#returning-a-view-versus-a-copy\n",
      "  INE_total_foreign_population['Year'] = INE_total_foreign_population['Date'].str.strip().str[13:]\n"
     ]
    },
    {
     "data": {
      "text/html": [
       "<div>\n",
       "<style scoped>\n",
       "    .dataframe tbody tr th:only-of-type {\n",
       "        vertical-align: middle;\n",
       "    }\n",
       "\n",
       "    .dataframe tbody tr th {\n",
       "        vertical-align: top;\n",
       "    }\n",
       "\n",
       "    .dataframe thead th {\n",
       "        text-align: right;\n",
       "    }\n",
       "</style>\n",
       "<table border=\"1\" class=\"dataframe\">\n",
       "  <thead>\n",
       "    <tr style=\"text-align: right;\">\n",
       "      <th></th>\n",
       "      <th>Date</th>\n",
       "      <th>Total_population</th>\n",
       "      <th>Foreign_population</th>\n",
       "      <th>Year</th>\n",
       "    </tr>\n",
       "  </thead>\n",
       "  <tbody>\n",
       "    <tr>\n",
       "      <th>0</th>\n",
       "      <td>1 de enero de 2025</td>\n",
       "      <td>49077984</td>\n",
       "      <td>6852348.0</td>\n",
       "      <td>2025</td>\n",
       "    </tr>\n",
       "    <tr>\n",
       "      <th>1</th>\n",
       "      <td>1 de enero de 2024</td>\n",
       "      <td>48619695</td>\n",
       "      <td>6502282.0</td>\n",
       "      <td>2024</td>\n",
       "    </tr>\n",
       "    <tr>\n",
       "      <th>2</th>\n",
       "      <td>1 de enero de 2023</td>\n",
       "      <td>48085361</td>\n",
       "      <td>6089620.0</td>\n",
       "      <td>2023</td>\n",
       "    </tr>\n",
       "    <tr>\n",
       "      <th>3</th>\n",
       "      <td>1 de enero de 2022</td>\n",
       "      <td>47486727</td>\n",
       "      <td>5509046.0</td>\n",
       "      <td>2022</td>\n",
       "    </tr>\n",
       "    <tr>\n",
       "      <th>4</th>\n",
       "      <td>1 de enero de 2021</td>\n",
       "      <td>47400798</td>\n",
       "      <td>5402702.0</td>\n",
       "      <td>2021</td>\n",
       "    </tr>\n",
       "    <tr>\n",
       "      <th>5</th>\n",
       "      <td>1 de enero de 2020</td>\n",
       "      <td>47318050</td>\n",
       "      <td>5241278.0</td>\n",
       "      <td>2020</td>\n",
       "    </tr>\n",
       "    <tr>\n",
       "      <th>6</th>\n",
       "      <td>1 de enero de 2019</td>\n",
       "      <td>46918951</td>\n",
       "      <td>4850762.0</td>\n",
       "      <td>2019</td>\n",
       "    </tr>\n",
       "    <tr>\n",
       "      <th>7</th>\n",
       "      <td>1 de enero de 2018</td>\n",
       "      <td>46645070</td>\n",
       "      <td>4577322.0</td>\n",
       "      <td>2018</td>\n",
       "    </tr>\n",
       "    <tr>\n",
       "      <th>8</th>\n",
       "      <td>1 de enero de 2017</td>\n",
       "      <td>46497393</td>\n",
       "      <td>4417653.0</td>\n",
       "      <td>2017</td>\n",
       "    </tr>\n",
       "    <tr>\n",
       "      <th>9</th>\n",
       "      <td>1 de enero de 2016</td>\n",
       "      <td>46418884</td>\n",
       "      <td>4419334.0</td>\n",
       "      <td>2016</td>\n",
       "    </tr>\n",
       "    <tr>\n",
       "      <th>10</th>\n",
       "      <td>1 de enero de 2015</td>\n",
       "      <td>46425722</td>\n",
       "      <td>4453985.0</td>\n",
       "      <td>2015</td>\n",
       "    </tr>\n",
       "    <tr>\n",
       "      <th>11</th>\n",
       "      <td>1 de enero de 2014</td>\n",
       "      <td>46495744</td>\n",
       "      <td>4676352.0</td>\n",
       "      <td>2014</td>\n",
       "    </tr>\n",
       "    <tr>\n",
       "      <th>12</th>\n",
       "      <td>1 de enero de 2013</td>\n",
       "      <td>46712650</td>\n",
       "      <td>5064584.0</td>\n",
       "      <td>2013</td>\n",
       "    </tr>\n",
       "    <tr>\n",
       "      <th>13</th>\n",
       "      <td>1 de enero de 2012</td>\n",
       "      <td>46818216</td>\n",
       "      <td>5236030.0</td>\n",
       "      <td>2012</td>\n",
       "    </tr>\n",
       "    <tr>\n",
       "      <th>14</th>\n",
       "      <td>1 de enero de 2011</td>\n",
       "      <td>46667175</td>\n",
       "      <td>5312440.0</td>\n",
       "      <td>2011</td>\n",
       "    </tr>\n",
       "    <tr>\n",
       "      <th>15</th>\n",
       "      <td>1 de enero de 2010</td>\n",
       "      <td>46486621</td>\n",
       "      <td>5402579.0</td>\n",
       "      <td>2010</td>\n",
       "    </tr>\n",
       "    <tr>\n",
       "      <th>16</th>\n",
       "      <td>1 de enero de 2009</td>\n",
       "      <td>46239271</td>\n",
       "      <td>5386659.0</td>\n",
       "      <td>2009</td>\n",
       "    </tr>\n",
       "    <tr>\n",
       "      <th>17</th>\n",
       "      <td>1 de enero de 2008</td>\n",
       "      <td>45668938</td>\n",
       "      <td>5086295.0</td>\n",
       "      <td>2008</td>\n",
       "    </tr>\n",
       "    <tr>\n",
       "      <th>18</th>\n",
       "      <td>1 de enero de 2007</td>\n",
       "      <td>44784659</td>\n",
       "      <td>4449434.0</td>\n",
       "      <td>2007</td>\n",
       "    </tr>\n",
       "    <tr>\n",
       "      <th>19</th>\n",
       "      <td>1 de enero de 2006</td>\n",
       "      <td>44009969</td>\n",
       "      <td>3930916.0</td>\n",
       "      <td>2006</td>\n",
       "    </tr>\n",
       "  </tbody>\n",
       "</table>\n",
       "</div>"
      ],
      "text/plain": [
       "                  Date Total_population  Foreign_population   Year\n",
       "0   1 de enero de 2025         49077984           6852348.0   2025\n",
       "1   1 de enero de 2024         48619695           6502282.0   2024\n",
       "2   1 de enero de 2023         48085361           6089620.0   2023\n",
       "3   1 de enero de 2022         47486727           5509046.0   2022\n",
       "4   1 de enero de 2021         47400798           5402702.0   2021\n",
       "5   1 de enero de 2020         47318050           5241278.0   2020\n",
       "6   1 de enero de 2019         46918951           4850762.0   2019\n",
       "7   1 de enero de 2018         46645070           4577322.0   2018\n",
       "8   1 de enero de 2017         46497393           4417653.0   2017\n",
       "9   1 de enero de 2016         46418884           4419334.0   2016\n",
       "10  1 de enero de 2015         46425722           4453985.0   2015\n",
       "11  1 de enero de 2014         46495744           4676352.0   2014\n",
       "12  1 de enero de 2013         46712650           5064584.0   2013\n",
       "13  1 de enero de 2012         46818216           5236030.0   2012\n",
       "14  1 de enero de 2011         46667175           5312440.0   2011\n",
       "15  1 de enero de 2010         46486621           5402579.0   2010\n",
       "16  1 de enero de 2009         46239271           5386659.0   2009\n",
       "17  1 de enero de 2008         45668938           5086295.0   2008\n",
       "18  1 de enero de 2007         44784659           4449434.0   2007\n",
       "19  1 de enero de 2006         44009969           3930916.0   2006"
      ]
     },
     "execution_count": 21,
     "metadata": {},
     "output_type": "execute_result"
    }
   ],
   "source": [
    "INE_total_foreign_population['Year'] = INE_total_foreign_population['Date'].str.strip().str[13:]\n",
    "INE_total_foreign_population"
   ]
  },
  {
   "cell_type": "markdown",
   "metadata": {},
   "source": [
    "### 5.1 New column for Spanish nationals from total population figures"
   ]
  },
  {
   "cell_type": "markdown",
   "metadata": {},
   "source": [
    "We substract Foreign from Total population figures to obtain Spanish natianals population "
   ]
  },
  {
   "cell_type": "code",
   "execution_count": 22,
   "metadata": {},
   "outputs": [
    {
     "data": {
      "text/html": [
       "<div>\n",
       "<style scoped>\n",
       "    .dataframe tbody tr th:only-of-type {\n",
       "        vertical-align: middle;\n",
       "    }\n",
       "\n",
       "    .dataframe tbody tr th {\n",
       "        vertical-align: top;\n",
       "    }\n",
       "\n",
       "    .dataframe thead th {\n",
       "        text-align: right;\n",
       "    }\n",
       "</style>\n",
       "<table border=\"1\" class=\"dataframe\">\n",
       "  <thead>\n",
       "    <tr style=\"text-align: right;\">\n",
       "      <th></th>\n",
       "      <th>Date</th>\n",
       "      <th>Total_population</th>\n",
       "      <th>Foreign_population</th>\n",
       "      <th>Year</th>\n",
       "    </tr>\n",
       "  </thead>\n",
       "  <tbody>\n",
       "    <tr>\n",
       "      <th>0</th>\n",
       "      <td>1 de enero de 2025</td>\n",
       "      <td>49077984</td>\n",
       "      <td>6852348.0</td>\n",
       "      <td>2025</td>\n",
       "    </tr>\n",
       "    <tr>\n",
       "      <th>1</th>\n",
       "      <td>1 de enero de 2024</td>\n",
       "      <td>48619695</td>\n",
       "      <td>6502282.0</td>\n",
       "      <td>2024</td>\n",
       "    </tr>\n",
       "    <tr>\n",
       "      <th>2</th>\n",
       "      <td>1 de enero de 2023</td>\n",
       "      <td>48085361</td>\n",
       "      <td>6089620.0</td>\n",
       "      <td>2023</td>\n",
       "    </tr>\n",
       "    <tr>\n",
       "      <th>3</th>\n",
       "      <td>1 de enero de 2022</td>\n",
       "      <td>47486727</td>\n",
       "      <td>5509046.0</td>\n",
       "      <td>2022</td>\n",
       "    </tr>\n",
       "    <tr>\n",
       "      <th>4</th>\n",
       "      <td>1 de enero de 2021</td>\n",
       "      <td>47400798</td>\n",
       "      <td>5402702.0</td>\n",
       "      <td>2021</td>\n",
       "    </tr>\n",
       "  </tbody>\n",
       "</table>\n",
       "</div>"
      ],
      "text/plain": [
       "                 Date Total_population  Foreign_population   Year\n",
       "0  1 de enero de 2025         49077984           6852348.0   2025\n",
       "1  1 de enero de 2024         48619695           6502282.0   2024\n",
       "2  1 de enero de 2023         48085361           6089620.0   2023\n",
       "3  1 de enero de 2022         47486727           5509046.0   2022\n",
       "4  1 de enero de 2021         47400798           5402702.0   2021"
      ]
     },
     "execution_count": 22,
     "metadata": {},
     "output_type": "execute_result"
    }
   ],
   "source": [
    "INE_population_nationality = INE_total_foreign_population.copy()\n",
    "INE_population_nationality.head()"
   ]
  },
  {
   "cell_type": "code",
   "execution_count": 23,
   "metadata": {},
   "outputs": [
    {
     "data": {
      "text/html": [
       "<div>\n",
       "<style scoped>\n",
       "    .dataframe tbody tr th:only-of-type {\n",
       "        vertical-align: middle;\n",
       "    }\n",
       "\n",
       "    .dataframe tbody tr th {\n",
       "        vertical-align: top;\n",
       "    }\n",
       "\n",
       "    .dataframe thead th {\n",
       "        text-align: right;\n",
       "    }\n",
       "</style>\n",
       "<table border=\"1\" class=\"dataframe\">\n",
       "  <thead>\n",
       "    <tr style=\"text-align: right;\">\n",
       "      <th></th>\n",
       "      <th>Date</th>\n",
       "      <th>Total_population</th>\n",
       "      <th>Foreign_population</th>\n",
       "      <th>Year</th>\n",
       "      <th>Spanish_nationals</th>\n",
       "    </tr>\n",
       "  </thead>\n",
       "  <tbody>\n",
       "    <tr>\n",
       "      <th>0</th>\n",
       "      <td>1 de enero de 2025</td>\n",
       "      <td>49077984</td>\n",
       "      <td>6852348.0</td>\n",
       "      <td>2025</td>\n",
       "      <td>42225636.0</td>\n",
       "    </tr>\n",
       "    <tr>\n",
       "      <th>1</th>\n",
       "      <td>1 de enero de 2024</td>\n",
       "      <td>48619695</td>\n",
       "      <td>6502282.0</td>\n",
       "      <td>2024</td>\n",
       "      <td>42117413.0</td>\n",
       "    </tr>\n",
       "    <tr>\n",
       "      <th>2</th>\n",
       "      <td>1 de enero de 2023</td>\n",
       "      <td>48085361</td>\n",
       "      <td>6089620.0</td>\n",
       "      <td>2023</td>\n",
       "      <td>41995741.0</td>\n",
       "    </tr>\n",
       "    <tr>\n",
       "      <th>3</th>\n",
       "      <td>1 de enero de 2022</td>\n",
       "      <td>47486727</td>\n",
       "      <td>5509046.0</td>\n",
       "      <td>2022</td>\n",
       "      <td>41977681.0</td>\n",
       "    </tr>\n",
       "    <tr>\n",
       "      <th>4</th>\n",
       "      <td>1 de enero de 2021</td>\n",
       "      <td>47400798</td>\n",
       "      <td>5402702.0</td>\n",
       "      <td>2021</td>\n",
       "      <td>41998096.0</td>\n",
       "    </tr>\n",
       "  </tbody>\n",
       "</table>\n",
       "</div>"
      ],
      "text/plain": [
       "                 Date Total_population  Foreign_population   Year  \\\n",
       "0  1 de enero de 2025         49077984           6852348.0   2025   \n",
       "1  1 de enero de 2024         48619695           6502282.0   2024   \n",
       "2  1 de enero de 2023         48085361           6089620.0   2023   \n",
       "3  1 de enero de 2022         47486727           5509046.0   2022   \n",
       "4  1 de enero de 2021         47400798           5402702.0   2021   \n",
       "\n",
       "  Spanish_nationals  \n",
       "0        42225636.0  \n",
       "1        42117413.0  \n",
       "2        41995741.0  \n",
       "3        41977681.0  \n",
       "4        41998096.0  "
      ]
     },
     "execution_count": 23,
     "metadata": {},
     "output_type": "execute_result"
    }
   ],
   "source": [
    "INE_population_nationality['Spanish_nationals'] = INE_population_nationality['Total_population']- INE_population_nationality['Foreign_population']\n",
    "INE_population_nationality.head()\n"
   ]
  },
  {
   "cell_type": "code",
   "execution_count": 24,
   "metadata": {},
   "outputs": [
    {
     "data": {
      "text/html": [
       "<div>\n",
       "<style scoped>\n",
       "    .dataframe tbody tr th:only-of-type {\n",
       "        vertical-align: middle;\n",
       "    }\n",
       "\n",
       "    .dataframe tbody tr th {\n",
       "        vertical-align: top;\n",
       "    }\n",
       "\n",
       "    .dataframe thead th {\n",
       "        text-align: right;\n",
       "    }\n",
       "</style>\n",
       "<table border=\"1\" class=\"dataframe\">\n",
       "  <thead>\n",
       "    <tr style=\"text-align: right;\">\n",
       "      <th></th>\n",
       "      <th>Date</th>\n",
       "      <th>Total_population</th>\n",
       "      <th>Foreign_population</th>\n",
       "      <th>Year</th>\n",
       "      <th>Spanish_nationals</th>\n",
       "    </tr>\n",
       "  </thead>\n",
       "  <tbody>\n",
       "    <tr>\n",
       "      <th>0</th>\n",
       "      <td>1 de enero de 2025</td>\n",
       "      <td>49077984</td>\n",
       "      <td>6852348.0</td>\n",
       "      <td>2025</td>\n",
       "      <td>42225636.0</td>\n",
       "    </tr>\n",
       "    <tr>\n",
       "      <th>1</th>\n",
       "      <td>1 de enero de 2024</td>\n",
       "      <td>48619695</td>\n",
       "      <td>6502282.0</td>\n",
       "      <td>2024</td>\n",
       "      <td>42117413.0</td>\n",
       "    </tr>\n",
       "    <tr>\n",
       "      <th>2</th>\n",
       "      <td>1 de enero de 2023</td>\n",
       "      <td>48085361</td>\n",
       "      <td>6089620.0</td>\n",
       "      <td>2023</td>\n",
       "      <td>41995741.0</td>\n",
       "    </tr>\n",
       "    <tr>\n",
       "      <th>3</th>\n",
       "      <td>1 de enero de 2022</td>\n",
       "      <td>47486727</td>\n",
       "      <td>5509046.0</td>\n",
       "      <td>2022</td>\n",
       "      <td>41977681.0</td>\n",
       "    </tr>\n",
       "    <tr>\n",
       "      <th>4</th>\n",
       "      <td>1 de enero de 2021</td>\n",
       "      <td>47400798</td>\n",
       "      <td>5402702.0</td>\n",
       "      <td>2021</td>\n",
       "      <td>41998096.0</td>\n",
       "    </tr>\n",
       "  </tbody>\n",
       "</table>\n",
       "</div>"
      ],
      "text/plain": [
       "                 Date Total_population  Foreign_population   Year  \\\n",
       "0  1 de enero de 2025         49077984           6852348.0   2025   \n",
       "1  1 de enero de 2024         48619695           6502282.0   2024   \n",
       "2  1 de enero de 2023         48085361           6089620.0   2023   \n",
       "3  1 de enero de 2022         47486727           5509046.0   2022   \n",
       "4  1 de enero de 2021         47400798           5402702.0   2021   \n",
       "\n",
       "  Spanish_nationals  \n",
       "0        42225636.0  \n",
       "1        42117413.0  \n",
       "2        41995741.0  \n",
       "3        41977681.0  \n",
       "4        41998096.0  "
      ]
     },
     "execution_count": 24,
     "metadata": {},
     "output_type": "execute_result"
    }
   ],
   "source": [
    "INE_spain_population = INE_population_nationality.copy()\n",
    "INE_spain_population.head()"
   ]
  },
  {
   "cell_type": "code",
   "execution_count": 25,
   "metadata": {},
   "outputs": [
    {
     "data": {
      "text/html": [
       "<div>\n",
       "<style scoped>\n",
       "    .dataframe tbody tr th:only-of-type {\n",
       "        vertical-align: middle;\n",
       "    }\n",
       "\n",
       "    .dataframe tbody tr th {\n",
       "        vertical-align: top;\n",
       "    }\n",
       "\n",
       "    .dataframe thead th {\n",
       "        text-align: right;\n",
       "    }\n",
       "</style>\n",
       "<table border=\"1\" class=\"dataframe\">\n",
       "  <thead>\n",
       "    <tr style=\"text-align: right;\">\n",
       "      <th></th>\n",
       "      <th>Year</th>\n",
       "      <th>Total_population</th>\n",
       "      <th>Spanish_nationals</th>\n",
       "      <th>Foreign_population</th>\n",
       "    </tr>\n",
       "  </thead>\n",
       "  <tbody>\n",
       "    <tr>\n",
       "      <th>0</th>\n",
       "      <td>2025</td>\n",
       "      <td>49077984</td>\n",
       "      <td>42225636.0</td>\n",
       "      <td>6852348.0</td>\n",
       "    </tr>\n",
       "    <tr>\n",
       "      <th>1</th>\n",
       "      <td>2024</td>\n",
       "      <td>48619695</td>\n",
       "      <td>42117413.0</td>\n",
       "      <td>6502282.0</td>\n",
       "    </tr>\n",
       "    <tr>\n",
       "      <th>2</th>\n",
       "      <td>2023</td>\n",
       "      <td>48085361</td>\n",
       "      <td>41995741.0</td>\n",
       "      <td>6089620.0</td>\n",
       "    </tr>\n",
       "    <tr>\n",
       "      <th>3</th>\n",
       "      <td>2022</td>\n",
       "      <td>47486727</td>\n",
       "      <td>41977681.0</td>\n",
       "      <td>5509046.0</td>\n",
       "    </tr>\n",
       "    <tr>\n",
       "      <th>4</th>\n",
       "      <td>2021</td>\n",
       "      <td>47400798</td>\n",
       "      <td>41998096.0</td>\n",
       "      <td>5402702.0</td>\n",
       "    </tr>\n",
       "    <tr>\n",
       "      <th>5</th>\n",
       "      <td>2020</td>\n",
       "      <td>47318050</td>\n",
       "      <td>42076772.0</td>\n",
       "      <td>5241278.0</td>\n",
       "    </tr>\n",
       "    <tr>\n",
       "      <th>6</th>\n",
       "      <td>2019</td>\n",
       "      <td>46918951</td>\n",
       "      <td>42068189.0</td>\n",
       "      <td>4850762.0</td>\n",
       "    </tr>\n",
       "    <tr>\n",
       "      <th>7</th>\n",
       "      <td>2018</td>\n",
       "      <td>46645070</td>\n",
       "      <td>42067748.0</td>\n",
       "      <td>4577322.0</td>\n",
       "    </tr>\n",
       "    <tr>\n",
       "      <th>8</th>\n",
       "      <td>2017</td>\n",
       "      <td>46497393</td>\n",
       "      <td>42079740.0</td>\n",
       "      <td>4417653.0</td>\n",
       "    </tr>\n",
       "    <tr>\n",
       "      <th>9</th>\n",
       "      <td>2016</td>\n",
       "      <td>46418884</td>\n",
       "      <td>41999550.0</td>\n",
       "      <td>4419334.0</td>\n",
       "    </tr>\n",
       "  </tbody>\n",
       "</table>\n",
       "</div>"
      ],
      "text/plain": [
       "    Year Total_population Spanish_nationals  Foreign_population\n",
       "0   2025         49077984        42225636.0           6852348.0\n",
       "1   2024         48619695        42117413.0           6502282.0\n",
       "2   2023         48085361        41995741.0           6089620.0\n",
       "3   2022         47486727        41977681.0           5509046.0\n",
       "4   2021         47400798        41998096.0           5402702.0\n",
       "5   2020         47318050        42076772.0           5241278.0\n",
       "6   2019         46918951        42068189.0           4850762.0\n",
       "7   2018         46645070        42067748.0           4577322.0\n",
       "8   2017         46497393        42079740.0           4417653.0\n",
       "9   2016         46418884        41999550.0           4419334.0"
      ]
     },
     "execution_count": 25,
     "metadata": {},
     "output_type": "execute_result"
    }
   ],
   "source": [
    "# Now we only have to re-order newly created columns\n",
    "INE_spain_population = INE_spain_population[['Year','Total_population','Spanish_nationals','Foreign_population']]\n",
    "INE_spain_population.head(10)"
   ]
  },
  {
   "cell_type": "markdown",
   "metadata": {},
   "source": [
    "## 6. Reshape data for stacked percent barplot from wide to long"
   ]
  },
  {
   "cell_type": "markdown",
   "metadata": {},
   "source": [
    "Now that we have re-created both Year and Spanish nationals calculation and also we have Foreign_population column to compute perecnt barplot by nationality by year, we reshape our dataframe in preparation for bar plot."
   ]
  },
  {
   "cell_type": "code",
   "execution_count": 26,
   "metadata": {},
   "outputs": [
    {
     "data": {
      "text/html": [
       "<div>\n",
       "<style scoped>\n",
       "    .dataframe tbody tr th:only-of-type {\n",
       "        vertical-align: middle;\n",
       "    }\n",
       "\n",
       "    .dataframe tbody tr th {\n",
       "        vertical-align: top;\n",
       "    }\n",
       "\n",
       "    .dataframe thead th {\n",
       "        text-align: right;\n",
       "    }\n",
       "</style>\n",
       "<table border=\"1\" class=\"dataframe\">\n",
       "  <thead>\n",
       "    <tr style=\"text-align: right;\">\n",
       "      <th></th>\n",
       "      <th>Year</th>\n",
       "      <th>Total_population</th>\n",
       "      <th>Spanish_nationals</th>\n",
       "      <th>Foreign_population</th>\n",
       "    </tr>\n",
       "  </thead>\n",
       "  <tbody>\n",
       "    <tr>\n",
       "      <th>0</th>\n",
       "      <td>2025</td>\n",
       "      <td>49077984</td>\n",
       "      <td>42225636.0</td>\n",
       "      <td>6852348.0</td>\n",
       "    </tr>\n",
       "    <tr>\n",
       "      <th>1</th>\n",
       "      <td>2024</td>\n",
       "      <td>48619695</td>\n",
       "      <td>42117413.0</td>\n",
       "      <td>6502282.0</td>\n",
       "    </tr>\n",
       "    <tr>\n",
       "      <th>2</th>\n",
       "      <td>2023</td>\n",
       "      <td>48085361</td>\n",
       "      <td>41995741.0</td>\n",
       "      <td>6089620.0</td>\n",
       "    </tr>\n",
       "    <tr>\n",
       "      <th>3</th>\n",
       "      <td>2022</td>\n",
       "      <td>47486727</td>\n",
       "      <td>41977681.0</td>\n",
       "      <td>5509046.0</td>\n",
       "    </tr>\n",
       "    <tr>\n",
       "      <th>4</th>\n",
       "      <td>2021</td>\n",
       "      <td>47400798</td>\n",
       "      <td>41998096.0</td>\n",
       "      <td>5402702.0</td>\n",
       "    </tr>\n",
       "  </tbody>\n",
       "</table>\n",
       "</div>"
      ],
      "text/plain": [
       "    Year Total_population Spanish_nationals  Foreign_population\n",
       "0   2025         49077984        42225636.0           6852348.0\n",
       "1   2024         48619695        42117413.0           6502282.0\n",
       "2   2023         48085361        41995741.0           6089620.0\n",
       "3   2022         47486727        41977681.0           5509046.0\n",
       "4   2021         47400798        41998096.0           5402702.0"
      ]
     },
     "execution_count": 26,
     "metadata": {},
     "output_type": "execute_result"
    }
   ],
   "source": [
    "Population_reshape = INE_spain_population.copy()\n",
    "Population_reshape.head()"
   ]
  },
  {
   "cell_type": "code",
   "execution_count": 27,
   "metadata": {},
   "outputs": [
    {
     "data": {
      "text/html": [
       "<div>\n",
       "<style scoped>\n",
       "    .dataframe tbody tr th:only-of-type {\n",
       "        vertical-align: middle;\n",
       "    }\n",
       "\n",
       "    .dataframe tbody tr th {\n",
       "        vertical-align: top;\n",
       "    }\n",
       "\n",
       "    .dataframe thead th {\n",
       "        text-align: right;\n",
       "    }\n",
       "</style>\n",
       "<table border=\"1\" class=\"dataframe\">\n",
       "  <thead>\n",
       "    <tr style=\"text-align: right;\">\n",
       "      <th></th>\n",
       "      <th>Year</th>\n",
       "      <th>Total_population</th>\n",
       "      <th>Spanish_nationals</th>\n",
       "      <th>Foreign_population</th>\n",
       "    </tr>\n",
       "  </thead>\n",
       "  <tbody>\n",
       "    <tr>\n",
       "      <th>19</th>\n",
       "      <td>2006</td>\n",
       "      <td>44009969</td>\n",
       "      <td>40079053.0</td>\n",
       "      <td>3930916.0</td>\n",
       "    </tr>\n",
       "    <tr>\n",
       "      <th>18</th>\n",
       "      <td>2007</td>\n",
       "      <td>44784659</td>\n",
       "      <td>40335225.0</td>\n",
       "      <td>4449434.0</td>\n",
       "    </tr>\n",
       "    <tr>\n",
       "      <th>17</th>\n",
       "      <td>2008</td>\n",
       "      <td>45668938</td>\n",
       "      <td>40582643.0</td>\n",
       "      <td>5086295.0</td>\n",
       "    </tr>\n",
       "    <tr>\n",
       "      <th>16</th>\n",
       "      <td>2009</td>\n",
       "      <td>46239271</td>\n",
       "      <td>40852612.0</td>\n",
       "      <td>5386659.0</td>\n",
       "    </tr>\n",
       "    <tr>\n",
       "      <th>15</th>\n",
       "      <td>2010</td>\n",
       "      <td>46486621</td>\n",
       "      <td>41084042.0</td>\n",
       "      <td>5402579.0</td>\n",
       "    </tr>\n",
       "  </tbody>\n",
       "</table>\n",
       "</div>"
      ],
      "text/plain": [
       "     Year Total_population Spanish_nationals  Foreign_population\n",
       "19   2006         44009969        40079053.0           3930916.0\n",
       "18   2007         44784659        40335225.0           4449434.0\n",
       "17   2008         45668938        40582643.0           5086295.0\n",
       "16   2009         46239271        40852612.0           5386659.0\n",
       "15   2010         46486621        41084042.0           5402579.0"
      ]
     },
     "execution_count": 27,
     "metadata": {},
     "output_type": "execute_result"
    }
   ],
   "source": [
    "Population_reshape_sorted = Population_reshape.sort_values(by = 'Year', ascending = True)\n",
    "Population_reshape_sorted.head()"
   ]
  },
  {
   "cell_type": "code",
   "execution_count": 28,
   "metadata": {},
   "outputs": [
    {
     "data": {
      "text/html": [
       "<div>\n",
       "<style scoped>\n",
       "    .dataframe tbody tr th:only-of-type {\n",
       "        vertical-align: middle;\n",
       "    }\n",
       "\n",
       "    .dataframe tbody tr th {\n",
       "        vertical-align: top;\n",
       "    }\n",
       "\n",
       "    .dataframe thead th {\n",
       "        text-align: right;\n",
       "    }\n",
       "</style>\n",
       "<table border=\"1\" class=\"dataframe\">\n",
       "  <thead>\n",
       "    <tr style=\"text-align: right;\">\n",
       "      <th></th>\n",
       "      <th>index</th>\n",
       "      <th>Year</th>\n",
       "      <th>Total_population</th>\n",
       "      <th>Spanish_nationals</th>\n",
       "      <th>Foreign_population</th>\n",
       "    </tr>\n",
       "  </thead>\n",
       "  <tbody>\n",
       "    <tr>\n",
       "      <th>0</th>\n",
       "      <td>19</td>\n",
       "      <td>2006</td>\n",
       "      <td>44009969</td>\n",
       "      <td>40079053.0</td>\n",
       "      <td>3930916.0</td>\n",
       "    </tr>\n",
       "    <tr>\n",
       "      <th>1</th>\n",
       "      <td>18</td>\n",
       "      <td>2007</td>\n",
       "      <td>44784659</td>\n",
       "      <td>40335225.0</td>\n",
       "      <td>4449434.0</td>\n",
       "    </tr>\n",
       "    <tr>\n",
       "      <th>2</th>\n",
       "      <td>17</td>\n",
       "      <td>2008</td>\n",
       "      <td>45668938</td>\n",
       "      <td>40582643.0</td>\n",
       "      <td>5086295.0</td>\n",
       "    </tr>\n",
       "    <tr>\n",
       "      <th>3</th>\n",
       "      <td>16</td>\n",
       "      <td>2009</td>\n",
       "      <td>46239271</td>\n",
       "      <td>40852612.0</td>\n",
       "      <td>5386659.0</td>\n",
       "    </tr>\n",
       "    <tr>\n",
       "      <th>4</th>\n",
       "      <td>15</td>\n",
       "      <td>2010</td>\n",
       "      <td>46486621</td>\n",
       "      <td>41084042.0</td>\n",
       "      <td>5402579.0</td>\n",
       "    </tr>\n",
       "    <tr>\n",
       "      <th>5</th>\n",
       "      <td>14</td>\n",
       "      <td>2011</td>\n",
       "      <td>46667175</td>\n",
       "      <td>41354735.0</td>\n",
       "      <td>5312440.0</td>\n",
       "    </tr>\n",
       "    <tr>\n",
       "      <th>6</th>\n",
       "      <td>13</td>\n",
       "      <td>2012</td>\n",
       "      <td>46818216</td>\n",
       "      <td>41582186.0</td>\n",
       "      <td>5236030.0</td>\n",
       "    </tr>\n",
       "    <tr>\n",
       "      <th>7</th>\n",
       "      <td>12</td>\n",
       "      <td>2013</td>\n",
       "      <td>46712650</td>\n",
       "      <td>41648066.0</td>\n",
       "      <td>5064584.0</td>\n",
       "    </tr>\n",
       "    <tr>\n",
       "      <th>8</th>\n",
       "      <td>11</td>\n",
       "      <td>2014</td>\n",
       "      <td>46495744</td>\n",
       "      <td>41819392.0</td>\n",
       "      <td>4676352.0</td>\n",
       "    </tr>\n",
       "    <tr>\n",
       "      <th>9</th>\n",
       "      <td>10</td>\n",
       "      <td>2015</td>\n",
       "      <td>46425722</td>\n",
       "      <td>41971737.0</td>\n",
       "      <td>4453985.0</td>\n",
       "    </tr>\n",
       "    <tr>\n",
       "      <th>10</th>\n",
       "      <td>9</td>\n",
       "      <td>2016</td>\n",
       "      <td>46418884</td>\n",
       "      <td>41999550.0</td>\n",
       "      <td>4419334.0</td>\n",
       "    </tr>\n",
       "    <tr>\n",
       "      <th>11</th>\n",
       "      <td>8</td>\n",
       "      <td>2017</td>\n",
       "      <td>46497393</td>\n",
       "      <td>42079740.0</td>\n",
       "      <td>4417653.0</td>\n",
       "    </tr>\n",
       "    <tr>\n",
       "      <th>12</th>\n",
       "      <td>7</td>\n",
       "      <td>2018</td>\n",
       "      <td>46645070</td>\n",
       "      <td>42067748.0</td>\n",
       "      <td>4577322.0</td>\n",
       "    </tr>\n",
       "    <tr>\n",
       "      <th>13</th>\n",
       "      <td>6</td>\n",
       "      <td>2019</td>\n",
       "      <td>46918951</td>\n",
       "      <td>42068189.0</td>\n",
       "      <td>4850762.0</td>\n",
       "    </tr>\n",
       "    <tr>\n",
       "      <th>14</th>\n",
       "      <td>5</td>\n",
       "      <td>2020</td>\n",
       "      <td>47318050</td>\n",
       "      <td>42076772.0</td>\n",
       "      <td>5241278.0</td>\n",
       "    </tr>\n",
       "    <tr>\n",
       "      <th>15</th>\n",
       "      <td>4</td>\n",
       "      <td>2021</td>\n",
       "      <td>47400798</td>\n",
       "      <td>41998096.0</td>\n",
       "      <td>5402702.0</td>\n",
       "    </tr>\n",
       "    <tr>\n",
       "      <th>16</th>\n",
       "      <td>3</td>\n",
       "      <td>2022</td>\n",
       "      <td>47486727</td>\n",
       "      <td>41977681.0</td>\n",
       "      <td>5509046.0</td>\n",
       "    </tr>\n",
       "    <tr>\n",
       "      <th>17</th>\n",
       "      <td>2</td>\n",
       "      <td>2023</td>\n",
       "      <td>48085361</td>\n",
       "      <td>41995741.0</td>\n",
       "      <td>6089620.0</td>\n",
       "    </tr>\n",
       "    <tr>\n",
       "      <th>18</th>\n",
       "      <td>1</td>\n",
       "      <td>2024</td>\n",
       "      <td>48619695</td>\n",
       "      <td>42117413.0</td>\n",
       "      <td>6502282.0</td>\n",
       "    </tr>\n",
       "    <tr>\n",
       "      <th>19</th>\n",
       "      <td>0</td>\n",
       "      <td>2025</td>\n",
       "      <td>49077984</td>\n",
       "      <td>42225636.0</td>\n",
       "      <td>6852348.0</td>\n",
       "    </tr>\n",
       "  </tbody>\n",
       "</table>\n",
       "</div>"
      ],
      "text/plain": [
       "    index   Year Total_population Spanish_nationals  Foreign_population\n",
       "0      19   2006         44009969        40079053.0           3930916.0\n",
       "1      18   2007         44784659        40335225.0           4449434.0\n",
       "2      17   2008         45668938        40582643.0           5086295.0\n",
       "3      16   2009         46239271        40852612.0           5386659.0\n",
       "4      15   2010         46486621        41084042.0           5402579.0\n",
       "5      14   2011         46667175        41354735.0           5312440.0\n",
       "6      13   2012         46818216        41582186.0           5236030.0\n",
       "7      12   2013         46712650        41648066.0           5064584.0\n",
       "8      11   2014         46495744        41819392.0           4676352.0\n",
       "9      10   2015         46425722        41971737.0           4453985.0\n",
       "10      9   2016         46418884        41999550.0           4419334.0\n",
       "11      8   2017         46497393        42079740.0           4417653.0\n",
       "12      7   2018         46645070        42067748.0           4577322.0\n",
       "13      6   2019         46918951        42068189.0           4850762.0\n",
       "14      5   2020         47318050        42076772.0           5241278.0\n",
       "15      4   2021         47400798        41998096.0           5402702.0\n",
       "16      3   2022         47486727        41977681.0           5509046.0\n",
       "17      2   2023         48085361        41995741.0           6089620.0\n",
       "18      1   2024         48619695        42117413.0           6502282.0\n",
       "19      0   2025         49077984        42225636.0           6852348.0"
      ]
     },
     "execution_count": 28,
     "metadata": {},
     "output_type": "execute_result"
    }
   ],
   "source": [
    "Population_reshape_sorted.reset_index()"
   ]
  },
  {
   "cell_type": "code",
   "execution_count": 29,
   "metadata": {},
   "outputs": [
    {
     "data": {
      "text/html": [
       "<div>\n",
       "<style scoped>\n",
       "    .dataframe tbody tr th:only-of-type {\n",
       "        vertical-align: middle;\n",
       "    }\n",
       "\n",
       "    .dataframe tbody tr th {\n",
       "        vertical-align: top;\n",
       "    }\n",
       "\n",
       "    .dataframe thead th {\n",
       "        text-align: right;\n",
       "    }\n",
       "</style>\n",
       "<table border=\"1\" class=\"dataframe\">\n",
       "  <thead>\n",
       "    <tr style=\"text-align: right;\">\n",
       "      <th></th>\n",
       "      <th>Year</th>\n",
       "      <th>Total_population</th>\n",
       "      <th>Spanish_nationals</th>\n",
       "      <th>Foreign_population</th>\n",
       "    </tr>\n",
       "  </thead>\n",
       "  <tbody>\n",
       "    <tr>\n",
       "      <th>19</th>\n",
       "      <td>2006</td>\n",
       "      <td>44009969</td>\n",
       "      <td>40079053.0</td>\n",
       "      <td>3930916.0</td>\n",
       "    </tr>\n",
       "    <tr>\n",
       "      <th>18</th>\n",
       "      <td>2007</td>\n",
       "      <td>44784659</td>\n",
       "      <td>40335225.0</td>\n",
       "      <td>4449434.0</td>\n",
       "    </tr>\n",
       "    <tr>\n",
       "      <th>17</th>\n",
       "      <td>2008</td>\n",
       "      <td>45668938</td>\n",
       "      <td>40582643.0</td>\n",
       "      <td>5086295.0</td>\n",
       "    </tr>\n",
       "    <tr>\n",
       "      <th>16</th>\n",
       "      <td>2009</td>\n",
       "      <td>46239271</td>\n",
       "      <td>40852612.0</td>\n",
       "      <td>5386659.0</td>\n",
       "    </tr>\n",
       "    <tr>\n",
       "      <th>15</th>\n",
       "      <td>2010</td>\n",
       "      <td>46486621</td>\n",
       "      <td>41084042.0</td>\n",
       "      <td>5402579.0</td>\n",
       "    </tr>\n",
       "  </tbody>\n",
       "</table>\n",
       "</div>"
      ],
      "text/plain": [
       "     Year Total_population Spanish_nationals  Foreign_population\n",
       "19   2006         44009969        40079053.0           3930916.0\n",
       "18   2007         44784659        40335225.0           4449434.0\n",
       "17   2008         45668938        40582643.0           5086295.0\n",
       "16   2009         46239271        40852612.0           5386659.0\n",
       "15   2010         46486621        41084042.0           5402579.0"
      ]
     },
     "execution_count": 29,
     "metadata": {},
     "output_type": "execute_result"
    }
   ],
   "source": [
    "df_to_reshape = Population_reshape_sorted[['Year','Total_population','Spanish_nationals','Foreign_population']]\n",
    "df_to_reshape.head()"
   ]
  },
  {
   "cell_type": "markdown",
   "metadata": {},
   "source": [
    "### 6.1 Subset columns prior to reshaping data  "
   ]
  },
  {
   "cell_type": "code",
   "execution_count": 30,
   "metadata": {},
   "outputs": [
    {
     "data": {
      "text/html": [
       "<div>\n",
       "<style scoped>\n",
       "    .dataframe tbody tr th:only-of-type {\n",
       "        vertical-align: middle;\n",
       "    }\n",
       "\n",
       "    .dataframe tbody tr th {\n",
       "        vertical-align: top;\n",
       "    }\n",
       "\n",
       "    .dataframe thead th {\n",
       "        text-align: right;\n",
       "    }\n",
       "</style>\n",
       "<table border=\"1\" class=\"dataframe\">\n",
       "  <thead>\n",
       "    <tr style=\"text-align: right;\">\n",
       "      <th></th>\n",
       "      <th>Year</th>\n",
       "      <th>Spanish_nationals</th>\n",
       "      <th>Foreign_population</th>\n",
       "    </tr>\n",
       "  </thead>\n",
       "  <tbody>\n",
       "    <tr>\n",
       "      <th>19</th>\n",
       "      <td>2006</td>\n",
       "      <td>40079053.0</td>\n",
       "      <td>3930916.0</td>\n",
       "    </tr>\n",
       "    <tr>\n",
       "      <th>18</th>\n",
       "      <td>2007</td>\n",
       "      <td>40335225.0</td>\n",
       "      <td>4449434.0</td>\n",
       "    </tr>\n",
       "    <tr>\n",
       "      <th>17</th>\n",
       "      <td>2008</td>\n",
       "      <td>40582643.0</td>\n",
       "      <td>5086295.0</td>\n",
       "    </tr>\n",
       "    <tr>\n",
       "      <th>16</th>\n",
       "      <td>2009</td>\n",
       "      <td>40852612.0</td>\n",
       "      <td>5386659.0</td>\n",
       "    </tr>\n",
       "    <tr>\n",
       "      <th>15</th>\n",
       "      <td>2010</td>\n",
       "      <td>41084042.0</td>\n",
       "      <td>5402579.0</td>\n",
       "    </tr>\n",
       "  </tbody>\n",
       "</table>\n",
       "</div>"
      ],
      "text/plain": [
       "     Year Spanish_nationals  Foreign_population\n",
       "19   2006        40079053.0           3930916.0\n",
       "18   2007        40335225.0           4449434.0\n",
       "17   2008        40582643.0           5086295.0\n",
       "16   2009        40852612.0           5386659.0\n",
       "15   2010        41084042.0           5402579.0"
      ]
     },
     "execution_count": 30,
     "metadata": {},
     "output_type": "execute_result"
    }
   ],
   "source": [
    "df_to_reshape_subset = df_to_reshape[['Year','Spanish_nationals','Foreign_population']]\n",
    "df_to_reshape_subset.head()"
   ]
  },
  {
   "cell_type": "markdown",
   "metadata": {},
   "source": [
    "### 6.2 Reshape data to have nationality on some column"
   ]
  },
  {
   "cell_type": "markdown",
   "metadata": {},
   "source": [
    "We use pd.melt() function to display both Spanish_nationals and Foreign_population on the same column"
   ]
  },
  {
   "cell_type": "code",
   "execution_count": 31,
   "metadata": {},
   "outputs": [],
   "source": [
    "population_long = pd.melt(df_to_reshape_subset,\n",
    "                          id_vars = 'Year',\n",
    "                          value_vars = ['Spanish_nationals','Foreign_population'])"
   ]
  },
  {
   "cell_type": "code",
   "execution_count": 32,
   "metadata": {},
   "outputs": [
    {
     "data": {
      "text/html": [
       "<div>\n",
       "<style scoped>\n",
       "    .dataframe tbody tr th:only-of-type {\n",
       "        vertical-align: middle;\n",
       "    }\n",
       "\n",
       "    .dataframe tbody tr th {\n",
       "        vertical-align: top;\n",
       "    }\n",
       "\n",
       "    .dataframe thead th {\n",
       "        text-align: right;\n",
       "    }\n",
       "</style>\n",
       "<table border=\"1\" class=\"dataframe\">\n",
       "  <thead>\n",
       "    <tr style=\"text-align: right;\">\n",
       "      <th></th>\n",
       "      <th>Year</th>\n",
       "      <th>variable</th>\n",
       "      <th>value</th>\n",
       "    </tr>\n",
       "  </thead>\n",
       "  <tbody>\n",
       "    <tr>\n",
       "      <th>0</th>\n",
       "      <td>2006</td>\n",
       "      <td>Spanish_nationals</td>\n",
       "      <td>40079053.0</td>\n",
       "    </tr>\n",
       "    <tr>\n",
       "      <th>1</th>\n",
       "      <td>2007</td>\n",
       "      <td>Spanish_nationals</td>\n",
       "      <td>40335225.0</td>\n",
       "    </tr>\n",
       "    <tr>\n",
       "      <th>2</th>\n",
       "      <td>2008</td>\n",
       "      <td>Spanish_nationals</td>\n",
       "      <td>40582643.0</td>\n",
       "    </tr>\n",
       "    <tr>\n",
       "      <th>3</th>\n",
       "      <td>2009</td>\n",
       "      <td>Spanish_nationals</td>\n",
       "      <td>40852612.0</td>\n",
       "    </tr>\n",
       "    <tr>\n",
       "      <th>4</th>\n",
       "      <td>2010</td>\n",
       "      <td>Spanish_nationals</td>\n",
       "      <td>41084042.0</td>\n",
       "    </tr>\n",
       "  </tbody>\n",
       "</table>\n",
       "</div>"
      ],
      "text/plain": [
       "    Year           variable       value\n",
       "0   2006  Spanish_nationals  40079053.0\n",
       "1   2007  Spanish_nationals  40335225.0\n",
       "2   2008  Spanish_nationals  40582643.0\n",
       "3   2009  Spanish_nationals  40852612.0\n",
       "4   2010  Spanish_nationals  41084042.0"
      ]
     },
     "execution_count": 32,
     "metadata": {},
     "output_type": "execute_result"
    }
   ],
   "source": [
    "population_long.head()"
   ]
  },
  {
   "cell_type": "code",
   "execution_count": 33,
   "metadata": {},
   "outputs": [
    {
     "data": {
      "text/html": [
       "<div>\n",
       "<style scoped>\n",
       "    .dataframe tbody tr th:only-of-type {\n",
       "        vertical-align: middle;\n",
       "    }\n",
       "\n",
       "    .dataframe tbody tr th {\n",
       "        vertical-align: top;\n",
       "    }\n",
       "\n",
       "    .dataframe thead th {\n",
       "        text-align: right;\n",
       "    }\n",
       "</style>\n",
       "<table border=\"1\" class=\"dataframe\">\n",
       "  <thead>\n",
       "    <tr style=\"text-align: right;\">\n",
       "      <th></th>\n",
       "      <th>Year</th>\n",
       "      <th>variable</th>\n",
       "      <th>value</th>\n",
       "    </tr>\n",
       "  </thead>\n",
       "  <tbody>\n",
       "    <tr>\n",
       "      <th>35</th>\n",
       "      <td>2021</td>\n",
       "      <td>Foreign_population</td>\n",
       "      <td>5402702.0</td>\n",
       "    </tr>\n",
       "    <tr>\n",
       "      <th>36</th>\n",
       "      <td>2022</td>\n",
       "      <td>Foreign_population</td>\n",
       "      <td>5509046.0</td>\n",
       "    </tr>\n",
       "    <tr>\n",
       "      <th>37</th>\n",
       "      <td>2023</td>\n",
       "      <td>Foreign_population</td>\n",
       "      <td>6089620.0</td>\n",
       "    </tr>\n",
       "    <tr>\n",
       "      <th>38</th>\n",
       "      <td>2024</td>\n",
       "      <td>Foreign_population</td>\n",
       "      <td>6502282.0</td>\n",
       "    </tr>\n",
       "    <tr>\n",
       "      <th>39</th>\n",
       "      <td>2025</td>\n",
       "      <td>Foreign_population</td>\n",
       "      <td>6852348.0</td>\n",
       "    </tr>\n",
       "  </tbody>\n",
       "</table>\n",
       "</div>"
      ],
      "text/plain": [
       "     Year            variable      value\n",
       "35   2021  Foreign_population  5402702.0\n",
       "36   2022  Foreign_population  5509046.0\n",
       "37   2023  Foreign_population  6089620.0\n",
       "38   2024  Foreign_population  6502282.0\n",
       "39   2025  Foreign_population  6852348.0"
      ]
     },
     "execution_count": 33,
     "metadata": {},
     "output_type": "execute_result"
    }
   ],
   "source": [
    "population_long.tail()"
   ]
  },
  {
   "cell_type": "markdown",
   "metadata": {},
   "source": [
    "- Rename columns from re-shaped dataframe"
   ]
  },
  {
   "cell_type": "code",
   "execution_count": 34,
   "metadata": {},
   "outputs": [],
   "source": [
    "population_long.columns = ['Year','Nationality','Value']\n"
   ]
  },
  {
   "cell_type": "markdown",
   "metadata": {},
   "source": [
    "## 7. Bulding stacked barplot using seaborn "
   ]
  },
  {
   "cell_type": "markdown",
   "metadata": {},
   "source": [
    "Now we have the dataframe in the right shape to build a stacked bar plot by nationality by year."
   ]
  },
  {
   "cell_type": "markdown",
   "metadata": {},
   "source": [
    "First we need to load required libraries to create Seaborn charts"
   ]
  },
  {
   "cell_type": "code",
   "execution_count": 35,
   "metadata": {},
   "outputs": [],
   "source": [
    "import seaborn as sns\n",
    "import matplotlib.pyplot as plt"
   ]
  },
  {
   "cell_type": "markdown",
   "metadata": {},
   "source": [
    "Check nationailty unique values and set theme and figure size"
   ]
  },
  {
   "cell_type": "code",
   "execution_count": 36,
   "metadata": {},
   "outputs": [
    {
     "data": {
      "text/plain": [
       "<Figure size 1400x2400 with 0 Axes>"
      ]
     },
     "execution_count": 36,
     "metadata": {},
     "output_type": "execute_result"
    },
    {
     "data": {
      "text/plain": [
       "<Figure size 1400x2400 with 0 Axes>"
      ]
     },
     "metadata": {},
     "output_type": "display_data"
    }
   ],
   "source": [
    "sns.set_theme(style = 'darkgrid')\n",
    "plt.figure(figsize=(14,24))"
   ]
  },
  {
   "cell_type": "markdown",
   "metadata": {},
   "source": [
    "We need to create several calculations first to be able to plot our stacked bar chart"
   ]
  },
  {
   "cell_type": "markdown",
   "metadata": {},
   "source": [
    "### 7.1 Calculation 01. Sum of all values"
   ]
  },
  {
   "cell_type": "markdown",
   "metadata": {},
   "source": [
    "Compute total values to be used in the stacked bar chart."
   ]
  },
  {
   "cell_type": "code",
   "execution_count": 37,
   "metadata": {},
   "outputs": [
    {
     "data": {
      "text/html": [
       "<div>\n",
       "<style scoped>\n",
       "    .dataframe tbody tr th:only-of-type {\n",
       "        vertical-align: middle;\n",
       "    }\n",
       "\n",
       "    .dataframe tbody tr th {\n",
       "        vertical-align: top;\n",
       "    }\n",
       "\n",
       "    .dataframe thead th {\n",
       "        text-align: right;\n",
       "    }\n",
       "</style>\n",
       "<table border=\"1\" class=\"dataframe\">\n",
       "  <thead>\n",
       "    <tr style=\"text-align: right;\">\n",
       "      <th></th>\n",
       "      <th>Year</th>\n",
       "      <th>Value</th>\n",
       "    </tr>\n",
       "  </thead>\n",
       "  <tbody>\n",
       "    <tr>\n",
       "      <th>0</th>\n",
       "      <td>2006</td>\n",
       "      <td>44009969.0</td>\n",
       "    </tr>\n",
       "    <tr>\n",
       "      <th>1</th>\n",
       "      <td>2007</td>\n",
       "      <td>44784659.0</td>\n",
       "    </tr>\n",
       "    <tr>\n",
       "      <th>2</th>\n",
       "      <td>2008</td>\n",
       "      <td>45668938.0</td>\n",
       "    </tr>\n",
       "    <tr>\n",
       "      <th>3</th>\n",
       "      <td>2009</td>\n",
       "      <td>46239271.0</td>\n",
       "    </tr>\n",
       "    <tr>\n",
       "      <th>4</th>\n",
       "      <td>2010</td>\n",
       "      <td>46486621.0</td>\n",
       "    </tr>\n",
       "  </tbody>\n",
       "</table>\n",
       "</div>"
      ],
      "text/plain": [
       "    Year       Value\n",
       "0   2006  44009969.0\n",
       "1   2007  44784659.0\n",
       "2   2008  45668938.0\n",
       "3   2009  46239271.0\n",
       "4   2010  46486621.0"
      ]
     },
     "execution_count": 37,
     "metadata": {},
     "output_type": "execute_result"
    }
   ],
   "source": [
    "total = population_long.groupby(\"Year\")['Value'].sum().reset_index()\n",
    "total.head()"
   ]
  },
  {
   "cell_type": "code",
   "execution_count": 38,
   "metadata": {},
   "outputs": [
    {
     "data": {
      "text/html": [
       "<div>\n",
       "<style scoped>\n",
       "    .dataframe tbody tr th:only-of-type {\n",
       "        vertical-align: middle;\n",
       "    }\n",
       "\n",
       "    .dataframe tbody tr th {\n",
       "        vertical-align: top;\n",
       "    }\n",
       "\n",
       "    .dataframe thead th {\n",
       "        text-align: right;\n",
       "    }\n",
       "</style>\n",
       "<table border=\"1\" class=\"dataframe\">\n",
       "  <thead>\n",
       "    <tr style=\"text-align: right;\">\n",
       "      <th></th>\n",
       "      <th>Year</th>\n",
       "      <th>Value</th>\n",
       "    </tr>\n",
       "  </thead>\n",
       "  <tbody>\n",
       "    <tr>\n",
       "      <th>15</th>\n",
       "      <td>2021</td>\n",
       "      <td>47400798.0</td>\n",
       "    </tr>\n",
       "    <tr>\n",
       "      <th>16</th>\n",
       "      <td>2022</td>\n",
       "      <td>47486727.0</td>\n",
       "    </tr>\n",
       "    <tr>\n",
       "      <th>17</th>\n",
       "      <td>2023</td>\n",
       "      <td>48085361.0</td>\n",
       "    </tr>\n",
       "    <tr>\n",
       "      <th>18</th>\n",
       "      <td>2024</td>\n",
       "      <td>48619695.0</td>\n",
       "    </tr>\n",
       "    <tr>\n",
       "      <th>19</th>\n",
       "      <td>2025</td>\n",
       "      <td>49077984.0</td>\n",
       "    </tr>\n",
       "  </tbody>\n",
       "</table>\n",
       "</div>"
      ],
      "text/plain": [
       "     Year       Value\n",
       "15   2021  47400798.0\n",
       "16   2022  47486727.0\n",
       "17   2023  48085361.0\n",
       "18   2024  48619695.0\n",
       "19   2025  49077984.0"
      ]
     },
     "execution_count": 38,
     "metadata": {},
     "output_type": "execute_result"
    }
   ],
   "source": [
    "total.tail()"
   ]
  },
  {
   "cell_type": "markdown",
   "metadata": {},
   "source": [
    "- I need to import Scalar formatter to remove scientific notation from Y axis"
   ]
  },
  {
   "cell_type": "code",
   "execution_count": 39,
   "metadata": {},
   "outputs": [],
   "source": [
    "from matplotlib.ticker import ScalarFormatter"
   ]
  },
  {
   "cell_type": "markdown",
   "metadata": {},
   "source": [
    "- I can plot thesee Spain total population values from year 2006 to 2025. First I define subplot and figure size for chart"
   ]
  },
  {
   "cell_type": "code",
   "execution_count": 40,
   "metadata": {},
   "outputs": [
    {
     "data": {
      "image/png": "[encoded data removed]",
      "text/plain": [
       "<Figure size 3000x1500 with 1 Axes>"
      ]
     },
     "metadata": {},
     "output_type": "display_data"
    }
   ],
   "source": [
    "# 1.First I define subplot and figure size for chart\n",
    "sns.set_theme()\n",
    "fig = plt.figure(figsize=(30,15))\n",
    "axs = fig.add_subplot(1,1,1)\n",
    "# 2. Create barplot using sns.barplot() function\n",
    "Total_population = sns.barplot(x = 'Year', y = 'Value', data = total, color ='royalblue').set_title(\"Spain total population.2006-2025 period\")\n",
    "# 3. Apply ScalarFormatter() function to remove scientific notation from Y axis\n",
    "formatter = ScalarFormatter()\n",
    "formatter.set_scientific(False)\n",
    "axs.yaxis.set_major_formatter(formatter)\n",
    "# 4. Save plot as a figure in the \\Seaborn_plots sub.folder\n",
    "plt.savefig('Seaborn_gallery/Seaborn_plots/Spain_total_population_2006_2025_period.png',bbox_inches='tight')\n",
    "plt.show()\n"
   ]
  },
  {
   "cell_type": "markdown",
   "metadata": {},
   "source": [
    "### 7.2 Calculation 02. Spanish nationals share of total population by year"
   ]
  },
  {
   "cell_type": "markdown",
   "metadata": {},
   "source": [
    "This time we define an adhoc Seaborn paletter for this chart"
   ]
  },
  {
   "cell_type": "code",
   "execution_count": 41,
   "metadata": {},
   "outputs": [
    {
     "data": {
      "text/html": [
       "<svg  width=\"550\" height=\"55\"><rect x=\"0\" y=\"0\" width=\"55\" height=\"55\" style=\"fill:#4c72b0;stroke-width:2;stroke:rgb(255,255,255)\"/><rect x=\"55\" y=\"0\" width=\"55\" height=\"55\" style=\"fill:#dd8452;stroke-width:2;stroke:rgb(255,255,255)\"/><rect x=\"110\" y=\"0\" width=\"55\" height=\"55\" style=\"fill:#55a868;stroke-width:2;stroke:rgb(255,255,255)\"/><rect x=\"165\" y=\"0\" width=\"55\" height=\"55\" style=\"fill:#c44e52;stroke-width:2;stroke:rgb(255,255,255)\"/><rect x=\"220\" y=\"0\" width=\"55\" height=\"55\" style=\"fill:#8172b3;stroke-width:2;stroke:rgb(255,255,255)\"/><rect x=\"275\" y=\"0\" width=\"55\" height=\"55\" style=\"fill:#937860;stroke-width:2;stroke:rgb(255,255,255)\"/><rect x=\"330\" y=\"0\" width=\"55\" height=\"55\" style=\"fill:#da8bc3;stroke-width:2;stroke:rgb(255,255,255)\"/><rect x=\"385\" y=\"0\" width=\"55\" height=\"55\" style=\"fill:#8c8c8c;stroke-width:2;stroke:rgb(255,255,255)\"/><rect x=\"440\" y=\"0\" width=\"55\" height=\"55\" style=\"fill:#ccb974;stroke-width:2;stroke:rgb(255,255,255)\"/><rect x=\"495\" y=\"0\" width=\"55\" height=\"55\" style=\"fill:#64b5cd;stroke-width:2;stroke:rgb(255,255,255)\"/></svg>"
      ],
      "text/plain": [
       "[(0.2980392156862745, 0.4470588235294118, 0.6901960784313725),\n",
       " (0.8666666666666667, 0.5176470588235295, 0.3215686274509804),\n",
       " (0.3333333333333333, 0.6588235294117647, 0.40784313725490196),\n",
       " (0.7686274509803922, 0.3058823529411765, 0.3215686274509804),\n",
       " (0.5058823529411764, 0.4470588235294118, 0.7019607843137254),\n",
       " (0.5764705882352941, 0.47058823529411764, 0.3764705882352941),\n",
       " (0.8549019607843137, 0.5450980392156862, 0.7647058823529411),\n",
       " (0.5490196078431373, 0.5490196078431373, 0.5490196078431373),\n",
       " (0.8, 0.7254901960784313, 0.4549019607843137),\n",
       " (0.39215686274509803, 0.7098039215686275, 0.803921568627451)]"
      ]
     },
     "execution_count": 41,
     "metadata": {},
     "output_type": "execute_result"
    }
   ],
   "source": [
    "pal01 = sns.color_palette() # Default paletter defined by sns.color_palette() function\n",
    "pal01"
   ]
  },
  {
   "cell_type": "markdown",
   "metadata": {},
   "source": [
    "- Display hex() codes from the above colour paletter"
   ]
  },
  {
   "cell_type": "code",
   "execution_count": 42,
   "metadata": {},
   "outputs": [
    {
     "name": "stdout",
     "output_type": "stream",
     "text": [
      "['#4c72b0', '#dd8452', '#55a868', '#c44e52', '#8172b3', '#937860', '#da8bc3', '#8c8c8c', '#ccb974', '#64b5cd']\n"
     ]
    }
   ],
   "source": [
    "print(sns.color_palette().as_hex())"
   ]
  },
  {
   "cell_type": "code",
   "execution_count": 47,
   "metadata": {},
   "outputs": [
    {
     "data": {
      "text/html": [
       "<div>\n",
       "<style scoped>\n",
       "    .dataframe tbody tr th:only-of-type {\n",
       "        vertical-align: middle;\n",
       "    }\n",
       "\n",
       "    .dataframe tbody tr th {\n",
       "        vertical-align: top;\n",
       "    }\n",
       "\n",
       "    .dataframe thead th {\n",
       "        text-align: right;\n",
       "    }\n",
       "</style>\n",
       "<table border=\"1\" class=\"dataframe\">\n",
       "  <thead>\n",
       "    <tr style=\"text-align: right;\">\n",
       "      <th></th>\n",
       "      <th>Year</th>\n",
       "      <th>Nationality</th>\n",
       "      <th>Value</th>\n",
       "    </tr>\n",
       "  </thead>\n",
       "  <tbody>\n",
       "    <tr>\n",
       "      <th>0</th>\n",
       "      <td>2006</td>\n",
       "      <td>Spanish_nationals</td>\n",
       "      <td>40079053.0</td>\n",
       "    </tr>\n",
       "    <tr>\n",
       "      <th>1</th>\n",
       "      <td>2007</td>\n",
       "      <td>Spanish_nationals</td>\n",
       "      <td>40335225.0</td>\n",
       "    </tr>\n",
       "    <tr>\n",
       "      <th>2</th>\n",
       "      <td>2008</td>\n",
       "      <td>Spanish_nationals</td>\n",
       "      <td>40582643.0</td>\n",
       "    </tr>\n",
       "    <tr>\n",
       "      <th>3</th>\n",
       "      <td>2009</td>\n",
       "      <td>Spanish_nationals</td>\n",
       "      <td>40852612.0</td>\n",
       "    </tr>\n",
       "    <tr>\n",
       "      <th>4</th>\n",
       "      <td>2010</td>\n",
       "      <td>Spanish_nationals</td>\n",
       "      <td>41084042.0</td>\n",
       "    </tr>\n",
       "    <tr>\n",
       "      <th>5</th>\n",
       "      <td>2011</td>\n",
       "      <td>Spanish_nationals</td>\n",
       "      <td>41354735.0</td>\n",
       "    </tr>\n",
       "    <tr>\n",
       "      <th>6</th>\n",
       "      <td>2012</td>\n",
       "      <td>Spanish_nationals</td>\n",
       "      <td>41582186.0</td>\n",
       "    </tr>\n",
       "    <tr>\n",
       "      <th>7</th>\n",
       "      <td>2013</td>\n",
       "      <td>Spanish_nationals</td>\n",
       "      <td>41648066.0</td>\n",
       "    </tr>\n",
       "    <tr>\n",
       "      <th>8</th>\n",
       "      <td>2014</td>\n",
       "      <td>Spanish_nationals</td>\n",
       "      <td>41819392.0</td>\n",
       "    </tr>\n",
       "    <tr>\n",
       "      <th>9</th>\n",
       "      <td>2015</td>\n",
       "      <td>Spanish_nationals</td>\n",
       "      <td>41971737.0</td>\n",
       "    </tr>\n",
       "    <tr>\n",
       "      <th>10</th>\n",
       "      <td>2016</td>\n",
       "      <td>Spanish_nationals</td>\n",
       "      <td>41999550.0</td>\n",
       "    </tr>\n",
       "    <tr>\n",
       "      <th>11</th>\n",
       "      <td>2017</td>\n",
       "      <td>Spanish_nationals</td>\n",
       "      <td>42079740.0</td>\n",
       "    </tr>\n",
       "    <tr>\n",
       "      <th>12</th>\n",
       "      <td>2018</td>\n",
       "      <td>Spanish_nationals</td>\n",
       "      <td>42067748.0</td>\n",
       "    </tr>\n",
       "    <tr>\n",
       "      <th>13</th>\n",
       "      <td>2019</td>\n",
       "      <td>Spanish_nationals</td>\n",
       "      <td>42068189.0</td>\n",
       "    </tr>\n",
       "    <tr>\n",
       "      <th>14</th>\n",
       "      <td>2020</td>\n",
       "      <td>Spanish_nationals</td>\n",
       "      <td>42076772.0</td>\n",
       "    </tr>\n",
       "    <tr>\n",
       "      <th>15</th>\n",
       "      <td>2021</td>\n",
       "      <td>Spanish_nationals</td>\n",
       "      <td>41998096.0</td>\n",
       "    </tr>\n",
       "    <tr>\n",
       "      <th>16</th>\n",
       "      <td>2022</td>\n",
       "      <td>Spanish_nationals</td>\n",
       "      <td>41977681.0</td>\n",
       "    </tr>\n",
       "    <tr>\n",
       "      <th>17</th>\n",
       "      <td>2023</td>\n",
       "      <td>Spanish_nationals</td>\n",
       "      <td>41995741.0</td>\n",
       "    </tr>\n",
       "    <tr>\n",
       "      <th>18</th>\n",
       "      <td>2024</td>\n",
       "      <td>Spanish_nationals</td>\n",
       "      <td>42117413.0</td>\n",
       "    </tr>\n",
       "    <tr>\n",
       "      <th>19</th>\n",
       "      <td>2025</td>\n",
       "      <td>Spanish_nationals</td>\n",
       "      <td>42225636.0</td>\n",
       "    </tr>\n",
       "  </tbody>\n",
       "</table>\n",
       "</div>"
      ],
      "text/plain": [
       "     Year        Nationality       Value\n",
       "0    2006  Spanish_nationals  40079053.0\n",
       "1    2007  Spanish_nationals  40335225.0\n",
       "2    2008  Spanish_nationals  40582643.0\n",
       "3    2009  Spanish_nationals  40852612.0\n",
       "4    2010  Spanish_nationals  41084042.0\n",
       "5    2011  Spanish_nationals  41354735.0\n",
       "6    2012  Spanish_nationals  41582186.0\n",
       "7    2013  Spanish_nationals  41648066.0\n",
       "8    2014  Spanish_nationals  41819392.0\n",
       "9    2015  Spanish_nationals  41971737.0\n",
       "10   2016  Spanish_nationals  41999550.0\n",
       "11   2017  Spanish_nationals  42079740.0\n",
       "12   2018  Spanish_nationals  42067748.0\n",
       "13   2019  Spanish_nationals  42068189.0\n",
       "14   2020  Spanish_nationals  42076772.0\n",
       "15   2021  Spanish_nationals  41998096.0\n",
       "16   2022  Spanish_nationals  41977681.0\n",
       "17   2023  Spanish_nationals  41995741.0\n",
       "18   2024  Spanish_nationals  42117413.0\n",
       "19   2025  Spanish_nationals  42225636.0"
      ]
     },
     "execution_count": 47,
     "metadata": {},
     "output_type": "execute_result"
    }
   ],
   "source": [
    "# Subset spanish nationals population from main dataframe\n",
    "spanish_nationals_section = population_long[population_long.Nationality=='Spanish_nationals']\n",
    "spanish_nationals_section"
   ]
  },
  {
   "cell_type": "markdown",
   "metadata": {},
   "source": [
    "- Now we can draw chart for this first sub-population"
   ]
  },
  {
   "cell_type": "code",
   "execution_count": 44,
   "metadata": {},
   "outputs": [
    {
     "data": {
      "image/png": "[encoded data removed]",
      "text/plain": [
       "<Figure size 3000x1500 with 1 Axes>"
      ]
     },
     "metadata": {},
     "output_type": "display_data"
    }
   ],
   "source": [
    "sns.set_theme()\n",
    "fig = plt.figure(figsize = (30,15))\n",
    "axs = fig.add_subplot(1,1,1)\n",
    "spanish_nationals = sns.barplot(x = 'Year', y = 'Value', data = spanish_nationals_section, color = '#dd8452').set_title('Spanish nationals population')\n",
    "# 3. Apply ScalarFormatter() function to remove scientific notation from Y axis\n",
    "formatter = ScalarFormatter()\n",
    "formatter.set_scientific(False)\n",
    "axs.yaxis.set_major_formatter(formatter)\n",
    "# 4. Save plot as a figure in the \\Seaborn_plots sub.folder\n",
    "plt.savefig('Seaborn_gallery/Seaborn_plots/Spanish_nationals_population_2006_2025_period.png',bbox_inches='tight')\n",
    "plt.show()\n"
   ]
  },
  {
   "cell_type": "markdown",
   "metadata": {},
   "source": [
    "### 7.3 Calculation 03. Foreign population share of total population by year"
   ]
  },
  {
   "cell_type": "markdown",
   "metadata": {},
   "source": [
    "This third chart displays the share of foreign population out of total population in Spain by year. First I will display the unique values of Nationality column in **population_long** dataframe."
   ]
  },
  {
   "cell_type": "code",
   "execution_count": 45,
   "metadata": {},
   "outputs": [
    {
     "data": {
      "text/plain": [
       "array(['Spanish_nationals', 'Foreign_population'], dtype=object)"
      ]
     },
     "execution_count": 45,
     "metadata": {},
     "output_type": "execute_result"
    }
   ],
   "source": [
    "population_long['Nationality'].unique()"
   ]
  },
  {
   "cell_type": "markdown",
   "metadata": {},
   "source": [
    "In this section I will create a Seaborn plot to display Foreign population by year from 2006 to 2025."
   ]
  },
  {
   "cell_type": "code",
   "execution_count": 46,
   "metadata": {},
   "outputs": [
    {
     "data": {
      "text/html": [
       "<div>\n",
       "<style scoped>\n",
       "    .dataframe tbody tr th:only-of-type {\n",
       "        vertical-align: middle;\n",
       "    }\n",
       "\n",
       "    .dataframe tbody tr th {\n",
       "        vertical-align: top;\n",
       "    }\n",
       "\n",
       "    .dataframe thead th {\n",
       "        text-align: right;\n",
       "    }\n",
       "</style>\n",
       "<table border=\"1\" class=\"dataframe\">\n",
       "  <thead>\n",
       "    <tr style=\"text-align: right;\">\n",
       "      <th></th>\n",
       "      <th>Year</th>\n",
       "      <th>Nationality</th>\n",
       "      <th>Value</th>\n",
       "    </tr>\n",
       "  </thead>\n",
       "  <tbody>\n",
       "    <tr>\n",
       "      <th>20</th>\n",
       "      <td>2006</td>\n",
       "      <td>Foreign_population</td>\n",
       "      <td>3930916.0</td>\n",
       "    </tr>\n",
       "    <tr>\n",
       "      <th>21</th>\n",
       "      <td>2007</td>\n",
       "      <td>Foreign_population</td>\n",
       "      <td>4449434.0</td>\n",
       "    </tr>\n",
       "    <tr>\n",
       "      <th>22</th>\n",
       "      <td>2008</td>\n",
       "      <td>Foreign_population</td>\n",
       "      <td>5086295.0</td>\n",
       "    </tr>\n",
       "    <tr>\n",
       "      <th>23</th>\n",
       "      <td>2009</td>\n",
       "      <td>Foreign_population</td>\n",
       "      <td>5386659.0</td>\n",
       "    </tr>\n",
       "    <tr>\n",
       "      <th>24</th>\n",
       "      <td>2010</td>\n",
       "      <td>Foreign_population</td>\n",
       "      <td>5402579.0</td>\n",
       "    </tr>\n",
       "  </tbody>\n",
       "</table>\n",
       "</div>"
      ],
      "text/plain": [
       "     Year         Nationality      Value\n",
       "20   2006  Foreign_population  3930916.0\n",
       "21   2007  Foreign_population  4449434.0\n",
       "22   2008  Foreign_population  5086295.0\n",
       "23   2009  Foreign_population  5386659.0\n",
       "24   2010  Foreign_population  5402579.0"
      ]
     },
     "execution_count": 46,
     "metadata": {},
     "output_type": "execute_result"
    }
   ],
   "source": [
    "# Subset foreign population from main dataframe\n",
    "foreign_population = population_long[population_long.Nationality=='Foreign_population']\n",
    "foreign_population.head()"
   ]
  },
  {
   "cell_type": "markdown",
   "metadata": {},
   "source": [
    "- Plot Foreign population Seaborn chart"
   ]
  },
  {
   "cell_type": "code",
   "execution_count": 53,
   "metadata": {},
   "outputs": [
    {
     "data": {
      "image/png": "[encoded data removed]",
      "text/plain": [
       "<Figure size 3000x1500 with 1 Axes>"
      ]
     },
     "metadata": {},
     "output_type": "display_data"
    }
   ],
   "source": [
    "sns.set_theme()\n",
    "fig = plt.figure(figsize=(30,15))\n",
    "axs = fig.add_subplot(1,1,1)\n",
    "foreign_population_plot = sns.barplot(x = \"Year\", y = \"Value\" , data = foreign_population,\n",
    "                                      color = '#64b5cd').set_title(\"Foreign population in Spain.2006-2025 period\")\n",
    "formatter = ScalarFormatter()\n",
    "formatter.set_scientific(False)\n",
    "axs.yaxis.set_major_formatter(formatter)\n",
    "plt.show()\n"
   ]
  },
  {
   "cell_type": "markdown",
   "metadata": {},
   "source": [
    "## 8. Stacked barplot population by nationality using Seaborn "
   ]
  },
  {
   "cell_type": "markdown",
   "metadata": {},
   "source": [
    "### 8.1 Stacked barplot population by nationality using Seaborn "
   ]
  },
  {
   "cell_type": "markdown",
   "metadata": {},
   "source": [
    "This final plot combines Spanish nationals and foreign population on each year."
   ]
  },
  {
   "cell_type": "code",
   "execution_count": 61,
   "metadata": {},
   "outputs": [],
   "source": [
    "import seaborn as sns\n",
    "import matplotlib.patches as mpatches\n",
    "from matplotlib.ticker import ScalarFormatter"
   ]
  },
  {
   "cell_type": "markdown",
   "metadata": {},
   "source": [
    "This section below includes the Script for the entire stacked barplot for spanish population by nationality by year, for 2006-2025 period."
   ]
  },
  {
   "cell_type": "code",
   "execution_count": 63,
   "metadata": {},
   "outputs": [
    {
     "data": {
      "image/png": "[encoded data removed]",
      "text/plain": [
       "<Figure size 1400x1400 with 1 Axes>"
      ]
     },
     "metadata": {},
     "output_type": "display_data"
    }
   ],
   "source": [
    "# Set plot style grey grid in the background\n",
    "sns.set_theme(style = \"darkgrid\")\n",
    "# Set figure size\n",
    "fig = plt.figure(figsize=(14,14))\n",
    "# Define subplot to apply format to yaxis\n",
    "axs = fig.add_subplot(1,1,1)\n",
    "# Top bar - Total population in Spain by year\n",
    "total = population_long.groupby(\"Year\")['Value'].sum().reset_index()\n",
    "# First section of stacked bar chart for Spanish population\n",
    "Spanish_bar = sns.barplot(x = \"Year\", y = \"Value\", data = total, color = '#dd8452').set_title(\"Population in Spain by nationality by year. 2006-2025 period\")\n",
    "# Spanish nationals Section of the stacked bar chart\n",
    "spanish_nationals_section = population_long[population_long.Nationality=='Spanish_nationals']\n",
    "# Foreign nationals Section of the stacked bar chart\n",
    "Foreigners_bar = sns.barplot(x = \"Year\", y = \"Value\", data = spanish_nationals_section, color = '#64b5cd')\n",
    "# Remove scientific notation from Y axis\n",
    "formatter = ScalarFormatter()\n",
    "formatter.set_scientific(False)\n",
    "axs.yaxis.set_major_formatter(formatter)\n",
    "# Add legend \n",
    "spanish_nationals_legend = mpatches.Patch(color = '#dd8452', label = 'Spanish nationals')\n",
    "foreigners_legend = mpatches.Patch(color = '#64b5cd', label = 'Foreign population')\n",
    "plt.legend(handles=[spanish_nationals_legend, foreigners_legend])\n",
    "# show plot\n",
    "plt.show()"
   ]
  },
  {
   "cell_type": "markdown",
   "metadata": {},
   "source": [
    "### 8.2 Stacked barplot population by nationality saved in seaborn_gallery sub-folder"
   ]
  },
  {
   "cell_type": "markdown",
   "metadata": {},
   "source": [
    "This code below creates a stacked barplot similar to the previous one, but this time the output is saved as a .png file in the \\Seaborn_plots sub folder"
   ]
  },
  {
   "cell_type": "code",
   "execution_count": null,
   "metadata": {},
   "outputs": [],
   "source": [
    "# Seaborn stacked barplot saved in \\Seaborn_plots folder as .png file\n",
    "# File: Stacked_barplot_spain_population_nationality_2006_2025.png\n",
    "\n",
    "sns.set_theme(style = \"darkgrid\")\n",
    "# Set figure size\n",
    "fig = plt.figure(figsize=(14,14))\n",
    "# Define subplot to apply format to yaxis\n",
    "axs = fig.add_subplot(1,1,1)\n",
    "# Top bar - Total population in Spain by year\n",
    "total = population_long.groupby(\"Year\")['Value'].sum().reset_index()\n",
    "# First section of stacked bar chart for Spanish population\n",
    "Spanish_bar = sns.barplot(x = \"Year\", y = \"Value\", data = total, color = '#dd8452').set_title(\"Population in Spain by nationality by year. 2006-2025 period\")\n",
    "# Spanish nationals Section of the stacked bar chart\n",
    "spanish_nationals_section = population_long[population_long.Nationality=='Spanish_nationals']\n",
    "# Foreign nationals Section of the stacked bar chart\n",
    "Foreigners_bar = sns.barplot(x = \"Year\", y = \"Value\", data = spanish_nationals_section, color = '#64b5cd')"
   ]
  }
 ],
 "metadata": {
  "kernelspec": {
   "display_name": "Python 3",
   "language": "python",
   "name": "python3"
  },
  "language_info": {
   "codemirror_mode": {
    "name": "ipython",
    "version": 3
   },
   "file_extension": ".py",
   "mimetype": "text/x-python",
   "name": "python",
   "nbconvert_exporter": "python",
   "pygments_lexer": "ipython3",
   "version": "3.13.2"
  }
 },
 "nbformat": 4,
 "nbformat_minor": 2
}
