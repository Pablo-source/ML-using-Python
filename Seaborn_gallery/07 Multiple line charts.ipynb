{
 "cells": [
  {
   "cell_type": "markdown",
   "id": "bcf6b7d2",
   "metadata": {},
   "source": [
    "## How to create multiple linecharts in Seaborn     "
   ]
  },
  {
   "cell_type": "markdown",
   "id": "db832f31",
   "metadata": {},
   "source": [
    "This workbook describes how to create multiple line charts on the same plot in Seaborn"
   ]
  },
  {
   "cell_type": "markdown",
   "id": "020193cc",
   "metadata": {},
   "source": [
    "## 1. Load required libraries   "
   ]
  },
  {
   "cell_type": "code",
   "execution_count": 1,
   "id": "7969e75d",
   "metadata": {},
   "outputs": [],
   "source": [
    "import pandas as pd\n",
    "import os\n",
    "import matplotlib.pyplot as plt\n",
    "import math\n",
    "# Seaborn library\n",
    "import seaborn as sns\n",
    "sns.set_theme(style = \"darkgrid\")"
   ]
  },
  {
   "cell_type": "markdown",
   "id": "7d848dfb",
   "metadata": {},
   "source": [
    "## 2. Check data folder content"
   ]
  },
  {
   "cell_type": "markdown",
   "id": "28b04b85",
   "metadata": {},
   "source": [
    "### 2.1 Change wd to data sub folder"
   ]
  },
  {
   "cell_type": "code",
   "execution_count": 2,
   "id": "35c3c160",
   "metadata": {},
   "outputs": [
    {
     "name": "stdout",
     "output_type": "stream",
     "text": [
      "My working directory is: /home/pablo/Documents/Pablo_zorin/VS_Python_GitHub_Pablo_source/ML-using-Python/Seaborn_gallery\n"
     ]
    }
   ],
   "source": [
    "wd = os.getcwd()\n",
    "print('My working directory is:',wd)"
   ]
  },
  {
   "cell_type": "code",
   "execution_count": 3,
   "id": "e3810499",
   "metadata": {},
   "outputs": [
    {
     "name": "stdout",
     "output_type": "stream",
     "text": [
      "My new WD is: /home/pablo/Documents/Pablo_zorin/VS_Python_GitHub_Pablo_source/ML-using-Python\n"
     ]
    }
   ],
   "source": [
    "# Change current wd to top folder directory to access \\data sub-folder\n",
    "project_directory = os.path.join('/home','pablo','Documents','Pablo_zorin','VS_Python_GitHub_Pablo_source','ML-using-Python')\n",
    "my_directory = os.chdir(project_directory)\n",
    "wd = os.getcwd()\n",
    "print('My new WD is:',wd)"
   ]
  },
  {
   "cell_type": "markdown",
   "id": "3447fa1b",
   "metadata": {},
   "source": [
    "### 2.2 List files in data sub-folder"
   ]
  },
  {
   "cell_type": "code",
   "execution_count": 4,
   "id": "a91be5f8",
   "metadata": {},
   "outputs": [
    {
     "name": "stdout",
     "output_type": "stream",
     "text": [
      "data folder contents are: ['wine_quality.zip', 'winequality.names', 'Monthly-AE-Time-Series-January-2024.xls', 'INE Resident population country of birth Spain.xlsx', 'AE_Time_Series_Data_website.txt', 'winequality-red.csv', 'OCDE_countries_population_figures_1970_2022.csv', 'all_wine_reset.csv', '03_INE_Spain_natural_growh_births_deaths.xlsx', '02 INE Spain CV population stocks and flows 2002 2025.xlsx', 'AE_Attendances_TypeI_2010_2025.csv', 'AE_Attendances_Aug2010_Mar_2025.csv', 'Monthly-AE-Time-Series-March-2025.xls', 'AE_Attendances_2010_2024.csv', 'Type_I_ATT_TEST.csv', 'Type_I_ATT_TRAIN.csv', 'ONS_Figure_2__Population_increase_in_mid-2023_was_driven_mostly_by_net_international_migration.xls', 'winequality-white.csv', 'INE total and foreign population figures Spain.xlsx', 'monthly-milk-production-pounds.csv', 'ONS_Figure_01_Long_term_emigration_immigration_net_migration.xlsx', 'ONS_long_term_immigration_end2024.xlsx', '01 INE resident population by nationality Spain and CV 2002 2024.xlsx']\n"
     ]
    }
   ],
   "source": [
    "data_folder = os.path.join('/home','pablo','Documents','Pablo_zorin','VS_Python_GitHub_Pablo_source','ML-using-Python','data')\n",
    "data_folder_contents = os.listdir(data_folder)\n",
    "print('data folder contents are:',data_folder_contents)"
   ]
  },
  {
   "cell_type": "code",
   "execution_count": 5,
   "id": "7fa56c5e",
   "metadata": {},
   "outputs": [
    {
     "name": "stdout",
     "output_type": "stream",
     "text": [
      "winequality-red.csv\n",
      "OCDE_countries_population_figures_1970_2022.csv\n",
      "all_wine_reset.csv\n",
      "AE_Attendances_TypeI_2010_2025.csv\n",
      "AE_Attendances_Aug2010_Mar_2025.csv\n",
      "AE_Attendances_2010_2024.csv\n",
      "Type_I_ATT_TEST.csv\n",
      "Type_I_ATT_TRAIN.csv\n",
      "winequality-white.csv\n",
      "monthly-milk-production-pounds.csv\n"
     ]
    }
   ],
   "source": [
    "# Check .csv files available in the /data sub-folder\n",
    "# I want to import .csv file \"data/AE_Attendances_Aug2010_Mar_2025.csv\"\n",
    "for files in os.listdir(data_folder):\n",
    "    if files.endswith('.csv'):\n",
    "        print(files)\n",
    "    else:\n",
    "        continue"
   ]
  },
  {
   "cell_type": "code",
   "execution_count": 7,
   "id": "7a712b94",
   "metadata": {},
   "outputs": [
    {
     "name": "stdout",
     "output_type": "stream",
     "text": [
      "AE_Attendances_Aug2010_Mar_2025.csv\n"
     ]
    }
   ],
   "source": [
    "# Searching specifically for 2025 data files\n",
    "for files in os.listdir(data_folder):\n",
    "    if files.endswith('Mar_2025.csv'):\n",
    "        print(files)\n",
    "    else:\n",
    "        continue"
   ]
  },
  {
   "cell_type": "markdown",
   "id": "f70e0231",
   "metadata": {},
   "source": [
    "## 3. Import .csv file into Python"
   ]
  },
  {
   "cell_type": "markdown",
   "id": "ea56cad8",
   "metadata": {},
   "source": [
    "In \"AE_Attendances_Aug2010_2025.csv\" file there is Period column that I need to parse it as Date colum, specifying it in the set of read_csv() arguments."
   ]
  },
  {
   "cell_type": "code",
   "execution_count": 9,
   "id": "dbb7cf83",
   "metadata": {},
   "outputs": [
    {
     "name": "stdout",
     "output_type": "stream",
     "text": [
      "<class 'pandas.core.frame.DataFrame'>\n",
      "RangeIndex: 176 entries, 0 to 175\n",
      "Data columns (total 4 columns):\n",
      " #   Column     Non-Null Count  Dtype         \n",
      "---  ------     --------------  -----         \n",
      " 0   Period     176 non-null    datetime64[ns]\n",
      " 1   Type1_ATT  176 non-null    int64         \n",
      " 2   Type2_ATT  176 non-null    int64         \n",
      " 3   Type3_ATT  176 non-null    int64         \n",
      "dtypes: datetime64[ns](1), int64(3)\n",
      "memory usage: 5.6 KB\n"
     ]
    }
   ],
   "source": [
    "Attendances_file = os.path.join('data','AE_Attendances_Aug2010_Mar_2025.csv')\n",
    "\n",
    "AE_data = pd.read_csv(Attendances_file,\n",
    "                      parse_dates=['Period'])\n",
    "AE_data.info()"
   ]
  },
  {
   "cell_type": "code",
   "execution_count": 10,
   "id": "65381570",
   "metadata": {},
   "outputs": [
    {
     "data": {
      "application/vnd.microsoft.datawrangler.viewer.v0+json": {
       "columns": [
        {
         "name": "index",
         "rawType": "int64",
         "type": "integer"
        },
        {
         "name": "Period",
         "rawType": "datetime64[ns]",
         "type": "datetime"
        },
        {
         "name": "Type1_ATT",
         "rawType": "int64",
         "type": "integer"
        },
        {
         "name": "Type2_ATT",
         "rawType": "int64",
         "type": "integer"
        },
        {
         "name": "Type3_ATT",
         "rawType": "int64",
         "type": "integer"
        }
       ],
       "conversionMethod": "pd.DataFrame",
       "ref": "515a96e5-6c1c-4dea-a9ba-e4f00557a91b",
       "rows": [
        [
         "0",
         "2010-01-08 00:00:00",
         "1138652",
         "54371",
         "559358"
        ],
        [
         "1",
         "2010-01-09 00:00:00",
         "1150728",
         "55181",
         "550359"
        ],
        [
         "2",
         "2010-01-10 00:00:00",
         "1163143",
         "54961",
         "583244"
        ],
        [
         "3",
         "2010-01-11 00:00:00",
         "1111295",
         "53727",
         "486005"
        ],
        [
         "4",
         "2010-01-12 00:00:00",
         "1159204",
         "45536",
         "533001"
        ]
       ],
       "shape": {
        "columns": 4,
        "rows": 5
       }
      },
      "text/html": [
       "<div>\n",
       "<style scoped>\n",
       "    .dataframe tbody tr th:only-of-type {\n",
       "        vertical-align: middle;\n",
       "    }\n",
       "\n",
       "    .dataframe tbody tr th {\n",
       "        vertical-align: top;\n",
       "    }\n",
       "\n",
       "    .dataframe thead th {\n",
       "        text-align: right;\n",
       "    }\n",
       "</style>\n",
       "<table border=\"1\" class=\"dataframe\">\n",
       "  <thead>\n",
       "    <tr style=\"text-align: right;\">\n",
       "      <th></th>\n",
       "      <th>Period</th>\n",
       "      <th>Type1_ATT</th>\n",
       "      <th>Type2_ATT</th>\n",
       "      <th>Type3_ATT</th>\n",
       "    </tr>\n",
       "  </thead>\n",
       "  <tbody>\n",
       "    <tr>\n",
       "      <th>0</th>\n",
       "      <td>2010-01-08</td>\n",
       "      <td>1138652</td>\n",
       "      <td>54371</td>\n",
       "      <td>559358</td>\n",
       "    </tr>\n",
       "    <tr>\n",
       "      <th>1</th>\n",
       "      <td>2010-01-09</td>\n",
       "      <td>1150728</td>\n",
       "      <td>55181</td>\n",
       "      <td>550359</td>\n",
       "    </tr>\n",
       "    <tr>\n",
       "      <th>2</th>\n",
       "      <td>2010-01-10</td>\n",
       "      <td>1163143</td>\n",
       "      <td>54961</td>\n",
       "      <td>583244</td>\n",
       "    </tr>\n",
       "    <tr>\n",
       "      <th>3</th>\n",
       "      <td>2010-01-11</td>\n",
       "      <td>1111295</td>\n",
       "      <td>53727</td>\n",
       "      <td>486005</td>\n",
       "    </tr>\n",
       "    <tr>\n",
       "      <th>4</th>\n",
       "      <td>2010-01-12</td>\n",
       "      <td>1159204</td>\n",
       "      <td>45536</td>\n",
       "      <td>533001</td>\n",
       "    </tr>\n",
       "  </tbody>\n",
       "</table>\n",
       "</div>"
      ],
      "text/plain": [
       "      Period  Type1_ATT  Type2_ATT  Type3_ATT\n",
       "0 2010-01-08    1138652      54371     559358\n",
       "1 2010-01-09    1150728      55181     550359\n",
       "2 2010-01-10    1163143      54961     583244\n",
       "3 2010-01-11    1111295      53727     486005\n",
       "4 2010-01-12    1159204      45536     533001"
      ]
     },
     "execution_count": 10,
     "metadata": {},
     "output_type": "execute_result"
    }
   ],
   "source": [
    "AE_data.head()"
   ]
  },
  {
   "cell_type": "markdown",
   "id": "6e129b83",
   "metadata": {},
   "source": [
    "## 4. Pivot data from Wide to Long to plot is in Seaborn"
   ]
  },
  {
   "cell_type": "markdown",
   "id": "ebf2a774",
   "metadata": {},
   "source": [
    "I need a single column called \"Type\" that will include the Attendances type as character variable. This will be used in the \"hue\" argument of the sns.lineplot() function to assign different colour to each type of Attendances (Type1,Type2,Type3) resulting in a three line chart."
   ]
  },
  {
   "cell_type": "code",
   "execution_count": 12,
   "id": "59be5c84",
   "metadata": {},
   "outputs": [
    {
     "data": {
      "text/plain": [
       "Index(['Period', 'Type1_ATT', 'Type2_ATT', 'Type3_ATT'], dtype='object')"
      ]
     },
     "execution_count": 12,
     "metadata": {},
     "output_type": "execute_result"
    }
   ],
   "source": [
    "AE_data.columns"
   ]
  },
  {
   "cell_type": "code",
   "execution_count": 14,
   "id": "04f74a24",
   "metadata": {},
   "outputs": [
    {
     "data": {
      "application/vnd.microsoft.datawrangler.viewer.v0+json": {
       "columns": [
        {
         "name": "index",
         "rawType": "int64",
         "type": "integer"
        },
        {
         "name": "Period",
         "rawType": "datetime64[ns]",
         "type": "datetime"
        },
        {
         "name": "variable",
         "rawType": "object",
         "type": "string"
        },
        {
         "name": "value",
         "rawType": "int64",
         "type": "integer"
        }
       ],
       "conversionMethod": "pd.DataFrame",
       "ref": "a4066dce-2d21-4b29-90ac-b3b67ffbc570",
       "rows": [
        [
         "0",
         "2010-01-08 00:00:00",
         "Type1_ATT",
         "1138652"
        ],
        [
         "1",
         "2010-01-09 00:00:00",
         "Type1_ATT",
         "1150728"
        ],
        [
         "2",
         "2010-01-10 00:00:00",
         "Type1_ATT",
         "1163143"
        ],
        [
         "3",
         "2010-01-11 00:00:00",
         "Type1_ATT",
         "1111295"
        ],
        [
         "4",
         "2010-01-12 00:00:00",
         "Type1_ATT",
         "1159204"
        ]
       ],
       "shape": {
        "columns": 3,
        "rows": 5
       }
      },
      "text/html": [
       "<div>\n",
       "<style scoped>\n",
       "    .dataframe tbody tr th:only-of-type {\n",
       "        vertical-align: middle;\n",
       "    }\n",
       "\n",
       "    .dataframe tbody tr th {\n",
       "        vertical-align: top;\n",
       "    }\n",
       "\n",
       "    .dataframe thead th {\n",
       "        text-align: right;\n",
       "    }\n",
       "</style>\n",
       "<table border=\"1\" class=\"dataframe\">\n",
       "  <thead>\n",
       "    <tr style=\"text-align: right;\">\n",
       "      <th></th>\n",
       "      <th>Period</th>\n",
       "      <th>variable</th>\n",
       "      <th>value</th>\n",
       "    </tr>\n",
       "  </thead>\n",
       "  <tbody>\n",
       "    <tr>\n",
       "      <th>0</th>\n",
       "      <td>2010-01-08</td>\n",
       "      <td>Type1_ATT</td>\n",
       "      <td>1138652</td>\n",
       "    </tr>\n",
       "    <tr>\n",
       "      <th>1</th>\n",
       "      <td>2010-01-09</td>\n",
       "      <td>Type1_ATT</td>\n",
       "      <td>1150728</td>\n",
       "    </tr>\n",
       "    <tr>\n",
       "      <th>2</th>\n",
       "      <td>2010-01-10</td>\n",
       "      <td>Type1_ATT</td>\n",
       "      <td>1163143</td>\n",
       "    </tr>\n",
       "    <tr>\n",
       "      <th>3</th>\n",
       "      <td>2010-01-11</td>\n",
       "      <td>Type1_ATT</td>\n",
       "      <td>1111295</td>\n",
       "    </tr>\n",
       "    <tr>\n",
       "      <th>4</th>\n",
       "      <td>2010-01-12</td>\n",
       "      <td>Type1_ATT</td>\n",
       "      <td>1159204</td>\n",
       "    </tr>\n",
       "  </tbody>\n",
       "</table>\n",
       "</div>"
      ],
      "text/plain": [
       "      Period   variable    value\n",
       "0 2010-01-08  Type1_ATT  1138652\n",
       "1 2010-01-09  Type1_ATT  1150728\n",
       "2 2010-01-10  Type1_ATT  1163143\n",
       "3 2010-01-11  Type1_ATT  1111295\n",
       "4 2010-01-12  Type1_ATT  1159204"
      ]
     },
     "execution_count": 14,
     "metadata": {},
     "output_type": "execute_result"
    }
   ],
   "source": [
    "AE_data_long = AE_data.melt(id_vars = 'Period',\n",
    "    value_vars = ['Type1_ATT','Type2_ATT','Type3_ATT'] \n",
    ")\n",
    "AE_data_long.head()"
   ]
  }
 ],
 "metadata": {
  "kernelspec": {
   "display_name": "Python 3",
   "language": "python",
   "name": "python3"
  },
  "language_info": {
   "codemirror_mode": {
    "name": "ipython",
    "version": 3
   },
   "file_extension": ".py",
   "mimetype": "text/x-python",
   "name": "python",
   "nbconvert_exporter": "python",
   "pygments_lexer": "ipython3",
   "version": "3.12.10"
  }
 },
 "nbformat": 4,
 "nbformat_minor": 5
}
