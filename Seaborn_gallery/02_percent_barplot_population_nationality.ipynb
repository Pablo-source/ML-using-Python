{
 "cells": [
  {
   "cell_type": "markdown",
   "metadata": {},
   "source": [
    "## Stacked and percent barplots "
   ]
  },
  {
   "cell_type": "markdown",
   "metadata": {},
   "source": [
    "This notebook will contain examples of stakced and percent barplots created using Seaborn. Plots data used will be INE (Spanish National Institute) Spanish Office of National statistics demographic time series indicators such as total population and population by nationality as of 1st January and also by foreign population by country of birth."
   ]
  },
  {
   "cell_type": "code",
   "execution_count": 39,
   "metadata": {},
   "outputs": [],
   "source": [
    "# 1. Load required libraries\n",
    "import pandas as pd\n",
    "import os"
   ]
  },
  {
   "cell_type": "markdown",
   "metadata": {},
   "source": [
    "We will use this website as a reference to  start creating our stakced barplots in Seaborn"
   ]
  },
  {
   "cell_type": "markdown",
   "metadata": {},
   "source": [
    "<https://python-graph-gallery.com/stacked-and-percent-stacked-barplot/>"
   ]
  },
  {
   "cell_type": "markdown",
   "metadata": {},
   "source": [
    "### 1. Build path to project folder"
   ]
  },
  {
   "cell_type": "markdown",
   "metadata": {},
   "source": [
    "- Get current working directory and path to project folder"
   ]
  },
  {
   "cell_type": "code",
   "execution_count": 40,
   "metadata": {},
   "outputs": [
    {
     "name": "stdout",
     "output_type": "stream",
     "text": [
      "My working directory is: /home/pablo/Documents/Pablo_zorin/VS_Python_GitHub_Pablo_source/ML-using-Python\n"
     ]
    }
   ],
   "source": [
    "# Get current working directory\n",
    "my_wd = os.getcwd()\n",
    "print(\"My working directory is:\",my_wd)\n",
    "\n",
    "# 1. List files in \\data folder to identify Excel file to be imported into Python \n",
    "new_wd_ML_using_python = os.path.join(\"/home\",\"pablo\",\"Documents\",\"Pablo_zorin\",\"VS_Python_GitHub_Pablo_source\",\"ML-using-Python\")\n",
    "\n",
    "# 2.change existing working directory to ML-using-Python folder to access Excel file located in \\data folder\n",
    "os.chdir(new_wd_ML_using_python)"
   ]
  },
  {
   "cell_type": "code",
   "execution_count": 41,
   "metadata": {},
   "outputs": [
    {
     "name": "stdout",
     "output_type": "stream",
     "text": [
      "Changed working directory to: /home/pablo/Documents/Pablo_zorin/VS_Python_GitHub_Pablo_source/ML-using-Python\n"
     ]
    }
   ],
   "source": [
    "new_wd = os.getcwd()\n",
    "print(\"Changed working directory to:\",new_wd)"
   ]
  },
  {
   "cell_type": "markdown",
   "metadata": {},
   "source": [
    "### 2. Build path to Exel file to be imported from \\data sub-folder"
   ]
  },
  {
   "cell_type": "markdown",
   "metadata": {},
   "source": [
    "- First we check the contents in our data folder to find Excel file to import into Python"
   ]
  },
  {
   "cell_type": "code",
   "execution_count": 42,
   "metadata": {},
   "outputs": [
    {
     "name": "stdout",
     "output_type": "stream",
     "text": [
      "data folder contents: ['wine_quality.zip', 'winequality.names', 'Monthly-AE-Time-Series-January-2024.xls', 'INE Resident population country of birth Spain.xlsx', 'AE_Time_Series_Data_website.txt', 'winequality-red.csv', 'OCDE_countries_population_figures_1970_2022.csv', 'all_wine_reset.csv', '02 INE Spain CV population stocks and flows 2002 2025.xlsx', 'AE_Attendances_2010_2024.csv', 'ONS_Figure_2__Population_increase_in_mid-2023_was_driven_mostly_by_net_international_migration.xls', 'winequality-white.csv', 'INE total and foreign population figures Spain.xlsx', 'monthly-milk-production-pounds.csv', 'ONS_Figure_01_Long_term_emigration_immigration_net_migration.xlsx', 'ONS_long_term_immigration_end2024.xlsx', '01 INE resident population by nationality Spain and CV 2002 2024.xlsx']\n"
     ]
    }
   ],
   "source": [
    "# 3. Build path to Exel file to be imported from \\data sub-folder\n",
    "data_folder = os.path.join(\"/home\",\"pablo\",\"Documents\",\"Pablo_zorin\",\"VS_Python_GitHub_Pablo_source\",\"ML-using-Python\",\n",
    "                           'data')\n",
    "data_folder_contents = os.listdir(data_folder)\n",
    "print('data folder contents:',data_folder_contents)\n",
    "\n"
   ]
  },
  {
   "cell_type": "markdown",
   "metadata": {},
   "source": [
    "- Then we build path to Excel file we will load in Python using Pandas "
   ]
  },
  {
   "cell_type": "code",
   "execution_count": 43,
   "metadata": {},
   "outputs": [
    {
     "name": "stdout",
     "output_type": "stream",
     "text": [
      "ÍNE_population_nationality: data/INE total and foreign population figures Spain.xlsx\n"
     ]
    }
   ],
   "source": [
    "# 3.1 Build  path to Excel file location\n",
    "ine_population_nationality = os.path.join('data','INE total and foreign population figures Spain.xlsx')\n",
    "print('ÍNE_population_nationality:',ine_population_nationality)\n"
   ]
  },
  {
   "cell_type": "markdown",
   "metadata": {},
   "source": [
    "### 3. Import Excel file into Python "
   ]
  },
  {
   "cell_type": "markdown",
   "metadata": {},
   "source": [
    "Get individual tab names from previous \"INE total and foreign population figures Spain.xlsx\" file"
   ]
  },
  {
   "cell_type": "code",
   "execution_count": 44,
   "metadata": {},
   "outputs": [
    {
     "data": {
      "text/plain": [
       "['INE_Foreign_population',\n",
       " 'INE_Total_population',\n",
       " 'INE_Total_foreign_population']"
      ]
     },
     "execution_count": 44,
     "metadata": {},
     "output_type": "execute_result"
    }
   ],
   "source": [
    "my_excel_file = pd.ExcelFile(ine_population_nationality)\n",
    "\n",
    "my_excel_file.sheet_names  # see all sheet names"
   ]
  },
  {
   "cell_type": "code",
   "execution_count": 45,
   "metadata": {},
   "outputs": [
    {
     "data": {
      "application/vnd.microsoft.datawrangler.viewer.v0+json": {
       "columns": [
        {
         "name": "index",
         "rawType": "int64",
         "type": "integer"
        },
        {
         "name": "Todas las edades",
         "rawType": "object",
         "type": "string"
        },
        {
         "name": "Total",
         "rawType": "object",
         "type": "unknown"
        },
        {
         "name": "Foreign population",
         "rawType": "float64",
         "type": "float"
        },
        {
         "name": "% Foreign Nationals/Total population",
         "rawType": "float64",
         "type": "float"
        },
        {
         "name": "Total YoY(N)",
         "rawType": "float64",
         "type": "float"
        },
        {
         "name": "Total YoY)(%)",
         "rawType": "float64",
         "type": "float"
        },
        {
         "name": "Foreign Nationals YoY(N)",
         "rawType": "float64",
         "type": "float"
        },
        {
         "name": "Foreign Total YoY)(%)",
         "rawType": "float64",
         "type": "float"
        }
       ],
       "conversionMethod": "pd.DataFrame",
       "ref": "e5af7f9e-d053-4494-ae99-f1a7f4d02508",
       "rows": [
        [
         "0",
         "1 de enero de 2025",
         "49077984",
         "6852348.0",
         "0.139621627489833",
         null,
         null,
         null,
         null
        ],
        [
         "1",
         "1 de enero de 2024",
         "48619695",
         "6502282.0",
         "0.133737613944308",
         "458289.0",
         "0.00942599495945008",
         "350066.0",
         "0.0538374066212447"
        ],
        [
         "2",
         "1 de enero de 2023",
         "48085361",
         "6089620.0",
         "0.1266418692375",
         "534334.0",
         "0.0111121969116547",
         "412662.0",
         "0.0677648194797048"
        ],
        [
         "3",
         "1 de enero de 2022",
         "47486727",
         "5509046.0",
         "0.116012333298945",
         "598634.0",
         "0.0126063436631461",
         "580574.0",
         "0.105385578555706"
        ],
        [
         "4",
         "1 de enero de 2021",
         "47400798",
         "5402702.0",
         "0.11397913596307",
         "85929.0",
         "0.00181281758167869",
         "106344.0",
         "0.0196834843010035"
        ]
       ],
       "shape": {
        "columns": 8,
        "rows": 5
       }
      },
      "text/html": [
       "<div>\n",
       "<style scoped>\n",
       "    .dataframe tbody tr th:only-of-type {\n",
       "        vertical-align: middle;\n",
       "    }\n",
       "\n",
       "    .dataframe tbody tr th {\n",
       "        vertical-align: top;\n",
       "    }\n",
       "\n",
       "    .dataframe thead th {\n",
       "        text-align: right;\n",
       "    }\n",
       "</style>\n",
       "<table border=\"1\" class=\"dataframe\">\n",
       "  <thead>\n",
       "    <tr style=\"text-align: right;\">\n",
       "      <th></th>\n",
       "      <th>Todas las edades</th>\n",
       "      <th>Total</th>\n",
       "      <th>Foreign population</th>\n",
       "      <th>% Foreign Nationals/Total population</th>\n",
       "      <th>Total YoY(N)</th>\n",
       "      <th>Total YoY)(%)</th>\n",
       "      <th>Foreign Nationals YoY(N)</th>\n",
       "      <th>Foreign Total YoY)(%)</th>\n",
       "    </tr>\n",
       "  </thead>\n",
       "  <tbody>\n",
       "    <tr>\n",
       "      <th>0</th>\n",
       "      <td>1 de enero de 2025</td>\n",
       "      <td>49077984</td>\n",
       "      <td>6852348.0</td>\n",
       "      <td>0.139622</td>\n",
       "      <td>NaN</td>\n",
       "      <td>NaN</td>\n",
       "      <td>NaN</td>\n",
       "      <td>NaN</td>\n",
       "    </tr>\n",
       "    <tr>\n",
       "      <th>1</th>\n",
       "      <td>1 de enero de 2024</td>\n",
       "      <td>48619695</td>\n",
       "      <td>6502282.0</td>\n",
       "      <td>0.133738</td>\n",
       "      <td>458289.0</td>\n",
       "      <td>0.009426</td>\n",
       "      <td>350066.0</td>\n",
       "      <td>0.053837</td>\n",
       "    </tr>\n",
       "    <tr>\n",
       "      <th>2</th>\n",
       "      <td>1 de enero de 2023</td>\n",
       "      <td>48085361</td>\n",
       "      <td>6089620.0</td>\n",
       "      <td>0.126642</td>\n",
       "      <td>534334.0</td>\n",
       "      <td>0.011112</td>\n",
       "      <td>412662.0</td>\n",
       "      <td>0.067765</td>\n",
       "    </tr>\n",
       "    <tr>\n",
       "      <th>3</th>\n",
       "      <td>1 de enero de 2022</td>\n",
       "      <td>47486727</td>\n",
       "      <td>5509046.0</td>\n",
       "      <td>0.116012</td>\n",
       "      <td>598634.0</td>\n",
       "      <td>0.012606</td>\n",
       "      <td>580574.0</td>\n",
       "      <td>0.105386</td>\n",
       "    </tr>\n",
       "    <tr>\n",
       "      <th>4</th>\n",
       "      <td>1 de enero de 2021</td>\n",
       "      <td>47400798</td>\n",
       "      <td>5402702.0</td>\n",
       "      <td>0.113979</td>\n",
       "      <td>85929.0</td>\n",
       "      <td>0.001813</td>\n",
       "      <td>106344.0</td>\n",
       "      <td>0.019683</td>\n",
       "    </tr>\n",
       "  </tbody>\n",
       "</table>\n",
       "</div>"
      ],
      "text/plain": [
       "     Todas las edades     Total  Foreign population  \\\n",
       "0  1 de enero de 2025  49077984           6852348.0   \n",
       "1  1 de enero de 2024  48619695           6502282.0   \n",
       "2  1 de enero de 2023  48085361           6089620.0   \n",
       "3  1 de enero de 2022  47486727           5509046.0   \n",
       "4  1 de enero de 2021  47400798           5402702.0   \n",
       "\n",
       "   % Foreign Nationals/Total population  Total YoY(N)  Total YoY)(%)  \\\n",
       "0                              0.139622           NaN            NaN   \n",
       "1                              0.133738      458289.0       0.009426   \n",
       "2                              0.126642      534334.0       0.011112   \n",
       "3                              0.116012      598634.0       0.012606   \n",
       "4                              0.113979       85929.0       0.001813   \n",
       "\n",
       "   Foreign Nationals YoY(N)  Foreign Total YoY)(%)  \n",
       "0                       NaN                    NaN  \n",
       "1                  350066.0               0.053837  \n",
       "2                  412662.0               0.067765  \n",
       "3                  580574.0               0.105386  \n",
       "4                  106344.0               0.019683  "
      ]
     },
     "execution_count": 45,
     "metadata": {},
     "output_type": "execute_result"
    }
   ],
   "source": [
    "INEdata = pd.read_excel(ine_population_nationality,\n",
    "                                  sheet_name = 'INE_Total_foreign_population',\n",
    "                                  skiprows= 2\n",
    "                                )\n",
    "INEdata.head()"
   ]
  },
  {
   "cell_type": "markdown",
   "metadata": {},
   "source": [
    "- Keep only first 20 rows to skip footnotes"
   ]
  },
  {
   "cell_type": "code",
   "execution_count": 46,
   "metadata": {},
   "outputs": [],
   "source": [
    "INE_data_clean = INEdata.head(20)\n"
   ]
  },
  {
   "cell_type": "code",
   "execution_count": 47,
   "metadata": {},
   "outputs": [
    {
     "data": {
      "application/vnd.microsoft.datawrangler.viewer.v0+json": {
       "columns": [
        {
         "name": "index",
         "rawType": "int64",
         "type": "integer"
        },
        {
         "name": "Todas las edades",
         "rawType": "object",
         "type": "string"
        },
        {
         "name": "Total",
         "rawType": "object",
         "type": "unknown"
        },
        {
         "name": "Foreign population",
         "rawType": "float64",
         "type": "float"
        },
        {
         "name": "% Foreign Nationals/Total population",
         "rawType": "float64",
         "type": "float"
        },
        {
         "name": "Total YoY(N)",
         "rawType": "float64",
         "type": "float"
        },
        {
         "name": "Total YoY)(%)",
         "rawType": "float64",
         "type": "float"
        },
        {
         "name": "Foreign Nationals YoY(N)",
         "rawType": "float64",
         "type": "float"
        },
        {
         "name": "Foreign Total YoY)(%)",
         "rawType": "float64",
         "type": "float"
        }
       ],
       "conversionMethod": "pd.DataFrame",
       "ref": "f08a3d85-cf06-40a6-bdb3-bae3fbbb42ac",
       "rows": [
        [
         "0",
         "1 de enero de 2025",
         "49077984",
         "6852348.0",
         "0.139621627489833",
         null,
         null,
         null,
         null
        ],
        [
         "1",
         "1 de enero de 2024",
         "48619695",
         "6502282.0",
         "0.133737613944308",
         "458289.0",
         "0.00942599495945008",
         "350066.0",
         "0.0538374066212447"
        ],
        [
         "2",
         "1 de enero de 2023",
         "48085361",
         "6089620.0",
         "0.1266418692375",
         "534334.0",
         "0.0111121969116547",
         "412662.0",
         "0.0677648194797048"
        ],
        [
         "3",
         "1 de enero de 2022",
         "47486727",
         "5509046.0",
         "0.116012333298945",
         "598634.0",
         "0.0126063436631461",
         "580574.0",
         "0.105385578555706"
        ],
        [
         "4",
         "1 de enero de 2021",
         "47400798",
         "5402702.0",
         "0.11397913596307",
         "85929.0",
         "0.00181281758167869",
         "106344.0",
         "0.0196834843010035"
        ],
        [
         "5",
         "1 de enero de 2020",
         "47318050",
         "5241278.0",
         "0.110766990609292",
         "82748.0",
         "0.00174876183612807",
         "161424.0",
         "0.0307985953044277"
        ],
        [
         "6",
         "1 de enero de 2019",
         "46918951",
         "4850762.0",
         "0.10338598576085",
         "399099.0",
         "0.00850613646498618",
         "390516.0",
         "0.0805061142970939"
        ],
        [
         "7",
         "1 de enero de 2018",
         "46645070",
         "4577322.0",
         "0.0981308850002798",
         "273881.0",
         "0.00587159586211362",
         "273440.0",
         "0.0597379865344846"
        ],
        [
         "8",
         "1 de enero de 2017",
         "46497393",
         "4417653.0",
         "0.0950086169347172",
         "147677.0",
         "0.00317602752481198",
         "159669.0",
         "0.0361434001267189"
        ],
        [
         "9",
         "1 de enero de 2016",
         "46418884",
         "4419334.0",
         "0.0952055202361177",
         "78509.0",
         "0.00169131597390407",
         "-1681.0",
         "-0.000380374056362339"
        ],
        [
         "10",
         "1 de enero de 2015",
         "46425722",
         "4453985.0",
         "0.0959378725440177",
         "-6838.0",
         "-0.00014728903946825",
         "-34651.0",
         "-0.0077797747410465"
        ],
        [
         "11",
         "1 de enero de 2014",
         "46495744",
         "4676352.0",
         "0.100575915077303",
         "-70022.0",
         "-0.00150598730068713",
         "-222367.0",
         "-0.0475513819318991"
        ],
        [
         "12",
         "1 de enero de 2013",
         "46712650",
         "5064584.0",
         "0.108419967610487",
         "-216906.0",
         "-0.00464341029678256",
         "-388232.0",
         "-0.0766562465939947"
        ],
        [
         "13",
         "1 de enero de 2012",
         "46818216",
         "5236030.0",
         "0.111837452328384",
         "-105566.0",
         "-0.00225480612076291",
         "-171446.0",
         "-0.0327435098729381"
        ],
        [
         "14",
         "1 de enero de 2011",
         "46667175",
         "5312440.0",
         "0.113836759992436",
         "151041.0",
         "0.00323655760178327",
         "-76410.0",
         "-0.0143832212693226"
        ],
        [
         "15",
         "1 de enero de 2010",
         "46486621",
         "5402579.0",
         "0.116217932897295",
         "180554.0",
         "0.00388399922635805",
         "-90139.0",
         "-0.016684439042909"
        ],
        [
         "16",
         "1 de enero de 2009",
         "46239271",
         "5386659.0",
         "0.116495327099772",
         "247350.0",
         "0.00534934904142412",
         "15920.0",
         "0.00295544975094952"
        ],
        [
         "17",
         "1 de enero de 2008",
         "45668938",
         "5086295.0",
         "0.111373183234521",
         "570333.0",
         "0.0124884226561169",
         "300364.0",
         "0.0590535940207951"
        ],
        [
         "18",
         "1 de enero de 2007",
         "44784659",
         "4449434.0",
         "0.0993517445337699",
         "884279.0",
         "0.0197451319211786",
         "636861.0",
         "0.143133036696353"
        ],
        [
         "19",
         "1 de enero de 2006",
         "44009969",
         "3930916.0",
         "0.0893187632102172",
         "774690.0",
         "0.0176026027193975",
         "518518.0",
         "0.131907677498069"
        ]
       ],
       "shape": {
        "columns": 8,
        "rows": 20
       }
      },
      "text/html": [
       "<div>\n",
       "<style scoped>\n",
       "    .dataframe tbody tr th:only-of-type {\n",
       "        vertical-align: middle;\n",
       "    }\n",
       "\n",
       "    .dataframe tbody tr th {\n",
       "        vertical-align: top;\n",
       "    }\n",
       "\n",
       "    .dataframe thead th {\n",
       "        text-align: right;\n",
       "    }\n",
       "</style>\n",
       "<table border=\"1\" class=\"dataframe\">\n",
       "  <thead>\n",
       "    <tr style=\"text-align: right;\">\n",
       "      <th></th>\n",
       "      <th>Todas las edades</th>\n",
       "      <th>Total</th>\n",
       "      <th>Foreign population</th>\n",
       "      <th>% Foreign Nationals/Total population</th>\n",
       "      <th>Total YoY(N)</th>\n",
       "      <th>Total YoY)(%)</th>\n",
       "      <th>Foreign Nationals YoY(N)</th>\n",
       "      <th>Foreign Total YoY)(%)</th>\n",
       "    </tr>\n",
       "  </thead>\n",
       "  <tbody>\n",
       "    <tr>\n",
       "      <th>0</th>\n",
       "      <td>1 de enero de 2025</td>\n",
       "      <td>49077984</td>\n",
       "      <td>6852348.0</td>\n",
       "      <td>0.139622</td>\n",
       "      <td>NaN</td>\n",
       "      <td>NaN</td>\n",
       "      <td>NaN</td>\n",
       "      <td>NaN</td>\n",
       "    </tr>\n",
       "    <tr>\n",
       "      <th>1</th>\n",
       "      <td>1 de enero de 2024</td>\n",
       "      <td>48619695</td>\n",
       "      <td>6502282.0</td>\n",
       "      <td>0.133738</td>\n",
       "      <td>458289.0</td>\n",
       "      <td>0.009426</td>\n",
       "      <td>350066.0</td>\n",
       "      <td>0.053837</td>\n",
       "    </tr>\n",
       "    <tr>\n",
       "      <th>2</th>\n",
       "      <td>1 de enero de 2023</td>\n",
       "      <td>48085361</td>\n",
       "      <td>6089620.0</td>\n",
       "      <td>0.126642</td>\n",
       "      <td>534334.0</td>\n",
       "      <td>0.011112</td>\n",
       "      <td>412662.0</td>\n",
       "      <td>0.067765</td>\n",
       "    </tr>\n",
       "    <tr>\n",
       "      <th>3</th>\n",
       "      <td>1 de enero de 2022</td>\n",
       "      <td>47486727</td>\n",
       "      <td>5509046.0</td>\n",
       "      <td>0.116012</td>\n",
       "      <td>598634.0</td>\n",
       "      <td>0.012606</td>\n",
       "      <td>580574.0</td>\n",
       "      <td>0.105386</td>\n",
       "    </tr>\n",
       "    <tr>\n",
       "      <th>4</th>\n",
       "      <td>1 de enero de 2021</td>\n",
       "      <td>47400798</td>\n",
       "      <td>5402702.0</td>\n",
       "      <td>0.113979</td>\n",
       "      <td>85929.0</td>\n",
       "      <td>0.001813</td>\n",
       "      <td>106344.0</td>\n",
       "      <td>0.019683</td>\n",
       "    </tr>\n",
       "    <tr>\n",
       "      <th>5</th>\n",
       "      <td>1 de enero de 2020</td>\n",
       "      <td>47318050</td>\n",
       "      <td>5241278.0</td>\n",
       "      <td>0.110767</td>\n",
       "      <td>82748.0</td>\n",
       "      <td>0.001749</td>\n",
       "      <td>161424.0</td>\n",
       "      <td>0.030799</td>\n",
       "    </tr>\n",
       "    <tr>\n",
       "      <th>6</th>\n",
       "      <td>1 de enero de 2019</td>\n",
       "      <td>46918951</td>\n",
       "      <td>4850762.0</td>\n",
       "      <td>0.103386</td>\n",
       "      <td>399099.0</td>\n",
       "      <td>0.008506</td>\n",
       "      <td>390516.0</td>\n",
       "      <td>0.080506</td>\n",
       "    </tr>\n",
       "    <tr>\n",
       "      <th>7</th>\n",
       "      <td>1 de enero de 2018</td>\n",
       "      <td>46645070</td>\n",
       "      <td>4577322.0</td>\n",
       "      <td>0.098131</td>\n",
       "      <td>273881.0</td>\n",
       "      <td>0.005872</td>\n",
       "      <td>273440.0</td>\n",
       "      <td>0.059738</td>\n",
       "    </tr>\n",
       "    <tr>\n",
       "      <th>8</th>\n",
       "      <td>1 de enero de 2017</td>\n",
       "      <td>46497393</td>\n",
       "      <td>4417653.0</td>\n",
       "      <td>0.095009</td>\n",
       "      <td>147677.0</td>\n",
       "      <td>0.003176</td>\n",
       "      <td>159669.0</td>\n",
       "      <td>0.036143</td>\n",
       "    </tr>\n",
       "    <tr>\n",
       "      <th>9</th>\n",
       "      <td>1 de enero de 2016</td>\n",
       "      <td>46418884</td>\n",
       "      <td>4419334.0</td>\n",
       "      <td>0.095206</td>\n",
       "      <td>78509.0</td>\n",
       "      <td>0.001691</td>\n",
       "      <td>-1681.0</td>\n",
       "      <td>-0.000380</td>\n",
       "    </tr>\n",
       "    <tr>\n",
       "      <th>10</th>\n",
       "      <td>1 de enero de 2015</td>\n",
       "      <td>46425722</td>\n",
       "      <td>4453985.0</td>\n",
       "      <td>0.095938</td>\n",
       "      <td>-6838.0</td>\n",
       "      <td>-0.000147</td>\n",
       "      <td>-34651.0</td>\n",
       "      <td>-0.007780</td>\n",
       "    </tr>\n",
       "    <tr>\n",
       "      <th>11</th>\n",
       "      <td>1 de enero de 2014</td>\n",
       "      <td>46495744</td>\n",
       "      <td>4676352.0</td>\n",
       "      <td>0.100576</td>\n",
       "      <td>-70022.0</td>\n",
       "      <td>-0.001506</td>\n",
       "      <td>-222367.0</td>\n",
       "      <td>-0.047551</td>\n",
       "    </tr>\n",
       "    <tr>\n",
       "      <th>12</th>\n",
       "      <td>1 de enero de 2013</td>\n",
       "      <td>46712650</td>\n",
       "      <td>5064584.0</td>\n",
       "      <td>0.108420</td>\n",
       "      <td>-216906.0</td>\n",
       "      <td>-0.004643</td>\n",
       "      <td>-388232.0</td>\n",
       "      <td>-0.076656</td>\n",
       "    </tr>\n",
       "    <tr>\n",
       "      <th>13</th>\n",
       "      <td>1 de enero de 2012</td>\n",
       "      <td>46818216</td>\n",
       "      <td>5236030.0</td>\n",
       "      <td>0.111837</td>\n",
       "      <td>-105566.0</td>\n",
       "      <td>-0.002255</td>\n",
       "      <td>-171446.0</td>\n",
       "      <td>-0.032744</td>\n",
       "    </tr>\n",
       "    <tr>\n",
       "      <th>14</th>\n",
       "      <td>1 de enero de 2011</td>\n",
       "      <td>46667175</td>\n",
       "      <td>5312440.0</td>\n",
       "      <td>0.113837</td>\n",
       "      <td>151041.0</td>\n",
       "      <td>0.003237</td>\n",
       "      <td>-76410.0</td>\n",
       "      <td>-0.014383</td>\n",
       "    </tr>\n",
       "    <tr>\n",
       "      <th>15</th>\n",
       "      <td>1 de enero de 2010</td>\n",
       "      <td>46486621</td>\n",
       "      <td>5402579.0</td>\n",
       "      <td>0.116218</td>\n",
       "      <td>180554.0</td>\n",
       "      <td>0.003884</td>\n",
       "      <td>-90139.0</td>\n",
       "      <td>-0.016684</td>\n",
       "    </tr>\n",
       "    <tr>\n",
       "      <th>16</th>\n",
       "      <td>1 de enero de 2009</td>\n",
       "      <td>46239271</td>\n",
       "      <td>5386659.0</td>\n",
       "      <td>0.116495</td>\n",
       "      <td>247350.0</td>\n",
       "      <td>0.005349</td>\n",
       "      <td>15920.0</td>\n",
       "      <td>0.002955</td>\n",
       "    </tr>\n",
       "    <tr>\n",
       "      <th>17</th>\n",
       "      <td>1 de enero de 2008</td>\n",
       "      <td>45668938</td>\n",
       "      <td>5086295.0</td>\n",
       "      <td>0.111373</td>\n",
       "      <td>570333.0</td>\n",
       "      <td>0.012488</td>\n",
       "      <td>300364.0</td>\n",
       "      <td>0.059054</td>\n",
       "    </tr>\n",
       "    <tr>\n",
       "      <th>18</th>\n",
       "      <td>1 de enero de 2007</td>\n",
       "      <td>44784659</td>\n",
       "      <td>4449434.0</td>\n",
       "      <td>0.099352</td>\n",
       "      <td>884279.0</td>\n",
       "      <td>0.019745</td>\n",
       "      <td>636861.0</td>\n",
       "      <td>0.143133</td>\n",
       "    </tr>\n",
       "    <tr>\n",
       "      <th>19</th>\n",
       "      <td>1 de enero de 2006</td>\n",
       "      <td>44009969</td>\n",
       "      <td>3930916.0</td>\n",
       "      <td>0.089319</td>\n",
       "      <td>774690.0</td>\n",
       "      <td>0.017603</td>\n",
       "      <td>518518.0</td>\n",
       "      <td>0.131908</td>\n",
       "    </tr>\n",
       "  </tbody>\n",
       "</table>\n",
       "</div>"
      ],
      "text/plain": [
       "      Todas las edades     Total  Foreign population  \\\n",
       "0   1 de enero de 2025  49077984           6852348.0   \n",
       "1   1 de enero de 2024  48619695           6502282.0   \n",
       "2   1 de enero de 2023  48085361           6089620.0   \n",
       "3   1 de enero de 2022  47486727           5509046.0   \n",
       "4   1 de enero de 2021  47400798           5402702.0   \n",
       "5   1 de enero de 2020  47318050           5241278.0   \n",
       "6   1 de enero de 2019  46918951           4850762.0   \n",
       "7   1 de enero de 2018  46645070           4577322.0   \n",
       "8   1 de enero de 2017  46497393           4417653.0   \n",
       "9   1 de enero de 2016  46418884           4419334.0   \n",
       "10  1 de enero de 2015  46425722           4453985.0   \n",
       "11  1 de enero de 2014  46495744           4676352.0   \n",
       "12  1 de enero de 2013  46712650           5064584.0   \n",
       "13  1 de enero de 2012  46818216           5236030.0   \n",
       "14  1 de enero de 2011  46667175           5312440.0   \n",
       "15  1 de enero de 2010  46486621           5402579.0   \n",
       "16  1 de enero de 2009  46239271           5386659.0   \n",
       "17  1 de enero de 2008  45668938           5086295.0   \n",
       "18  1 de enero de 2007  44784659           4449434.0   \n",
       "19  1 de enero de 2006  44009969           3930916.0   \n",
       "\n",
       "    % Foreign Nationals/Total population  Total YoY(N)  Total YoY)(%)  \\\n",
       "0                               0.139622           NaN            NaN   \n",
       "1                               0.133738      458289.0       0.009426   \n",
       "2                               0.126642      534334.0       0.011112   \n",
       "3                               0.116012      598634.0       0.012606   \n",
       "4                               0.113979       85929.0       0.001813   \n",
       "5                               0.110767       82748.0       0.001749   \n",
       "6                               0.103386      399099.0       0.008506   \n",
       "7                               0.098131      273881.0       0.005872   \n",
       "8                               0.095009      147677.0       0.003176   \n",
       "9                               0.095206       78509.0       0.001691   \n",
       "10                              0.095938       -6838.0      -0.000147   \n",
       "11                              0.100576      -70022.0      -0.001506   \n",
       "12                              0.108420     -216906.0      -0.004643   \n",
       "13                              0.111837     -105566.0      -0.002255   \n",
       "14                              0.113837      151041.0       0.003237   \n",
       "15                              0.116218      180554.0       0.003884   \n",
       "16                              0.116495      247350.0       0.005349   \n",
       "17                              0.111373      570333.0       0.012488   \n",
       "18                              0.099352      884279.0       0.019745   \n",
       "19                              0.089319      774690.0       0.017603   \n",
       "\n",
       "    Foreign Nationals YoY(N)  Foreign Total YoY)(%)  \n",
       "0                        NaN                    NaN  \n",
       "1                   350066.0               0.053837  \n",
       "2                   412662.0               0.067765  \n",
       "3                   580574.0               0.105386  \n",
       "4                   106344.0               0.019683  \n",
       "5                   161424.0               0.030799  \n",
       "6                   390516.0               0.080506  \n",
       "7                   273440.0               0.059738  \n",
       "8                   159669.0               0.036143  \n",
       "9                    -1681.0              -0.000380  \n",
       "10                  -34651.0              -0.007780  \n",
       "11                 -222367.0              -0.047551  \n",
       "12                 -388232.0              -0.076656  \n",
       "13                 -171446.0              -0.032744  \n",
       "14                  -76410.0              -0.014383  \n",
       "15                  -90139.0              -0.016684  \n",
       "16                   15920.0               0.002955  \n",
       "17                  300364.0               0.059054  \n",
       "18                  636861.0               0.143133  \n",
       "19                  518518.0               0.131908  "
      ]
     },
     "execution_count": 47,
     "metadata": {},
     "output_type": "execute_result"
    }
   ],
   "source": [
    "INE_data_clean"
   ]
  },
  {
   "cell_type": "code",
   "execution_count": 48,
   "metadata": {},
   "outputs": [],
   "source": [
    "# Rename columns\n",
    "INE_data_clean.columns = ['Date','Total_population','Foreign_population','Percent_foreign_population',\n",
    "'Total population YoY(N)','Total population  YoY(%)','Foreign population YoY(N)','Foreign population  YoY(%)']"
   ]
  },
  {
   "cell_type": "markdown",
   "metadata": {},
   "source": [
    "- Start by subsetting previous data set keeping initial variables (Date,Total_population,Foreign_population), used to derive the rest of columns in INE_data dataframe"
   ]
  },
  {
   "cell_type": "code",
   "execution_count": 49,
   "metadata": {},
   "outputs": [
    {
     "data": {
      "application/vnd.microsoft.datawrangler.viewer.v0+json": {
       "columns": [
        {
         "name": "index",
         "rawType": "int64",
         "type": "integer"
        },
        {
         "name": "Date",
         "rawType": "object",
         "type": "string"
        },
        {
         "name": "Total_population",
         "rawType": "object",
         "type": "unknown"
        },
        {
         "name": "Foreign_population",
         "rawType": "float64",
         "type": "float"
        }
       ],
       "conversionMethod": "pd.DataFrame",
       "ref": "634f7955-7a6b-480e-a04d-1069e922e0cd",
       "rows": [
        [
         "0",
         "1 de enero de 2025",
         "49077984",
         "6852348.0"
        ],
        [
         "1",
         "1 de enero de 2024",
         "48619695",
         "6502282.0"
        ],
        [
         "2",
         "1 de enero de 2023",
         "48085361",
         "6089620.0"
        ],
        [
         "3",
         "1 de enero de 2022",
         "47486727",
         "5509046.0"
        ],
        [
         "4",
         "1 de enero de 2021",
         "47400798",
         "5402702.0"
        ]
       ],
       "shape": {
        "columns": 3,
        "rows": 5
       }
      },
      "text/html": [
       "<div>\n",
       "<style scoped>\n",
       "    .dataframe tbody tr th:only-of-type {\n",
       "        vertical-align: middle;\n",
       "    }\n",
       "\n",
       "    .dataframe tbody tr th {\n",
       "        vertical-align: top;\n",
       "    }\n",
       "\n",
       "    .dataframe thead th {\n",
       "        text-align: right;\n",
       "    }\n",
       "</style>\n",
       "<table border=\"1\" class=\"dataframe\">\n",
       "  <thead>\n",
       "    <tr style=\"text-align: right;\">\n",
       "      <th></th>\n",
       "      <th>Date</th>\n",
       "      <th>Total_population</th>\n",
       "      <th>Foreign_population</th>\n",
       "    </tr>\n",
       "  </thead>\n",
       "  <tbody>\n",
       "    <tr>\n",
       "      <th>0</th>\n",
       "      <td>1 de enero de 2025</td>\n",
       "      <td>49077984</td>\n",
       "      <td>6852348.0</td>\n",
       "    </tr>\n",
       "    <tr>\n",
       "      <th>1</th>\n",
       "      <td>1 de enero de 2024</td>\n",
       "      <td>48619695</td>\n",
       "      <td>6502282.0</td>\n",
       "    </tr>\n",
       "    <tr>\n",
       "      <th>2</th>\n",
       "      <td>1 de enero de 2023</td>\n",
       "      <td>48085361</td>\n",
       "      <td>6089620.0</td>\n",
       "    </tr>\n",
       "    <tr>\n",
       "      <th>3</th>\n",
       "      <td>1 de enero de 2022</td>\n",
       "      <td>47486727</td>\n",
       "      <td>5509046.0</td>\n",
       "    </tr>\n",
       "    <tr>\n",
       "      <th>4</th>\n",
       "      <td>1 de enero de 2021</td>\n",
       "      <td>47400798</td>\n",
       "      <td>5402702.0</td>\n",
       "    </tr>\n",
       "  </tbody>\n",
       "</table>\n",
       "</div>"
      ],
      "text/plain": [
       "                 Date Total_population  Foreign_population\n",
       "0  1 de enero de 2025         49077984           6852348.0\n",
       "1  1 de enero de 2024         48619695           6502282.0\n",
       "2  1 de enero de 2023         48085361           6089620.0\n",
       "3  1 de enero de 2022         47486727           5509046.0\n",
       "4  1 de enero de 2021         47400798           5402702.0"
      ]
     },
     "execution_count": 49,
     "metadata": {},
     "output_type": "execute_result"
    }
   ],
   "source": [
    "INE_total_foreign_population = INE_data_clean[['Date','Total_population','Foreign_population']]\n",
    "INE_total_foreign_population.head()"
   ]
  },
  {
   "cell_type": "markdown",
   "metadata": {},
   "source": [
    "### 4. Create new calculated fields "
   ]
  },
  {
   "cell_type": "code",
   "execution_count": 50,
   "metadata": {},
   "outputs": [
    {
     "name": "stdout",
     "output_type": "stream",
     "text": [
      "<class 'pandas.core.frame.DataFrame'>\n",
      "RangeIndex: 20 entries, 0 to 19\n",
      "Data columns (total 3 columns):\n",
      " #   Column              Non-Null Count  Dtype  \n",
      "---  ------              --------------  -----  \n",
      " 0   Date                20 non-null     object \n",
      " 1   Total_population    20 non-null     object \n",
      " 2   Foreign_population  20 non-null     float64\n",
      "dtypes: float64(1), object(2)\n",
      "memory usage: 612.0+ bytes\n"
     ]
    }
   ],
   "source": [
    "INE_total_foreign_population.info()"
   ]
  },
  {
   "cell_type": "markdown",
   "metadata": {},
   "source": [
    "#### 4.1 New column for year"
   ]
  },
  {
   "cell_type": "markdown",
   "metadata": {},
   "source": [
    "I can then modify this str[] parameter from str.strip() to slice four latest characters from Date column to obtain full year in YYYY format. I need to introduce [13:] to ensure I obtain a full year on my new Year variable"
   ]
  },
  {
   "cell_type": "code",
   "execution_count": 51,
   "metadata": {},
   "outputs": [
    {
     "name": "stderr",
     "output_type": "stream",
     "text": [
      "/tmp/ipykernel_449/2161791062.py:1: SettingWithCopyWarning: \n",
      "A value is trying to be set on a copy of a slice from a DataFrame.\n",
      "Try using .loc[row_indexer,col_indexer] = value instead\n",
      "\n",
      "See the caveats in the documentation: https://pandas.pydata.org/pandas-docs/stable/user_guide/indexing.html#returning-a-view-versus-a-copy\n",
      "  INE_total_foreign_population['Year']  = INE_total_foreign_population['Date'].str.strip().str[13:]\n"
     ]
    },
    {
     "data": {
      "application/vnd.microsoft.datawrangler.viewer.v0+json": {
       "columns": [
        {
         "name": "index",
         "rawType": "int64",
         "type": "integer"
        },
        {
         "name": "Date",
         "rawType": "object",
         "type": "string"
        },
        {
         "name": "Total_population",
         "rawType": "object",
         "type": "unknown"
        },
        {
         "name": "Foreign_population",
         "rawType": "float64",
         "type": "float"
        },
        {
         "name": "Year",
         "rawType": "object",
         "type": "string"
        }
       ],
       "conversionMethod": "pd.DataFrame",
       "ref": "536c80d2-f29f-47c5-a5f0-1941e5a15fd4",
       "rows": [
        [
         "0",
         "1 de enero de 2025",
         "49077984",
         "6852348.0",
         " 2025"
        ],
        [
         "1",
         "1 de enero de 2024",
         "48619695",
         "6502282.0",
         " 2024"
        ],
        [
         "2",
         "1 de enero de 2023",
         "48085361",
         "6089620.0",
         " 2023"
        ],
        [
         "3",
         "1 de enero de 2022",
         "47486727",
         "5509046.0",
         " 2022"
        ],
        [
         "4",
         "1 de enero de 2021",
         "47400798",
         "5402702.0",
         " 2021"
        ]
       ],
       "shape": {
        "columns": 4,
        "rows": 5
       }
      },
      "text/html": [
       "<div>\n",
       "<style scoped>\n",
       "    .dataframe tbody tr th:only-of-type {\n",
       "        vertical-align: middle;\n",
       "    }\n",
       "\n",
       "    .dataframe tbody tr th {\n",
       "        vertical-align: top;\n",
       "    }\n",
       "\n",
       "    .dataframe thead th {\n",
       "        text-align: right;\n",
       "    }\n",
       "</style>\n",
       "<table border=\"1\" class=\"dataframe\">\n",
       "  <thead>\n",
       "    <tr style=\"text-align: right;\">\n",
       "      <th></th>\n",
       "      <th>Date</th>\n",
       "      <th>Total_population</th>\n",
       "      <th>Foreign_population</th>\n",
       "      <th>Year</th>\n",
       "    </tr>\n",
       "  </thead>\n",
       "  <tbody>\n",
       "    <tr>\n",
       "      <th>0</th>\n",
       "      <td>1 de enero de 2025</td>\n",
       "      <td>49077984</td>\n",
       "      <td>6852348.0</td>\n",
       "      <td>2025</td>\n",
       "    </tr>\n",
       "    <tr>\n",
       "      <th>1</th>\n",
       "      <td>1 de enero de 2024</td>\n",
       "      <td>48619695</td>\n",
       "      <td>6502282.0</td>\n",
       "      <td>2024</td>\n",
       "    </tr>\n",
       "    <tr>\n",
       "      <th>2</th>\n",
       "      <td>1 de enero de 2023</td>\n",
       "      <td>48085361</td>\n",
       "      <td>6089620.0</td>\n",
       "      <td>2023</td>\n",
       "    </tr>\n",
       "    <tr>\n",
       "      <th>3</th>\n",
       "      <td>1 de enero de 2022</td>\n",
       "      <td>47486727</td>\n",
       "      <td>5509046.0</td>\n",
       "      <td>2022</td>\n",
       "    </tr>\n",
       "    <tr>\n",
       "      <th>4</th>\n",
       "      <td>1 de enero de 2021</td>\n",
       "      <td>47400798</td>\n",
       "      <td>5402702.0</td>\n",
       "      <td>2021</td>\n",
       "    </tr>\n",
       "  </tbody>\n",
       "</table>\n",
       "</div>"
      ],
      "text/plain": [
       "                 Date Total_population  Foreign_population   Year\n",
       "0  1 de enero de 2025         49077984           6852348.0   2025\n",
       "1  1 de enero de 2024         48619695           6502282.0   2024\n",
       "2  1 de enero de 2023         48085361           6089620.0   2023\n",
       "3  1 de enero de 2022         47486727           5509046.0   2022\n",
       "4  1 de enero de 2021         47400798           5402702.0   2021"
      ]
     },
     "execution_count": 51,
     "metadata": {},
     "output_type": "execute_result"
    }
   ],
   "source": [
    "INE_total_foreign_population['Year']  = INE_total_foreign_population['Date'].str.strip().str[13:]\n",
    "INE_total_foreign_population.head()"
   ]
  },
  {
   "cell_type": "markdown",
   "metadata": {},
   "source": [
    "#### 4.2 New column for Spanish nationals from total and foreign population figures"
   ]
  },
  {
   "cell_type": "markdown",
   "metadata": {},
   "source": [
    "We will compute Spanish nationals column substracting Foreign population to Total population obtaining total population split by spanish/foreign nationality"
   ]
  },
  {
   "cell_type": "markdown",
   "metadata": {},
   "source": [
    "First we duplicate our original dataframe using .copy() function "
   ]
  },
  {
   "cell_type": "code",
   "execution_count": 52,
   "metadata": {},
   "outputs": [
    {
     "data": {
      "application/vnd.microsoft.datawrangler.viewer.v0+json": {
       "columns": [
        {
         "name": "index",
         "rawType": "int64",
         "type": "integer"
        },
        {
         "name": "Date",
         "rawType": "object",
         "type": "string"
        },
        {
         "name": "Total_population",
         "rawType": "object",
         "type": "unknown"
        },
        {
         "name": "Foreign_population",
         "rawType": "float64",
         "type": "float"
        },
        {
         "name": "Year",
         "rawType": "object",
         "type": "string"
        }
       ],
       "conversionMethod": "pd.DataFrame",
       "ref": "6ae85b16-a5c9-42d8-ae61-86884796d24c",
       "rows": [
        [
         "0",
         "1 de enero de 2025",
         "49077984",
         "6852348.0",
         " 2025"
        ],
        [
         "1",
         "1 de enero de 2024",
         "48619695",
         "6502282.0",
         " 2024"
        ],
        [
         "2",
         "1 de enero de 2023",
         "48085361",
         "6089620.0",
         " 2023"
        ],
        [
         "3",
         "1 de enero de 2022",
         "47486727",
         "5509046.0",
         " 2022"
        ],
        [
         "4",
         "1 de enero de 2021",
         "47400798",
         "5402702.0",
         " 2021"
        ]
       ],
       "shape": {
        "columns": 4,
        "rows": 5
       }
      },
      "text/html": [
       "<div>\n",
       "<style scoped>\n",
       "    .dataframe tbody tr th:only-of-type {\n",
       "        vertical-align: middle;\n",
       "    }\n",
       "\n",
       "    .dataframe tbody tr th {\n",
       "        vertical-align: top;\n",
       "    }\n",
       "\n",
       "    .dataframe thead th {\n",
       "        text-align: right;\n",
       "    }\n",
       "</style>\n",
       "<table border=\"1\" class=\"dataframe\">\n",
       "  <thead>\n",
       "    <tr style=\"text-align: right;\">\n",
       "      <th></th>\n",
       "      <th>Date</th>\n",
       "      <th>Total_population</th>\n",
       "      <th>Foreign_population</th>\n",
       "      <th>Year</th>\n",
       "    </tr>\n",
       "  </thead>\n",
       "  <tbody>\n",
       "    <tr>\n",
       "      <th>0</th>\n",
       "      <td>1 de enero de 2025</td>\n",
       "      <td>49077984</td>\n",
       "      <td>6852348.0</td>\n",
       "      <td>2025</td>\n",
       "    </tr>\n",
       "    <tr>\n",
       "      <th>1</th>\n",
       "      <td>1 de enero de 2024</td>\n",
       "      <td>48619695</td>\n",
       "      <td>6502282.0</td>\n",
       "      <td>2024</td>\n",
       "    </tr>\n",
       "    <tr>\n",
       "      <th>2</th>\n",
       "      <td>1 de enero de 2023</td>\n",
       "      <td>48085361</td>\n",
       "      <td>6089620.0</td>\n",
       "      <td>2023</td>\n",
       "    </tr>\n",
       "    <tr>\n",
       "      <th>3</th>\n",
       "      <td>1 de enero de 2022</td>\n",
       "      <td>47486727</td>\n",
       "      <td>5509046.0</td>\n",
       "      <td>2022</td>\n",
       "    </tr>\n",
       "    <tr>\n",
       "      <th>4</th>\n",
       "      <td>1 de enero de 2021</td>\n",
       "      <td>47400798</td>\n",
       "      <td>5402702.0</td>\n",
       "      <td>2021</td>\n",
       "    </tr>\n",
       "  </tbody>\n",
       "</table>\n",
       "</div>"
      ],
      "text/plain": [
       "                 Date Total_population  Foreign_population   Year\n",
       "0  1 de enero de 2025         49077984           6852348.0   2025\n",
       "1  1 de enero de 2024         48619695           6502282.0   2024\n",
       "2  1 de enero de 2023         48085361           6089620.0   2023\n",
       "3  1 de enero de 2022         47486727           5509046.0   2022\n",
       "4  1 de enero de 2021         47400798           5402702.0   2021"
      ]
     },
     "execution_count": 52,
     "metadata": {},
     "output_type": "execute_result"
    }
   ],
   "source": [
    "INE_population_nationality = INE_total_foreign_population.copy()\n",
    "INE_population_nationality.head()"
   ]
  },
  {
   "cell_type": "markdown",
   "metadata": {},
   "source": [
    "Then we include our new Spanish nationals calculation from substracting Foreign_population to Total_population"
   ]
  },
  {
   "cell_type": "code",
   "execution_count": 53,
   "metadata": {},
   "outputs": [
    {
     "data": {
      "application/vnd.microsoft.datawrangler.viewer.v0+json": {
       "columns": [
        {
         "name": "index",
         "rawType": "int64",
         "type": "integer"
        },
        {
         "name": "Date",
         "rawType": "object",
         "type": "string"
        },
        {
         "name": "Total_population",
         "rawType": "object",
         "type": "unknown"
        },
        {
         "name": "Foreign_population",
         "rawType": "float64",
         "type": "float"
        },
        {
         "name": "Year",
         "rawType": "object",
         "type": "string"
        },
        {
         "name": "Spanish_nationals",
         "rawType": "object",
         "type": "unknown"
        }
       ],
       "conversionMethod": "pd.DataFrame",
       "ref": "ad968716-d6ce-404b-b082-673ba332b888",
       "rows": [
        [
         "0",
         "1 de enero de 2025",
         "49077984",
         "6852348.0",
         " 2025",
         "42225636.0"
        ],
        [
         "1",
         "1 de enero de 2024",
         "48619695",
         "6502282.0",
         " 2024",
         "42117413.0"
        ],
        [
         "2",
         "1 de enero de 2023",
         "48085361",
         "6089620.0",
         " 2023",
         "41995741.0"
        ],
        [
         "3",
         "1 de enero de 2022",
         "47486727",
         "5509046.0",
         " 2022",
         "41977681.0"
        ],
        [
         "4",
         "1 de enero de 2021",
         "47400798",
         "5402702.0",
         " 2021",
         "41998096.0"
        ]
       ],
       "shape": {
        "columns": 5,
        "rows": 5
       }
      },
      "text/html": [
       "<div>\n",
       "<style scoped>\n",
       "    .dataframe tbody tr th:only-of-type {\n",
       "        vertical-align: middle;\n",
       "    }\n",
       "\n",
       "    .dataframe tbody tr th {\n",
       "        vertical-align: top;\n",
       "    }\n",
       "\n",
       "    .dataframe thead th {\n",
       "        text-align: right;\n",
       "    }\n",
       "</style>\n",
       "<table border=\"1\" class=\"dataframe\">\n",
       "  <thead>\n",
       "    <tr style=\"text-align: right;\">\n",
       "      <th></th>\n",
       "      <th>Date</th>\n",
       "      <th>Total_population</th>\n",
       "      <th>Foreign_population</th>\n",
       "      <th>Year</th>\n",
       "      <th>Spanish_nationals</th>\n",
       "    </tr>\n",
       "  </thead>\n",
       "  <tbody>\n",
       "    <tr>\n",
       "      <th>0</th>\n",
       "      <td>1 de enero de 2025</td>\n",
       "      <td>49077984</td>\n",
       "      <td>6852348.0</td>\n",
       "      <td>2025</td>\n",
       "      <td>42225636.0</td>\n",
       "    </tr>\n",
       "    <tr>\n",
       "      <th>1</th>\n",
       "      <td>1 de enero de 2024</td>\n",
       "      <td>48619695</td>\n",
       "      <td>6502282.0</td>\n",
       "      <td>2024</td>\n",
       "      <td>42117413.0</td>\n",
       "    </tr>\n",
       "    <tr>\n",
       "      <th>2</th>\n",
       "      <td>1 de enero de 2023</td>\n",
       "      <td>48085361</td>\n",
       "      <td>6089620.0</td>\n",
       "      <td>2023</td>\n",
       "      <td>41995741.0</td>\n",
       "    </tr>\n",
       "    <tr>\n",
       "      <th>3</th>\n",
       "      <td>1 de enero de 2022</td>\n",
       "      <td>47486727</td>\n",
       "      <td>5509046.0</td>\n",
       "      <td>2022</td>\n",
       "      <td>41977681.0</td>\n",
       "    </tr>\n",
       "    <tr>\n",
       "      <th>4</th>\n",
       "      <td>1 de enero de 2021</td>\n",
       "      <td>47400798</td>\n",
       "      <td>5402702.0</td>\n",
       "      <td>2021</td>\n",
       "      <td>41998096.0</td>\n",
       "    </tr>\n",
       "  </tbody>\n",
       "</table>\n",
       "</div>"
      ],
      "text/plain": [
       "                 Date Total_population  Foreign_population   Year  \\\n",
       "0  1 de enero de 2025         49077984           6852348.0   2025   \n",
       "1  1 de enero de 2024         48619695           6502282.0   2024   \n",
       "2  1 de enero de 2023         48085361           6089620.0   2023   \n",
       "3  1 de enero de 2022         47486727           5509046.0   2022   \n",
       "4  1 de enero de 2021         47400798           5402702.0   2021   \n",
       "\n",
       "  Spanish_nationals  \n",
       "0        42225636.0  \n",
       "1        42117413.0  \n",
       "2        41995741.0  \n",
       "3        41977681.0  \n",
       "4        41998096.0  "
      ]
     },
     "execution_count": 53,
     "metadata": {},
     "output_type": "execute_result"
    }
   ],
   "source": [
    "INE_population_nationality['Spanish_nationals'] = INE_population_nationality['Total_population']- INE_population_nationality['Foreign_population']\n",
    "INE_population_nationality.head()"
   ]
  },
  {
   "cell_type": "markdown",
   "metadata": {},
   "source": [
    "We also rename previous dataframe so new one is called \"INE_spain_population\" as it is just Spanish population split by nationality (Spanish nationals, foreign nationals)"
   ]
  },
  {
   "cell_type": "code",
   "execution_count": null,
   "metadata": {},
   "outputs": [
    {
     "data": {
      "application/vnd.microsoft.datawrangler.viewer.v0+json": {
       "columns": [
        {
         "name": "index",
         "rawType": "int64",
         "type": "integer"
        },
        {
         "name": "Date",
         "rawType": "object",
         "type": "string"
        },
        {
         "name": "Total_population",
         "rawType": "object",
         "type": "unknown"
        },
        {
         "name": "Foreign_population",
         "rawType": "float64",
         "type": "float"
        },
        {
         "name": "Year",
         "rawType": "object",
         "type": "string"
        },
        {
         "name": "Spanish_nationals",
         "rawType": "object",
         "type": "unknown"
        }
       ],
       "conversionMethod": "pd.DataFrame",
       "ref": "723e4542-ac74-40e2-8fb7-89704f3519f1",
       "rows": [
        [
         "0",
         "1 de enero de 2025",
         "49077984",
         "6852348.0",
         " 2025",
         "42225636.0"
        ],
        [
         "1",
         "1 de enero de 2024",
         "48619695",
         "6502282.0",
         " 2024",
         "42117413.0"
        ],
        [
         "2",
         "1 de enero de 2023",
         "48085361",
         "6089620.0",
         " 2023",
         "41995741.0"
        ],
        [
         "3",
         "1 de enero de 2022",
         "47486727",
         "5509046.0",
         " 2022",
         "41977681.0"
        ],
        [
         "4",
         "1 de enero de 2021",
         "47400798",
         "5402702.0",
         " 2021",
         "41998096.0"
        ]
       ],
       "shape": {
        "columns": 5,
        "rows": 5
       }
      },
      "text/html": [
       "<div>\n",
       "<style scoped>\n",
       "    .dataframe tbody tr th:only-of-type {\n",
       "        vertical-align: middle;\n",
       "    }\n",
       "\n",
       "    .dataframe tbody tr th {\n",
       "        vertical-align: top;\n",
       "    }\n",
       "\n",
       "    .dataframe thead th {\n",
       "        text-align: right;\n",
       "    }\n",
       "</style>\n",
       "<table border=\"1\" class=\"dataframe\">\n",
       "  <thead>\n",
       "    <tr style=\"text-align: right;\">\n",
       "      <th></th>\n",
       "      <th>Date</th>\n",
       "      <th>Total_population</th>\n",
       "      <th>Foreign_population</th>\n",
       "      <th>Year</th>\n",
       "      <th>Spanish_nationals</th>\n",
       "    </tr>\n",
       "  </thead>\n",
       "  <tbody>\n",
       "    <tr>\n",
       "      <th>0</th>\n",
       "      <td>1 de enero de 2025</td>\n",
       "      <td>49077984</td>\n",
       "      <td>6852348.0</td>\n",
       "      <td>2025</td>\n",
       "      <td>42225636.0</td>\n",
       "    </tr>\n",
       "    <tr>\n",
       "      <th>1</th>\n",
       "      <td>1 de enero de 2024</td>\n",
       "      <td>48619695</td>\n",
       "      <td>6502282.0</td>\n",
       "      <td>2024</td>\n",
       "      <td>42117413.0</td>\n",
       "    </tr>\n",
       "    <tr>\n",
       "      <th>2</th>\n",
       "      <td>1 de enero de 2023</td>\n",
       "      <td>48085361</td>\n",
       "      <td>6089620.0</td>\n",
       "      <td>2023</td>\n",
       "      <td>41995741.0</td>\n",
       "    </tr>\n",
       "    <tr>\n",
       "      <th>3</th>\n",
       "      <td>1 de enero de 2022</td>\n",
       "      <td>47486727</td>\n",
       "      <td>5509046.0</td>\n",
       "      <td>2022</td>\n",
       "      <td>41977681.0</td>\n",
       "    </tr>\n",
       "    <tr>\n",
       "      <th>4</th>\n",
       "      <td>1 de enero de 2021</td>\n",
       "      <td>47400798</td>\n",
       "      <td>5402702.0</td>\n",
       "      <td>2021</td>\n",
       "      <td>41998096.0</td>\n",
       "    </tr>\n",
       "  </tbody>\n",
       "</table>\n",
       "</div>"
      ],
      "text/plain": [
       "                 Date Total_population  Foreign_population   Year  \\\n",
       "0  1 de enero de 2025         49077984           6852348.0   2025   \n",
       "1  1 de enero de 2024         48619695           6502282.0   2024   \n",
       "2  1 de enero de 2023         48085361           6089620.0   2023   \n",
       "3  1 de enero de 2022         47486727           5509046.0   2022   \n",
       "4  1 de enero de 2021         47400798           5402702.0   2021   \n",
       "\n",
       "  Spanish_nationals  \n",
       "0        42225636.0  \n",
       "1        42117413.0  \n",
       "2        41995741.0  \n",
       "3        41977681.0  \n",
       "4        41998096.0  "
      ]
     },
     "execution_count": 54,
     "metadata": {},
     "output_type": "execute_result"
    }
   ],
   "source": [
    "INE_spain_population = INE_population_nationality.copy()\n",
    "INE_spain_population.head() "
   ]
  },
  {
   "cell_type": "markdown",
   "metadata": {},
   "source": [
    "Then I only need to subset required columns before I reshape the data "
   ]
  },
  {
   "cell_type": "markdown",
   "metadata": {},
   "source": [
    "### 5. Reshape data for stacked percent barplot "
   ]
  },
  {
   "cell_type": "markdown",
   "metadata": {},
   "source": [
    "We need to reshape previous dataframe so we have Spanish national and Foreign population under the same column"
   ]
  }
 ],
 "metadata": {
  "kernelspec": {
   "display_name": "Python 3",
   "language": "python",
   "name": "python3"
  },
  "language_info": {
   "codemirror_mode": {
    "name": "ipython",
    "version": 3
   },
   "file_extension": ".py",
   "mimetype": "text/x-python",
   "name": "python",
   "nbconvert_exporter": "python",
   "pygments_lexer": "ipython3",
   "version": "3.12.9"
  }
 },
 "nbformat": 4,
 "nbformat_minor": 2
}
