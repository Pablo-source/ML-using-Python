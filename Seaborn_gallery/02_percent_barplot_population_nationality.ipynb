{
 "cells": [
  {
   "cell_type": "markdown",
   "metadata": {},
   "source": [
    "## Stacked and percent barplots "
   ]
  },
  {
   "cell_type": "markdown",
   "metadata": {},
   "source": [
    "This notebook will contain examples of stakced and percent barplots created using Seaborn. Plots data used will be INE (Spanish National Institute) Spanish Office of National statistics demographic time series indicators such as total population and population by nationality as of 1st January and also by foreign population by country of birth."
   ]
  },
  {
   "cell_type": "code",
   "execution_count": 1,
   "metadata": {},
   "outputs": [],
   "source": [
    "# 1. Load required libraries\n",
    "import pandas as pd\n",
    "import os"
   ]
  },
  {
   "cell_type": "markdown",
   "metadata": {},
   "source": [
    "We will use this website as a reference to  start creating our stakced barplots in Seaborn"
   ]
  },
  {
   "cell_type": "markdown",
   "metadata": {},
   "source": [
    "<https://python-graph-gallery.com/stacked-and-percent-stacked-barplot/>"
   ]
  },
  {
   "cell_type": "markdown",
   "metadata": {},
   "source": [
    "### 1. Build path to project folder"
   ]
  },
  {
   "cell_type": "markdown",
   "metadata": {},
   "source": [
    "- Get current working directory and path to project folder"
   ]
  },
  {
   "cell_type": "code",
   "execution_count": 2,
   "metadata": {},
   "outputs": [
    {
     "name": "stdout",
     "output_type": "stream",
     "text": [
      "My working directory is: /home/pablo/Documents/Pablo_zorin/VS_Python_GitHub_Pablo_source/ML-using-Python/Seaborn_gallery\n"
     ]
    }
   ],
   "source": [
    "# Get current working directory\n",
    "my_wd = os.getcwd()\n",
    "print(\"My working directory is:\",my_wd)\n",
    "\n",
    "# 1. List files in \\data folder to identify Excel file to be imported into Python \n",
    "new_wd_ML_using_python = os.path.join(\"/home\",\"pablo\",\"Documents\",\"Pablo_zorin\",\"VS_Python_GitHub_Pablo_source\",\"ML-using-Python\")\n",
    "\n",
    "# 2.change existing working directory to ML-using-Python folder to access Excel file located in \\data folder\n",
    "os.chdir(new_wd_ML_using_python)"
   ]
  },
  {
   "cell_type": "code",
   "execution_count": 3,
   "metadata": {},
   "outputs": [
    {
     "name": "stdout",
     "output_type": "stream",
     "text": [
      "Changed working directory to: /home/pablo/Documents/Pablo_zorin/VS_Python_GitHub_Pablo_source/ML-using-Python\n"
     ]
    }
   ],
   "source": [
    "new_wd = os.getcwd()\n",
    "print(\"Changed working directory to:\",new_wd)"
   ]
  },
  {
   "cell_type": "markdown",
   "metadata": {},
   "source": [
    "### 2. Build path to Exel file to be imported from \\data sub-folder"
   ]
  },
  {
   "cell_type": "markdown",
   "metadata": {},
   "source": [
    "- First we check the contents in our data folder to find Excel file to import into Python"
   ]
  },
  {
   "cell_type": "code",
   "execution_count": null,
   "metadata": {},
   "outputs": [
    {
     "name": "stdout",
     "output_type": "stream",
     "text": [
      "data folder contents: ['wine_quality.zip', 'winequality.names', 'Monthly-AE-Time-Series-January-2024.xls', 'INE Resident population country of birth Spain.xlsx', 'AE_Time_Series_Data_website.txt', 'winequality-red.csv', 'OCDE_countries_population_figures_1970_2022.csv', 'all_wine_reset.csv', '03_INE_Spain_natural_growh_births_deaths.xlsx', '02 INE Spain CV population stocks and flows 2002 2025.xlsx', 'AE_Attendances_2010_2024.csv', 'ONS_Figure_2__Population_increase_in_mid-2023_was_driven_mostly_by_net_international_migration.xls', 'winequality-white.csv', 'INE total and foreign population figures Spain.xlsx', 'monthly-milk-production-pounds.csv', 'ONS_Figure_01_Long_term_emigration_immigration_net_migration.xlsx', 'ONS_long_term_immigration_end2024.xlsx', '01 INE resident population by nationality Spain and CV 2002 2024.xlsx']\n"
     ]
    }
   ],
   "source": [
    "# 2.1. Build path to Exel file to be imported from \\data sub-folder\n",
    "data_folder = os.path.join(\"/home\",\"pablo\",\"Documents\",\"Pablo_zorin\",\"VS_Python_GitHub_Pablo_source\",\"ML-using-Python\",\n",
    "                           'data')\n",
    "data_folder_contents = os.listdir(data_folder)\n",
    "print('data folder contents:',data_folder_contents)\n",
    "\n"
   ]
  },
  {
   "cell_type": "markdown",
   "metadata": {},
   "source": [
    "- Then we build path to Excel file we will load in Python using Pandas "
   ]
  },
  {
   "cell_type": "code",
   "execution_count": null,
   "metadata": {},
   "outputs": [
    {
     "name": "stdout",
     "output_type": "stream",
     "text": [
      "ÍNE_population_nationality: data/INE total and foreign population figures Spain.xlsx\n"
     ]
    }
   ],
   "source": [
    "# 2.2 Build  path to Excel file location\n",
    "ine_population_nationality = os.path.join('data','INE total and foreign population figures Spain.xlsx')\n",
    "print('ÍNE_population_nationality:',ine_population_nationality)\n"
   ]
  },
  {
   "cell_type": "markdown",
   "metadata": {},
   "source": [
    "### 3. Import Excel file into Python "
   ]
  },
  {
   "cell_type": "markdown",
   "metadata": {},
   "source": [
    "Get individual tab names from previous \"INE total and foreign population figures Spain.xlsx\" file"
   ]
  },
  {
   "cell_type": "code",
   "execution_count": 6,
   "metadata": {},
   "outputs": [
    {
     "data": {
      "text/plain": [
       "['INE_Foreign_population',\n",
       " 'INE_Total_population',\n",
       " 'INE_Total_foreign_population']"
      ]
     },
     "execution_count": 6,
     "metadata": {},
     "output_type": "execute_result"
    }
   ],
   "source": [
    "my_excel_file = pd.ExcelFile(ine_population_nationality)\n",
    "\n",
    "my_excel_file.sheet_names  # see all sheet names"
   ]
  },
  {
   "cell_type": "code",
   "execution_count": 7,
   "metadata": {},
   "outputs": [
    {
     "data": {
      "application/vnd.microsoft.datawrangler.viewer.v0+json": {
       "columns": [
        {
         "name": "index",
         "rawType": "int64",
         "type": "integer"
        },
        {
         "name": "Todas las edades",
         "rawType": "object",
         "type": "string"
        },
        {
         "name": "Total",
         "rawType": "object",
         "type": "unknown"
        },
        {
         "name": "Foreign population",
         "rawType": "float64",
         "type": "float"
        },
        {
         "name": "% Foreign Nationals/Total population",
         "rawType": "float64",
         "type": "float"
        },
        {
         "name": "Total YoY(N)",
         "rawType": "float64",
         "type": "float"
        },
        {
         "name": "Total YoY)(%)",
         "rawType": "float64",
         "type": "float"
        },
        {
         "name": "Foreign Nationals YoY(N)",
         "rawType": "float64",
         "type": "float"
        },
        {
         "name": "Foreign Total YoY)(%)",
         "rawType": "float64",
         "type": "float"
        }
       ],
       "conversionMethod": "pd.DataFrame",
       "ref": "b8b7924b-84fb-49c9-80c7-c097173f42b3",
       "rows": [
        [
         "0",
         "1 de enero de 2025",
         "49077984",
         "6852348.0",
         "0.139621627489833",
         null,
         null,
         null,
         null
        ],
        [
         "1",
         "1 de enero de 2024",
         "48619695",
         "6502282.0",
         "0.133737613944308",
         "458289.0",
         "0.00942599495945008",
         "350066.0",
         "0.0538374066212447"
        ],
        [
         "2",
         "1 de enero de 2023",
         "48085361",
         "6089620.0",
         "0.1266418692375",
         "534334.0",
         "0.0111121969116547",
         "412662.0",
         "0.0677648194797048"
        ],
        [
         "3",
         "1 de enero de 2022",
         "47486727",
         "5509046.0",
         "0.116012333298945",
         "598634.0",
         "0.0126063436631461",
         "580574.0",
         "0.105385578555706"
        ],
        [
         "4",
         "1 de enero de 2021",
         "47400798",
         "5402702.0",
         "0.11397913596307",
         "85929.0",
         "0.00181281758167869",
         "106344.0",
         "0.0196834843010035"
        ]
       ],
       "shape": {
        "columns": 8,
        "rows": 5
       }
      },
      "text/html": [
       "<div>\n",
       "<style scoped>\n",
       "    .dataframe tbody tr th:only-of-type {\n",
       "        vertical-align: middle;\n",
       "    }\n",
       "\n",
       "    .dataframe tbody tr th {\n",
       "        vertical-align: top;\n",
       "    }\n",
       "\n",
       "    .dataframe thead th {\n",
       "        text-align: right;\n",
       "    }\n",
       "</style>\n",
       "<table border=\"1\" class=\"dataframe\">\n",
       "  <thead>\n",
       "    <tr style=\"text-align: right;\">\n",
       "      <th></th>\n",
       "      <th>Todas las edades</th>\n",
       "      <th>Total</th>\n",
       "      <th>Foreign population</th>\n",
       "      <th>% Foreign Nationals/Total population</th>\n",
       "      <th>Total YoY(N)</th>\n",
       "      <th>Total YoY)(%)</th>\n",
       "      <th>Foreign Nationals YoY(N)</th>\n",
       "      <th>Foreign Total YoY)(%)</th>\n",
       "    </tr>\n",
       "  </thead>\n",
       "  <tbody>\n",
       "    <tr>\n",
       "      <th>0</th>\n",
       "      <td>1 de enero de 2025</td>\n",
       "      <td>49077984</td>\n",
       "      <td>6852348.0</td>\n",
       "      <td>0.139622</td>\n",
       "      <td>NaN</td>\n",
       "      <td>NaN</td>\n",
       "      <td>NaN</td>\n",
       "      <td>NaN</td>\n",
       "    </tr>\n",
       "    <tr>\n",
       "      <th>1</th>\n",
       "      <td>1 de enero de 2024</td>\n",
       "      <td>48619695</td>\n",
       "      <td>6502282.0</td>\n",
       "      <td>0.133738</td>\n",
       "      <td>458289.0</td>\n",
       "      <td>0.009426</td>\n",
       "      <td>350066.0</td>\n",
       "      <td>0.053837</td>\n",
       "    </tr>\n",
       "    <tr>\n",
       "      <th>2</th>\n",
       "      <td>1 de enero de 2023</td>\n",
       "      <td>48085361</td>\n",
       "      <td>6089620.0</td>\n",
       "      <td>0.126642</td>\n",
       "      <td>534334.0</td>\n",
       "      <td>0.011112</td>\n",
       "      <td>412662.0</td>\n",
       "      <td>0.067765</td>\n",
       "    </tr>\n",
       "    <tr>\n",
       "      <th>3</th>\n",
       "      <td>1 de enero de 2022</td>\n",
       "      <td>47486727</td>\n",
       "      <td>5509046.0</td>\n",
       "      <td>0.116012</td>\n",
       "      <td>598634.0</td>\n",
       "      <td>0.012606</td>\n",
       "      <td>580574.0</td>\n",
       "      <td>0.105386</td>\n",
       "    </tr>\n",
       "    <tr>\n",
       "      <th>4</th>\n",
       "      <td>1 de enero de 2021</td>\n",
       "      <td>47400798</td>\n",
       "      <td>5402702.0</td>\n",
       "      <td>0.113979</td>\n",
       "      <td>85929.0</td>\n",
       "      <td>0.001813</td>\n",
       "      <td>106344.0</td>\n",
       "      <td>0.019683</td>\n",
       "    </tr>\n",
       "  </tbody>\n",
       "</table>\n",
       "</div>"
      ],
      "text/plain": [
       "     Todas las edades     Total  Foreign population  \\\n",
       "0  1 de enero de 2025  49077984           6852348.0   \n",
       "1  1 de enero de 2024  48619695           6502282.0   \n",
       "2  1 de enero de 2023  48085361           6089620.0   \n",
       "3  1 de enero de 2022  47486727           5509046.0   \n",
       "4  1 de enero de 2021  47400798           5402702.0   \n",
       "\n",
       "   % Foreign Nationals/Total population  Total YoY(N)  Total YoY)(%)  \\\n",
       "0                              0.139622           NaN            NaN   \n",
       "1                              0.133738      458289.0       0.009426   \n",
       "2                              0.126642      534334.0       0.011112   \n",
       "3                              0.116012      598634.0       0.012606   \n",
       "4                              0.113979       85929.0       0.001813   \n",
       "\n",
       "   Foreign Nationals YoY(N)  Foreign Total YoY)(%)  \n",
       "0                       NaN                    NaN  \n",
       "1                  350066.0               0.053837  \n",
       "2                  412662.0               0.067765  \n",
       "3                  580574.0               0.105386  \n",
       "4                  106344.0               0.019683  "
      ]
     },
     "execution_count": 7,
     "metadata": {},
     "output_type": "execute_result"
    }
   ],
   "source": [
    "INEdata = pd.read_excel(ine_population_nationality,\n",
    "                                  sheet_name = 'INE_Total_foreign_population',\n",
    "                                  skiprows= 2\n",
    "                                )\n",
    "INEdata.head()"
   ]
  },
  {
   "cell_type": "markdown",
   "metadata": {},
   "source": [
    "- Keep only first 20 rows to skip footnotes"
   ]
  },
  {
   "cell_type": "code",
   "execution_count": 8,
   "metadata": {},
   "outputs": [],
   "source": [
    "INE_data_clean = INEdata.head(20)\n"
   ]
  },
  {
   "cell_type": "code",
   "execution_count": 9,
   "metadata": {},
   "outputs": [
    {
     "data": {
      "application/vnd.microsoft.datawrangler.viewer.v0+json": {
       "columns": [
        {
         "name": "index",
         "rawType": "int64",
         "type": "integer"
        },
        {
         "name": "Todas las edades",
         "rawType": "object",
         "type": "string"
        },
        {
         "name": "Total",
         "rawType": "object",
         "type": "unknown"
        },
        {
         "name": "Foreign population",
         "rawType": "float64",
         "type": "float"
        },
        {
         "name": "% Foreign Nationals/Total population",
         "rawType": "float64",
         "type": "float"
        },
        {
         "name": "Total YoY(N)",
         "rawType": "float64",
         "type": "float"
        },
        {
         "name": "Total YoY)(%)",
         "rawType": "float64",
         "type": "float"
        },
        {
         "name": "Foreign Nationals YoY(N)",
         "rawType": "float64",
         "type": "float"
        },
        {
         "name": "Foreign Total YoY)(%)",
         "rawType": "float64",
         "type": "float"
        }
       ],
       "conversionMethod": "pd.DataFrame",
       "ref": "d451ed30-8332-4569-9dc1-e33c3ae2daee",
       "rows": [
        [
         "0",
         "1 de enero de 2025",
         "49077984",
         "6852348.0",
         "0.139621627489833",
         null,
         null,
         null,
         null
        ],
        [
         "1",
         "1 de enero de 2024",
         "48619695",
         "6502282.0",
         "0.133737613944308",
         "458289.0",
         "0.00942599495945008",
         "350066.0",
         "0.0538374066212447"
        ],
        [
         "2",
         "1 de enero de 2023",
         "48085361",
         "6089620.0",
         "0.1266418692375",
         "534334.0",
         "0.0111121969116547",
         "412662.0",
         "0.0677648194797048"
        ],
        [
         "3",
         "1 de enero de 2022",
         "47486727",
         "5509046.0",
         "0.116012333298945",
         "598634.0",
         "0.0126063436631461",
         "580574.0",
         "0.105385578555706"
        ],
        [
         "4",
         "1 de enero de 2021",
         "47400798",
         "5402702.0",
         "0.11397913596307",
         "85929.0",
         "0.00181281758167869",
         "106344.0",
         "0.0196834843010035"
        ],
        [
         "5",
         "1 de enero de 2020",
         "47318050",
         "5241278.0",
         "0.110766990609292",
         "82748.0",
         "0.00174876183612807",
         "161424.0",
         "0.0307985953044277"
        ],
        [
         "6",
         "1 de enero de 2019",
         "46918951",
         "4850762.0",
         "0.10338598576085",
         "399099.0",
         "0.00850613646498618",
         "390516.0",
         "0.0805061142970939"
        ],
        [
         "7",
         "1 de enero de 2018",
         "46645070",
         "4577322.0",
         "0.0981308850002798",
         "273881.0",
         "0.00587159586211362",
         "273440.0",
         "0.0597379865344846"
        ],
        [
         "8",
         "1 de enero de 2017",
         "46497393",
         "4417653.0",
         "0.0950086169347172",
         "147677.0",
         "0.00317602752481198",
         "159669.0",
         "0.0361434001267189"
        ],
        [
         "9",
         "1 de enero de 2016",
         "46418884",
         "4419334.0",
         "0.0952055202361177",
         "78509.0",
         "0.00169131597390407",
         "-1681.0",
         "-0.000380374056362339"
        ],
        [
         "10",
         "1 de enero de 2015",
         "46425722",
         "4453985.0",
         "0.0959378725440177",
         "-6838.0",
         "-0.00014728903946825",
         "-34651.0",
         "-0.0077797747410465"
        ],
        [
         "11",
         "1 de enero de 2014",
         "46495744",
         "4676352.0",
         "0.100575915077303",
         "-70022.0",
         "-0.00150598730068713",
         "-222367.0",
         "-0.0475513819318991"
        ],
        [
         "12",
         "1 de enero de 2013",
         "46712650",
         "5064584.0",
         "0.108419967610487",
         "-216906.0",
         "-0.00464341029678256",
         "-388232.0",
         "-0.0766562465939947"
        ],
        [
         "13",
         "1 de enero de 2012",
         "46818216",
         "5236030.0",
         "0.111837452328384",
         "-105566.0",
         "-0.00225480612076291",
         "-171446.0",
         "-0.0327435098729381"
        ],
        [
         "14",
         "1 de enero de 2011",
         "46667175",
         "5312440.0",
         "0.113836759992436",
         "151041.0",
         "0.00323655760178327",
         "-76410.0",
         "-0.0143832212693226"
        ],
        [
         "15",
         "1 de enero de 2010",
         "46486621",
         "5402579.0",
         "0.116217932897295",
         "180554.0",
         "0.00388399922635805",
         "-90139.0",
         "-0.016684439042909"
        ],
        [
         "16",
         "1 de enero de 2009",
         "46239271",
         "5386659.0",
         "0.116495327099772",
         "247350.0",
         "0.00534934904142412",
         "15920.0",
         "0.00295544975094952"
        ],
        [
         "17",
         "1 de enero de 2008",
         "45668938",
         "5086295.0",
         "0.111373183234521",
         "570333.0",
         "0.0124884226561169",
         "300364.0",
         "0.0590535940207951"
        ],
        [
         "18",
         "1 de enero de 2007",
         "44784659",
         "4449434.0",
         "0.0993517445337699",
         "884279.0",
         "0.0197451319211786",
         "636861.0",
         "0.143133036696353"
        ],
        [
         "19",
         "1 de enero de 2006",
         "44009969",
         "3930916.0",
         "0.0893187632102172",
         "774690.0",
         "0.0176026027193975",
         "518518.0",
         "0.131907677498069"
        ]
       ],
       "shape": {
        "columns": 8,
        "rows": 20
       }
      },
      "text/html": [
       "<div>\n",
       "<style scoped>\n",
       "    .dataframe tbody tr th:only-of-type {\n",
       "        vertical-align: middle;\n",
       "    }\n",
       "\n",
       "    .dataframe tbody tr th {\n",
       "        vertical-align: top;\n",
       "    }\n",
       "\n",
       "    .dataframe thead th {\n",
       "        text-align: right;\n",
       "    }\n",
       "</style>\n",
       "<table border=\"1\" class=\"dataframe\">\n",
       "  <thead>\n",
       "    <tr style=\"text-align: right;\">\n",
       "      <th></th>\n",
       "      <th>Todas las edades</th>\n",
       "      <th>Total</th>\n",
       "      <th>Foreign population</th>\n",
       "      <th>% Foreign Nationals/Total population</th>\n",
       "      <th>Total YoY(N)</th>\n",
       "      <th>Total YoY)(%)</th>\n",
       "      <th>Foreign Nationals YoY(N)</th>\n",
       "      <th>Foreign Total YoY)(%)</th>\n",
       "    </tr>\n",
       "  </thead>\n",
       "  <tbody>\n",
       "    <tr>\n",
       "      <th>0</th>\n",
       "      <td>1 de enero de 2025</td>\n",
       "      <td>49077984</td>\n",
       "      <td>6852348.0</td>\n",
       "      <td>0.139622</td>\n",
       "      <td>NaN</td>\n",
       "      <td>NaN</td>\n",
       "      <td>NaN</td>\n",
       "      <td>NaN</td>\n",
       "    </tr>\n",
       "    <tr>\n",
       "      <th>1</th>\n",
       "      <td>1 de enero de 2024</td>\n",
       "      <td>48619695</td>\n",
       "      <td>6502282.0</td>\n",
       "      <td>0.133738</td>\n",
       "      <td>458289.0</td>\n",
       "      <td>0.009426</td>\n",
       "      <td>350066.0</td>\n",
       "      <td>0.053837</td>\n",
       "    </tr>\n",
       "    <tr>\n",
       "      <th>2</th>\n",
       "      <td>1 de enero de 2023</td>\n",
       "      <td>48085361</td>\n",
       "      <td>6089620.0</td>\n",
       "      <td>0.126642</td>\n",
       "      <td>534334.0</td>\n",
       "      <td>0.011112</td>\n",
       "      <td>412662.0</td>\n",
       "      <td>0.067765</td>\n",
       "    </tr>\n",
       "    <tr>\n",
       "      <th>3</th>\n",
       "      <td>1 de enero de 2022</td>\n",
       "      <td>47486727</td>\n",
       "      <td>5509046.0</td>\n",
       "      <td>0.116012</td>\n",
       "      <td>598634.0</td>\n",
       "      <td>0.012606</td>\n",
       "      <td>580574.0</td>\n",
       "      <td>0.105386</td>\n",
       "    </tr>\n",
       "    <tr>\n",
       "      <th>4</th>\n",
       "      <td>1 de enero de 2021</td>\n",
       "      <td>47400798</td>\n",
       "      <td>5402702.0</td>\n",
       "      <td>0.113979</td>\n",
       "      <td>85929.0</td>\n",
       "      <td>0.001813</td>\n",
       "      <td>106344.0</td>\n",
       "      <td>0.019683</td>\n",
       "    </tr>\n",
       "    <tr>\n",
       "      <th>5</th>\n",
       "      <td>1 de enero de 2020</td>\n",
       "      <td>47318050</td>\n",
       "      <td>5241278.0</td>\n",
       "      <td>0.110767</td>\n",
       "      <td>82748.0</td>\n",
       "      <td>0.001749</td>\n",
       "      <td>161424.0</td>\n",
       "      <td>0.030799</td>\n",
       "    </tr>\n",
       "    <tr>\n",
       "      <th>6</th>\n",
       "      <td>1 de enero de 2019</td>\n",
       "      <td>46918951</td>\n",
       "      <td>4850762.0</td>\n",
       "      <td>0.103386</td>\n",
       "      <td>399099.0</td>\n",
       "      <td>0.008506</td>\n",
       "      <td>390516.0</td>\n",
       "      <td>0.080506</td>\n",
       "    </tr>\n",
       "    <tr>\n",
       "      <th>7</th>\n",
       "      <td>1 de enero de 2018</td>\n",
       "      <td>46645070</td>\n",
       "      <td>4577322.0</td>\n",
       "      <td>0.098131</td>\n",
       "      <td>273881.0</td>\n",
       "      <td>0.005872</td>\n",
       "      <td>273440.0</td>\n",
       "      <td>0.059738</td>\n",
       "    </tr>\n",
       "    <tr>\n",
       "      <th>8</th>\n",
       "      <td>1 de enero de 2017</td>\n",
       "      <td>46497393</td>\n",
       "      <td>4417653.0</td>\n",
       "      <td>0.095009</td>\n",
       "      <td>147677.0</td>\n",
       "      <td>0.003176</td>\n",
       "      <td>159669.0</td>\n",
       "      <td>0.036143</td>\n",
       "    </tr>\n",
       "    <tr>\n",
       "      <th>9</th>\n",
       "      <td>1 de enero de 2016</td>\n",
       "      <td>46418884</td>\n",
       "      <td>4419334.0</td>\n",
       "      <td>0.095206</td>\n",
       "      <td>78509.0</td>\n",
       "      <td>0.001691</td>\n",
       "      <td>-1681.0</td>\n",
       "      <td>-0.000380</td>\n",
       "    </tr>\n",
       "    <tr>\n",
       "      <th>10</th>\n",
       "      <td>1 de enero de 2015</td>\n",
       "      <td>46425722</td>\n",
       "      <td>4453985.0</td>\n",
       "      <td>0.095938</td>\n",
       "      <td>-6838.0</td>\n",
       "      <td>-0.000147</td>\n",
       "      <td>-34651.0</td>\n",
       "      <td>-0.007780</td>\n",
       "    </tr>\n",
       "    <tr>\n",
       "      <th>11</th>\n",
       "      <td>1 de enero de 2014</td>\n",
       "      <td>46495744</td>\n",
       "      <td>4676352.0</td>\n",
       "      <td>0.100576</td>\n",
       "      <td>-70022.0</td>\n",
       "      <td>-0.001506</td>\n",
       "      <td>-222367.0</td>\n",
       "      <td>-0.047551</td>\n",
       "    </tr>\n",
       "    <tr>\n",
       "      <th>12</th>\n",
       "      <td>1 de enero de 2013</td>\n",
       "      <td>46712650</td>\n",
       "      <td>5064584.0</td>\n",
       "      <td>0.108420</td>\n",
       "      <td>-216906.0</td>\n",
       "      <td>-0.004643</td>\n",
       "      <td>-388232.0</td>\n",
       "      <td>-0.076656</td>\n",
       "    </tr>\n",
       "    <tr>\n",
       "      <th>13</th>\n",
       "      <td>1 de enero de 2012</td>\n",
       "      <td>46818216</td>\n",
       "      <td>5236030.0</td>\n",
       "      <td>0.111837</td>\n",
       "      <td>-105566.0</td>\n",
       "      <td>-0.002255</td>\n",
       "      <td>-171446.0</td>\n",
       "      <td>-0.032744</td>\n",
       "    </tr>\n",
       "    <tr>\n",
       "      <th>14</th>\n",
       "      <td>1 de enero de 2011</td>\n",
       "      <td>46667175</td>\n",
       "      <td>5312440.0</td>\n",
       "      <td>0.113837</td>\n",
       "      <td>151041.0</td>\n",
       "      <td>0.003237</td>\n",
       "      <td>-76410.0</td>\n",
       "      <td>-0.014383</td>\n",
       "    </tr>\n",
       "    <tr>\n",
       "      <th>15</th>\n",
       "      <td>1 de enero de 2010</td>\n",
       "      <td>46486621</td>\n",
       "      <td>5402579.0</td>\n",
       "      <td>0.116218</td>\n",
       "      <td>180554.0</td>\n",
       "      <td>0.003884</td>\n",
       "      <td>-90139.0</td>\n",
       "      <td>-0.016684</td>\n",
       "    </tr>\n",
       "    <tr>\n",
       "      <th>16</th>\n",
       "      <td>1 de enero de 2009</td>\n",
       "      <td>46239271</td>\n",
       "      <td>5386659.0</td>\n",
       "      <td>0.116495</td>\n",
       "      <td>247350.0</td>\n",
       "      <td>0.005349</td>\n",
       "      <td>15920.0</td>\n",
       "      <td>0.002955</td>\n",
       "    </tr>\n",
       "    <tr>\n",
       "      <th>17</th>\n",
       "      <td>1 de enero de 2008</td>\n",
       "      <td>45668938</td>\n",
       "      <td>5086295.0</td>\n",
       "      <td>0.111373</td>\n",
       "      <td>570333.0</td>\n",
       "      <td>0.012488</td>\n",
       "      <td>300364.0</td>\n",
       "      <td>0.059054</td>\n",
       "    </tr>\n",
       "    <tr>\n",
       "      <th>18</th>\n",
       "      <td>1 de enero de 2007</td>\n",
       "      <td>44784659</td>\n",
       "      <td>4449434.0</td>\n",
       "      <td>0.099352</td>\n",
       "      <td>884279.0</td>\n",
       "      <td>0.019745</td>\n",
       "      <td>636861.0</td>\n",
       "      <td>0.143133</td>\n",
       "    </tr>\n",
       "    <tr>\n",
       "      <th>19</th>\n",
       "      <td>1 de enero de 2006</td>\n",
       "      <td>44009969</td>\n",
       "      <td>3930916.0</td>\n",
       "      <td>0.089319</td>\n",
       "      <td>774690.0</td>\n",
       "      <td>0.017603</td>\n",
       "      <td>518518.0</td>\n",
       "      <td>0.131908</td>\n",
       "    </tr>\n",
       "  </tbody>\n",
       "</table>\n",
       "</div>"
      ],
      "text/plain": [
       "      Todas las edades     Total  Foreign population  \\\n",
       "0   1 de enero de 2025  49077984           6852348.0   \n",
       "1   1 de enero de 2024  48619695           6502282.0   \n",
       "2   1 de enero de 2023  48085361           6089620.0   \n",
       "3   1 de enero de 2022  47486727           5509046.0   \n",
       "4   1 de enero de 2021  47400798           5402702.0   \n",
       "5   1 de enero de 2020  47318050           5241278.0   \n",
       "6   1 de enero de 2019  46918951           4850762.0   \n",
       "7   1 de enero de 2018  46645070           4577322.0   \n",
       "8   1 de enero de 2017  46497393           4417653.0   \n",
       "9   1 de enero de 2016  46418884           4419334.0   \n",
       "10  1 de enero de 2015  46425722           4453985.0   \n",
       "11  1 de enero de 2014  46495744           4676352.0   \n",
       "12  1 de enero de 2013  46712650           5064584.0   \n",
       "13  1 de enero de 2012  46818216           5236030.0   \n",
       "14  1 de enero de 2011  46667175           5312440.0   \n",
       "15  1 de enero de 2010  46486621           5402579.0   \n",
       "16  1 de enero de 2009  46239271           5386659.0   \n",
       "17  1 de enero de 2008  45668938           5086295.0   \n",
       "18  1 de enero de 2007  44784659           4449434.0   \n",
       "19  1 de enero de 2006  44009969           3930916.0   \n",
       "\n",
       "    % Foreign Nationals/Total population  Total YoY(N)  Total YoY)(%)  \\\n",
       "0                               0.139622           NaN            NaN   \n",
       "1                               0.133738      458289.0       0.009426   \n",
       "2                               0.126642      534334.0       0.011112   \n",
       "3                               0.116012      598634.0       0.012606   \n",
       "4                               0.113979       85929.0       0.001813   \n",
       "5                               0.110767       82748.0       0.001749   \n",
       "6                               0.103386      399099.0       0.008506   \n",
       "7                               0.098131      273881.0       0.005872   \n",
       "8                               0.095009      147677.0       0.003176   \n",
       "9                               0.095206       78509.0       0.001691   \n",
       "10                              0.095938       -6838.0      -0.000147   \n",
       "11                              0.100576      -70022.0      -0.001506   \n",
       "12                              0.108420     -216906.0      -0.004643   \n",
       "13                              0.111837     -105566.0      -0.002255   \n",
       "14                              0.113837      151041.0       0.003237   \n",
       "15                              0.116218      180554.0       0.003884   \n",
       "16                              0.116495      247350.0       0.005349   \n",
       "17                              0.111373      570333.0       0.012488   \n",
       "18                              0.099352      884279.0       0.019745   \n",
       "19                              0.089319      774690.0       0.017603   \n",
       "\n",
       "    Foreign Nationals YoY(N)  Foreign Total YoY)(%)  \n",
       "0                        NaN                    NaN  \n",
       "1                   350066.0               0.053837  \n",
       "2                   412662.0               0.067765  \n",
       "3                   580574.0               0.105386  \n",
       "4                   106344.0               0.019683  \n",
       "5                   161424.0               0.030799  \n",
       "6                   390516.0               0.080506  \n",
       "7                   273440.0               0.059738  \n",
       "8                   159669.0               0.036143  \n",
       "9                    -1681.0              -0.000380  \n",
       "10                  -34651.0              -0.007780  \n",
       "11                 -222367.0              -0.047551  \n",
       "12                 -388232.0              -0.076656  \n",
       "13                 -171446.0              -0.032744  \n",
       "14                  -76410.0              -0.014383  \n",
       "15                  -90139.0              -0.016684  \n",
       "16                   15920.0               0.002955  \n",
       "17                  300364.0               0.059054  \n",
       "18                  636861.0               0.143133  \n",
       "19                  518518.0               0.131908  "
      ]
     },
     "execution_count": 9,
     "metadata": {},
     "output_type": "execute_result"
    }
   ],
   "source": [
    "INE_data_clean"
   ]
  },
  {
   "cell_type": "code",
   "execution_count": 10,
   "metadata": {},
   "outputs": [],
   "source": [
    "# Rename columns\n",
    "INE_data_clean.columns = ['Date','Total_population','Foreign_population','Percent_foreign_population',\n",
    "'Total population YoY(N)','Total population  YoY(%)','Foreign population YoY(N)','Foreign population  YoY(%)']"
   ]
  },
  {
   "cell_type": "markdown",
   "metadata": {},
   "source": [
    "- Start by subsetting previous data set keeping initial variables (Date,Total_population,Foreign_population), used to derive the rest of columns in INE_data dataframe"
   ]
  },
  {
   "cell_type": "code",
   "execution_count": 11,
   "metadata": {},
   "outputs": [
    {
     "data": {
      "application/vnd.microsoft.datawrangler.viewer.v0+json": {
       "columns": [
        {
         "name": "index",
         "rawType": "int64",
         "type": "integer"
        },
        {
         "name": "Date",
         "rawType": "object",
         "type": "string"
        },
        {
         "name": "Total_population",
         "rawType": "object",
         "type": "unknown"
        },
        {
         "name": "Foreign_population",
         "rawType": "float64",
         "type": "float"
        }
       ],
       "conversionMethod": "pd.DataFrame",
       "ref": "a763f555-9770-4efd-9b40-ded509a9421a",
       "rows": [
        [
         "0",
         "1 de enero de 2025",
         "49077984",
         "6852348.0"
        ],
        [
         "1",
         "1 de enero de 2024",
         "48619695",
         "6502282.0"
        ],
        [
         "2",
         "1 de enero de 2023",
         "48085361",
         "6089620.0"
        ],
        [
         "3",
         "1 de enero de 2022",
         "47486727",
         "5509046.0"
        ],
        [
         "4",
         "1 de enero de 2021",
         "47400798",
         "5402702.0"
        ]
       ],
       "shape": {
        "columns": 3,
        "rows": 5
       }
      },
      "text/html": [
       "<div>\n",
       "<style scoped>\n",
       "    .dataframe tbody tr th:only-of-type {\n",
       "        vertical-align: middle;\n",
       "    }\n",
       "\n",
       "    .dataframe tbody tr th {\n",
       "        vertical-align: top;\n",
       "    }\n",
       "\n",
       "    .dataframe thead th {\n",
       "        text-align: right;\n",
       "    }\n",
       "</style>\n",
       "<table border=\"1\" class=\"dataframe\">\n",
       "  <thead>\n",
       "    <tr style=\"text-align: right;\">\n",
       "      <th></th>\n",
       "      <th>Date</th>\n",
       "      <th>Total_population</th>\n",
       "      <th>Foreign_population</th>\n",
       "    </tr>\n",
       "  </thead>\n",
       "  <tbody>\n",
       "    <tr>\n",
       "      <th>0</th>\n",
       "      <td>1 de enero de 2025</td>\n",
       "      <td>49077984</td>\n",
       "      <td>6852348.0</td>\n",
       "    </tr>\n",
       "    <tr>\n",
       "      <th>1</th>\n",
       "      <td>1 de enero de 2024</td>\n",
       "      <td>48619695</td>\n",
       "      <td>6502282.0</td>\n",
       "    </tr>\n",
       "    <tr>\n",
       "      <th>2</th>\n",
       "      <td>1 de enero de 2023</td>\n",
       "      <td>48085361</td>\n",
       "      <td>6089620.0</td>\n",
       "    </tr>\n",
       "    <tr>\n",
       "      <th>3</th>\n",
       "      <td>1 de enero de 2022</td>\n",
       "      <td>47486727</td>\n",
       "      <td>5509046.0</td>\n",
       "    </tr>\n",
       "    <tr>\n",
       "      <th>4</th>\n",
       "      <td>1 de enero de 2021</td>\n",
       "      <td>47400798</td>\n",
       "      <td>5402702.0</td>\n",
       "    </tr>\n",
       "  </tbody>\n",
       "</table>\n",
       "</div>"
      ],
      "text/plain": [
       "                 Date Total_population  Foreign_population\n",
       "0  1 de enero de 2025         49077984           6852348.0\n",
       "1  1 de enero de 2024         48619695           6502282.0\n",
       "2  1 de enero de 2023         48085361           6089620.0\n",
       "3  1 de enero de 2022         47486727           5509046.0\n",
       "4  1 de enero de 2021         47400798           5402702.0"
      ]
     },
     "execution_count": 11,
     "metadata": {},
     "output_type": "execute_result"
    }
   ],
   "source": [
    "INE_total_foreign_population = INE_data_clean[['Date','Total_population','Foreign_population']]\n",
    "INE_total_foreign_population.head()"
   ]
  },
  {
   "cell_type": "markdown",
   "metadata": {},
   "source": [
    "### 4. Create new calculated fields "
   ]
  },
  {
   "cell_type": "code",
   "execution_count": 12,
   "metadata": {},
   "outputs": [
    {
     "name": "stdout",
     "output_type": "stream",
     "text": [
      "<class 'pandas.core.frame.DataFrame'>\n",
      "RangeIndex: 20 entries, 0 to 19\n",
      "Data columns (total 3 columns):\n",
      " #   Column              Non-Null Count  Dtype  \n",
      "---  ------              --------------  -----  \n",
      " 0   Date                20 non-null     object \n",
      " 1   Total_population    20 non-null     object \n",
      " 2   Foreign_population  20 non-null     float64\n",
      "dtypes: float64(1), object(2)\n",
      "memory usage: 612.0+ bytes\n"
     ]
    }
   ],
   "source": [
    "INE_total_foreign_population.info()"
   ]
  },
  {
   "cell_type": "markdown",
   "metadata": {},
   "source": [
    "#### 4.1 New year year column"
   ]
  },
  {
   "cell_type": "markdown",
   "metadata": {},
   "source": [
    "I can then modify this str[] parameter from str.strip() to slice four latest characters from Date column to obtain full year in YYYY format. I need to introduce [13:] to ensure I obtain a full year on my new Year variable"
   ]
  },
  {
   "cell_type": "code",
   "execution_count": 13,
   "metadata": {},
   "outputs": [
    {
     "name": "stderr",
     "output_type": "stream",
     "text": [
      "/tmp/ipykernel_442/2161791062.py:1: SettingWithCopyWarning: \n",
      "A value is trying to be set on a copy of a slice from a DataFrame.\n",
      "Try using .loc[row_indexer,col_indexer] = value instead\n",
      "\n",
      "See the caveats in the documentation: https://pandas.pydata.org/pandas-docs/stable/user_guide/indexing.html#returning-a-view-versus-a-copy\n",
      "  INE_total_foreign_population['Year']  = INE_total_foreign_population['Date'].str.strip().str[13:]\n"
     ]
    },
    {
     "data": {
      "application/vnd.microsoft.datawrangler.viewer.v0+json": {
       "columns": [
        {
         "name": "index",
         "rawType": "int64",
         "type": "integer"
        },
        {
         "name": "Date",
         "rawType": "object",
         "type": "string"
        },
        {
         "name": "Total_population",
         "rawType": "object",
         "type": "unknown"
        },
        {
         "name": "Foreign_population",
         "rawType": "float64",
         "type": "float"
        },
        {
         "name": "Year",
         "rawType": "object",
         "type": "string"
        }
       ],
       "conversionMethod": "pd.DataFrame",
       "ref": "24b821e0-b331-405a-ab97-d47b660c6f7d",
       "rows": [
        [
         "0",
         "1 de enero de 2025",
         "49077984",
         "6852348.0",
         " 2025"
        ],
        [
         "1",
         "1 de enero de 2024",
         "48619695",
         "6502282.0",
         " 2024"
        ],
        [
         "2",
         "1 de enero de 2023",
         "48085361",
         "6089620.0",
         " 2023"
        ],
        [
         "3",
         "1 de enero de 2022",
         "47486727",
         "5509046.0",
         " 2022"
        ],
        [
         "4",
         "1 de enero de 2021",
         "47400798",
         "5402702.0",
         " 2021"
        ]
       ],
       "shape": {
        "columns": 4,
        "rows": 5
       }
      },
      "text/html": [
       "<div>\n",
       "<style scoped>\n",
       "    .dataframe tbody tr th:only-of-type {\n",
       "        vertical-align: middle;\n",
       "    }\n",
       "\n",
       "    .dataframe tbody tr th {\n",
       "        vertical-align: top;\n",
       "    }\n",
       "\n",
       "    .dataframe thead th {\n",
       "        text-align: right;\n",
       "    }\n",
       "</style>\n",
       "<table border=\"1\" class=\"dataframe\">\n",
       "  <thead>\n",
       "    <tr style=\"text-align: right;\">\n",
       "      <th></th>\n",
       "      <th>Date</th>\n",
       "      <th>Total_population</th>\n",
       "      <th>Foreign_population</th>\n",
       "      <th>Year</th>\n",
       "    </tr>\n",
       "  </thead>\n",
       "  <tbody>\n",
       "    <tr>\n",
       "      <th>0</th>\n",
       "      <td>1 de enero de 2025</td>\n",
       "      <td>49077984</td>\n",
       "      <td>6852348.0</td>\n",
       "      <td>2025</td>\n",
       "    </tr>\n",
       "    <tr>\n",
       "      <th>1</th>\n",
       "      <td>1 de enero de 2024</td>\n",
       "      <td>48619695</td>\n",
       "      <td>6502282.0</td>\n",
       "      <td>2024</td>\n",
       "    </tr>\n",
       "    <tr>\n",
       "      <th>2</th>\n",
       "      <td>1 de enero de 2023</td>\n",
       "      <td>48085361</td>\n",
       "      <td>6089620.0</td>\n",
       "      <td>2023</td>\n",
       "    </tr>\n",
       "    <tr>\n",
       "      <th>3</th>\n",
       "      <td>1 de enero de 2022</td>\n",
       "      <td>47486727</td>\n",
       "      <td>5509046.0</td>\n",
       "      <td>2022</td>\n",
       "    </tr>\n",
       "    <tr>\n",
       "      <th>4</th>\n",
       "      <td>1 de enero de 2021</td>\n",
       "      <td>47400798</td>\n",
       "      <td>5402702.0</td>\n",
       "      <td>2021</td>\n",
       "    </tr>\n",
       "  </tbody>\n",
       "</table>\n",
       "</div>"
      ],
      "text/plain": [
       "                 Date Total_population  Foreign_population   Year\n",
       "0  1 de enero de 2025         49077984           6852348.0   2025\n",
       "1  1 de enero de 2024         48619695           6502282.0   2024\n",
       "2  1 de enero de 2023         48085361           6089620.0   2023\n",
       "3  1 de enero de 2022         47486727           5509046.0   2022\n",
       "4  1 de enero de 2021         47400798           5402702.0   2021"
      ]
     },
     "execution_count": 13,
     "metadata": {},
     "output_type": "execute_result"
    }
   ],
   "source": [
    "INE_total_foreign_population['Year']  = INE_total_foreign_population['Date'].str.strip().str[13:]\n",
    "INE_total_foreign_population.head()"
   ]
  },
  {
   "cell_type": "markdown",
   "metadata": {},
   "source": [
    "#### 4.2 New Spanish nationals column derived from total and foreign population figures"
   ]
  },
  {
   "cell_type": "markdown",
   "metadata": {},
   "source": [
    "We will compute Spanish nationals column substracting Foreign population to Total population obtaining total population split by spanish/foreign nationality"
   ]
  },
  {
   "cell_type": "markdown",
   "metadata": {},
   "source": [
    "First we duplicate our original dataframe using .copy() function "
   ]
  },
  {
   "cell_type": "code",
   "execution_count": 14,
   "metadata": {},
   "outputs": [
    {
     "data": {
      "application/vnd.microsoft.datawrangler.viewer.v0+json": {
       "columns": [
        {
         "name": "index",
         "rawType": "int64",
         "type": "integer"
        },
        {
         "name": "Date",
         "rawType": "object",
         "type": "string"
        },
        {
         "name": "Total_population",
         "rawType": "object",
         "type": "unknown"
        },
        {
         "name": "Foreign_population",
         "rawType": "float64",
         "type": "float"
        },
        {
         "name": "Year",
         "rawType": "object",
         "type": "string"
        }
       ],
       "conversionMethod": "pd.DataFrame",
       "ref": "033895bc-15c7-4892-86db-abf481543bfe",
       "rows": [
        [
         "0",
         "1 de enero de 2025",
         "49077984",
         "6852348.0",
         " 2025"
        ],
        [
         "1",
         "1 de enero de 2024",
         "48619695",
         "6502282.0",
         " 2024"
        ],
        [
         "2",
         "1 de enero de 2023",
         "48085361",
         "6089620.0",
         " 2023"
        ],
        [
         "3",
         "1 de enero de 2022",
         "47486727",
         "5509046.0",
         " 2022"
        ],
        [
         "4",
         "1 de enero de 2021",
         "47400798",
         "5402702.0",
         " 2021"
        ]
       ],
       "shape": {
        "columns": 4,
        "rows": 5
       }
      },
      "text/html": [
       "<div>\n",
       "<style scoped>\n",
       "    .dataframe tbody tr th:only-of-type {\n",
       "        vertical-align: middle;\n",
       "    }\n",
       "\n",
       "    .dataframe tbody tr th {\n",
       "        vertical-align: top;\n",
       "    }\n",
       "\n",
       "    .dataframe thead th {\n",
       "        text-align: right;\n",
       "    }\n",
       "</style>\n",
       "<table border=\"1\" class=\"dataframe\">\n",
       "  <thead>\n",
       "    <tr style=\"text-align: right;\">\n",
       "      <th></th>\n",
       "      <th>Date</th>\n",
       "      <th>Total_population</th>\n",
       "      <th>Foreign_population</th>\n",
       "      <th>Year</th>\n",
       "    </tr>\n",
       "  </thead>\n",
       "  <tbody>\n",
       "    <tr>\n",
       "      <th>0</th>\n",
       "      <td>1 de enero de 2025</td>\n",
       "      <td>49077984</td>\n",
       "      <td>6852348.0</td>\n",
       "      <td>2025</td>\n",
       "    </tr>\n",
       "    <tr>\n",
       "      <th>1</th>\n",
       "      <td>1 de enero de 2024</td>\n",
       "      <td>48619695</td>\n",
       "      <td>6502282.0</td>\n",
       "      <td>2024</td>\n",
       "    </tr>\n",
       "    <tr>\n",
       "      <th>2</th>\n",
       "      <td>1 de enero de 2023</td>\n",
       "      <td>48085361</td>\n",
       "      <td>6089620.0</td>\n",
       "      <td>2023</td>\n",
       "    </tr>\n",
       "    <tr>\n",
       "      <th>3</th>\n",
       "      <td>1 de enero de 2022</td>\n",
       "      <td>47486727</td>\n",
       "      <td>5509046.0</td>\n",
       "      <td>2022</td>\n",
       "    </tr>\n",
       "    <tr>\n",
       "      <th>4</th>\n",
       "      <td>1 de enero de 2021</td>\n",
       "      <td>47400798</td>\n",
       "      <td>5402702.0</td>\n",
       "      <td>2021</td>\n",
       "    </tr>\n",
       "  </tbody>\n",
       "</table>\n",
       "</div>"
      ],
      "text/plain": [
       "                 Date Total_population  Foreign_population   Year\n",
       "0  1 de enero de 2025         49077984           6852348.0   2025\n",
       "1  1 de enero de 2024         48619695           6502282.0   2024\n",
       "2  1 de enero de 2023         48085361           6089620.0   2023\n",
       "3  1 de enero de 2022         47486727           5509046.0   2022\n",
       "4  1 de enero de 2021         47400798           5402702.0   2021"
      ]
     },
     "execution_count": 14,
     "metadata": {},
     "output_type": "execute_result"
    }
   ],
   "source": [
    "INE_population_nationality = INE_total_foreign_population.copy()\n",
    "INE_population_nationality.head()"
   ]
  },
  {
   "cell_type": "markdown",
   "metadata": {},
   "source": [
    "Then we include our new Spanish nationals calculation from substracting Foreign_population to Total_population"
   ]
  },
  {
   "cell_type": "code",
   "execution_count": 18,
   "metadata": {},
   "outputs": [
    {
     "data": {
      "application/vnd.microsoft.datawrangler.viewer.v0+json": {
       "columns": [
        {
         "name": "index",
         "rawType": "int64",
         "type": "integer"
        },
        {
         "name": "Date",
         "rawType": "object",
         "type": "string"
        },
        {
         "name": "Total_population",
         "rawType": "object",
         "type": "unknown"
        },
        {
         "name": "Foreign_population",
         "rawType": "float64",
         "type": "float"
        },
        {
         "name": "Year",
         "rawType": "object",
         "type": "string"
        },
        {
         "name": "Spanish_nationals",
         "rawType": "object",
         "type": "unknown"
        }
       ],
       "conversionMethod": "pd.DataFrame",
       "ref": "7527d56f-b599-4bd4-b9c3-15dcc7492a65",
       "rows": [
        [
         "0",
         "1 de enero de 2025",
         "49077984",
         "6852348.0",
         " 2025",
         "42225636.0"
        ],
        [
         "1",
         "1 de enero de 2024",
         "48619695",
         "6502282.0",
         " 2024",
         "42117413.0"
        ],
        [
         "2",
         "1 de enero de 2023",
         "48085361",
         "6089620.0",
         " 2023",
         "41995741.0"
        ],
        [
         "3",
         "1 de enero de 2022",
         "47486727",
         "5509046.0",
         " 2022",
         "41977681.0"
        ],
        [
         "4",
         "1 de enero de 2021",
         "47400798",
         "5402702.0",
         " 2021",
         "41998096.0"
        ]
       ],
       "shape": {
        "columns": 5,
        "rows": 5
       }
      },
      "text/html": [
       "<div>\n",
       "<style scoped>\n",
       "    .dataframe tbody tr th:only-of-type {\n",
       "        vertical-align: middle;\n",
       "    }\n",
       "\n",
       "    .dataframe tbody tr th {\n",
       "        vertical-align: top;\n",
       "    }\n",
       "\n",
       "    .dataframe thead th {\n",
       "        text-align: right;\n",
       "    }\n",
       "</style>\n",
       "<table border=\"1\" class=\"dataframe\">\n",
       "  <thead>\n",
       "    <tr style=\"text-align: right;\">\n",
       "      <th></th>\n",
       "      <th>Date</th>\n",
       "      <th>Total_population</th>\n",
       "      <th>Foreign_population</th>\n",
       "      <th>Year</th>\n",
       "      <th>Spanish_nationals</th>\n",
       "    </tr>\n",
       "  </thead>\n",
       "  <tbody>\n",
       "    <tr>\n",
       "      <th>0</th>\n",
       "      <td>1 de enero de 2025</td>\n",
       "      <td>49077984</td>\n",
       "      <td>6852348.0</td>\n",
       "      <td>2025</td>\n",
       "      <td>42225636.0</td>\n",
       "    </tr>\n",
       "    <tr>\n",
       "      <th>1</th>\n",
       "      <td>1 de enero de 2024</td>\n",
       "      <td>48619695</td>\n",
       "      <td>6502282.0</td>\n",
       "      <td>2024</td>\n",
       "      <td>42117413.0</td>\n",
       "    </tr>\n",
       "    <tr>\n",
       "      <th>2</th>\n",
       "      <td>1 de enero de 2023</td>\n",
       "      <td>48085361</td>\n",
       "      <td>6089620.0</td>\n",
       "      <td>2023</td>\n",
       "      <td>41995741.0</td>\n",
       "    </tr>\n",
       "    <tr>\n",
       "      <th>3</th>\n",
       "      <td>1 de enero de 2022</td>\n",
       "      <td>47486727</td>\n",
       "      <td>5509046.0</td>\n",
       "      <td>2022</td>\n",
       "      <td>41977681.0</td>\n",
       "    </tr>\n",
       "    <tr>\n",
       "      <th>4</th>\n",
       "      <td>1 de enero de 2021</td>\n",
       "      <td>47400798</td>\n",
       "      <td>5402702.0</td>\n",
       "      <td>2021</td>\n",
       "      <td>41998096.0</td>\n",
       "    </tr>\n",
       "  </tbody>\n",
       "</table>\n",
       "</div>"
      ],
      "text/plain": [
       "                 Date Total_population  Foreign_population   Year  \\\n",
       "0  1 de enero de 2025         49077984           6852348.0   2025   \n",
       "1  1 de enero de 2024         48619695           6502282.0   2024   \n",
       "2  1 de enero de 2023         48085361           6089620.0   2023   \n",
       "3  1 de enero de 2022         47486727           5509046.0   2022   \n",
       "4  1 de enero de 2021         47400798           5402702.0   2021   \n",
       "\n",
       "  Spanish_nationals  \n",
       "0        42225636.0  \n",
       "1        42117413.0  \n",
       "2        41995741.0  \n",
       "3        41977681.0  \n",
       "4        41998096.0  "
      ]
     },
     "execution_count": 18,
     "metadata": {},
     "output_type": "execute_result"
    }
   ],
   "source": [
    "INE_population_nationality['Spanish_nationals'] = INE_population_nationality['Total_population']- INE_population_nationality['Foreign_population']\n",
    "INE_population_nationality.head()"
   ]
  },
  {
   "cell_type": "markdown",
   "metadata": {},
   "source": [
    "We also rename previous dataframe so new one is called \"INE_spain_population\" as it is just Spanish population split by nationality (Spanish nationals, foreign nationals)"
   ]
  },
  {
   "cell_type": "code",
   "execution_count": 19,
   "metadata": {},
   "outputs": [
    {
     "data": {
      "application/vnd.microsoft.datawrangler.viewer.v0+json": {
       "columns": [
        {
         "name": "index",
         "rawType": "int64",
         "type": "integer"
        },
        {
         "name": "Date",
         "rawType": "object",
         "type": "string"
        },
        {
         "name": "Total_population",
         "rawType": "object",
         "type": "unknown"
        },
        {
         "name": "Foreign_population",
         "rawType": "float64",
         "type": "float"
        },
        {
         "name": "Year",
         "rawType": "object",
         "type": "string"
        },
        {
         "name": "Spanish_nationals",
         "rawType": "object",
         "type": "unknown"
        }
       ],
       "conversionMethod": "pd.DataFrame",
       "ref": "e85e514e-63ec-434b-844e-91395473f48f",
       "rows": [
        [
         "0",
         "1 de enero de 2025",
         "49077984",
         "6852348.0",
         " 2025",
         "42225636.0"
        ],
        [
         "1",
         "1 de enero de 2024",
         "48619695",
         "6502282.0",
         " 2024",
         "42117413.0"
        ],
        [
         "2",
         "1 de enero de 2023",
         "48085361",
         "6089620.0",
         " 2023",
         "41995741.0"
        ],
        [
         "3",
         "1 de enero de 2022",
         "47486727",
         "5509046.0",
         " 2022",
         "41977681.0"
        ],
        [
         "4",
         "1 de enero de 2021",
         "47400798",
         "5402702.0",
         " 2021",
         "41998096.0"
        ]
       ],
       "shape": {
        "columns": 5,
        "rows": 5
       }
      },
      "text/html": [
       "<div>\n",
       "<style scoped>\n",
       "    .dataframe tbody tr th:only-of-type {\n",
       "        vertical-align: middle;\n",
       "    }\n",
       "\n",
       "    .dataframe tbody tr th {\n",
       "        vertical-align: top;\n",
       "    }\n",
       "\n",
       "    .dataframe thead th {\n",
       "        text-align: right;\n",
       "    }\n",
       "</style>\n",
       "<table border=\"1\" class=\"dataframe\">\n",
       "  <thead>\n",
       "    <tr style=\"text-align: right;\">\n",
       "      <th></th>\n",
       "      <th>Date</th>\n",
       "      <th>Total_population</th>\n",
       "      <th>Foreign_population</th>\n",
       "      <th>Year</th>\n",
       "      <th>Spanish_nationals</th>\n",
       "    </tr>\n",
       "  </thead>\n",
       "  <tbody>\n",
       "    <tr>\n",
       "      <th>0</th>\n",
       "      <td>1 de enero de 2025</td>\n",
       "      <td>49077984</td>\n",
       "      <td>6852348.0</td>\n",
       "      <td>2025</td>\n",
       "      <td>42225636.0</td>\n",
       "    </tr>\n",
       "    <tr>\n",
       "      <th>1</th>\n",
       "      <td>1 de enero de 2024</td>\n",
       "      <td>48619695</td>\n",
       "      <td>6502282.0</td>\n",
       "      <td>2024</td>\n",
       "      <td>42117413.0</td>\n",
       "    </tr>\n",
       "    <tr>\n",
       "      <th>2</th>\n",
       "      <td>1 de enero de 2023</td>\n",
       "      <td>48085361</td>\n",
       "      <td>6089620.0</td>\n",
       "      <td>2023</td>\n",
       "      <td>41995741.0</td>\n",
       "    </tr>\n",
       "    <tr>\n",
       "      <th>3</th>\n",
       "      <td>1 de enero de 2022</td>\n",
       "      <td>47486727</td>\n",
       "      <td>5509046.0</td>\n",
       "      <td>2022</td>\n",
       "      <td>41977681.0</td>\n",
       "    </tr>\n",
       "    <tr>\n",
       "      <th>4</th>\n",
       "      <td>1 de enero de 2021</td>\n",
       "      <td>47400798</td>\n",
       "      <td>5402702.0</td>\n",
       "      <td>2021</td>\n",
       "      <td>41998096.0</td>\n",
       "    </tr>\n",
       "  </tbody>\n",
       "</table>\n",
       "</div>"
      ],
      "text/plain": [
       "                 Date Total_population  Foreign_population   Year  \\\n",
       "0  1 de enero de 2025         49077984           6852348.0   2025   \n",
       "1  1 de enero de 2024         48619695           6502282.0   2024   \n",
       "2  1 de enero de 2023         48085361           6089620.0   2023   \n",
       "3  1 de enero de 2022         47486727           5509046.0   2022   \n",
       "4  1 de enero de 2021         47400798           5402702.0   2021   \n",
       "\n",
       "  Spanish_nationals  \n",
       "0        42225636.0  \n",
       "1        42117413.0  \n",
       "2        41995741.0  \n",
       "3        41977681.0  \n",
       "4        41998096.0  "
      ]
     },
     "execution_count": 19,
     "metadata": {},
     "output_type": "execute_result"
    }
   ],
   "source": [
    "INE_spain_population = INE_population_nationality.copy()\n",
    "INE_spain_population.head() "
   ]
  },
  {
   "cell_type": "markdown",
   "metadata": {},
   "source": [
    "Then I only need to subset required columns before I reshape the data "
   ]
  },
  {
   "cell_type": "code",
   "execution_count": 20,
   "metadata": {},
   "outputs": [
    {
     "data": {
      "application/vnd.microsoft.datawrangler.viewer.v0+json": {
       "columns": [
        {
         "name": "index",
         "rawType": "int64",
         "type": "integer"
        },
        {
         "name": "Year",
         "rawType": "object",
         "type": "string"
        },
        {
         "name": "Total_population",
         "rawType": "object",
         "type": "unknown"
        },
        {
         "name": "Spanish_nationals",
         "rawType": "object",
         "type": "unknown"
        },
        {
         "name": "Foreign_population",
         "rawType": "float64",
         "type": "float"
        }
       ],
       "conversionMethod": "pd.DataFrame",
       "ref": "99da64fb-9557-4249-b0b8-571c5c1d3b9f",
       "rows": [
        [
         "0",
         " 2025",
         "49077984",
         "42225636.0",
         "6852348.0"
        ],
        [
         "1",
         " 2024",
         "48619695",
         "42117413.0",
         "6502282.0"
        ],
        [
         "2",
         " 2023",
         "48085361",
         "41995741.0",
         "6089620.0"
        ],
        [
         "3",
         " 2022",
         "47486727",
         "41977681.0",
         "5509046.0"
        ],
        [
         "4",
         " 2021",
         "47400798",
         "41998096.0",
         "5402702.0"
        ],
        [
         "5",
         " 2020",
         "47318050",
         "42076772.0",
         "5241278.0"
        ],
        [
         "6",
         " 2019",
         "46918951",
         "42068189.0",
         "4850762.0"
        ],
        [
         "7",
         " 2018",
         "46645070",
         "42067748.0",
         "4577322.0"
        ],
        [
         "8",
         " 2017",
         "46497393",
         "42079740.0",
         "4417653.0"
        ],
        [
         "9",
         " 2016",
         "46418884",
         "41999550.0",
         "4419334.0"
        ],
        [
         "10",
         " 2015",
         "46425722",
         "41971737.0",
         "4453985.0"
        ],
        [
         "11",
         " 2014",
         "46495744",
         "41819392.0",
         "4676352.0"
        ],
        [
         "12",
         " 2013",
         "46712650",
         "41648066.0",
         "5064584.0"
        ],
        [
         "13",
         " 2012",
         "46818216",
         "41582186.0",
         "5236030.0"
        ],
        [
         "14",
         " 2011",
         "46667175",
         "41354735.0",
         "5312440.0"
        ],
        [
         "15",
         " 2010",
         "46486621",
         "41084042.0",
         "5402579.0"
        ],
        [
         "16",
         " 2009",
         "46239271",
         "40852612.0",
         "5386659.0"
        ],
        [
         "17",
         " 2008",
         "45668938",
         "40582643.0",
         "5086295.0"
        ],
        [
         "18",
         " 2007",
         "44784659",
         "40335225.0",
         "4449434.0"
        ],
        [
         "19",
         " 2006",
         "44009969",
         "40079053.0",
         "3930916.0"
        ]
       ],
       "shape": {
        "columns": 4,
        "rows": 20
       }
      },
      "text/html": [
       "<div>\n",
       "<style scoped>\n",
       "    .dataframe tbody tr th:only-of-type {\n",
       "        vertical-align: middle;\n",
       "    }\n",
       "\n",
       "    .dataframe tbody tr th {\n",
       "        vertical-align: top;\n",
       "    }\n",
       "\n",
       "    .dataframe thead th {\n",
       "        text-align: right;\n",
       "    }\n",
       "</style>\n",
       "<table border=\"1\" class=\"dataframe\">\n",
       "  <thead>\n",
       "    <tr style=\"text-align: right;\">\n",
       "      <th></th>\n",
       "      <th>Year</th>\n",
       "      <th>Total_population</th>\n",
       "      <th>Spanish_nationals</th>\n",
       "      <th>Foreign_population</th>\n",
       "    </tr>\n",
       "  </thead>\n",
       "  <tbody>\n",
       "    <tr>\n",
       "      <th>0</th>\n",
       "      <td>2025</td>\n",
       "      <td>49077984</td>\n",
       "      <td>42225636.0</td>\n",
       "      <td>6852348.0</td>\n",
       "    </tr>\n",
       "    <tr>\n",
       "      <th>1</th>\n",
       "      <td>2024</td>\n",
       "      <td>48619695</td>\n",
       "      <td>42117413.0</td>\n",
       "      <td>6502282.0</td>\n",
       "    </tr>\n",
       "    <tr>\n",
       "      <th>2</th>\n",
       "      <td>2023</td>\n",
       "      <td>48085361</td>\n",
       "      <td>41995741.0</td>\n",
       "      <td>6089620.0</td>\n",
       "    </tr>\n",
       "    <tr>\n",
       "      <th>3</th>\n",
       "      <td>2022</td>\n",
       "      <td>47486727</td>\n",
       "      <td>41977681.0</td>\n",
       "      <td>5509046.0</td>\n",
       "    </tr>\n",
       "    <tr>\n",
       "      <th>4</th>\n",
       "      <td>2021</td>\n",
       "      <td>47400798</td>\n",
       "      <td>41998096.0</td>\n",
       "      <td>5402702.0</td>\n",
       "    </tr>\n",
       "    <tr>\n",
       "      <th>5</th>\n",
       "      <td>2020</td>\n",
       "      <td>47318050</td>\n",
       "      <td>42076772.0</td>\n",
       "      <td>5241278.0</td>\n",
       "    </tr>\n",
       "    <tr>\n",
       "      <th>6</th>\n",
       "      <td>2019</td>\n",
       "      <td>46918951</td>\n",
       "      <td>42068189.0</td>\n",
       "      <td>4850762.0</td>\n",
       "    </tr>\n",
       "    <tr>\n",
       "      <th>7</th>\n",
       "      <td>2018</td>\n",
       "      <td>46645070</td>\n",
       "      <td>42067748.0</td>\n",
       "      <td>4577322.0</td>\n",
       "    </tr>\n",
       "    <tr>\n",
       "      <th>8</th>\n",
       "      <td>2017</td>\n",
       "      <td>46497393</td>\n",
       "      <td>42079740.0</td>\n",
       "      <td>4417653.0</td>\n",
       "    </tr>\n",
       "    <tr>\n",
       "      <th>9</th>\n",
       "      <td>2016</td>\n",
       "      <td>46418884</td>\n",
       "      <td>41999550.0</td>\n",
       "      <td>4419334.0</td>\n",
       "    </tr>\n",
       "    <tr>\n",
       "      <th>10</th>\n",
       "      <td>2015</td>\n",
       "      <td>46425722</td>\n",
       "      <td>41971737.0</td>\n",
       "      <td>4453985.0</td>\n",
       "    </tr>\n",
       "    <tr>\n",
       "      <th>11</th>\n",
       "      <td>2014</td>\n",
       "      <td>46495744</td>\n",
       "      <td>41819392.0</td>\n",
       "      <td>4676352.0</td>\n",
       "    </tr>\n",
       "    <tr>\n",
       "      <th>12</th>\n",
       "      <td>2013</td>\n",
       "      <td>46712650</td>\n",
       "      <td>41648066.0</td>\n",
       "      <td>5064584.0</td>\n",
       "    </tr>\n",
       "    <tr>\n",
       "      <th>13</th>\n",
       "      <td>2012</td>\n",
       "      <td>46818216</td>\n",
       "      <td>41582186.0</td>\n",
       "      <td>5236030.0</td>\n",
       "    </tr>\n",
       "    <tr>\n",
       "      <th>14</th>\n",
       "      <td>2011</td>\n",
       "      <td>46667175</td>\n",
       "      <td>41354735.0</td>\n",
       "      <td>5312440.0</td>\n",
       "    </tr>\n",
       "    <tr>\n",
       "      <th>15</th>\n",
       "      <td>2010</td>\n",
       "      <td>46486621</td>\n",
       "      <td>41084042.0</td>\n",
       "      <td>5402579.0</td>\n",
       "    </tr>\n",
       "    <tr>\n",
       "      <th>16</th>\n",
       "      <td>2009</td>\n",
       "      <td>46239271</td>\n",
       "      <td>40852612.0</td>\n",
       "      <td>5386659.0</td>\n",
       "    </tr>\n",
       "    <tr>\n",
       "      <th>17</th>\n",
       "      <td>2008</td>\n",
       "      <td>45668938</td>\n",
       "      <td>40582643.0</td>\n",
       "      <td>5086295.0</td>\n",
       "    </tr>\n",
       "    <tr>\n",
       "      <th>18</th>\n",
       "      <td>2007</td>\n",
       "      <td>44784659</td>\n",
       "      <td>40335225.0</td>\n",
       "      <td>4449434.0</td>\n",
       "    </tr>\n",
       "    <tr>\n",
       "      <th>19</th>\n",
       "      <td>2006</td>\n",
       "      <td>44009969</td>\n",
       "      <td>40079053.0</td>\n",
       "      <td>3930916.0</td>\n",
       "    </tr>\n",
       "  </tbody>\n",
       "</table>\n",
       "</div>"
      ],
      "text/plain": [
       "     Year Total_population Spanish_nationals  Foreign_population\n",
       "0    2025         49077984        42225636.0           6852348.0\n",
       "1    2024         48619695        42117413.0           6502282.0\n",
       "2    2023         48085361        41995741.0           6089620.0\n",
       "3    2022         47486727        41977681.0           5509046.0\n",
       "4    2021         47400798        41998096.0           5402702.0\n",
       "5    2020         47318050        42076772.0           5241278.0\n",
       "6    2019         46918951        42068189.0           4850762.0\n",
       "7    2018         46645070        42067748.0           4577322.0\n",
       "8    2017         46497393        42079740.0           4417653.0\n",
       "9    2016         46418884        41999550.0           4419334.0\n",
       "10   2015         46425722        41971737.0           4453985.0\n",
       "11   2014         46495744        41819392.0           4676352.0\n",
       "12   2013         46712650        41648066.0           5064584.0\n",
       "13   2012         46818216        41582186.0           5236030.0\n",
       "14   2011         46667175        41354735.0           5312440.0\n",
       "15   2010         46486621        41084042.0           5402579.0\n",
       "16   2009         46239271        40852612.0           5386659.0\n",
       "17   2008         45668938        40582643.0           5086295.0\n",
       "18   2007         44784659        40335225.0           4449434.0\n",
       "19   2006         44009969        40079053.0           3930916.0"
      ]
     },
     "execution_count": 20,
     "metadata": {},
     "output_type": "execute_result"
    }
   ],
   "source": [
    "INE_spain_population = INE_spain_population[['Year','Total_population','Spanish_nationals','Foreign_population']]\n",
    "INE_spain_population"
   ]
  },
  {
   "cell_type": "markdown",
   "metadata": {},
   "source": [
    "### 5. Reshape data for stacked percent barplot "
   ]
  },
  {
   "cell_type": "markdown",
   "metadata": {},
   "source": [
    "We need to reshape previous dataframe so we have Spanish national and Foreign population under the same column"
   ]
  },
  {
   "cell_type": "code",
   "execution_count": 21,
   "metadata": {},
   "outputs": [
    {
     "data": {
      "application/vnd.microsoft.datawrangler.viewer.v0+json": {
       "columns": [
        {
         "name": "index",
         "rawType": "int64",
         "type": "integer"
        },
        {
         "name": "Year",
         "rawType": "object",
         "type": "string"
        },
        {
         "name": "Total_population",
         "rawType": "object",
         "type": "unknown"
        },
        {
         "name": "Spanish_nationals",
         "rawType": "object",
         "type": "unknown"
        },
        {
         "name": "Foreign_population",
         "rawType": "float64",
         "type": "float"
        }
       ],
       "conversionMethod": "pd.DataFrame",
       "ref": "56e33c24-1a25-440f-8635-7f8d304c74d4",
       "rows": [
        [
         "0",
         " 2025",
         "49077984",
         "42225636.0",
         "6852348.0"
        ],
        [
         "1",
         " 2024",
         "48619695",
         "42117413.0",
         "6502282.0"
        ],
        [
         "2",
         " 2023",
         "48085361",
         "41995741.0",
         "6089620.0"
        ],
        [
         "3",
         " 2022",
         "47486727",
         "41977681.0",
         "5509046.0"
        ],
        [
         "4",
         " 2021",
         "47400798",
         "41998096.0",
         "5402702.0"
        ]
       ],
       "shape": {
        "columns": 4,
        "rows": 5
       }
      },
      "text/html": [
       "<div>\n",
       "<style scoped>\n",
       "    .dataframe tbody tr th:only-of-type {\n",
       "        vertical-align: middle;\n",
       "    }\n",
       "\n",
       "    .dataframe tbody tr th {\n",
       "        vertical-align: top;\n",
       "    }\n",
       "\n",
       "    .dataframe thead th {\n",
       "        text-align: right;\n",
       "    }\n",
       "</style>\n",
       "<table border=\"1\" class=\"dataframe\">\n",
       "  <thead>\n",
       "    <tr style=\"text-align: right;\">\n",
       "      <th></th>\n",
       "      <th>Year</th>\n",
       "      <th>Total_population</th>\n",
       "      <th>Spanish_nationals</th>\n",
       "      <th>Foreign_population</th>\n",
       "    </tr>\n",
       "  </thead>\n",
       "  <tbody>\n",
       "    <tr>\n",
       "      <th>0</th>\n",
       "      <td>2025</td>\n",
       "      <td>49077984</td>\n",
       "      <td>42225636.0</td>\n",
       "      <td>6852348.0</td>\n",
       "    </tr>\n",
       "    <tr>\n",
       "      <th>1</th>\n",
       "      <td>2024</td>\n",
       "      <td>48619695</td>\n",
       "      <td>42117413.0</td>\n",
       "      <td>6502282.0</td>\n",
       "    </tr>\n",
       "    <tr>\n",
       "      <th>2</th>\n",
       "      <td>2023</td>\n",
       "      <td>48085361</td>\n",
       "      <td>41995741.0</td>\n",
       "      <td>6089620.0</td>\n",
       "    </tr>\n",
       "    <tr>\n",
       "      <th>3</th>\n",
       "      <td>2022</td>\n",
       "      <td>47486727</td>\n",
       "      <td>41977681.0</td>\n",
       "      <td>5509046.0</td>\n",
       "    </tr>\n",
       "    <tr>\n",
       "      <th>4</th>\n",
       "      <td>2021</td>\n",
       "      <td>47400798</td>\n",
       "      <td>41998096.0</td>\n",
       "      <td>5402702.0</td>\n",
       "    </tr>\n",
       "  </tbody>\n",
       "</table>\n",
       "</div>"
      ],
      "text/plain": [
       "    Year Total_population Spanish_nationals  Foreign_population\n",
       "0   2025         49077984        42225636.0           6852348.0\n",
       "1   2024         48619695        42117413.0           6502282.0\n",
       "2   2023         48085361        41995741.0           6089620.0\n",
       "3   2022         47486727        41977681.0           5509046.0\n",
       "4   2021         47400798        41998096.0           5402702.0"
      ]
     },
     "execution_count": 21,
     "metadata": {},
     "output_type": "execute_result"
    }
   ],
   "source": [
    "Population_to_reshape = INE_spain_population.copy()\n",
    "Population_to_reshape.head()"
   ]
  },
  {
   "cell_type": "markdown",
   "metadata": {},
   "source": [
    "- Sorting values in ascending order by Year prior to reshaping data"
   ]
  },
  {
   "cell_type": "code",
   "execution_count": 22,
   "metadata": {},
   "outputs": [
    {
     "data": {
      "application/vnd.microsoft.datawrangler.viewer.v0+json": {
       "columns": [
        {
         "name": "index",
         "rawType": "int64",
         "type": "integer"
        },
        {
         "name": "Year",
         "rawType": "object",
         "type": "string"
        },
        {
         "name": "Total_population",
         "rawType": "object",
         "type": "unknown"
        },
        {
         "name": "Spanish_nationals",
         "rawType": "object",
         "type": "unknown"
        },
        {
         "name": "Foreign_population",
         "rawType": "float64",
         "type": "float"
        }
       ],
       "conversionMethod": "pd.DataFrame",
       "ref": "7c7d4a8a-0580-445c-99ff-9fe907a9b85c",
       "rows": [
        [
         "19",
         " 2006",
         "44009969",
         "40079053.0",
         "3930916.0"
        ],
        [
         "18",
         " 2007",
         "44784659",
         "40335225.0",
         "4449434.0"
        ],
        [
         "17",
         " 2008",
         "45668938",
         "40582643.0",
         "5086295.0"
        ],
        [
         "16",
         " 2009",
         "46239271",
         "40852612.0",
         "5386659.0"
        ],
        [
         "15",
         " 2010",
         "46486621",
         "41084042.0",
         "5402579.0"
        ],
        [
         "14",
         " 2011",
         "46667175",
         "41354735.0",
         "5312440.0"
        ],
        [
         "13",
         " 2012",
         "46818216",
         "41582186.0",
         "5236030.0"
        ],
        [
         "12",
         " 2013",
         "46712650",
         "41648066.0",
         "5064584.0"
        ],
        [
         "11",
         " 2014",
         "46495744",
         "41819392.0",
         "4676352.0"
        ],
        [
         "10",
         " 2015",
         "46425722",
         "41971737.0",
         "4453985.0"
        ],
        [
         "9",
         " 2016",
         "46418884",
         "41999550.0",
         "4419334.0"
        ],
        [
         "8",
         " 2017",
         "46497393",
         "42079740.0",
         "4417653.0"
        ],
        [
         "7",
         " 2018",
         "46645070",
         "42067748.0",
         "4577322.0"
        ],
        [
         "6",
         " 2019",
         "46918951",
         "42068189.0",
         "4850762.0"
        ],
        [
         "5",
         " 2020",
         "47318050",
         "42076772.0",
         "5241278.0"
        ],
        [
         "4",
         " 2021",
         "47400798",
         "41998096.0",
         "5402702.0"
        ],
        [
         "3",
         " 2022",
         "47486727",
         "41977681.0",
         "5509046.0"
        ],
        [
         "2",
         " 2023",
         "48085361",
         "41995741.0",
         "6089620.0"
        ],
        [
         "1",
         " 2024",
         "48619695",
         "42117413.0",
         "6502282.0"
        ],
        [
         "0",
         " 2025",
         "49077984",
         "42225636.0",
         "6852348.0"
        ]
       ],
       "shape": {
        "columns": 4,
        "rows": 20
       }
      },
      "text/html": [
       "<div>\n",
       "<style scoped>\n",
       "    .dataframe tbody tr th:only-of-type {\n",
       "        vertical-align: middle;\n",
       "    }\n",
       "\n",
       "    .dataframe tbody tr th {\n",
       "        vertical-align: top;\n",
       "    }\n",
       "\n",
       "    .dataframe thead th {\n",
       "        text-align: right;\n",
       "    }\n",
       "</style>\n",
       "<table border=\"1\" class=\"dataframe\">\n",
       "  <thead>\n",
       "    <tr style=\"text-align: right;\">\n",
       "      <th></th>\n",
       "      <th>Year</th>\n",
       "      <th>Total_population</th>\n",
       "      <th>Spanish_nationals</th>\n",
       "      <th>Foreign_population</th>\n",
       "    </tr>\n",
       "  </thead>\n",
       "  <tbody>\n",
       "    <tr>\n",
       "      <th>19</th>\n",
       "      <td>2006</td>\n",
       "      <td>44009969</td>\n",
       "      <td>40079053.0</td>\n",
       "      <td>3930916.0</td>\n",
       "    </tr>\n",
       "    <tr>\n",
       "      <th>18</th>\n",
       "      <td>2007</td>\n",
       "      <td>44784659</td>\n",
       "      <td>40335225.0</td>\n",
       "      <td>4449434.0</td>\n",
       "    </tr>\n",
       "    <tr>\n",
       "      <th>17</th>\n",
       "      <td>2008</td>\n",
       "      <td>45668938</td>\n",
       "      <td>40582643.0</td>\n",
       "      <td>5086295.0</td>\n",
       "    </tr>\n",
       "    <tr>\n",
       "      <th>16</th>\n",
       "      <td>2009</td>\n",
       "      <td>46239271</td>\n",
       "      <td>40852612.0</td>\n",
       "      <td>5386659.0</td>\n",
       "    </tr>\n",
       "    <tr>\n",
       "      <th>15</th>\n",
       "      <td>2010</td>\n",
       "      <td>46486621</td>\n",
       "      <td>41084042.0</td>\n",
       "      <td>5402579.0</td>\n",
       "    </tr>\n",
       "    <tr>\n",
       "      <th>14</th>\n",
       "      <td>2011</td>\n",
       "      <td>46667175</td>\n",
       "      <td>41354735.0</td>\n",
       "      <td>5312440.0</td>\n",
       "    </tr>\n",
       "    <tr>\n",
       "      <th>13</th>\n",
       "      <td>2012</td>\n",
       "      <td>46818216</td>\n",
       "      <td>41582186.0</td>\n",
       "      <td>5236030.0</td>\n",
       "    </tr>\n",
       "    <tr>\n",
       "      <th>12</th>\n",
       "      <td>2013</td>\n",
       "      <td>46712650</td>\n",
       "      <td>41648066.0</td>\n",
       "      <td>5064584.0</td>\n",
       "    </tr>\n",
       "    <tr>\n",
       "      <th>11</th>\n",
       "      <td>2014</td>\n",
       "      <td>46495744</td>\n",
       "      <td>41819392.0</td>\n",
       "      <td>4676352.0</td>\n",
       "    </tr>\n",
       "    <tr>\n",
       "      <th>10</th>\n",
       "      <td>2015</td>\n",
       "      <td>46425722</td>\n",
       "      <td>41971737.0</td>\n",
       "      <td>4453985.0</td>\n",
       "    </tr>\n",
       "    <tr>\n",
       "      <th>9</th>\n",
       "      <td>2016</td>\n",
       "      <td>46418884</td>\n",
       "      <td>41999550.0</td>\n",
       "      <td>4419334.0</td>\n",
       "    </tr>\n",
       "    <tr>\n",
       "      <th>8</th>\n",
       "      <td>2017</td>\n",
       "      <td>46497393</td>\n",
       "      <td>42079740.0</td>\n",
       "      <td>4417653.0</td>\n",
       "    </tr>\n",
       "    <tr>\n",
       "      <th>7</th>\n",
       "      <td>2018</td>\n",
       "      <td>46645070</td>\n",
       "      <td>42067748.0</td>\n",
       "      <td>4577322.0</td>\n",
       "    </tr>\n",
       "    <tr>\n",
       "      <th>6</th>\n",
       "      <td>2019</td>\n",
       "      <td>46918951</td>\n",
       "      <td>42068189.0</td>\n",
       "      <td>4850762.0</td>\n",
       "    </tr>\n",
       "    <tr>\n",
       "      <th>5</th>\n",
       "      <td>2020</td>\n",
       "      <td>47318050</td>\n",
       "      <td>42076772.0</td>\n",
       "      <td>5241278.0</td>\n",
       "    </tr>\n",
       "    <tr>\n",
       "      <th>4</th>\n",
       "      <td>2021</td>\n",
       "      <td>47400798</td>\n",
       "      <td>41998096.0</td>\n",
       "      <td>5402702.0</td>\n",
       "    </tr>\n",
       "    <tr>\n",
       "      <th>3</th>\n",
       "      <td>2022</td>\n",
       "      <td>47486727</td>\n",
       "      <td>41977681.0</td>\n",
       "      <td>5509046.0</td>\n",
       "    </tr>\n",
       "    <tr>\n",
       "      <th>2</th>\n",
       "      <td>2023</td>\n",
       "      <td>48085361</td>\n",
       "      <td>41995741.0</td>\n",
       "      <td>6089620.0</td>\n",
       "    </tr>\n",
       "    <tr>\n",
       "      <th>1</th>\n",
       "      <td>2024</td>\n",
       "      <td>48619695</td>\n",
       "      <td>42117413.0</td>\n",
       "      <td>6502282.0</td>\n",
       "    </tr>\n",
       "    <tr>\n",
       "      <th>0</th>\n",
       "      <td>2025</td>\n",
       "      <td>49077984</td>\n",
       "      <td>42225636.0</td>\n",
       "      <td>6852348.0</td>\n",
       "    </tr>\n",
       "  </tbody>\n",
       "</table>\n",
       "</div>"
      ],
      "text/plain": [
       "     Year Total_population Spanish_nationals  Foreign_population\n",
       "19   2006         44009969        40079053.0           3930916.0\n",
       "18   2007         44784659        40335225.0           4449434.0\n",
       "17   2008         45668938        40582643.0           5086295.0\n",
       "16   2009         46239271        40852612.0           5386659.0\n",
       "15   2010         46486621        41084042.0           5402579.0\n",
       "14   2011         46667175        41354735.0           5312440.0\n",
       "13   2012         46818216        41582186.0           5236030.0\n",
       "12   2013         46712650        41648066.0           5064584.0\n",
       "11   2014         46495744        41819392.0           4676352.0\n",
       "10   2015         46425722        41971737.0           4453985.0\n",
       "9    2016         46418884        41999550.0           4419334.0\n",
       "8    2017         46497393        42079740.0           4417653.0\n",
       "7    2018         46645070        42067748.0           4577322.0\n",
       "6    2019         46918951        42068189.0           4850762.0\n",
       "5    2020         47318050        42076772.0           5241278.0\n",
       "4    2021         47400798        41998096.0           5402702.0\n",
       "3    2022         47486727        41977681.0           5509046.0\n",
       "2    2023         48085361        41995741.0           6089620.0\n",
       "1    2024         48619695        42117413.0           6502282.0\n",
       "0    2025         49077984        42225636.0           6852348.0"
      ]
     },
     "execution_count": 22,
     "metadata": {},
     "output_type": "execute_result"
    }
   ],
   "source": [
    "Population_to_reshape_sorted = Population_to_reshape.sort_values(by = 'Year', ascending= True)\n",
    "Population_to_reshape_sorted"
   ]
  },
  {
   "cell_type": "code",
   "execution_count": 23,
   "metadata": {},
   "outputs": [
    {
     "data": {
      "application/vnd.microsoft.datawrangler.viewer.v0+json": {
       "columns": [
        {
         "name": "index",
         "rawType": "int64",
         "type": "integer"
        },
        {
         "name": "index",
         "rawType": "int64",
         "type": "integer"
        },
        {
         "name": "Year",
         "rawType": "object",
         "type": "string"
        },
        {
         "name": "Total_population",
         "rawType": "object",
         "type": "unknown"
        },
        {
         "name": "Spanish_nationals",
         "rawType": "object",
         "type": "unknown"
        },
        {
         "name": "Foreign_population",
         "rawType": "float64",
         "type": "float"
        }
       ],
       "conversionMethod": "pd.DataFrame",
       "ref": "76bb6055-0faf-4eff-b4c7-30e62bf91abf",
       "rows": [
        [
         "0",
         "19",
         " 2006",
         "44009969",
         "40079053.0",
         "3930916.0"
        ],
        [
         "1",
         "18",
         " 2007",
         "44784659",
         "40335225.0",
         "4449434.0"
        ],
        [
         "2",
         "17",
         " 2008",
         "45668938",
         "40582643.0",
         "5086295.0"
        ],
        [
         "3",
         "16",
         " 2009",
         "46239271",
         "40852612.0",
         "5386659.0"
        ],
        [
         "4",
         "15",
         " 2010",
         "46486621",
         "41084042.0",
         "5402579.0"
        ],
        [
         "5",
         "14",
         " 2011",
         "46667175",
         "41354735.0",
         "5312440.0"
        ],
        [
         "6",
         "13",
         " 2012",
         "46818216",
         "41582186.0",
         "5236030.0"
        ],
        [
         "7",
         "12",
         " 2013",
         "46712650",
         "41648066.0",
         "5064584.0"
        ],
        [
         "8",
         "11",
         " 2014",
         "46495744",
         "41819392.0",
         "4676352.0"
        ],
        [
         "9",
         "10",
         " 2015",
         "46425722",
         "41971737.0",
         "4453985.0"
        ],
        [
         "10",
         "9",
         " 2016",
         "46418884",
         "41999550.0",
         "4419334.0"
        ],
        [
         "11",
         "8",
         " 2017",
         "46497393",
         "42079740.0",
         "4417653.0"
        ],
        [
         "12",
         "7",
         " 2018",
         "46645070",
         "42067748.0",
         "4577322.0"
        ],
        [
         "13",
         "6",
         " 2019",
         "46918951",
         "42068189.0",
         "4850762.0"
        ],
        [
         "14",
         "5",
         " 2020",
         "47318050",
         "42076772.0",
         "5241278.0"
        ],
        [
         "15",
         "4",
         " 2021",
         "47400798",
         "41998096.0",
         "5402702.0"
        ],
        [
         "16",
         "3",
         " 2022",
         "47486727",
         "41977681.0",
         "5509046.0"
        ],
        [
         "17",
         "2",
         " 2023",
         "48085361",
         "41995741.0",
         "6089620.0"
        ],
        [
         "18",
         "1",
         " 2024",
         "48619695",
         "42117413.0",
         "6502282.0"
        ],
        [
         "19",
         "0",
         " 2025",
         "49077984",
         "42225636.0",
         "6852348.0"
        ]
       ],
       "shape": {
        "columns": 5,
        "rows": 20
       }
      },
      "text/html": [
       "<div>\n",
       "<style scoped>\n",
       "    .dataframe tbody tr th:only-of-type {\n",
       "        vertical-align: middle;\n",
       "    }\n",
       "\n",
       "    .dataframe tbody tr th {\n",
       "        vertical-align: top;\n",
       "    }\n",
       "\n",
       "    .dataframe thead th {\n",
       "        text-align: right;\n",
       "    }\n",
       "</style>\n",
       "<table border=\"1\" class=\"dataframe\">\n",
       "  <thead>\n",
       "    <tr style=\"text-align: right;\">\n",
       "      <th></th>\n",
       "      <th>index</th>\n",
       "      <th>Year</th>\n",
       "      <th>Total_population</th>\n",
       "      <th>Spanish_nationals</th>\n",
       "      <th>Foreign_population</th>\n",
       "    </tr>\n",
       "  </thead>\n",
       "  <tbody>\n",
       "    <tr>\n",
       "      <th>0</th>\n",
       "      <td>19</td>\n",
       "      <td>2006</td>\n",
       "      <td>44009969</td>\n",
       "      <td>40079053.0</td>\n",
       "      <td>3930916.0</td>\n",
       "    </tr>\n",
       "    <tr>\n",
       "      <th>1</th>\n",
       "      <td>18</td>\n",
       "      <td>2007</td>\n",
       "      <td>44784659</td>\n",
       "      <td>40335225.0</td>\n",
       "      <td>4449434.0</td>\n",
       "    </tr>\n",
       "    <tr>\n",
       "      <th>2</th>\n",
       "      <td>17</td>\n",
       "      <td>2008</td>\n",
       "      <td>45668938</td>\n",
       "      <td>40582643.0</td>\n",
       "      <td>5086295.0</td>\n",
       "    </tr>\n",
       "    <tr>\n",
       "      <th>3</th>\n",
       "      <td>16</td>\n",
       "      <td>2009</td>\n",
       "      <td>46239271</td>\n",
       "      <td>40852612.0</td>\n",
       "      <td>5386659.0</td>\n",
       "    </tr>\n",
       "    <tr>\n",
       "      <th>4</th>\n",
       "      <td>15</td>\n",
       "      <td>2010</td>\n",
       "      <td>46486621</td>\n",
       "      <td>41084042.0</td>\n",
       "      <td>5402579.0</td>\n",
       "    </tr>\n",
       "    <tr>\n",
       "      <th>5</th>\n",
       "      <td>14</td>\n",
       "      <td>2011</td>\n",
       "      <td>46667175</td>\n",
       "      <td>41354735.0</td>\n",
       "      <td>5312440.0</td>\n",
       "    </tr>\n",
       "    <tr>\n",
       "      <th>6</th>\n",
       "      <td>13</td>\n",
       "      <td>2012</td>\n",
       "      <td>46818216</td>\n",
       "      <td>41582186.0</td>\n",
       "      <td>5236030.0</td>\n",
       "    </tr>\n",
       "    <tr>\n",
       "      <th>7</th>\n",
       "      <td>12</td>\n",
       "      <td>2013</td>\n",
       "      <td>46712650</td>\n",
       "      <td>41648066.0</td>\n",
       "      <td>5064584.0</td>\n",
       "    </tr>\n",
       "    <tr>\n",
       "      <th>8</th>\n",
       "      <td>11</td>\n",
       "      <td>2014</td>\n",
       "      <td>46495744</td>\n",
       "      <td>41819392.0</td>\n",
       "      <td>4676352.0</td>\n",
       "    </tr>\n",
       "    <tr>\n",
       "      <th>9</th>\n",
       "      <td>10</td>\n",
       "      <td>2015</td>\n",
       "      <td>46425722</td>\n",
       "      <td>41971737.0</td>\n",
       "      <td>4453985.0</td>\n",
       "    </tr>\n",
       "    <tr>\n",
       "      <th>10</th>\n",
       "      <td>9</td>\n",
       "      <td>2016</td>\n",
       "      <td>46418884</td>\n",
       "      <td>41999550.0</td>\n",
       "      <td>4419334.0</td>\n",
       "    </tr>\n",
       "    <tr>\n",
       "      <th>11</th>\n",
       "      <td>8</td>\n",
       "      <td>2017</td>\n",
       "      <td>46497393</td>\n",
       "      <td>42079740.0</td>\n",
       "      <td>4417653.0</td>\n",
       "    </tr>\n",
       "    <tr>\n",
       "      <th>12</th>\n",
       "      <td>7</td>\n",
       "      <td>2018</td>\n",
       "      <td>46645070</td>\n",
       "      <td>42067748.0</td>\n",
       "      <td>4577322.0</td>\n",
       "    </tr>\n",
       "    <tr>\n",
       "      <th>13</th>\n",
       "      <td>6</td>\n",
       "      <td>2019</td>\n",
       "      <td>46918951</td>\n",
       "      <td>42068189.0</td>\n",
       "      <td>4850762.0</td>\n",
       "    </tr>\n",
       "    <tr>\n",
       "      <th>14</th>\n",
       "      <td>5</td>\n",
       "      <td>2020</td>\n",
       "      <td>47318050</td>\n",
       "      <td>42076772.0</td>\n",
       "      <td>5241278.0</td>\n",
       "    </tr>\n",
       "    <tr>\n",
       "      <th>15</th>\n",
       "      <td>4</td>\n",
       "      <td>2021</td>\n",
       "      <td>47400798</td>\n",
       "      <td>41998096.0</td>\n",
       "      <td>5402702.0</td>\n",
       "    </tr>\n",
       "    <tr>\n",
       "      <th>16</th>\n",
       "      <td>3</td>\n",
       "      <td>2022</td>\n",
       "      <td>47486727</td>\n",
       "      <td>41977681.0</td>\n",
       "      <td>5509046.0</td>\n",
       "    </tr>\n",
       "    <tr>\n",
       "      <th>17</th>\n",
       "      <td>2</td>\n",
       "      <td>2023</td>\n",
       "      <td>48085361</td>\n",
       "      <td>41995741.0</td>\n",
       "      <td>6089620.0</td>\n",
       "    </tr>\n",
       "    <tr>\n",
       "      <th>18</th>\n",
       "      <td>1</td>\n",
       "      <td>2024</td>\n",
       "      <td>48619695</td>\n",
       "      <td>42117413.0</td>\n",
       "      <td>6502282.0</td>\n",
       "    </tr>\n",
       "    <tr>\n",
       "      <th>19</th>\n",
       "      <td>0</td>\n",
       "      <td>2025</td>\n",
       "      <td>49077984</td>\n",
       "      <td>42225636.0</td>\n",
       "      <td>6852348.0</td>\n",
       "    </tr>\n",
       "  </tbody>\n",
       "</table>\n",
       "</div>"
      ],
      "text/plain": [
       "    index   Year Total_population Spanish_nationals  Foreign_population\n",
       "0      19   2006         44009969        40079053.0           3930916.0\n",
       "1      18   2007         44784659        40335225.0           4449434.0\n",
       "2      17   2008         45668938        40582643.0           5086295.0\n",
       "3      16   2009         46239271        40852612.0           5386659.0\n",
       "4      15   2010         46486621        41084042.0           5402579.0\n",
       "5      14   2011         46667175        41354735.0           5312440.0\n",
       "6      13   2012         46818216        41582186.0           5236030.0\n",
       "7      12   2013         46712650        41648066.0           5064584.0\n",
       "8      11   2014         46495744        41819392.0           4676352.0\n",
       "9      10   2015         46425722        41971737.0           4453985.0\n",
       "10      9   2016         46418884        41999550.0           4419334.0\n",
       "11      8   2017         46497393        42079740.0           4417653.0\n",
       "12      7   2018         46645070        42067748.0           4577322.0\n",
       "13      6   2019         46918951        42068189.0           4850762.0\n",
       "14      5   2020         47318050        42076772.0           5241278.0\n",
       "15      4   2021         47400798        41998096.0           5402702.0\n",
       "16      3   2022         47486727        41977681.0           5509046.0\n",
       "17      2   2023         48085361        41995741.0           6089620.0\n",
       "18      1   2024         48619695        42117413.0           6502282.0\n",
       "19      0   2025         49077984        42225636.0           6852348.0"
      ]
     },
     "execution_count": 23,
     "metadata": {},
     "output_type": "execute_result"
    }
   ],
   "source": [
    "Population_to_reshape_sorted.reset_index()"
   ]
  },
  {
   "cell_type": "code",
   "execution_count": 24,
   "metadata": {},
   "outputs": [
    {
     "data": {
      "application/vnd.microsoft.datawrangler.viewer.v0+json": {
       "columns": [
        {
         "name": "index",
         "rawType": "int64",
         "type": "integer"
        },
        {
         "name": "Year",
         "rawType": "object",
         "type": "string"
        },
        {
         "name": "Total_population",
         "rawType": "object",
         "type": "unknown"
        },
        {
         "name": "Spanish_nationals",
         "rawType": "object",
         "type": "unknown"
        },
        {
         "name": "Foreign_population",
         "rawType": "float64",
         "type": "float"
        }
       ],
       "conversionMethod": "pd.DataFrame",
       "ref": "8fe2c49a-dafb-4e94-9f86-38d0dcb72450",
       "rows": [
        [
         "19",
         " 2006",
         "44009969",
         "40079053.0",
         "3930916.0"
        ],
        [
         "18",
         " 2007",
         "44784659",
         "40335225.0",
         "4449434.0"
        ],
        [
         "17",
         " 2008",
         "45668938",
         "40582643.0",
         "5086295.0"
        ],
        [
         "16",
         " 2009",
         "46239271",
         "40852612.0",
         "5386659.0"
        ],
        [
         "15",
         " 2010",
         "46486621",
         "41084042.0",
         "5402579.0"
        ]
       ],
       "shape": {
        "columns": 4,
        "rows": 5
       }
      },
      "text/html": [
       "<div>\n",
       "<style scoped>\n",
       "    .dataframe tbody tr th:only-of-type {\n",
       "        vertical-align: middle;\n",
       "    }\n",
       "\n",
       "    .dataframe tbody tr th {\n",
       "        vertical-align: top;\n",
       "    }\n",
       "\n",
       "    .dataframe thead th {\n",
       "        text-align: right;\n",
       "    }\n",
       "</style>\n",
       "<table border=\"1\" class=\"dataframe\">\n",
       "  <thead>\n",
       "    <tr style=\"text-align: right;\">\n",
       "      <th></th>\n",
       "      <th>Year</th>\n",
       "      <th>Total_population</th>\n",
       "      <th>Spanish_nationals</th>\n",
       "      <th>Foreign_population</th>\n",
       "    </tr>\n",
       "  </thead>\n",
       "  <tbody>\n",
       "    <tr>\n",
       "      <th>19</th>\n",
       "      <td>2006</td>\n",
       "      <td>44009969</td>\n",
       "      <td>40079053.0</td>\n",
       "      <td>3930916.0</td>\n",
       "    </tr>\n",
       "    <tr>\n",
       "      <th>18</th>\n",
       "      <td>2007</td>\n",
       "      <td>44784659</td>\n",
       "      <td>40335225.0</td>\n",
       "      <td>4449434.0</td>\n",
       "    </tr>\n",
       "    <tr>\n",
       "      <th>17</th>\n",
       "      <td>2008</td>\n",
       "      <td>45668938</td>\n",
       "      <td>40582643.0</td>\n",
       "      <td>5086295.0</td>\n",
       "    </tr>\n",
       "    <tr>\n",
       "      <th>16</th>\n",
       "      <td>2009</td>\n",
       "      <td>46239271</td>\n",
       "      <td>40852612.0</td>\n",
       "      <td>5386659.0</td>\n",
       "    </tr>\n",
       "    <tr>\n",
       "      <th>15</th>\n",
       "      <td>2010</td>\n",
       "      <td>46486621</td>\n",
       "      <td>41084042.0</td>\n",
       "      <td>5402579.0</td>\n",
       "    </tr>\n",
       "  </tbody>\n",
       "</table>\n",
       "</div>"
      ],
      "text/plain": [
       "     Year Total_population Spanish_nationals  Foreign_population\n",
       "19   2006         44009969        40079053.0           3930916.0\n",
       "18   2007         44784659        40335225.0           4449434.0\n",
       "17   2008         45668938        40582643.0           5086295.0\n",
       "16   2009         46239271        40852612.0           5386659.0\n",
       "15   2010         46486621        41084042.0           5402579.0"
      ]
     },
     "execution_count": 24,
     "metadata": {},
     "output_type": "execute_result"
    }
   ],
   "source": [
    "df_to_reshape = Population_to_reshape_sorted[['Year','Total_population','Spanish_nationals','Foreign_population']]\n",
    "df_to_reshape.head()"
   ]
  },
  {
   "cell_type": "code",
   "execution_count": 25,
   "metadata": {},
   "outputs": [
    {
     "data": {
      "application/vnd.microsoft.datawrangler.viewer.v0+json": {
       "columns": [
        {
         "name": "index",
         "rawType": "int64",
         "type": "integer"
        },
        {
         "name": "Year",
         "rawType": "object",
         "type": "string"
        },
        {
         "name": "Spanish_nationals",
         "rawType": "object",
         "type": "unknown"
        },
        {
         "name": "Foreign_population",
         "rawType": "float64",
         "type": "float"
        }
       ],
       "conversionMethod": "pd.DataFrame",
       "ref": "2d72e42b-7f17-4ae2-998e-058b18ee4286",
       "rows": [
        [
         "19",
         " 2006",
         "40079053.0",
         "3930916.0"
        ],
        [
         "18",
         " 2007",
         "40335225.0",
         "4449434.0"
        ],
        [
         "17",
         " 2008",
         "40582643.0",
         "5086295.0"
        ],
        [
         "16",
         " 2009",
         "40852612.0",
         "5386659.0"
        ],
        [
         "15",
         " 2010",
         "41084042.0",
         "5402579.0"
        ]
       ],
       "shape": {
        "columns": 3,
        "rows": 5
       }
      },
      "text/html": [
       "<div>\n",
       "<style scoped>\n",
       "    .dataframe tbody tr th:only-of-type {\n",
       "        vertical-align: middle;\n",
       "    }\n",
       "\n",
       "    .dataframe tbody tr th {\n",
       "        vertical-align: top;\n",
       "    }\n",
       "\n",
       "    .dataframe thead th {\n",
       "        text-align: right;\n",
       "    }\n",
       "</style>\n",
       "<table border=\"1\" class=\"dataframe\">\n",
       "  <thead>\n",
       "    <tr style=\"text-align: right;\">\n",
       "      <th></th>\n",
       "      <th>Year</th>\n",
       "      <th>Spanish_nationals</th>\n",
       "      <th>Foreign_population</th>\n",
       "    </tr>\n",
       "  </thead>\n",
       "  <tbody>\n",
       "    <tr>\n",
       "      <th>19</th>\n",
       "      <td>2006</td>\n",
       "      <td>40079053.0</td>\n",
       "      <td>3930916.0</td>\n",
       "    </tr>\n",
       "    <tr>\n",
       "      <th>18</th>\n",
       "      <td>2007</td>\n",
       "      <td>40335225.0</td>\n",
       "      <td>4449434.0</td>\n",
       "    </tr>\n",
       "    <tr>\n",
       "      <th>17</th>\n",
       "      <td>2008</td>\n",
       "      <td>40582643.0</td>\n",
       "      <td>5086295.0</td>\n",
       "    </tr>\n",
       "    <tr>\n",
       "      <th>16</th>\n",
       "      <td>2009</td>\n",
       "      <td>40852612.0</td>\n",
       "      <td>5386659.0</td>\n",
       "    </tr>\n",
       "    <tr>\n",
       "      <th>15</th>\n",
       "      <td>2010</td>\n",
       "      <td>41084042.0</td>\n",
       "      <td>5402579.0</td>\n",
       "    </tr>\n",
       "  </tbody>\n",
       "</table>\n",
       "</div>"
      ],
      "text/plain": [
       "     Year Spanish_nationals  Foreign_population\n",
       "19   2006        40079053.0           3930916.0\n",
       "18   2007        40335225.0           4449434.0\n",
       "17   2008        40582643.0           5086295.0\n",
       "16   2009        40852612.0           5386659.0\n",
       "15   2010        41084042.0           5402579.0"
      ]
     },
     "execution_count": 25,
     "metadata": {},
     "output_type": "execute_result"
    }
   ],
   "source": [
    "df_to_reshape_subset = df_to_reshape[['Year','Spanish_nationals','Foreign_population']]\n",
    "df_to_reshape_subset.head()"
   ]
  },
  {
   "cell_type": "markdown",
   "metadata": {},
   "source": [
    "- Now we reshape our data from wide to long using  pd.melt() method"
   ]
  },
  {
   "cell_type": "code",
   "execution_count": 26,
   "metadata": {},
   "outputs": [
    {
     "data": {
      "application/vnd.microsoft.datawrangler.viewer.v0+json": {
       "columns": [
        {
         "name": "index",
         "rawType": "int64",
         "type": "integer"
        },
        {
         "name": "Year",
         "rawType": "object",
         "type": "string"
        },
        {
         "name": "variable",
         "rawType": "object",
         "type": "string"
        },
        {
         "name": "value",
         "rawType": "object",
         "type": "unknown"
        }
       ],
       "conversionMethod": "pd.DataFrame",
       "ref": "ae800773-20a8-4367-bfe2-732b66d0f7ae",
       "rows": [
        [
         "0",
         " 2006",
         "Spanish_nationals",
         "40079053.0"
        ],
        [
         "1",
         " 2007",
         "Spanish_nationals",
         "40335225.0"
        ],
        [
         "2",
         " 2008",
         "Spanish_nationals",
         "40582643.0"
        ],
        [
         "3",
         " 2009",
         "Spanish_nationals",
         "40852612.0"
        ],
        [
         "4",
         " 2010",
         "Spanish_nationals",
         "41084042.0"
        ],
        [
         "5",
         " 2011",
         "Spanish_nationals",
         "41354735.0"
        ],
        [
         "6",
         " 2012",
         "Spanish_nationals",
         "41582186.0"
        ],
        [
         "7",
         " 2013",
         "Spanish_nationals",
         "41648066.0"
        ],
        [
         "8",
         " 2014",
         "Spanish_nationals",
         "41819392.0"
        ],
        [
         "9",
         " 2015",
         "Spanish_nationals",
         "41971737.0"
        ],
        [
         "10",
         " 2016",
         "Spanish_nationals",
         "41999550.0"
        ],
        [
         "11",
         " 2017",
         "Spanish_nationals",
         "42079740.0"
        ],
        [
         "12",
         " 2018",
         "Spanish_nationals",
         "42067748.0"
        ],
        [
         "13",
         " 2019",
         "Spanish_nationals",
         "42068189.0"
        ],
        [
         "14",
         " 2020",
         "Spanish_nationals",
         "42076772.0"
        ],
        [
         "15",
         " 2021",
         "Spanish_nationals",
         "41998096.0"
        ],
        [
         "16",
         " 2022",
         "Spanish_nationals",
         "41977681.0"
        ],
        [
         "17",
         " 2023",
         "Spanish_nationals",
         "41995741.0"
        ],
        [
         "18",
         " 2024",
         "Spanish_nationals",
         "42117413.0"
        ],
        [
         "19",
         " 2025",
         "Spanish_nationals",
         "42225636.0"
        ],
        [
         "20",
         " 2006",
         "Foreign_population",
         "3930916.0"
        ],
        [
         "21",
         " 2007",
         "Foreign_population",
         "4449434.0"
        ],
        [
         "22",
         " 2008",
         "Foreign_population",
         "5086295.0"
        ],
        [
         "23",
         " 2009",
         "Foreign_population",
         "5386659.0"
        ],
        [
         "24",
         " 2010",
         "Foreign_population",
         "5402579.0"
        ],
        [
         "25",
         " 2011",
         "Foreign_population",
         "5312440.0"
        ],
        [
         "26",
         " 2012",
         "Foreign_population",
         "5236030.0"
        ],
        [
         "27",
         " 2013",
         "Foreign_population",
         "5064584.0"
        ],
        [
         "28",
         " 2014",
         "Foreign_population",
         "4676352.0"
        ],
        [
         "29",
         " 2015",
         "Foreign_population",
         "4453985.0"
        ],
        [
         "30",
         " 2016",
         "Foreign_population",
         "4419334.0"
        ],
        [
         "31",
         " 2017",
         "Foreign_population",
         "4417653.0"
        ],
        [
         "32",
         " 2018",
         "Foreign_population",
         "4577322.0"
        ],
        [
         "33",
         " 2019",
         "Foreign_population",
         "4850762.0"
        ],
        [
         "34",
         " 2020",
         "Foreign_population",
         "5241278.0"
        ],
        [
         "35",
         " 2021",
         "Foreign_population",
         "5402702.0"
        ],
        [
         "36",
         " 2022",
         "Foreign_population",
         "5509046.0"
        ],
        [
         "37",
         " 2023",
         "Foreign_population",
         "6089620.0"
        ],
        [
         "38",
         " 2024",
         "Foreign_population",
         "6502282.0"
        ],
        [
         "39",
         " 2025",
         "Foreign_population",
         "6852348.0"
        ]
       ],
       "shape": {
        "columns": 3,
        "rows": 40
       }
      },
      "text/html": [
       "<div>\n",
       "<style scoped>\n",
       "    .dataframe tbody tr th:only-of-type {\n",
       "        vertical-align: middle;\n",
       "    }\n",
       "\n",
       "    .dataframe tbody tr th {\n",
       "        vertical-align: top;\n",
       "    }\n",
       "\n",
       "    .dataframe thead th {\n",
       "        text-align: right;\n",
       "    }\n",
       "</style>\n",
       "<table border=\"1\" class=\"dataframe\">\n",
       "  <thead>\n",
       "    <tr style=\"text-align: right;\">\n",
       "      <th></th>\n",
       "      <th>Year</th>\n",
       "      <th>variable</th>\n",
       "      <th>value</th>\n",
       "    </tr>\n",
       "  </thead>\n",
       "  <tbody>\n",
       "    <tr>\n",
       "      <th>0</th>\n",
       "      <td>2006</td>\n",
       "      <td>Spanish_nationals</td>\n",
       "      <td>40079053.0</td>\n",
       "    </tr>\n",
       "    <tr>\n",
       "      <th>1</th>\n",
       "      <td>2007</td>\n",
       "      <td>Spanish_nationals</td>\n",
       "      <td>40335225.0</td>\n",
       "    </tr>\n",
       "    <tr>\n",
       "      <th>2</th>\n",
       "      <td>2008</td>\n",
       "      <td>Spanish_nationals</td>\n",
       "      <td>40582643.0</td>\n",
       "    </tr>\n",
       "    <tr>\n",
       "      <th>3</th>\n",
       "      <td>2009</td>\n",
       "      <td>Spanish_nationals</td>\n",
       "      <td>40852612.0</td>\n",
       "    </tr>\n",
       "    <tr>\n",
       "      <th>4</th>\n",
       "      <td>2010</td>\n",
       "      <td>Spanish_nationals</td>\n",
       "      <td>41084042.0</td>\n",
       "    </tr>\n",
       "    <tr>\n",
       "      <th>5</th>\n",
       "      <td>2011</td>\n",
       "      <td>Spanish_nationals</td>\n",
       "      <td>41354735.0</td>\n",
       "    </tr>\n",
       "    <tr>\n",
       "      <th>6</th>\n",
       "      <td>2012</td>\n",
       "      <td>Spanish_nationals</td>\n",
       "      <td>41582186.0</td>\n",
       "    </tr>\n",
       "    <tr>\n",
       "      <th>7</th>\n",
       "      <td>2013</td>\n",
       "      <td>Spanish_nationals</td>\n",
       "      <td>41648066.0</td>\n",
       "    </tr>\n",
       "    <tr>\n",
       "      <th>8</th>\n",
       "      <td>2014</td>\n",
       "      <td>Spanish_nationals</td>\n",
       "      <td>41819392.0</td>\n",
       "    </tr>\n",
       "    <tr>\n",
       "      <th>9</th>\n",
       "      <td>2015</td>\n",
       "      <td>Spanish_nationals</td>\n",
       "      <td>41971737.0</td>\n",
       "    </tr>\n",
       "    <tr>\n",
       "      <th>10</th>\n",
       "      <td>2016</td>\n",
       "      <td>Spanish_nationals</td>\n",
       "      <td>41999550.0</td>\n",
       "    </tr>\n",
       "    <tr>\n",
       "      <th>11</th>\n",
       "      <td>2017</td>\n",
       "      <td>Spanish_nationals</td>\n",
       "      <td>42079740.0</td>\n",
       "    </tr>\n",
       "    <tr>\n",
       "      <th>12</th>\n",
       "      <td>2018</td>\n",
       "      <td>Spanish_nationals</td>\n",
       "      <td>42067748.0</td>\n",
       "    </tr>\n",
       "    <tr>\n",
       "      <th>13</th>\n",
       "      <td>2019</td>\n",
       "      <td>Spanish_nationals</td>\n",
       "      <td>42068189.0</td>\n",
       "    </tr>\n",
       "    <tr>\n",
       "      <th>14</th>\n",
       "      <td>2020</td>\n",
       "      <td>Spanish_nationals</td>\n",
       "      <td>42076772.0</td>\n",
       "    </tr>\n",
       "    <tr>\n",
       "      <th>15</th>\n",
       "      <td>2021</td>\n",
       "      <td>Spanish_nationals</td>\n",
       "      <td>41998096.0</td>\n",
       "    </tr>\n",
       "    <tr>\n",
       "      <th>16</th>\n",
       "      <td>2022</td>\n",
       "      <td>Spanish_nationals</td>\n",
       "      <td>41977681.0</td>\n",
       "    </tr>\n",
       "    <tr>\n",
       "      <th>17</th>\n",
       "      <td>2023</td>\n",
       "      <td>Spanish_nationals</td>\n",
       "      <td>41995741.0</td>\n",
       "    </tr>\n",
       "    <tr>\n",
       "      <th>18</th>\n",
       "      <td>2024</td>\n",
       "      <td>Spanish_nationals</td>\n",
       "      <td>42117413.0</td>\n",
       "    </tr>\n",
       "    <tr>\n",
       "      <th>19</th>\n",
       "      <td>2025</td>\n",
       "      <td>Spanish_nationals</td>\n",
       "      <td>42225636.0</td>\n",
       "    </tr>\n",
       "    <tr>\n",
       "      <th>20</th>\n",
       "      <td>2006</td>\n",
       "      <td>Foreign_population</td>\n",
       "      <td>3930916.0</td>\n",
       "    </tr>\n",
       "    <tr>\n",
       "      <th>21</th>\n",
       "      <td>2007</td>\n",
       "      <td>Foreign_population</td>\n",
       "      <td>4449434.0</td>\n",
       "    </tr>\n",
       "    <tr>\n",
       "      <th>22</th>\n",
       "      <td>2008</td>\n",
       "      <td>Foreign_population</td>\n",
       "      <td>5086295.0</td>\n",
       "    </tr>\n",
       "    <tr>\n",
       "      <th>23</th>\n",
       "      <td>2009</td>\n",
       "      <td>Foreign_population</td>\n",
       "      <td>5386659.0</td>\n",
       "    </tr>\n",
       "    <tr>\n",
       "      <th>24</th>\n",
       "      <td>2010</td>\n",
       "      <td>Foreign_population</td>\n",
       "      <td>5402579.0</td>\n",
       "    </tr>\n",
       "    <tr>\n",
       "      <th>25</th>\n",
       "      <td>2011</td>\n",
       "      <td>Foreign_population</td>\n",
       "      <td>5312440.0</td>\n",
       "    </tr>\n",
       "    <tr>\n",
       "      <th>26</th>\n",
       "      <td>2012</td>\n",
       "      <td>Foreign_population</td>\n",
       "      <td>5236030.0</td>\n",
       "    </tr>\n",
       "    <tr>\n",
       "      <th>27</th>\n",
       "      <td>2013</td>\n",
       "      <td>Foreign_population</td>\n",
       "      <td>5064584.0</td>\n",
       "    </tr>\n",
       "    <tr>\n",
       "      <th>28</th>\n",
       "      <td>2014</td>\n",
       "      <td>Foreign_population</td>\n",
       "      <td>4676352.0</td>\n",
       "    </tr>\n",
       "    <tr>\n",
       "      <th>29</th>\n",
       "      <td>2015</td>\n",
       "      <td>Foreign_population</td>\n",
       "      <td>4453985.0</td>\n",
       "    </tr>\n",
       "    <tr>\n",
       "      <th>30</th>\n",
       "      <td>2016</td>\n",
       "      <td>Foreign_population</td>\n",
       "      <td>4419334.0</td>\n",
       "    </tr>\n",
       "    <tr>\n",
       "      <th>31</th>\n",
       "      <td>2017</td>\n",
       "      <td>Foreign_population</td>\n",
       "      <td>4417653.0</td>\n",
       "    </tr>\n",
       "    <tr>\n",
       "      <th>32</th>\n",
       "      <td>2018</td>\n",
       "      <td>Foreign_population</td>\n",
       "      <td>4577322.0</td>\n",
       "    </tr>\n",
       "    <tr>\n",
       "      <th>33</th>\n",
       "      <td>2019</td>\n",
       "      <td>Foreign_population</td>\n",
       "      <td>4850762.0</td>\n",
       "    </tr>\n",
       "    <tr>\n",
       "      <th>34</th>\n",
       "      <td>2020</td>\n",
       "      <td>Foreign_population</td>\n",
       "      <td>5241278.0</td>\n",
       "    </tr>\n",
       "    <tr>\n",
       "      <th>35</th>\n",
       "      <td>2021</td>\n",
       "      <td>Foreign_population</td>\n",
       "      <td>5402702.0</td>\n",
       "    </tr>\n",
       "    <tr>\n",
       "      <th>36</th>\n",
       "      <td>2022</td>\n",
       "      <td>Foreign_population</td>\n",
       "      <td>5509046.0</td>\n",
       "    </tr>\n",
       "    <tr>\n",
       "      <th>37</th>\n",
       "      <td>2023</td>\n",
       "      <td>Foreign_population</td>\n",
       "      <td>6089620.0</td>\n",
       "    </tr>\n",
       "    <tr>\n",
       "      <th>38</th>\n",
       "      <td>2024</td>\n",
       "      <td>Foreign_population</td>\n",
       "      <td>6502282.0</td>\n",
       "    </tr>\n",
       "    <tr>\n",
       "      <th>39</th>\n",
       "      <td>2025</td>\n",
       "      <td>Foreign_population</td>\n",
       "      <td>6852348.0</td>\n",
       "    </tr>\n",
       "  </tbody>\n",
       "</table>\n",
       "</div>"
      ],
      "text/plain": [
       "     Year            variable       value\n",
       "0    2006   Spanish_nationals  40079053.0\n",
       "1    2007   Spanish_nationals  40335225.0\n",
       "2    2008   Spanish_nationals  40582643.0\n",
       "3    2009   Spanish_nationals  40852612.0\n",
       "4    2010   Spanish_nationals  41084042.0\n",
       "5    2011   Spanish_nationals  41354735.0\n",
       "6    2012   Spanish_nationals  41582186.0\n",
       "7    2013   Spanish_nationals  41648066.0\n",
       "8    2014   Spanish_nationals  41819392.0\n",
       "9    2015   Spanish_nationals  41971737.0\n",
       "10   2016   Spanish_nationals  41999550.0\n",
       "11   2017   Spanish_nationals  42079740.0\n",
       "12   2018   Spanish_nationals  42067748.0\n",
       "13   2019   Spanish_nationals  42068189.0\n",
       "14   2020   Spanish_nationals  42076772.0\n",
       "15   2021   Spanish_nationals  41998096.0\n",
       "16   2022   Spanish_nationals  41977681.0\n",
       "17   2023   Spanish_nationals  41995741.0\n",
       "18   2024   Spanish_nationals  42117413.0\n",
       "19   2025   Spanish_nationals  42225636.0\n",
       "20   2006  Foreign_population   3930916.0\n",
       "21   2007  Foreign_population   4449434.0\n",
       "22   2008  Foreign_population   5086295.0\n",
       "23   2009  Foreign_population   5386659.0\n",
       "24   2010  Foreign_population   5402579.0\n",
       "25   2011  Foreign_population   5312440.0\n",
       "26   2012  Foreign_population   5236030.0\n",
       "27   2013  Foreign_population   5064584.0\n",
       "28   2014  Foreign_population   4676352.0\n",
       "29   2015  Foreign_population   4453985.0\n",
       "30   2016  Foreign_population   4419334.0\n",
       "31   2017  Foreign_population   4417653.0\n",
       "32   2018  Foreign_population   4577322.0\n",
       "33   2019  Foreign_population   4850762.0\n",
       "34   2020  Foreign_population   5241278.0\n",
       "35   2021  Foreign_population   5402702.0\n",
       "36   2022  Foreign_population   5509046.0\n",
       "37   2023  Foreign_population   6089620.0\n",
       "38   2024  Foreign_population   6502282.0\n",
       "39   2025  Foreign_population   6852348.0"
      ]
     },
     "execution_count": 26,
     "metadata": {},
     "output_type": "execute_result"
    }
   ],
   "source": [
    "population_long = pd.melt(df_to_reshape_subset, id_vars= 'Year',value_vars=['Spanish_nationals','Foreign_population'])\n",
    "population_long"
   ]
  },
  {
   "cell_type": "markdown",
   "metadata": {},
   "source": [
    "Check all records displayed as rows are now displayed on a single column at the top ond bottom of the newly reshpaed long dataframe"
   ]
  },
  {
   "cell_type": "code",
   "execution_count": 27,
   "metadata": {},
   "outputs": [
    {
     "data": {
      "application/vnd.microsoft.datawrangler.viewer.v0+json": {
       "columns": [
        {
         "name": "index",
         "rawType": "int64",
         "type": "integer"
        },
        {
         "name": "Year",
         "rawType": "object",
         "type": "string"
        },
        {
         "name": "variable",
         "rawType": "object",
         "type": "string"
        },
        {
         "name": "value",
         "rawType": "object",
         "type": "unknown"
        }
       ],
       "conversionMethod": "pd.DataFrame",
       "ref": "7e11bc77-29de-41c4-93ee-119d23ae598a",
       "rows": [
        [
         "0",
         " 2006",
         "Spanish_nationals",
         "40079053.0"
        ],
        [
         "1",
         " 2007",
         "Spanish_nationals",
         "40335225.0"
        ],
        [
         "2",
         " 2008",
         "Spanish_nationals",
         "40582643.0"
        ],
        [
         "3",
         " 2009",
         "Spanish_nationals",
         "40852612.0"
        ],
        [
         "4",
         " 2010",
         "Spanish_nationals",
         "41084042.0"
        ]
       ],
       "shape": {
        "columns": 3,
        "rows": 5
       }
      },
      "text/html": [
       "<div>\n",
       "<style scoped>\n",
       "    .dataframe tbody tr th:only-of-type {\n",
       "        vertical-align: middle;\n",
       "    }\n",
       "\n",
       "    .dataframe tbody tr th {\n",
       "        vertical-align: top;\n",
       "    }\n",
       "\n",
       "    .dataframe thead th {\n",
       "        text-align: right;\n",
       "    }\n",
       "</style>\n",
       "<table border=\"1\" class=\"dataframe\">\n",
       "  <thead>\n",
       "    <tr style=\"text-align: right;\">\n",
       "      <th></th>\n",
       "      <th>Year</th>\n",
       "      <th>variable</th>\n",
       "      <th>value</th>\n",
       "    </tr>\n",
       "  </thead>\n",
       "  <tbody>\n",
       "    <tr>\n",
       "      <th>0</th>\n",
       "      <td>2006</td>\n",
       "      <td>Spanish_nationals</td>\n",
       "      <td>40079053.0</td>\n",
       "    </tr>\n",
       "    <tr>\n",
       "      <th>1</th>\n",
       "      <td>2007</td>\n",
       "      <td>Spanish_nationals</td>\n",
       "      <td>40335225.0</td>\n",
       "    </tr>\n",
       "    <tr>\n",
       "      <th>2</th>\n",
       "      <td>2008</td>\n",
       "      <td>Spanish_nationals</td>\n",
       "      <td>40582643.0</td>\n",
       "    </tr>\n",
       "    <tr>\n",
       "      <th>3</th>\n",
       "      <td>2009</td>\n",
       "      <td>Spanish_nationals</td>\n",
       "      <td>40852612.0</td>\n",
       "    </tr>\n",
       "    <tr>\n",
       "      <th>4</th>\n",
       "      <td>2010</td>\n",
       "      <td>Spanish_nationals</td>\n",
       "      <td>41084042.0</td>\n",
       "    </tr>\n",
       "  </tbody>\n",
       "</table>\n",
       "</div>"
      ],
      "text/plain": [
       "    Year           variable       value\n",
       "0   2006  Spanish_nationals  40079053.0\n",
       "1   2007  Spanish_nationals  40335225.0\n",
       "2   2008  Spanish_nationals  40582643.0\n",
       "3   2009  Spanish_nationals  40852612.0\n",
       "4   2010  Spanish_nationals  41084042.0"
      ]
     },
     "execution_count": 27,
     "metadata": {},
     "output_type": "execute_result"
    }
   ],
   "source": [
    "population_long.head(5)"
   ]
  },
  {
   "cell_type": "code",
   "execution_count": 28,
   "metadata": {},
   "outputs": [
    {
     "data": {
      "application/vnd.microsoft.datawrangler.viewer.v0+json": {
       "columns": [
        {
         "name": "index",
         "rawType": "int64",
         "type": "integer"
        },
        {
         "name": "Year",
         "rawType": "object",
         "type": "string"
        },
        {
         "name": "variable",
         "rawType": "object",
         "type": "string"
        },
        {
         "name": "value",
         "rawType": "object",
         "type": "unknown"
        }
       ],
       "conversionMethod": "pd.DataFrame",
       "ref": "ead32b54-fd01-41cd-9776-12bdba9cd8ff",
       "rows": [
        [
         "35",
         " 2021",
         "Foreign_population",
         "5402702.0"
        ],
        [
         "36",
         " 2022",
         "Foreign_population",
         "5509046.0"
        ],
        [
         "37",
         " 2023",
         "Foreign_population",
         "6089620.0"
        ],
        [
         "38",
         " 2024",
         "Foreign_population",
         "6502282.0"
        ],
        [
         "39",
         " 2025",
         "Foreign_population",
         "6852348.0"
        ]
       ],
       "shape": {
        "columns": 3,
        "rows": 5
       }
      },
      "text/html": [
       "<div>\n",
       "<style scoped>\n",
       "    .dataframe tbody tr th:only-of-type {\n",
       "        vertical-align: middle;\n",
       "    }\n",
       "\n",
       "    .dataframe tbody tr th {\n",
       "        vertical-align: top;\n",
       "    }\n",
       "\n",
       "    .dataframe thead th {\n",
       "        text-align: right;\n",
       "    }\n",
       "</style>\n",
       "<table border=\"1\" class=\"dataframe\">\n",
       "  <thead>\n",
       "    <tr style=\"text-align: right;\">\n",
       "      <th></th>\n",
       "      <th>Year</th>\n",
       "      <th>variable</th>\n",
       "      <th>value</th>\n",
       "    </tr>\n",
       "  </thead>\n",
       "  <tbody>\n",
       "    <tr>\n",
       "      <th>35</th>\n",
       "      <td>2021</td>\n",
       "      <td>Foreign_population</td>\n",
       "      <td>5402702.0</td>\n",
       "    </tr>\n",
       "    <tr>\n",
       "      <th>36</th>\n",
       "      <td>2022</td>\n",
       "      <td>Foreign_population</td>\n",
       "      <td>5509046.0</td>\n",
       "    </tr>\n",
       "    <tr>\n",
       "      <th>37</th>\n",
       "      <td>2023</td>\n",
       "      <td>Foreign_population</td>\n",
       "      <td>6089620.0</td>\n",
       "    </tr>\n",
       "    <tr>\n",
       "      <th>38</th>\n",
       "      <td>2024</td>\n",
       "      <td>Foreign_population</td>\n",
       "      <td>6502282.0</td>\n",
       "    </tr>\n",
       "    <tr>\n",
       "      <th>39</th>\n",
       "      <td>2025</td>\n",
       "      <td>Foreign_population</td>\n",
       "      <td>6852348.0</td>\n",
       "    </tr>\n",
       "  </tbody>\n",
       "</table>\n",
       "</div>"
      ],
      "text/plain": [
       "     Year            variable      value\n",
       "35   2021  Foreign_population  5402702.0\n",
       "36   2022  Foreign_population  5509046.0\n",
       "37   2023  Foreign_population  6089620.0\n",
       "38   2024  Foreign_population  6502282.0\n",
       "39   2025  Foreign_population  6852348.0"
      ]
     },
     "execution_count": 28,
     "metadata": {},
     "output_type": "execute_result"
    }
   ],
   "source": [
    "population_long.tail(5)"
   ]
  },
  {
   "cell_type": "markdown",
   "metadata": {},
   "source": [
    "After reshaping our data we have Spanish nationals at the top and foreign population at the bottom of the newly creaetd \"variable\" column"
   ]
  },
  {
   "cell_type": "markdown",
   "metadata": {},
   "source": [
    "- So we can rename \"variable\" by \"nationality\" that we will use later on in the seaborn stacked percent bar chart"
   ]
  },
  {
   "cell_type": "code",
   "execution_count": 29,
   "metadata": {},
   "outputs": [
    {
     "data": {
      "text/plain": [
       "Index(['Year', 'variable', 'value'], dtype='object')"
      ]
     },
     "execution_count": 29,
     "metadata": {},
     "output_type": "execute_result"
    }
   ],
   "source": [
    "population_long.columns"
   ]
  },
  {
   "cell_type": "code",
   "execution_count": 30,
   "metadata": {},
   "outputs": [
    {
     "data": {
      "application/vnd.microsoft.datawrangler.viewer.v0+json": {
       "columns": [
        {
         "name": "index",
         "rawType": "int64",
         "type": "integer"
        },
        {
         "name": "Year",
         "rawType": "object",
         "type": "string"
        },
        {
         "name": "Nationality",
         "rawType": "object",
         "type": "string"
        },
        {
         "name": "Value",
         "rawType": "object",
         "type": "unknown"
        }
       ],
       "conversionMethod": "pd.DataFrame",
       "ref": "db235d8b-e32d-4176-a404-667b266ece44",
       "rows": [
        [
         "0",
         " 2006",
         "Spanish_nationals",
         "40079053.0"
        ],
        [
         "1",
         " 2007",
         "Spanish_nationals",
         "40335225.0"
        ],
        [
         "2",
         " 2008",
         "Spanish_nationals",
         "40582643.0"
        ],
        [
         "3",
         " 2009",
         "Spanish_nationals",
         "40852612.0"
        ],
        [
         "4",
         " 2010",
         "Spanish_nationals",
         "41084042.0"
        ]
       ],
       "shape": {
        "columns": 3,
        "rows": 5
       }
      },
      "text/html": [
       "<div>\n",
       "<style scoped>\n",
       "    .dataframe tbody tr th:only-of-type {\n",
       "        vertical-align: middle;\n",
       "    }\n",
       "\n",
       "    .dataframe tbody tr th {\n",
       "        vertical-align: top;\n",
       "    }\n",
       "\n",
       "    .dataframe thead th {\n",
       "        text-align: right;\n",
       "    }\n",
       "</style>\n",
       "<table border=\"1\" class=\"dataframe\">\n",
       "  <thead>\n",
       "    <tr style=\"text-align: right;\">\n",
       "      <th></th>\n",
       "      <th>Year</th>\n",
       "      <th>Nationality</th>\n",
       "      <th>Value</th>\n",
       "    </tr>\n",
       "  </thead>\n",
       "  <tbody>\n",
       "    <tr>\n",
       "      <th>0</th>\n",
       "      <td>2006</td>\n",
       "      <td>Spanish_nationals</td>\n",
       "      <td>40079053.0</td>\n",
       "    </tr>\n",
       "    <tr>\n",
       "      <th>1</th>\n",
       "      <td>2007</td>\n",
       "      <td>Spanish_nationals</td>\n",
       "      <td>40335225.0</td>\n",
       "    </tr>\n",
       "    <tr>\n",
       "      <th>2</th>\n",
       "      <td>2008</td>\n",
       "      <td>Spanish_nationals</td>\n",
       "      <td>40582643.0</td>\n",
       "    </tr>\n",
       "    <tr>\n",
       "      <th>3</th>\n",
       "      <td>2009</td>\n",
       "      <td>Spanish_nationals</td>\n",
       "      <td>40852612.0</td>\n",
       "    </tr>\n",
       "    <tr>\n",
       "      <th>4</th>\n",
       "      <td>2010</td>\n",
       "      <td>Spanish_nationals</td>\n",
       "      <td>41084042.0</td>\n",
       "    </tr>\n",
       "  </tbody>\n",
       "</table>\n",
       "</div>"
      ],
      "text/plain": [
       "    Year        Nationality       Value\n",
       "0   2006  Spanish_nationals  40079053.0\n",
       "1   2007  Spanish_nationals  40335225.0\n",
       "2   2008  Spanish_nationals  40582643.0\n",
       "3   2009  Spanish_nationals  40852612.0\n",
       "4   2010  Spanish_nationals  41084042.0"
      ]
     },
     "execution_count": 30,
     "metadata": {},
     "output_type": "execute_result"
    }
   ],
   "source": [
    "population_long.columns = ['Year','Nationality','Value']\n",
    "population_long.head()"
   ]
  },
  {
   "cell_type": "markdown",
   "metadata": {},
   "source": [
    "### 6. Building the Stacked Barplot using Seaborn"
   ]
  },
  {
   "cell_type": "markdown",
   "metadata": {},
   "source": [
    "Load required libraries to use Seaborn"
   ]
  },
  {
   "cell_type": "code",
   "execution_count": 31,
   "metadata": {},
   "outputs": [],
   "source": [
    "import seaborn as sns\n",
    "import matplotlib.pyplot as plt"
   ]
  },
  {
   "cell_type": "markdown",
   "metadata": {},
   "source": [
    "Now that we have our data in the right shape to create a Stacked barplot, I will start building the plot and then once produced it will be saved in the \"Seaborn_plots\" folder as a .png file"
   ]
  },
  {
   "cell_type": "markdown",
   "metadata": {},
   "source": [
    "- Check the two categories that will make the staked bar chart from Nationality column, using the unique() method."
   ]
  },
  {
   "cell_type": "code",
   "execution_count": 32,
   "metadata": {},
   "outputs": [
    {
     "data": {
      "text/plain": [
       "array(['Spanish_nationals', 'Foreign_population'], dtype=object)"
      ]
     },
     "execution_count": 32,
     "metadata": {},
     "output_type": "execute_result"
    }
   ],
   "source": [
    "population_long['Nationality'].unique()"
   ]
  },
  {
   "cell_type": "markdown",
   "metadata": {},
   "source": [
    "- Set Seaborn theme for our plot , this time we choose \"darkgrid\" theme"
   ]
  },
  {
   "cell_type": "code",
   "execution_count": 33,
   "metadata": {},
   "outputs": [],
   "source": [
    "sns.set_theme(style = \"darkgrid\")"
   ]
  },
  {
   "cell_type": "markdown",
   "metadata": {},
   "source": [
    "- Set figure size"
   ]
  },
  {
   "cell_type": "code",
   "execution_count": 34,
   "metadata": {},
   "outputs": [
    {
     "data": {
      "text/plain": [
       "<Figure size 1400x2400 with 0 Axes>"
      ]
     },
     "execution_count": 34,
     "metadata": {},
     "output_type": "execute_result"
    },
    {
     "data": {
      "text/plain": [
       "<Figure size 1400x2400 with 0 Axes>"
      ]
     },
     "metadata": {},
     "output_type": "display_data"
    }
   ],
   "source": [
    "plt.figure(figsize=(14,24))"
   ]
  },
  {
   "cell_type": "markdown",
   "metadata": {},
   "source": [
    "### 6.1 calculation 01.  Sum of all values "
   ]
  },
  {
   "cell_type": "markdown",
   "metadata": {},
   "source": [
    "First we create a new calculated field that will sum total number of people both Spanish nationals and Foreign population.using groupby() method alongside sum() method. Also we have to reset index after each calculation (aggregation) is performed."
   ]
  },
  {
   "cell_type": "code",
   "execution_count": 35,
   "metadata": {},
   "outputs": [
    {
     "data": {
      "application/vnd.microsoft.datawrangler.viewer.v0+json": {
       "columns": [
        {
         "name": "index",
         "rawType": "int64",
         "type": "integer"
        },
        {
         "name": "Year",
         "rawType": "object",
         "type": "string"
        },
        {
         "name": "Value",
         "rawType": "object",
         "type": "unknown"
        }
       ],
       "conversionMethod": "pd.DataFrame",
       "ref": "d87560ca-0102-442f-ab68-7aadfb53fe94",
       "rows": [
        [
         "0",
         " 2006",
         "44009969.0"
        ],
        [
         "1",
         " 2007",
         "44784659.0"
        ],
        [
         "2",
         " 2008",
         "45668938.0"
        ],
        [
         "3",
         " 2009",
         "46239271.0"
        ],
        [
         "4",
         " 2010",
         "46486621.0"
        ]
       ],
       "shape": {
        "columns": 2,
        "rows": 5
       }
      },
      "text/html": [
       "<div>\n",
       "<style scoped>\n",
       "    .dataframe tbody tr th:only-of-type {\n",
       "        vertical-align: middle;\n",
       "    }\n",
       "\n",
       "    .dataframe tbody tr th {\n",
       "        vertical-align: top;\n",
       "    }\n",
       "\n",
       "    .dataframe thead th {\n",
       "        text-align: right;\n",
       "    }\n",
       "</style>\n",
       "<table border=\"1\" class=\"dataframe\">\n",
       "  <thead>\n",
       "    <tr style=\"text-align: right;\">\n",
       "      <th></th>\n",
       "      <th>Year</th>\n",
       "      <th>Value</th>\n",
       "    </tr>\n",
       "  </thead>\n",
       "  <tbody>\n",
       "    <tr>\n",
       "      <th>0</th>\n",
       "      <td>2006</td>\n",
       "      <td>44009969.0</td>\n",
       "    </tr>\n",
       "    <tr>\n",
       "      <th>1</th>\n",
       "      <td>2007</td>\n",
       "      <td>44784659.0</td>\n",
       "    </tr>\n",
       "    <tr>\n",
       "      <th>2</th>\n",
       "      <td>2008</td>\n",
       "      <td>45668938.0</td>\n",
       "    </tr>\n",
       "    <tr>\n",
       "      <th>3</th>\n",
       "      <td>2009</td>\n",
       "      <td>46239271.0</td>\n",
       "    </tr>\n",
       "    <tr>\n",
       "      <th>4</th>\n",
       "      <td>2010</td>\n",
       "      <td>46486621.0</td>\n",
       "    </tr>\n",
       "  </tbody>\n",
       "</table>\n",
       "</div>"
      ],
      "text/plain": [
       "    Year       Value\n",
       "0   2006  44009969.0\n",
       "1   2007  44784659.0\n",
       "2   2008  45668938.0\n",
       "3   2009  46239271.0\n",
       "4   2010  46486621.0"
      ]
     },
     "execution_count": 35,
     "metadata": {},
     "output_type": "execute_result"
    }
   ],
   "source": [
    "total = population_long.groupby('Year')['Value'].sum().reset_index()\n",
    "total.head()"
   ]
  },
  {
   "cell_type": "markdown",
   "metadata": {},
   "source": [
    "### 6.2 calculation 02. Spanish nationals share of total values for each year  "
   ]
  },
  {
   "cell_type": "code",
   "execution_count": 41,
   "metadata": {},
   "outputs": [],
   "source": [
    "from matplotlib.ticker import ScalarFormatter"
   ]
  },
  {
   "cell_type": "markdown",
   "metadata": {},
   "source": [
    "This calculation will give us for each each the percent value of Spanish nationals out of the total population."
   ]
  },
  {
   "cell_type": "code",
   "execution_count": 42,
   "metadata": {},
   "outputs": [
    {
     "data": {
      "image/png": "[encoded data removed]",
      "text/plain": [
       "<Figure size 3000x1500 with 1 Axes>"
      ]
     },
     "metadata": {},
     "output_type": "display_data"
    }
   ],
   "source": [
    "sns.set_theme()\n",
    "fig = plt.figure(figsize=(30, 15))\n",
    "axs = fig.add_subplot(1, 1, 1)\n",
    "spanish_share = sns.barplot(x = \"Year\", y = \"Value\", data = total, color = 'royalblue'). set_title(\"Spanish nationals population\")\n",
    "formatter = ScalarFormatter()\n",
    "formatter.set_scientific(False)\n",
    "axs.yaxis.set_major_formatter(formatter)\n",
    "plt.show()\n"
   ]
  },
  {
   "cell_type": "markdown",
   "metadata": {},
   "source": [
    "- Choosing different colours for the columns used in this bar chart"
   ]
  },
  {
   "cell_type": "code",
   "execution_count": 49,
   "metadata": {},
   "outputs": [
    {
     "data": {
      "text/html": [
       "<svg  width=\"550\" height=\"55\"><rect x=\"0\" y=\"0\" width=\"55\" height=\"55\" style=\"fill:#4c72b0;stroke-width:2;stroke:rgb(255,255,255)\"/><rect x=\"55\" y=\"0\" width=\"55\" height=\"55\" style=\"fill:#dd8452;stroke-width:2;stroke:rgb(255,255,255)\"/><rect x=\"110\" y=\"0\" width=\"55\" height=\"55\" style=\"fill:#55a868;stroke-width:2;stroke:rgb(255,255,255)\"/><rect x=\"165\" y=\"0\" width=\"55\" height=\"55\" style=\"fill:#c44e52;stroke-width:2;stroke:rgb(255,255,255)\"/><rect x=\"220\" y=\"0\" width=\"55\" height=\"55\" style=\"fill:#8172b3;stroke-width:2;stroke:rgb(255,255,255)\"/><rect x=\"275\" y=\"0\" width=\"55\" height=\"55\" style=\"fill:#937860;stroke-width:2;stroke:rgb(255,255,255)\"/><rect x=\"330\" y=\"0\" width=\"55\" height=\"55\" style=\"fill:#da8bc3;stroke-width:2;stroke:rgb(255,255,255)\"/><rect x=\"385\" y=\"0\" width=\"55\" height=\"55\" style=\"fill:#8c8c8c;stroke-width:2;stroke:rgb(255,255,255)\"/><rect x=\"440\" y=\"0\" width=\"55\" height=\"55\" style=\"fill:#ccb974;stroke-width:2;stroke:rgb(255,255,255)\"/><rect x=\"495\" y=\"0\" width=\"55\" height=\"55\" style=\"fill:#64b5cd;stroke-width:2;stroke:rgb(255,255,255)\"/></svg>"
      ],
      "text/plain": [
       "[(0.2980392156862745, 0.4470588235294118, 0.6901960784313725),\n",
       " (0.8666666666666667, 0.5176470588235295, 0.3215686274509804),\n",
       " (0.3333333333333333, 0.6588235294117647, 0.40784313725490196),\n",
       " (0.7686274509803922, 0.3058823529411765, 0.3215686274509804),\n",
       " (0.5058823529411764, 0.4470588235294118, 0.7019607843137254),\n",
       " (0.5764705882352941, 0.47058823529411764, 0.3764705882352941),\n",
       " (0.8549019607843137, 0.5450980392156862, 0.7647058823529411),\n",
       " (0.5490196078431373, 0.5490196078431373, 0.5490196078431373),\n",
       " (0.8, 0.7254901960784313, 0.4549019607843137),\n",
       " (0.39215686274509803, 0.7098039215686275, 0.803921568627451)]"
      ]
     },
     "execution_count": 49,
     "metadata": {},
     "output_type": "execute_result"
    }
   ],
   "source": [
    "pal01 = sns.color_palette()\n",
    "pal01"
   ]
  },
  {
   "cell_type": "markdown",
   "metadata": {},
   "source": [
    "- Then I only need to retrieve each colour as Hex codes using .as_hex() function"
   ]
  },
  {
   "cell_type": "code",
   "execution_count": 50,
   "metadata": {},
   "outputs": [
    {
     "name": "stdout",
     "output_type": "stream",
     "text": [
      "['#4c72b0', '#dd8452', '#55a868', '#c44e52', '#8172b3', '#937860', '#da8bc3', '#8c8c8c', '#ccb974', '#64b5cd']\n"
     ]
    }
   ],
   "source": [
    "print(sns.color_palette().as_hex())"
   ]
  },
  {
   "cell_type": "markdown",
   "metadata": {},
   "source": [
    "So then I can choose third green colour to be applied on my barplot above:"
   ]
  },
  {
   "cell_type": "code",
   "execution_count": 51,
   "metadata": {},
   "outputs": [
    {
     "data": {
      "image/png": "[encoded data removed]",
      "text/plain": [
       "<Figure size 3000x1500 with 1 Axes>"
      ]
     },
     "metadata": {},
     "output_type": "display_data"
    }
   ],
   "source": [
    "sns.set_theme()\n",
    "fig = plt.figure(figsize=(30, 15))\n",
    "axs = fig.add_subplot(1, 1, 1)\n",
    "spanish_share = sns.barplot(x = \"Year\", y = \"Value\", data = total, color = '#55a868'). set_title(\"Spanish nationals population\")\n",
    "formatter = ScalarFormatter()\n",
    "formatter.set_scientific(False)\n",
    "axs.yaxis.set_major_formatter(formatter)\n",
    "plt.show()"
   ]
  },
  {
   "cell_type": "code",
   "execution_count": null,
   "metadata": {},
   "outputs": [],
   "source": []
  },
  {
   "cell_type": "markdown",
   "metadata": {},
   "source": [
    "Or I could choose a different colour palette as this \"pastel\":"
   ]
  },
  {
   "cell_type": "code",
   "execution_count": 52,
   "metadata": {},
   "outputs": [
    {
     "data": {
      "text/html": [
       "<svg  width=\"550\" height=\"55\"><rect x=\"0\" y=\"0\" width=\"55\" height=\"55\" style=\"fill:#a1c9f4;stroke-width:2;stroke:rgb(255,255,255)\"/><rect x=\"55\" y=\"0\" width=\"55\" height=\"55\" style=\"fill:#ffb482;stroke-width:2;stroke:rgb(255,255,255)\"/><rect x=\"110\" y=\"0\" width=\"55\" height=\"55\" style=\"fill:#8de5a1;stroke-width:2;stroke:rgb(255,255,255)\"/><rect x=\"165\" y=\"0\" width=\"55\" height=\"55\" style=\"fill:#ff9f9b;stroke-width:2;stroke:rgb(255,255,255)\"/><rect x=\"220\" y=\"0\" width=\"55\" height=\"55\" style=\"fill:#d0bbff;stroke-width:2;stroke:rgb(255,255,255)\"/><rect x=\"275\" y=\"0\" width=\"55\" height=\"55\" style=\"fill:#debb9b;stroke-width:2;stroke:rgb(255,255,255)\"/><rect x=\"330\" y=\"0\" width=\"55\" height=\"55\" style=\"fill:#fab0e4;stroke-width:2;stroke:rgb(255,255,255)\"/><rect x=\"385\" y=\"0\" width=\"55\" height=\"55\" style=\"fill:#cfcfcf;stroke-width:2;stroke:rgb(255,255,255)\"/><rect x=\"440\" y=\"0\" width=\"55\" height=\"55\" style=\"fill:#fffea3;stroke-width:2;stroke:rgb(255,255,255)\"/><rect x=\"495\" y=\"0\" width=\"55\" height=\"55\" style=\"fill:#b9f2f0;stroke-width:2;stroke:rgb(255,255,255)\"/></svg>"
      ],
      "text/plain": [
       "[(0.6313725490196078, 0.788235294117647, 0.9568627450980393),\n",
       " (1.0, 0.7058823529411765, 0.5098039215686274),\n",
       " (0.5529411764705883, 0.8980392156862745, 0.6313725490196078),\n",
       " (1.0, 0.6235294117647059, 0.6078431372549019),\n",
       " (0.8156862745098039, 0.7333333333333333, 1.0),\n",
       " (0.8705882352941177, 0.7333333333333333, 0.6078431372549019),\n",
       " (0.9803921568627451, 0.6901960784313725, 0.8941176470588236),\n",
       " (0.8117647058823529, 0.8117647058823529, 0.8117647058823529),\n",
       " (1.0, 0.996078431372549, 0.6392156862745098),\n",
       " (0.7254901960784313, 0.9490196078431372, 0.9411764705882353)]"
      ]
     },
     "execution_count": 52,
     "metadata": {},
     "output_type": "execute_result"
    }
   ],
   "source": [
    "pal02 = sns.color_palette(\"pastel\")\n",
    "pal02"
   ]
  },
  {
   "cell_type": "code",
   "execution_count": 53,
   "metadata": {},
   "outputs": [
    {
     "name": "stdout",
     "output_type": "stream",
     "text": [
      "['#a1c9f4', '#ffb482', '#8de5a1', '#ff9f9b', '#d0bbff', '#debb9b', '#fab0e4', '#cfcfcf', '#fffea3', '#b9f2f0']\n"
     ]
    }
   ],
   "source": [
    "print(sns.color_palette(\"pastel\").as_hex())"
   ]
  },
  {
   "cell_type": "markdown",
   "metadata": {},
   "source": [
    "The only rule I will aply on this stacked bar plot for population by nationality is to apply two colour for the two different categories I am displaying on the same chart from the same colour palette, now that I can find each hex code for each individual colour palette colour."
   ]
  }
 ],
 "metadata": {
  "kernelspec": {
   "display_name": "Python 3",
   "language": "python",
   "name": "python3"
  },
  "language_info": {
   "codemirror_mode": {
    "name": "ipython",
    "version": 3
   },
   "file_extension": ".py",
   "mimetype": "text/x-python",
   "name": "python",
   "nbconvert_exporter": "python",
   "pygments_lexer": "ipython3",
   "version": "3.12.8"
  }
 },
 "nbformat": 4,
 "nbformat_minor": 2
}
