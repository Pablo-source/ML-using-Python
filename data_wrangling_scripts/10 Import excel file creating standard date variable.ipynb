{
 "cells": [
  {
   "cell_type": "markdown",
   "id": "c5e10a00",
   "metadata": {},
   "source": [
    "# 10 Import Excel file creating standard date variable"
   ]
  },
  {
   "cell_type": "markdown",
   "id": "02fa8a43",
   "metadata": {
    "vscode": {
     "languageId": "plaintext"
    }
   },
   "source": [
    "This Jupyter notebook will expand on the topic covered by previous one. After importing Excel file into Python, I will create a new variable as standard Python date variable from a character variable"
   ]
  },
  {
   "cell_type": "markdown",
   "id": "b6720975",
   "metadata": {
    "vscode": {
     "languageId": "plaintext"
    }
   },
   "source": [
    "## 1. Import Excel data into Python"
   ]
  },
  {
   "cell_type": "markdown",
   "id": "65f9a42e",
   "metadata": {},
   "source": [
    "- Import required libraries"
   ]
  },
  {
   "cell_type": "code",
   "execution_count": 1,
   "id": "8387bb5a",
   "metadata": {},
   "outputs": [],
   "source": [
    "import pandas as pd\n",
    "import os\n",
    "import numpy as np"
   ]
  },
  {
   "cell_type": "code",
   "execution_count": 2,
   "id": "37025a3d",
   "metadata": {},
   "outputs": [
    {
     "name": "stdout",
     "output_type": "stream",
     "text": [
      "My working directory is:/home/pablo/Documents/Pablo_ubuntu/Python_github_projects/ML-using-Python/data_wrangling_scripts\n"
     ]
    }
   ],
   "source": [
    "wd = os.getcwd()\n",
    "print(f'My working directory is:{wd}')"
   ]
  },
  {
   "cell_type": "code",
   "execution_count": 3,
   "id": "11ffaa45",
   "metadata": {},
   "outputs": [],
   "source": [
    "project_folder = os.path.join('/home','pablo','Documents','Pablo_ubuntu','Python_github_projects','ML-using-Python')\n",
    "os.chdir(project_folder)"
   ]
  },
  {
   "cell_type": "code",
   "execution_count": 5,
   "id": "e94e8d23",
   "metadata": {},
   "outputs": [],
   "source": [
    "data_folder = os.path.join('/home','pablo','Documents','Pablo_ubuntu','Python_github_projects','ML-using-Python','data')"
   ]
  },
  {
   "cell_type": "code",
   "execution_count": 6,
   "id": "c5625e1d",
   "metadata": {},
   "outputs": [
    {
     "name": "stdout",
     "output_type": "stream",
     "text": [
      "Data fodler path:/home/pablo/Documents/Pablo_ubuntu/Python_github_projects/ML-using-Python\n",
      "Data fodler path:/home/pablo/Documents/Pablo_ubuntu/Python_github_projects/ML-using-Python/data\n"
     ]
    }
   ],
   "source": [
    "print(f'Data fodler path:{project_folder}')\n",
    "print(f'Data fodler path:{data_folder}')"
   ]
  },
  {
   "cell_type": "markdown",
   "id": "c8cac0d2",
   "metadata": {},
   "source": [
    "- Display data folder contents"
   ]
  },
  {
   "cell_type": "code",
   "execution_count": 7,
   "id": "4fe7108a",
   "metadata": {},
   "outputs": [
    {
     "name": "stdout",
     "output_type": "stream",
     "text": [
      "Data folder contents:['monthly-milk-production-pounds.csv', 'winequality-white.csv', 'Monthly-AE-Time-Series-March-2025.xls', 'ONS_long_term_immigration_end2024.xlsx', 'AE_Attendances_TypeI_2010_2025.csv', '03_INE_Spain_natural_growh_births_deaths.xlsx', 'winequality-red.csv', 'INE Resident population country of birth Spain.xlsx', 'ONS_Figure_01_Long_term_emigration_immigration_net_migration.xlsx', 'Monthly-AE-Time-Series-January-2024.xls', 'wine_quality.zip', 'OCDE_countries_population_figures_1970_2022.csv', 'AE_Time_Series_Data_website.txt', '01 INE resident population by nationality Spain and CV 2002 2024.xlsx', 'AE_Attendances_2010_2024.csv', 'INE total and foreign population figures Spain.xlsx', 'Type_I_ATT_TEST.csv', 'all_wine_reset.csv', 'winequality.names', 'AE_Attendances_Aug2010_Mar_2025.csv', '02 INE Spain CV population stocks and flows 2002 2025.xlsx', 'Type_I_ATT_TRAIN.csv', 'ONS_Figure_2__Population_increase_in_mid-2023_was_driven_mostly_by_net_international_migration.xls']\n"
     ]
    }
   ],
   "source": [
    "data_folder_contents = os.listdir(data_folder)\n",
    "print(f'Data folder contents:{data_folder_contents}')"
   ]
  },
  {
   "cell_type": "markdown",
   "id": "4a19d691",
   "metadata": {},
   "source": [
    "- Display just Files ending in .xlsx in our data_folder path"
   ]
  },
  {
   "cell_type": "code",
   "execution_count": 9,
   "id": "49c859d3",
   "metadata": {},
   "outputs": [
    {
     "name": "stdout",
     "output_type": "stream",
     "text": [
      "/data/ONS_long_term_immigration_end2024.xlsx\n",
      "/data/03_INE_Spain_natural_growh_births_deaths.xlsx\n",
      "/data/INE Resident population country of birth Spain.xlsx\n",
      "/data/ONS_Figure_01_Long_term_emigration_immigration_net_migration.xlsx\n",
      "/data/01 INE resident population by nationality Spain and CV 2002 2024.xlsx\n",
      "/data/INE total and foreign population figures Spain.xlsx\n",
      "/data/02 INE Spain CV population stocks and flows 2002 2025.xlsx\n"
     ]
    }
   ],
   "source": [
    "for file in os.listdir(data_folder):\n",
    "    if file.endswith(\".xlsx\"):\n",
    "        print(os.path.join(\"/data\", file))"
   ]
  },
  {
   "cell_type": "markdown",
   "id": "998400cb",
   "metadata": {},
   "source": [
    "- Importing Excel file \"INE total and foreign population figures Spain.xlsx\" from \\data sub-folder."
   ]
  },
  {
   "cell_type": "code",
   "execution_count": 10,
   "id": "33c7b760",
   "metadata": {},
   "outputs": [
    {
     "data": {
      "application/vnd.microsoft.datawrangler.viewer.v0+json": {
       "columns": [
        {
         "name": "index",
         "rawType": "int64",
         "type": "integer"
        },
        {
         "name": " ",
         "rawType": "object",
         "type": "string"
        },
        {
         "name": "Total",
         "rawType": "object",
         "type": "unknown"
        }
       ],
       "ref": "aa86d279-f9cd-427b-ba04-9939f47f41fd",
       "rows": [
        [
         "0",
         "1 de enero de 2024",
         "48619695"
        ],
        [
         "1",
         "1 de octubre de 2023",
         "48486865"
        ],
        [
         "2",
         "1 de julio de 2023",
         "48320520"
        ],
        [
         "3",
         "1 de abril de 2023",
         "48205962"
        ],
        [
         "4",
         "1 de enero de 2023",
         "48085361"
        ]
       ],
       "shape": {
        "columns": 2,
        "rows": 5
       }
      },
      "text/html": [
       "<div>\n",
       "<style scoped>\n",
       "    .dataframe tbody tr th:only-of-type {\n",
       "        vertical-align: middle;\n",
       "    }\n",
       "\n",
       "    .dataframe tbody tr th {\n",
       "        vertical-align: top;\n",
       "    }\n",
       "\n",
       "    .dataframe thead th {\n",
       "        text-align: right;\n",
       "    }\n",
       "</style>\n",
       "<table border=\"1\" class=\"dataframe\">\n",
       "  <thead>\n",
       "    <tr style=\"text-align: right;\">\n",
       "      <th></th>\n",
       "      <th></th>\n",
       "      <th>Total</th>\n",
       "    </tr>\n",
       "  </thead>\n",
       "  <tbody>\n",
       "    <tr>\n",
       "      <th>0</th>\n",
       "      <td>1 de enero de 2024</td>\n",
       "      <td>48619695</td>\n",
       "    </tr>\n",
       "    <tr>\n",
       "      <th>1</th>\n",
       "      <td>1 de octubre de 2023</td>\n",
       "      <td>48486865</td>\n",
       "    </tr>\n",
       "    <tr>\n",
       "      <th>2</th>\n",
       "      <td>1 de julio de 2023</td>\n",
       "      <td>48320520</td>\n",
       "    </tr>\n",
       "    <tr>\n",
       "      <th>3</th>\n",
       "      <td>1 de abril de 2023</td>\n",
       "      <td>48205962</td>\n",
       "    </tr>\n",
       "    <tr>\n",
       "      <th>4</th>\n",
       "      <td>1 de enero de 2023</td>\n",
       "      <td>48085361</td>\n",
       "    </tr>\n",
       "  </tbody>\n",
       "</table>\n",
       "</div>"
      ],
      "text/plain": [
       "                            Total\n",
       "0    1 de enero de 2024  48619695\n",
       "1  1 de octubre de 2023  48486865\n",
       "2    1 de julio de 2023  48320520\n",
       "3    1 de abril de 2023  48205962\n",
       "4    1 de enero de 2023  48085361"
      ]
     },
     "execution_count": 10,
     "metadata": {},
     "output_type": "execute_result"
    }
   ],
   "source": [
    "data_raw = pd.read_excel(os.path.join('data','INE total and foreign population figures Spain.xlsx'),\n",
    "                         sheet_name = 'INE_Total_population',\n",
    "                         skiprows = 7, \n",
    "                         usecols='A:B',\n",
    "                         nrows = 212)\n",
    "data_raw.head()"
   ]
  },
  {
   "cell_type": "code",
   "execution_count": 11,
   "id": "7df53b91",
   "metadata": {},
   "outputs": [
    {
     "data": {
      "text/plain": [
       "<bound method DataFrame.info of                               Total\n",
       "0      1 de enero de 2024  48619695\n",
       "1    1 de octubre de 2023  48486865\n",
       "2      1 de julio de 2023  48320520\n",
       "3      1 de abril de 2023  48205962\n",
       "4      1 de enero de 2023  48085361\n",
       "..                    ...       ...\n",
       "207    1 de abril de 1972          \n",
       "208    1 de enero de 1972  34408338\n",
       "209  1 de octubre de 1971          \n",
       "210    1 de julio de 1971  34216856\n",
       "211    1 de abril de 1971          \n",
       "\n",
       "[212 rows x 2 columns]>"
      ]
     },
     "execution_count": 11,
     "metadata": {},
     "output_type": "execute_result"
    }
   ],
   "source": [
    "data_raw.info"
   ]
  },
  {
   "cell_type": "code",
   "execution_count": 12,
   "id": "19cf76f9",
   "metadata": {},
   "outputs": [
    {
     "name": "stdout",
     "output_type": "stream",
     "text": [
      "                              Total\n",
      "0      1 de enero de 2024  48619695\n",
      "1    1 de octubre de 2023  48486865\n",
      "2      1 de julio de 2023  48320520\n",
      "3      1 de abril de 2023  48205962\n",
      "4      1 de enero de 2023  48085361\n",
      "..                    ...       ...\n",
      "207    1 de abril de 1972          \n",
      "208    1 de enero de 1972  34408338\n",
      "209  1 de octubre de 1971          \n",
      "210    1 de julio de 1971  34216856\n",
      "211    1 de abril de 1971          \n",
      "\n",
      "[212 rows x 2 columns]\n"
     ]
    }
   ],
   "source": [
    "data_raw.head()\n",
    "print(data_raw)"
   ]
  },
  {
   "cell_type": "code",
   "execution_count": 13,
   "id": "2d486e10",
   "metadata": {},
   "outputs": [
    {
     "data": {
      "text/plain": [
       "Index([' ', 'Total'], dtype='object')"
      ]
     },
     "execution_count": 13,
     "metadata": {},
     "output_type": "execute_result"
    }
   ],
   "source": [
    "data_raw.columns"
   ]
  },
  {
   "cell_type": "markdown",
   "id": "d95d9821",
   "metadata": {},
   "source": [
    "- Rename default column names from imported Excel file into Python"
   ]
  },
  {
   "cell_type": "code",
   "execution_count": 14,
   "id": "1c86050b",
   "metadata": {},
   "outputs": [
    {
     "data": {
      "application/vnd.microsoft.datawrangler.viewer.v0+json": {
       "columns": [
        {
         "name": "index",
         "rawType": "int64",
         "type": "integer"
        },
        {
         "name": "Year",
         "rawType": "object",
         "type": "string"
        },
        {
         "name": "Total_population",
         "rawType": "object",
         "type": "unknown"
        }
       ],
       "ref": "b6698d6f-aad2-44ae-b9da-1edde86a1727",
       "rows": [
        [
         "0",
         "1 de enero de 2024",
         "48619695"
        ],
        [
         "1",
         "1 de octubre de 2023",
         "48486865"
        ],
        [
         "2",
         "1 de julio de 2023",
         "48320520"
        ],
        [
         "3",
         "1 de abril de 2023",
         "48205962"
        ],
        [
         "4",
         "1 de enero de 2023",
         "48085361"
        ]
       ],
       "shape": {
        "columns": 2,
        "rows": 5
       }
      },
      "text/html": [
       "<div>\n",
       "<style scoped>\n",
       "    .dataframe tbody tr th:only-of-type {\n",
       "        vertical-align: middle;\n",
       "    }\n",
       "\n",
       "    .dataframe tbody tr th {\n",
       "        vertical-align: top;\n",
       "    }\n",
       "\n",
       "    .dataframe thead th {\n",
       "        text-align: right;\n",
       "    }\n",
       "</style>\n",
       "<table border=\"1\" class=\"dataframe\">\n",
       "  <thead>\n",
       "    <tr style=\"text-align: right;\">\n",
       "      <th></th>\n",
       "      <th>Year</th>\n",
       "      <th>Total_population</th>\n",
       "    </tr>\n",
       "  </thead>\n",
       "  <tbody>\n",
       "    <tr>\n",
       "      <th>0</th>\n",
       "      <td>1 de enero de 2024</td>\n",
       "      <td>48619695</td>\n",
       "    </tr>\n",
       "    <tr>\n",
       "      <th>1</th>\n",
       "      <td>1 de octubre de 2023</td>\n",
       "      <td>48486865</td>\n",
       "    </tr>\n",
       "    <tr>\n",
       "      <th>2</th>\n",
       "      <td>1 de julio de 2023</td>\n",
       "      <td>48320520</td>\n",
       "    </tr>\n",
       "    <tr>\n",
       "      <th>3</th>\n",
       "      <td>1 de abril de 2023</td>\n",
       "      <td>48205962</td>\n",
       "    </tr>\n",
       "    <tr>\n",
       "      <th>4</th>\n",
       "      <td>1 de enero de 2023</td>\n",
       "      <td>48085361</td>\n",
       "    </tr>\n",
       "  </tbody>\n",
       "</table>\n",
       "</div>"
      ],
      "text/plain": [
       "                   Year Total_population\n",
       "0    1 de enero de 2024         48619695\n",
       "1  1 de octubre de 2023         48486865\n",
       "2    1 de julio de 2023         48320520\n",
       "3    1 de abril de 2023         48205962\n",
       "4    1 de enero de 2023         48085361"
      ]
     },
     "execution_count": 14,
     "metadata": {},
     "output_type": "execute_result"
    }
   ],
   "source": [
    "data_raw.columns = ['Year','Total_population']\n",
    "data_raw.head()"
   ]
  },
  {
   "cell_type": "code",
   "execution_count": 15,
   "id": "ee8df1b7",
   "metadata": {},
   "outputs": [
    {
     "data": {
      "application/vnd.microsoft.datawrangler.viewer.v0+json": {
       "columns": [
        {
         "name": "index",
         "rawType": "int64",
         "type": "integer"
        },
        {
         "name": "Year",
         "rawType": "object",
         "type": "string"
        },
        {
         "name": "Total_population",
         "rawType": "object",
         "type": "unknown"
        }
       ],
       "ref": "5a44a1a9-d554-414d-87cd-a1bd0584da43",
       "rows": [
        [
         "207",
         "1 de abril de 1972",
         " "
        ],
        [
         "208",
         "1 de enero de 1972",
         "34408338"
        ],
        [
         "209",
         "1 de octubre de 1971",
         " "
        ],
        [
         "210",
         "1 de julio de 1971",
         "34216856"
        ],
        [
         "211",
         "1 de abril de 1971",
         " "
        ]
       ],
       "shape": {
        "columns": 2,
        "rows": 5
       }
      },
      "text/html": [
       "<div>\n",
       "<style scoped>\n",
       "    .dataframe tbody tr th:only-of-type {\n",
       "        vertical-align: middle;\n",
       "    }\n",
       "\n",
       "    .dataframe tbody tr th {\n",
       "        vertical-align: top;\n",
       "    }\n",
       "\n",
       "    .dataframe thead th {\n",
       "        text-align: right;\n",
       "    }\n",
       "</style>\n",
       "<table border=\"1\" class=\"dataframe\">\n",
       "  <thead>\n",
       "    <tr style=\"text-align: right;\">\n",
       "      <th></th>\n",
       "      <th>Year</th>\n",
       "      <th>Total_population</th>\n",
       "    </tr>\n",
       "  </thead>\n",
       "  <tbody>\n",
       "    <tr>\n",
       "      <th>207</th>\n",
       "      <td>1 de abril de 1972</td>\n",
       "      <td></td>\n",
       "    </tr>\n",
       "    <tr>\n",
       "      <th>208</th>\n",
       "      <td>1 de enero de 1972</td>\n",
       "      <td>34408338</td>\n",
       "    </tr>\n",
       "    <tr>\n",
       "      <th>209</th>\n",
       "      <td>1 de octubre de 1971</td>\n",
       "      <td></td>\n",
       "    </tr>\n",
       "    <tr>\n",
       "      <th>210</th>\n",
       "      <td>1 de julio de 1971</td>\n",
       "      <td>34216856</td>\n",
       "    </tr>\n",
       "    <tr>\n",
       "      <th>211</th>\n",
       "      <td>1 de abril de 1971</td>\n",
       "      <td></td>\n",
       "    </tr>\n",
       "  </tbody>\n",
       "</table>\n",
       "</div>"
      ],
      "text/plain": [
       "                     Year Total_population\n",
       "207    1 de abril de 1972                 \n",
       "208    1 de enero de 1972         34408338\n",
       "209  1 de octubre de 1971                 \n",
       "210    1 de julio de 1971         34216856\n",
       "211    1 de abril de 1971                 "
      ]
     },
     "execution_count": 15,
     "metadata": {},
     "output_type": "execute_result"
    }
   ],
   "source": [
    "data_raw.tail()"
   ]
  },
  {
   "cell_type": "markdown",
   "id": "8bca419d",
   "metadata": {},
   "source": [
    "### 1. Remove NaN values from Dataframe"
   ]
  },
  {
   "cell_type": "markdown",
   "id": "78408ada",
   "metadata": {},
   "source": [
    "- First issue I need to tacke is that we don't have NaN values. We have Empty values in the bottom cells in Total_population column, from the original Excel file imported into Python "
   ]
  },
  {
   "cell_type": "code",
   "execution_count": 19,
   "id": "d17e508d",
   "metadata": {},
   "outputs": [
    {
     "name": "stdout",
     "output_type": "stream",
     "text": [
      "212\n"
     ]
    }
   ],
   "source": [
    "count_data_raw = data_raw.shape[0]  # Gives number of rows\n",
    "print(count_data_raw)"
   ]
  },
  {
   "cell_type": "code",
   "execution_count": 16,
   "id": "405f1000",
   "metadata": {},
   "outputs": [
    {
     "name": "stdout",
     "output_type": "stream",
     "text": [
      "                     Year  Total_population\n",
      "0      1 de enero de 2024        48619695.0\n",
      "1    1 de octubre de 2023        48486865.0\n",
      "2      1 de julio de 2023        48320520.0\n",
      "3      1 de abril de 2023        48205962.0\n",
      "4      1 de enero de 2023        48085361.0\n",
      "..                    ...               ...\n",
      "207    1 de abril de 1972               NaN\n",
      "208    1 de enero de 1972        34408338.0\n",
      "209  1 de octubre de 1971               NaN\n",
      "210    1 de julio de 1971        34216856.0\n",
      "211    1 de abril de 1971               NaN\n",
      "\n",
      "[212 rows x 2 columns]\n"
     ]
    },
    {
     "name": "stderr",
     "output_type": "stream",
     "text": [
      "/tmp/ipykernel_10280/580462554.py:1: FutureWarning: Downcasting behavior in `replace` is deprecated and will be removed in a future version. To retain the old behavior, explicitly call `result.infer_objects(copy=False)`. To opt-in to the future behavior, set `pd.set_option('future.no_silent_downcasting', True)`\n",
      "  imported_data_na = data_raw.replace(r'^\\s*$',np.nan, regex = True)\n"
     ]
    }
   ],
   "source": [
    "imported_data_na = data_raw.replace(r'^\\s*$',np.nan, regex = True)\n",
    "print(imported_data_na)"
   ]
  },
  {
   "cell_type": "markdown",
   "id": "f320de02",
   "metadata": {},
   "source": [
    "- Now that we have our data with Missing values in the \"Total_population\" column, I can use the .dropna() method"
   ]
  },
  {
   "cell_type": "code",
   "execution_count": 17,
   "id": "99bba873",
   "metadata": {},
   "outputs": [
    {
     "data": {
      "application/vnd.microsoft.datawrangler.viewer.v0+json": {
       "columns": [
        {
         "name": "index",
         "rawType": "int64",
         "type": "integer"
        },
        {
         "name": "Year",
         "rawType": "object",
         "type": "string"
        },
        {
         "name": "Total_population",
         "rawType": "float64",
         "type": "float"
        }
       ],
       "ref": "4b0aaa8f-9d17-4821-9c2e-bcc77903b3c5",
       "rows": [
        [
         "202",
         "1 de julio de 1973",
         "34980317.0"
        ],
        [
         "204",
         "1 de enero de 1973",
         "34800600.0"
        ],
        [
         "206",
         "1 de julio de 1972",
         "34595886.0"
        ],
        [
         "208",
         "1 de enero de 1972",
         "34408338.0"
        ],
        [
         "210",
         "1 de julio de 1971",
         "34216856.0"
        ]
       ],
       "shape": {
        "columns": 2,
        "rows": 5
       }
      },
      "text/html": [
       "<div>\n",
       "<style scoped>\n",
       "    .dataframe tbody tr th:only-of-type {\n",
       "        vertical-align: middle;\n",
       "    }\n",
       "\n",
       "    .dataframe tbody tr th {\n",
       "        vertical-align: top;\n",
       "    }\n",
       "\n",
       "    .dataframe thead th {\n",
       "        text-align: right;\n",
       "    }\n",
       "</style>\n",
       "<table border=\"1\" class=\"dataframe\">\n",
       "  <thead>\n",
       "    <tr style=\"text-align: right;\">\n",
       "      <th></th>\n",
       "      <th>Year</th>\n",
       "      <th>Total_population</th>\n",
       "    </tr>\n",
       "  </thead>\n",
       "  <tbody>\n",
       "    <tr>\n",
       "      <th>202</th>\n",
       "      <td>1 de julio de 1973</td>\n",
       "      <td>34980317.0</td>\n",
       "    </tr>\n",
       "    <tr>\n",
       "      <th>204</th>\n",
       "      <td>1 de enero de 1973</td>\n",
       "      <td>34800600.0</td>\n",
       "    </tr>\n",
       "    <tr>\n",
       "      <th>206</th>\n",
       "      <td>1 de julio de 1972</td>\n",
       "      <td>34595886.0</td>\n",
       "    </tr>\n",
       "    <tr>\n",
       "      <th>208</th>\n",
       "      <td>1 de enero de 1972</td>\n",
       "      <td>34408338.0</td>\n",
       "    </tr>\n",
       "    <tr>\n",
       "      <th>210</th>\n",
       "      <td>1 de julio de 1971</td>\n",
       "      <td>34216856.0</td>\n",
       "    </tr>\n",
       "  </tbody>\n",
       "</table>\n",
       "</div>"
      ],
      "text/plain": [
       "                   Year  Total_population\n",
       "202  1 de julio de 1973        34980317.0\n",
       "204  1 de enero de 1973        34800600.0\n",
       "206  1 de julio de 1972        34595886.0\n",
       "208  1 de enero de 1972        34408338.0\n",
       "210  1 de julio de 1971        34216856.0"
      ]
     },
     "execution_count": 17,
     "metadata": {},
     "output_type": "execute_result"
    }
   ],
   "source": [
    "imported_data_clean_dropna = imported_data_na.dropna(axis = 0, \n",
    "                subset = ['Total_population'],\n",
    "                inplace = False)\n",
    "imported_data_clean_dropna.head()\n",
    "imported_data_clean_dropna.tail()    "
   ]
  },
  {
   "cell_type": "code",
   "execution_count": 18,
   "id": "5cf7e9a8",
   "metadata": {},
   "outputs": [
    {
     "name": "stdout",
     "output_type": "stream",
     "text": [
      "112\n"
     ]
    }
   ],
   "source": [
    "count_row_clean_test = imported_data_clean_dropna.shape[0]  # Gives number of rows\n",
    "print(count_row_clean_test)"
   ]
  },
  {
   "cell_type": "markdown",
   "id": "db04709d",
   "metadata": {},
   "source": [
    "## 2. Flag January rows to keep just those rows "
   ]
  },
  {
   "cell_type": "markdown",
   "id": "8e44e87b",
   "metadata": {},
   "source": [
    "As I used in previous script \"09 Import Excel file replacing blanks by nulls.ipynb\" this is the way I flag January (Enero) rows in the dataframe."
   ]
  },
  {
   "cell_type": "code",
   "execution_count": 21,
   "id": "752759e1",
   "metadata": {},
   "outputs": [],
   "source": [
    "imported_data_flag = imported_data_clean_dropna.copy()"
   ]
  },
  {
   "cell_type": "code",
   "execution_count": 22,
   "id": "fed825f1",
   "metadata": {},
   "outputs": [],
   "source": [
    "imported_data_flag.loc[imported_data_flag['Year'].str.contains('enero',case = False),'Jan_flag'] = 'Y'"
   ]
  },
  {
   "cell_type": "code",
   "execution_count": 23,
   "id": "294963e3",
   "metadata": {},
   "outputs": [
    {
     "data": {
      "application/vnd.microsoft.datawrangler.viewer.v0+json": {
       "columns": [
        {
         "name": "index",
         "rawType": "int64",
         "type": "integer"
        },
        {
         "name": "Year",
         "rawType": "object",
         "type": "string"
        },
        {
         "name": "Total_population",
         "rawType": "float64",
         "type": "float"
        },
        {
         "name": "Jan_flag",
         "rawType": "object",
         "type": "unknown"
        }
       ],
       "ref": "9c77ca10-d36a-4bfe-918c-b915a0e0c2b5",
       "rows": [
        [
         "0",
         "1 de enero de 2024",
         "48619695.0",
         "Y"
        ],
        [
         "1",
         "1 de octubre de 2023",
         "48486865.0",
         null
        ],
        [
         "2",
         "1 de julio de 2023",
         "48320520.0",
         null
        ],
        [
         "3",
         "1 de abril de 2023",
         "48205962.0",
         null
        ],
        [
         "4",
         "1 de enero de 2023",
         "48085361.0",
         "Y"
        ]
       ],
       "shape": {
        "columns": 3,
        "rows": 5
       }
      },
      "text/html": [
       "<div>\n",
       "<style scoped>\n",
       "    .dataframe tbody tr th:only-of-type {\n",
       "        vertical-align: middle;\n",
       "    }\n",
       "\n",
       "    .dataframe tbody tr th {\n",
       "        vertical-align: top;\n",
       "    }\n",
       "\n",
       "    .dataframe thead th {\n",
       "        text-align: right;\n",
       "    }\n",
       "</style>\n",
       "<table border=\"1\" class=\"dataframe\">\n",
       "  <thead>\n",
       "    <tr style=\"text-align: right;\">\n",
       "      <th></th>\n",
       "      <th>Year</th>\n",
       "      <th>Total_population</th>\n",
       "      <th>Jan_flag</th>\n",
       "    </tr>\n",
       "  </thead>\n",
       "  <tbody>\n",
       "    <tr>\n",
       "      <th>0</th>\n",
       "      <td>1 de enero de 2024</td>\n",
       "      <td>48619695.0</td>\n",
       "      <td>Y</td>\n",
       "    </tr>\n",
       "    <tr>\n",
       "      <th>1</th>\n",
       "      <td>1 de octubre de 2023</td>\n",
       "      <td>48486865.0</td>\n",
       "      <td>NaN</td>\n",
       "    </tr>\n",
       "    <tr>\n",
       "      <th>2</th>\n",
       "      <td>1 de julio de 2023</td>\n",
       "      <td>48320520.0</td>\n",
       "      <td>NaN</td>\n",
       "    </tr>\n",
       "    <tr>\n",
       "      <th>3</th>\n",
       "      <td>1 de abril de 2023</td>\n",
       "      <td>48205962.0</td>\n",
       "      <td>NaN</td>\n",
       "    </tr>\n",
       "    <tr>\n",
       "      <th>4</th>\n",
       "      <td>1 de enero de 2023</td>\n",
       "      <td>48085361.0</td>\n",
       "      <td>Y</td>\n",
       "    </tr>\n",
       "  </tbody>\n",
       "</table>\n",
       "</div>"
      ],
      "text/plain": [
       "                   Year  Total_population Jan_flag\n",
       "0    1 de enero de 2024        48619695.0        Y\n",
       "1  1 de octubre de 2023        48486865.0      NaN\n",
       "2    1 de julio de 2023        48320520.0      NaN\n",
       "3    1 de abril de 2023        48205962.0      NaN\n",
       "4    1 de enero de 2023        48085361.0        Y"
      ]
     },
     "execution_count": 23,
     "metadata": {},
     "output_type": "execute_result"
    }
   ],
   "source": [
    "imported_data_flag.head()"
   ]
  },
  {
   "cell_type": "markdown",
   "id": "04c6ad42",
   "metadata": {},
   "source": [
    "### 2.1 Then we can subset rows with 'Y' Flag in them "
   ]
  },
  {
   "cell_type": "markdown",
   "id": "2e4bf447",
   "metadata": {},
   "source": [
    "From the imported_data_flag dataframe we will keep just records with Y values in Jan_flag column: "
   ]
  },
  {
   "cell_type": "code",
   "execution_count": 24,
   "id": "3e9a9c74",
   "metadata": {},
   "outputs": [
    {
     "data": {
      "application/vnd.microsoft.datawrangler.viewer.v0+json": {
       "columns": [
        {
         "name": "index",
         "rawType": "int64",
         "type": "integer"
        },
        {
         "name": "Year",
         "rawType": "object",
         "type": "string"
        },
        {
         "name": "Total_population",
         "rawType": "float64",
         "type": "float"
        },
        {
         "name": "Jan_flag",
         "rawType": "object",
         "type": "string"
        }
       ],
       "ref": "d14298b0-d63b-40af-b0f4-7c75f00d013a",
       "rows": [
        [
         "192",
         "1 de enero de 1976",
         "35946425.0",
         "Y"
        ],
        [
         "196",
         "1 de enero de 1975",
         "35569375.0",
         "Y"
        ],
        [
         "200",
         "1 de enero de 1974",
         "35177294.0",
         "Y"
        ],
        [
         "204",
         "1 de enero de 1973",
         "34800600.0",
         "Y"
        ],
        [
         "208",
         "1 de enero de 1972",
         "34408338.0",
         "Y"
        ]
       ],
       "shape": {
        "columns": 3,
        "rows": 5
       }
      },
      "text/html": [
       "<div>\n",
       "<style scoped>\n",
       "    .dataframe tbody tr th:only-of-type {\n",
       "        vertical-align: middle;\n",
       "    }\n",
       "\n",
       "    .dataframe tbody tr th {\n",
       "        vertical-align: top;\n",
       "    }\n",
       "\n",
       "    .dataframe thead th {\n",
       "        text-align: right;\n",
       "    }\n",
       "</style>\n",
       "<table border=\"1\" class=\"dataframe\">\n",
       "  <thead>\n",
       "    <tr style=\"text-align: right;\">\n",
       "      <th></th>\n",
       "      <th>Year</th>\n",
       "      <th>Total_population</th>\n",
       "      <th>Jan_flag</th>\n",
       "    </tr>\n",
       "  </thead>\n",
       "  <tbody>\n",
       "    <tr>\n",
       "      <th>192</th>\n",
       "      <td>1 de enero de 1976</td>\n",
       "      <td>35946425.0</td>\n",
       "      <td>Y</td>\n",
       "    </tr>\n",
       "    <tr>\n",
       "      <th>196</th>\n",
       "      <td>1 de enero de 1975</td>\n",
       "      <td>35569375.0</td>\n",
       "      <td>Y</td>\n",
       "    </tr>\n",
       "    <tr>\n",
       "      <th>200</th>\n",
       "      <td>1 de enero de 1974</td>\n",
       "      <td>35177294.0</td>\n",
       "      <td>Y</td>\n",
       "    </tr>\n",
       "    <tr>\n",
       "      <th>204</th>\n",
       "      <td>1 de enero de 1973</td>\n",
       "      <td>34800600.0</td>\n",
       "      <td>Y</td>\n",
       "    </tr>\n",
       "    <tr>\n",
       "      <th>208</th>\n",
       "      <td>1 de enero de 1972</td>\n",
       "      <td>34408338.0</td>\n",
       "      <td>Y</td>\n",
       "    </tr>\n",
       "  </tbody>\n",
       "</table>\n",
       "</div>"
      ],
      "text/plain": [
       "                   Year  Total_population Jan_flag\n",
       "192  1 de enero de 1976        35946425.0        Y\n",
       "196  1 de enero de 1975        35569375.0        Y\n",
       "200  1 de enero de 1974        35177294.0        Y\n",
       "204  1 de enero de 1973        34800600.0        Y\n",
       "208  1 de enero de 1972        34408338.0        Y"
      ]
     },
     "execution_count": 24,
     "metadata": {},
     "output_type": "execute_result"
    }
   ],
   "source": [
    "final_population_data = imported_data_flag[imported_data_flag.Jan_flag == 'Y']\n",
    "final_population_data.head()\n",
    "final_population_data.tail()"
   ]
  },
  {
   "cell_type": "code",
   "execution_count": 25,
   "id": "2635d47b",
   "metadata": {},
   "outputs": [
    {
     "name": "stdout",
     "output_type": "stream",
     "text": [
      "Number of rows:53\n"
     ]
    }
   ],
   "source": [
    "df_rows = final_population_data\n",
    "num_rows_final_population_data = len(df_rows.index)\n",
    "print(f'Number of rows:{num_rows_final_population_data}')"
   ]
  },
  {
   "cell_type": "code",
   "execution_count": 26,
   "id": "1fc63a89",
   "metadata": {},
   "outputs": [
    {
     "data": {
      "application/vnd.microsoft.datawrangler.viewer.v0+json": {
       "columns": [
        {
         "name": "index",
         "rawType": "int64",
         "type": "integer"
        },
        {
         "name": "Year",
         "rawType": "object",
         "type": "string"
        },
        {
         "name": "Total_population",
         "rawType": "float64",
         "type": "float"
        },
        {
         "name": "Jan_flag",
         "rawType": "object",
         "type": "string"
        }
       ],
       "ref": "e2a182b8-b08b-4ea5-8be3-15bb808e5736",
       "rows": [
        [
         "0",
         "1 de enero de 2024",
         "48619695.0",
         "Y"
        ],
        [
         "4",
         "1 de enero de 2023",
         "48085361.0",
         "Y"
        ],
        [
         "8",
         "1 de enero de 2022",
         "47486727.0",
         "Y"
        ],
        [
         "12",
         "1 de enero de 2021",
         "47400798.0",
         "Y"
        ],
        [
         "16",
         "1 de enero de 2020",
         "47318050.0",
         "Y"
        ]
       ],
       "shape": {
        "columns": 3,
        "rows": 5
       }
      },
      "text/html": [
       "<div>\n",
       "<style scoped>\n",
       "    .dataframe tbody tr th:only-of-type {\n",
       "        vertical-align: middle;\n",
       "    }\n",
       "\n",
       "    .dataframe tbody tr th {\n",
       "        vertical-align: top;\n",
       "    }\n",
       "\n",
       "    .dataframe thead th {\n",
       "        text-align: right;\n",
       "    }\n",
       "</style>\n",
       "<table border=\"1\" class=\"dataframe\">\n",
       "  <thead>\n",
       "    <tr style=\"text-align: right;\">\n",
       "      <th></th>\n",
       "      <th>Year</th>\n",
       "      <th>Total_population</th>\n",
       "      <th>Jan_flag</th>\n",
       "    </tr>\n",
       "  </thead>\n",
       "  <tbody>\n",
       "    <tr>\n",
       "      <th>0</th>\n",
       "      <td>1 de enero de 2024</td>\n",
       "      <td>48619695.0</td>\n",
       "      <td>Y</td>\n",
       "    </tr>\n",
       "    <tr>\n",
       "      <th>4</th>\n",
       "      <td>1 de enero de 2023</td>\n",
       "      <td>48085361.0</td>\n",
       "      <td>Y</td>\n",
       "    </tr>\n",
       "    <tr>\n",
       "      <th>8</th>\n",
       "      <td>1 de enero de 2022</td>\n",
       "      <td>47486727.0</td>\n",
       "      <td>Y</td>\n",
       "    </tr>\n",
       "    <tr>\n",
       "      <th>12</th>\n",
       "      <td>1 de enero de 2021</td>\n",
       "      <td>47400798.0</td>\n",
       "      <td>Y</td>\n",
       "    </tr>\n",
       "    <tr>\n",
       "      <th>16</th>\n",
       "      <td>1 de enero de 2020</td>\n",
       "      <td>47318050.0</td>\n",
       "      <td>Y</td>\n",
       "    </tr>\n",
       "  </tbody>\n",
       "</table>\n",
       "</div>"
      ],
      "text/plain": [
       "                  Year  Total_population Jan_flag\n",
       "0   1 de enero de 2024        48619695.0        Y\n",
       "4   1 de enero de 2023        48085361.0        Y\n",
       "8   1 de enero de 2022        47486727.0        Y\n",
       "12  1 de enero de 2021        47400798.0        Y\n",
       "16  1 de enero de 2020        47318050.0        Y"
      ]
     },
     "execution_count": 26,
     "metadata": {},
     "output_type": "execute_result"
    }
   ],
   "source": [
    "final_population_data.head()\n"
   ]
  },
  {
   "cell_type": "code",
   "execution_count": null,
   "id": "7a6b682a",
   "metadata": {},
   "outputs": [],
   "source": []
  },
  {
   "cell_type": "code",
   "execution_count": null,
   "id": "e9c18575",
   "metadata": {},
   "outputs": [
    {
     "data": {
      "application/vnd.microsoft.datawrangler.viewer.v0+json": {
       "columns": [
        {
         "name": "index",
         "rawType": "int64",
         "type": "integer"
        },
        {
         "name": "Year",
         "rawType": "object",
         "type": "string"
        },
        {
         "name": "Total_population",
         "rawType": "float64",
         "type": "float"
        },
        {
         "name": "Jan_flag",
         "rawType": "object",
         "type": "string"
        }
       ],
       "ref": "63768187-8783-49c9-970d-0d1bb3c931e8",
       "rows": [
        [
         "192",
         "1 de enero de 1976",
         "35946425.0",
         "Y"
        ],
        [
         "196",
         "1 de enero de 1975",
         "35569375.0",
         "Y"
        ],
        [
         "200",
         "1 de enero de 1974",
         "35177294.0",
         "Y"
        ],
        [
         "204",
         "1 de enero de 1973",
         "34800600.0",
         "Y"
        ],
        [
         "208",
         "1 de enero de 1972",
         "34408338.0",
         "Y"
        ]
       ],
       "shape": {
        "columns": 3,
        "rows": 5
       }
      },
      "text/html": [
       "<div>\n",
       "<style scoped>\n",
       "    .dataframe tbody tr th:only-of-type {\n",
       "        vertical-align: middle;\n",
       "    }\n",
       "\n",
       "    .dataframe tbody tr th {\n",
       "        vertical-align: top;\n",
       "    }\n",
       "\n",
       "    .dataframe thead th {\n",
       "        text-align: right;\n",
       "    }\n",
       "</style>\n",
       "<table border=\"1\" class=\"dataframe\">\n",
       "  <thead>\n",
       "    <tr style=\"text-align: right;\">\n",
       "      <th></th>\n",
       "      <th>Year</th>\n",
       "      <th>Total_population</th>\n",
       "      <th>Jan_flag</th>\n",
       "    </tr>\n",
       "  </thead>\n",
       "  <tbody>\n",
       "    <tr>\n",
       "      <th>192</th>\n",
       "      <td>1 de enero de 1976</td>\n",
       "      <td>35946425.0</td>\n",
       "      <td>Y</td>\n",
       "    </tr>\n",
       "    <tr>\n",
       "      <th>196</th>\n",
       "      <td>1 de enero de 1975</td>\n",
       "      <td>35569375.0</td>\n",
       "      <td>Y</td>\n",
       "    </tr>\n",
       "    <tr>\n",
       "      <th>200</th>\n",
       "      <td>1 de enero de 1974</td>\n",
       "      <td>35177294.0</td>\n",
       "      <td>Y</td>\n",
       "    </tr>\n",
       "    <tr>\n",
       "      <th>204</th>\n",
       "      <td>1 de enero de 1973</td>\n",
       "      <td>34800600.0</td>\n",
       "      <td>Y</td>\n",
       "    </tr>\n",
       "    <tr>\n",
       "      <th>208</th>\n",
       "      <td>1 de enero de 1972</td>\n",
       "      <td>34408338.0</td>\n",
       "      <td>Y</td>\n",
       "    </tr>\n",
       "  </tbody>\n",
       "</table>\n",
       "</div>"
      ],
      "text/plain": [
       "                   Year  Total_population Jan_flag\n",
       "192  1 de enero de 1976        35946425.0        Y\n",
       "196  1 de enero de 1975        35569375.0        Y\n",
       "200  1 de enero de 1974        35177294.0        Y\n",
       "204  1 de enero de 1973        34800600.0        Y\n",
       "208  1 de enero de 1972        34408338.0        Y"
      ]
     },
     "execution_count": 27,
     "metadata": {},
     "output_type": "execute_result"
    }
   ],
   "source": [
    ".tail()"
   ]
  },
  {
   "cell_type": "markdown",
   "id": "b7f6d276",
   "metadata": {},
   "source": [
    "## 3. Creating new Date varaible from character columns  "
   ]
  },
  {
   "cell_type": "markdown",
   "id": "0512bcbc",
   "metadata": {},
   "source": [
    "- Display first column types"
   ]
  },
  {
   "cell_type": "code",
   "execution_count": 32,
   "id": "3755f975",
   "metadata": {},
   "outputs": [
    {
     "data": {
      "text/plain": [
       "pandas.core.frame.DataFrame"
      ]
     },
     "execution_count": 32,
     "metadata": {},
     "output_type": "execute_result"
    }
   ],
   "source": [
    "type(final_population_data)"
   ]
  },
  {
   "cell_type": "markdown",
   "id": "076e29b7",
   "metadata": {},
   "source": [
    "- We can display different data types included in the Pandas DataFrame"
   ]
  },
  {
   "cell_type": "code",
   "execution_count": 30,
   "id": "100d4195",
   "metadata": {},
   "outputs": [
    {
     "data": {
      "application/vnd.microsoft.datawrangler.viewer.v0+json": {
       "columns": [
        {
         "name": "index",
         "rawType": "object",
         "type": "string"
        },
        {
         "name": "0",
         "rawType": "object",
         "type": "unknown"
        }
       ],
       "ref": "6bdb0af5-4b74-45e6-b179-72bddd1772c6",
       "rows": [
        [
         "Year",
         "object"
        ],
        [
         "Total_population",
         "float64"
        ],
        [
         "Jan_flag",
         "object"
        ]
       ],
       "shape": {
        "columns": 1,
        "rows": 3
       }
      },
      "text/plain": [
       "Year                 object\n",
       "Total_population    float64\n",
       "Jan_flag             object\n",
       "dtype: object"
      ]
     },
     "execution_count": 30,
     "metadata": {},
     "output_type": "execute_result"
    }
   ],
   "source": [
    "final_population_data.dtypes"
   ]
  },
  {
   "cell_type": "markdown",
   "id": "a0be4213",
   "metadata": {},
   "source": [
    "- Create new varaibles subtracting sections of Year string column"
   ]
  },
  {
   "cell_type": "markdown",
   "id": "6dbee02f",
   "metadata": {},
   "source": [
    "- First I want a new column for the day (using str[:1]"
   ]
  },
  {
   "cell_type": "code",
   "execution_count": 47,
   "id": "89511b09",
   "metadata": {},
   "outputs": [
    {
     "name": "stderr",
     "output_type": "stream",
     "text": [
      "/tmp/ipykernel_10280/737695263.py:1: SettingWithCopyWarning: \n",
      "A value is trying to be set on a copy of a slice from a DataFrame.\n",
      "Try using .loc[row_indexer,col_indexer] = value instead\n",
      "\n",
      "See the caveats in the documentation: https://pandas.pydata.org/pandas-docs/stable/user_guide/indexing.html#returning-a-view-versus-a-copy\n",
      "  final_population_data['day'] = final_population_data['Year'].str[:1]\n"
     ]
    },
    {
     "data": {
      "application/vnd.microsoft.datawrangler.viewer.v0+json": {
       "columns": [
        {
         "name": "index",
         "rawType": "int64",
         "type": "integer"
        },
        {
         "name": "Year",
         "rawType": "object",
         "type": "string"
        },
        {
         "name": "Total_population",
         "rawType": "float64",
         "type": "float"
        },
        {
         "name": "Jan_flag",
         "rawType": "object",
         "type": "string"
        },
        {
         "name": "date_day",
         "rawType": "object",
         "type": "string"
        },
        {
         "name": "month",
         "rawType": "object",
         "type": "string"
        },
        {
         "name": "year",
         "rawType": "object",
         "type": "string"
        },
        {
         "name": "day",
         "rawType": "object",
         "type": "string"
        }
       ],
       "ref": "4462f800-8c05-4450-834a-1161165ea1c2",
       "rows": [
        [
         "0",
         "1 de enero de 2024",
         "48619695.0",
         "Y",
         "1",
         "enero",
         "2024",
         "1"
        ],
        [
         "4",
         "1 de enero de 2023",
         "48085361.0",
         "Y",
         "1",
         "enero",
         "2023",
         "1"
        ],
        [
         "8",
         "1 de enero de 2022",
         "47486727.0",
         "Y",
         "1",
         "enero",
         "2022",
         "1"
        ],
        [
         "12",
         "1 de enero de 2021",
         "47400798.0",
         "Y",
         "1",
         "enero",
         "2021",
         "1"
        ],
        [
         "16",
         "1 de enero de 2020",
         "47318050.0",
         "Y",
         "1",
         "enero",
         "2020",
         "1"
        ]
       ],
       "shape": {
        "columns": 7,
        "rows": 5
       }
      },
      "text/html": [
       "<div>\n",
       "<style scoped>\n",
       "    .dataframe tbody tr th:only-of-type {\n",
       "        vertical-align: middle;\n",
       "    }\n",
       "\n",
       "    .dataframe tbody tr th {\n",
       "        vertical-align: top;\n",
       "    }\n",
       "\n",
       "    .dataframe thead th {\n",
       "        text-align: right;\n",
       "    }\n",
       "</style>\n",
       "<table border=\"1\" class=\"dataframe\">\n",
       "  <thead>\n",
       "    <tr style=\"text-align: right;\">\n",
       "      <th></th>\n",
       "      <th>Year</th>\n",
       "      <th>Total_population</th>\n",
       "      <th>Jan_flag</th>\n",
       "      <th>date_day</th>\n",
       "      <th>month</th>\n",
       "      <th>year</th>\n",
       "      <th>day</th>\n",
       "    </tr>\n",
       "  </thead>\n",
       "  <tbody>\n",
       "    <tr>\n",
       "      <th>0</th>\n",
       "      <td>1 de enero de 2024</td>\n",
       "      <td>48619695.0</td>\n",
       "      <td>Y</td>\n",
       "      <td>1</td>\n",
       "      <td>enero</td>\n",
       "      <td>2024</td>\n",
       "      <td>1</td>\n",
       "    </tr>\n",
       "    <tr>\n",
       "      <th>4</th>\n",
       "      <td>1 de enero de 2023</td>\n",
       "      <td>48085361.0</td>\n",
       "      <td>Y</td>\n",
       "      <td>1</td>\n",
       "      <td>enero</td>\n",
       "      <td>2023</td>\n",
       "      <td>1</td>\n",
       "    </tr>\n",
       "    <tr>\n",
       "      <th>8</th>\n",
       "      <td>1 de enero de 2022</td>\n",
       "      <td>47486727.0</td>\n",
       "      <td>Y</td>\n",
       "      <td>1</td>\n",
       "      <td>enero</td>\n",
       "      <td>2022</td>\n",
       "      <td>1</td>\n",
       "    </tr>\n",
       "    <tr>\n",
       "      <th>12</th>\n",
       "      <td>1 de enero de 2021</td>\n",
       "      <td>47400798.0</td>\n",
       "      <td>Y</td>\n",
       "      <td>1</td>\n",
       "      <td>enero</td>\n",
       "      <td>2021</td>\n",
       "      <td>1</td>\n",
       "    </tr>\n",
       "    <tr>\n",
       "      <th>16</th>\n",
       "      <td>1 de enero de 2020</td>\n",
       "      <td>47318050.0</td>\n",
       "      <td>Y</td>\n",
       "      <td>1</td>\n",
       "      <td>enero</td>\n",
       "      <td>2020</td>\n",
       "      <td>1</td>\n",
       "    </tr>\n",
       "  </tbody>\n",
       "</table>\n",
       "</div>"
      ],
      "text/plain": [
       "                  Year  Total_population Jan_flag date_day  month  year day\n",
       "0   1 de enero de 2024        48619695.0        Y        1  enero  2024   1\n",
       "4   1 de enero de 2023        48085361.0        Y        1  enero  2023   1\n",
       "8   1 de enero de 2022        47486727.0        Y        1  enero  2022   1\n",
       "12  1 de enero de 2021        47400798.0        Y        1  enero  2021   1\n",
       "16  1 de enero de 2020        47318050.0        Y        1  enero  2020   1"
      ]
     },
     "execution_count": 47,
     "metadata": {},
     "output_type": "execute_result"
    }
   ],
   "source": [
    "final_population_data['day'] = final_population_data['Year'].str[:1]\n",
    "final_population_data.head()"
   ]
  },
  {
   "cell_type": "markdown",
   "id": "dee37aca",
   "metadata": {},
   "source": [
    "- Then We want a new variable to substract the Month "
   ]
  },
  {
   "cell_type": "code",
   "execution_count": 48,
   "id": "e882b67c",
   "metadata": {},
   "outputs": [
    {
     "name": "stderr",
     "output_type": "stream",
     "text": [
      "/tmp/ipykernel_10280/2604275464.py:1: SettingWithCopyWarning: \n",
      "A value is trying to be set on a copy of a slice from a DataFrame.\n",
      "Try using .loc[row_indexer,col_indexer] = value instead\n",
      "\n",
      "See the caveats in the documentation: https://pandas.pydata.org/pandas-docs/stable/user_guide/indexing.html#returning-a-view-versus-a-copy\n",
      "  final_population_data['month'] = final_population_data['Year'].str[5:10]\n"
     ]
    },
    {
     "data": {
      "application/vnd.microsoft.datawrangler.viewer.v0+json": {
       "columns": [
        {
         "name": "index",
         "rawType": "int64",
         "type": "integer"
        },
        {
         "name": "Year",
         "rawType": "object",
         "type": "string"
        },
        {
         "name": "Total_population",
         "rawType": "float64",
         "type": "float"
        },
        {
         "name": "Jan_flag",
         "rawType": "object",
         "type": "string"
        },
        {
         "name": "date_day",
         "rawType": "object",
         "type": "string"
        },
        {
         "name": "month",
         "rawType": "object",
         "type": "string"
        },
        {
         "name": "year",
         "rawType": "object",
         "type": "string"
        },
        {
         "name": "day",
         "rawType": "object",
         "type": "string"
        }
       ],
       "ref": "bc53bb28-ae64-46f0-8987-5425485783c6",
       "rows": [
        [
         "0",
         "1 de enero de 2024",
         "48619695.0",
         "Y",
         "1",
         "enero",
         "2024",
         "1"
        ],
        [
         "4",
         "1 de enero de 2023",
         "48085361.0",
         "Y",
         "1",
         "enero",
         "2023",
         "1"
        ],
        [
         "8",
         "1 de enero de 2022",
         "47486727.0",
         "Y",
         "1",
         "enero",
         "2022",
         "1"
        ],
        [
         "12",
         "1 de enero de 2021",
         "47400798.0",
         "Y",
         "1",
         "enero",
         "2021",
         "1"
        ],
        [
         "16",
         "1 de enero de 2020",
         "47318050.0",
         "Y",
         "1",
         "enero",
         "2020",
         "1"
        ]
       ],
       "shape": {
        "columns": 7,
        "rows": 5
       }
      },
      "text/html": [
       "<div>\n",
       "<style scoped>\n",
       "    .dataframe tbody tr th:only-of-type {\n",
       "        vertical-align: middle;\n",
       "    }\n",
       "\n",
       "    .dataframe tbody tr th {\n",
       "        vertical-align: top;\n",
       "    }\n",
       "\n",
       "    .dataframe thead th {\n",
       "        text-align: right;\n",
       "    }\n",
       "</style>\n",
       "<table border=\"1\" class=\"dataframe\">\n",
       "  <thead>\n",
       "    <tr style=\"text-align: right;\">\n",
       "      <th></th>\n",
       "      <th>Year</th>\n",
       "      <th>Total_population</th>\n",
       "      <th>Jan_flag</th>\n",
       "      <th>date_day</th>\n",
       "      <th>month</th>\n",
       "      <th>year</th>\n",
       "      <th>day</th>\n",
       "    </tr>\n",
       "  </thead>\n",
       "  <tbody>\n",
       "    <tr>\n",
       "      <th>0</th>\n",
       "      <td>1 de enero de 2024</td>\n",
       "      <td>48619695.0</td>\n",
       "      <td>Y</td>\n",
       "      <td>1</td>\n",
       "      <td>enero</td>\n",
       "      <td>2024</td>\n",
       "      <td>1</td>\n",
       "    </tr>\n",
       "    <tr>\n",
       "      <th>4</th>\n",
       "      <td>1 de enero de 2023</td>\n",
       "      <td>48085361.0</td>\n",
       "      <td>Y</td>\n",
       "      <td>1</td>\n",
       "      <td>enero</td>\n",
       "      <td>2023</td>\n",
       "      <td>1</td>\n",
       "    </tr>\n",
       "    <tr>\n",
       "      <th>8</th>\n",
       "      <td>1 de enero de 2022</td>\n",
       "      <td>47486727.0</td>\n",
       "      <td>Y</td>\n",
       "      <td>1</td>\n",
       "      <td>enero</td>\n",
       "      <td>2022</td>\n",
       "      <td>1</td>\n",
       "    </tr>\n",
       "    <tr>\n",
       "      <th>12</th>\n",
       "      <td>1 de enero de 2021</td>\n",
       "      <td>47400798.0</td>\n",
       "      <td>Y</td>\n",
       "      <td>1</td>\n",
       "      <td>enero</td>\n",
       "      <td>2021</td>\n",
       "      <td>1</td>\n",
       "    </tr>\n",
       "    <tr>\n",
       "      <th>16</th>\n",
       "      <td>1 de enero de 2020</td>\n",
       "      <td>47318050.0</td>\n",
       "      <td>Y</td>\n",
       "      <td>1</td>\n",
       "      <td>enero</td>\n",
       "      <td>2020</td>\n",
       "      <td>1</td>\n",
       "    </tr>\n",
       "  </tbody>\n",
       "</table>\n",
       "</div>"
      ],
      "text/plain": [
       "                  Year  Total_population Jan_flag date_day  month  year day\n",
       "0   1 de enero de 2024        48619695.0        Y        1  enero  2024   1\n",
       "4   1 de enero de 2023        48085361.0        Y        1  enero  2023   1\n",
       "8   1 de enero de 2022        47486727.0        Y        1  enero  2022   1\n",
       "12  1 de enero de 2021        47400798.0        Y        1  enero  2021   1\n",
       "16  1 de enero de 2020        47318050.0        Y        1  enero  2020   1"
      ]
     },
     "execution_count": 48,
     "metadata": {},
     "output_type": "execute_result"
    }
   ],
   "source": [
    "final_population_data['month'] = final_population_data['Year'].str[5:10]\n",
    "final_population_data.head()"
   ]
  },
  {
   "cell_type": "markdown",
   "id": "5b4e0e36",
   "metadata": {},
   "source": [
    "- Finally we will extract the year from Year column  "
   ]
  },
  {
   "cell_type": "code",
   "execution_count": 49,
   "id": "91c6706b",
   "metadata": {},
   "outputs": [
    {
     "name": "stderr",
     "output_type": "stream",
     "text": [
      "/tmp/ipykernel_10280/947643015.py:1: SettingWithCopyWarning: \n",
      "A value is trying to be set on a copy of a slice from a DataFrame.\n",
      "Try using .loc[row_indexer,col_indexer] = value instead\n",
      "\n",
      "See the caveats in the documentation: https://pandas.pydata.org/pandas-docs/stable/user_guide/indexing.html#returning-a-view-versus-a-copy\n",
      "  final_population_data['year'] = final_population_data['Year'].str[-4:]\n"
     ]
    },
    {
     "data": {
      "application/vnd.microsoft.datawrangler.viewer.v0+json": {
       "columns": [
        {
         "name": "index",
         "rawType": "int64",
         "type": "integer"
        },
        {
         "name": "Year",
         "rawType": "object",
         "type": "string"
        },
        {
         "name": "Total_population",
         "rawType": "float64",
         "type": "float"
        },
        {
         "name": "Jan_flag",
         "rawType": "object",
         "type": "string"
        },
        {
         "name": "date_day",
         "rawType": "object",
         "type": "string"
        },
        {
         "name": "month",
         "rawType": "object",
         "type": "string"
        },
        {
         "name": "year",
         "rawType": "object",
         "type": "string"
        },
        {
         "name": "day",
         "rawType": "object",
         "type": "string"
        }
       ],
       "ref": "218a4e26-3010-4f07-8f34-5c8072bb2546",
       "rows": [
        [
         "0",
         "1 de enero de 2024",
         "48619695.0",
         "Y",
         "1",
         "enero",
         "2024",
         "1"
        ],
        [
         "4",
         "1 de enero de 2023",
         "48085361.0",
         "Y",
         "1",
         "enero",
         "2023",
         "1"
        ],
        [
         "8",
         "1 de enero de 2022",
         "47486727.0",
         "Y",
         "1",
         "enero",
         "2022",
         "1"
        ],
        [
         "12",
         "1 de enero de 2021",
         "47400798.0",
         "Y",
         "1",
         "enero",
         "2021",
         "1"
        ],
        [
         "16",
         "1 de enero de 2020",
         "47318050.0",
         "Y",
         "1",
         "enero",
         "2020",
         "1"
        ]
       ],
       "shape": {
        "columns": 7,
        "rows": 5
       }
      },
      "text/html": [
       "<div>\n",
       "<style scoped>\n",
       "    .dataframe tbody tr th:only-of-type {\n",
       "        vertical-align: middle;\n",
       "    }\n",
       "\n",
       "    .dataframe tbody tr th {\n",
       "        vertical-align: top;\n",
       "    }\n",
       "\n",
       "    .dataframe thead th {\n",
       "        text-align: right;\n",
       "    }\n",
       "</style>\n",
       "<table border=\"1\" class=\"dataframe\">\n",
       "  <thead>\n",
       "    <tr style=\"text-align: right;\">\n",
       "      <th></th>\n",
       "      <th>Year</th>\n",
       "      <th>Total_population</th>\n",
       "      <th>Jan_flag</th>\n",
       "      <th>date_day</th>\n",
       "      <th>month</th>\n",
       "      <th>year</th>\n",
       "      <th>day</th>\n",
       "    </tr>\n",
       "  </thead>\n",
       "  <tbody>\n",
       "    <tr>\n",
       "      <th>0</th>\n",
       "      <td>1 de enero de 2024</td>\n",
       "      <td>48619695.0</td>\n",
       "      <td>Y</td>\n",
       "      <td>1</td>\n",
       "      <td>enero</td>\n",
       "      <td>2024</td>\n",
       "      <td>1</td>\n",
       "    </tr>\n",
       "    <tr>\n",
       "      <th>4</th>\n",
       "      <td>1 de enero de 2023</td>\n",
       "      <td>48085361.0</td>\n",
       "      <td>Y</td>\n",
       "      <td>1</td>\n",
       "      <td>enero</td>\n",
       "      <td>2023</td>\n",
       "      <td>1</td>\n",
       "    </tr>\n",
       "    <tr>\n",
       "      <th>8</th>\n",
       "      <td>1 de enero de 2022</td>\n",
       "      <td>47486727.0</td>\n",
       "      <td>Y</td>\n",
       "      <td>1</td>\n",
       "      <td>enero</td>\n",
       "      <td>2022</td>\n",
       "      <td>1</td>\n",
       "    </tr>\n",
       "    <tr>\n",
       "      <th>12</th>\n",
       "      <td>1 de enero de 2021</td>\n",
       "      <td>47400798.0</td>\n",
       "      <td>Y</td>\n",
       "      <td>1</td>\n",
       "      <td>enero</td>\n",
       "      <td>2021</td>\n",
       "      <td>1</td>\n",
       "    </tr>\n",
       "    <tr>\n",
       "      <th>16</th>\n",
       "      <td>1 de enero de 2020</td>\n",
       "      <td>47318050.0</td>\n",
       "      <td>Y</td>\n",
       "      <td>1</td>\n",
       "      <td>enero</td>\n",
       "      <td>2020</td>\n",
       "      <td>1</td>\n",
       "    </tr>\n",
       "  </tbody>\n",
       "</table>\n",
       "</div>"
      ],
      "text/plain": [
       "                  Year  Total_population Jan_flag date_day  month  year day\n",
       "0   1 de enero de 2024        48619695.0        Y        1  enero  2024   1\n",
       "4   1 de enero de 2023        48085361.0        Y        1  enero  2023   1\n",
       "8   1 de enero de 2022        47486727.0        Y        1  enero  2022   1\n",
       "12  1 de enero de 2021        47400798.0        Y        1  enero  2021   1\n",
       "16  1 de enero de 2020        47318050.0        Y        1  enero  2020   1"
      ]
     },
     "execution_count": 49,
     "metadata": {},
     "output_type": "execute_result"
    }
   ],
   "source": [
    "final_population_data['year'] = final_population_data['Year'].str[-4:]\n",
    "final_population_data.head()"
   ]
  },
  {
   "cell_type": "markdown",
   "id": "5782e407",
   "metadata": {},
   "source": [
    "- Then I will recode month from \"enero\" that is January into 01 to be able to use pd.to_datetime() in the next step"
   ]
  },
  {
   "cell_type": "markdown",
   "id": "3cfad705",
   "metadata": {},
   "source": [
    "### 3.1 Now I only have to combine  Creating new Date"
   ]
  },
  {
   "cell_type": "markdown",
   "id": "91dc4c21",
   "metadata": {},
   "source": [
    " THen I will combine those separate [\"year\"], [\"month\"] and [\"day\"] columns into a proper Python date variable using the pd.to_datetime() method."
   ]
  }
 ],
 "metadata": {
  "kernelspec": {
   "display_name": ".venv",
   "language": "python",
   "name": "python3"
  },
  "language_info": {
   "codemirror_mode": {
    "name": "ipython",
    "version": 3
   },
   "file_extension": ".py",
   "mimetype": "text/x-python",
   "name": "python",
   "nbconvert_exporter": "python",
   "pygments_lexer": "ipython3",
   "version": "3.12.3"
  }
 },
 "nbformat": 4,
 "nbformat_minor": 5
}
