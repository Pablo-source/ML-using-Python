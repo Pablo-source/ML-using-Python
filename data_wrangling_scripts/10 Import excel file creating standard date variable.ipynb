{
 "cells": [
  {
   "cell_type": "markdown",
   "id": "c5e10a00",
   "metadata": {},
   "source": [
    "# 10 Import Excel file creating standard date variable"
   ]
  },
  {
   "cell_type": "markdown",
   "id": "02fa8a43",
   "metadata": {
    "vscode": {
     "languageId": "plaintext"
    }
   },
   "source": [
    "This Jupyter notebook will expand on the topic covered by previous one. After importing Excel file into Python, I will create a new variable as standard Python date variable from a character variable"
   ]
  },
  {
   "cell_type": "markdown",
   "id": "b6720975",
   "metadata": {
    "vscode": {
     "languageId": "plaintext"
    }
   },
   "source": [
    "## 1. Import Excel data into Python"
   ]
  },
  {
   "cell_type": "markdown",
   "id": "65f9a42e",
   "metadata": {},
   "source": [
    "- Import required libraries"
   ]
  },
  {
   "cell_type": "code",
   "execution_count": 6,
   "id": "8387bb5a",
   "metadata": {},
   "outputs": [],
   "source": [
    "import pandas as pd\n",
    "import os\n",
    "import numpy as np \n"
   ]
  },
  {
   "cell_type": "code",
   "execution_count": 7,
   "id": "3f384550",
   "metadata": {},
   "outputs": [],
   "source": [
    "import matplotlib.pyplot as plt\n",
    "import math"
   ]
  },
  {
   "cell_type": "code",
   "execution_count": null,
   "id": "e7c5c63f",
   "metadata": {},
   "outputs": [],
   "source": [
    "# Seaborn module installed alongside darkgrid theme\n",
    "import seaborn as sns\n",
    "sns.set_theme(style = \"darkgrid\")"
   ]
  },
  {
   "cell_type": "code",
   "execution_count": 10,
   "id": "37025a3d",
   "metadata": {},
   "outputs": [
    {
     "name": "stdout",
     "output_type": "stream",
     "text": [
      "My working directory is:/home/pablo/Documents/Pablo_ubuntu/Python_github_projects/ML-using-Python/data_wrangling_scripts\n"
     ]
    }
   ],
   "source": [
    "wd = os.getcwd()\n",
    "print(f'My working directory is:{wd}')"
   ]
  },
  {
   "cell_type": "code",
   "execution_count": 12,
   "id": "11ffaa45",
   "metadata": {},
   "outputs": [],
   "source": [
    "project_folder = os.path.join('/home','pablo','Documents','Pablo_ubuntu','Python_github_projects','ML-using-Python')\n",
    "os.chdir(project_folder)"
   ]
  },
  {
   "cell_type": "code",
   "execution_count": 13,
   "id": "e94e8d23",
   "metadata": {},
   "outputs": [],
   "source": [
    "data_folder = os.path.join('/home','pablo','Documents','Pablo_ubuntu','Python_github_projects','ML-using-Python','data')"
   ]
  },
  {
   "cell_type": "code",
   "execution_count": 14,
   "id": "c5625e1d",
   "metadata": {},
   "outputs": [
    {
     "name": "stdout",
     "output_type": "stream",
     "text": [
      "Data fodler path:/home/pablo/Documents/Pablo_ubuntu/Python_github_projects/ML-using-Python\n",
      "Data fodler path:/home/pablo/Documents/Pablo_ubuntu/Python_github_projects/ML-using-Python/data\n"
     ]
    }
   ],
   "source": [
    "print(f'Data fodler path:{project_folder}')\n",
    "print(f'Data fodler path:{data_folder}')"
   ]
  },
  {
   "cell_type": "markdown",
   "id": "c8cac0d2",
   "metadata": {},
   "source": [
    "- Display data folder contents"
   ]
  },
  {
   "cell_type": "code",
   "execution_count": 15,
   "id": "4fe7108a",
   "metadata": {},
   "outputs": [
    {
     "name": "stdout",
     "output_type": "stream",
     "text": [
      "Data folder contents:['monthly-milk-production-pounds.csv', 'winequality-white.csv', 'Monthly-AE-Time-Series-March-2025.xls', 'ONS_long_term_immigration_end2024.xlsx', 'AE_Attendances_TypeI_2010_2025.csv', '03_INE_Spain_natural_growh_births_deaths.xlsx', 'winequality-red.csv', 'INE Resident population country of birth Spain.xlsx', 'ONS_Figure_01_Long_term_emigration_immigration_net_migration.xlsx', 'Monthly-AE-Time-Series-January-2024.xls', 'wine_quality.zip', 'OCDE_countries_population_figures_1970_2022.csv', 'AE_Time_Series_Data_website.txt', '01 INE resident population by nationality Spain and CV 2002 2024.xlsx', 'AE_Attendances_2010_2024.csv', 'INE total and foreign population figures Spain.xlsx', 'Type_I_ATT_TEST.csv', 'all_wine_reset.csv', 'winequality.names', 'AE_Attendances_Aug2010_Mar_2025.csv', '02 INE Spain CV population stocks and flows 2002 2025.xlsx', 'Type_I_ATT_TRAIN.csv', 'ONS_Figure_2__Population_increase_in_mid-2023_was_driven_mostly_by_net_international_migration.xls']\n"
     ]
    }
   ],
   "source": [
    "data_folder_contents = os.listdir(data_folder)\n",
    "print(f'Data folder contents:{data_folder_contents}')"
   ]
  },
  {
   "cell_type": "markdown",
   "id": "4a19d691",
   "metadata": {},
   "source": [
    "- Display just Files ending in .xlsx in our data_folder path"
   ]
  },
  {
   "cell_type": "code",
   "execution_count": 16,
   "id": "49c859d3",
   "metadata": {},
   "outputs": [
    {
     "name": "stdout",
     "output_type": "stream",
     "text": [
      "/data/ONS_long_term_immigration_end2024.xlsx\n",
      "/data/03_INE_Spain_natural_growh_births_deaths.xlsx\n",
      "/data/INE Resident population country of birth Spain.xlsx\n",
      "/data/ONS_Figure_01_Long_term_emigration_immigration_net_migration.xlsx\n",
      "/data/01 INE resident population by nationality Spain and CV 2002 2024.xlsx\n",
      "/data/INE total and foreign population figures Spain.xlsx\n",
      "/data/02 INE Spain CV population stocks and flows 2002 2025.xlsx\n"
     ]
    }
   ],
   "source": [
    "for file in os.listdir(data_folder):\n",
    "    if file.endswith(\".xlsx\"):\n",
    "        print(os.path.join(\"/data\", file))"
   ]
  },
  {
   "cell_type": "markdown",
   "id": "998400cb",
   "metadata": {},
   "source": [
    "- Importing Excel file \"INE total and foreign population figures Spain.xlsx\" from \\data sub-folder."
   ]
  },
  {
   "cell_type": "code",
   "execution_count": 18,
   "id": "33c7b760",
   "metadata": {},
   "outputs": [
    {
     "data": {
      "application/vnd.microsoft.datawrangler.viewer.v0+json": {
       "columns": [
        {
         "name": "index",
         "rawType": "int64",
         "type": "integer"
        },
        {
         "name": " ",
         "rawType": "object",
         "type": "string"
        },
        {
         "name": "Total",
         "rawType": "object",
         "type": "unknown"
        }
       ],
       "ref": "d141c20e-2a40-4b2c-ad08-948c4f7bfccc",
       "rows": [
        [
         "0",
         "1 de enero de 2024",
         "48619695"
        ],
        [
         "1",
         "1 de octubre de 2023",
         "48486865"
        ],
        [
         "2",
         "1 de julio de 2023",
         "48320520"
        ],
        [
         "3",
         "1 de abril de 2023",
         "48205962"
        ],
        [
         "4",
         "1 de enero de 2023",
         "48085361"
        ]
       ],
       "shape": {
        "columns": 2,
        "rows": 5
       }
      },
      "text/html": [
       "<div>\n",
       "<style scoped>\n",
       "    .dataframe tbody tr th:only-of-type {\n",
       "        vertical-align: middle;\n",
       "    }\n",
       "\n",
       "    .dataframe tbody tr th {\n",
       "        vertical-align: top;\n",
       "    }\n",
       "\n",
       "    .dataframe thead th {\n",
       "        text-align: right;\n",
       "    }\n",
       "</style>\n",
       "<table border=\"1\" class=\"dataframe\">\n",
       "  <thead>\n",
       "    <tr style=\"text-align: right;\">\n",
       "      <th></th>\n",
       "      <th></th>\n",
       "      <th>Total</th>\n",
       "    </tr>\n",
       "  </thead>\n",
       "  <tbody>\n",
       "    <tr>\n",
       "      <th>0</th>\n",
       "      <td>1 de enero de 2024</td>\n",
       "      <td>48619695</td>\n",
       "    </tr>\n",
       "    <tr>\n",
       "      <th>1</th>\n",
       "      <td>1 de octubre de 2023</td>\n",
       "      <td>48486865</td>\n",
       "    </tr>\n",
       "    <tr>\n",
       "      <th>2</th>\n",
       "      <td>1 de julio de 2023</td>\n",
       "      <td>48320520</td>\n",
       "    </tr>\n",
       "    <tr>\n",
       "      <th>3</th>\n",
       "      <td>1 de abril de 2023</td>\n",
       "      <td>48205962</td>\n",
       "    </tr>\n",
       "    <tr>\n",
       "      <th>4</th>\n",
       "      <td>1 de enero de 2023</td>\n",
       "      <td>48085361</td>\n",
       "    </tr>\n",
       "  </tbody>\n",
       "</table>\n",
       "</div>"
      ],
      "text/plain": [
       "                            Total\n",
       "0    1 de enero de 2024  48619695\n",
       "1  1 de octubre de 2023  48486865\n",
       "2    1 de julio de 2023  48320520\n",
       "3    1 de abril de 2023  48205962\n",
       "4    1 de enero de 2023  48085361"
      ]
     },
     "execution_count": 18,
     "metadata": {},
     "output_type": "execute_result"
    }
   ],
   "source": [
    "data_raw = pd.read_excel(os.path.join('data','INE total and foreign population figures Spain.xlsx'),\n",
    "                         sheet_name = 'INE_Total_population',\n",
    "                         skiprows = 7, \n",
    "                         usecols='A:B',\n",
    "                         nrows = 212)\n",
    "data_raw.head()"
   ]
  },
  {
   "cell_type": "code",
   "execution_count": 19,
   "id": "7df53b91",
   "metadata": {},
   "outputs": [
    {
     "data": {
      "text/plain": [
       "<bound method DataFrame.info of                               Total\n",
       "0      1 de enero de 2024  48619695\n",
       "1    1 de octubre de 2023  48486865\n",
       "2      1 de julio de 2023  48320520\n",
       "3      1 de abril de 2023  48205962\n",
       "4      1 de enero de 2023  48085361\n",
       "..                    ...       ...\n",
       "207    1 de abril de 1972          \n",
       "208    1 de enero de 1972  34408338\n",
       "209  1 de octubre de 1971          \n",
       "210    1 de julio de 1971  34216856\n",
       "211    1 de abril de 1971          \n",
       "\n",
       "[212 rows x 2 columns]>"
      ]
     },
     "execution_count": 19,
     "metadata": {},
     "output_type": "execute_result"
    }
   ],
   "source": [
    "data_raw.info"
   ]
  },
  {
   "cell_type": "code",
   "execution_count": 20,
   "id": "19cf76f9",
   "metadata": {},
   "outputs": [
    {
     "name": "stdout",
     "output_type": "stream",
     "text": [
      "                              Total\n",
      "0      1 de enero de 2024  48619695\n",
      "1    1 de octubre de 2023  48486865\n",
      "2      1 de julio de 2023  48320520\n",
      "3      1 de abril de 2023  48205962\n",
      "4      1 de enero de 2023  48085361\n",
      "..                    ...       ...\n",
      "207    1 de abril de 1972          \n",
      "208    1 de enero de 1972  34408338\n",
      "209  1 de octubre de 1971          \n",
      "210    1 de julio de 1971  34216856\n",
      "211    1 de abril de 1971          \n",
      "\n",
      "[212 rows x 2 columns]\n"
     ]
    }
   ],
   "source": [
    "data_raw.head()\n",
    "print(data_raw)"
   ]
  },
  {
   "cell_type": "code",
   "execution_count": 21,
   "id": "2d486e10",
   "metadata": {},
   "outputs": [
    {
     "data": {
      "text/plain": [
       "Index([' ', 'Total'], dtype='object')"
      ]
     },
     "execution_count": 21,
     "metadata": {},
     "output_type": "execute_result"
    }
   ],
   "source": [
    "data_raw.columns"
   ]
  },
  {
   "cell_type": "markdown",
   "id": "d95d9821",
   "metadata": {},
   "source": [
    "- Rename default column names from imported Excel file into Python"
   ]
  },
  {
   "cell_type": "code",
   "execution_count": 22,
   "id": "1c86050b",
   "metadata": {},
   "outputs": [
    {
     "data": {
      "application/vnd.microsoft.datawrangler.viewer.v0+json": {
       "columns": [
        {
         "name": "index",
         "rawType": "int64",
         "type": "integer"
        },
        {
         "name": "Year",
         "rawType": "object",
         "type": "string"
        },
        {
         "name": "Total_population",
         "rawType": "object",
         "type": "unknown"
        }
       ],
       "ref": "cd9f6e8e-50bd-41a0-bef6-66a29a1f77a5",
       "rows": [
        [
         "0",
         "1 de enero de 2024",
         "48619695"
        ],
        [
         "1",
         "1 de octubre de 2023",
         "48486865"
        ],
        [
         "2",
         "1 de julio de 2023",
         "48320520"
        ],
        [
         "3",
         "1 de abril de 2023",
         "48205962"
        ],
        [
         "4",
         "1 de enero de 2023",
         "48085361"
        ]
       ],
       "shape": {
        "columns": 2,
        "rows": 5
       }
      },
      "text/html": [
       "<div>\n",
       "<style scoped>\n",
       "    .dataframe tbody tr th:only-of-type {\n",
       "        vertical-align: middle;\n",
       "    }\n",
       "\n",
       "    .dataframe tbody tr th {\n",
       "        vertical-align: top;\n",
       "    }\n",
       "\n",
       "    .dataframe thead th {\n",
       "        text-align: right;\n",
       "    }\n",
       "</style>\n",
       "<table border=\"1\" class=\"dataframe\">\n",
       "  <thead>\n",
       "    <tr style=\"text-align: right;\">\n",
       "      <th></th>\n",
       "      <th>Year</th>\n",
       "      <th>Total_population</th>\n",
       "    </tr>\n",
       "  </thead>\n",
       "  <tbody>\n",
       "    <tr>\n",
       "      <th>0</th>\n",
       "      <td>1 de enero de 2024</td>\n",
       "      <td>48619695</td>\n",
       "    </tr>\n",
       "    <tr>\n",
       "      <th>1</th>\n",
       "      <td>1 de octubre de 2023</td>\n",
       "      <td>48486865</td>\n",
       "    </tr>\n",
       "    <tr>\n",
       "      <th>2</th>\n",
       "      <td>1 de julio de 2023</td>\n",
       "      <td>48320520</td>\n",
       "    </tr>\n",
       "    <tr>\n",
       "      <th>3</th>\n",
       "      <td>1 de abril de 2023</td>\n",
       "      <td>48205962</td>\n",
       "    </tr>\n",
       "    <tr>\n",
       "      <th>4</th>\n",
       "      <td>1 de enero de 2023</td>\n",
       "      <td>48085361</td>\n",
       "    </tr>\n",
       "  </tbody>\n",
       "</table>\n",
       "</div>"
      ],
      "text/plain": [
       "                   Year Total_population\n",
       "0    1 de enero de 2024         48619695\n",
       "1  1 de octubre de 2023         48486865\n",
       "2    1 de julio de 2023         48320520\n",
       "3    1 de abril de 2023         48205962\n",
       "4    1 de enero de 2023         48085361"
      ]
     },
     "execution_count": 22,
     "metadata": {},
     "output_type": "execute_result"
    }
   ],
   "source": [
    "data_raw.columns = ['Year','Total_population']\n",
    "data_raw.head()"
   ]
  },
  {
   "cell_type": "code",
   "execution_count": 23,
   "id": "ee8df1b7",
   "metadata": {},
   "outputs": [
    {
     "data": {
      "application/vnd.microsoft.datawrangler.viewer.v0+json": {
       "columns": [
        {
         "name": "index",
         "rawType": "int64",
         "type": "integer"
        },
        {
         "name": "Year",
         "rawType": "object",
         "type": "string"
        },
        {
         "name": "Total_population",
         "rawType": "object",
         "type": "unknown"
        }
       ],
       "ref": "b4ff2dbb-1a37-409b-88d5-e6948225e55d",
       "rows": [
        [
         "207",
         "1 de abril de 1972",
         " "
        ],
        [
         "208",
         "1 de enero de 1972",
         "34408338"
        ],
        [
         "209",
         "1 de octubre de 1971",
         " "
        ],
        [
         "210",
         "1 de julio de 1971",
         "34216856"
        ],
        [
         "211",
         "1 de abril de 1971",
         " "
        ]
       ],
       "shape": {
        "columns": 2,
        "rows": 5
       }
      },
      "text/html": [
       "<div>\n",
       "<style scoped>\n",
       "    .dataframe tbody tr th:only-of-type {\n",
       "        vertical-align: middle;\n",
       "    }\n",
       "\n",
       "    .dataframe tbody tr th {\n",
       "        vertical-align: top;\n",
       "    }\n",
       "\n",
       "    .dataframe thead th {\n",
       "        text-align: right;\n",
       "    }\n",
       "</style>\n",
       "<table border=\"1\" class=\"dataframe\">\n",
       "  <thead>\n",
       "    <tr style=\"text-align: right;\">\n",
       "      <th></th>\n",
       "      <th>Year</th>\n",
       "      <th>Total_population</th>\n",
       "    </tr>\n",
       "  </thead>\n",
       "  <tbody>\n",
       "    <tr>\n",
       "      <th>207</th>\n",
       "      <td>1 de abril de 1972</td>\n",
       "      <td></td>\n",
       "    </tr>\n",
       "    <tr>\n",
       "      <th>208</th>\n",
       "      <td>1 de enero de 1972</td>\n",
       "      <td>34408338</td>\n",
       "    </tr>\n",
       "    <tr>\n",
       "      <th>209</th>\n",
       "      <td>1 de octubre de 1971</td>\n",
       "      <td></td>\n",
       "    </tr>\n",
       "    <tr>\n",
       "      <th>210</th>\n",
       "      <td>1 de julio de 1971</td>\n",
       "      <td>34216856</td>\n",
       "    </tr>\n",
       "    <tr>\n",
       "      <th>211</th>\n",
       "      <td>1 de abril de 1971</td>\n",
       "      <td></td>\n",
       "    </tr>\n",
       "  </tbody>\n",
       "</table>\n",
       "</div>"
      ],
      "text/plain": [
       "                     Year Total_population\n",
       "207    1 de abril de 1972                 \n",
       "208    1 de enero de 1972         34408338\n",
       "209  1 de octubre de 1971                 \n",
       "210    1 de julio de 1971         34216856\n",
       "211    1 de abril de 1971                 "
      ]
     },
     "execution_count": 23,
     "metadata": {},
     "output_type": "execute_result"
    }
   ],
   "source": [
    "data_raw.tail()"
   ]
  },
  {
   "cell_type": "markdown",
   "id": "8bca419d",
   "metadata": {},
   "source": [
    "### 1. Remove NaN values from Dataframe"
   ]
  },
  {
   "cell_type": "markdown",
   "id": "78408ada",
   "metadata": {},
   "source": [
    "- First issue I need to tacke is that we don't have NaN values. We have Empty values in the bottom cells in Total_population column, from the original Excel file imported into Python "
   ]
  },
  {
   "cell_type": "code",
   "execution_count": 24,
   "id": "d17e508d",
   "metadata": {},
   "outputs": [
    {
     "name": "stdout",
     "output_type": "stream",
     "text": [
      "212\n"
     ]
    }
   ],
   "source": [
    "count_data_raw = data_raw.shape[0]  # Gives number of rows\n",
    "print(count_data_raw)"
   ]
  },
  {
   "cell_type": "code",
   "execution_count": 26,
   "id": "405f1000",
   "metadata": {},
   "outputs": [
    {
     "name": "stdout",
     "output_type": "stream",
     "text": [
      "                     Year  Total_population\n",
      "0      1 de enero de 2024        48619695.0\n",
      "1    1 de octubre de 2023        48486865.0\n",
      "2      1 de julio de 2023        48320520.0\n",
      "3      1 de abril de 2023        48205962.0\n",
      "4      1 de enero de 2023        48085361.0\n",
      "..                    ...               ...\n",
      "207    1 de abril de 1972               NaN\n",
      "208    1 de enero de 1972        34408338.0\n",
      "209  1 de octubre de 1971               NaN\n",
      "210    1 de julio de 1971        34216856.0\n",
      "211    1 de abril de 1971               NaN\n",
      "\n",
      "[212 rows x 2 columns]\n"
     ]
    },
    {
     "name": "stderr",
     "output_type": "stream",
     "text": [
      "/tmp/ipykernel_5324/580462554.py:1: FutureWarning: Downcasting behavior in `replace` is deprecated and will be removed in a future version. To retain the old behavior, explicitly call `result.infer_objects(copy=False)`. To opt-in to the future behavior, set `pd.set_option('future.no_silent_downcasting', True)`\n",
      "  imported_data_na = data_raw.replace(r'^\\s*$',np.nan, regex = True)\n"
     ]
    }
   ],
   "source": [
    "imported_data_na = data_raw.replace(r'^\\s*$',np.nan, regex = True)\n",
    "print(imported_data_na)"
   ]
  },
  {
   "cell_type": "markdown",
   "id": "f320de02",
   "metadata": {},
   "source": [
    "- Now that we have our data with Missing values in the \"Total_population\" column, I can use the .dropna() method"
   ]
  },
  {
   "cell_type": "code",
   "execution_count": 27,
   "id": "99bba873",
   "metadata": {},
   "outputs": [
    {
     "data": {
      "application/vnd.microsoft.datawrangler.viewer.v0+json": {
       "columns": [
        {
         "name": "index",
         "rawType": "int64",
         "type": "integer"
        },
        {
         "name": "Year",
         "rawType": "object",
         "type": "string"
        },
        {
         "name": "Total_population",
         "rawType": "float64",
         "type": "float"
        }
       ],
       "ref": "2875f94f-fd2e-4496-9087-11efb51c47bd",
       "rows": [
        [
         "202",
         "1 de julio de 1973",
         "34980317.0"
        ],
        [
         "204",
         "1 de enero de 1973",
         "34800600.0"
        ],
        [
         "206",
         "1 de julio de 1972",
         "34595886.0"
        ],
        [
         "208",
         "1 de enero de 1972",
         "34408338.0"
        ],
        [
         "210",
         "1 de julio de 1971",
         "34216856.0"
        ]
       ],
       "shape": {
        "columns": 2,
        "rows": 5
       }
      },
      "text/html": [
       "<div>\n",
       "<style scoped>\n",
       "    .dataframe tbody tr th:only-of-type {\n",
       "        vertical-align: middle;\n",
       "    }\n",
       "\n",
       "    .dataframe tbody tr th {\n",
       "        vertical-align: top;\n",
       "    }\n",
       "\n",
       "    .dataframe thead th {\n",
       "        text-align: right;\n",
       "    }\n",
       "</style>\n",
       "<table border=\"1\" class=\"dataframe\">\n",
       "  <thead>\n",
       "    <tr style=\"text-align: right;\">\n",
       "      <th></th>\n",
       "      <th>Year</th>\n",
       "      <th>Total_population</th>\n",
       "    </tr>\n",
       "  </thead>\n",
       "  <tbody>\n",
       "    <tr>\n",
       "      <th>202</th>\n",
       "      <td>1 de julio de 1973</td>\n",
       "      <td>34980317.0</td>\n",
       "    </tr>\n",
       "    <tr>\n",
       "      <th>204</th>\n",
       "      <td>1 de enero de 1973</td>\n",
       "      <td>34800600.0</td>\n",
       "    </tr>\n",
       "    <tr>\n",
       "      <th>206</th>\n",
       "      <td>1 de julio de 1972</td>\n",
       "      <td>34595886.0</td>\n",
       "    </tr>\n",
       "    <tr>\n",
       "      <th>208</th>\n",
       "      <td>1 de enero de 1972</td>\n",
       "      <td>34408338.0</td>\n",
       "    </tr>\n",
       "    <tr>\n",
       "      <th>210</th>\n",
       "      <td>1 de julio de 1971</td>\n",
       "      <td>34216856.0</td>\n",
       "    </tr>\n",
       "  </tbody>\n",
       "</table>\n",
       "</div>"
      ],
      "text/plain": [
       "                   Year  Total_population\n",
       "202  1 de julio de 1973        34980317.0\n",
       "204  1 de enero de 1973        34800600.0\n",
       "206  1 de julio de 1972        34595886.0\n",
       "208  1 de enero de 1972        34408338.0\n",
       "210  1 de julio de 1971        34216856.0"
      ]
     },
     "execution_count": 27,
     "metadata": {},
     "output_type": "execute_result"
    }
   ],
   "source": [
    "imported_data_clean_dropna = imported_data_na.dropna(axis = 0, \n",
    "                subset = ['Total_population'],\n",
    "                inplace = False)\n",
    "imported_data_clean_dropna.head()\n",
    "imported_data_clean_dropna.tail()    "
   ]
  },
  {
   "cell_type": "code",
   "execution_count": 28,
   "id": "5cf7e9a8",
   "metadata": {},
   "outputs": [
    {
     "name": "stdout",
     "output_type": "stream",
     "text": [
      "112\n"
     ]
    }
   ],
   "source": [
    "count_row_clean_test = imported_data_clean_dropna.shape[0]  # Gives number of rows\n",
    "print(count_row_clean_test)"
   ]
  },
  {
   "cell_type": "markdown",
   "id": "db04709d",
   "metadata": {},
   "source": [
    "## 2. Flag January rows to keep just those rows "
   ]
  },
  {
   "cell_type": "markdown",
   "id": "8e44e87b",
   "metadata": {},
   "source": [
    "As I used in previous script \"09 Import Excel file replacing blanks by nulls.ipynb\" this is the way I flag January (Enero) rows in the dataframe."
   ]
  },
  {
   "cell_type": "code",
   "execution_count": 29,
   "id": "752759e1",
   "metadata": {},
   "outputs": [],
   "source": [
    "imported_data_flag = imported_data_clean_dropna.copy()"
   ]
  },
  {
   "cell_type": "code",
   "execution_count": 30,
   "id": "fed825f1",
   "metadata": {},
   "outputs": [],
   "source": [
    "imported_data_flag.loc[imported_data_flag['Year'].str.contains('enero',case = False),'Jan_flag'] = 'Y'"
   ]
  },
  {
   "cell_type": "code",
   "execution_count": 31,
   "id": "294963e3",
   "metadata": {},
   "outputs": [
    {
     "data": {
      "application/vnd.microsoft.datawrangler.viewer.v0+json": {
       "columns": [
        {
         "name": "index",
         "rawType": "int64",
         "type": "integer"
        },
        {
         "name": "Year",
         "rawType": "object",
         "type": "string"
        },
        {
         "name": "Total_population",
         "rawType": "float64",
         "type": "float"
        },
        {
         "name": "Jan_flag",
         "rawType": "object",
         "type": "unknown"
        }
       ],
       "ref": "2dd1d89e-3ac7-4527-9274-705958079437",
       "rows": [
        [
         "0",
         "1 de enero de 2024",
         "48619695.0",
         "Y"
        ],
        [
         "1",
         "1 de octubre de 2023",
         "48486865.0",
         null
        ],
        [
         "2",
         "1 de julio de 2023",
         "48320520.0",
         null
        ],
        [
         "3",
         "1 de abril de 2023",
         "48205962.0",
         null
        ],
        [
         "4",
         "1 de enero de 2023",
         "48085361.0",
         "Y"
        ]
       ],
       "shape": {
        "columns": 3,
        "rows": 5
       }
      },
      "text/html": [
       "<div>\n",
       "<style scoped>\n",
       "    .dataframe tbody tr th:only-of-type {\n",
       "        vertical-align: middle;\n",
       "    }\n",
       "\n",
       "    .dataframe tbody tr th {\n",
       "        vertical-align: top;\n",
       "    }\n",
       "\n",
       "    .dataframe thead th {\n",
       "        text-align: right;\n",
       "    }\n",
       "</style>\n",
       "<table border=\"1\" class=\"dataframe\">\n",
       "  <thead>\n",
       "    <tr style=\"text-align: right;\">\n",
       "      <th></th>\n",
       "      <th>Year</th>\n",
       "      <th>Total_population</th>\n",
       "      <th>Jan_flag</th>\n",
       "    </tr>\n",
       "  </thead>\n",
       "  <tbody>\n",
       "    <tr>\n",
       "      <th>0</th>\n",
       "      <td>1 de enero de 2024</td>\n",
       "      <td>48619695.0</td>\n",
       "      <td>Y</td>\n",
       "    </tr>\n",
       "    <tr>\n",
       "      <th>1</th>\n",
       "      <td>1 de octubre de 2023</td>\n",
       "      <td>48486865.0</td>\n",
       "      <td>NaN</td>\n",
       "    </tr>\n",
       "    <tr>\n",
       "      <th>2</th>\n",
       "      <td>1 de julio de 2023</td>\n",
       "      <td>48320520.0</td>\n",
       "      <td>NaN</td>\n",
       "    </tr>\n",
       "    <tr>\n",
       "      <th>3</th>\n",
       "      <td>1 de abril de 2023</td>\n",
       "      <td>48205962.0</td>\n",
       "      <td>NaN</td>\n",
       "    </tr>\n",
       "    <tr>\n",
       "      <th>4</th>\n",
       "      <td>1 de enero de 2023</td>\n",
       "      <td>48085361.0</td>\n",
       "      <td>Y</td>\n",
       "    </tr>\n",
       "  </tbody>\n",
       "</table>\n",
       "</div>"
      ],
      "text/plain": [
       "                   Year  Total_population Jan_flag\n",
       "0    1 de enero de 2024        48619695.0        Y\n",
       "1  1 de octubre de 2023        48486865.0      NaN\n",
       "2    1 de julio de 2023        48320520.0      NaN\n",
       "3    1 de abril de 2023        48205962.0      NaN\n",
       "4    1 de enero de 2023        48085361.0        Y"
      ]
     },
     "execution_count": 31,
     "metadata": {},
     "output_type": "execute_result"
    }
   ],
   "source": [
    "imported_data_flag.head()"
   ]
  },
  {
   "cell_type": "markdown",
   "id": "04c6ad42",
   "metadata": {},
   "source": [
    "### 2.1 Then we can subset rows with 'Y' Flag in them "
   ]
  },
  {
   "cell_type": "markdown",
   "id": "2e4bf447",
   "metadata": {},
   "source": [
    "From the imported_data_flag dataframe we will keep just records with Y values in Jan_flag column: "
   ]
  },
  {
   "cell_type": "code",
   "execution_count": 32,
   "id": "3e9a9c74",
   "metadata": {},
   "outputs": [
    {
     "data": {
      "application/vnd.microsoft.datawrangler.viewer.v0+json": {
       "columns": [
        {
         "name": "index",
         "rawType": "int64",
         "type": "integer"
        },
        {
         "name": "Year",
         "rawType": "object",
         "type": "string"
        },
        {
         "name": "Total_population",
         "rawType": "float64",
         "type": "float"
        },
        {
         "name": "Jan_flag",
         "rawType": "object",
         "type": "string"
        }
       ],
       "ref": "509748e6-f44e-4fef-aef8-f5442bb7e6f8",
       "rows": [
        [
         "192",
         "1 de enero de 1976",
         "35946425.0",
         "Y"
        ],
        [
         "196",
         "1 de enero de 1975",
         "35569375.0",
         "Y"
        ],
        [
         "200",
         "1 de enero de 1974",
         "35177294.0",
         "Y"
        ],
        [
         "204",
         "1 de enero de 1973",
         "34800600.0",
         "Y"
        ],
        [
         "208",
         "1 de enero de 1972",
         "34408338.0",
         "Y"
        ]
       ],
       "shape": {
        "columns": 3,
        "rows": 5
       }
      },
      "text/html": [
       "<div>\n",
       "<style scoped>\n",
       "    .dataframe tbody tr th:only-of-type {\n",
       "        vertical-align: middle;\n",
       "    }\n",
       "\n",
       "    .dataframe tbody tr th {\n",
       "        vertical-align: top;\n",
       "    }\n",
       "\n",
       "    .dataframe thead th {\n",
       "        text-align: right;\n",
       "    }\n",
       "</style>\n",
       "<table border=\"1\" class=\"dataframe\">\n",
       "  <thead>\n",
       "    <tr style=\"text-align: right;\">\n",
       "      <th></th>\n",
       "      <th>Year</th>\n",
       "      <th>Total_population</th>\n",
       "      <th>Jan_flag</th>\n",
       "    </tr>\n",
       "  </thead>\n",
       "  <tbody>\n",
       "    <tr>\n",
       "      <th>192</th>\n",
       "      <td>1 de enero de 1976</td>\n",
       "      <td>35946425.0</td>\n",
       "      <td>Y</td>\n",
       "    </tr>\n",
       "    <tr>\n",
       "      <th>196</th>\n",
       "      <td>1 de enero de 1975</td>\n",
       "      <td>35569375.0</td>\n",
       "      <td>Y</td>\n",
       "    </tr>\n",
       "    <tr>\n",
       "      <th>200</th>\n",
       "      <td>1 de enero de 1974</td>\n",
       "      <td>35177294.0</td>\n",
       "      <td>Y</td>\n",
       "    </tr>\n",
       "    <tr>\n",
       "      <th>204</th>\n",
       "      <td>1 de enero de 1973</td>\n",
       "      <td>34800600.0</td>\n",
       "      <td>Y</td>\n",
       "    </tr>\n",
       "    <tr>\n",
       "      <th>208</th>\n",
       "      <td>1 de enero de 1972</td>\n",
       "      <td>34408338.0</td>\n",
       "      <td>Y</td>\n",
       "    </tr>\n",
       "  </tbody>\n",
       "</table>\n",
       "</div>"
      ],
      "text/plain": [
       "                   Year  Total_population Jan_flag\n",
       "192  1 de enero de 1976        35946425.0        Y\n",
       "196  1 de enero de 1975        35569375.0        Y\n",
       "200  1 de enero de 1974        35177294.0        Y\n",
       "204  1 de enero de 1973        34800600.0        Y\n",
       "208  1 de enero de 1972        34408338.0        Y"
      ]
     },
     "execution_count": 32,
     "metadata": {},
     "output_type": "execute_result"
    }
   ],
   "source": [
    "final_population_data = imported_data_flag[imported_data_flag.Jan_flag == 'Y']\n",
    "final_population_data.head()\n",
    "final_population_data.tail()"
   ]
  },
  {
   "cell_type": "code",
   "execution_count": 33,
   "id": "2635d47b",
   "metadata": {},
   "outputs": [
    {
     "name": "stdout",
     "output_type": "stream",
     "text": [
      "Number of rows:53\n"
     ]
    }
   ],
   "source": [
    "df_rows = final_population_data\n",
    "num_rows_final_population_data = len(df_rows.index)\n",
    "print(f'Number of rows:{num_rows_final_population_data}')"
   ]
  },
  {
   "cell_type": "code",
   "execution_count": 34,
   "id": "1fc63a89",
   "metadata": {},
   "outputs": [
    {
     "data": {
      "application/vnd.microsoft.datawrangler.viewer.v0+json": {
       "columns": [
        {
         "name": "index",
         "rawType": "int64",
         "type": "integer"
        },
        {
         "name": "Year",
         "rawType": "object",
         "type": "string"
        },
        {
         "name": "Total_population",
         "rawType": "float64",
         "type": "float"
        },
        {
         "name": "Jan_flag",
         "rawType": "object",
         "type": "string"
        }
       ],
       "ref": "04b00f42-027a-45f3-9ae4-5faf741c7e7d",
       "rows": [
        [
         "0",
         "1 de enero de 2024",
         "48619695.0",
         "Y"
        ],
        [
         "4",
         "1 de enero de 2023",
         "48085361.0",
         "Y"
        ],
        [
         "8",
         "1 de enero de 2022",
         "47486727.0",
         "Y"
        ],
        [
         "12",
         "1 de enero de 2021",
         "47400798.0",
         "Y"
        ],
        [
         "16",
         "1 de enero de 2020",
         "47318050.0",
         "Y"
        ]
       ],
       "shape": {
        "columns": 3,
        "rows": 5
       }
      },
      "text/html": [
       "<div>\n",
       "<style scoped>\n",
       "    .dataframe tbody tr th:only-of-type {\n",
       "        vertical-align: middle;\n",
       "    }\n",
       "\n",
       "    .dataframe tbody tr th {\n",
       "        vertical-align: top;\n",
       "    }\n",
       "\n",
       "    .dataframe thead th {\n",
       "        text-align: right;\n",
       "    }\n",
       "</style>\n",
       "<table border=\"1\" class=\"dataframe\">\n",
       "  <thead>\n",
       "    <tr style=\"text-align: right;\">\n",
       "      <th></th>\n",
       "      <th>Year</th>\n",
       "      <th>Total_population</th>\n",
       "      <th>Jan_flag</th>\n",
       "    </tr>\n",
       "  </thead>\n",
       "  <tbody>\n",
       "    <tr>\n",
       "      <th>0</th>\n",
       "      <td>1 de enero de 2024</td>\n",
       "      <td>48619695.0</td>\n",
       "      <td>Y</td>\n",
       "    </tr>\n",
       "    <tr>\n",
       "      <th>4</th>\n",
       "      <td>1 de enero de 2023</td>\n",
       "      <td>48085361.0</td>\n",
       "      <td>Y</td>\n",
       "    </tr>\n",
       "    <tr>\n",
       "      <th>8</th>\n",
       "      <td>1 de enero de 2022</td>\n",
       "      <td>47486727.0</td>\n",
       "      <td>Y</td>\n",
       "    </tr>\n",
       "    <tr>\n",
       "      <th>12</th>\n",
       "      <td>1 de enero de 2021</td>\n",
       "      <td>47400798.0</td>\n",
       "      <td>Y</td>\n",
       "    </tr>\n",
       "    <tr>\n",
       "      <th>16</th>\n",
       "      <td>1 de enero de 2020</td>\n",
       "      <td>47318050.0</td>\n",
       "      <td>Y</td>\n",
       "    </tr>\n",
       "  </tbody>\n",
       "</table>\n",
       "</div>"
      ],
      "text/plain": [
       "                  Year  Total_population Jan_flag\n",
       "0   1 de enero de 2024        48619695.0        Y\n",
       "4   1 de enero de 2023        48085361.0        Y\n",
       "8   1 de enero de 2022        47486727.0        Y\n",
       "12  1 de enero de 2021        47400798.0        Y\n",
       "16  1 de enero de 2020        47318050.0        Y"
      ]
     },
     "execution_count": 34,
     "metadata": {},
     "output_type": "execute_result"
    }
   ],
   "source": [
    "final_population_data.head()\n"
   ]
  },
  {
   "cell_type": "code",
   "execution_count": 35,
   "id": "e9c18575",
   "metadata": {},
   "outputs": [
    {
     "data": {
      "application/vnd.microsoft.datawrangler.viewer.v0+json": {
       "columns": [
        {
         "name": "index",
         "rawType": "int64",
         "type": "integer"
        },
        {
         "name": "Year",
         "rawType": "object",
         "type": "string"
        },
        {
         "name": "Total_population",
         "rawType": "float64",
         "type": "float"
        },
        {
         "name": "Jan_flag",
         "rawType": "object",
         "type": "string"
        }
       ],
       "ref": "366d4712-5d6a-4220-af87-fbf121c3cbd7",
       "rows": [
        [
         "192",
         "1 de enero de 1976",
         "35946425.0",
         "Y"
        ],
        [
         "196",
         "1 de enero de 1975",
         "35569375.0",
         "Y"
        ],
        [
         "200",
         "1 de enero de 1974",
         "35177294.0",
         "Y"
        ],
        [
         "204",
         "1 de enero de 1973",
         "34800600.0",
         "Y"
        ],
        [
         "208",
         "1 de enero de 1972",
         "34408338.0",
         "Y"
        ]
       ],
       "shape": {
        "columns": 3,
        "rows": 5
       }
      },
      "text/html": [
       "<div>\n",
       "<style scoped>\n",
       "    .dataframe tbody tr th:only-of-type {\n",
       "        vertical-align: middle;\n",
       "    }\n",
       "\n",
       "    .dataframe tbody tr th {\n",
       "        vertical-align: top;\n",
       "    }\n",
       "\n",
       "    .dataframe thead th {\n",
       "        text-align: right;\n",
       "    }\n",
       "</style>\n",
       "<table border=\"1\" class=\"dataframe\">\n",
       "  <thead>\n",
       "    <tr style=\"text-align: right;\">\n",
       "      <th></th>\n",
       "      <th>Year</th>\n",
       "      <th>Total_population</th>\n",
       "      <th>Jan_flag</th>\n",
       "    </tr>\n",
       "  </thead>\n",
       "  <tbody>\n",
       "    <tr>\n",
       "      <th>192</th>\n",
       "      <td>1 de enero de 1976</td>\n",
       "      <td>35946425.0</td>\n",
       "      <td>Y</td>\n",
       "    </tr>\n",
       "    <tr>\n",
       "      <th>196</th>\n",
       "      <td>1 de enero de 1975</td>\n",
       "      <td>35569375.0</td>\n",
       "      <td>Y</td>\n",
       "    </tr>\n",
       "    <tr>\n",
       "      <th>200</th>\n",
       "      <td>1 de enero de 1974</td>\n",
       "      <td>35177294.0</td>\n",
       "      <td>Y</td>\n",
       "    </tr>\n",
       "    <tr>\n",
       "      <th>204</th>\n",
       "      <td>1 de enero de 1973</td>\n",
       "      <td>34800600.0</td>\n",
       "      <td>Y</td>\n",
       "    </tr>\n",
       "    <tr>\n",
       "      <th>208</th>\n",
       "      <td>1 de enero de 1972</td>\n",
       "      <td>34408338.0</td>\n",
       "      <td>Y</td>\n",
       "    </tr>\n",
       "  </tbody>\n",
       "</table>\n",
       "</div>"
      ],
      "text/plain": [
       "                   Year  Total_population Jan_flag\n",
       "192  1 de enero de 1976        35946425.0        Y\n",
       "196  1 de enero de 1975        35569375.0        Y\n",
       "200  1 de enero de 1974        35177294.0        Y\n",
       "204  1 de enero de 1973        34800600.0        Y\n",
       "208  1 de enero de 1972        34408338.0        Y"
      ]
     },
     "execution_count": 35,
     "metadata": {},
     "output_type": "execute_result"
    }
   ],
   "source": [
    "final_population_data.tail()"
   ]
  },
  {
   "cell_type": "markdown",
   "id": "b7f6d276",
   "metadata": {},
   "source": [
    "## 3. Creating new Date varaible from character columns  "
   ]
  },
  {
   "cell_type": "markdown",
   "id": "0512bcbc",
   "metadata": {},
   "source": [
    "- Display first column types"
   ]
  },
  {
   "cell_type": "code",
   "execution_count": 36,
   "id": "3755f975",
   "metadata": {},
   "outputs": [
    {
     "data": {
      "text/plain": [
       "pandas.core.frame.DataFrame"
      ]
     },
     "execution_count": 36,
     "metadata": {},
     "output_type": "execute_result"
    }
   ],
   "source": [
    "type(final_population_data)"
   ]
  },
  {
   "cell_type": "markdown",
   "id": "076e29b7",
   "metadata": {},
   "source": [
    "- We can display different data types included in the Pandas DataFrame"
   ]
  },
  {
   "cell_type": "code",
   "execution_count": 37,
   "id": "100d4195",
   "metadata": {},
   "outputs": [
    {
     "data": {
      "application/vnd.microsoft.datawrangler.viewer.v0+json": {
       "columns": [
        {
         "name": "index",
         "rawType": "object",
         "type": "string"
        },
        {
         "name": "0",
         "rawType": "object",
         "type": "unknown"
        }
       ],
       "ref": "22c5a077-22c5-4303-818a-dee9447f255b",
       "rows": [
        [
         "Year",
         "object"
        ],
        [
         "Total_population",
         "float64"
        ],
        [
         "Jan_flag",
         "object"
        ]
       ],
       "shape": {
        "columns": 1,
        "rows": 3
       }
      },
      "text/plain": [
       "Year                 object\n",
       "Total_population    float64\n",
       "Jan_flag             object\n",
       "dtype: object"
      ]
     },
     "execution_count": 37,
     "metadata": {},
     "output_type": "execute_result"
    }
   ],
   "source": [
    "final_population_data.dtypes"
   ]
  },
  {
   "cell_type": "markdown",
   "id": "a0be4213",
   "metadata": {},
   "source": [
    "- Create new varaibles subtracting sections of Year string column"
   ]
  },
  {
   "cell_type": "markdown",
   "id": "6dbee02f",
   "metadata": {},
   "source": [
    "- First I want a new column for the day (using str[:1]"
   ]
  },
  {
   "cell_type": "code",
   "execution_count": 38,
   "id": "89511b09",
   "metadata": {},
   "outputs": [
    {
     "name": "stderr",
     "output_type": "stream",
     "text": [
      "/tmp/ipykernel_5324/737695263.py:1: SettingWithCopyWarning: \n",
      "A value is trying to be set on a copy of a slice from a DataFrame.\n",
      "Try using .loc[row_indexer,col_indexer] = value instead\n",
      "\n",
      "See the caveats in the documentation: https://pandas.pydata.org/pandas-docs/stable/user_guide/indexing.html#returning-a-view-versus-a-copy\n",
      "  final_population_data['day'] = final_population_data['Year'].str[:1]\n"
     ]
    },
    {
     "data": {
      "application/vnd.microsoft.datawrangler.viewer.v0+json": {
       "columns": [
        {
         "name": "index",
         "rawType": "int64",
         "type": "integer"
        },
        {
         "name": "Year",
         "rawType": "object",
         "type": "string"
        },
        {
         "name": "Total_population",
         "rawType": "float64",
         "type": "float"
        },
        {
         "name": "Jan_flag",
         "rawType": "object",
         "type": "string"
        },
        {
         "name": "day",
         "rawType": "object",
         "type": "string"
        }
       ],
       "ref": "c3dda6ac-96ca-46a5-b8c5-9944c3868eb5",
       "rows": [
        [
         "0",
         "1 de enero de 2024",
         "48619695.0",
         "Y",
         "1"
        ],
        [
         "4",
         "1 de enero de 2023",
         "48085361.0",
         "Y",
         "1"
        ],
        [
         "8",
         "1 de enero de 2022",
         "47486727.0",
         "Y",
         "1"
        ],
        [
         "12",
         "1 de enero de 2021",
         "47400798.0",
         "Y",
         "1"
        ],
        [
         "16",
         "1 de enero de 2020",
         "47318050.0",
         "Y",
         "1"
        ]
       ],
       "shape": {
        "columns": 4,
        "rows": 5
       }
      },
      "text/html": [
       "<div>\n",
       "<style scoped>\n",
       "    .dataframe tbody tr th:only-of-type {\n",
       "        vertical-align: middle;\n",
       "    }\n",
       "\n",
       "    .dataframe tbody tr th {\n",
       "        vertical-align: top;\n",
       "    }\n",
       "\n",
       "    .dataframe thead th {\n",
       "        text-align: right;\n",
       "    }\n",
       "</style>\n",
       "<table border=\"1\" class=\"dataframe\">\n",
       "  <thead>\n",
       "    <tr style=\"text-align: right;\">\n",
       "      <th></th>\n",
       "      <th>Year</th>\n",
       "      <th>Total_population</th>\n",
       "      <th>Jan_flag</th>\n",
       "      <th>day</th>\n",
       "    </tr>\n",
       "  </thead>\n",
       "  <tbody>\n",
       "    <tr>\n",
       "      <th>0</th>\n",
       "      <td>1 de enero de 2024</td>\n",
       "      <td>48619695.0</td>\n",
       "      <td>Y</td>\n",
       "      <td>1</td>\n",
       "    </tr>\n",
       "    <tr>\n",
       "      <th>4</th>\n",
       "      <td>1 de enero de 2023</td>\n",
       "      <td>48085361.0</td>\n",
       "      <td>Y</td>\n",
       "      <td>1</td>\n",
       "    </tr>\n",
       "    <tr>\n",
       "      <th>8</th>\n",
       "      <td>1 de enero de 2022</td>\n",
       "      <td>47486727.0</td>\n",
       "      <td>Y</td>\n",
       "      <td>1</td>\n",
       "    </tr>\n",
       "    <tr>\n",
       "      <th>12</th>\n",
       "      <td>1 de enero de 2021</td>\n",
       "      <td>47400798.0</td>\n",
       "      <td>Y</td>\n",
       "      <td>1</td>\n",
       "    </tr>\n",
       "    <tr>\n",
       "      <th>16</th>\n",
       "      <td>1 de enero de 2020</td>\n",
       "      <td>47318050.0</td>\n",
       "      <td>Y</td>\n",
       "      <td>1</td>\n",
       "    </tr>\n",
       "  </tbody>\n",
       "</table>\n",
       "</div>"
      ],
      "text/plain": [
       "                  Year  Total_population Jan_flag day\n",
       "0   1 de enero de 2024        48619695.0        Y   1\n",
       "4   1 de enero de 2023        48085361.0        Y   1\n",
       "8   1 de enero de 2022        47486727.0        Y   1\n",
       "12  1 de enero de 2021        47400798.0        Y   1\n",
       "16  1 de enero de 2020        47318050.0        Y   1"
      ]
     },
     "execution_count": 38,
     "metadata": {},
     "output_type": "execute_result"
    }
   ],
   "source": [
    "final_population_data['day'] = final_population_data['Year'].str[:1]\n",
    "final_population_data.head()"
   ]
  },
  {
   "cell_type": "markdown",
   "id": "dee37aca",
   "metadata": {},
   "source": [
    "- Then We want a new variable to substract the Month "
   ]
  },
  {
   "cell_type": "code",
   "execution_count": 39,
   "id": "e882b67c",
   "metadata": {},
   "outputs": [
    {
     "name": "stderr",
     "output_type": "stream",
     "text": [
      "/tmp/ipykernel_5324/2604275464.py:1: SettingWithCopyWarning: \n",
      "A value is trying to be set on a copy of a slice from a DataFrame.\n",
      "Try using .loc[row_indexer,col_indexer] = value instead\n",
      "\n",
      "See the caveats in the documentation: https://pandas.pydata.org/pandas-docs/stable/user_guide/indexing.html#returning-a-view-versus-a-copy\n",
      "  final_population_data['month'] = final_population_data['Year'].str[5:10]\n"
     ]
    },
    {
     "data": {
      "application/vnd.microsoft.datawrangler.viewer.v0+json": {
       "columns": [
        {
         "name": "index",
         "rawType": "int64",
         "type": "integer"
        },
        {
         "name": "Year",
         "rawType": "object",
         "type": "string"
        },
        {
         "name": "Total_population",
         "rawType": "float64",
         "type": "float"
        },
        {
         "name": "Jan_flag",
         "rawType": "object",
         "type": "string"
        },
        {
         "name": "day",
         "rawType": "object",
         "type": "string"
        },
        {
         "name": "month",
         "rawType": "object",
         "type": "string"
        }
       ],
       "ref": "44e8158f-2f1a-449f-a44d-afde4f5f462e",
       "rows": [
        [
         "0",
         "1 de enero de 2024",
         "48619695.0",
         "Y",
         "1",
         "enero"
        ],
        [
         "4",
         "1 de enero de 2023",
         "48085361.0",
         "Y",
         "1",
         "enero"
        ],
        [
         "8",
         "1 de enero de 2022",
         "47486727.0",
         "Y",
         "1",
         "enero"
        ],
        [
         "12",
         "1 de enero de 2021",
         "47400798.0",
         "Y",
         "1",
         "enero"
        ],
        [
         "16",
         "1 de enero de 2020",
         "47318050.0",
         "Y",
         "1",
         "enero"
        ]
       ],
       "shape": {
        "columns": 5,
        "rows": 5
       }
      },
      "text/html": [
       "<div>\n",
       "<style scoped>\n",
       "    .dataframe tbody tr th:only-of-type {\n",
       "        vertical-align: middle;\n",
       "    }\n",
       "\n",
       "    .dataframe tbody tr th {\n",
       "        vertical-align: top;\n",
       "    }\n",
       "\n",
       "    .dataframe thead th {\n",
       "        text-align: right;\n",
       "    }\n",
       "</style>\n",
       "<table border=\"1\" class=\"dataframe\">\n",
       "  <thead>\n",
       "    <tr style=\"text-align: right;\">\n",
       "      <th></th>\n",
       "      <th>Year</th>\n",
       "      <th>Total_population</th>\n",
       "      <th>Jan_flag</th>\n",
       "      <th>day</th>\n",
       "      <th>month</th>\n",
       "    </tr>\n",
       "  </thead>\n",
       "  <tbody>\n",
       "    <tr>\n",
       "      <th>0</th>\n",
       "      <td>1 de enero de 2024</td>\n",
       "      <td>48619695.0</td>\n",
       "      <td>Y</td>\n",
       "      <td>1</td>\n",
       "      <td>enero</td>\n",
       "    </tr>\n",
       "    <tr>\n",
       "      <th>4</th>\n",
       "      <td>1 de enero de 2023</td>\n",
       "      <td>48085361.0</td>\n",
       "      <td>Y</td>\n",
       "      <td>1</td>\n",
       "      <td>enero</td>\n",
       "    </tr>\n",
       "    <tr>\n",
       "      <th>8</th>\n",
       "      <td>1 de enero de 2022</td>\n",
       "      <td>47486727.0</td>\n",
       "      <td>Y</td>\n",
       "      <td>1</td>\n",
       "      <td>enero</td>\n",
       "    </tr>\n",
       "    <tr>\n",
       "      <th>12</th>\n",
       "      <td>1 de enero de 2021</td>\n",
       "      <td>47400798.0</td>\n",
       "      <td>Y</td>\n",
       "      <td>1</td>\n",
       "      <td>enero</td>\n",
       "    </tr>\n",
       "    <tr>\n",
       "      <th>16</th>\n",
       "      <td>1 de enero de 2020</td>\n",
       "      <td>47318050.0</td>\n",
       "      <td>Y</td>\n",
       "      <td>1</td>\n",
       "      <td>enero</td>\n",
       "    </tr>\n",
       "  </tbody>\n",
       "</table>\n",
       "</div>"
      ],
      "text/plain": [
       "                  Year  Total_population Jan_flag day  month\n",
       "0   1 de enero de 2024        48619695.0        Y   1  enero\n",
       "4   1 de enero de 2023        48085361.0        Y   1  enero\n",
       "8   1 de enero de 2022        47486727.0        Y   1  enero\n",
       "12  1 de enero de 2021        47400798.0        Y   1  enero\n",
       "16  1 de enero de 2020        47318050.0        Y   1  enero"
      ]
     },
     "execution_count": 39,
     "metadata": {},
     "output_type": "execute_result"
    }
   ],
   "source": [
    "final_population_data['month'] = final_population_data['Year'].str[5:10]\n",
    "final_population_data.head()"
   ]
  },
  {
   "cell_type": "markdown",
   "id": "5b4e0e36",
   "metadata": {},
   "source": [
    "- Finally we will extract the year from Year column  "
   ]
  },
  {
   "cell_type": "code",
   "execution_count": 40,
   "id": "91c6706b",
   "metadata": {},
   "outputs": [
    {
     "name": "stderr",
     "output_type": "stream",
     "text": [
      "/tmp/ipykernel_5324/947643015.py:1: SettingWithCopyWarning: \n",
      "A value is trying to be set on a copy of a slice from a DataFrame.\n",
      "Try using .loc[row_indexer,col_indexer] = value instead\n",
      "\n",
      "See the caveats in the documentation: https://pandas.pydata.org/pandas-docs/stable/user_guide/indexing.html#returning-a-view-versus-a-copy\n",
      "  final_population_data['year'] = final_population_data['Year'].str[-4:]\n"
     ]
    },
    {
     "data": {
      "application/vnd.microsoft.datawrangler.viewer.v0+json": {
       "columns": [
        {
         "name": "index",
         "rawType": "int64",
         "type": "integer"
        },
        {
         "name": "Year",
         "rawType": "object",
         "type": "string"
        },
        {
         "name": "Total_population",
         "rawType": "float64",
         "type": "float"
        },
        {
         "name": "Jan_flag",
         "rawType": "object",
         "type": "string"
        },
        {
         "name": "day",
         "rawType": "object",
         "type": "string"
        },
        {
         "name": "month",
         "rawType": "object",
         "type": "string"
        },
        {
         "name": "year",
         "rawType": "object",
         "type": "string"
        }
       ],
       "ref": "5adf5c57-8f6f-4c33-9c07-2a78f47672fd",
       "rows": [
        [
         "0",
         "1 de enero de 2024",
         "48619695.0",
         "Y",
         "1",
         "enero",
         "2024"
        ],
        [
         "4",
         "1 de enero de 2023",
         "48085361.0",
         "Y",
         "1",
         "enero",
         "2023"
        ],
        [
         "8",
         "1 de enero de 2022",
         "47486727.0",
         "Y",
         "1",
         "enero",
         "2022"
        ],
        [
         "12",
         "1 de enero de 2021",
         "47400798.0",
         "Y",
         "1",
         "enero",
         "2021"
        ],
        [
         "16",
         "1 de enero de 2020",
         "47318050.0",
         "Y",
         "1",
         "enero",
         "2020"
        ]
       ],
       "shape": {
        "columns": 6,
        "rows": 5
       }
      },
      "text/html": [
       "<div>\n",
       "<style scoped>\n",
       "    .dataframe tbody tr th:only-of-type {\n",
       "        vertical-align: middle;\n",
       "    }\n",
       "\n",
       "    .dataframe tbody tr th {\n",
       "        vertical-align: top;\n",
       "    }\n",
       "\n",
       "    .dataframe thead th {\n",
       "        text-align: right;\n",
       "    }\n",
       "</style>\n",
       "<table border=\"1\" class=\"dataframe\">\n",
       "  <thead>\n",
       "    <tr style=\"text-align: right;\">\n",
       "      <th></th>\n",
       "      <th>Year</th>\n",
       "      <th>Total_population</th>\n",
       "      <th>Jan_flag</th>\n",
       "      <th>day</th>\n",
       "      <th>month</th>\n",
       "      <th>year</th>\n",
       "    </tr>\n",
       "  </thead>\n",
       "  <tbody>\n",
       "    <tr>\n",
       "      <th>0</th>\n",
       "      <td>1 de enero de 2024</td>\n",
       "      <td>48619695.0</td>\n",
       "      <td>Y</td>\n",
       "      <td>1</td>\n",
       "      <td>enero</td>\n",
       "      <td>2024</td>\n",
       "    </tr>\n",
       "    <tr>\n",
       "      <th>4</th>\n",
       "      <td>1 de enero de 2023</td>\n",
       "      <td>48085361.0</td>\n",
       "      <td>Y</td>\n",
       "      <td>1</td>\n",
       "      <td>enero</td>\n",
       "      <td>2023</td>\n",
       "    </tr>\n",
       "    <tr>\n",
       "      <th>8</th>\n",
       "      <td>1 de enero de 2022</td>\n",
       "      <td>47486727.0</td>\n",
       "      <td>Y</td>\n",
       "      <td>1</td>\n",
       "      <td>enero</td>\n",
       "      <td>2022</td>\n",
       "    </tr>\n",
       "    <tr>\n",
       "      <th>12</th>\n",
       "      <td>1 de enero de 2021</td>\n",
       "      <td>47400798.0</td>\n",
       "      <td>Y</td>\n",
       "      <td>1</td>\n",
       "      <td>enero</td>\n",
       "      <td>2021</td>\n",
       "    </tr>\n",
       "    <tr>\n",
       "      <th>16</th>\n",
       "      <td>1 de enero de 2020</td>\n",
       "      <td>47318050.0</td>\n",
       "      <td>Y</td>\n",
       "      <td>1</td>\n",
       "      <td>enero</td>\n",
       "      <td>2020</td>\n",
       "    </tr>\n",
       "  </tbody>\n",
       "</table>\n",
       "</div>"
      ],
      "text/plain": [
       "                  Year  Total_population Jan_flag day  month  year\n",
       "0   1 de enero de 2024        48619695.0        Y   1  enero  2024\n",
       "4   1 de enero de 2023        48085361.0        Y   1  enero  2023\n",
       "8   1 de enero de 2022        47486727.0        Y   1  enero  2022\n",
       "12  1 de enero de 2021        47400798.0        Y   1  enero  2021\n",
       "16  1 de enero de 2020        47318050.0        Y   1  enero  2020"
      ]
     },
     "execution_count": 40,
     "metadata": {},
     "output_type": "execute_result"
    }
   ],
   "source": [
    "final_population_data['year'] = final_population_data['Year'].str[-4:]\n",
    "final_population_data.head()"
   ]
  },
  {
   "cell_type": "markdown",
   "id": "5782e407",
   "metadata": {},
   "source": [
    "- Then I will recode month from \"enero\" that is January into 01 to be able to use pd.to_datetime() in the next step"
   ]
  },
  {
   "cell_type": "markdown",
   "id": "3cfad705",
   "metadata": {},
   "source": [
    "### 3.1 Now I have ro recode month variable to display numeric value before creating a new Date variable"
   ]
  },
  {
   "cell_type": "markdown",
   "id": "91dc4c21",
   "metadata": {},
   "source": [
    " Then I will combine those separate [\"year\"], [\"month\"] and [\"day\"] columns into a proper Python date variable using the pd.to_datetime() method."
   ]
  },
  {
   "cell_type": "code",
   "execution_count": 41,
   "id": "21998cea",
   "metadata": {},
   "outputs": [
    {
     "data": {
      "application/vnd.microsoft.datawrangler.viewer.v0+json": {
       "columns": [
        {
         "name": "index",
         "rawType": "int64",
         "type": "integer"
        },
        {
         "name": "Year",
         "rawType": "object",
         "type": "string"
        },
        {
         "name": "Total_population",
         "rawType": "float64",
         "type": "float"
        },
        {
         "name": "Jan_flag",
         "rawType": "object",
         "type": "string"
        },
        {
         "name": "day",
         "rawType": "object",
         "type": "string"
        },
        {
         "name": "month",
         "rawType": "object",
         "type": "string"
        },
        {
         "name": "year",
         "rawType": "object",
         "type": "string"
        }
       ],
       "ref": "b55e4041-0a7a-48b3-b4e6-67aa9bb02816",
       "rows": [
        [
         "0",
         "1 de enero de 2024",
         "48619695.0",
         "Y",
         "1",
         "enero",
         "2024"
        ],
        [
         "4",
         "1 de enero de 2023",
         "48085361.0",
         "Y",
         "1",
         "enero",
         "2023"
        ],
        [
         "8",
         "1 de enero de 2022",
         "47486727.0",
         "Y",
         "1",
         "enero",
         "2022"
        ],
        [
         "12",
         "1 de enero de 2021",
         "47400798.0",
         "Y",
         "1",
         "enero",
         "2021"
        ],
        [
         "16",
         "1 de enero de 2020",
         "47318050.0",
         "Y",
         "1",
         "enero",
         "2020"
        ]
       ],
       "shape": {
        "columns": 6,
        "rows": 5
       }
      },
      "text/html": [
       "<div>\n",
       "<style scoped>\n",
       "    .dataframe tbody tr th:only-of-type {\n",
       "        vertical-align: middle;\n",
       "    }\n",
       "\n",
       "    .dataframe tbody tr th {\n",
       "        vertical-align: top;\n",
       "    }\n",
       "\n",
       "    .dataframe thead th {\n",
       "        text-align: right;\n",
       "    }\n",
       "</style>\n",
       "<table border=\"1\" class=\"dataframe\">\n",
       "  <thead>\n",
       "    <tr style=\"text-align: right;\">\n",
       "      <th></th>\n",
       "      <th>Year</th>\n",
       "      <th>Total_population</th>\n",
       "      <th>Jan_flag</th>\n",
       "      <th>day</th>\n",
       "      <th>month</th>\n",
       "      <th>year</th>\n",
       "    </tr>\n",
       "  </thead>\n",
       "  <tbody>\n",
       "    <tr>\n",
       "      <th>0</th>\n",
       "      <td>1 de enero de 2024</td>\n",
       "      <td>48619695.0</td>\n",
       "      <td>Y</td>\n",
       "      <td>1</td>\n",
       "      <td>enero</td>\n",
       "      <td>2024</td>\n",
       "    </tr>\n",
       "    <tr>\n",
       "      <th>4</th>\n",
       "      <td>1 de enero de 2023</td>\n",
       "      <td>48085361.0</td>\n",
       "      <td>Y</td>\n",
       "      <td>1</td>\n",
       "      <td>enero</td>\n",
       "      <td>2023</td>\n",
       "    </tr>\n",
       "    <tr>\n",
       "      <th>8</th>\n",
       "      <td>1 de enero de 2022</td>\n",
       "      <td>47486727.0</td>\n",
       "      <td>Y</td>\n",
       "      <td>1</td>\n",
       "      <td>enero</td>\n",
       "      <td>2022</td>\n",
       "    </tr>\n",
       "    <tr>\n",
       "      <th>12</th>\n",
       "      <td>1 de enero de 2021</td>\n",
       "      <td>47400798.0</td>\n",
       "      <td>Y</td>\n",
       "      <td>1</td>\n",
       "      <td>enero</td>\n",
       "      <td>2021</td>\n",
       "    </tr>\n",
       "    <tr>\n",
       "      <th>16</th>\n",
       "      <td>1 de enero de 2020</td>\n",
       "      <td>47318050.0</td>\n",
       "      <td>Y</td>\n",
       "      <td>1</td>\n",
       "      <td>enero</td>\n",
       "      <td>2020</td>\n",
       "    </tr>\n",
       "  </tbody>\n",
       "</table>\n",
       "</div>"
      ],
      "text/plain": [
       "                  Year  Total_population Jan_flag day  month  year\n",
       "0   1 de enero de 2024        48619695.0        Y   1  enero  2024\n",
       "4   1 de enero de 2023        48085361.0        Y   1  enero  2023\n",
       "8   1 de enero de 2022        47486727.0        Y   1  enero  2022\n",
       "12  1 de enero de 2021        47400798.0        Y   1  enero  2021\n",
       "16  1 de enero de 2020        47318050.0        Y   1  enero  2020"
      ]
     },
     "execution_count": 41,
     "metadata": {},
     "output_type": "execute_result"
    }
   ],
   "source": [
    "final_population_data.head()"
   ]
  },
  {
   "cell_type": "code",
   "execution_count": 42,
   "id": "cbc31eb0",
   "metadata": {},
   "outputs": [
    {
     "data": {
      "application/vnd.microsoft.datawrangler.viewer.v0+json": {
       "columns": [
        {
         "name": "index",
         "rawType": "int64",
         "type": "integer"
        },
        {
         "name": "Year",
         "rawType": "object",
         "type": "string"
        },
        {
         "name": "Total_population",
         "rawType": "float64",
         "type": "float"
        },
        {
         "name": "Jan_flag",
         "rawType": "object",
         "type": "string"
        },
        {
         "name": "day",
         "rawType": "object",
         "type": "string"
        },
        {
         "name": "month",
         "rawType": "object",
         "type": "string"
        },
        {
         "name": "year",
         "rawType": "object",
         "type": "string"
        }
       ],
       "ref": "e2a6929f-3c7b-40be-ba25-3d7f4a21cbf4",
       "rows": [
        [
         "0",
         "1 de enero de 2024",
         "48619695.0",
         "Y",
         "1",
         "enero",
         "2024"
        ],
        [
         "4",
         "1 de enero de 2023",
         "48085361.0",
         "Y",
         "1",
         "enero",
         "2023"
        ],
        [
         "8",
         "1 de enero de 2022",
         "47486727.0",
         "Y",
         "1",
         "enero",
         "2022"
        ],
        [
         "12",
         "1 de enero de 2021",
         "47400798.0",
         "Y",
         "1",
         "enero",
         "2021"
        ],
        [
         "16",
         "1 de enero de 2020",
         "47318050.0",
         "Y",
         "1",
         "enero",
         "2020"
        ]
       ],
       "shape": {
        "columns": 6,
        "rows": 5
       }
      },
      "text/html": [
       "<div>\n",
       "<style scoped>\n",
       "    .dataframe tbody tr th:only-of-type {\n",
       "        vertical-align: middle;\n",
       "    }\n",
       "\n",
       "    .dataframe tbody tr th {\n",
       "        vertical-align: top;\n",
       "    }\n",
       "\n",
       "    .dataframe thead th {\n",
       "        text-align: right;\n",
       "    }\n",
       "</style>\n",
       "<table border=\"1\" class=\"dataframe\">\n",
       "  <thead>\n",
       "    <tr style=\"text-align: right;\">\n",
       "      <th></th>\n",
       "      <th>Year</th>\n",
       "      <th>Total_population</th>\n",
       "      <th>Jan_flag</th>\n",
       "      <th>day</th>\n",
       "      <th>month</th>\n",
       "      <th>year</th>\n",
       "    </tr>\n",
       "  </thead>\n",
       "  <tbody>\n",
       "    <tr>\n",
       "      <th>0</th>\n",
       "      <td>1 de enero de 2024</td>\n",
       "      <td>48619695.0</td>\n",
       "      <td>Y</td>\n",
       "      <td>1</td>\n",
       "      <td>enero</td>\n",
       "      <td>2024</td>\n",
       "    </tr>\n",
       "    <tr>\n",
       "      <th>4</th>\n",
       "      <td>1 de enero de 2023</td>\n",
       "      <td>48085361.0</td>\n",
       "      <td>Y</td>\n",
       "      <td>1</td>\n",
       "      <td>enero</td>\n",
       "      <td>2023</td>\n",
       "    </tr>\n",
       "    <tr>\n",
       "      <th>8</th>\n",
       "      <td>1 de enero de 2022</td>\n",
       "      <td>47486727.0</td>\n",
       "      <td>Y</td>\n",
       "      <td>1</td>\n",
       "      <td>enero</td>\n",
       "      <td>2022</td>\n",
       "    </tr>\n",
       "    <tr>\n",
       "      <th>12</th>\n",
       "      <td>1 de enero de 2021</td>\n",
       "      <td>47400798.0</td>\n",
       "      <td>Y</td>\n",
       "      <td>1</td>\n",
       "      <td>enero</td>\n",
       "      <td>2021</td>\n",
       "    </tr>\n",
       "    <tr>\n",
       "      <th>16</th>\n",
       "      <td>1 de enero de 2020</td>\n",
       "      <td>47318050.0</td>\n",
       "      <td>Y</td>\n",
       "      <td>1</td>\n",
       "      <td>enero</td>\n",
       "      <td>2020</td>\n",
       "    </tr>\n",
       "  </tbody>\n",
       "</table>\n",
       "</div>"
      ],
      "text/plain": [
       "                  Year  Total_population Jan_flag day  month  year\n",
       "0   1 de enero de 2024        48619695.0        Y   1  enero  2024\n",
       "4   1 de enero de 2023        48085361.0        Y   1  enero  2023\n",
       "8   1 de enero de 2022        47486727.0        Y   1  enero  2022\n",
       "12  1 de enero de 2021        47400798.0        Y   1  enero  2021\n",
       "16  1 de enero de 2020        47318050.0        Y   1  enero  2020"
      ]
     },
     "execution_count": 42,
     "metadata": {},
     "output_type": "execute_result"
    }
   ],
   "source": [
    "new_date_variable = final_population_data.copy()\n",
    "new_date_variable.head()"
   ]
  },
  {
   "cell_type": "code",
   "execution_count": 43,
   "id": "70135465",
   "metadata": {},
   "outputs": [
    {
     "data": {
      "application/vnd.microsoft.datawrangler.viewer.v0+json": {
       "columns": [
        {
         "name": "index",
         "rawType": "int64",
         "type": "integer"
        },
        {
         "name": "Year",
         "rawType": "object",
         "type": "string"
        },
        {
         "name": "Total_population",
         "rawType": "float64",
         "type": "float"
        },
        {
         "name": "Jan_flag",
         "rawType": "object",
         "type": "string"
        },
        {
         "name": "day",
         "rawType": "object",
         "type": "string"
        },
        {
         "name": "month",
         "rawType": "object",
         "type": "string"
        },
        {
         "name": "year",
         "rawType": "object",
         "type": "string"
        },
        {
         "name": "month_num",
         "rawType": "object",
         "type": "string"
        }
       ],
       "ref": "4fbe3ace-a0a2-4b74-8262-059b258b5391",
       "rows": [
        [
         "0",
         "1 de enero de 2024",
         "48619695.0",
         "Y",
         "1",
         "enero",
         "2024",
         "1"
        ],
        [
         "4",
         "1 de enero de 2023",
         "48085361.0",
         "Y",
         "1",
         "enero",
         "2023",
         "1"
        ],
        [
         "8",
         "1 de enero de 2022",
         "47486727.0",
         "Y",
         "1",
         "enero",
         "2022",
         "1"
        ],
        [
         "12",
         "1 de enero de 2021",
         "47400798.0",
         "Y",
         "1",
         "enero",
         "2021",
         "1"
        ],
        [
         "16",
         "1 de enero de 2020",
         "47318050.0",
         "Y",
         "1",
         "enero",
         "2020",
         "1"
        ]
       ],
       "shape": {
        "columns": 7,
        "rows": 5
       }
      },
      "text/html": [
       "<div>\n",
       "<style scoped>\n",
       "    .dataframe tbody tr th:only-of-type {\n",
       "        vertical-align: middle;\n",
       "    }\n",
       "\n",
       "    .dataframe tbody tr th {\n",
       "        vertical-align: top;\n",
       "    }\n",
       "\n",
       "    .dataframe thead th {\n",
       "        text-align: right;\n",
       "    }\n",
       "</style>\n",
       "<table border=\"1\" class=\"dataframe\">\n",
       "  <thead>\n",
       "    <tr style=\"text-align: right;\">\n",
       "      <th></th>\n",
       "      <th>Year</th>\n",
       "      <th>Total_population</th>\n",
       "      <th>Jan_flag</th>\n",
       "      <th>day</th>\n",
       "      <th>month</th>\n",
       "      <th>year</th>\n",
       "      <th>month_num</th>\n",
       "    </tr>\n",
       "  </thead>\n",
       "  <tbody>\n",
       "    <tr>\n",
       "      <th>0</th>\n",
       "      <td>1 de enero de 2024</td>\n",
       "      <td>48619695.0</td>\n",
       "      <td>Y</td>\n",
       "      <td>1</td>\n",
       "      <td>enero</td>\n",
       "      <td>2024</td>\n",
       "      <td>1</td>\n",
       "    </tr>\n",
       "    <tr>\n",
       "      <th>4</th>\n",
       "      <td>1 de enero de 2023</td>\n",
       "      <td>48085361.0</td>\n",
       "      <td>Y</td>\n",
       "      <td>1</td>\n",
       "      <td>enero</td>\n",
       "      <td>2023</td>\n",
       "      <td>1</td>\n",
       "    </tr>\n",
       "    <tr>\n",
       "      <th>8</th>\n",
       "      <td>1 de enero de 2022</td>\n",
       "      <td>47486727.0</td>\n",
       "      <td>Y</td>\n",
       "      <td>1</td>\n",
       "      <td>enero</td>\n",
       "      <td>2022</td>\n",
       "      <td>1</td>\n",
       "    </tr>\n",
       "    <tr>\n",
       "      <th>12</th>\n",
       "      <td>1 de enero de 2021</td>\n",
       "      <td>47400798.0</td>\n",
       "      <td>Y</td>\n",
       "      <td>1</td>\n",
       "      <td>enero</td>\n",
       "      <td>2021</td>\n",
       "      <td>1</td>\n",
       "    </tr>\n",
       "    <tr>\n",
       "      <th>16</th>\n",
       "      <td>1 de enero de 2020</td>\n",
       "      <td>47318050.0</td>\n",
       "      <td>Y</td>\n",
       "      <td>1</td>\n",
       "      <td>enero</td>\n",
       "      <td>2020</td>\n",
       "      <td>1</td>\n",
       "    </tr>\n",
       "  </tbody>\n",
       "</table>\n",
       "</div>"
      ],
      "text/plain": [
       "                  Year  Total_population Jan_flag day  month  year month_num\n",
       "0   1 de enero de 2024        48619695.0        Y   1  enero  2024         1\n",
       "4   1 de enero de 2023        48085361.0        Y   1  enero  2023         1\n",
       "8   1 de enero de 2022        47486727.0        Y   1  enero  2022         1\n",
       "12  1 de enero de 2021        47400798.0        Y   1  enero  2021         1\n",
       "16  1 de enero de 2020        47318050.0        Y   1  enero  2020         1"
      ]
     },
     "execution_count": 43,
     "metadata": {},
     "output_type": "execute_result"
    }
   ],
   "source": [
    "# Recoding month to string\n",
    "# As I only have one value to recode, I will use a lambda function\n",
    "new_date_variable['month_num']=new_date_variable['month'].apply(lambda x:\"1\" if x=='enero' else 0)\n",
    "new_date_variable.head()"
   ]
  },
  {
   "cell_type": "markdown",
   "id": "a8e47269",
   "metadata": {},
   "source": [
    "- From the above dataframe, I will subset \"Total_population\", \"day\", \"month_num\" and \"year\" to combine the latest three ones into a new datetime variable. I will convert those three string variables into a datetime."
   ]
  },
  {
   "cell_type": "code",
   "execution_count": 44,
   "id": "7b125352",
   "metadata": {},
   "outputs": [
    {
     "data": {
      "application/vnd.microsoft.datawrangler.viewer.v0+json": {
       "columns": [
        {
         "name": "index",
         "rawType": "int64",
         "type": "integer"
        },
        {
         "name": "Total_population",
         "rawType": "float64",
         "type": "float"
        },
        {
         "name": "Jan_flag",
         "rawType": "object",
         "type": "string"
        },
        {
         "name": "day",
         "rawType": "object",
         "type": "string"
        },
        {
         "name": "month_num",
         "rawType": "object",
         "type": "string"
        },
        {
         "name": "year",
         "rawType": "object",
         "type": "string"
        }
       ],
       "ref": "c5a1c245-5e56-48e3-9c7d-39e6ef19ba34",
       "rows": [
        [
         "0",
         "48619695.0",
         "Y",
         "1",
         "1",
         "2024"
        ],
        [
         "4",
         "48085361.0",
         "Y",
         "1",
         "1",
         "2023"
        ],
        [
         "8",
         "47486727.0",
         "Y",
         "1",
         "1",
         "2022"
        ],
        [
         "12",
         "47400798.0",
         "Y",
         "1",
         "1",
         "2021"
        ],
        [
         "16",
         "47318050.0",
         "Y",
         "1",
         "1",
         "2020"
        ]
       ],
       "shape": {
        "columns": 5,
        "rows": 5
       }
      },
      "text/html": [
       "<div>\n",
       "<style scoped>\n",
       "    .dataframe tbody tr th:only-of-type {\n",
       "        vertical-align: middle;\n",
       "    }\n",
       "\n",
       "    .dataframe tbody tr th {\n",
       "        vertical-align: top;\n",
       "    }\n",
       "\n",
       "    .dataframe thead th {\n",
       "        text-align: right;\n",
       "    }\n",
       "</style>\n",
       "<table border=\"1\" class=\"dataframe\">\n",
       "  <thead>\n",
       "    <tr style=\"text-align: right;\">\n",
       "      <th></th>\n",
       "      <th>Total_population</th>\n",
       "      <th>Jan_flag</th>\n",
       "      <th>day</th>\n",
       "      <th>month_num</th>\n",
       "      <th>year</th>\n",
       "    </tr>\n",
       "  </thead>\n",
       "  <tbody>\n",
       "    <tr>\n",
       "      <th>0</th>\n",
       "      <td>48619695.0</td>\n",
       "      <td>Y</td>\n",
       "      <td>1</td>\n",
       "      <td>1</td>\n",
       "      <td>2024</td>\n",
       "    </tr>\n",
       "    <tr>\n",
       "      <th>4</th>\n",
       "      <td>48085361.0</td>\n",
       "      <td>Y</td>\n",
       "      <td>1</td>\n",
       "      <td>1</td>\n",
       "      <td>2023</td>\n",
       "    </tr>\n",
       "    <tr>\n",
       "      <th>8</th>\n",
       "      <td>47486727.0</td>\n",
       "      <td>Y</td>\n",
       "      <td>1</td>\n",
       "      <td>1</td>\n",
       "      <td>2022</td>\n",
       "    </tr>\n",
       "    <tr>\n",
       "      <th>12</th>\n",
       "      <td>47400798.0</td>\n",
       "      <td>Y</td>\n",
       "      <td>1</td>\n",
       "      <td>1</td>\n",
       "      <td>2021</td>\n",
       "    </tr>\n",
       "    <tr>\n",
       "      <th>16</th>\n",
       "      <td>47318050.0</td>\n",
       "      <td>Y</td>\n",
       "      <td>1</td>\n",
       "      <td>1</td>\n",
       "      <td>2020</td>\n",
       "    </tr>\n",
       "  </tbody>\n",
       "</table>\n",
       "</div>"
      ],
      "text/plain": [
       "    Total_population Jan_flag day month_num  year\n",
       "0         48619695.0        Y   1         1  2024\n",
       "4         48085361.0        Y   1         1  2023\n",
       "8         47486727.0        Y   1         1  2022\n",
       "12        47400798.0        Y   1         1  2021\n",
       "16        47318050.0        Y   1         1  2020"
      ]
     },
     "execution_count": 44,
     "metadata": {},
     "output_type": "execute_result"
    }
   ],
   "source": [
    "new_date_var_creation = new_date_variable[['Total_population','Jan_flag','day','month_num','year']]\n",
    "new_date_var_creation.head()\n"
   ]
  },
  {
   "cell_type": "markdown",
   "id": "dc66426f",
   "metadata": {},
   "source": [
    "- After subsetting the original dataframe is it good practise to reset index. Used drop = True to avoid duplicated indexes."
   ]
  },
  {
   "cell_type": "code",
   "execution_count": 45,
   "id": "32e76f79",
   "metadata": {},
   "outputs": [
    {
     "data": {
      "application/vnd.microsoft.datawrangler.viewer.v0+json": {
       "columns": [
        {
         "name": "index",
         "rawType": "int64",
         "type": "integer"
        },
        {
         "name": "Total_population",
         "rawType": "float64",
         "type": "float"
        },
        {
         "name": "Jan_flag",
         "rawType": "object",
         "type": "string"
        },
        {
         "name": "day",
         "rawType": "object",
         "type": "string"
        },
        {
         "name": "month_num",
         "rawType": "object",
         "type": "string"
        },
        {
         "name": "year",
         "rawType": "object",
         "type": "string"
        }
       ],
       "ref": "7b146c16-0cbc-4959-bf40-9badd05d46f1",
       "rows": [
        [
         "0",
         "48619695.0",
         "Y",
         "1",
         "1",
         "2024"
        ],
        [
         "1",
         "48085361.0",
         "Y",
         "1",
         "1",
         "2023"
        ],
        [
         "2",
         "47486727.0",
         "Y",
         "1",
         "1",
         "2022"
        ],
        [
         "3",
         "47400798.0",
         "Y",
         "1",
         "1",
         "2021"
        ],
        [
         "4",
         "47318050.0",
         "Y",
         "1",
         "1",
         "2020"
        ]
       ],
       "shape": {
        "columns": 5,
        "rows": 5
       }
      },
      "text/html": [
       "<div>\n",
       "<style scoped>\n",
       "    .dataframe tbody tr th:only-of-type {\n",
       "        vertical-align: middle;\n",
       "    }\n",
       "\n",
       "    .dataframe tbody tr th {\n",
       "        vertical-align: top;\n",
       "    }\n",
       "\n",
       "    .dataframe thead th {\n",
       "        text-align: right;\n",
       "    }\n",
       "</style>\n",
       "<table border=\"1\" class=\"dataframe\">\n",
       "  <thead>\n",
       "    <tr style=\"text-align: right;\">\n",
       "      <th></th>\n",
       "      <th>Total_population</th>\n",
       "      <th>Jan_flag</th>\n",
       "      <th>day</th>\n",
       "      <th>month_num</th>\n",
       "      <th>year</th>\n",
       "    </tr>\n",
       "  </thead>\n",
       "  <tbody>\n",
       "    <tr>\n",
       "      <th>0</th>\n",
       "      <td>48619695.0</td>\n",
       "      <td>Y</td>\n",
       "      <td>1</td>\n",
       "      <td>1</td>\n",
       "      <td>2024</td>\n",
       "    </tr>\n",
       "    <tr>\n",
       "      <th>1</th>\n",
       "      <td>48085361.0</td>\n",
       "      <td>Y</td>\n",
       "      <td>1</td>\n",
       "      <td>1</td>\n",
       "      <td>2023</td>\n",
       "    </tr>\n",
       "    <tr>\n",
       "      <th>2</th>\n",
       "      <td>47486727.0</td>\n",
       "      <td>Y</td>\n",
       "      <td>1</td>\n",
       "      <td>1</td>\n",
       "      <td>2022</td>\n",
       "    </tr>\n",
       "    <tr>\n",
       "      <th>3</th>\n",
       "      <td>47400798.0</td>\n",
       "      <td>Y</td>\n",
       "      <td>1</td>\n",
       "      <td>1</td>\n",
       "      <td>2021</td>\n",
       "    </tr>\n",
       "    <tr>\n",
       "      <th>4</th>\n",
       "      <td>47318050.0</td>\n",
       "      <td>Y</td>\n",
       "      <td>1</td>\n",
       "      <td>1</td>\n",
       "      <td>2020</td>\n",
       "    </tr>\n",
       "  </tbody>\n",
       "</table>\n",
       "</div>"
      ],
      "text/plain": [
       "   Total_population Jan_flag day month_num  year\n",
       "0        48619695.0        Y   1         1  2024\n",
       "1        48085361.0        Y   1         1  2023\n",
       "2        47486727.0        Y   1         1  2022\n",
       "3        47400798.0        Y   1         1  2021\n",
       "4        47318050.0        Y   1         1  2020"
      ]
     },
     "execution_count": 45,
     "metadata": {},
     "output_type": "execute_result"
    }
   ],
   "source": [
    "new_date_var_creation_reset = new_date_var_creation.reset_index(drop = True)\n",
    "new_date_var_creation_reset.head()"
   ]
  },
  {
   "cell_type": "code",
   "execution_count": 46,
   "id": "cf1c5113",
   "metadata": {},
   "outputs": [
    {
     "name": "stdout",
     "output_type": "stream",
     "text": [
      "<class 'pandas.core.frame.DataFrame'>\n",
      "Index: 53 entries, 0 to 208\n",
      "Data columns (total 5 columns):\n",
      " #   Column            Non-Null Count  Dtype  \n",
      "---  ------            --------------  -----  \n",
      " 0   Total_population  53 non-null     float64\n",
      " 1   Jan_flag          53 non-null     object \n",
      " 2   day               53 non-null     object \n",
      " 3   month_num         53 non-null     object \n",
      " 4   year              53 non-null     object \n",
      "dtypes: float64(1), object(4)\n",
      "memory usage: 2.5+ KB\n"
     ]
    }
   ],
   "source": [
    "new_date_var_creation.info() "
   ]
  },
  {
   "cell_type": "markdown",
   "id": "1381fc38",
   "metadata": {},
   "source": [
    "### 3.2 Creting new Datetime variable from day month and year string columns"
   ]
  },
  {
   "cell_type": "markdown",
   "id": "eaae8342",
   "metadata": {},
   "source": [
    "- Subset variables to create new Datetime variable"
   ]
  },
  {
   "cell_type": "code",
   "execution_count": 47,
   "id": "e2d41624",
   "metadata": {},
   "outputs": [
    {
     "data": {
      "application/vnd.microsoft.datawrangler.viewer.v0+json": {
       "columns": [
        {
         "name": "index",
         "rawType": "int64",
         "type": "integer"
        },
        {
         "name": "Total_population",
         "rawType": "float64",
         "type": "float"
        },
        {
         "name": "day",
         "rawType": "object",
         "type": "string"
        },
        {
         "name": "month_num",
         "rawType": "object",
         "type": "string"
        },
        {
         "name": "year",
         "rawType": "object",
         "type": "string"
        }
       ],
       "ref": "7988b73e-17ef-4bb7-83b5-a84ed5901f98",
       "rows": [
        [
         "0",
         "48619695.0",
         "1",
         "1",
         "2024"
        ],
        [
         "4",
         "48085361.0",
         "1",
         "1",
         "2023"
        ],
        [
         "8",
         "47486727.0",
         "1",
         "1",
         "2022"
        ],
        [
         "12",
         "47400798.0",
         "1",
         "1",
         "2021"
        ],
        [
         "16",
         "47318050.0",
         "1",
         "1",
         "2020"
        ]
       ],
       "shape": {
        "columns": 4,
        "rows": 5
       }
      },
      "text/html": [
       "<div>\n",
       "<style scoped>\n",
       "    .dataframe tbody tr th:only-of-type {\n",
       "        vertical-align: middle;\n",
       "    }\n",
       "\n",
       "    .dataframe tbody tr th {\n",
       "        vertical-align: top;\n",
       "    }\n",
       "\n",
       "    .dataframe thead th {\n",
       "        text-align: right;\n",
       "    }\n",
       "</style>\n",
       "<table border=\"1\" class=\"dataframe\">\n",
       "  <thead>\n",
       "    <tr style=\"text-align: right;\">\n",
       "      <th></th>\n",
       "      <th>Total_population</th>\n",
       "      <th>day</th>\n",
       "      <th>month_num</th>\n",
       "      <th>year</th>\n",
       "    </tr>\n",
       "  </thead>\n",
       "  <tbody>\n",
       "    <tr>\n",
       "      <th>0</th>\n",
       "      <td>48619695.0</td>\n",
       "      <td>1</td>\n",
       "      <td>1</td>\n",
       "      <td>2024</td>\n",
       "    </tr>\n",
       "    <tr>\n",
       "      <th>4</th>\n",
       "      <td>48085361.0</td>\n",
       "      <td>1</td>\n",
       "      <td>1</td>\n",
       "      <td>2023</td>\n",
       "    </tr>\n",
       "    <tr>\n",
       "      <th>8</th>\n",
       "      <td>47486727.0</td>\n",
       "      <td>1</td>\n",
       "      <td>1</td>\n",
       "      <td>2022</td>\n",
       "    </tr>\n",
       "    <tr>\n",
       "      <th>12</th>\n",
       "      <td>47400798.0</td>\n",
       "      <td>1</td>\n",
       "      <td>1</td>\n",
       "      <td>2021</td>\n",
       "    </tr>\n",
       "    <tr>\n",
       "      <th>16</th>\n",
       "      <td>47318050.0</td>\n",
       "      <td>1</td>\n",
       "      <td>1</td>\n",
       "      <td>2020</td>\n",
       "    </tr>\n",
       "  </tbody>\n",
       "</table>\n",
       "</div>"
      ],
      "text/plain": [
       "    Total_population day month_num  year\n",
       "0         48619695.0   1         1  2024\n",
       "4         48085361.0   1         1  2023\n",
       "8         47486727.0   1         1  2022\n",
       "12        47400798.0   1         1  2021\n",
       "16        47318050.0   1         1  2020"
      ]
     },
     "execution_count": 47,
     "metadata": {},
     "output_type": "execute_result"
    }
   ],
   "source": [
    "new_date_var = new_date_var_creation[['Total_population','day','month_num','year']]\n",
    "new_date_var.head()"
   ]
  },
  {
   "cell_type": "markdown",
   "id": "57781b84",
   "metadata": {},
   "source": [
    "- concatenate individual date variables into a new column"
   ]
  },
  {
   "cell_type": "code",
   "execution_count": 48,
   "id": "3c2e5c78",
   "metadata": {},
   "outputs": [
    {
     "data": {
      "application/vnd.microsoft.datawrangler.viewer.v0+json": {
       "columns": [
        {
         "name": "index",
         "rawType": "int64",
         "type": "integer"
        },
        {
         "name": "Total_population",
         "rawType": "float64",
         "type": "float"
        },
        {
         "name": "day",
         "rawType": "object",
         "type": "string"
        },
        {
         "name": "month_num",
         "rawType": "object",
         "type": "string"
        },
        {
         "name": "year",
         "rawType": "object",
         "type": "string"
        },
        {
         "name": "date",
         "rawType": "object",
         "type": "string"
        }
       ],
       "ref": "b71cdcfd-83b6-48ab-b1cb-0645d6fb7912",
       "rows": [
        [
         "0",
         "48619695.0",
         "1",
         "1",
         "2024",
         "1/1/2024"
        ],
        [
         "4",
         "48085361.0",
         "1",
         "1",
         "2023",
         "1/1/2023"
        ],
        [
         "8",
         "47486727.0",
         "1",
         "1",
         "2022",
         "1/1/2022"
        ],
        [
         "12",
         "47400798.0",
         "1",
         "1",
         "2021",
         "1/1/2021"
        ],
        [
         "16",
         "47318050.0",
         "1",
         "1",
         "2020",
         "1/1/2020"
        ]
       ],
       "shape": {
        "columns": 5,
        "rows": 5
       }
      },
      "text/html": [
       "<div>\n",
       "<style scoped>\n",
       "    .dataframe tbody tr th:only-of-type {\n",
       "        vertical-align: middle;\n",
       "    }\n",
       "\n",
       "    .dataframe tbody tr th {\n",
       "        vertical-align: top;\n",
       "    }\n",
       "\n",
       "    .dataframe thead th {\n",
       "        text-align: right;\n",
       "    }\n",
       "</style>\n",
       "<table border=\"1\" class=\"dataframe\">\n",
       "  <thead>\n",
       "    <tr style=\"text-align: right;\">\n",
       "      <th></th>\n",
       "      <th>Total_population</th>\n",
       "      <th>day</th>\n",
       "      <th>month_num</th>\n",
       "      <th>year</th>\n",
       "      <th>date</th>\n",
       "    </tr>\n",
       "  </thead>\n",
       "  <tbody>\n",
       "    <tr>\n",
       "      <th>0</th>\n",
       "      <td>48619695.0</td>\n",
       "      <td>1</td>\n",
       "      <td>1</td>\n",
       "      <td>2024</td>\n",
       "      <td>1/1/2024</td>\n",
       "    </tr>\n",
       "    <tr>\n",
       "      <th>4</th>\n",
       "      <td>48085361.0</td>\n",
       "      <td>1</td>\n",
       "      <td>1</td>\n",
       "      <td>2023</td>\n",
       "      <td>1/1/2023</td>\n",
       "    </tr>\n",
       "    <tr>\n",
       "      <th>8</th>\n",
       "      <td>47486727.0</td>\n",
       "      <td>1</td>\n",
       "      <td>1</td>\n",
       "      <td>2022</td>\n",
       "      <td>1/1/2022</td>\n",
       "    </tr>\n",
       "    <tr>\n",
       "      <th>12</th>\n",
       "      <td>47400798.0</td>\n",
       "      <td>1</td>\n",
       "      <td>1</td>\n",
       "      <td>2021</td>\n",
       "      <td>1/1/2021</td>\n",
       "    </tr>\n",
       "    <tr>\n",
       "      <th>16</th>\n",
       "      <td>47318050.0</td>\n",
       "      <td>1</td>\n",
       "      <td>1</td>\n",
       "      <td>2020</td>\n",
       "      <td>1/1/2020</td>\n",
       "    </tr>\n",
       "  </tbody>\n",
       "</table>\n",
       "</div>"
      ],
      "text/plain": [
       "    Total_population day month_num  year      date\n",
       "0         48619695.0   1         1  2024  1/1/2024\n",
       "4         48085361.0   1         1  2023  1/1/2023\n",
       "8         47486727.0   1         1  2022  1/1/2022\n",
       "12        47400798.0   1         1  2021  1/1/2021\n",
       "16        47318050.0   1         1  2020  1/1/2020"
      ]
     },
     "execution_count": 48,
     "metadata": {},
     "output_type": "execute_result"
    }
   ],
   "source": [
    "new_date_var['date'] = new_date_var['day'] + \"/\" + new_date_var['month_num']+ \"/\" + new_date_var['year']\n",
    "new_date_var.head()"
   ]
  },
  {
   "cell_type": "markdown",
   "id": "eb16d392",
   "metadata": {},
   "source": [
    "- Example on how to use to_datetime: df['date_col'] =  pd.to_datetime(df['date_col'], format='%d/%m/%Y')"
   ]
  },
  {
   "cell_type": "code",
   "execution_count": 49,
   "id": "5250def3",
   "metadata": {},
   "outputs": [
    {
     "data": {
      "application/vnd.microsoft.datawrangler.viewer.v0+json": {
       "columns": [
        {
         "name": "index",
         "rawType": "int64",
         "type": "integer"
        },
        {
         "name": "Total_population",
         "rawType": "float64",
         "type": "float"
        },
        {
         "name": "day",
         "rawType": "object",
         "type": "string"
        },
        {
         "name": "month_num",
         "rawType": "object",
         "type": "string"
        },
        {
         "name": "year",
         "rawType": "object",
         "type": "string"
        },
        {
         "name": "date",
         "rawType": "object",
         "type": "string"
        },
        {
         "name": "date_fmt",
         "rawType": "datetime64[ns]",
         "type": "datetime"
        }
       ],
       "ref": "f64c0203-6a58-4e54-bdab-aef33fd37b4d",
       "rows": [
        [
         "0",
         "48619695.0",
         "1",
         "1",
         "2024",
         "1/1/2024",
         "2024-01-01 00:00:00"
        ],
        [
         "4",
         "48085361.0",
         "1",
         "1",
         "2023",
         "1/1/2023",
         "2023-01-01 00:00:00"
        ],
        [
         "8",
         "47486727.0",
         "1",
         "1",
         "2022",
         "1/1/2022",
         "2022-01-01 00:00:00"
        ],
        [
         "12",
         "47400798.0",
         "1",
         "1",
         "2021",
         "1/1/2021",
         "2021-01-01 00:00:00"
        ],
        [
         "16",
         "47318050.0",
         "1",
         "1",
         "2020",
         "1/1/2020",
         "2020-01-01 00:00:00"
        ]
       ],
       "shape": {
        "columns": 6,
        "rows": 5
       }
      },
      "text/html": [
       "<div>\n",
       "<style scoped>\n",
       "    .dataframe tbody tr th:only-of-type {\n",
       "        vertical-align: middle;\n",
       "    }\n",
       "\n",
       "    .dataframe tbody tr th {\n",
       "        vertical-align: top;\n",
       "    }\n",
       "\n",
       "    .dataframe thead th {\n",
       "        text-align: right;\n",
       "    }\n",
       "</style>\n",
       "<table border=\"1\" class=\"dataframe\">\n",
       "  <thead>\n",
       "    <tr style=\"text-align: right;\">\n",
       "      <th></th>\n",
       "      <th>Total_population</th>\n",
       "      <th>day</th>\n",
       "      <th>month_num</th>\n",
       "      <th>year</th>\n",
       "      <th>date</th>\n",
       "      <th>date_fmt</th>\n",
       "    </tr>\n",
       "  </thead>\n",
       "  <tbody>\n",
       "    <tr>\n",
       "      <th>0</th>\n",
       "      <td>48619695.0</td>\n",
       "      <td>1</td>\n",
       "      <td>1</td>\n",
       "      <td>2024</td>\n",
       "      <td>1/1/2024</td>\n",
       "      <td>2024-01-01</td>\n",
       "    </tr>\n",
       "    <tr>\n",
       "      <th>4</th>\n",
       "      <td>48085361.0</td>\n",
       "      <td>1</td>\n",
       "      <td>1</td>\n",
       "      <td>2023</td>\n",
       "      <td>1/1/2023</td>\n",
       "      <td>2023-01-01</td>\n",
       "    </tr>\n",
       "    <tr>\n",
       "      <th>8</th>\n",
       "      <td>47486727.0</td>\n",
       "      <td>1</td>\n",
       "      <td>1</td>\n",
       "      <td>2022</td>\n",
       "      <td>1/1/2022</td>\n",
       "      <td>2022-01-01</td>\n",
       "    </tr>\n",
       "    <tr>\n",
       "      <th>12</th>\n",
       "      <td>47400798.0</td>\n",
       "      <td>1</td>\n",
       "      <td>1</td>\n",
       "      <td>2021</td>\n",
       "      <td>1/1/2021</td>\n",
       "      <td>2021-01-01</td>\n",
       "    </tr>\n",
       "    <tr>\n",
       "      <th>16</th>\n",
       "      <td>47318050.0</td>\n",
       "      <td>1</td>\n",
       "      <td>1</td>\n",
       "      <td>2020</td>\n",
       "      <td>1/1/2020</td>\n",
       "      <td>2020-01-01</td>\n",
       "    </tr>\n",
       "  </tbody>\n",
       "</table>\n",
       "</div>"
      ],
      "text/plain": [
       "    Total_population day month_num  year      date   date_fmt\n",
       "0         48619695.0   1         1  2024  1/1/2024 2024-01-01\n",
       "4         48085361.0   1         1  2023  1/1/2023 2023-01-01\n",
       "8         47486727.0   1         1  2022  1/1/2022 2022-01-01\n",
       "12        47400798.0   1         1  2021  1/1/2021 2021-01-01\n",
       "16        47318050.0   1         1  2020  1/1/2020 2020-01-01"
      ]
     },
     "execution_count": 49,
     "metadata": {},
     "output_type": "execute_result"
    }
   ],
   "source": [
    "new_date_var['date_fmt'] = pd.to_datetime(new_date_var['date'],format = '%d/%m/%Y')\n",
    "new_date_var.head()"
   ]
  },
  {
   "cell_type": "code",
   "execution_count": 50,
   "id": "26f8cecd",
   "metadata": {},
   "outputs": [
    {
     "name": "stdout",
     "output_type": "stream",
     "text": [
      "<class 'pandas.core.frame.DataFrame'>\n",
      "Index: 53 entries, 0 to 208\n",
      "Data columns (total 6 columns):\n",
      " #   Column            Non-Null Count  Dtype         \n",
      "---  ------            --------------  -----         \n",
      " 0   Total_population  53 non-null     float64       \n",
      " 1   day               53 non-null     object        \n",
      " 2   month_num         53 non-null     object        \n",
      " 3   year              53 non-null     object        \n",
      " 4   date              53 non-null     object        \n",
      " 5   date_fmt          53 non-null     datetime64[ns]\n",
      "dtypes: datetime64[ns](1), float64(1), object(4)\n",
      "memory usage: 2.9+ KB\n"
     ]
    }
   ],
   "source": [
    "new_date_var.info()"
   ]
  },
  {
   "cell_type": "markdown",
   "id": "0026a49a",
   "metadata": {},
   "source": [
    "## 4. Plot total population using new datetime column"
   ]
  },
  {
   "cell_type": "markdown",
   "id": "b512da4b",
   "metadata": {},
   "source": [
    "- The final step of this script will be to create a seborn chart to display Total population in Spain as a line chart"
   ]
  },
  {
   "cell_type": "code",
   "execution_count": 51,
   "id": "f814de5d",
   "metadata": {},
   "outputs": [],
   "source": [
    "population_total_chart_data_subset = new_date_var.copy()"
   ]
  },
  {
   "cell_type": "code",
   "execution_count": 52,
   "id": "d1fa28bd",
   "metadata": {},
   "outputs": [],
   "source": [
    "population_total_chart_data  = population_total_chart_data_subset[['date_fmt','Total_population']]"
   ]
  },
  {
   "cell_type": "code",
   "execution_count": 53,
   "id": "881e5282",
   "metadata": {},
   "outputs": [
    {
     "name": "stdout",
     "output_type": "stream",
     "text": [
      "<class 'pandas.core.frame.DataFrame'>\n",
      "Index: 53 entries, 0 to 208\n",
      "Data columns (total 2 columns):\n",
      " #   Column            Non-Null Count  Dtype         \n",
      "---  ------            --------------  -----         \n",
      " 0   date_fmt          53 non-null     datetime64[ns]\n",
      " 1   Total_population  53 non-null     float64       \n",
      "dtypes: datetime64[ns](1), float64(1)\n",
      "memory usage: 1.2 KB\n"
     ]
    }
   ],
   "source": [
    "population_total_chart_data.info()"
   ]
  },
  {
   "cell_type": "code",
   "execution_count": 54,
   "id": "aea3e6f9",
   "metadata": {},
   "outputs": [
    {
     "data": {
      "application/vnd.microsoft.datawrangler.viewer.v0+json": {
       "columns": [
        {
         "name": "index",
         "rawType": "int64",
         "type": "integer"
        },
        {
         "name": "date_fmt",
         "rawType": "datetime64[ns]",
         "type": "datetime"
        },
        {
         "name": "Total_population",
         "rawType": "float64",
         "type": "float"
        }
       ],
       "ref": "7f2b5beb-d7bc-4ea9-97f6-38b84cc490de",
       "rows": [
        [
         "0",
         "2024-01-01 00:00:00",
         "48619695.0"
        ],
        [
         "4",
         "2023-01-01 00:00:00",
         "48085361.0"
        ],
        [
         "8",
         "2022-01-01 00:00:00",
         "47486727.0"
        ],
        [
         "12",
         "2021-01-01 00:00:00",
         "47400798.0"
        ],
        [
         "16",
         "2020-01-01 00:00:00",
         "47318050.0"
        ]
       ],
       "shape": {
        "columns": 2,
        "rows": 5
       }
      },
      "text/html": [
       "<div>\n",
       "<style scoped>\n",
       "    .dataframe tbody tr th:only-of-type {\n",
       "        vertical-align: middle;\n",
       "    }\n",
       "\n",
       "    .dataframe tbody tr th {\n",
       "        vertical-align: top;\n",
       "    }\n",
       "\n",
       "    .dataframe thead th {\n",
       "        text-align: right;\n",
       "    }\n",
       "</style>\n",
       "<table border=\"1\" class=\"dataframe\">\n",
       "  <thead>\n",
       "    <tr style=\"text-align: right;\">\n",
       "      <th></th>\n",
       "      <th>date_fmt</th>\n",
       "      <th>Total_population</th>\n",
       "    </tr>\n",
       "  </thead>\n",
       "  <tbody>\n",
       "    <tr>\n",
       "      <th>0</th>\n",
       "      <td>2024-01-01</td>\n",
       "      <td>48619695.0</td>\n",
       "    </tr>\n",
       "    <tr>\n",
       "      <th>4</th>\n",
       "      <td>2023-01-01</td>\n",
       "      <td>48085361.0</td>\n",
       "    </tr>\n",
       "    <tr>\n",
       "      <th>8</th>\n",
       "      <td>2022-01-01</td>\n",
       "      <td>47486727.0</td>\n",
       "    </tr>\n",
       "    <tr>\n",
       "      <th>12</th>\n",
       "      <td>2021-01-01</td>\n",
       "      <td>47400798.0</td>\n",
       "    </tr>\n",
       "    <tr>\n",
       "      <th>16</th>\n",
       "      <td>2020-01-01</td>\n",
       "      <td>47318050.0</td>\n",
       "    </tr>\n",
       "  </tbody>\n",
       "</table>\n",
       "</div>"
      ],
      "text/plain": [
       "     date_fmt  Total_population\n",
       "0  2024-01-01        48619695.0\n",
       "4  2023-01-01        48085361.0\n",
       "8  2022-01-01        47486727.0\n",
       "12 2021-01-01        47400798.0\n",
       "16 2020-01-01        47318050.0"
      ]
     },
     "execution_count": 54,
     "metadata": {},
     "output_type": "execute_result"
    }
   ],
   "source": [
    "population_total_chart_data.head()"
   ]
  },
  {
   "cell_type": "markdown",
   "id": "67c46f63",
   "metadata": {},
   "source": [
    "- Save date formaated data as .csv file"
   ]
  },
  {
   "cell_type": "code",
   "execution_count": 55,
   "id": "4c13f6c5",
   "metadata": {},
   "outputs": [],
   "source": [
    "population_total_chart_data.to_csv(os.path.join('data_cleansed','final_population_date_fmtd.csv'),index = False)"
   ]
  },
  {
   "cell_type": "markdown",
   "id": "ffa18332",
   "metadata": {},
   "source": [
    "- Finally create a line plot of Spain total population using Seaborn"
   ]
  },
  {
   "cell_type": "code",
   "execution_count": 56,
   "id": "2c3aa909",
   "metadata": {},
   "outputs": [],
   "source": [
    "import matplotlib.pyplot as plt\n",
    "import math\n",
    "# Seaborn libraries\n",
    "import seaborn as sns\n",
    "sns.set_theme(style = \"darkgrid\")"
   ]
  },
  {
   "cell_type": "code",
   "execution_count": 58,
   "id": "3df125a1",
   "metadata": {},
   "outputs": [
    {
     "name": "stdout",
     "output_type": "stream",
     "text": [
      "Start year for population data in Spain is:1972-01-01 00:00:00\n"
     ]
    }
   ],
   "source": [
    "Min_date = population_total_chart_data['date_fmt'].min()\n",
    "print(f'Start year for population data in Spain is:{Min_date}')"
   ]
  },
  {
   "cell_type": "code",
   "execution_count": 60,
   "id": "2b45a31e",
   "metadata": {},
   "outputs": [
    {
     "name": "stdout",
     "output_type": "stream",
     "text": [
      "Latest year for population data in Spain is:2024-01-01 00:00:00\n"
     ]
    }
   ],
   "source": [
    "Max_date = population_total_chart_data['date_fmt'].max()\n",
    "print(f'Latest year for population data in Spain is:{Max_date}')"
   ]
  },
  {
   "cell_type": "markdown",
   "id": "808f4fb7",
   "metadata": {},
   "source": [
    "- For this line chart to display Spain total population for the 1972-2025 period as a line chart."
   ]
  },
  {
   "cell_type": "code",
   "execution_count": 61,
   "id": "b8d69fa6",
   "metadata": {},
   "outputs": [
    {
     "data": {
      "text/plain": [
       "Index(['date_fmt', 'Total_population'], dtype='object')"
      ]
     },
     "execution_count": 61,
     "metadata": {},
     "output_type": "execute_result"
    }
   ],
   "source": [
    "population_total_chart_data.columns"
   ]
  },
  {
   "cell_type": "markdown",
   "id": "0c63cefe",
   "metadata": {},
   "source": [
    "### 4.1 Seaborn line Plot Spain total population 1972-2025 period"
   ]
  },
  {
   "cell_type": "markdown",
   "id": "ff7163c1",
   "metadata": {},
   "source": [
    "- Initial Seaborn line chart"
   ]
  },
  {
   "cell_type": "code",
   "execution_count": 64,
   "id": "3dc9fba9",
   "metadata": {},
   "outputs": [
    {
     "data": {
      "text/plain": [
       "<Axes: xlabel='date_fmt', ylabel='Total_population'>"
      ]
     },
     "execution_count": 64,
     "metadata": {},
     "output_type": "execute_result"
    },
    {
     "data": {
      "image/png": "[encoded data removed]",
      "text/plain": [
       "<Figure size 640x480 with 1 Axes>"
      ]
     },
     "metadata": {},
     "output_type": "display_data"
    }
   ],
   "source": [
    "sns.lineplot(data=population_total_chart_data, x='date_fmt', y='Total_population')"
   ]
  },
  {
   "cell_type": "markdown",
   "id": "d5b9540f",
   "metadata": {},
   "source": [
    "- Adding some formatting to the previous Seaborn line chart for Time Series Population figures Spain for the 1972-2025 period."
   ]
  },
  {
   "cell_type": "code",
   "execution_count": null,
   "id": "fb782c1d",
   "metadata": {},
   "outputs": [
    {
     "data": {
      "image/png": "[encoded data removed]",
      "text/plain": [
       "<Figure size 1500x700 with 1 Axes>"
      ]
     },
     "metadata": {},
     "output_type": "display_data"
    }
   ],
   "source": [
    "sns.set(rc={'figure.figsize':(15,7)})\n",
    "sns.lineplot(data=population_total_chart_data, x='date_fmt', y='Total_population', marker = '*', color = 'tomato').set_title(\"Total population in Spain.1972-2025 period. Source:INE\") \n",
    "plt.ticklabel_format(style='plain', axis='y') # This will supress scientific notation"
   ]
  },
  {
   "cell_type": "markdown",
   "id": "7701ebd0",
   "metadata": {},
   "source": [
    "- Finally save preious chart as as a .PNG file"
   ]
  },
  {
   "cell_type": "code",
   "execution_count": null,
   "id": "8c074fcf",
   "metadata": {},
   "outputs": [
    {
     "data": {
      "image/png": "[encoded data removed]",
      "text/plain": [
       "<Figure size 1500x700 with 1 Axes>"
      ]
     },
     "metadata": {},
     "output_type": "display_data"
    }
   ],
   "source": [
    "# Final chart Total population in Spain 1972-2025\n",
    "sns.set(rc={'figure.figsize':(15,7)})\n",
    "sns.lineplot(data=population_total_chart_data, x='date_fmt', y='Total_population', marker = '*', color = 'tomato').set_title(\"Total population in Spain.1972-2025 period. Source:INE\") \n",
    "plt.ticklabel_format(style='plain', axis='y') # This will supress scientific notation\n",
    "plt.savefig('Seaborn_gallery/Seaborn_plots/Spain_total_population_1972_2025_period_line_chart.png', bbox_inches='tight') ## This saves the output plot successfully in the project folder\n",
    "plt.show()"
   ]
  }
 ],
 "metadata": {
  "kernelspec": {
   "display_name": ".venv",
   "language": "python",
   "name": "python3"
  },
  "language_info": {
   "codemirror_mode": {
    "name": "ipython",
    "version": 3
   },
   "file_extension": ".py",
   "mimetype": "text/x-python",
   "name": "python",
   "nbconvert_exporter": "python",
   "pygments_lexer": "ipython3",
   "version": "3.12.3"
  }
 },
 "nbformat": 4,
 "nbformat_minor": 5
}
