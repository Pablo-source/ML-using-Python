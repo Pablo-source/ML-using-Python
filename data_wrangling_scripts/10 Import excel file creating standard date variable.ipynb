{
 "cells": [
  {
   "cell_type": "markdown",
   "id": "c5e10a00",
   "metadata": {},
   "source": [
    "# 10 Import Excel file creating standard date variable"
   ]
  },
  {
   "cell_type": "markdown",
   "id": "02fa8a43",
   "metadata": {
    "vscode": {
     "languageId": "plaintext"
    }
   },
   "source": [
    "This Jupyter notebook will expand on the topic covered by previous one. After importing Excel file into Python, I will create a new variable as standard Python date variable from a character variable"
   ]
  },
  {
   "cell_type": "markdown",
   "id": "b6720975",
   "metadata": {
    "vscode": {
     "languageId": "plaintext"
    }
   },
   "source": [
    "## 1. Import Excel data into Python"
   ]
  },
  {
   "cell_type": "markdown",
   "id": "65f9a42e",
   "metadata": {},
   "source": [
    "- Import required libraries"
   ]
  },
  {
   "cell_type": "code",
   "execution_count": 1,
   "id": "8387bb5a",
   "metadata": {},
   "outputs": [],
   "source": [
    "import pandas as pd\n",
    "import os\n",
    "import numpy as np"
   ]
  },
  {
   "cell_type": "code",
   "execution_count": 2,
   "id": "37025a3d",
   "metadata": {},
   "outputs": [
    {
     "name": "stdout",
     "output_type": "stream",
     "text": [
      "My working directory is:/home/pablo/Documents/Pablo_ubuntu/Python_github_projects/ML-using-Python/data_wrangling_scripts\n"
     ]
    }
   ],
   "source": [
    "wd = os.getcwd()\n",
    "print(f'My working directory is:{wd}')"
   ]
  },
  {
   "cell_type": "code",
   "execution_count": 3,
   "id": "11ffaa45",
   "metadata": {},
   "outputs": [],
   "source": [
    "project_folder = os.path.join('/home','pablo','Documents','Pablo_ubuntu','Python_github_projects','ML-using-Python')\n",
    "os.chdir(project_folder)"
   ]
  },
  {
   "cell_type": "code",
   "execution_count": 5,
   "id": "e94e8d23",
   "metadata": {},
   "outputs": [],
   "source": [
    "data_folder = os.path.join('/home','pablo','Documents','Pablo_ubuntu','Python_github_projects','ML-using-Python','data')"
   ]
  },
  {
   "cell_type": "code",
   "execution_count": 6,
   "id": "c5625e1d",
   "metadata": {},
   "outputs": [
    {
     "name": "stdout",
     "output_type": "stream",
     "text": [
      "Data fodler path:/home/pablo/Documents/Pablo_ubuntu/Python_github_projects/ML-using-Python\n",
      "Data fodler path:/home/pablo/Documents/Pablo_ubuntu/Python_github_projects/ML-using-Python/data\n"
     ]
    }
   ],
   "source": [
    "print(f'Data fodler path:{project_folder}')\n",
    "print(f'Data fodler path:{data_folder}')"
   ]
  },
  {
   "cell_type": "markdown",
   "id": "c8cac0d2",
   "metadata": {},
   "source": [
    "- Display data folder contents"
   ]
  },
  {
   "cell_type": "code",
   "execution_count": 7,
   "id": "4fe7108a",
   "metadata": {},
   "outputs": [
    {
     "name": "stdout",
     "output_type": "stream",
     "text": [
      "Data folder contents:['monthly-milk-production-pounds.csv', 'winequality-white.csv', 'Monthly-AE-Time-Series-March-2025.xls', 'ONS_long_term_immigration_end2024.xlsx', 'AE_Attendances_TypeI_2010_2025.csv', '03_INE_Spain_natural_growh_births_deaths.xlsx', 'winequality-red.csv', 'INE Resident population country of birth Spain.xlsx', 'ONS_Figure_01_Long_term_emigration_immigration_net_migration.xlsx', 'Monthly-AE-Time-Series-January-2024.xls', 'wine_quality.zip', 'OCDE_countries_population_figures_1970_2022.csv', 'AE_Time_Series_Data_website.txt', '01 INE resident population by nationality Spain and CV 2002 2024.xlsx', 'AE_Attendances_2010_2024.csv', 'INE total and foreign population figures Spain.xlsx', 'Type_I_ATT_TEST.csv', 'all_wine_reset.csv', 'winequality.names', 'AE_Attendances_Aug2010_Mar_2025.csv', '02 INE Spain CV population stocks and flows 2002 2025.xlsx', 'Type_I_ATT_TRAIN.csv', 'ONS_Figure_2__Population_increase_in_mid-2023_was_driven_mostly_by_net_international_migration.xls']\n"
     ]
    }
   ],
   "source": [
    "data_folder_contents = os.listdir(data_folder)\n",
    "print(f'Data folder contents:{data_folder_contents}')"
   ]
  },
  {
   "cell_type": "markdown",
   "id": "4a19d691",
   "metadata": {},
   "source": [
    "- Display just Files ending in .xlsx in our data_folder path"
   ]
  },
  {
   "cell_type": "code",
   "execution_count": 9,
   "id": "49c859d3",
   "metadata": {},
   "outputs": [
    {
     "name": "stdout",
     "output_type": "stream",
     "text": [
      "/data/ONS_long_term_immigration_end2024.xlsx\n",
      "/data/03_INE_Spain_natural_growh_births_deaths.xlsx\n",
      "/data/INE Resident population country of birth Spain.xlsx\n",
      "/data/ONS_Figure_01_Long_term_emigration_immigration_net_migration.xlsx\n",
      "/data/01 INE resident population by nationality Spain and CV 2002 2024.xlsx\n",
      "/data/INE total and foreign population figures Spain.xlsx\n",
      "/data/02 INE Spain CV population stocks and flows 2002 2025.xlsx\n"
     ]
    }
   ],
   "source": [
    "for file in os.listdir(data_folder):\n",
    "    if file.endswith(\".xlsx\"):\n",
    "        print(os.path.join(\"/data\", file))"
   ]
  },
  {
   "cell_type": "markdown",
   "id": "998400cb",
   "metadata": {},
   "source": [
    "- Importing Excel file \"INE total and foreign population figures Spain.xlsx\" from \\data sub-folder."
   ]
  },
  {
   "cell_type": "code",
   "execution_count": 10,
   "id": "33c7b760",
   "metadata": {},
   "outputs": [
    {
     "data": {
      "application/vnd.microsoft.datawrangler.viewer.v0+json": {
       "columns": [
        {
         "name": "index",
         "rawType": "int64",
         "type": "integer"
        },
        {
         "name": " ",
         "rawType": "object",
         "type": "string"
        },
        {
         "name": "Total",
         "rawType": "object",
         "type": "unknown"
        }
       ],
       "ref": "aa86d279-f9cd-427b-ba04-9939f47f41fd",
       "rows": [
        [
         "0",
         "1 de enero de 2024",
         "48619695"
        ],
        [
         "1",
         "1 de octubre de 2023",
         "48486865"
        ],
        [
         "2",
         "1 de julio de 2023",
         "48320520"
        ],
        [
         "3",
         "1 de abril de 2023",
         "48205962"
        ],
        [
         "4",
         "1 de enero de 2023",
         "48085361"
        ]
       ],
       "shape": {
        "columns": 2,
        "rows": 5
       }
      },
      "text/html": [
       "<div>\n",
       "<style scoped>\n",
       "    .dataframe tbody tr th:only-of-type {\n",
       "        vertical-align: middle;\n",
       "    }\n",
       "\n",
       "    .dataframe tbody tr th {\n",
       "        vertical-align: top;\n",
       "    }\n",
       "\n",
       "    .dataframe thead th {\n",
       "        text-align: right;\n",
       "    }\n",
       "</style>\n",
       "<table border=\"1\" class=\"dataframe\">\n",
       "  <thead>\n",
       "    <tr style=\"text-align: right;\">\n",
       "      <th></th>\n",
       "      <th></th>\n",
       "      <th>Total</th>\n",
       "    </tr>\n",
       "  </thead>\n",
       "  <tbody>\n",
       "    <tr>\n",
       "      <th>0</th>\n",
       "      <td>1 de enero de 2024</td>\n",
       "      <td>48619695</td>\n",
       "    </tr>\n",
       "    <tr>\n",
       "      <th>1</th>\n",
       "      <td>1 de octubre de 2023</td>\n",
       "      <td>48486865</td>\n",
       "    </tr>\n",
       "    <tr>\n",
       "      <th>2</th>\n",
       "      <td>1 de julio de 2023</td>\n",
       "      <td>48320520</td>\n",
       "    </tr>\n",
       "    <tr>\n",
       "      <th>3</th>\n",
       "      <td>1 de abril de 2023</td>\n",
       "      <td>48205962</td>\n",
       "    </tr>\n",
       "    <tr>\n",
       "      <th>4</th>\n",
       "      <td>1 de enero de 2023</td>\n",
       "      <td>48085361</td>\n",
       "    </tr>\n",
       "  </tbody>\n",
       "</table>\n",
       "</div>"
      ],
      "text/plain": [
       "                            Total\n",
       "0    1 de enero de 2024  48619695\n",
       "1  1 de octubre de 2023  48486865\n",
       "2    1 de julio de 2023  48320520\n",
       "3    1 de abril de 2023  48205962\n",
       "4    1 de enero de 2023  48085361"
      ]
     },
     "execution_count": 10,
     "metadata": {},
     "output_type": "execute_result"
    }
   ],
   "source": [
    "data_raw = pd.read_excel(os.path.join('data','INE total and foreign population figures Spain.xlsx'),\n",
    "                         sheet_name = 'INE_Total_population',\n",
    "                         skiprows = 7, \n",
    "                         usecols='A:B',\n",
    "                         nrows = 212)\n",
    "data_raw.head()"
   ]
  }
 ],
 "metadata": {
  "kernelspec": {
   "display_name": ".venv",
   "language": "python",
   "name": "python3"
  },
  "language_info": {
   "codemirror_mode": {
    "name": "ipython",
    "version": 3
   },
   "file_extension": ".py",
   "mimetype": "text/x-python",
   "name": "python",
   "nbconvert_exporter": "python",
   "pygments_lexer": "ipython3",
   "version": "3.12.3"
  }
 },
 "nbformat": 4,
 "nbformat_minor": 5
}
