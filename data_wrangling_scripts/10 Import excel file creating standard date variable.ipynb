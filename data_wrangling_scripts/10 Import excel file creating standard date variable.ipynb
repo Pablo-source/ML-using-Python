{
 "cells": [
  {
   "cell_type": "markdown",
   "id": "c5e10a00",
   "metadata": {},
   "source": [
    "# 10 Import Excel file creating standard date variable"
   ]
  },
  {
   "cell_type": "markdown",
   "id": "02fa8a43",
   "metadata": {
    "vscode": {
     "languageId": "plaintext"
    }
   },
   "source": [
    "This Jupyter notebook will expand on the topic covered by previous one. After importing Excel file into Python, I will create a new variable as standard Python date variable from a character variable"
   ]
  },
  {
   "cell_type": "markdown",
   "id": "b6720975",
   "metadata": {
    "vscode": {
     "languageId": "plaintext"
    }
   },
   "source": [
    "## 1. Import Excel data into Python"
   ]
  },
  {
   "cell_type": "markdown",
   "id": "65f9a42e",
   "metadata": {},
   "source": [
    "- Import required libraries"
   ]
  },
  {
   "cell_type": "code",
   "execution_count": 7,
   "id": "8387bb5a",
   "metadata": {},
   "outputs": [],
   "source": [
    "import pandas as pd\n",
    "import os\n",
    "import numpy as np"
   ]
  },
  {
   "cell_type": "code",
   "execution_count": 8,
   "id": "37025a3d",
   "metadata": {},
   "outputs": [
    {
     "name": "stdout",
     "output_type": "stream",
     "text": [
      "My working directory is:/home/pablo/Documents/Pablo_ubuntu/Python_github_projects/ML-using-Python\n"
     ]
    }
   ],
   "source": [
    "wd = os.getcwd()\n",
    "print(f'My working directory is:{wd}')"
   ]
  },
  {
   "cell_type": "code",
   "execution_count": 9,
   "id": "11ffaa45",
   "metadata": {},
   "outputs": [],
   "source": [
    "project_folder = os.path.join('/home','pablo','Documents','Pablo_ubuntu','Python_github_projects','ML-using-Python')\n",
    "os.chdir(project_folder)"
   ]
  },
  {
   "cell_type": "code",
   "execution_count": 10,
   "id": "e94e8d23",
   "metadata": {},
   "outputs": [],
   "source": [
    "data_folder = os.path.join('/home','pablo','Documents','Pablo_ubuntu','Python_github_projects','ML-using-Python','data')"
   ]
  },
  {
   "cell_type": "code",
   "execution_count": 11,
   "id": "c5625e1d",
   "metadata": {},
   "outputs": [
    {
     "name": "stdout",
     "output_type": "stream",
     "text": [
      "Data fodler path:/home/pablo/Documents/Pablo_ubuntu/Python_github_projects/ML-using-Python\n",
      "Data fodler path:/home/pablo/Documents/Pablo_ubuntu/Python_github_projects/ML-using-Python/data\n"
     ]
    }
   ],
   "source": [
    "print(f'Data fodler path:{project_folder}')\n",
    "print(f'Data fodler path:{data_folder}')"
   ]
  },
  {
   "cell_type": "markdown",
   "id": "c8cac0d2",
   "metadata": {},
   "source": [
    "- Display data folder contents"
   ]
  },
  {
   "cell_type": "code",
   "execution_count": 12,
   "id": "4fe7108a",
   "metadata": {},
   "outputs": [
    {
     "name": "stdout",
     "output_type": "stream",
     "text": [
      "Data folder contents:['monthly-milk-production-pounds.csv', 'winequality-white.csv', 'Monthly-AE-Time-Series-March-2025.xls', 'ONS_long_term_immigration_end2024.xlsx', 'AE_Attendances_TypeI_2010_2025.csv', '03_INE_Spain_natural_growh_births_deaths.xlsx', 'winequality-red.csv', 'INE Resident population country of birth Spain.xlsx', 'ONS_Figure_01_Long_term_emigration_immigration_net_migration.xlsx', 'Monthly-AE-Time-Series-January-2024.xls', 'wine_quality.zip', 'OCDE_countries_population_figures_1970_2022.csv', 'AE_Time_Series_Data_website.txt', '01 INE resident population by nationality Spain and CV 2002 2024.xlsx', 'AE_Attendances_2010_2024.csv', 'INE total and foreign population figures Spain.xlsx', 'Type_I_ATT_TEST.csv', 'all_wine_reset.csv', 'winequality.names', 'AE_Attendances_Aug2010_Mar_2025.csv', '02 INE Spain CV population stocks and flows 2002 2025.xlsx', 'Type_I_ATT_TRAIN.csv', 'ONS_Figure_2__Population_increase_in_mid-2023_was_driven_mostly_by_net_international_migration.xls']\n"
     ]
    }
   ],
   "source": [
    "data_folder_contents = os.listdir(data_folder)\n",
    "print(f'Data folder contents:{data_folder_contents}')"
   ]
  },
  {
   "cell_type": "markdown",
   "id": "4a19d691",
   "metadata": {},
   "source": [
    "- Display just Files ending in .xlsx in our data_folder path"
   ]
  },
  {
   "cell_type": "code",
   "execution_count": 13,
   "id": "49c859d3",
   "metadata": {},
   "outputs": [
    {
     "name": "stdout",
     "output_type": "stream",
     "text": [
      "/data/ONS_long_term_immigration_end2024.xlsx\n",
      "/data/03_INE_Spain_natural_growh_births_deaths.xlsx\n",
      "/data/INE Resident population country of birth Spain.xlsx\n",
      "/data/ONS_Figure_01_Long_term_emigration_immigration_net_migration.xlsx\n",
      "/data/01 INE resident population by nationality Spain and CV 2002 2024.xlsx\n",
      "/data/INE total and foreign population figures Spain.xlsx\n",
      "/data/02 INE Spain CV population stocks and flows 2002 2025.xlsx\n"
     ]
    }
   ],
   "source": [
    "for file in os.listdir(data_folder):\n",
    "    if file.endswith(\".xlsx\"):\n",
    "        print(os.path.join(\"/data\", file))"
   ]
  },
  {
   "cell_type": "markdown",
   "id": "998400cb",
   "metadata": {},
   "source": [
    "- Importing Excel file \"INE total and foreign population figures Spain.xlsx\" from \\data sub-folder."
   ]
  },
  {
   "cell_type": "code",
   "execution_count": 14,
   "id": "33c7b760",
   "metadata": {},
   "outputs": [
    {
     "data": {
      "application/vnd.microsoft.datawrangler.viewer.v0+json": {
       "columns": [
        {
         "name": "index",
         "rawType": "int64",
         "type": "integer"
        },
        {
         "name": " ",
         "rawType": "object",
         "type": "string"
        },
        {
         "name": "Total",
         "rawType": "object",
         "type": "unknown"
        }
       ],
       "ref": "95e873a4-450b-48bd-94d7-7d5522f24d9c",
       "rows": [
        [
         "0",
         "1 de enero de 2024",
         "48619695"
        ],
        [
         "1",
         "1 de octubre de 2023",
         "48486865"
        ],
        [
         "2",
         "1 de julio de 2023",
         "48320520"
        ],
        [
         "3",
         "1 de abril de 2023",
         "48205962"
        ],
        [
         "4",
         "1 de enero de 2023",
         "48085361"
        ]
       ],
       "shape": {
        "columns": 2,
        "rows": 5
       }
      },
      "text/html": [
       "<div>\n",
       "<style scoped>\n",
       "    .dataframe tbody tr th:only-of-type {\n",
       "        vertical-align: middle;\n",
       "    }\n",
       "\n",
       "    .dataframe tbody tr th {\n",
       "        vertical-align: top;\n",
       "    }\n",
       "\n",
       "    .dataframe thead th {\n",
       "        text-align: right;\n",
       "    }\n",
       "</style>\n",
       "<table border=\"1\" class=\"dataframe\">\n",
       "  <thead>\n",
       "    <tr style=\"text-align: right;\">\n",
       "      <th></th>\n",
       "      <th></th>\n",
       "      <th>Total</th>\n",
       "    </tr>\n",
       "  </thead>\n",
       "  <tbody>\n",
       "    <tr>\n",
       "      <th>0</th>\n",
       "      <td>1 de enero de 2024</td>\n",
       "      <td>48619695</td>\n",
       "    </tr>\n",
       "    <tr>\n",
       "      <th>1</th>\n",
       "      <td>1 de octubre de 2023</td>\n",
       "      <td>48486865</td>\n",
       "    </tr>\n",
       "    <tr>\n",
       "      <th>2</th>\n",
       "      <td>1 de julio de 2023</td>\n",
       "      <td>48320520</td>\n",
       "    </tr>\n",
       "    <tr>\n",
       "      <th>3</th>\n",
       "      <td>1 de abril de 2023</td>\n",
       "      <td>48205962</td>\n",
       "    </tr>\n",
       "    <tr>\n",
       "      <th>4</th>\n",
       "      <td>1 de enero de 2023</td>\n",
       "      <td>48085361</td>\n",
       "    </tr>\n",
       "  </tbody>\n",
       "</table>\n",
       "</div>"
      ],
      "text/plain": [
       "                            Total\n",
       "0    1 de enero de 2024  48619695\n",
       "1  1 de octubre de 2023  48486865\n",
       "2    1 de julio de 2023  48320520\n",
       "3    1 de abril de 2023  48205962\n",
       "4    1 de enero de 2023  48085361"
      ]
     },
     "execution_count": 14,
     "metadata": {},
     "output_type": "execute_result"
    }
   ],
   "source": [
    "data_raw = pd.read_excel(os.path.join('data','INE total and foreign population figures Spain.xlsx'),\n",
    "                         sheet_name = 'INE_Total_population',\n",
    "                         skiprows = 7, \n",
    "                         usecols='A:B',\n",
    "                         nrows = 212)\n",
    "data_raw.head()"
   ]
  },
  {
   "cell_type": "code",
   "execution_count": 15,
   "id": "7df53b91",
   "metadata": {},
   "outputs": [
    {
     "data": {
      "text/plain": [
       "<bound method DataFrame.info of                               Total\n",
       "0      1 de enero de 2024  48619695\n",
       "1    1 de octubre de 2023  48486865\n",
       "2      1 de julio de 2023  48320520\n",
       "3      1 de abril de 2023  48205962\n",
       "4      1 de enero de 2023  48085361\n",
       "..                    ...       ...\n",
       "207    1 de abril de 1972          \n",
       "208    1 de enero de 1972  34408338\n",
       "209  1 de octubre de 1971          \n",
       "210    1 de julio de 1971  34216856\n",
       "211    1 de abril de 1971          \n",
       "\n",
       "[212 rows x 2 columns]>"
      ]
     },
     "execution_count": 15,
     "metadata": {},
     "output_type": "execute_result"
    }
   ],
   "source": [
    "data_raw.info"
   ]
  },
  {
   "cell_type": "code",
   "execution_count": 16,
   "id": "19cf76f9",
   "metadata": {},
   "outputs": [
    {
     "name": "stdout",
     "output_type": "stream",
     "text": [
      "                              Total\n",
      "0      1 de enero de 2024  48619695\n",
      "1    1 de octubre de 2023  48486865\n",
      "2      1 de julio de 2023  48320520\n",
      "3      1 de abril de 2023  48205962\n",
      "4      1 de enero de 2023  48085361\n",
      "..                    ...       ...\n",
      "207    1 de abril de 1972          \n",
      "208    1 de enero de 1972  34408338\n",
      "209  1 de octubre de 1971          \n",
      "210    1 de julio de 1971  34216856\n",
      "211    1 de abril de 1971          \n",
      "\n",
      "[212 rows x 2 columns]\n"
     ]
    }
   ],
   "source": [
    "data_raw.head()\n",
    "print(data_raw)"
   ]
  },
  {
   "cell_type": "code",
   "execution_count": 17,
   "id": "2d486e10",
   "metadata": {},
   "outputs": [
    {
     "data": {
      "text/plain": [
       "Index([' ', 'Total'], dtype='object')"
      ]
     },
     "execution_count": 17,
     "metadata": {},
     "output_type": "execute_result"
    }
   ],
   "source": [
    "data_raw.columns"
   ]
  },
  {
   "cell_type": "markdown",
   "id": "d95d9821",
   "metadata": {},
   "source": [
    "- Rename default column names from imported Excel file into Python"
   ]
  },
  {
   "cell_type": "code",
   "execution_count": 18,
   "id": "1c86050b",
   "metadata": {},
   "outputs": [
    {
     "data": {
      "application/vnd.microsoft.datawrangler.viewer.v0+json": {
       "columns": [
        {
         "name": "index",
         "rawType": "int64",
         "type": "integer"
        },
        {
         "name": "Year",
         "rawType": "object",
         "type": "string"
        },
        {
         "name": "Total_population",
         "rawType": "object",
         "type": "unknown"
        }
       ],
       "ref": "cacda580-ef78-4efe-af60-21fc0faff325",
       "rows": [
        [
         "0",
         "1 de enero de 2024",
         "48619695"
        ],
        [
         "1",
         "1 de octubre de 2023",
         "48486865"
        ],
        [
         "2",
         "1 de julio de 2023",
         "48320520"
        ],
        [
         "3",
         "1 de abril de 2023",
         "48205962"
        ],
        [
         "4",
         "1 de enero de 2023",
         "48085361"
        ]
       ],
       "shape": {
        "columns": 2,
        "rows": 5
       }
      },
      "text/html": [
       "<div>\n",
       "<style scoped>\n",
       "    .dataframe tbody tr th:only-of-type {\n",
       "        vertical-align: middle;\n",
       "    }\n",
       "\n",
       "    .dataframe tbody tr th {\n",
       "        vertical-align: top;\n",
       "    }\n",
       "\n",
       "    .dataframe thead th {\n",
       "        text-align: right;\n",
       "    }\n",
       "</style>\n",
       "<table border=\"1\" class=\"dataframe\">\n",
       "  <thead>\n",
       "    <tr style=\"text-align: right;\">\n",
       "      <th></th>\n",
       "      <th>Year</th>\n",
       "      <th>Total_population</th>\n",
       "    </tr>\n",
       "  </thead>\n",
       "  <tbody>\n",
       "    <tr>\n",
       "      <th>0</th>\n",
       "      <td>1 de enero de 2024</td>\n",
       "      <td>48619695</td>\n",
       "    </tr>\n",
       "    <tr>\n",
       "      <th>1</th>\n",
       "      <td>1 de octubre de 2023</td>\n",
       "      <td>48486865</td>\n",
       "    </tr>\n",
       "    <tr>\n",
       "      <th>2</th>\n",
       "      <td>1 de julio de 2023</td>\n",
       "      <td>48320520</td>\n",
       "    </tr>\n",
       "    <tr>\n",
       "      <th>3</th>\n",
       "      <td>1 de abril de 2023</td>\n",
       "      <td>48205962</td>\n",
       "    </tr>\n",
       "    <tr>\n",
       "      <th>4</th>\n",
       "      <td>1 de enero de 2023</td>\n",
       "      <td>48085361</td>\n",
       "    </tr>\n",
       "  </tbody>\n",
       "</table>\n",
       "</div>"
      ],
      "text/plain": [
       "                   Year Total_population\n",
       "0    1 de enero de 2024         48619695\n",
       "1  1 de octubre de 2023         48486865\n",
       "2    1 de julio de 2023         48320520\n",
       "3    1 de abril de 2023         48205962\n",
       "4    1 de enero de 2023         48085361"
      ]
     },
     "execution_count": 18,
     "metadata": {},
     "output_type": "execute_result"
    }
   ],
   "source": [
    "data_raw.columns = ['Year','Total_population']\n",
    "data_raw.head()"
   ]
  },
  {
   "cell_type": "code",
   "execution_count": 19,
   "id": "ee8df1b7",
   "metadata": {},
   "outputs": [
    {
     "data": {
      "application/vnd.microsoft.datawrangler.viewer.v0+json": {
       "columns": [
        {
         "name": "index",
         "rawType": "int64",
         "type": "integer"
        },
        {
         "name": "Year",
         "rawType": "object",
         "type": "string"
        },
        {
         "name": "Total_population",
         "rawType": "object",
         "type": "unknown"
        }
       ],
       "ref": "effda6ef-a92f-4ffe-a7e0-5eaf728d6284",
       "rows": [
        [
         "207",
         "1 de abril de 1972",
         " "
        ],
        [
         "208",
         "1 de enero de 1972",
         "34408338"
        ],
        [
         "209",
         "1 de octubre de 1971",
         " "
        ],
        [
         "210",
         "1 de julio de 1971",
         "34216856"
        ],
        [
         "211",
         "1 de abril de 1971",
         " "
        ]
       ],
       "shape": {
        "columns": 2,
        "rows": 5
       }
      },
      "text/html": [
       "<div>\n",
       "<style scoped>\n",
       "    .dataframe tbody tr th:only-of-type {\n",
       "        vertical-align: middle;\n",
       "    }\n",
       "\n",
       "    .dataframe tbody tr th {\n",
       "        vertical-align: top;\n",
       "    }\n",
       "\n",
       "    .dataframe thead th {\n",
       "        text-align: right;\n",
       "    }\n",
       "</style>\n",
       "<table border=\"1\" class=\"dataframe\">\n",
       "  <thead>\n",
       "    <tr style=\"text-align: right;\">\n",
       "      <th></th>\n",
       "      <th>Year</th>\n",
       "      <th>Total_population</th>\n",
       "    </tr>\n",
       "  </thead>\n",
       "  <tbody>\n",
       "    <tr>\n",
       "      <th>207</th>\n",
       "      <td>1 de abril de 1972</td>\n",
       "      <td></td>\n",
       "    </tr>\n",
       "    <tr>\n",
       "      <th>208</th>\n",
       "      <td>1 de enero de 1972</td>\n",
       "      <td>34408338</td>\n",
       "    </tr>\n",
       "    <tr>\n",
       "      <th>209</th>\n",
       "      <td>1 de octubre de 1971</td>\n",
       "      <td></td>\n",
       "    </tr>\n",
       "    <tr>\n",
       "      <th>210</th>\n",
       "      <td>1 de julio de 1971</td>\n",
       "      <td>34216856</td>\n",
       "    </tr>\n",
       "    <tr>\n",
       "      <th>211</th>\n",
       "      <td>1 de abril de 1971</td>\n",
       "      <td></td>\n",
       "    </tr>\n",
       "  </tbody>\n",
       "</table>\n",
       "</div>"
      ],
      "text/plain": [
       "                     Year Total_population\n",
       "207    1 de abril de 1972                 \n",
       "208    1 de enero de 1972         34408338\n",
       "209  1 de octubre de 1971                 \n",
       "210    1 de julio de 1971         34216856\n",
       "211    1 de abril de 1971                 "
      ]
     },
     "execution_count": 19,
     "metadata": {},
     "output_type": "execute_result"
    }
   ],
   "source": [
    "data_raw.tail()"
   ]
  },
  {
   "cell_type": "markdown",
   "id": "8bca419d",
   "metadata": {},
   "source": [
    "### 1. Remove NaN values from Dataframe"
   ]
  },
  {
   "cell_type": "markdown",
   "id": "78408ada",
   "metadata": {},
   "source": [
    "- First issue I need to tacke is that we don't have NaN values. We have Empty values in the bottom cells in Total_population column, from the original Excel file imported into Python "
   ]
  },
  {
   "cell_type": "code",
   "execution_count": 20,
   "id": "d17e508d",
   "metadata": {},
   "outputs": [
    {
     "name": "stdout",
     "output_type": "stream",
     "text": [
      "212\n"
     ]
    }
   ],
   "source": [
    "count_data_raw = data_raw.shape[0]  # Gives number of rows\n",
    "print(count_data_raw)"
   ]
  },
  {
   "cell_type": "code",
   "execution_count": 21,
   "id": "405f1000",
   "metadata": {},
   "outputs": [
    {
     "name": "stdout",
     "output_type": "stream",
     "text": [
      "                     Year  Total_population\n",
      "0      1 de enero de 2024        48619695.0\n",
      "1    1 de octubre de 2023        48486865.0\n",
      "2      1 de julio de 2023        48320520.0\n",
      "3      1 de abril de 2023        48205962.0\n",
      "4      1 de enero de 2023        48085361.0\n",
      "..                    ...               ...\n",
      "207    1 de abril de 1972               NaN\n",
      "208    1 de enero de 1972        34408338.0\n",
      "209  1 de octubre de 1971               NaN\n",
      "210    1 de julio de 1971        34216856.0\n",
      "211    1 de abril de 1971               NaN\n",
      "\n",
      "[212 rows x 2 columns]\n"
     ]
    },
    {
     "name": "stderr",
     "output_type": "stream",
     "text": [
      "/tmp/ipykernel_7805/580462554.py:1: FutureWarning: Downcasting behavior in `replace` is deprecated and will be removed in a future version. To retain the old behavior, explicitly call `result.infer_objects(copy=False)`. To opt-in to the future behavior, set `pd.set_option('future.no_silent_downcasting', True)`\n",
      "  imported_data_na = data_raw.replace(r'^\\s*$',np.nan, regex = True)\n"
     ]
    }
   ],
   "source": [
    "imported_data_na = data_raw.replace(r'^\\s*$',np.nan, regex = True)\n",
    "print(imported_data_na)"
   ]
  },
  {
   "cell_type": "markdown",
   "id": "f320de02",
   "metadata": {},
   "source": [
    "- Now that we have our data with Missing values in the \"Total_population\" column, I can use the .dropna() method"
   ]
  },
  {
   "cell_type": "code",
   "execution_count": 22,
   "id": "99bba873",
   "metadata": {},
   "outputs": [
    {
     "data": {
      "application/vnd.microsoft.datawrangler.viewer.v0+json": {
       "columns": [
        {
         "name": "index",
         "rawType": "int64",
         "type": "integer"
        },
        {
         "name": "Year",
         "rawType": "object",
         "type": "string"
        },
        {
         "name": "Total_population",
         "rawType": "float64",
         "type": "float"
        }
       ],
       "ref": "b559e7e2-1f20-4f63-a925-a8303b794dd1",
       "rows": [
        [
         "202",
         "1 de julio de 1973",
         "34980317.0"
        ],
        [
         "204",
         "1 de enero de 1973",
         "34800600.0"
        ],
        [
         "206",
         "1 de julio de 1972",
         "34595886.0"
        ],
        [
         "208",
         "1 de enero de 1972",
         "34408338.0"
        ],
        [
         "210",
         "1 de julio de 1971",
         "34216856.0"
        ]
       ],
       "shape": {
        "columns": 2,
        "rows": 5
       }
      },
      "text/html": [
       "<div>\n",
       "<style scoped>\n",
       "    .dataframe tbody tr th:only-of-type {\n",
       "        vertical-align: middle;\n",
       "    }\n",
       "\n",
       "    .dataframe tbody tr th {\n",
       "        vertical-align: top;\n",
       "    }\n",
       "\n",
       "    .dataframe thead th {\n",
       "        text-align: right;\n",
       "    }\n",
       "</style>\n",
       "<table border=\"1\" class=\"dataframe\">\n",
       "  <thead>\n",
       "    <tr style=\"text-align: right;\">\n",
       "      <th></th>\n",
       "      <th>Year</th>\n",
       "      <th>Total_population</th>\n",
       "    </tr>\n",
       "  </thead>\n",
       "  <tbody>\n",
       "    <tr>\n",
       "      <th>202</th>\n",
       "      <td>1 de julio de 1973</td>\n",
       "      <td>34980317.0</td>\n",
       "    </tr>\n",
       "    <tr>\n",
       "      <th>204</th>\n",
       "      <td>1 de enero de 1973</td>\n",
       "      <td>34800600.0</td>\n",
       "    </tr>\n",
       "    <tr>\n",
       "      <th>206</th>\n",
       "      <td>1 de julio de 1972</td>\n",
       "      <td>34595886.0</td>\n",
       "    </tr>\n",
       "    <tr>\n",
       "      <th>208</th>\n",
       "      <td>1 de enero de 1972</td>\n",
       "      <td>34408338.0</td>\n",
       "    </tr>\n",
       "    <tr>\n",
       "      <th>210</th>\n",
       "      <td>1 de julio de 1971</td>\n",
       "      <td>34216856.0</td>\n",
       "    </tr>\n",
       "  </tbody>\n",
       "</table>\n",
       "</div>"
      ],
      "text/plain": [
       "                   Year  Total_population\n",
       "202  1 de julio de 1973        34980317.0\n",
       "204  1 de enero de 1973        34800600.0\n",
       "206  1 de julio de 1972        34595886.0\n",
       "208  1 de enero de 1972        34408338.0\n",
       "210  1 de julio de 1971        34216856.0"
      ]
     },
     "execution_count": 22,
     "metadata": {},
     "output_type": "execute_result"
    }
   ],
   "source": [
    "imported_data_clean_dropna = imported_data_na.dropna(axis = 0, \n",
    "                subset = ['Total_population'],\n",
    "                inplace = False)\n",
    "imported_data_clean_dropna.head()\n",
    "imported_data_clean_dropna.tail()    "
   ]
  },
  {
   "cell_type": "code",
   "execution_count": 23,
   "id": "5cf7e9a8",
   "metadata": {},
   "outputs": [
    {
     "name": "stdout",
     "output_type": "stream",
     "text": [
      "112\n"
     ]
    }
   ],
   "source": [
    "count_row_clean_test = imported_data_clean_dropna.shape[0]  # Gives number of rows\n",
    "print(count_row_clean_test)"
   ]
  },
  {
   "cell_type": "markdown",
   "id": "db04709d",
   "metadata": {},
   "source": [
    "## 2. Flag January rows to keep just those rows "
   ]
  },
  {
   "cell_type": "markdown",
   "id": "8e44e87b",
   "metadata": {},
   "source": [
    "As I used in previous script \"09 Import Excel file replacing blanks by nulls.ipynb\" this is the way I flag January (Enero) rows in the dataframe."
   ]
  },
  {
   "cell_type": "code",
   "execution_count": 24,
   "id": "752759e1",
   "metadata": {},
   "outputs": [],
   "source": [
    "imported_data_flag = imported_data_clean_dropna.copy()"
   ]
  },
  {
   "cell_type": "code",
   "execution_count": 25,
   "id": "fed825f1",
   "metadata": {},
   "outputs": [],
   "source": [
    "imported_data_flag.loc[imported_data_flag['Year'].str.contains('enero',case = False),'Jan_flag'] = 'Y'"
   ]
  },
  {
   "cell_type": "code",
   "execution_count": 26,
   "id": "294963e3",
   "metadata": {},
   "outputs": [
    {
     "data": {
      "application/vnd.microsoft.datawrangler.viewer.v0+json": {
       "columns": [
        {
         "name": "index",
         "rawType": "int64",
         "type": "integer"
        },
        {
         "name": "Year",
         "rawType": "object",
         "type": "string"
        },
        {
         "name": "Total_population",
         "rawType": "float64",
         "type": "float"
        },
        {
         "name": "Jan_flag",
         "rawType": "object",
         "type": "unknown"
        }
       ],
       "ref": "83af3f25-5a82-4d75-8fe6-a494ea5d7206",
       "rows": [
        [
         "0",
         "1 de enero de 2024",
         "48619695.0",
         "Y"
        ],
        [
         "1",
         "1 de octubre de 2023",
         "48486865.0",
         null
        ],
        [
         "2",
         "1 de julio de 2023",
         "48320520.0",
         null
        ],
        [
         "3",
         "1 de abril de 2023",
         "48205962.0",
         null
        ],
        [
         "4",
         "1 de enero de 2023",
         "48085361.0",
         "Y"
        ]
       ],
       "shape": {
        "columns": 3,
        "rows": 5
       }
      },
      "text/html": [
       "<div>\n",
       "<style scoped>\n",
       "    .dataframe tbody tr th:only-of-type {\n",
       "        vertical-align: middle;\n",
       "    }\n",
       "\n",
       "    .dataframe tbody tr th {\n",
       "        vertical-align: top;\n",
       "    }\n",
       "\n",
       "    .dataframe thead th {\n",
       "        text-align: right;\n",
       "    }\n",
       "</style>\n",
       "<table border=\"1\" class=\"dataframe\">\n",
       "  <thead>\n",
       "    <tr style=\"text-align: right;\">\n",
       "      <th></th>\n",
       "      <th>Year</th>\n",
       "      <th>Total_population</th>\n",
       "      <th>Jan_flag</th>\n",
       "    </tr>\n",
       "  </thead>\n",
       "  <tbody>\n",
       "    <tr>\n",
       "      <th>0</th>\n",
       "      <td>1 de enero de 2024</td>\n",
       "      <td>48619695.0</td>\n",
       "      <td>Y</td>\n",
       "    </tr>\n",
       "    <tr>\n",
       "      <th>1</th>\n",
       "      <td>1 de octubre de 2023</td>\n",
       "      <td>48486865.0</td>\n",
       "      <td>NaN</td>\n",
       "    </tr>\n",
       "    <tr>\n",
       "      <th>2</th>\n",
       "      <td>1 de julio de 2023</td>\n",
       "      <td>48320520.0</td>\n",
       "      <td>NaN</td>\n",
       "    </tr>\n",
       "    <tr>\n",
       "      <th>3</th>\n",
       "      <td>1 de abril de 2023</td>\n",
       "      <td>48205962.0</td>\n",
       "      <td>NaN</td>\n",
       "    </tr>\n",
       "    <tr>\n",
       "      <th>4</th>\n",
       "      <td>1 de enero de 2023</td>\n",
       "      <td>48085361.0</td>\n",
       "      <td>Y</td>\n",
       "    </tr>\n",
       "  </tbody>\n",
       "</table>\n",
       "</div>"
      ],
      "text/plain": [
       "                   Year  Total_population Jan_flag\n",
       "0    1 de enero de 2024        48619695.0        Y\n",
       "1  1 de octubre de 2023        48486865.0      NaN\n",
       "2    1 de julio de 2023        48320520.0      NaN\n",
       "3    1 de abril de 2023        48205962.0      NaN\n",
       "4    1 de enero de 2023        48085361.0        Y"
      ]
     },
     "execution_count": 26,
     "metadata": {},
     "output_type": "execute_result"
    }
   ],
   "source": [
    "imported_data_flag.head()"
   ]
  },
  {
   "cell_type": "markdown",
   "id": "04c6ad42",
   "metadata": {},
   "source": [
    "### 2.1 Then we can subset rows with 'Y' Flag in them "
   ]
  },
  {
   "cell_type": "markdown",
   "id": "2e4bf447",
   "metadata": {},
   "source": [
    "From the imported_data_flag dataframe we will keep just records with Y values in Jan_flag column: "
   ]
  },
  {
   "cell_type": "code",
   "execution_count": 27,
   "id": "3e9a9c74",
   "metadata": {},
   "outputs": [
    {
     "data": {
      "application/vnd.microsoft.datawrangler.viewer.v0+json": {
       "columns": [
        {
         "name": "index",
         "rawType": "int64",
         "type": "integer"
        },
        {
         "name": "Year",
         "rawType": "object",
         "type": "string"
        },
        {
         "name": "Total_population",
         "rawType": "float64",
         "type": "float"
        },
        {
         "name": "Jan_flag",
         "rawType": "object",
         "type": "string"
        }
       ],
       "ref": "bc5f9698-8d62-40dd-aed7-0c08918c6d02",
       "rows": [
        [
         "192",
         "1 de enero de 1976",
         "35946425.0",
         "Y"
        ],
        [
         "196",
         "1 de enero de 1975",
         "35569375.0",
         "Y"
        ],
        [
         "200",
         "1 de enero de 1974",
         "35177294.0",
         "Y"
        ],
        [
         "204",
         "1 de enero de 1973",
         "34800600.0",
         "Y"
        ],
        [
         "208",
         "1 de enero de 1972",
         "34408338.0",
         "Y"
        ]
       ],
       "shape": {
        "columns": 3,
        "rows": 5
       }
      },
      "text/html": [
       "<div>\n",
       "<style scoped>\n",
       "    .dataframe tbody tr th:only-of-type {\n",
       "        vertical-align: middle;\n",
       "    }\n",
       "\n",
       "    .dataframe tbody tr th {\n",
       "        vertical-align: top;\n",
       "    }\n",
       "\n",
       "    .dataframe thead th {\n",
       "        text-align: right;\n",
       "    }\n",
       "</style>\n",
       "<table border=\"1\" class=\"dataframe\">\n",
       "  <thead>\n",
       "    <tr style=\"text-align: right;\">\n",
       "      <th></th>\n",
       "      <th>Year</th>\n",
       "      <th>Total_population</th>\n",
       "      <th>Jan_flag</th>\n",
       "    </tr>\n",
       "  </thead>\n",
       "  <tbody>\n",
       "    <tr>\n",
       "      <th>192</th>\n",
       "      <td>1 de enero de 1976</td>\n",
       "      <td>35946425.0</td>\n",
       "      <td>Y</td>\n",
       "    </tr>\n",
       "    <tr>\n",
       "      <th>196</th>\n",
       "      <td>1 de enero de 1975</td>\n",
       "      <td>35569375.0</td>\n",
       "      <td>Y</td>\n",
       "    </tr>\n",
       "    <tr>\n",
       "      <th>200</th>\n",
       "      <td>1 de enero de 1974</td>\n",
       "      <td>35177294.0</td>\n",
       "      <td>Y</td>\n",
       "    </tr>\n",
       "    <tr>\n",
       "      <th>204</th>\n",
       "      <td>1 de enero de 1973</td>\n",
       "      <td>34800600.0</td>\n",
       "      <td>Y</td>\n",
       "    </tr>\n",
       "    <tr>\n",
       "      <th>208</th>\n",
       "      <td>1 de enero de 1972</td>\n",
       "      <td>34408338.0</td>\n",
       "      <td>Y</td>\n",
       "    </tr>\n",
       "  </tbody>\n",
       "</table>\n",
       "</div>"
      ],
      "text/plain": [
       "                   Year  Total_population Jan_flag\n",
       "192  1 de enero de 1976        35946425.0        Y\n",
       "196  1 de enero de 1975        35569375.0        Y\n",
       "200  1 de enero de 1974        35177294.0        Y\n",
       "204  1 de enero de 1973        34800600.0        Y\n",
       "208  1 de enero de 1972        34408338.0        Y"
      ]
     },
     "execution_count": 27,
     "metadata": {},
     "output_type": "execute_result"
    }
   ],
   "source": [
    "final_population_data = imported_data_flag[imported_data_flag.Jan_flag == 'Y']\n",
    "final_population_data.head()\n",
    "final_population_data.tail()"
   ]
  },
  {
   "cell_type": "code",
   "execution_count": 28,
   "id": "2635d47b",
   "metadata": {},
   "outputs": [
    {
     "name": "stdout",
     "output_type": "stream",
     "text": [
      "Number of rows:53\n"
     ]
    }
   ],
   "source": [
    "df_rows = final_population_data\n",
    "num_rows_final_population_data = len(df_rows.index)\n",
    "print(f'Number of rows:{num_rows_final_population_data}')"
   ]
  },
  {
   "cell_type": "code",
   "execution_count": 29,
   "id": "1fc63a89",
   "metadata": {},
   "outputs": [
    {
     "data": {
      "application/vnd.microsoft.datawrangler.viewer.v0+json": {
       "columns": [
        {
         "name": "index",
         "rawType": "int64",
         "type": "integer"
        },
        {
         "name": "Year",
         "rawType": "object",
         "type": "string"
        },
        {
         "name": "Total_population",
         "rawType": "float64",
         "type": "float"
        },
        {
         "name": "Jan_flag",
         "rawType": "object",
         "type": "string"
        }
       ],
       "ref": "457388a1-3805-48a8-b4f3-816f3cf24a45",
       "rows": [
        [
         "0",
         "1 de enero de 2024",
         "48619695.0",
         "Y"
        ],
        [
         "4",
         "1 de enero de 2023",
         "48085361.0",
         "Y"
        ],
        [
         "8",
         "1 de enero de 2022",
         "47486727.0",
         "Y"
        ],
        [
         "12",
         "1 de enero de 2021",
         "47400798.0",
         "Y"
        ],
        [
         "16",
         "1 de enero de 2020",
         "47318050.0",
         "Y"
        ]
       ],
       "shape": {
        "columns": 3,
        "rows": 5
       }
      },
      "text/html": [
       "<div>\n",
       "<style scoped>\n",
       "    .dataframe tbody tr th:only-of-type {\n",
       "        vertical-align: middle;\n",
       "    }\n",
       "\n",
       "    .dataframe tbody tr th {\n",
       "        vertical-align: top;\n",
       "    }\n",
       "\n",
       "    .dataframe thead th {\n",
       "        text-align: right;\n",
       "    }\n",
       "</style>\n",
       "<table border=\"1\" class=\"dataframe\">\n",
       "  <thead>\n",
       "    <tr style=\"text-align: right;\">\n",
       "      <th></th>\n",
       "      <th>Year</th>\n",
       "      <th>Total_population</th>\n",
       "      <th>Jan_flag</th>\n",
       "    </tr>\n",
       "  </thead>\n",
       "  <tbody>\n",
       "    <tr>\n",
       "      <th>0</th>\n",
       "      <td>1 de enero de 2024</td>\n",
       "      <td>48619695.0</td>\n",
       "      <td>Y</td>\n",
       "    </tr>\n",
       "    <tr>\n",
       "      <th>4</th>\n",
       "      <td>1 de enero de 2023</td>\n",
       "      <td>48085361.0</td>\n",
       "      <td>Y</td>\n",
       "    </tr>\n",
       "    <tr>\n",
       "      <th>8</th>\n",
       "      <td>1 de enero de 2022</td>\n",
       "      <td>47486727.0</td>\n",
       "      <td>Y</td>\n",
       "    </tr>\n",
       "    <tr>\n",
       "      <th>12</th>\n",
       "      <td>1 de enero de 2021</td>\n",
       "      <td>47400798.0</td>\n",
       "      <td>Y</td>\n",
       "    </tr>\n",
       "    <tr>\n",
       "      <th>16</th>\n",
       "      <td>1 de enero de 2020</td>\n",
       "      <td>47318050.0</td>\n",
       "      <td>Y</td>\n",
       "    </tr>\n",
       "  </tbody>\n",
       "</table>\n",
       "</div>"
      ],
      "text/plain": [
       "                  Year  Total_population Jan_flag\n",
       "0   1 de enero de 2024        48619695.0        Y\n",
       "4   1 de enero de 2023        48085361.0        Y\n",
       "8   1 de enero de 2022        47486727.0        Y\n",
       "12  1 de enero de 2021        47400798.0        Y\n",
       "16  1 de enero de 2020        47318050.0        Y"
      ]
     },
     "execution_count": 29,
     "metadata": {},
     "output_type": "execute_result"
    }
   ],
   "source": [
    "final_population_data.head()\n"
   ]
  },
  {
   "cell_type": "code",
   "execution_count": 31,
   "id": "e9c18575",
   "metadata": {},
   "outputs": [
    {
     "data": {
      "application/vnd.microsoft.datawrangler.viewer.v0+json": {
       "columns": [
        {
         "name": "index",
         "rawType": "int64",
         "type": "integer"
        },
        {
         "name": "Year",
         "rawType": "object",
         "type": "string"
        },
        {
         "name": "Total_population",
         "rawType": "float64",
         "type": "float"
        },
        {
         "name": "Jan_flag",
         "rawType": "object",
         "type": "string"
        }
       ],
       "ref": "e00fec2e-476e-495b-bfe5-02d9514bc777",
       "rows": [
        [
         "192",
         "1 de enero de 1976",
         "35946425.0",
         "Y"
        ],
        [
         "196",
         "1 de enero de 1975",
         "35569375.0",
         "Y"
        ],
        [
         "200",
         "1 de enero de 1974",
         "35177294.0",
         "Y"
        ],
        [
         "204",
         "1 de enero de 1973",
         "34800600.0",
         "Y"
        ],
        [
         "208",
         "1 de enero de 1972",
         "34408338.0",
         "Y"
        ]
       ],
       "shape": {
        "columns": 3,
        "rows": 5
       }
      },
      "text/html": [
       "<div>\n",
       "<style scoped>\n",
       "    .dataframe tbody tr th:only-of-type {\n",
       "        vertical-align: middle;\n",
       "    }\n",
       "\n",
       "    .dataframe tbody tr th {\n",
       "        vertical-align: top;\n",
       "    }\n",
       "\n",
       "    .dataframe thead th {\n",
       "        text-align: right;\n",
       "    }\n",
       "</style>\n",
       "<table border=\"1\" class=\"dataframe\">\n",
       "  <thead>\n",
       "    <tr style=\"text-align: right;\">\n",
       "      <th></th>\n",
       "      <th>Year</th>\n",
       "      <th>Total_population</th>\n",
       "      <th>Jan_flag</th>\n",
       "    </tr>\n",
       "  </thead>\n",
       "  <tbody>\n",
       "    <tr>\n",
       "      <th>192</th>\n",
       "      <td>1 de enero de 1976</td>\n",
       "      <td>35946425.0</td>\n",
       "      <td>Y</td>\n",
       "    </tr>\n",
       "    <tr>\n",
       "      <th>196</th>\n",
       "      <td>1 de enero de 1975</td>\n",
       "      <td>35569375.0</td>\n",
       "      <td>Y</td>\n",
       "    </tr>\n",
       "    <tr>\n",
       "      <th>200</th>\n",
       "      <td>1 de enero de 1974</td>\n",
       "      <td>35177294.0</td>\n",
       "      <td>Y</td>\n",
       "    </tr>\n",
       "    <tr>\n",
       "      <th>204</th>\n",
       "      <td>1 de enero de 1973</td>\n",
       "      <td>34800600.0</td>\n",
       "      <td>Y</td>\n",
       "    </tr>\n",
       "    <tr>\n",
       "      <th>208</th>\n",
       "      <td>1 de enero de 1972</td>\n",
       "      <td>34408338.0</td>\n",
       "      <td>Y</td>\n",
       "    </tr>\n",
       "  </tbody>\n",
       "</table>\n",
       "</div>"
      ],
      "text/plain": [
       "                   Year  Total_population Jan_flag\n",
       "192  1 de enero de 1976        35946425.0        Y\n",
       "196  1 de enero de 1975        35569375.0        Y\n",
       "200  1 de enero de 1974        35177294.0        Y\n",
       "204  1 de enero de 1973        34800600.0        Y\n",
       "208  1 de enero de 1972        34408338.0        Y"
      ]
     },
     "execution_count": 31,
     "metadata": {},
     "output_type": "execute_result"
    }
   ],
   "source": [
    "final_population_data.tail()"
   ]
  },
  {
   "cell_type": "markdown",
   "id": "b7f6d276",
   "metadata": {},
   "source": [
    "## 3. Creating new Date varaible from character columns  "
   ]
  },
  {
   "cell_type": "markdown",
   "id": "0512bcbc",
   "metadata": {},
   "source": [
    "- Display first column types"
   ]
  },
  {
   "cell_type": "code",
   "execution_count": null,
   "id": "3755f975",
   "metadata": {},
   "outputs": [
    {
     "data": {
      "text/plain": [
       "pandas.core.frame.DataFrame"
      ]
     },
     "execution_count": 32,
     "metadata": {},
     "output_type": "execute_result"
    }
   ],
   "source": [
    "type(final_population_data)"
   ]
  },
  {
   "cell_type": "markdown",
   "id": "076e29b7",
   "metadata": {},
   "source": [
    "- We can display different data types included in the Pandas DataFrame"
   ]
  },
  {
   "cell_type": "code",
   "execution_count": null,
   "id": "100d4195",
   "metadata": {},
   "outputs": [
    {
     "data": {
      "application/vnd.microsoft.datawrangler.viewer.v0+json": {
       "columns": [
        {
         "name": "index",
         "rawType": "object",
         "type": "string"
        },
        {
         "name": "0",
         "rawType": "object",
         "type": "unknown"
        }
       ],
       "ref": "6bdb0af5-4b74-45e6-b179-72bddd1772c6",
       "rows": [
        [
         "Year",
         "object"
        ],
        [
         "Total_population",
         "float64"
        ],
        [
         "Jan_flag",
         "object"
        ]
       ],
       "shape": {
        "columns": 1,
        "rows": 3
       }
      },
      "text/plain": [
       "Year                 object\n",
       "Total_population    float64\n",
       "Jan_flag             object\n",
       "dtype: object"
      ]
     },
     "execution_count": 30,
     "metadata": {},
     "output_type": "execute_result"
    }
   ],
   "source": [
    "final_population_data.dtypes"
   ]
  },
  {
   "cell_type": "markdown",
   "id": "a0be4213",
   "metadata": {},
   "source": [
    "- Create new varaibles subtracting sections of Year string column"
   ]
  },
  {
   "cell_type": "markdown",
   "id": "6dbee02f",
   "metadata": {},
   "source": [
    "- First I want a new column for the day (using str[:1]"
   ]
  },
  {
   "cell_type": "code",
   "execution_count": 34,
   "id": "89511b09",
   "metadata": {},
   "outputs": [
    {
     "name": "stderr",
     "output_type": "stream",
     "text": [
      "/tmp/ipykernel_7805/737695263.py:1: SettingWithCopyWarning: \n",
      "A value is trying to be set on a copy of a slice from a DataFrame.\n",
      "Try using .loc[row_indexer,col_indexer] = value instead\n",
      "\n",
      "See the caveats in the documentation: https://pandas.pydata.org/pandas-docs/stable/user_guide/indexing.html#returning-a-view-versus-a-copy\n",
      "  final_population_data['day'] = final_population_data['Year'].str[:1]\n"
     ]
    },
    {
     "data": {
      "application/vnd.microsoft.datawrangler.viewer.v0+json": {
       "columns": [
        {
         "name": "index",
         "rawType": "int64",
         "type": "integer"
        },
        {
         "name": "Year",
         "rawType": "object",
         "type": "string"
        },
        {
         "name": "Total_population",
         "rawType": "float64",
         "type": "float"
        },
        {
         "name": "Jan_flag",
         "rawType": "object",
         "type": "string"
        },
        {
         "name": "month",
         "rawType": "object",
         "type": "string"
        },
        {
         "name": "day",
         "rawType": "object",
         "type": "string"
        }
       ],
       "ref": "bdf59794-3e2b-4f3a-b741-2f955d57fc04",
       "rows": [
        [
         "0",
         "1 de enero de 2024",
         "48619695.0",
         "Y",
         "enero",
         "1"
        ],
        [
         "4",
         "1 de enero de 2023",
         "48085361.0",
         "Y",
         "enero",
         "1"
        ],
        [
         "8",
         "1 de enero de 2022",
         "47486727.0",
         "Y",
         "enero",
         "1"
        ],
        [
         "12",
         "1 de enero de 2021",
         "47400798.0",
         "Y",
         "enero",
         "1"
        ],
        [
         "16",
         "1 de enero de 2020",
         "47318050.0",
         "Y",
         "enero",
         "1"
        ]
       ],
       "shape": {
        "columns": 5,
        "rows": 5
       }
      },
      "text/html": [
       "<div>\n",
       "<style scoped>\n",
       "    .dataframe tbody tr th:only-of-type {\n",
       "        vertical-align: middle;\n",
       "    }\n",
       "\n",
       "    .dataframe tbody tr th {\n",
       "        vertical-align: top;\n",
       "    }\n",
       "\n",
       "    .dataframe thead th {\n",
       "        text-align: right;\n",
       "    }\n",
       "</style>\n",
       "<table border=\"1\" class=\"dataframe\">\n",
       "  <thead>\n",
       "    <tr style=\"text-align: right;\">\n",
       "      <th></th>\n",
       "      <th>Year</th>\n",
       "      <th>Total_population</th>\n",
       "      <th>Jan_flag</th>\n",
       "      <th>month</th>\n",
       "      <th>day</th>\n",
       "    </tr>\n",
       "  </thead>\n",
       "  <tbody>\n",
       "    <tr>\n",
       "      <th>0</th>\n",
       "      <td>1 de enero de 2024</td>\n",
       "      <td>48619695.0</td>\n",
       "      <td>Y</td>\n",
       "      <td>enero</td>\n",
       "      <td>1</td>\n",
       "    </tr>\n",
       "    <tr>\n",
       "      <th>4</th>\n",
       "      <td>1 de enero de 2023</td>\n",
       "      <td>48085361.0</td>\n",
       "      <td>Y</td>\n",
       "      <td>enero</td>\n",
       "      <td>1</td>\n",
       "    </tr>\n",
       "    <tr>\n",
       "      <th>8</th>\n",
       "      <td>1 de enero de 2022</td>\n",
       "      <td>47486727.0</td>\n",
       "      <td>Y</td>\n",
       "      <td>enero</td>\n",
       "      <td>1</td>\n",
       "    </tr>\n",
       "    <tr>\n",
       "      <th>12</th>\n",
       "      <td>1 de enero de 2021</td>\n",
       "      <td>47400798.0</td>\n",
       "      <td>Y</td>\n",
       "      <td>enero</td>\n",
       "      <td>1</td>\n",
       "    </tr>\n",
       "    <tr>\n",
       "      <th>16</th>\n",
       "      <td>1 de enero de 2020</td>\n",
       "      <td>47318050.0</td>\n",
       "      <td>Y</td>\n",
       "      <td>enero</td>\n",
       "      <td>1</td>\n",
       "    </tr>\n",
       "  </tbody>\n",
       "</table>\n",
       "</div>"
      ],
      "text/plain": [
       "                  Year  Total_population Jan_flag  month day\n",
       "0   1 de enero de 2024        48619695.0        Y  enero   1\n",
       "4   1 de enero de 2023        48085361.0        Y  enero   1\n",
       "8   1 de enero de 2022        47486727.0        Y  enero   1\n",
       "12  1 de enero de 2021        47400798.0        Y  enero   1\n",
       "16  1 de enero de 2020        47318050.0        Y  enero   1"
      ]
     },
     "execution_count": 34,
     "metadata": {},
     "output_type": "execute_result"
    }
   ],
   "source": [
    "final_population_data['day'] = final_population_data['Year'].str[:1]\n",
    "final_population_data.head()"
   ]
  },
  {
   "cell_type": "markdown",
   "id": "dee37aca",
   "metadata": {},
   "source": [
    "- Then We want a new variable to substract the Month "
   ]
  },
  {
   "cell_type": "code",
   "execution_count": 35,
   "id": "e882b67c",
   "metadata": {},
   "outputs": [
    {
     "name": "stderr",
     "output_type": "stream",
     "text": [
      "/tmp/ipykernel_7805/2604275464.py:1: SettingWithCopyWarning: \n",
      "A value is trying to be set on a copy of a slice from a DataFrame.\n",
      "Try using .loc[row_indexer,col_indexer] = value instead\n",
      "\n",
      "See the caveats in the documentation: https://pandas.pydata.org/pandas-docs/stable/user_guide/indexing.html#returning-a-view-versus-a-copy\n",
      "  final_population_data['month'] = final_population_data['Year'].str[5:10]\n"
     ]
    },
    {
     "data": {
      "application/vnd.microsoft.datawrangler.viewer.v0+json": {
       "columns": [
        {
         "name": "index",
         "rawType": "int64",
         "type": "integer"
        },
        {
         "name": "Year",
         "rawType": "object",
         "type": "string"
        },
        {
         "name": "Total_population",
         "rawType": "float64",
         "type": "float"
        },
        {
         "name": "Jan_flag",
         "rawType": "object",
         "type": "string"
        },
        {
         "name": "month",
         "rawType": "object",
         "type": "string"
        },
        {
         "name": "day",
         "rawType": "object",
         "type": "string"
        }
       ],
       "ref": "10ec64d6-a538-4b7a-9ed3-c0b46097fdaa",
       "rows": [
        [
         "0",
         "1 de enero de 2024",
         "48619695.0",
         "Y",
         "enero",
         "1"
        ],
        [
         "4",
         "1 de enero de 2023",
         "48085361.0",
         "Y",
         "enero",
         "1"
        ],
        [
         "8",
         "1 de enero de 2022",
         "47486727.0",
         "Y",
         "enero",
         "1"
        ],
        [
         "12",
         "1 de enero de 2021",
         "47400798.0",
         "Y",
         "enero",
         "1"
        ],
        [
         "16",
         "1 de enero de 2020",
         "47318050.0",
         "Y",
         "enero",
         "1"
        ]
       ],
       "shape": {
        "columns": 5,
        "rows": 5
       }
      },
      "text/html": [
       "<div>\n",
       "<style scoped>\n",
       "    .dataframe tbody tr th:only-of-type {\n",
       "        vertical-align: middle;\n",
       "    }\n",
       "\n",
       "    .dataframe tbody tr th {\n",
       "        vertical-align: top;\n",
       "    }\n",
       "\n",
       "    .dataframe thead th {\n",
       "        text-align: right;\n",
       "    }\n",
       "</style>\n",
       "<table border=\"1\" class=\"dataframe\">\n",
       "  <thead>\n",
       "    <tr style=\"text-align: right;\">\n",
       "      <th></th>\n",
       "      <th>Year</th>\n",
       "      <th>Total_population</th>\n",
       "      <th>Jan_flag</th>\n",
       "      <th>month</th>\n",
       "      <th>day</th>\n",
       "    </tr>\n",
       "  </thead>\n",
       "  <tbody>\n",
       "    <tr>\n",
       "      <th>0</th>\n",
       "      <td>1 de enero de 2024</td>\n",
       "      <td>48619695.0</td>\n",
       "      <td>Y</td>\n",
       "      <td>enero</td>\n",
       "      <td>1</td>\n",
       "    </tr>\n",
       "    <tr>\n",
       "      <th>4</th>\n",
       "      <td>1 de enero de 2023</td>\n",
       "      <td>48085361.0</td>\n",
       "      <td>Y</td>\n",
       "      <td>enero</td>\n",
       "      <td>1</td>\n",
       "    </tr>\n",
       "    <tr>\n",
       "      <th>8</th>\n",
       "      <td>1 de enero de 2022</td>\n",
       "      <td>47486727.0</td>\n",
       "      <td>Y</td>\n",
       "      <td>enero</td>\n",
       "      <td>1</td>\n",
       "    </tr>\n",
       "    <tr>\n",
       "      <th>12</th>\n",
       "      <td>1 de enero de 2021</td>\n",
       "      <td>47400798.0</td>\n",
       "      <td>Y</td>\n",
       "      <td>enero</td>\n",
       "      <td>1</td>\n",
       "    </tr>\n",
       "    <tr>\n",
       "      <th>16</th>\n",
       "      <td>1 de enero de 2020</td>\n",
       "      <td>47318050.0</td>\n",
       "      <td>Y</td>\n",
       "      <td>enero</td>\n",
       "      <td>1</td>\n",
       "    </tr>\n",
       "  </tbody>\n",
       "</table>\n",
       "</div>"
      ],
      "text/plain": [
       "                  Year  Total_population Jan_flag  month day\n",
       "0   1 de enero de 2024        48619695.0        Y  enero   1\n",
       "4   1 de enero de 2023        48085361.0        Y  enero   1\n",
       "8   1 de enero de 2022        47486727.0        Y  enero   1\n",
       "12  1 de enero de 2021        47400798.0        Y  enero   1\n",
       "16  1 de enero de 2020        47318050.0        Y  enero   1"
      ]
     },
     "execution_count": 35,
     "metadata": {},
     "output_type": "execute_result"
    }
   ],
   "source": [
    "final_population_data['month'] = final_population_data['Year'].str[5:10]\n",
    "final_population_data.head()"
   ]
  },
  {
   "cell_type": "markdown",
   "id": "5b4e0e36",
   "metadata": {},
   "source": [
    "- Finally we will extract the year from Year column  "
   ]
  },
  {
   "cell_type": "code",
   "execution_count": 36,
   "id": "91c6706b",
   "metadata": {},
   "outputs": [
    {
     "name": "stderr",
     "output_type": "stream",
     "text": [
      "/tmp/ipykernel_7805/947643015.py:1: SettingWithCopyWarning: \n",
      "A value is trying to be set on a copy of a slice from a DataFrame.\n",
      "Try using .loc[row_indexer,col_indexer] = value instead\n",
      "\n",
      "See the caveats in the documentation: https://pandas.pydata.org/pandas-docs/stable/user_guide/indexing.html#returning-a-view-versus-a-copy\n",
      "  final_population_data['year'] = final_population_data['Year'].str[-4:]\n"
     ]
    },
    {
     "data": {
      "application/vnd.microsoft.datawrangler.viewer.v0+json": {
       "columns": [
        {
         "name": "index",
         "rawType": "int64",
         "type": "integer"
        },
        {
         "name": "Year",
         "rawType": "object",
         "type": "string"
        },
        {
         "name": "Total_population",
         "rawType": "float64",
         "type": "float"
        },
        {
         "name": "Jan_flag",
         "rawType": "object",
         "type": "string"
        },
        {
         "name": "month",
         "rawType": "object",
         "type": "string"
        },
        {
         "name": "day",
         "rawType": "object",
         "type": "string"
        },
        {
         "name": "year",
         "rawType": "object",
         "type": "string"
        }
       ],
       "ref": "4e6842bf-9382-4c95-939e-5fbc0621626b",
       "rows": [
        [
         "0",
         "1 de enero de 2024",
         "48619695.0",
         "Y",
         "enero",
         "1",
         "2024"
        ],
        [
         "4",
         "1 de enero de 2023",
         "48085361.0",
         "Y",
         "enero",
         "1",
         "2023"
        ],
        [
         "8",
         "1 de enero de 2022",
         "47486727.0",
         "Y",
         "enero",
         "1",
         "2022"
        ],
        [
         "12",
         "1 de enero de 2021",
         "47400798.0",
         "Y",
         "enero",
         "1",
         "2021"
        ],
        [
         "16",
         "1 de enero de 2020",
         "47318050.0",
         "Y",
         "enero",
         "1",
         "2020"
        ]
       ],
       "shape": {
        "columns": 6,
        "rows": 5
       }
      },
      "text/html": [
       "<div>\n",
       "<style scoped>\n",
       "    .dataframe tbody tr th:only-of-type {\n",
       "        vertical-align: middle;\n",
       "    }\n",
       "\n",
       "    .dataframe tbody tr th {\n",
       "        vertical-align: top;\n",
       "    }\n",
       "\n",
       "    .dataframe thead th {\n",
       "        text-align: right;\n",
       "    }\n",
       "</style>\n",
       "<table border=\"1\" class=\"dataframe\">\n",
       "  <thead>\n",
       "    <tr style=\"text-align: right;\">\n",
       "      <th></th>\n",
       "      <th>Year</th>\n",
       "      <th>Total_population</th>\n",
       "      <th>Jan_flag</th>\n",
       "      <th>month</th>\n",
       "      <th>day</th>\n",
       "      <th>year</th>\n",
       "    </tr>\n",
       "  </thead>\n",
       "  <tbody>\n",
       "    <tr>\n",
       "      <th>0</th>\n",
       "      <td>1 de enero de 2024</td>\n",
       "      <td>48619695.0</td>\n",
       "      <td>Y</td>\n",
       "      <td>enero</td>\n",
       "      <td>1</td>\n",
       "      <td>2024</td>\n",
       "    </tr>\n",
       "    <tr>\n",
       "      <th>4</th>\n",
       "      <td>1 de enero de 2023</td>\n",
       "      <td>48085361.0</td>\n",
       "      <td>Y</td>\n",
       "      <td>enero</td>\n",
       "      <td>1</td>\n",
       "      <td>2023</td>\n",
       "    </tr>\n",
       "    <tr>\n",
       "      <th>8</th>\n",
       "      <td>1 de enero de 2022</td>\n",
       "      <td>47486727.0</td>\n",
       "      <td>Y</td>\n",
       "      <td>enero</td>\n",
       "      <td>1</td>\n",
       "      <td>2022</td>\n",
       "    </tr>\n",
       "    <tr>\n",
       "      <th>12</th>\n",
       "      <td>1 de enero de 2021</td>\n",
       "      <td>47400798.0</td>\n",
       "      <td>Y</td>\n",
       "      <td>enero</td>\n",
       "      <td>1</td>\n",
       "      <td>2021</td>\n",
       "    </tr>\n",
       "    <tr>\n",
       "      <th>16</th>\n",
       "      <td>1 de enero de 2020</td>\n",
       "      <td>47318050.0</td>\n",
       "      <td>Y</td>\n",
       "      <td>enero</td>\n",
       "      <td>1</td>\n",
       "      <td>2020</td>\n",
       "    </tr>\n",
       "  </tbody>\n",
       "</table>\n",
       "</div>"
      ],
      "text/plain": [
       "                  Year  Total_population Jan_flag  month day  year\n",
       "0   1 de enero de 2024        48619695.0        Y  enero   1  2024\n",
       "4   1 de enero de 2023        48085361.0        Y  enero   1  2023\n",
       "8   1 de enero de 2022        47486727.0        Y  enero   1  2022\n",
       "12  1 de enero de 2021        47400798.0        Y  enero   1  2021\n",
       "16  1 de enero de 2020        47318050.0        Y  enero   1  2020"
      ]
     },
     "execution_count": 36,
     "metadata": {},
     "output_type": "execute_result"
    }
   ],
   "source": [
    "final_population_data['year'] = final_population_data['Year'].str[-4:]\n",
    "final_population_data.head()"
   ]
  },
  {
   "cell_type": "markdown",
   "id": "5782e407",
   "metadata": {},
   "source": [
    "- Then I will recode month from \"enero\" that is January into 01 to be able to use pd.to_datetime() in the next step"
   ]
  },
  {
   "cell_type": "markdown",
   "id": "3cfad705",
   "metadata": {},
   "source": [
    "### 3.1 Now I have ro recode month variable to display numeric value before creating a new Date variable"
   ]
  },
  {
   "cell_type": "markdown",
   "id": "91dc4c21",
   "metadata": {},
   "source": [
    " Then I will combine those separate [\"year\"], [\"month\"] and [\"day\"] columns into a proper Python date variable using the pd.to_datetime() method."
   ]
  },
  {
   "cell_type": "code",
   "execution_count": 37,
   "id": "21998cea",
   "metadata": {},
   "outputs": [
    {
     "data": {
      "application/vnd.microsoft.datawrangler.viewer.v0+json": {
       "columns": [
        {
         "name": "index",
         "rawType": "int64",
         "type": "integer"
        },
        {
         "name": "Year",
         "rawType": "object",
         "type": "string"
        },
        {
         "name": "Total_population",
         "rawType": "float64",
         "type": "float"
        },
        {
         "name": "Jan_flag",
         "rawType": "object",
         "type": "string"
        },
        {
         "name": "month",
         "rawType": "object",
         "type": "string"
        },
        {
         "name": "day",
         "rawType": "object",
         "type": "string"
        },
        {
         "name": "year",
         "rawType": "object",
         "type": "string"
        }
       ],
       "ref": "c1bc6b0b-263b-4db3-aaca-4762e24f8fc5",
       "rows": [
        [
         "0",
         "1 de enero de 2024",
         "48619695.0",
         "Y",
         "enero",
         "1",
         "2024"
        ],
        [
         "4",
         "1 de enero de 2023",
         "48085361.0",
         "Y",
         "enero",
         "1",
         "2023"
        ],
        [
         "8",
         "1 de enero de 2022",
         "47486727.0",
         "Y",
         "enero",
         "1",
         "2022"
        ],
        [
         "12",
         "1 de enero de 2021",
         "47400798.0",
         "Y",
         "enero",
         "1",
         "2021"
        ],
        [
         "16",
         "1 de enero de 2020",
         "47318050.0",
         "Y",
         "enero",
         "1",
         "2020"
        ]
       ],
       "shape": {
        "columns": 6,
        "rows": 5
       }
      },
      "text/html": [
       "<div>\n",
       "<style scoped>\n",
       "    .dataframe tbody tr th:only-of-type {\n",
       "        vertical-align: middle;\n",
       "    }\n",
       "\n",
       "    .dataframe tbody tr th {\n",
       "        vertical-align: top;\n",
       "    }\n",
       "\n",
       "    .dataframe thead th {\n",
       "        text-align: right;\n",
       "    }\n",
       "</style>\n",
       "<table border=\"1\" class=\"dataframe\">\n",
       "  <thead>\n",
       "    <tr style=\"text-align: right;\">\n",
       "      <th></th>\n",
       "      <th>Year</th>\n",
       "      <th>Total_population</th>\n",
       "      <th>Jan_flag</th>\n",
       "      <th>month</th>\n",
       "      <th>day</th>\n",
       "      <th>year</th>\n",
       "    </tr>\n",
       "  </thead>\n",
       "  <tbody>\n",
       "    <tr>\n",
       "      <th>0</th>\n",
       "      <td>1 de enero de 2024</td>\n",
       "      <td>48619695.0</td>\n",
       "      <td>Y</td>\n",
       "      <td>enero</td>\n",
       "      <td>1</td>\n",
       "      <td>2024</td>\n",
       "    </tr>\n",
       "    <tr>\n",
       "      <th>4</th>\n",
       "      <td>1 de enero de 2023</td>\n",
       "      <td>48085361.0</td>\n",
       "      <td>Y</td>\n",
       "      <td>enero</td>\n",
       "      <td>1</td>\n",
       "      <td>2023</td>\n",
       "    </tr>\n",
       "    <tr>\n",
       "      <th>8</th>\n",
       "      <td>1 de enero de 2022</td>\n",
       "      <td>47486727.0</td>\n",
       "      <td>Y</td>\n",
       "      <td>enero</td>\n",
       "      <td>1</td>\n",
       "      <td>2022</td>\n",
       "    </tr>\n",
       "    <tr>\n",
       "      <th>12</th>\n",
       "      <td>1 de enero de 2021</td>\n",
       "      <td>47400798.0</td>\n",
       "      <td>Y</td>\n",
       "      <td>enero</td>\n",
       "      <td>1</td>\n",
       "      <td>2021</td>\n",
       "    </tr>\n",
       "    <tr>\n",
       "      <th>16</th>\n",
       "      <td>1 de enero de 2020</td>\n",
       "      <td>47318050.0</td>\n",
       "      <td>Y</td>\n",
       "      <td>enero</td>\n",
       "      <td>1</td>\n",
       "      <td>2020</td>\n",
       "    </tr>\n",
       "  </tbody>\n",
       "</table>\n",
       "</div>"
      ],
      "text/plain": [
       "                  Year  Total_population Jan_flag  month day  year\n",
       "0   1 de enero de 2024        48619695.0        Y  enero   1  2024\n",
       "4   1 de enero de 2023        48085361.0        Y  enero   1  2023\n",
       "8   1 de enero de 2022        47486727.0        Y  enero   1  2022\n",
       "12  1 de enero de 2021        47400798.0        Y  enero   1  2021\n",
       "16  1 de enero de 2020        47318050.0        Y  enero   1  2020"
      ]
     },
     "execution_count": 37,
     "metadata": {},
     "output_type": "execute_result"
    }
   ],
   "source": [
    "final_population_data.head()"
   ]
  },
  {
   "cell_type": "code",
   "execution_count": 38,
   "id": "cbc31eb0",
   "metadata": {},
   "outputs": [
    {
     "data": {
      "application/vnd.microsoft.datawrangler.viewer.v0+json": {
       "columns": [
        {
         "name": "index",
         "rawType": "int64",
         "type": "integer"
        },
        {
         "name": "Year",
         "rawType": "object",
         "type": "string"
        },
        {
         "name": "Total_population",
         "rawType": "float64",
         "type": "float"
        },
        {
         "name": "Jan_flag",
         "rawType": "object",
         "type": "string"
        },
        {
         "name": "month",
         "rawType": "object",
         "type": "string"
        },
        {
         "name": "day",
         "rawType": "object",
         "type": "string"
        },
        {
         "name": "year",
         "rawType": "object",
         "type": "string"
        }
       ],
       "ref": "55037e79-9db3-472c-ade4-21d2a4af55d5",
       "rows": [
        [
         "0",
         "1 de enero de 2024",
         "48619695.0",
         "Y",
         "enero",
         "1",
         "2024"
        ],
        [
         "4",
         "1 de enero de 2023",
         "48085361.0",
         "Y",
         "enero",
         "1",
         "2023"
        ],
        [
         "8",
         "1 de enero de 2022",
         "47486727.0",
         "Y",
         "enero",
         "1",
         "2022"
        ],
        [
         "12",
         "1 de enero de 2021",
         "47400798.0",
         "Y",
         "enero",
         "1",
         "2021"
        ],
        [
         "16",
         "1 de enero de 2020",
         "47318050.0",
         "Y",
         "enero",
         "1",
         "2020"
        ]
       ],
       "shape": {
        "columns": 6,
        "rows": 5
       }
      },
      "text/html": [
       "<div>\n",
       "<style scoped>\n",
       "    .dataframe tbody tr th:only-of-type {\n",
       "        vertical-align: middle;\n",
       "    }\n",
       "\n",
       "    .dataframe tbody tr th {\n",
       "        vertical-align: top;\n",
       "    }\n",
       "\n",
       "    .dataframe thead th {\n",
       "        text-align: right;\n",
       "    }\n",
       "</style>\n",
       "<table border=\"1\" class=\"dataframe\">\n",
       "  <thead>\n",
       "    <tr style=\"text-align: right;\">\n",
       "      <th></th>\n",
       "      <th>Year</th>\n",
       "      <th>Total_population</th>\n",
       "      <th>Jan_flag</th>\n",
       "      <th>month</th>\n",
       "      <th>day</th>\n",
       "      <th>year</th>\n",
       "    </tr>\n",
       "  </thead>\n",
       "  <tbody>\n",
       "    <tr>\n",
       "      <th>0</th>\n",
       "      <td>1 de enero de 2024</td>\n",
       "      <td>48619695.0</td>\n",
       "      <td>Y</td>\n",
       "      <td>enero</td>\n",
       "      <td>1</td>\n",
       "      <td>2024</td>\n",
       "    </tr>\n",
       "    <tr>\n",
       "      <th>4</th>\n",
       "      <td>1 de enero de 2023</td>\n",
       "      <td>48085361.0</td>\n",
       "      <td>Y</td>\n",
       "      <td>enero</td>\n",
       "      <td>1</td>\n",
       "      <td>2023</td>\n",
       "    </tr>\n",
       "    <tr>\n",
       "      <th>8</th>\n",
       "      <td>1 de enero de 2022</td>\n",
       "      <td>47486727.0</td>\n",
       "      <td>Y</td>\n",
       "      <td>enero</td>\n",
       "      <td>1</td>\n",
       "      <td>2022</td>\n",
       "    </tr>\n",
       "    <tr>\n",
       "      <th>12</th>\n",
       "      <td>1 de enero de 2021</td>\n",
       "      <td>47400798.0</td>\n",
       "      <td>Y</td>\n",
       "      <td>enero</td>\n",
       "      <td>1</td>\n",
       "      <td>2021</td>\n",
       "    </tr>\n",
       "    <tr>\n",
       "      <th>16</th>\n",
       "      <td>1 de enero de 2020</td>\n",
       "      <td>47318050.0</td>\n",
       "      <td>Y</td>\n",
       "      <td>enero</td>\n",
       "      <td>1</td>\n",
       "      <td>2020</td>\n",
       "    </tr>\n",
       "  </tbody>\n",
       "</table>\n",
       "</div>"
      ],
      "text/plain": [
       "                  Year  Total_population Jan_flag  month day  year\n",
       "0   1 de enero de 2024        48619695.0        Y  enero   1  2024\n",
       "4   1 de enero de 2023        48085361.0        Y  enero   1  2023\n",
       "8   1 de enero de 2022        47486727.0        Y  enero   1  2022\n",
       "12  1 de enero de 2021        47400798.0        Y  enero   1  2021\n",
       "16  1 de enero de 2020        47318050.0        Y  enero   1  2020"
      ]
     },
     "execution_count": 38,
     "metadata": {},
     "output_type": "execute_result"
    }
   ],
   "source": [
    "new_date_variable = final_population_data.copy()\n",
    "new_date_variable.head()"
   ]
  },
  {
   "cell_type": "code",
   "execution_count": null,
   "id": "70135465",
   "metadata": {},
   "outputs": [
    {
     "data": {
      "application/vnd.microsoft.datawrangler.viewer.v0+json": {
       "columns": [
        {
         "name": "index",
         "rawType": "int64",
         "type": "integer"
        },
        {
         "name": "Year",
         "rawType": "object",
         "type": "string"
        },
        {
         "name": "Total_population",
         "rawType": "float64",
         "type": "float"
        },
        {
         "name": "Jan_flag",
         "rawType": "object",
         "type": "string"
        },
        {
         "name": "month",
         "rawType": "object",
         "type": "string"
        },
        {
         "name": "day",
         "rawType": "object",
         "type": "string"
        },
        {
         "name": "year",
         "rawType": "object",
         "type": "string"
        },
        {
         "name": "month_num",
         "rawType": "object",
         "type": "string"
        }
       ],
       "ref": "51b32933-6267-4484-9e3d-39d6b5054323",
       "rows": [
        [
         "0",
         "1 de enero de 2024",
         "48619695.0",
         "Y",
         "enero",
         "1",
         "2024",
         "1"
        ],
        [
         "4",
         "1 de enero de 2023",
         "48085361.0",
         "Y",
         "enero",
         "1",
         "2023",
         "1"
        ],
        [
         "8",
         "1 de enero de 2022",
         "47486727.0",
         "Y",
         "enero",
         "1",
         "2022",
         "1"
        ],
        [
         "12",
         "1 de enero de 2021",
         "47400798.0",
         "Y",
         "enero",
         "1",
         "2021",
         "1"
        ],
        [
         "16",
         "1 de enero de 2020",
         "47318050.0",
         "Y",
         "enero",
         "1",
         "2020",
         "1"
        ]
       ],
       "shape": {
        "columns": 7,
        "rows": 5
       }
      },
      "text/html": [
       "<div>\n",
       "<style scoped>\n",
       "    .dataframe tbody tr th:only-of-type {\n",
       "        vertical-align: middle;\n",
       "    }\n",
       "\n",
       "    .dataframe tbody tr th {\n",
       "        vertical-align: top;\n",
       "    }\n",
       "\n",
       "    .dataframe thead th {\n",
       "        text-align: right;\n",
       "    }\n",
       "</style>\n",
       "<table border=\"1\" class=\"dataframe\">\n",
       "  <thead>\n",
       "    <tr style=\"text-align: right;\">\n",
       "      <th></th>\n",
       "      <th>Year</th>\n",
       "      <th>Total_population</th>\n",
       "      <th>Jan_flag</th>\n",
       "      <th>month</th>\n",
       "      <th>day</th>\n",
       "      <th>year</th>\n",
       "      <th>month_num</th>\n",
       "    </tr>\n",
       "  </thead>\n",
       "  <tbody>\n",
       "    <tr>\n",
       "      <th>0</th>\n",
       "      <td>1 de enero de 2024</td>\n",
       "      <td>48619695.0</td>\n",
       "      <td>Y</td>\n",
       "      <td>enero</td>\n",
       "      <td>1</td>\n",
       "      <td>2024</td>\n",
       "      <td>1</td>\n",
       "    </tr>\n",
       "    <tr>\n",
       "      <th>4</th>\n",
       "      <td>1 de enero de 2023</td>\n",
       "      <td>48085361.0</td>\n",
       "      <td>Y</td>\n",
       "      <td>enero</td>\n",
       "      <td>1</td>\n",
       "      <td>2023</td>\n",
       "      <td>1</td>\n",
       "    </tr>\n",
       "    <tr>\n",
       "      <th>8</th>\n",
       "      <td>1 de enero de 2022</td>\n",
       "      <td>47486727.0</td>\n",
       "      <td>Y</td>\n",
       "      <td>enero</td>\n",
       "      <td>1</td>\n",
       "      <td>2022</td>\n",
       "      <td>1</td>\n",
       "    </tr>\n",
       "    <tr>\n",
       "      <th>12</th>\n",
       "      <td>1 de enero de 2021</td>\n",
       "      <td>47400798.0</td>\n",
       "      <td>Y</td>\n",
       "      <td>enero</td>\n",
       "      <td>1</td>\n",
       "      <td>2021</td>\n",
       "      <td>1</td>\n",
       "    </tr>\n",
       "    <tr>\n",
       "      <th>16</th>\n",
       "      <td>1 de enero de 2020</td>\n",
       "      <td>47318050.0</td>\n",
       "      <td>Y</td>\n",
       "      <td>enero</td>\n",
       "      <td>1</td>\n",
       "      <td>2020</td>\n",
       "      <td>1</td>\n",
       "    </tr>\n",
       "  </tbody>\n",
       "</table>\n",
       "</div>"
      ],
      "text/plain": [
       "                  Year  Total_population Jan_flag  month day  year month_num\n",
       "0   1 de enero de 2024        48619695.0        Y  enero   1  2024         1\n",
       "4   1 de enero de 2023        48085361.0        Y  enero   1  2023         1\n",
       "8   1 de enero de 2022        47486727.0        Y  enero   1  2022         1\n",
       "12  1 de enero de 2021        47400798.0        Y  enero   1  2021         1\n",
       "16  1 de enero de 2020        47318050.0        Y  enero   1  2020         1"
      ]
     },
     "execution_count": 49,
     "metadata": {},
     "output_type": "execute_result"
    }
   ],
   "source": [
    "# Recoding month to string\n",
    "# As I only have one value to recode, I will use a lambda function\n",
    "new_date_variable['month_num']=new_date_variable['month'].apply(lambda x:\"1\" if x=='enero' else 0)\n",
    "new_date_variable.head()"
   ]
  },
  {
   "cell_type": "markdown",
   "id": "a8e47269",
   "metadata": {},
   "source": [
    "- From the above dataframe, I will subset \"Total_population\", \"day\", \"month_num\" and \"year\" to combine the latest three ones into a new datetime variable. I will convert those three string variables into a datetime."
   ]
  },
  {
   "cell_type": "code",
   "execution_count": 50,
   "id": "7b125352",
   "metadata": {},
   "outputs": [
    {
     "data": {
      "application/vnd.microsoft.datawrangler.viewer.v0+json": {
       "columns": [
        {
         "name": "index",
         "rawType": "int64",
         "type": "integer"
        },
        {
         "name": "Total_population",
         "rawType": "float64",
         "type": "float"
        },
        {
         "name": "Jan_flag",
         "rawType": "object",
         "type": "string"
        },
        {
         "name": "day",
         "rawType": "object",
         "type": "string"
        },
        {
         "name": "month_num",
         "rawType": "object",
         "type": "string"
        },
        {
         "name": "year",
         "rawType": "object",
         "type": "string"
        }
       ],
       "ref": "48c76bfc-5aba-4b6e-9af1-6f058bb29667",
       "rows": [
        [
         "0",
         "48619695.0",
         "Y",
         "1",
         "1",
         "2024"
        ],
        [
         "4",
         "48085361.0",
         "Y",
         "1",
         "1",
         "2023"
        ],
        [
         "8",
         "47486727.0",
         "Y",
         "1",
         "1",
         "2022"
        ],
        [
         "12",
         "47400798.0",
         "Y",
         "1",
         "1",
         "2021"
        ],
        [
         "16",
         "47318050.0",
         "Y",
         "1",
         "1",
         "2020"
        ]
       ],
       "shape": {
        "columns": 5,
        "rows": 5
       }
      },
      "text/html": [
       "<div>\n",
       "<style scoped>\n",
       "    .dataframe tbody tr th:only-of-type {\n",
       "        vertical-align: middle;\n",
       "    }\n",
       "\n",
       "    .dataframe tbody tr th {\n",
       "        vertical-align: top;\n",
       "    }\n",
       "\n",
       "    .dataframe thead th {\n",
       "        text-align: right;\n",
       "    }\n",
       "</style>\n",
       "<table border=\"1\" class=\"dataframe\">\n",
       "  <thead>\n",
       "    <tr style=\"text-align: right;\">\n",
       "      <th></th>\n",
       "      <th>Total_population</th>\n",
       "      <th>Jan_flag</th>\n",
       "      <th>day</th>\n",
       "      <th>month_num</th>\n",
       "      <th>year</th>\n",
       "    </tr>\n",
       "  </thead>\n",
       "  <tbody>\n",
       "    <tr>\n",
       "      <th>0</th>\n",
       "      <td>48619695.0</td>\n",
       "      <td>Y</td>\n",
       "      <td>1</td>\n",
       "      <td>1</td>\n",
       "      <td>2024</td>\n",
       "    </tr>\n",
       "    <tr>\n",
       "      <th>4</th>\n",
       "      <td>48085361.0</td>\n",
       "      <td>Y</td>\n",
       "      <td>1</td>\n",
       "      <td>1</td>\n",
       "      <td>2023</td>\n",
       "    </tr>\n",
       "    <tr>\n",
       "      <th>8</th>\n",
       "      <td>47486727.0</td>\n",
       "      <td>Y</td>\n",
       "      <td>1</td>\n",
       "      <td>1</td>\n",
       "      <td>2022</td>\n",
       "    </tr>\n",
       "    <tr>\n",
       "      <th>12</th>\n",
       "      <td>47400798.0</td>\n",
       "      <td>Y</td>\n",
       "      <td>1</td>\n",
       "      <td>1</td>\n",
       "      <td>2021</td>\n",
       "    </tr>\n",
       "    <tr>\n",
       "      <th>16</th>\n",
       "      <td>47318050.0</td>\n",
       "      <td>Y</td>\n",
       "      <td>1</td>\n",
       "      <td>1</td>\n",
       "      <td>2020</td>\n",
       "    </tr>\n",
       "  </tbody>\n",
       "</table>\n",
       "</div>"
      ],
      "text/plain": [
       "    Total_population Jan_flag day month_num  year\n",
       "0         48619695.0        Y   1         1  2024\n",
       "4         48085361.0        Y   1         1  2023\n",
       "8         47486727.0        Y   1         1  2022\n",
       "12        47400798.0        Y   1         1  2021\n",
       "16        47318050.0        Y   1         1  2020"
      ]
     },
     "execution_count": 50,
     "metadata": {},
     "output_type": "execute_result"
    }
   ],
   "source": [
    "new_date_var_creation = new_date_variable[['Total_population','Jan_flag','day','month_num','year']]\n",
    "new_date_var_creation.head()\n"
   ]
  },
  {
   "cell_type": "markdown",
   "id": "dc66426f",
   "metadata": {},
   "source": [
    "- After subsetting the original dataframe is it good practise to reset index. Used drop = True to avoid duplicated indexes."
   ]
  },
  {
   "cell_type": "code",
   "execution_count": 51,
   "id": "32e76f79",
   "metadata": {},
   "outputs": [
    {
     "data": {
      "application/vnd.microsoft.datawrangler.viewer.v0+json": {
       "columns": [
        {
         "name": "index",
         "rawType": "int64",
         "type": "integer"
        },
        {
         "name": "Total_population",
         "rawType": "float64",
         "type": "float"
        },
        {
         "name": "Jan_flag",
         "rawType": "object",
         "type": "string"
        },
        {
         "name": "day",
         "rawType": "object",
         "type": "string"
        },
        {
         "name": "month_num",
         "rawType": "object",
         "type": "string"
        },
        {
         "name": "year",
         "rawType": "object",
         "type": "string"
        }
       ],
       "ref": "8676f560-863d-4b37-9e4a-3bdc4bae4514",
       "rows": [
        [
         "0",
         "48619695.0",
         "Y",
         "1",
         "1",
         "2024"
        ],
        [
         "1",
         "48085361.0",
         "Y",
         "1",
         "1",
         "2023"
        ],
        [
         "2",
         "47486727.0",
         "Y",
         "1",
         "1",
         "2022"
        ],
        [
         "3",
         "47400798.0",
         "Y",
         "1",
         "1",
         "2021"
        ],
        [
         "4",
         "47318050.0",
         "Y",
         "1",
         "1",
         "2020"
        ]
       ],
       "shape": {
        "columns": 5,
        "rows": 5
       }
      },
      "text/html": [
       "<div>\n",
       "<style scoped>\n",
       "    .dataframe tbody tr th:only-of-type {\n",
       "        vertical-align: middle;\n",
       "    }\n",
       "\n",
       "    .dataframe tbody tr th {\n",
       "        vertical-align: top;\n",
       "    }\n",
       "\n",
       "    .dataframe thead th {\n",
       "        text-align: right;\n",
       "    }\n",
       "</style>\n",
       "<table border=\"1\" class=\"dataframe\">\n",
       "  <thead>\n",
       "    <tr style=\"text-align: right;\">\n",
       "      <th></th>\n",
       "      <th>Total_population</th>\n",
       "      <th>Jan_flag</th>\n",
       "      <th>day</th>\n",
       "      <th>month_num</th>\n",
       "      <th>year</th>\n",
       "    </tr>\n",
       "  </thead>\n",
       "  <tbody>\n",
       "    <tr>\n",
       "      <th>0</th>\n",
       "      <td>48619695.0</td>\n",
       "      <td>Y</td>\n",
       "      <td>1</td>\n",
       "      <td>1</td>\n",
       "      <td>2024</td>\n",
       "    </tr>\n",
       "    <tr>\n",
       "      <th>1</th>\n",
       "      <td>48085361.0</td>\n",
       "      <td>Y</td>\n",
       "      <td>1</td>\n",
       "      <td>1</td>\n",
       "      <td>2023</td>\n",
       "    </tr>\n",
       "    <tr>\n",
       "      <th>2</th>\n",
       "      <td>47486727.0</td>\n",
       "      <td>Y</td>\n",
       "      <td>1</td>\n",
       "      <td>1</td>\n",
       "      <td>2022</td>\n",
       "    </tr>\n",
       "    <tr>\n",
       "      <th>3</th>\n",
       "      <td>47400798.0</td>\n",
       "      <td>Y</td>\n",
       "      <td>1</td>\n",
       "      <td>1</td>\n",
       "      <td>2021</td>\n",
       "    </tr>\n",
       "    <tr>\n",
       "      <th>4</th>\n",
       "      <td>47318050.0</td>\n",
       "      <td>Y</td>\n",
       "      <td>1</td>\n",
       "      <td>1</td>\n",
       "      <td>2020</td>\n",
       "    </tr>\n",
       "  </tbody>\n",
       "</table>\n",
       "</div>"
      ],
      "text/plain": [
       "   Total_population Jan_flag day month_num  year\n",
       "0        48619695.0        Y   1         1  2024\n",
       "1        48085361.0        Y   1         1  2023\n",
       "2        47486727.0        Y   1         1  2022\n",
       "3        47400798.0        Y   1         1  2021\n",
       "4        47318050.0        Y   1         1  2020"
      ]
     },
     "execution_count": 51,
     "metadata": {},
     "output_type": "execute_result"
    }
   ],
   "source": [
    "new_date_var_creation_reset = new_date_var_creation.reset_index(drop = True)\n",
    "new_date_var_creation_reset.head()"
   ]
  },
  {
   "cell_type": "code",
   "execution_count": 47,
   "id": "cf1c5113",
   "metadata": {},
   "outputs": [
    {
     "name": "stdout",
     "output_type": "stream",
     "text": [
      "<class 'pandas.core.frame.DataFrame'>\n",
      "Index: 53 entries, 0 to 208\n",
      "Data columns (total 5 columns):\n",
      " #   Column            Non-Null Count  Dtype  \n",
      "---  ------            --------------  -----  \n",
      " 0   Total_population  53 non-null     float64\n",
      " 1   Jan_flag          53 non-null     object \n",
      " 2   day               53 non-null     object \n",
      " 3   month_num         53 non-null     int64  \n",
      " 4   year              53 non-null     object \n",
      "dtypes: float64(1), int64(1), object(3)\n",
      "memory usage: 2.5+ KB\n"
     ]
    }
   ],
   "source": [
    "new_date_var_creation.info() "
   ]
  },
  {
   "cell_type": "markdown",
   "id": "1381fc38",
   "metadata": {},
   "source": [
    "### 3.2 Creting new Datetime variable from day month and year string columns"
   ]
  },
  {
   "cell_type": "markdown",
   "id": "eaae8342",
   "metadata": {},
   "source": [
    "- Subset variables to create new Datetime variable"
   ]
  },
  {
   "cell_type": "code",
   "execution_count": 54,
   "id": "e2d41624",
   "metadata": {},
   "outputs": [
    {
     "data": {
      "application/vnd.microsoft.datawrangler.viewer.v0+json": {
       "columns": [
        {
         "name": "index",
         "rawType": "int64",
         "type": "integer"
        },
        {
         "name": "Total_population",
         "rawType": "float64",
         "type": "float"
        },
        {
         "name": "day",
         "rawType": "object",
         "type": "string"
        },
        {
         "name": "month_num",
         "rawType": "object",
         "type": "string"
        },
        {
         "name": "year",
         "rawType": "object",
         "type": "string"
        }
       ],
       "ref": "990578cb-3da6-4fe3-99e9-e073887dd61c",
       "rows": [
        [
         "0",
         "48619695.0",
         "1",
         "1",
         "2024"
        ],
        [
         "4",
         "48085361.0",
         "1",
         "1",
         "2023"
        ],
        [
         "8",
         "47486727.0",
         "1",
         "1",
         "2022"
        ],
        [
         "12",
         "47400798.0",
         "1",
         "1",
         "2021"
        ],
        [
         "16",
         "47318050.0",
         "1",
         "1",
         "2020"
        ]
       ],
       "shape": {
        "columns": 4,
        "rows": 5
       }
      },
      "text/html": [
       "<div>\n",
       "<style scoped>\n",
       "    .dataframe tbody tr th:only-of-type {\n",
       "        vertical-align: middle;\n",
       "    }\n",
       "\n",
       "    .dataframe tbody tr th {\n",
       "        vertical-align: top;\n",
       "    }\n",
       "\n",
       "    .dataframe thead th {\n",
       "        text-align: right;\n",
       "    }\n",
       "</style>\n",
       "<table border=\"1\" class=\"dataframe\">\n",
       "  <thead>\n",
       "    <tr style=\"text-align: right;\">\n",
       "      <th></th>\n",
       "      <th>Total_population</th>\n",
       "      <th>day</th>\n",
       "      <th>month_num</th>\n",
       "      <th>year</th>\n",
       "    </tr>\n",
       "  </thead>\n",
       "  <tbody>\n",
       "    <tr>\n",
       "      <th>0</th>\n",
       "      <td>48619695.0</td>\n",
       "      <td>1</td>\n",
       "      <td>1</td>\n",
       "      <td>2024</td>\n",
       "    </tr>\n",
       "    <tr>\n",
       "      <th>4</th>\n",
       "      <td>48085361.0</td>\n",
       "      <td>1</td>\n",
       "      <td>1</td>\n",
       "      <td>2023</td>\n",
       "    </tr>\n",
       "    <tr>\n",
       "      <th>8</th>\n",
       "      <td>47486727.0</td>\n",
       "      <td>1</td>\n",
       "      <td>1</td>\n",
       "      <td>2022</td>\n",
       "    </tr>\n",
       "    <tr>\n",
       "      <th>12</th>\n",
       "      <td>47400798.0</td>\n",
       "      <td>1</td>\n",
       "      <td>1</td>\n",
       "      <td>2021</td>\n",
       "    </tr>\n",
       "    <tr>\n",
       "      <th>16</th>\n",
       "      <td>47318050.0</td>\n",
       "      <td>1</td>\n",
       "      <td>1</td>\n",
       "      <td>2020</td>\n",
       "    </tr>\n",
       "  </tbody>\n",
       "</table>\n",
       "</div>"
      ],
      "text/plain": [
       "    Total_population day month_num  year\n",
       "0         48619695.0   1         1  2024\n",
       "4         48085361.0   1         1  2023\n",
       "8         47486727.0   1         1  2022\n",
       "12        47400798.0   1         1  2021\n",
       "16        47318050.0   1         1  2020"
      ]
     },
     "execution_count": 54,
     "metadata": {},
     "output_type": "execute_result"
    }
   ],
   "source": [
    "new_date_var = new_date_var_creation[['Total_population','day','month_num','year']]\n",
    "new_date_var.head()"
   ]
  },
  {
   "cell_type": "markdown",
   "id": "57781b84",
   "metadata": {},
   "source": [
    "- concatenate individual date variables into a new column"
   ]
  },
  {
   "cell_type": "code",
   "execution_count": 55,
   "id": "3c2e5c78",
   "metadata": {},
   "outputs": [
    {
     "data": {
      "application/vnd.microsoft.datawrangler.viewer.v0+json": {
       "columns": [
        {
         "name": "index",
         "rawType": "int64",
         "type": "integer"
        },
        {
         "name": "Total_population",
         "rawType": "float64",
         "type": "float"
        },
        {
         "name": "day",
         "rawType": "object",
         "type": "string"
        },
        {
         "name": "month_num",
         "rawType": "object",
         "type": "string"
        },
        {
         "name": "year",
         "rawType": "object",
         "type": "string"
        },
        {
         "name": "date",
         "rawType": "object",
         "type": "string"
        }
       ],
       "ref": "9dc0bba6-05bd-4ca7-92ff-b94269db0989",
       "rows": [
        [
         "0",
         "48619695.0",
         "1",
         "1",
         "2024",
         "1/1/2024"
        ],
        [
         "4",
         "48085361.0",
         "1",
         "1",
         "2023",
         "1/1/2023"
        ],
        [
         "8",
         "47486727.0",
         "1",
         "1",
         "2022",
         "1/1/2022"
        ],
        [
         "12",
         "47400798.0",
         "1",
         "1",
         "2021",
         "1/1/2021"
        ],
        [
         "16",
         "47318050.0",
         "1",
         "1",
         "2020",
         "1/1/2020"
        ]
       ],
       "shape": {
        "columns": 5,
        "rows": 5
       }
      },
      "text/html": [
       "<div>\n",
       "<style scoped>\n",
       "    .dataframe tbody tr th:only-of-type {\n",
       "        vertical-align: middle;\n",
       "    }\n",
       "\n",
       "    .dataframe tbody tr th {\n",
       "        vertical-align: top;\n",
       "    }\n",
       "\n",
       "    .dataframe thead th {\n",
       "        text-align: right;\n",
       "    }\n",
       "</style>\n",
       "<table border=\"1\" class=\"dataframe\">\n",
       "  <thead>\n",
       "    <tr style=\"text-align: right;\">\n",
       "      <th></th>\n",
       "      <th>Total_population</th>\n",
       "      <th>day</th>\n",
       "      <th>month_num</th>\n",
       "      <th>year</th>\n",
       "      <th>date</th>\n",
       "    </tr>\n",
       "  </thead>\n",
       "  <tbody>\n",
       "    <tr>\n",
       "      <th>0</th>\n",
       "      <td>48619695.0</td>\n",
       "      <td>1</td>\n",
       "      <td>1</td>\n",
       "      <td>2024</td>\n",
       "      <td>1/1/2024</td>\n",
       "    </tr>\n",
       "    <tr>\n",
       "      <th>4</th>\n",
       "      <td>48085361.0</td>\n",
       "      <td>1</td>\n",
       "      <td>1</td>\n",
       "      <td>2023</td>\n",
       "      <td>1/1/2023</td>\n",
       "    </tr>\n",
       "    <tr>\n",
       "      <th>8</th>\n",
       "      <td>47486727.0</td>\n",
       "      <td>1</td>\n",
       "      <td>1</td>\n",
       "      <td>2022</td>\n",
       "      <td>1/1/2022</td>\n",
       "    </tr>\n",
       "    <tr>\n",
       "      <th>12</th>\n",
       "      <td>47400798.0</td>\n",
       "      <td>1</td>\n",
       "      <td>1</td>\n",
       "      <td>2021</td>\n",
       "      <td>1/1/2021</td>\n",
       "    </tr>\n",
       "    <tr>\n",
       "      <th>16</th>\n",
       "      <td>47318050.0</td>\n",
       "      <td>1</td>\n",
       "      <td>1</td>\n",
       "      <td>2020</td>\n",
       "      <td>1/1/2020</td>\n",
       "    </tr>\n",
       "  </tbody>\n",
       "</table>\n",
       "</div>"
      ],
      "text/plain": [
       "    Total_population day month_num  year      date\n",
       "0         48619695.0   1         1  2024  1/1/2024\n",
       "4         48085361.0   1         1  2023  1/1/2023\n",
       "8         47486727.0   1         1  2022  1/1/2022\n",
       "12        47400798.0   1         1  2021  1/1/2021\n",
       "16        47318050.0   1         1  2020  1/1/2020"
      ]
     },
     "execution_count": 55,
     "metadata": {},
     "output_type": "execute_result"
    }
   ],
   "source": [
    "new_date_var['date'] = new_date_var['day'] + \"/\" + new_date_var['month_num']+ \"/\" + new_date_var['year']\n",
    "new_date_var.head()"
   ]
  },
  {
   "cell_type": "markdown",
   "id": "eb16d392",
   "metadata": {},
   "source": [
    "- Example on how to use to_datetime: df['date_col'] =  pd.to_datetime(df['date_col'], format='%d/%m/%Y')"
   ]
  },
  {
   "cell_type": "code",
   "execution_count": 57,
   "id": "5250def3",
   "metadata": {},
   "outputs": [
    {
     "data": {
      "application/vnd.microsoft.datawrangler.viewer.v0+json": {
       "columns": [
        {
         "name": "index",
         "rawType": "int64",
         "type": "integer"
        },
        {
         "name": "Total_population",
         "rawType": "float64",
         "type": "float"
        },
        {
         "name": "day",
         "rawType": "object",
         "type": "string"
        },
        {
         "name": "month_num",
         "rawType": "object",
         "type": "string"
        },
        {
         "name": "year",
         "rawType": "object",
         "type": "string"
        },
        {
         "name": "date",
         "rawType": "object",
         "type": "string"
        },
        {
         "name": "date_fmt",
         "rawType": "datetime64[ns]",
         "type": "datetime"
        }
       ],
       "ref": "54dca91c-d757-45b0-a8b8-294a3b7af19a",
       "rows": [
        [
         "0",
         "48619695.0",
         "1",
         "1",
         "2024",
         "1/1/2024",
         "2024-01-01 00:00:00"
        ],
        [
         "4",
         "48085361.0",
         "1",
         "1",
         "2023",
         "1/1/2023",
         "2023-01-01 00:00:00"
        ],
        [
         "8",
         "47486727.0",
         "1",
         "1",
         "2022",
         "1/1/2022",
         "2022-01-01 00:00:00"
        ],
        [
         "12",
         "47400798.0",
         "1",
         "1",
         "2021",
         "1/1/2021",
         "2021-01-01 00:00:00"
        ],
        [
         "16",
         "47318050.0",
         "1",
         "1",
         "2020",
         "1/1/2020",
         "2020-01-01 00:00:00"
        ]
       ],
       "shape": {
        "columns": 6,
        "rows": 5
       }
      },
      "text/html": [
       "<div>\n",
       "<style scoped>\n",
       "    .dataframe tbody tr th:only-of-type {\n",
       "        vertical-align: middle;\n",
       "    }\n",
       "\n",
       "    .dataframe tbody tr th {\n",
       "        vertical-align: top;\n",
       "    }\n",
       "\n",
       "    .dataframe thead th {\n",
       "        text-align: right;\n",
       "    }\n",
       "</style>\n",
       "<table border=\"1\" class=\"dataframe\">\n",
       "  <thead>\n",
       "    <tr style=\"text-align: right;\">\n",
       "      <th></th>\n",
       "      <th>Total_population</th>\n",
       "      <th>day</th>\n",
       "      <th>month_num</th>\n",
       "      <th>year</th>\n",
       "      <th>date</th>\n",
       "      <th>date_fmt</th>\n",
       "    </tr>\n",
       "  </thead>\n",
       "  <tbody>\n",
       "    <tr>\n",
       "      <th>0</th>\n",
       "      <td>48619695.0</td>\n",
       "      <td>1</td>\n",
       "      <td>1</td>\n",
       "      <td>2024</td>\n",
       "      <td>1/1/2024</td>\n",
       "      <td>2024-01-01</td>\n",
       "    </tr>\n",
       "    <tr>\n",
       "      <th>4</th>\n",
       "      <td>48085361.0</td>\n",
       "      <td>1</td>\n",
       "      <td>1</td>\n",
       "      <td>2023</td>\n",
       "      <td>1/1/2023</td>\n",
       "      <td>2023-01-01</td>\n",
       "    </tr>\n",
       "    <tr>\n",
       "      <th>8</th>\n",
       "      <td>47486727.0</td>\n",
       "      <td>1</td>\n",
       "      <td>1</td>\n",
       "      <td>2022</td>\n",
       "      <td>1/1/2022</td>\n",
       "      <td>2022-01-01</td>\n",
       "    </tr>\n",
       "    <tr>\n",
       "      <th>12</th>\n",
       "      <td>47400798.0</td>\n",
       "      <td>1</td>\n",
       "      <td>1</td>\n",
       "      <td>2021</td>\n",
       "      <td>1/1/2021</td>\n",
       "      <td>2021-01-01</td>\n",
       "    </tr>\n",
       "    <tr>\n",
       "      <th>16</th>\n",
       "      <td>47318050.0</td>\n",
       "      <td>1</td>\n",
       "      <td>1</td>\n",
       "      <td>2020</td>\n",
       "      <td>1/1/2020</td>\n",
       "      <td>2020-01-01</td>\n",
       "    </tr>\n",
       "  </tbody>\n",
       "</table>\n",
       "</div>"
      ],
      "text/plain": [
       "    Total_population day month_num  year      date   date_fmt\n",
       "0         48619695.0   1         1  2024  1/1/2024 2024-01-01\n",
       "4         48085361.0   1         1  2023  1/1/2023 2023-01-01\n",
       "8         47486727.0   1         1  2022  1/1/2022 2022-01-01\n",
       "12        47400798.0   1         1  2021  1/1/2021 2021-01-01\n",
       "16        47318050.0   1         1  2020  1/1/2020 2020-01-01"
      ]
     },
     "execution_count": 57,
     "metadata": {},
     "output_type": "execute_result"
    }
   ],
   "source": [
    "new_date_var['date_fmt'] = pd.to_datetime(new_date_var['date'],format = '%d/%m/%Y')\n",
    "new_date_var.head()"
   ]
  },
  {
   "cell_type": "code",
   "execution_count": null,
   "id": "26f8cecd",
   "metadata": {},
   "outputs": [],
   "source": [
    "new_date_var.info()"
   ]
  },
  {
   "cell_type": "markdown",
   "id": "0026a49a",
   "metadata": {},
   "source": [
    "## 3. Plot total population using new datetime column"
   ]
  },
  {
   "cell_type": "markdown",
   "id": "b512da4b",
   "metadata": {},
   "source": [
    "- The final step of this script will be to create a seborn chart to display Total population in Spain as a line chart"
   ]
  },
  {
   "cell_type": "code",
   "execution_count": 60,
   "id": "f814de5d",
   "metadata": {},
   "outputs": [],
   "source": [
    "population_total_chart_data_subset = new_date_var.copy()"
   ]
  },
  {
   "cell_type": "code",
   "execution_count": 61,
   "id": "d1fa28bd",
   "metadata": {},
   "outputs": [],
   "source": [
    "population_total_chart_data  = population_total_chart_data_subset[['date_fmt','Total_population']]"
   ]
  },
  {
   "cell_type": "code",
   "execution_count": 62,
   "id": "881e5282",
   "metadata": {},
   "outputs": [
    {
     "name": "stdout",
     "output_type": "stream",
     "text": [
      "<class 'pandas.core.frame.DataFrame'>\n",
      "Index: 53 entries, 0 to 208\n",
      "Data columns (total 2 columns):\n",
      " #   Column            Non-Null Count  Dtype         \n",
      "---  ------            --------------  -----         \n",
      " 0   date_fmt          53 non-null     datetime64[ns]\n",
      " 1   Total_population  53 non-null     float64       \n",
      "dtypes: datetime64[ns](1), float64(1)\n",
      "memory usage: 1.2 KB\n"
     ]
    }
   ],
   "source": [
    "population_total_chart_data.info()"
   ]
  },
  {
   "cell_type": "code",
   "execution_count": 63,
   "id": "aea3e6f9",
   "metadata": {},
   "outputs": [
    {
     "data": {
      "application/vnd.microsoft.datawrangler.viewer.v0+json": {
       "columns": [
        {
         "name": "index",
         "rawType": "int64",
         "type": "integer"
        },
        {
         "name": "date_fmt",
         "rawType": "datetime64[ns]",
         "type": "datetime"
        },
        {
         "name": "Total_population",
         "rawType": "float64",
         "type": "float"
        }
       ],
       "ref": "60737a22-6e2a-405c-b314-a5f0f1fd4d2f",
       "rows": [
        [
         "0",
         "2024-01-01 00:00:00",
         "48619695.0"
        ],
        [
         "4",
         "2023-01-01 00:00:00",
         "48085361.0"
        ],
        [
         "8",
         "2022-01-01 00:00:00",
         "47486727.0"
        ],
        [
         "12",
         "2021-01-01 00:00:00",
         "47400798.0"
        ],
        [
         "16",
         "2020-01-01 00:00:00",
         "47318050.0"
        ]
       ],
       "shape": {
        "columns": 2,
        "rows": 5
       }
      },
      "text/html": [
       "<div>\n",
       "<style scoped>\n",
       "    .dataframe tbody tr th:only-of-type {\n",
       "        vertical-align: middle;\n",
       "    }\n",
       "\n",
       "    .dataframe tbody tr th {\n",
       "        vertical-align: top;\n",
       "    }\n",
       "\n",
       "    .dataframe thead th {\n",
       "        text-align: right;\n",
       "    }\n",
       "</style>\n",
       "<table border=\"1\" class=\"dataframe\">\n",
       "  <thead>\n",
       "    <tr style=\"text-align: right;\">\n",
       "      <th></th>\n",
       "      <th>date_fmt</th>\n",
       "      <th>Total_population</th>\n",
       "    </tr>\n",
       "  </thead>\n",
       "  <tbody>\n",
       "    <tr>\n",
       "      <th>0</th>\n",
       "      <td>2024-01-01</td>\n",
       "      <td>48619695.0</td>\n",
       "    </tr>\n",
       "    <tr>\n",
       "      <th>4</th>\n",
       "      <td>2023-01-01</td>\n",
       "      <td>48085361.0</td>\n",
       "    </tr>\n",
       "    <tr>\n",
       "      <th>8</th>\n",
       "      <td>2022-01-01</td>\n",
       "      <td>47486727.0</td>\n",
       "    </tr>\n",
       "    <tr>\n",
       "      <th>12</th>\n",
       "      <td>2021-01-01</td>\n",
       "      <td>47400798.0</td>\n",
       "    </tr>\n",
       "    <tr>\n",
       "      <th>16</th>\n",
       "      <td>2020-01-01</td>\n",
       "      <td>47318050.0</td>\n",
       "    </tr>\n",
       "  </tbody>\n",
       "</table>\n",
       "</div>"
      ],
      "text/plain": [
       "     date_fmt  Total_population\n",
       "0  2024-01-01        48619695.0\n",
       "4  2023-01-01        48085361.0\n",
       "8  2022-01-01        47486727.0\n",
       "12 2021-01-01        47400798.0\n",
       "16 2020-01-01        47318050.0"
      ]
     },
     "execution_count": 63,
     "metadata": {},
     "output_type": "execute_result"
    }
   ],
   "source": [
    "population_total_chart_data.head()"
   ]
  }
 ],
 "metadata": {
  "kernelspec": {
   "display_name": ".venv",
   "language": "python",
   "name": "python3"
  },
  "language_info": {
   "codemirror_mode": {
    "name": "ipython",
    "version": 3
   },
   "file_extension": ".py",
   "mimetype": "text/x-python",
   "name": "python",
   "nbconvert_exporter": "python",
   "pygments_lexer": "ipython3",
   "version": "3.12.3"
  }
 },
 "nbformat": 4,
 "nbformat_minor": 5
}
