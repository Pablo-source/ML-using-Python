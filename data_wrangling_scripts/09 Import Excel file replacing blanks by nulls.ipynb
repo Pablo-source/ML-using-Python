{
 "cells": [
  {
   "cell_type": "markdown",
   "id": "029abd79",
   "metadata": {},
   "source": [
    "## 01 Import Excel file replacing blanks by null\n",
    "\n"
   ]
  },
  {
   "cell_type": "markdown",
   "id": "2c12da18",
   "metadata": {},
   "source": [
    "### AIM: Read data from Excel file handling blank cells replacing them by proper null values NaN that can be processded by .dropna() method. Saving finally cleansed data to a new folder as a .csv file"
   ]
  },
  {
   "cell_type": "markdown",
   "id": "d34c9c76",
   "metadata": {},
   "source": [
    "## 1. Import Excel data into Python"
   ]
  },
  {
   "cell_type": "markdown",
   "id": "79a49417",
   "metadata": {},
   "source": [
    "- Import requried libraries. All three libraries below are available in the VE"
   ]
  },
  {
   "cell_type": "code",
   "execution_count": 2,
   "id": "3481fe40",
   "metadata": {},
   "outputs": [],
   "source": [
    "import pandas as pd \n",
    "import os\n",
    "import numpy as np"
   ]
  },
  {
   "cell_type": "markdown",
   "id": "1036281d",
   "metadata": {},
   "source": [
    "- Define paths to project and data folder"
   ]
  },
  {
   "cell_type": "code",
   "execution_count": null,
   "id": "f9bd3857",
   "metadata": {},
   "outputs": [
    {
     "name": "stdout",
     "output_type": "stream",
     "text": [
      "My working directory is:/home/pablo/Documents/Pablo_ubuntu/Python_github_projects/ML-using-Python\n"
     ]
    }
   ],
   "source": [
    "wd = os.getcwd()\n",
    "print(f'My working directory is:{wd}') "
   ]
  },
  {
   "cell_type": "code",
   "execution_count": 5,
   "id": "a41e74cf",
   "metadata": {},
   "outputs": [],
   "source": [
    "project_folder = os.path.join('/home','pablo','Documents','Pablo_ubuntu','Python_github_projects','ML-using-Python')\n",
    "os.chdir(project_folder)"
   ]
  },
  {
   "cell_type": "code",
   "execution_count": 6,
   "id": "0a053f20",
   "metadata": {},
   "outputs": [
    {
     "name": "stdout",
     "output_type": "stream",
     "text": [
      "My working directory is:/home/pablo/Documents/Pablo_ubuntu/Python_github_projects/ML-using-Python\n"
     ]
    }
   ],
   "source": [
    "wd = os.getcwd()\n",
    "print(f'My working directory is:{wd}')"
   ]
  },
  {
   "cell_type": "code",
   "execution_count": 8,
   "id": "d3d8bae8",
   "metadata": {},
   "outputs": [],
   "source": [
    "data_folder = os.path.join('/home','pablo','Documents','Pablo_ubuntu','Python_github_projects','ML-using-Python','data')"
   ]
  },
  {
   "cell_type": "code",
   "execution_count": 9,
   "id": "524ff493",
   "metadata": {},
   "outputs": [
    {
     "name": "stdout",
     "output_type": "stream",
     "text": [
      "Data fodler path:/home/pablo/Documents/Pablo_ubuntu/Python_github_projects/ML-using-Python\n",
      "Data fodler path:/home/pablo/Documents/Pablo_ubuntu/Python_github_projects/ML-using-Python/data\n"
     ]
    }
   ],
   "source": [
    "print(f'Data fodler path:{project_folder}')\n",
    "print(f'Data fodler path:{data_folder}')"
   ]
  },
  {
   "cell_type": "markdown",
   "id": "94c5fcbd",
   "metadata": {},
   "source": [
    "- Display data folder contents"
   ]
  },
  {
   "cell_type": "code",
   "execution_count": 10,
   "id": "c1c726a3",
   "metadata": {},
   "outputs": [
    {
     "name": "stdout",
     "output_type": "stream",
     "text": [
      "Data folder contents:['monthly-milk-production-pounds.csv', 'winequality-white.csv', 'Monthly-AE-Time-Series-March-2025.xls', 'ONS_long_term_immigration_end2024.xlsx', 'AE_Attendances_TypeI_2010_2025.csv', '03_INE_Spain_natural_growh_births_deaths.xlsx', 'winequality-red.csv', 'INE Resident population country of birth Spain.xlsx', 'ONS_Figure_01_Long_term_emigration_immigration_net_migration.xlsx', 'Monthly-AE-Time-Series-January-2024.xls', 'wine_quality.zip', 'OCDE_countries_population_figures_1970_2022.csv', 'AE_Time_Series_Data_website.txt', '01 INE resident population by nationality Spain and CV 2002 2024.xlsx', 'AE_Attendances_2010_2024.csv', 'INE total and foreign population figures Spain.xlsx', 'Type_I_ATT_TEST.csv', 'all_wine_reset.csv', 'winequality.names', 'AE_Attendances_Aug2010_Mar_2025.csv', '02 INE Spain CV population stocks and flows 2002 2025.xlsx', 'Type_I_ATT_TRAIN.csv', 'ONS_Figure_2__Population_increase_in_mid-2023_was_driven_mostly_by_net_international_migration.xls']\n"
     ]
    }
   ],
   "source": [
    "data_folder_contents = os.listdir(data_folder)\n",
    "print(f'Data folder contents:{data_folder_contents}')"
   ]
  },
  {
   "cell_type": "markdown",
   "id": "4cb1eb5c",
   "metadata": {},
   "source": [
    "- Imporing Excel file \"INE total and foreign population figures Spain.xlsx\" file in \\data folder."
   ]
  },
  {
   "cell_type": "code",
   "execution_count": 17,
   "id": "be8504d7",
   "metadata": {},
   "outputs": [
    {
     "data": {
      "application/vnd.microsoft.datawrangler.viewer.v0+json": {
       "columns": [
        {
         "name": "index",
         "rawType": "int64",
         "type": "integer"
        },
        {
         "name": " ",
         "rawType": "object",
         "type": "string"
        },
        {
         "name": "Total",
         "rawType": "object",
         "type": "unknown"
        }
       ],
       "ref": "8e902e30-c040-48f2-a217-649fdb2a7f13",
       "rows": [
        [
         "0",
         "1 de enero de 2024",
         "48619695"
        ],
        [
         "1",
         "1 de octubre de 2023",
         "48486865"
        ],
        [
         "2",
         "1 de julio de 2023",
         "48320520"
        ],
        [
         "3",
         "1 de abril de 2023",
         "48205962"
        ],
        [
         "4",
         "1 de enero de 2023",
         "48085361"
        ]
       ],
       "shape": {
        "columns": 2,
        "rows": 5
       }
      },
      "text/html": [
       "<div>\n",
       "<style scoped>\n",
       "    .dataframe tbody tr th:only-of-type {\n",
       "        vertical-align: middle;\n",
       "    }\n",
       "\n",
       "    .dataframe tbody tr th {\n",
       "        vertical-align: top;\n",
       "    }\n",
       "\n",
       "    .dataframe thead th {\n",
       "        text-align: right;\n",
       "    }\n",
       "</style>\n",
       "<table border=\"1\" class=\"dataframe\">\n",
       "  <thead>\n",
       "    <tr style=\"text-align: right;\">\n",
       "      <th></th>\n",
       "      <th></th>\n",
       "      <th>Total</th>\n",
       "    </tr>\n",
       "  </thead>\n",
       "  <tbody>\n",
       "    <tr>\n",
       "      <th>0</th>\n",
       "      <td>1 de enero de 2024</td>\n",
       "      <td>48619695</td>\n",
       "    </tr>\n",
       "    <tr>\n",
       "      <th>1</th>\n",
       "      <td>1 de octubre de 2023</td>\n",
       "      <td>48486865</td>\n",
       "    </tr>\n",
       "    <tr>\n",
       "      <th>2</th>\n",
       "      <td>1 de julio de 2023</td>\n",
       "      <td>48320520</td>\n",
       "    </tr>\n",
       "    <tr>\n",
       "      <th>3</th>\n",
       "      <td>1 de abril de 2023</td>\n",
       "      <td>48205962</td>\n",
       "    </tr>\n",
       "    <tr>\n",
       "      <th>4</th>\n",
       "      <td>1 de enero de 2023</td>\n",
       "      <td>48085361</td>\n",
       "    </tr>\n",
       "  </tbody>\n",
       "</table>\n",
       "</div>"
      ],
      "text/plain": [
       "                            Total\n",
       "0    1 de enero de 2024  48619695\n",
       "1  1 de octubre de 2023  48486865\n",
       "2    1 de julio de 2023  48320520\n",
       "3    1 de abril de 2023  48205962\n",
       "4    1 de enero de 2023  48085361"
      ]
     },
     "execution_count": 17,
     "metadata": {},
     "output_type": "execute_result"
    }
   ],
   "source": [
    "data_raw = pd.read_excel(os.path.join('data','INE total and foreign population figures Spain.xlsx'),\n",
    "                         sheet_name = 'INE_Total_population',\n",
    "                         skiprows= 7,\n",
    "                         usecols = 'A:B',\n",
    "                         nrows = 212\n",
    "                         )\n",
    "data_raw.head() "
   ]
  },
  {
   "cell_type": "code",
   "execution_count": 18,
   "id": "90782917",
   "metadata": {},
   "outputs": [
    {
     "name": "stdout",
     "output_type": "stream",
     "text": [
      "                              Total\n",
      "0      1 de enero de 2024  48619695\n",
      "1    1 de octubre de 2023  48486865\n",
      "2      1 de julio de 2023  48320520\n",
      "3      1 de abril de 2023  48205962\n",
      "4      1 de enero de 2023  48085361\n",
      "..                    ...       ...\n",
      "207    1 de abril de 1972          \n",
      "208    1 de enero de 1972  34408338\n",
      "209  1 de octubre de 1971          \n",
      "210    1 de julio de 1971  34216856\n",
      "211    1 de abril de 1971          \n",
      "\n",
      "[212 rows x 2 columns]\n"
     ]
    }
   ],
   "source": [
    "data_raw.head()\n",
    "print(data_raw)"
   ]
  },
  {
   "cell_type": "code",
   "execution_count": 19,
   "id": "f00c1d15",
   "metadata": {},
   "outputs": [
    {
     "data": {
      "text/plain": [
       "Index([' ', 'Total'], dtype='object')"
      ]
     },
     "execution_count": 19,
     "metadata": {},
     "output_type": "execute_result"
    }
   ],
   "source": [
    "data_raw.columns"
   ]
  },
  {
   "cell_type": "markdown",
   "id": "5c745950",
   "metadata": {},
   "source": [
    "- Remane default column names from imported Excel file into Python"
   ]
  },
  {
   "cell_type": "code",
   "execution_count": 21,
   "id": "48c6d571",
   "metadata": {},
   "outputs": [
    {
     "data": {
      "application/vnd.microsoft.datawrangler.viewer.v0+json": {
       "columns": [
        {
         "name": "index",
         "rawType": "int64",
         "type": "integer"
        },
        {
         "name": "Year",
         "rawType": "object",
         "type": "string"
        },
        {
         "name": "Total_population",
         "rawType": "object",
         "type": "unknown"
        }
       ],
       "ref": "32d71656-b8af-4219-a205-062efd5ec1ec",
       "rows": [
        [
         "0",
         "1 de enero de 2024",
         "48619695"
        ],
        [
         "1",
         "1 de octubre de 2023",
         "48486865"
        ],
        [
         "2",
         "1 de julio de 2023",
         "48320520"
        ],
        [
         "3",
         "1 de abril de 2023",
         "48205962"
        ],
        [
         "4",
         "1 de enero de 2023",
         "48085361"
        ]
       ],
       "shape": {
        "columns": 2,
        "rows": 5
       }
      },
      "text/html": [
       "<div>\n",
       "<style scoped>\n",
       "    .dataframe tbody tr th:only-of-type {\n",
       "        vertical-align: middle;\n",
       "    }\n",
       "\n",
       "    .dataframe tbody tr th {\n",
       "        vertical-align: top;\n",
       "    }\n",
       "\n",
       "    .dataframe thead th {\n",
       "        text-align: right;\n",
       "    }\n",
       "</style>\n",
       "<table border=\"1\" class=\"dataframe\">\n",
       "  <thead>\n",
       "    <tr style=\"text-align: right;\">\n",
       "      <th></th>\n",
       "      <th>Year</th>\n",
       "      <th>Total_population</th>\n",
       "    </tr>\n",
       "  </thead>\n",
       "  <tbody>\n",
       "    <tr>\n",
       "      <th>0</th>\n",
       "      <td>1 de enero de 2024</td>\n",
       "      <td>48619695</td>\n",
       "    </tr>\n",
       "    <tr>\n",
       "      <th>1</th>\n",
       "      <td>1 de octubre de 2023</td>\n",
       "      <td>48486865</td>\n",
       "    </tr>\n",
       "    <tr>\n",
       "      <th>2</th>\n",
       "      <td>1 de julio de 2023</td>\n",
       "      <td>48320520</td>\n",
       "    </tr>\n",
       "    <tr>\n",
       "      <th>3</th>\n",
       "      <td>1 de abril de 2023</td>\n",
       "      <td>48205962</td>\n",
       "    </tr>\n",
       "    <tr>\n",
       "      <th>4</th>\n",
       "      <td>1 de enero de 2023</td>\n",
       "      <td>48085361</td>\n",
       "    </tr>\n",
       "  </tbody>\n",
       "</table>\n",
       "</div>"
      ],
      "text/plain": [
       "                   Year Total_population\n",
       "0    1 de enero de 2024         48619695\n",
       "1  1 de octubre de 2023         48486865\n",
       "2    1 de julio de 2023         48320520\n",
       "3    1 de abril de 2023         48205962\n",
       "4    1 de enero de 2023         48085361"
      ]
     },
     "execution_count": 21,
     "metadata": {},
     "output_type": "execute_result"
    }
   ],
   "source": [
    "data_raw.columns = ['Year','Total_population']\n",
    "data_raw.head()"
   ]
  },
  {
   "cell_type": "code",
   "execution_count": 22,
   "id": "4b66012e",
   "metadata": {},
   "outputs": [
    {
     "data": {
      "application/vnd.microsoft.datawrangler.viewer.v0+json": {
       "columns": [
        {
         "name": "index",
         "rawType": "int64",
         "type": "integer"
        },
        {
         "name": "Year",
         "rawType": "object",
         "type": "string"
        },
        {
         "name": "Total_population",
         "rawType": "object",
         "type": "unknown"
        }
       ],
       "ref": "c90420d4-9d99-4054-92f7-62f0b2cb2af8",
       "rows": [
        [
         "207",
         "1 de abril de 1972",
         " "
        ],
        [
         "208",
         "1 de enero de 1972",
         "34408338"
        ],
        [
         "209",
         "1 de octubre de 1971",
         " "
        ],
        [
         "210",
         "1 de julio de 1971",
         "34216856"
        ],
        [
         "211",
         "1 de abril de 1971",
         " "
        ]
       ],
       "shape": {
        "columns": 2,
        "rows": 5
       }
      },
      "text/html": [
       "<div>\n",
       "<style scoped>\n",
       "    .dataframe tbody tr th:only-of-type {\n",
       "        vertical-align: middle;\n",
       "    }\n",
       "\n",
       "    .dataframe tbody tr th {\n",
       "        vertical-align: top;\n",
       "    }\n",
       "\n",
       "    .dataframe thead th {\n",
       "        text-align: right;\n",
       "    }\n",
       "</style>\n",
       "<table border=\"1\" class=\"dataframe\">\n",
       "  <thead>\n",
       "    <tr style=\"text-align: right;\">\n",
       "      <th></th>\n",
       "      <th>Year</th>\n",
       "      <th>Total_population</th>\n",
       "    </tr>\n",
       "  </thead>\n",
       "  <tbody>\n",
       "    <tr>\n",
       "      <th>207</th>\n",
       "      <td>1 de abril de 1972</td>\n",
       "      <td></td>\n",
       "    </tr>\n",
       "    <tr>\n",
       "      <th>208</th>\n",
       "      <td>1 de enero de 1972</td>\n",
       "      <td>34408338</td>\n",
       "    </tr>\n",
       "    <tr>\n",
       "      <th>209</th>\n",
       "      <td>1 de octubre de 1971</td>\n",
       "      <td></td>\n",
       "    </tr>\n",
       "    <tr>\n",
       "      <th>210</th>\n",
       "      <td>1 de julio de 1971</td>\n",
       "      <td>34216856</td>\n",
       "    </tr>\n",
       "    <tr>\n",
       "      <th>211</th>\n",
       "      <td>1 de abril de 1971</td>\n",
       "      <td></td>\n",
       "    </tr>\n",
       "  </tbody>\n",
       "</table>\n",
       "</div>"
      ],
      "text/plain": [
       "                     Year Total_population\n",
       "207    1 de abril de 1972                 \n",
       "208    1 de enero de 1972         34408338\n",
       "209  1 de octubre de 1971                 \n",
       "210    1 de julio de 1971         34216856\n",
       "211    1 de abril de 1971                 "
      ]
     },
     "execution_count": 22,
     "metadata": {},
     "output_type": "execute_result"
    }
   ],
   "source": [
    "data_raw.tail() "
   ]
  },
  {
   "cell_type": "markdown",
   "id": "24f58350",
   "metadata": {},
   "source": [
    "### 1. Remove NaN values from Dataframe"
   ]
  },
  {
   "cell_type": "markdown",
   "id": "a6db5cc7",
   "metadata": {},
   "source": [
    "#### 1.1 First I need to deal with Empty cells present in the data"
   ]
  },
  {
   "cell_type": "markdown",
   "id": "eaac6b8c",
   "metadata": {},
   "source": [
    "- First issue I need to tacke is that we don't have NaN values we have Empty values in the bottom cells in Total_population column"
   ]
  },
  {
   "cell_type": "code",
   "execution_count": null,
   "id": "75dfc19a",
   "metadata": {},
   "outputs": [
    {
     "data": {
      "application/vnd.microsoft.datawrangler.viewer.v0+json": {
       "columns": [
        {
         "name": "index",
         "rawType": "int64",
         "type": "integer"
        },
        {
         "name": "Year",
         "rawType": "object",
         "type": "string"
        },
        {
         "name": "Total_population",
         "rawType": "object",
         "type": "unknown"
        }
       ],
       "ref": "de7161af-a348-464c-ba89-d793206f917a",
       "rows": [
        [
         "207",
         "1 de abril de 1972",
         " "
        ],
        [
         "208",
         "1 de enero de 1972",
         "34408338"
        ],
        [
         "209",
         "1 de octubre de 1971",
         " "
        ],
        [
         "210",
         "1 de julio de 1971",
         "34216856"
        ],
        [
         "211",
         "1 de abril de 1971",
         " "
        ]
       ],
       "shape": {
        "columns": 2,
        "rows": 5
       }
      },
      "text/html": [
       "<div>\n",
       "<style scoped>\n",
       "    .dataframe tbody tr th:only-of-type {\n",
       "        vertical-align: middle;\n",
       "    }\n",
       "\n",
       "    .dataframe tbody tr th {\n",
       "        vertical-align: top;\n",
       "    }\n",
       "\n",
       "    .dataframe thead th {\n",
       "        text-align: right;\n",
       "    }\n",
       "</style>\n",
       "<table border=\"1\" class=\"dataframe\">\n",
       "  <thead>\n",
       "    <tr style=\"text-align: right;\">\n",
       "      <th></th>\n",
       "      <th>Year</th>\n",
       "      <th>Total_population</th>\n",
       "    </tr>\n",
       "  </thead>\n",
       "  <tbody>\n",
       "    <tr>\n",
       "      <th>207</th>\n",
       "      <td>1 de abril de 1972</td>\n",
       "      <td></td>\n",
       "    </tr>\n",
       "    <tr>\n",
       "      <th>208</th>\n",
       "      <td>1 de enero de 1972</td>\n",
       "      <td>34408338</td>\n",
       "    </tr>\n",
       "    <tr>\n",
       "      <th>209</th>\n",
       "      <td>1 de octubre de 1971</td>\n",
       "      <td></td>\n",
       "    </tr>\n",
       "    <tr>\n",
       "      <th>210</th>\n",
       "      <td>1 de julio de 1971</td>\n",
       "      <td>34216856</td>\n",
       "    </tr>\n",
       "    <tr>\n",
       "      <th>211</th>\n",
       "      <td>1 de abril de 1971</td>\n",
       "      <td></td>\n",
       "    </tr>\n",
       "  </tbody>\n",
       "</table>\n",
       "</div>"
      ],
      "text/plain": [
       "                     Year Total_population\n",
       "207    1 de abril de 1972                 \n",
       "208    1 de enero de 1972         34408338\n",
       "209  1 de octubre de 1971                 \n",
       "210    1 de julio de 1971         34216856\n",
       "211    1 de abril de 1971                 "
      ]
     },
     "execution_count": 23,
     "metadata": {},
     "output_type": "execute_result"
    }
   ],
   "source": [
    "data_raw.tail() "
   ]
  },
  {
   "cell_type": "markdown",
   "id": "7c1d537c",
   "metadata": {},
   "source": [
    "- Once I deal with Empty Cells I will apply then the dropna() method on NaN cells. This is how dropna() method works: \n",
    "- The dropna() method removes any rows NaN values (missing values) in any column by default:"
   ]
  },
  {
   "cell_type": "markdown",
   "id": "6825c9fe",
   "metadata": {},
   "source": [
    "- I will be applying the dropna() method to remove Null values from previous dataset. This is how the dropna() works: "
   ]
  },
  {
   "cell_type": "markdown",
   "id": "a4b56111",
   "metadata": {},
   "source": [
    "- dropna() arguments: \n",
    "-   axis = 0 : drop rows (default)\n",
    "-   axis = 1 : drop columns"
   ]
  },
  {
   "cell_type": "markdown",
   "id": "b791f5c5",
   "metadata": {},
   "source": [
    "- We take previous dataframe \"data_raw\" imported from Excel file and try to apply the dropna() function:"
   ]
  },
  {
   "cell_type": "code",
   "execution_count": 27,
   "id": "95b2a1fc",
   "metadata": {},
   "outputs": [
    {
     "data": {
      "application/vnd.microsoft.datawrangler.viewer.v0+json": {
       "columns": [
        {
         "name": "index",
         "rawType": "int64",
         "type": "integer"
        },
        {
         "name": "Year",
         "rawType": "object",
         "type": "string"
        },
        {
         "name": "Total_population",
         "rawType": "object",
         "type": "unknown"
        }
       ],
       "ref": "93a1f596-e771-4c65-8c7e-c31b5fbc16c2",
       "rows": [
        [
         "207",
         "1 de abril de 1972",
         " "
        ],
        [
         "208",
         "1 de enero de 1972",
         "34408338"
        ],
        [
         "209",
         "1 de octubre de 1971",
         " "
        ],
        [
         "210",
         "1 de julio de 1971",
         "34216856"
        ],
        [
         "211",
         "1 de abril de 1971",
         " "
        ]
       ],
       "shape": {
        "columns": 2,
        "rows": 5
       }
      },
      "text/html": [
       "<div>\n",
       "<style scoped>\n",
       "    .dataframe tbody tr th:only-of-type {\n",
       "        vertical-align: middle;\n",
       "    }\n",
       "\n",
       "    .dataframe tbody tr th {\n",
       "        vertical-align: top;\n",
       "    }\n",
       "\n",
       "    .dataframe thead th {\n",
       "        text-align: right;\n",
       "    }\n",
       "</style>\n",
       "<table border=\"1\" class=\"dataframe\">\n",
       "  <thead>\n",
       "    <tr style=\"text-align: right;\">\n",
       "      <th></th>\n",
       "      <th>Year</th>\n",
       "      <th>Total_population</th>\n",
       "    </tr>\n",
       "  </thead>\n",
       "  <tbody>\n",
       "    <tr>\n",
       "      <th>207</th>\n",
       "      <td>1 de abril de 1972</td>\n",
       "      <td></td>\n",
       "    </tr>\n",
       "    <tr>\n",
       "      <th>208</th>\n",
       "      <td>1 de enero de 1972</td>\n",
       "      <td>34408338</td>\n",
       "    </tr>\n",
       "    <tr>\n",
       "      <th>209</th>\n",
       "      <td>1 de octubre de 1971</td>\n",
       "      <td></td>\n",
       "    </tr>\n",
       "    <tr>\n",
       "      <th>210</th>\n",
       "      <td>1 de julio de 1971</td>\n",
       "      <td>34216856</td>\n",
       "    </tr>\n",
       "    <tr>\n",
       "      <th>211</th>\n",
       "      <td>1 de abril de 1971</td>\n",
       "      <td></td>\n",
       "    </tr>\n",
       "  </tbody>\n",
       "</table>\n",
       "</div>"
      ],
      "text/plain": [
       "                     Year Total_population\n",
       "207    1 de abril de 1972                 \n",
       "208    1 de enero de 1972         34408338\n",
       "209  1 de octubre de 1971                 \n",
       "210    1 de julio de 1971         34216856\n",
       "211    1 de abril de 1971                 "
      ]
     },
     "execution_count": 27,
     "metadata": {},
     "output_type": "execute_result"
    }
   ],
   "source": [
    "data_cleansed = data_raw.dropna(axis = 0, \n",
    "                subset = ['Total_population'],\n",
    "                inplace = False)\n",
    "data_cleansed.head()\n",
    "data_cleansed.tail()"
   ]
  },
  {
   "cell_type": "markdown",
   "id": "e17f3671",
   "metadata": {},
   "source": [
    "The reason why dropna() has not work in the above dataframe, is becasue those are NOT null cell values NaN, but instead they are Empty cells. So I need to fix first those empty cells using .replace() method."
   ]
  },
  {
   "cell_type": "markdown",
   "id": "14cb58ef",
   "metadata": {},
   "source": [
    "#### 1.2 Dealing with empty cells using .replace() method "
   ]
  },
  {
   "cell_type": "markdown",
   "id": "830dcda8",
   "metadata": {},
   "source": [
    "- The np.isnan() function returns a boolean array indicating which elements in the input array are NaN"
   ]
  },
  {
   "cell_type": "code",
   "execution_count": 28,
   "id": "871ad5a6",
   "metadata": {},
   "outputs": [
    {
     "name": "stdout",
     "output_type": "stream",
     "text": [
      "                     Year  Total_population\n",
      "0      1 de enero de 2024        48619695.0\n",
      "1    1 de octubre de 2023        48486865.0\n",
      "2      1 de julio de 2023        48320520.0\n",
      "3      1 de abril de 2023        48205962.0\n",
      "4      1 de enero de 2023        48085361.0\n",
      "..                    ...               ...\n",
      "207    1 de abril de 1972               NaN\n",
      "208    1 de enero de 1972        34408338.0\n",
      "209  1 de octubre de 1971               NaN\n",
      "210    1 de julio de 1971        34216856.0\n",
      "211    1 de abril de 1971               NaN\n",
      "\n",
      "[212 rows x 2 columns]\n"
     ]
    },
    {
     "name": "stderr",
     "output_type": "stream",
     "text": [
      "/tmp/ipykernel_19538/2464472249.py:1: FutureWarning: Downcasting behavior in `replace` is deprecated and will be removed in a future version. To retain the old behavior, explicitly call `result.infer_objects(copy=False)`. To opt-in to the future behavior, set `pd.set_option('future.no_silent_downcasting', True)`\n",
      "  imported_data_na = data_cleansed.replace(r'^\\s*$',np.nan, regex = True)\n"
     ]
    }
   ],
   "source": [
    "imported_data_na = data_cleansed.replace(r'^\\s*$',np.nan, regex = True) \n",
    "print(imported_data_na)"
   ]
  },
  {
   "cell_type": "code",
   "execution_count": 29,
   "id": "a9714dc1",
   "metadata": {},
   "outputs": [
    {
     "data": {
      "application/vnd.microsoft.datawrangler.viewer.v0+json": {
       "columns": [
        {
         "name": "index",
         "rawType": "int64",
         "type": "integer"
        },
        {
         "name": "Year",
         "rawType": "object",
         "type": "string"
        },
        {
         "name": "Total_population",
         "rawType": "float64",
         "type": "float"
        }
       ],
       "ref": "514fc072-30c4-4b1a-9a20-d7e4878c73c8",
       "rows": [
        [
         "207",
         "1 de abril de 1972",
         null
        ],
        [
         "208",
         "1 de enero de 1972",
         "34408338.0"
        ],
        [
         "209",
         "1 de octubre de 1971",
         null
        ],
        [
         "210",
         "1 de julio de 1971",
         "34216856.0"
        ],
        [
         "211",
         "1 de abril de 1971",
         null
        ]
       ],
       "shape": {
        "columns": 2,
        "rows": 5
       }
      },
      "text/html": [
       "<div>\n",
       "<style scoped>\n",
       "    .dataframe tbody tr th:only-of-type {\n",
       "        vertical-align: middle;\n",
       "    }\n",
       "\n",
       "    .dataframe tbody tr th {\n",
       "        vertical-align: top;\n",
       "    }\n",
       "\n",
       "    .dataframe thead th {\n",
       "        text-align: right;\n",
       "    }\n",
       "</style>\n",
       "<table border=\"1\" class=\"dataframe\">\n",
       "  <thead>\n",
       "    <tr style=\"text-align: right;\">\n",
       "      <th></th>\n",
       "      <th>Year</th>\n",
       "      <th>Total_population</th>\n",
       "    </tr>\n",
       "  </thead>\n",
       "  <tbody>\n",
       "    <tr>\n",
       "      <th>207</th>\n",
       "      <td>1 de abril de 1972</td>\n",
       "      <td>NaN</td>\n",
       "    </tr>\n",
       "    <tr>\n",
       "      <th>208</th>\n",
       "      <td>1 de enero de 1972</td>\n",
       "      <td>34408338.0</td>\n",
       "    </tr>\n",
       "    <tr>\n",
       "      <th>209</th>\n",
       "      <td>1 de octubre de 1971</td>\n",
       "      <td>NaN</td>\n",
       "    </tr>\n",
       "    <tr>\n",
       "      <th>210</th>\n",
       "      <td>1 de julio de 1971</td>\n",
       "      <td>34216856.0</td>\n",
       "    </tr>\n",
       "    <tr>\n",
       "      <th>211</th>\n",
       "      <td>1 de abril de 1971</td>\n",
       "      <td>NaN</td>\n",
       "    </tr>\n",
       "  </tbody>\n",
       "</table>\n",
       "</div>"
      ],
      "text/plain": [
       "                     Year  Total_population\n",
       "207    1 de abril de 1972               NaN\n",
       "208    1 de enero de 1972        34408338.0\n",
       "209  1 de octubre de 1971               NaN\n",
       "210    1 de julio de 1971        34216856.0\n",
       "211    1 de abril de 1971               NaN"
      ]
     },
     "execution_count": 29,
     "metadata": {},
     "output_type": "execute_result"
    }
   ],
   "source": [
    "imported_data_na.tail()"
   ]
  },
  {
   "cell_type": "code",
   "execution_count": 30,
   "id": "fe01c03c",
   "metadata": {},
   "outputs": [
    {
     "name": "stdout",
     "output_type": "stream",
     "text": [
      "212\n"
     ]
    }
   ],
   "source": [
    "count_imported_data_na_rows = imported_data_na.shape[0]  # Gives number of rows\n",
    "print(count_imported_data_na_rows)"
   ]
  },
  {
   "cell_type": "markdown",
   "id": "221e1364",
   "metadata": {},
   "source": [
    "#### 1.3 Then I can use dropna() method on imported_data_na dataframe"
   ]
  },
  {
   "cell_type": "markdown",
   "id": "38fdf44d",
   "metadata": {},
   "source": [
    "- Now that we have our data with Missing values in the \"Total_population\" column, I can use the .dropna() method"
   ]
  },
  {
   "cell_type": "markdown",
   "id": "9b0890c7",
   "metadata": {},
   "source": [
    "- dropna() arguments: \n",
    "-   axis = 0 : drop rows (default)\n",
    "-   axis = 1 : drop columns\n",
    "- subset = ['Year','Total_population'] : We want to subset just Year and Total_population from previous dataframe"
   ]
  },
  {
   "cell_type": "code",
   "execution_count": null,
   "id": "7408907a",
   "metadata": {},
   "outputs": [
    {
     "data": {
      "application/vnd.microsoft.datawrangler.viewer.v0+json": {
       "columns": [
        {
         "name": "index",
         "rawType": "int64",
         "type": "integer"
        },
        {
         "name": "Year",
         "rawType": "object",
         "type": "string"
        },
        {
         "name": "Total_population",
         "rawType": "float64",
         "type": "float"
        }
       ],
       "ref": "a609ab81-da10-4c90-93ee-aaa910066b69",
       "rows": [
        [
         "202",
         "1 de julio de 1973",
         "34980317.0"
        ],
        [
         "204",
         "1 de enero de 1973",
         "34800600.0"
        ],
        [
         "206",
         "1 de julio de 1972",
         "34595886.0"
        ],
        [
         "208",
         "1 de enero de 1972",
         "34408338.0"
        ],
        [
         "210",
         "1 de julio de 1971",
         "34216856.0"
        ]
       ],
       "shape": {
        "columns": 2,
        "rows": 5
       }
      },
      "text/html": [
       "<div>\n",
       "<style scoped>\n",
       "    .dataframe tbody tr th:only-of-type {\n",
       "        vertical-align: middle;\n",
       "    }\n",
       "\n",
       "    .dataframe tbody tr th {\n",
       "        vertical-align: top;\n",
       "    }\n",
       "\n",
       "    .dataframe thead th {\n",
       "        text-align: right;\n",
       "    }\n",
       "</style>\n",
       "<table border=\"1\" class=\"dataframe\">\n",
       "  <thead>\n",
       "    <tr style=\"text-align: right;\">\n",
       "      <th></th>\n",
       "      <th>Year</th>\n",
       "      <th>Total_population</th>\n",
       "    </tr>\n",
       "  </thead>\n",
       "  <tbody>\n",
       "    <tr>\n",
       "      <th>202</th>\n",
       "      <td>1 de julio de 1973</td>\n",
       "      <td>34980317.0</td>\n",
       "    </tr>\n",
       "    <tr>\n",
       "      <th>204</th>\n",
       "      <td>1 de enero de 1973</td>\n",
       "      <td>34800600.0</td>\n",
       "    </tr>\n",
       "    <tr>\n",
       "      <th>206</th>\n",
       "      <td>1 de julio de 1972</td>\n",
       "      <td>34595886.0</td>\n",
       "    </tr>\n",
       "    <tr>\n",
       "      <th>208</th>\n",
       "      <td>1 de enero de 1972</td>\n",
       "      <td>34408338.0</td>\n",
       "    </tr>\n",
       "    <tr>\n",
       "      <th>210</th>\n",
       "      <td>1 de julio de 1971</td>\n",
       "      <td>34216856.0</td>\n",
       "    </tr>\n",
       "  </tbody>\n",
       "</table>\n",
       "</div>"
      ],
      "text/plain": [
       "                   Year  Total_population\n",
       "202  1 de julio de 1973        34980317.0\n",
       "204  1 de enero de 1973        34800600.0\n",
       "206  1 de julio de 1972        34595886.0\n",
       "208  1 de enero de 1972        34408338.0\n",
       "210  1 de julio de 1971        34216856.0"
      ]
     },
     "execution_count": 31,
     "metadata": {},
     "output_type": "execute_result"
    }
   ],
   "source": [
    "imported_data_clean_dropna = imported_data_na.dropna(axis = 0, \n",
    "                subset = ['Total_population'],\n",
    "                inplace = False)\n",
    "imported_data_clean_dropna.head()\n",
    "imported_data_clean_dropna.tail()    "
   ]
  },
  {
   "cell_type": "code",
   "execution_count": null,
   "id": "be4e6d0e",
   "metadata": {},
   "outputs": [
    {
     "name": "stdout",
     "output_type": "stream",
     "text": [
      "112\n"
     ]
    }
   ],
   "source": [
    "count_row_clean_test = imported_data_clean_dropna.shape[0]  # Gives number of rows\n",
    "print(count_row_clean_test)"
   ]
  },
  {
   "cell_type": "markdown",
   "id": "5a654005",
   "metadata": {},
   "source": [
    "The dropna() function has **removed** the cells containing **Missing value** values so the number of records has reduces. The total number of rows has gone down from 212 to 112 after we removed all Null values using dropna() method. "
   ]
  },
  {
   "cell_type": "markdown",
   "id": "75a865c4",
   "metadata": {},
   "source": [
    "## 2. Flag January rows to keep just those rows"
   ]
  },
  {
   "cell_type": "markdown",
   "id": "a9b5f7aa",
   "metadata": {},
   "source": [
    "We have from previous step is to rename previous dataframe where we removed the NaN null values using dropna() function."
   ]
  },
  {
   "cell_type": "markdown",
   "id": "a688231a",
   "metadata": {},
   "source": [
    "Then we rename \"imported_data_clean_dropna\" dataframe into imported_data_clean dataframe."
   ]
  },
  {
   "cell_type": "code",
   "execution_count": 28,
   "id": "7db1dd3b",
   "metadata": {},
   "outputs": [],
   "source": [
    "imported_data_clean = imported_data_clean_dropna"
   ]
  },
  {
   "cell_type": "code",
   "execution_count": 29,
   "id": "33eee7dc",
   "metadata": {},
   "outputs": [
    {
     "data": {
      "application/vnd.microsoft.datawrangler.viewer.v0+json": {
       "columns": [
        {
         "name": "index",
         "rawType": "int64",
         "type": "integer"
        },
        {
         "name": "Year",
         "rawType": "object",
         "type": "string"
        },
        {
         "name": "Total_population",
         "rawType": "float64",
         "type": "float"
        }
       ],
       "ref": "c6021504-ac2a-4131-834e-597123340290",
       "rows": [
        [
         "202",
         "1 de julio de 1973",
         "34980317.0"
        ],
        [
         "204",
         "1 de enero de 1973",
         "34800600.0"
        ],
        [
         "206",
         "1 de julio de 1972",
         "34595886.0"
        ],
        [
         "208",
         "1 de enero de 1972",
         "34408338.0"
        ],
        [
         "210",
         "1 de julio de 1971",
         "34216856.0"
        ]
       ],
       "shape": {
        "columns": 2,
        "rows": 5
       }
      },
      "text/html": [
       "<div>\n",
       "<style scoped>\n",
       "    .dataframe tbody tr th:only-of-type {\n",
       "        vertical-align: middle;\n",
       "    }\n",
       "\n",
       "    .dataframe tbody tr th {\n",
       "        vertical-align: top;\n",
       "    }\n",
       "\n",
       "    .dataframe thead th {\n",
       "        text-align: right;\n",
       "    }\n",
       "</style>\n",
       "<table border=\"1\" class=\"dataframe\">\n",
       "  <thead>\n",
       "    <tr style=\"text-align: right;\">\n",
       "      <th></th>\n",
       "      <th>Year</th>\n",
       "      <th>Total_population</th>\n",
       "    </tr>\n",
       "  </thead>\n",
       "  <tbody>\n",
       "    <tr>\n",
       "      <th>202</th>\n",
       "      <td>1 de julio de 1973</td>\n",
       "      <td>34980317.0</td>\n",
       "    </tr>\n",
       "    <tr>\n",
       "      <th>204</th>\n",
       "      <td>1 de enero de 1973</td>\n",
       "      <td>34800600.0</td>\n",
       "    </tr>\n",
       "    <tr>\n",
       "      <th>206</th>\n",
       "      <td>1 de julio de 1972</td>\n",
       "      <td>34595886.0</td>\n",
       "    </tr>\n",
       "    <tr>\n",
       "      <th>208</th>\n",
       "      <td>1 de enero de 1972</td>\n",
       "      <td>34408338.0</td>\n",
       "    </tr>\n",
       "    <tr>\n",
       "      <th>210</th>\n",
       "      <td>1 de julio de 1971</td>\n",
       "      <td>34216856.0</td>\n",
       "    </tr>\n",
       "  </tbody>\n",
       "</table>\n",
       "</div>"
      ],
      "text/plain": [
       "                   Year  Total_population\n",
       "202  1 de julio de 1973        34980317.0\n",
       "204  1 de enero de 1973        34800600.0\n",
       "206  1 de julio de 1972        34595886.0\n",
       "208  1 de enero de 1972        34408338.0\n",
       "210  1 de julio de 1971        34216856.0"
      ]
     },
     "execution_count": 29,
     "metadata": {},
     "output_type": "execute_result"
    }
   ],
   "source": [
    "imported_data_clean.head()\n",
    "imported_data_clean.tail()"
   ]
  },
  {
   "cell_type": "markdown",
   "id": "d84a3206",
   "metadata": {},
   "source": [
    "### 2.1 Creating a Flag using str.contrains() function "
   ]
  },
  {
   "cell_type": "markdown",
   "id": "388a876f",
   "metadata": {},
   "source": [
    "- This is an example on how str.contains() function works"
   ]
  },
  {
   "cell_type": "code",
   "execution_count": 31,
   "id": "85f3de9b",
   "metadata": {},
   "outputs": [
    {
     "data": {
      "application/vnd.microsoft.datawrangler.viewer.v0+json": {
       "columns": [
        {
         "name": "index",
         "rawType": "int64",
         "type": "integer"
        },
        {
         "name": "Year",
         "rawType": "object",
         "type": "string"
        },
        {
         "name": "Total_population",
         "rawType": "float64",
         "type": "float"
        }
       ],
       "ref": "09358e4f-d25c-495b-a7a1-0e7b84b98453",
       "rows": [
        [
         "0",
         "1 de enero de 2024",
         "48619695.0"
        ],
        [
         "1",
         "1 de octubre de 2023",
         "48486865.0"
        ],
        [
         "2",
         "1 de julio de 2023",
         "48320520.0"
        ],
        [
         "3",
         "1 de abril de 2023",
         "48205962.0"
        ],
        [
         "4",
         "1 de enero de 2023",
         "48085361.0"
        ]
       ],
       "shape": {
        "columns": 2,
        "rows": 5
       }
      },
      "text/html": [
       "<div>\n",
       "<style scoped>\n",
       "    .dataframe tbody tr th:only-of-type {\n",
       "        vertical-align: middle;\n",
       "    }\n",
       "\n",
       "    .dataframe tbody tr th {\n",
       "        vertical-align: top;\n",
       "    }\n",
       "\n",
       "    .dataframe thead th {\n",
       "        text-align: right;\n",
       "    }\n",
       "</style>\n",
       "<table border=\"1\" class=\"dataframe\">\n",
       "  <thead>\n",
       "    <tr style=\"text-align: right;\">\n",
       "      <th></th>\n",
       "      <th>Year</th>\n",
       "      <th>Total_population</th>\n",
       "    </tr>\n",
       "  </thead>\n",
       "  <tbody>\n",
       "    <tr>\n",
       "      <th>0</th>\n",
       "      <td>1 de enero de 2024</td>\n",
       "      <td>48619695.0</td>\n",
       "    </tr>\n",
       "    <tr>\n",
       "      <th>1</th>\n",
       "      <td>1 de octubre de 2023</td>\n",
       "      <td>48486865.0</td>\n",
       "    </tr>\n",
       "    <tr>\n",
       "      <th>2</th>\n",
       "      <td>1 de julio de 2023</td>\n",
       "      <td>48320520.0</td>\n",
       "    </tr>\n",
       "    <tr>\n",
       "      <th>3</th>\n",
       "      <td>1 de abril de 2023</td>\n",
       "      <td>48205962.0</td>\n",
       "    </tr>\n",
       "    <tr>\n",
       "      <th>4</th>\n",
       "      <td>1 de enero de 2023</td>\n",
       "      <td>48085361.0</td>\n",
       "    </tr>\n",
       "  </tbody>\n",
       "</table>\n",
       "</div>"
      ],
      "text/plain": [
       "                   Year  Total_population\n",
       "0    1 de enero de 2024        48619695.0\n",
       "1  1 de octubre de 2023        48486865.0\n",
       "2    1 de julio de 2023        48320520.0\n",
       "3    1 de abril de 2023        48205962.0\n",
       "4    1 de enero de 2023        48085361.0"
      ]
     },
     "execution_count": 31,
     "metadata": {},
     "output_type": "execute_result"
    }
   ],
   "source": [
    "imported_data_clean_flag = imported_data_clean.copy()\n",
    "imported_data_clean_flag.head()"
   ]
  },
  {
   "cell_type": "markdown",
   "id": "1e5d4808",
   "metadata": {},
   "source": [
    "- This code below creates a new collumn called \"Jan_Flag\" that contains value \"Y\" for rows including \"Enero\" word in the \"Year\" column."
   ]
  },
  {
   "cell_type": "code",
   "execution_count": 33,
   "id": "a93f8897",
   "metadata": {},
   "outputs": [],
   "source": [
    "imported_data_clean_flag.loc[imported_data_clean_flag['Year'].str.contains('enero',case = False),'Jan_flag'] = 'Y'"
   ]
  },
  {
   "cell_type": "markdown",
   "id": "9c86a446",
   "metadata": {},
   "source": [
    "We can see how the new 'Jan_flag' column has been created with 'Y' flag in \"imported_data_clean\" dataframe:"
   ]
  },
  {
   "cell_type": "code",
   "execution_count": 34,
   "id": "57a95997",
   "metadata": {},
   "outputs": [
    {
     "data": {
      "application/vnd.microsoft.datawrangler.viewer.v0+json": {
       "columns": [
        {
         "name": "index",
         "rawType": "int64",
         "type": "integer"
        },
        {
         "name": "Year",
         "rawType": "object",
         "type": "string"
        },
        {
         "name": "Total_population",
         "rawType": "float64",
         "type": "float"
        },
        {
         "name": "Jan_flag",
         "rawType": "object",
         "type": "unknown"
        }
       ],
       "ref": "d0e2a7fc-1079-4fe5-b28a-1365eaf3bfc4",
       "rows": [
        [
         "0",
         "1 de enero de 2024",
         "48619695.0",
         "Y"
        ],
        [
         "1",
         "1 de octubre de 2023",
         "48486865.0",
         null
        ],
        [
         "2",
         "1 de julio de 2023",
         "48320520.0",
         null
        ],
        [
         "3",
         "1 de abril de 2023",
         "48205962.0",
         null
        ],
        [
         "4",
         "1 de enero de 2023",
         "48085361.0",
         "Y"
        ]
       ],
       "shape": {
        "columns": 3,
        "rows": 5
       }
      },
      "text/html": [
       "<div>\n",
       "<style scoped>\n",
       "    .dataframe tbody tr th:only-of-type {\n",
       "        vertical-align: middle;\n",
       "    }\n",
       "\n",
       "    .dataframe tbody tr th {\n",
       "        vertical-align: top;\n",
       "    }\n",
       "\n",
       "    .dataframe thead th {\n",
       "        text-align: right;\n",
       "    }\n",
       "</style>\n",
       "<table border=\"1\" class=\"dataframe\">\n",
       "  <thead>\n",
       "    <tr style=\"text-align: right;\">\n",
       "      <th></th>\n",
       "      <th>Year</th>\n",
       "      <th>Total_population</th>\n",
       "      <th>Jan_flag</th>\n",
       "    </tr>\n",
       "  </thead>\n",
       "  <tbody>\n",
       "    <tr>\n",
       "      <th>0</th>\n",
       "      <td>1 de enero de 2024</td>\n",
       "      <td>48619695.0</td>\n",
       "      <td>Y</td>\n",
       "    </tr>\n",
       "    <tr>\n",
       "      <th>1</th>\n",
       "      <td>1 de octubre de 2023</td>\n",
       "      <td>48486865.0</td>\n",
       "      <td>NaN</td>\n",
       "    </tr>\n",
       "    <tr>\n",
       "      <th>2</th>\n",
       "      <td>1 de julio de 2023</td>\n",
       "      <td>48320520.0</td>\n",
       "      <td>NaN</td>\n",
       "    </tr>\n",
       "    <tr>\n",
       "      <th>3</th>\n",
       "      <td>1 de abril de 2023</td>\n",
       "      <td>48205962.0</td>\n",
       "      <td>NaN</td>\n",
       "    </tr>\n",
       "    <tr>\n",
       "      <th>4</th>\n",
       "      <td>1 de enero de 2023</td>\n",
       "      <td>48085361.0</td>\n",
       "      <td>Y</td>\n",
       "    </tr>\n",
       "  </tbody>\n",
       "</table>\n",
       "</div>"
      ],
      "text/plain": [
       "                   Year  Total_population Jan_flag\n",
       "0    1 de enero de 2024        48619695.0        Y\n",
       "1  1 de octubre de 2023        48486865.0      NaN\n",
       "2    1 de julio de 2023        48320520.0      NaN\n",
       "3    1 de abril de 2023        48205962.0      NaN\n",
       "4    1 de enero de 2023        48085361.0        Y"
      ]
     },
     "execution_count": 34,
     "metadata": {},
     "output_type": "execute_result"
    }
   ],
   "source": [
    "imported_data_clean_flag.head()"
   ]
  },
  {
   "cell_type": "markdown",
   "id": "b84f0e4d",
   "metadata": {},
   "source": [
    "### 2.2 Then we can subset rows with 'Y' Flag in them "
   ]
  },
  {
   "cell_type": "markdown",
   "id": "d2081e6d",
   "metadata": {},
   "source": [
    "From the imported_population_clean_flag dataframe we will keep just records with Y values in Jan_flag column:"
   ]
  },
  {
   "cell_type": "code",
   "execution_count": 35,
   "id": "fba3f3f5",
   "metadata": {},
   "outputs": [
    {
     "data": {
      "application/vnd.microsoft.datawrangler.viewer.v0+json": {
       "columns": [
        {
         "name": "index",
         "rawType": "int64",
         "type": "integer"
        },
        {
         "name": "Year",
         "rawType": "object",
         "type": "string"
        },
        {
         "name": "Total_population",
         "rawType": "float64",
         "type": "float"
        },
        {
         "name": "Jan_flag",
         "rawType": "object",
         "type": "string"
        }
       ],
       "ref": "59d2c48f-66d1-4e6a-a89e-9582ec577cb4",
       "rows": [
        [
         "192",
         "1 de enero de 1976",
         "35946425.0",
         "Y"
        ],
        [
         "196",
         "1 de enero de 1975",
         "35569375.0",
         "Y"
        ],
        [
         "200",
         "1 de enero de 1974",
         "35177294.0",
         "Y"
        ],
        [
         "204",
         "1 de enero de 1973",
         "34800600.0",
         "Y"
        ],
        [
         "208",
         "1 de enero de 1972",
         "34408338.0",
         "Y"
        ]
       ],
       "shape": {
        "columns": 3,
        "rows": 5
       }
      },
      "text/html": [
       "<div>\n",
       "<style scoped>\n",
       "    .dataframe tbody tr th:only-of-type {\n",
       "        vertical-align: middle;\n",
       "    }\n",
       "\n",
       "    .dataframe tbody tr th {\n",
       "        vertical-align: top;\n",
       "    }\n",
       "\n",
       "    .dataframe thead th {\n",
       "        text-align: right;\n",
       "    }\n",
       "</style>\n",
       "<table border=\"1\" class=\"dataframe\">\n",
       "  <thead>\n",
       "    <tr style=\"text-align: right;\">\n",
       "      <th></th>\n",
       "      <th>Year</th>\n",
       "      <th>Total_population</th>\n",
       "      <th>Jan_flag</th>\n",
       "    </tr>\n",
       "  </thead>\n",
       "  <tbody>\n",
       "    <tr>\n",
       "      <th>192</th>\n",
       "      <td>1 de enero de 1976</td>\n",
       "      <td>35946425.0</td>\n",
       "      <td>Y</td>\n",
       "    </tr>\n",
       "    <tr>\n",
       "      <th>196</th>\n",
       "      <td>1 de enero de 1975</td>\n",
       "      <td>35569375.0</td>\n",
       "      <td>Y</td>\n",
       "    </tr>\n",
       "    <tr>\n",
       "      <th>200</th>\n",
       "      <td>1 de enero de 1974</td>\n",
       "      <td>35177294.0</td>\n",
       "      <td>Y</td>\n",
       "    </tr>\n",
       "    <tr>\n",
       "      <th>204</th>\n",
       "      <td>1 de enero de 1973</td>\n",
       "      <td>34800600.0</td>\n",
       "      <td>Y</td>\n",
       "    </tr>\n",
       "    <tr>\n",
       "      <th>208</th>\n",
       "      <td>1 de enero de 1972</td>\n",
       "      <td>34408338.0</td>\n",
       "      <td>Y</td>\n",
       "    </tr>\n",
       "  </tbody>\n",
       "</table>\n",
       "</div>"
      ],
      "text/plain": [
       "                   Year  Total_population Jan_flag\n",
       "192  1 de enero de 1976        35946425.0        Y\n",
       "196  1 de enero de 1975        35569375.0        Y\n",
       "200  1 de enero de 1974        35177294.0        Y\n",
       "204  1 de enero de 1973        34800600.0        Y\n",
       "208  1 de enero de 1972        34408338.0        Y"
      ]
     },
     "execution_count": 35,
     "metadata": {},
     "output_type": "execute_result"
    }
   ],
   "source": [
    "final_population_data = imported_data_clean_flag[imported_data_clean_flag.Jan_flag == 'Y']\n",
    "final_population_data.head()\n",
    "final_population_data.tail()\n"
   ]
  },
  {
   "cell_type": "code",
   "execution_count": 36,
   "id": "5d80b280",
   "metadata": {},
   "outputs": [
    {
     "name": "stdout",
     "output_type": "stream",
     "text": [
      "Number of rows:53\n"
     ]
    }
   ],
   "source": [
    "df_rows = final_population_data\n",
    "num_rows_final_population_data = len(df_rows.index)\n",
    "print(f'Number of rows:{num_rows_final_population_data}')"
   ]
  },
  {
   "cell_type": "markdown",
   "id": "e9f67e39",
   "metadata": {},
   "source": [
    "- Another approach to subset rows suggested by Copilot"
   ]
  },
  {
   "cell_type": "code",
   "execution_count": 38,
   "id": "29613f81",
   "metadata": {},
   "outputs": [
    {
     "data": {
      "application/vnd.microsoft.datawrangler.viewer.v0+json": {
       "columns": [
        {
         "name": "index",
         "rawType": "int64",
         "type": "integer"
        },
        {
         "name": "Year",
         "rawType": "object",
         "type": "string"
        },
        {
         "name": "Total_population",
         "rawType": "float64",
         "type": "float"
        }
       ],
       "ref": "a95e2ee7-137b-48b0-8023-4f247f2d1d89",
       "rows": [
        [
         "0",
         "1 de enero de 2024",
         "48619695.0"
        ],
        [
         "1",
         "1 de octubre de 2023",
         "48486865.0"
        ],
        [
         "2",
         "1 de julio de 2023",
         "48320520.0"
        ],
        [
         "3",
         "1 de abril de 2023",
         "48205962.0"
        ],
        [
         "4",
         "1 de enero de 2023",
         "48085361.0"
        ]
       ],
       "shape": {
        "columns": 2,
        "rows": 5
       }
      },
      "text/html": [
       "<div>\n",
       "<style scoped>\n",
       "    .dataframe tbody tr th:only-of-type {\n",
       "        vertical-align: middle;\n",
       "    }\n",
       "\n",
       "    .dataframe tbody tr th {\n",
       "        vertical-align: top;\n",
       "    }\n",
       "\n",
       "    .dataframe thead th {\n",
       "        text-align: right;\n",
       "    }\n",
       "</style>\n",
       "<table border=\"1\" class=\"dataframe\">\n",
       "  <thead>\n",
       "    <tr style=\"text-align: right;\">\n",
       "      <th></th>\n",
       "      <th>Year</th>\n",
       "      <th>Total_population</th>\n",
       "    </tr>\n",
       "  </thead>\n",
       "  <tbody>\n",
       "    <tr>\n",
       "      <th>0</th>\n",
       "      <td>1 de enero de 2024</td>\n",
       "      <td>48619695.0</td>\n",
       "    </tr>\n",
       "    <tr>\n",
       "      <th>1</th>\n",
       "      <td>1 de octubre de 2023</td>\n",
       "      <td>48486865.0</td>\n",
       "    </tr>\n",
       "    <tr>\n",
       "      <th>2</th>\n",
       "      <td>1 de julio de 2023</td>\n",
       "      <td>48320520.0</td>\n",
       "    </tr>\n",
       "    <tr>\n",
       "      <th>3</th>\n",
       "      <td>1 de abril de 2023</td>\n",
       "      <td>48205962.0</td>\n",
       "    </tr>\n",
       "    <tr>\n",
       "      <th>4</th>\n",
       "      <td>1 de enero de 2023</td>\n",
       "      <td>48085361.0</td>\n",
       "    </tr>\n",
       "  </tbody>\n",
       "</table>\n",
       "</div>"
      ],
      "text/plain": [
       "                   Year  Total_population\n",
       "0    1 de enero de 2024        48619695.0\n",
       "1  1 de octubre de 2023        48486865.0\n",
       "2    1 de julio de 2023        48320520.0\n",
       "3    1 de abril de 2023        48205962.0\n",
       "4    1 de enero de 2023        48085361.0"
      ]
     },
     "execution_count": 38,
     "metadata": {},
     "output_type": "execute_result"
    }
   ],
   "source": [
    "imported_data_clean.head()"
   ]
  },
  {
   "cell_type": "code",
   "execution_count": 42,
   "id": "be802336",
   "metadata": {},
   "outputs": [],
   "source": [
    "imported_data_clean_flag_test = imported_data_clean.copy()"
   ]
  },
  {
   "cell_type": "code",
   "execution_count": 43,
   "id": "9e87f9e4",
   "metadata": {},
   "outputs": [
    {
     "data": {
      "application/vnd.microsoft.datawrangler.viewer.v0+json": {
       "columns": [
        {
         "name": "index",
         "rawType": "int64",
         "type": "integer"
        },
        {
         "name": "Year",
         "rawType": "object",
         "type": "string"
        },
        {
         "name": "Total_population",
         "rawType": "float64",
         "type": "float"
        }
       ],
       "ref": "04871e68-ca35-46de-95e3-81446a9ca346",
       "rows": [
        [
         "0",
         "1 de enero de 2024",
         "48619695.0"
        ],
        [
         "4",
         "1 de enero de 2023",
         "48085361.0"
        ],
        [
         "8",
         "1 de enero de 2022",
         "47486727.0"
        ],
        [
         "12",
         "1 de enero de 2021",
         "47400798.0"
        ],
        [
         "16",
         "1 de enero de 2020",
         "47318050.0"
        ]
       ],
       "shape": {
        "columns": 2,
        "rows": 5
       }
      },
      "text/html": [
       "<div>\n",
       "<style scoped>\n",
       "    .dataframe tbody tr th:only-of-type {\n",
       "        vertical-align: middle;\n",
       "    }\n",
       "\n",
       "    .dataframe tbody tr th {\n",
       "        vertical-align: top;\n",
       "    }\n",
       "\n",
       "    .dataframe thead th {\n",
       "        text-align: right;\n",
       "    }\n",
       "</style>\n",
       "<table border=\"1\" class=\"dataframe\">\n",
       "  <thead>\n",
       "    <tr style=\"text-align: right;\">\n",
       "      <th></th>\n",
       "      <th>Year</th>\n",
       "      <th>Total_population</th>\n",
       "    </tr>\n",
       "  </thead>\n",
       "  <tbody>\n",
       "    <tr>\n",
       "      <th>0</th>\n",
       "      <td>1 de enero de 2024</td>\n",
       "      <td>48619695.0</td>\n",
       "    </tr>\n",
       "    <tr>\n",
       "      <th>4</th>\n",
       "      <td>1 de enero de 2023</td>\n",
       "      <td>48085361.0</td>\n",
       "    </tr>\n",
       "    <tr>\n",
       "      <th>8</th>\n",
       "      <td>1 de enero de 2022</td>\n",
       "      <td>47486727.0</td>\n",
       "    </tr>\n",
       "    <tr>\n",
       "      <th>12</th>\n",
       "      <td>1 de enero de 2021</td>\n",
       "      <td>47400798.0</td>\n",
       "    </tr>\n",
       "    <tr>\n",
       "      <th>16</th>\n",
       "      <td>1 de enero de 2020</td>\n",
       "      <td>47318050.0</td>\n",
       "    </tr>\n",
       "  </tbody>\n",
       "</table>\n",
       "</div>"
      ],
      "text/plain": [
       "                  Year  Total_population\n",
       "0   1 de enero de 2024        48619695.0\n",
       "4   1 de enero de 2023        48085361.0\n",
       "8   1 de enero de 2022        47486727.0\n",
       "12  1 de enero de 2021        47400798.0\n",
       "16  1 de enero de 2020        47318050.0"
      ]
     },
     "execution_count": 43,
     "metadata": {},
     "output_type": "execute_result"
    }
   ],
   "source": [
    "final_population_data_copilot = imported_data_clean_flag_test.loc[imported_data_clean_flag_test['Year'].str.contains('enero', case = False)]\n",
    "final_population_data_copilot.head()"
   ]
  },
  {
   "cell_type": "markdown",
   "id": "0cb8c6dc",
   "metadata": {},
   "source": [
    "## 3. Finally export DataFrame including just January figures data as .csv file"
   ]
  },
  {
   "cell_type": "markdown",
   "id": "1adb3774",
   "metadata": {},
   "source": [
    "- In the previous step, we have created this \"final_population_data\" where we subset just January data: "
   ]
  },
  {
   "cell_type": "code",
   "execution_count": 44,
   "id": "9df2ce12",
   "metadata": {},
   "outputs": [
    {
     "data": {
      "application/vnd.microsoft.datawrangler.viewer.v0+json": {
       "columns": [
        {
         "name": "index",
         "rawType": "int64",
         "type": "integer"
        },
        {
         "name": "Year",
         "rawType": "object",
         "type": "string"
        },
        {
         "name": "Total_population",
         "rawType": "float64",
         "type": "float"
        },
        {
         "name": "Jan_flag",
         "rawType": "object",
         "type": "string"
        }
       ],
       "ref": "c334e218-8b28-4fe1-8af9-4ebbdf7aef44",
       "rows": [
        [
         "0",
         "1 de enero de 2024",
         "48619695.0",
         "Y"
        ],
        [
         "4",
         "1 de enero de 2023",
         "48085361.0",
         "Y"
        ],
        [
         "8",
         "1 de enero de 2022",
         "47486727.0",
         "Y"
        ],
        [
         "12",
         "1 de enero de 2021",
         "47400798.0",
         "Y"
        ],
        [
         "16",
         "1 de enero de 2020",
         "47318050.0",
         "Y"
        ]
       ],
       "shape": {
        "columns": 3,
        "rows": 5
       }
      },
      "text/html": [
       "<div>\n",
       "<style scoped>\n",
       "    .dataframe tbody tr th:only-of-type {\n",
       "        vertical-align: middle;\n",
       "    }\n",
       "\n",
       "    .dataframe tbody tr th {\n",
       "        vertical-align: top;\n",
       "    }\n",
       "\n",
       "    .dataframe thead th {\n",
       "        text-align: right;\n",
       "    }\n",
       "</style>\n",
       "<table border=\"1\" class=\"dataframe\">\n",
       "  <thead>\n",
       "    <tr style=\"text-align: right;\">\n",
       "      <th></th>\n",
       "      <th>Year</th>\n",
       "      <th>Total_population</th>\n",
       "      <th>Jan_flag</th>\n",
       "    </tr>\n",
       "  </thead>\n",
       "  <tbody>\n",
       "    <tr>\n",
       "      <th>0</th>\n",
       "      <td>1 de enero de 2024</td>\n",
       "      <td>48619695.0</td>\n",
       "      <td>Y</td>\n",
       "    </tr>\n",
       "    <tr>\n",
       "      <th>4</th>\n",
       "      <td>1 de enero de 2023</td>\n",
       "      <td>48085361.0</td>\n",
       "      <td>Y</td>\n",
       "    </tr>\n",
       "    <tr>\n",
       "      <th>8</th>\n",
       "      <td>1 de enero de 2022</td>\n",
       "      <td>47486727.0</td>\n",
       "      <td>Y</td>\n",
       "    </tr>\n",
       "    <tr>\n",
       "      <th>12</th>\n",
       "      <td>1 de enero de 2021</td>\n",
       "      <td>47400798.0</td>\n",
       "      <td>Y</td>\n",
       "    </tr>\n",
       "    <tr>\n",
       "      <th>16</th>\n",
       "      <td>1 de enero de 2020</td>\n",
       "      <td>47318050.0</td>\n",
       "      <td>Y</td>\n",
       "    </tr>\n",
       "  </tbody>\n",
       "</table>\n",
       "</div>"
      ],
      "text/plain": [
       "                  Year  Total_population Jan_flag\n",
       "0   1 de enero de 2024        48619695.0        Y\n",
       "4   1 de enero de 2023        48085361.0        Y\n",
       "8   1 de enero de 2022        47486727.0        Y\n",
       "12  1 de enero de 2021        47400798.0        Y\n",
       "16  1 de enero de 2020        47318050.0        Y"
      ]
     },
     "execution_count": 44,
     "metadata": {},
     "output_type": "execute_result"
    }
   ],
   "source": [
    "final_population_data.head()"
   ]
  },
  {
   "cell_type": "markdown",
   "id": "8e113581",
   "metadata": {},
   "source": [
    "- First we will have to create a new folder called \"data_cleansed\" to store this cleansed output data."
   ]
  },
  {
   "cell_type": "code",
   "execution_count": 45,
   "id": "18c6da41",
   "metadata": {},
   "outputs": [],
   "source": [
    "if not os.path.exists('data_cleansed'):\n",
    "    os.makedirs('data_cleansed')"
   ]
  },
  {
   "cell_type": "markdown",
   "id": "b975fc45",
   "metadata": {},
   "source": [
    "The above code has created a new folder in our WD to store formatted data"
   ]
  },
  {
   "cell_type": "markdown",
   "id": "7b919d22",
   "metadata": {},
   "source": [
    "- Then subset columns from fain_population_data\" dataset, keeping just \"year\" and \"Total_population\" columns: "
   ]
  },
  {
   "cell_type": "code",
   "execution_count": 46,
   "id": "ec49e093",
   "metadata": {},
   "outputs": [
    {
     "data": {
      "application/vnd.microsoft.datawrangler.viewer.v0+json": {
       "columns": [
        {
         "name": "index",
         "rawType": "int64",
         "type": "integer"
        },
        {
         "name": "Year",
         "rawType": "object",
         "type": "string"
        },
        {
         "name": "Total_population",
         "rawType": "float64",
         "type": "float"
        },
        {
         "name": "Jan_flag",
         "rawType": "object",
         "type": "string"
        }
       ],
       "ref": "828b7d91-c1ff-4d33-b210-e1096d653aa0",
       "rows": [
        [
         "0",
         "1 de enero de 2024",
         "48619695.0",
         "Y"
        ],
        [
         "4",
         "1 de enero de 2023",
         "48085361.0",
         "Y"
        ],
        [
         "8",
         "1 de enero de 2022",
         "47486727.0",
         "Y"
        ],
        [
         "12",
         "1 de enero de 2021",
         "47400798.0",
         "Y"
        ],
        [
         "16",
         "1 de enero de 2020",
         "47318050.0",
         "Y"
        ]
       ],
       "shape": {
        "columns": 3,
        "rows": 5
       }
      },
      "text/html": [
       "<div>\n",
       "<style scoped>\n",
       "    .dataframe tbody tr th:only-of-type {\n",
       "        vertical-align: middle;\n",
       "    }\n",
       "\n",
       "    .dataframe tbody tr th {\n",
       "        vertical-align: top;\n",
       "    }\n",
       "\n",
       "    .dataframe thead th {\n",
       "        text-align: right;\n",
       "    }\n",
       "</style>\n",
       "<table border=\"1\" class=\"dataframe\">\n",
       "  <thead>\n",
       "    <tr style=\"text-align: right;\">\n",
       "      <th></th>\n",
       "      <th>Year</th>\n",
       "      <th>Total_population</th>\n",
       "      <th>Jan_flag</th>\n",
       "    </tr>\n",
       "  </thead>\n",
       "  <tbody>\n",
       "    <tr>\n",
       "      <th>0</th>\n",
       "      <td>1 de enero de 2024</td>\n",
       "      <td>48619695.0</td>\n",
       "      <td>Y</td>\n",
       "    </tr>\n",
       "    <tr>\n",
       "      <th>4</th>\n",
       "      <td>1 de enero de 2023</td>\n",
       "      <td>48085361.0</td>\n",
       "      <td>Y</td>\n",
       "    </tr>\n",
       "    <tr>\n",
       "      <th>8</th>\n",
       "      <td>1 de enero de 2022</td>\n",
       "      <td>47486727.0</td>\n",
       "      <td>Y</td>\n",
       "    </tr>\n",
       "    <tr>\n",
       "      <th>12</th>\n",
       "      <td>1 de enero de 2021</td>\n",
       "      <td>47400798.0</td>\n",
       "      <td>Y</td>\n",
       "    </tr>\n",
       "    <tr>\n",
       "      <th>16</th>\n",
       "      <td>1 de enero de 2020</td>\n",
       "      <td>47318050.0</td>\n",
       "      <td>Y</td>\n",
       "    </tr>\n",
       "  </tbody>\n",
       "</table>\n",
       "</div>"
      ],
      "text/plain": [
       "                  Year  Total_population Jan_flag\n",
       "0   1 de enero de 2024        48619695.0        Y\n",
       "4   1 de enero de 2023        48085361.0        Y\n",
       "8   1 de enero de 2022        47486727.0        Y\n",
       "12  1 de enero de 2021        47400798.0        Y\n",
       "16  1 de enero de 2020        47318050.0        Y"
      ]
     },
     "execution_count": 46,
     "metadata": {},
     "output_type": "execute_result"
    }
   ],
   "source": [
    "final_population_data.head()"
   ]
  },
  {
   "cell_type": "code",
   "execution_count": 47,
   "id": "f8470b8d",
   "metadata": {},
   "outputs": [
    {
     "data": {
      "application/vnd.microsoft.datawrangler.viewer.v0+json": {
       "columns": [
        {
         "name": "index",
         "rawType": "int64",
         "type": "integer"
        },
        {
         "name": "Year",
         "rawType": "object",
         "type": "string"
        },
        {
         "name": "Total_population",
         "rawType": "float64",
         "type": "float"
        }
       ],
       "ref": "4e8e75ba-6ca1-45a9-aff7-9fd32a463f29",
       "rows": [
        [
         "0",
         "1 de enero de 2024",
         "48619695.0"
        ],
        [
         "4",
         "1 de enero de 2023",
         "48085361.0"
        ],
        [
         "8",
         "1 de enero de 2022",
         "47486727.0"
        ],
        [
         "12",
         "1 de enero de 2021",
         "47400798.0"
        ],
        [
         "16",
         "1 de enero de 2020",
         "47318050.0"
        ]
       ],
       "shape": {
        "columns": 2,
        "rows": 5
       }
      },
      "text/html": [
       "<div>\n",
       "<style scoped>\n",
       "    .dataframe tbody tr th:only-of-type {\n",
       "        vertical-align: middle;\n",
       "    }\n",
       "\n",
       "    .dataframe tbody tr th {\n",
       "        vertical-align: top;\n",
       "    }\n",
       "\n",
       "    .dataframe thead th {\n",
       "        text-align: right;\n",
       "    }\n",
       "</style>\n",
       "<table border=\"1\" class=\"dataframe\">\n",
       "  <thead>\n",
       "    <tr style=\"text-align: right;\">\n",
       "      <th></th>\n",
       "      <th>Year</th>\n",
       "      <th>Total_population</th>\n",
       "    </tr>\n",
       "  </thead>\n",
       "  <tbody>\n",
       "    <tr>\n",
       "      <th>0</th>\n",
       "      <td>1 de enero de 2024</td>\n",
       "      <td>48619695.0</td>\n",
       "    </tr>\n",
       "    <tr>\n",
       "      <th>4</th>\n",
       "      <td>1 de enero de 2023</td>\n",
       "      <td>48085361.0</td>\n",
       "    </tr>\n",
       "    <tr>\n",
       "      <th>8</th>\n",
       "      <td>1 de enero de 2022</td>\n",
       "      <td>47486727.0</td>\n",
       "    </tr>\n",
       "    <tr>\n",
       "      <th>12</th>\n",
       "      <td>1 de enero de 2021</td>\n",
       "      <td>47400798.0</td>\n",
       "    </tr>\n",
       "    <tr>\n",
       "      <th>16</th>\n",
       "      <td>1 de enero de 2020</td>\n",
       "      <td>47318050.0</td>\n",
       "    </tr>\n",
       "  </tbody>\n",
       "</table>\n",
       "</div>"
      ],
      "text/plain": [
       "                  Year  Total_population\n",
       "0   1 de enero de 2024        48619695.0\n",
       "4   1 de enero de 2023        48085361.0\n",
       "8   1 de enero de 2022        47486727.0\n",
       "12  1 de enero de 2021        47400798.0\n",
       "16  1 de enero de 2020        47318050.0"
      ]
     },
     "execution_count": 47,
     "metadata": {},
     "output_type": "execute_result"
    }
   ],
   "source": [
    "final_population_data_output = final_population_data[['Year','Total_population']]\n",
    "final_population_data_output.head()"
   ]
  },
  {
   "cell_type": "markdown",
   "id": "251081ea",
   "metadata": {},
   "source": [
    "- Finally save this \"final_population_data_output\" dataframe to \"data_cleansed\" folder as .csv file. Include index = False to remove index colum when exporting the final dataset as a .csv file."
   ]
  },
  {
   "cell_type": "code",
   "execution_count": 48,
   "id": "7bcc5b36",
   "metadata": {},
   "outputs": [],
   "source": [
    "final_population_data_output.to_csv(os.path.join('data_cleansed','final_population_data_cleansed.csv'),index = False)"
   ]
  }
 ],
 "metadata": {
  "kernelspec": {
   "display_name": ".venv",
   "language": "python",
   "name": "python3"
  },
  "language_info": {
   "codemirror_mode": {
    "name": "ipython",
    "version": 3
   },
   "file_extension": ".py",
   "mimetype": "text/x-python",
   "name": "python",
   "nbconvert_exporter": "python",
   "pygments_lexer": "ipython3",
   "version": "3.12.3"
  }
 },
 "nbformat": 4,
 "nbformat_minor": 5
}
